{
 "cells": [
  {
   "cell_type": "code",
   "execution_count": 1,
   "id": "99fc7fbd-91ff-4792-ab21-9c88760018c7",
   "metadata": {},
   "outputs": [],
   "source": [
    "import torch\n",
    "from torch import nn\n",
    "import numpy as np"
   ]
  },
  {
   "cell_type": "code",
   "execution_count": 2,
   "id": "eb058ac5-e5c9-4059-9635-090df8ef9773",
   "metadata": {},
   "outputs": [],
   "source": [
    "import sys\n",
    "sys.path.append(\"..\")\n",
    "import gaussian\n",
    "import qumode\n",
    "from qumode import QumodeCircuit"
   ]
  },
  {
   "cell_type": "markdown",
   "id": "264c5468-be27-4368-bf40-3ee0e17697e3",
   "metadata": {},
   "source": [
    "## Clements architecture"
   ]
  },
  {
   "cell_type": "code",
   "execution_count": 3,
   "id": "bfc7c307-d890-4e3c-a725-164e01642452",
   "metadata": {},
   "outputs": [],
   "source": [
    "class Clements(QumodeCircuit):\n",
    "    def __init__(self, n_modes, r=None, theta=None, phi=None, backend='Gaussian'):\n",
    "        super().__init__(n_modes, backend)\n",
    "        self.n_modes = n_modes\n",
    "        self.backend = backend\n",
    "        self.r = r\n",
    "        self.theta = theta\n",
    "        self.phi = phi\n",
    "        self.cir()\n",
    "    \n",
    "    def cir(self):\n",
    "        if self.n_modes == 1:\n",
    "            if self.phi != None:\n",
    "                super().phase_shift(phi=self.phi[0], mode=0)\n",
    "            else:\n",
    "                super().phase_shift(mode=0)\n",
    "                \n",
    "        else:\n",
    "            m = 0\n",
    "            modes = range(self.n_modes)\n",
    "            for i in modes:\n",
    "                for k, (m1, m2) in enumerate(zip(modes[:-1], modes[1:])):\n",
    "                    if (i + k) % 2 != 1:\n",
    "                        if self.r != None and self.theta != None:\n",
    "                            super().beam_split(r=self.r[m], phi=self.theta[m], mode=[m1, m2])\n",
    "                        else:\n",
    "                            super().beam_split(mode=[m1, m2])\n",
    "                        m += 1\n",
    "\n",
    "            for i in range(self.n_modes-1):\n",
    "                if self.phi != None:\n",
    "                    super().phase_shift(phi=self.phi[i], mode=modes[i])\n",
    "                else:\n",
    "                    super().phase_shift(mode=modes[i])"
   ]
  },
  {
   "cell_type": "code",
   "execution_count": 13,
   "id": "bc342d9d-054a-44bd-bc0f-ce0da2527f02",
   "metadata": {},
   "outputs": [
    {
     "name": "stdout",
     "output_type": "stream",
     "text": [
      "Initialize a gaussian system in the vaccum state with 3 modes and batch size 1.\n"
     ]
    },
    {
     "data": {
      "text/plain": [
       "[Parameter containing:\n",
       " tensor(1.2531, dtype=torch.float64, requires_grad=True),\n",
       " Parameter containing:\n",
       " tensor(0.0487, dtype=torch.float64, requires_grad=True),\n",
       " Parameter containing:\n",
       " tensor(-0.5720, dtype=torch.float64, requires_grad=True),\n",
       " Parameter containing:\n",
       " tensor(0.3768, dtype=torch.float64, requires_grad=True),\n",
       " Parameter containing:\n",
       " tensor(-0.4843, dtype=torch.float64, requires_grad=True),\n",
       " Parameter containing:\n",
       " tensor(0.7976, dtype=torch.float64, requires_grad=True),\n",
       " Parameter containing:\n",
       " tensor(0.3298, dtype=torch.float64, requires_grad=True),\n",
       " Parameter containing:\n",
       " tensor(0.0073, dtype=torch.float64, requires_grad=True)]"
      ]
     },
     "execution_count": 13,
     "metadata": {},
     "output_type": "execute_result"
    }
   ],
   "source": [
    "n_modes = 3\n",
    "batch_size = 1\n",
    "\n",
    "gbs = Clements(n_modes)\n",
    "\n",
    "gs = qumode.GaussianState(batch_size, n_modes)\n",
    "\n",
    "new_gs = gbs(gs)\n",
    "\n",
    "list(gbs.parameters())"
   ]
  },
  {
   "cell_type": "markdown",
   "id": "db23b3e3-f243-4d2f-9a03-e0c07f4b7c40",
   "metadata": {},
   "source": [
    "## Squeezing layer"
   ]
  },
  {
   "cell_type": "code",
   "execution_count": 4,
   "id": "ed6a8815-7594-4277-a157-bc8347f35cce",
   "metadata": {},
   "outputs": [],
   "source": [
    "class Squeezing_layer(QumodeCircuit):\n",
    "    def __init__(self, n_modes, r=None, phi=None, backend='Gaussian'):\n",
    "        super(Squeezing_layer, self).__init__(n_modes, backend)\n",
    "        self.n_modes = n_modes\n",
    "        self.backend = backend\n",
    "        self.r = r\n",
    "        self.phi = phi\n",
    "        self.cir()\n",
    "    \n",
    "    def cir(self):\n",
    "        for i in range(self.n_modes):\n",
    "            if self.r != None and self.phi != None:\n",
    "                super().squeeze(r=self.r[i], phi=self.phi[i], mode=i)\n",
    "            else:\n",
    "                super().squeeze(mode=i)"
   ]
  },
  {
   "cell_type": "code",
   "execution_count": 5,
   "id": "ec2c1020-bace-449c-b097-212b796a9543",
   "metadata": {},
   "outputs": [
    {
     "name": "stdout",
     "output_type": "stream",
     "text": [
      "Initialize a gaussian system in the vaccum state with 4 modes and batch size 1.\n"
     ]
    },
    {
     "data": {
      "text/plain": [
       "[Parameter containing:\n",
       " tensor(-0.6331, dtype=torch.float64, requires_grad=True),\n",
       " Parameter containing:\n",
       " tensor(0.1706, dtype=torch.float64, requires_grad=True),\n",
       " Parameter containing:\n",
       " tensor(-0.3062, dtype=torch.float64, requires_grad=True),\n",
       " Parameter containing:\n",
       " tensor(0.5767, dtype=torch.float64, requires_grad=True),\n",
       " Parameter containing:\n",
       " tensor(1.2721, dtype=torch.float64, requires_grad=True),\n",
       " Parameter containing:\n",
       " tensor(0.6858, dtype=torch.float64, requires_grad=True),\n",
       " Parameter containing:\n",
       " tensor(0.2750, dtype=torch.float64, requires_grad=True),\n",
       " Parameter containing:\n",
       " tensor(0.2586, dtype=torch.float64, requires_grad=True)]"
      ]
     },
     "execution_count": 5,
     "metadata": {},
     "output_type": "execute_result"
    }
   ],
   "source": [
    "n_modes = 4\n",
    "batch_size = 1\n",
    "\n",
    "sq = Squeezing_layer(4)\n",
    "\n",
    "gs = qumode.GaussianState(batch_size, n_modes)\n",
    "\n",
    "new_gs = sq(gs)\n",
    "\n",
    "list(sq.parameters())"
   ]
  },
  {
   "cell_type": "markdown",
   "id": "8dacdd38-f515-4b87-a015-3c356084228c",
   "metadata": {},
   "source": [
    "## VarGBS"
   ]
  },
  {
   "cell_type": "code",
   "execution_count": 5,
   "id": "a5c721a3-22da-4a45-8071-bc04f9029df1",
   "metadata": {},
   "outputs": [],
   "source": [
    "class VarGBS(nn.Module):\n",
    "    def __init__(self, n_modes, cle_r=None, cle_theta=None, cle_phi=None, s_r=None, s_phi=None, backend='Gaussian'):\n",
    "        super().__init__()\n",
    "        self.n_modes = n_modes\n",
    "        self.backend = backend\n",
    "        # parameters for Clements\n",
    "        self.cle_r = cle_r\n",
    "        self.cle_theta = cle_theta\n",
    "        self.cle_phi = cle_phi\n",
    "        # parameters for Squeezing layer\n",
    "        self.s_r = s_r\n",
    "        self.s_phi = s_phi\n",
    "        \n",
    "        # squeezing layer\n",
    "        self.squeeze = Squeezing_layer(self.n_modes, self.s_r, self.s_phi, backend='Gaussian')\n",
    "        # clements layer utilize a unitary matrix\n",
    "        self.clements = Clements(self.n_modes, self.cle_r, self.cle_theta, self.cle_phi, backend='Gaussian')\n",
    "        #self.cir = self.squeeze + self.clements\n",
    "        \n",
    "    def forward(self, state):\n",
    "        state = self.squeeze(state)\n",
    "        state = self.clements(state)\n",
    "        return state"
   ]
  },
  {
   "cell_type": "code",
   "execution_count": 6,
   "id": "0f3f35ea-3889-4048-95e1-9f42107cef76",
   "metadata": {},
   "outputs": [
    {
     "name": "stdout",
     "output_type": "stream",
     "text": [
      "Initialize a gaussian system in the vaccum state with 4 modes and batch size 1.\n",
      "[Parameter containing:\n",
      "tensor(1.4729, dtype=torch.float64, requires_grad=True), Parameter containing:\n",
      "tensor(0.2618, dtype=torch.float64, requires_grad=True), Parameter containing:\n",
      "tensor(-0.6788, dtype=torch.float64, requires_grad=True), Parameter containing:\n",
      "tensor(0.3760, dtype=torch.float64, requires_grad=True), Parameter containing:\n",
      "tensor(-1.2161, dtype=torch.float64, requires_grad=True), Parameter containing:\n",
      "tensor(0.6318, dtype=torch.float64, requires_grad=True), Parameter containing:\n",
      "tensor(1.4104, dtype=torch.float64, requires_grad=True), Parameter containing:\n",
      "tensor(0.3925, dtype=torch.float64, requires_grad=True), Parameter containing:\n",
      "tensor(0.2035, dtype=torch.float64, requires_grad=True), Parameter containing:\n",
      "tensor(0.1785, dtype=torch.float64, requires_grad=True), Parameter containing:\n",
      "tensor(-0.7888, dtype=torch.float64, requires_grad=True), Parameter containing:\n",
      "tensor(0.4909, dtype=torch.float64, requires_grad=True), Parameter containing:\n",
      "tensor(-0.9755, dtype=torch.float64, requires_grad=True), Parameter containing:\n",
      "tensor(0.1771, dtype=torch.float64, requires_grad=True), Parameter containing:\n",
      "tensor(1.7096, dtype=torch.float64, requires_grad=True), Parameter containing:\n",
      "tensor(0.0925, dtype=torch.float64, requires_grad=True), Parameter containing:\n",
      "tensor(-0.6083, dtype=torch.float64, requires_grad=True), Parameter containing:\n",
      "tensor(0.1202, dtype=torch.float64, requires_grad=True), Parameter containing:\n",
      "tensor(-0.4560, dtype=torch.float64, requires_grad=True), Parameter containing:\n",
      "tensor(0.6982, dtype=torch.float64, requires_grad=True), Parameter containing:\n",
      "tensor(0.3986, dtype=torch.float64, requires_grad=True), Parameter containing:\n",
      "tensor(0.4447, dtype=torch.float64, requires_grad=True), Parameter containing:\n",
      "tensor(0.7089, dtype=torch.float64, requires_grad=True)]\n"
     ]
    }
   ],
   "source": [
    "n_modes = 4\n",
    "batch_size = 1\n",
    "\n",
    "state = qumode.GaussianState(batch_size, n_modes)\n",
    "\n",
    "gbs = VarGBS(n_modes)\n",
    "\n",
    "state = gbs(state)\n",
    "\n",
    "print(list(gbs.parameters()))\n"
   ]
  },
  {
   "cell_type": "code",
   "execution_count": 12,
   "id": "63b57773-d5d8-4587-b7be-1064ff8b6904",
   "metadata": {},
   "outputs": [
    {
     "name": "stdout",
     "output_type": "stream",
     "text": [
      "Initialize a gaussian system in the vaccum state with 3 modes and batch size 1.\n",
      "Step: 1, Loss: tensor([3.2199], dtype=torch.float64, grad_fn=<SubBackward0>)\n",
      "Step: 51, Loss: tensor([47.5564], dtype=torch.float64, grad_fn=<SubBackward0>)\n",
      "Step: 101, Loss: tensor([44.4557], dtype=torch.float64, grad_fn=<SubBackward0>)\n",
      "Step: 151, Loss: tensor([65.4629], dtype=torch.float64, grad_fn=<SubBackward0>)\n",
      "Step: 201, Loss: tensor([49.1048], dtype=torch.float64, grad_fn=<SubBackward0>)\n",
      "Step: 251, Loss: tensor([9.9476], dtype=torch.float64, grad_fn=<SubBackward0>)\n",
      "Step: 301, Loss: tensor([46.2916], dtype=torch.float64, grad_fn=<SubBackward0>)\n",
      "Step: 351, Loss: tensor([10.7493], dtype=torch.float64, grad_fn=<SubBackward0>)\n",
      "Step: 401, Loss: tensor([21.0184], dtype=torch.float64, grad_fn=<SubBackward0>)\n",
      "Step: 451, Loss: tensor([18.4259], dtype=torch.float64, grad_fn=<SubBackward0>)\n"
     ]
    }
   ],
   "source": [
    "n_modes = 3\n",
    "batch_size = 1\n",
    "learning_rate = 0.0001\n",
    "\n",
    "# initialize a gaussian state\n",
    "state = qumode.GaussianState(batch_size, n_modes)\n",
    "\n",
    "# parameters for squeezing layer\n",
    "#s_r = torch.randn(n_modes)\n",
    "s_r = torch.stack([torch.tensor([0.01])]*n_modes)\n",
    "s_phi = torch.zeros(n_modes)\n",
    "\n",
    "# parameters for \n",
    "\n",
    "# gbs network\n",
    "gbs = VarGBS(n_modes, s_r=s_r, s_phi=s_phi)\n",
    "\n",
    "# in order to make gbs.parameters() work\n",
    "state = gbs(state)\n",
    "state.reset(n_modes, batch_size)\n",
    "\n",
    "# optimizer\n",
    "optimizer = torch.optim.Adam(gbs.parameters(), lr=0.01)\n",
    "#print(list(gbs.parameters()))\n",
    "\n",
    "\n",
    "# training\n",
    "n_step = 500\n",
    "for step in range(n_step):\n",
    "    # forward \n",
    "    state = gbs(state)\n",
    "    loss = qumode.diff_photon_number(state, 0, 1)\n",
    "    state.reset(n_modes, batch_size)\n",
    "    #print(loss)\n",
    "    # backward\n",
    "    optimizer.zero_grad()\n",
    "    loss.backward()\n",
    "    optimizer.step()\n",
    "    \n",
    "    if step % 50 == 1:\n",
    "        print(f'Step: {step}, Loss: {loss}')\n",
    "        #print(list(gbs.parameters())[0:2])"
   ]
  },
  {
   "cell_type": "code",
   "execution_count": null,
   "id": "b5aa0ee1-c4e7-41ac-9ba5-2683a3695b4a",
   "metadata": {},
   "outputs": [],
   "source": []
  },
  {
   "cell_type": "code",
   "execution_count": null,
   "id": "a608c356-e94a-491e-9fd7-1723bd2b10f5",
   "metadata": {},
   "outputs": [],
   "source": []
  },
  {
   "cell_type": "code",
   "execution_count": null,
   "id": "49c97480-a0dc-4c1a-8d86-67b595574b54",
   "metadata": {},
   "outputs": [],
   "source": []
  }
 ],
 "metadata": {
  "kernelspec": {
   "display_name": "Python 3 (ipykernel)",
   "language": "python",
   "name": "python3"
  },
  "language_info": {
   "codemirror_mode": {
    "name": "ipython",
    "version": 3
   },
   "file_extension": ".py",
   "mimetype": "text/x-python",
   "name": "python",
   "nbconvert_exporter": "python",
   "pygments_lexer": "ipython3",
   "version": "3.8.13"
  }
 },
 "nbformat": 4,
 "nbformat_minor": 5
}
