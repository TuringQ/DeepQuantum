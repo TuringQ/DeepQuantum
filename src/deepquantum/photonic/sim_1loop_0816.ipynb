{
 "cells": [
  {
   "cell_type": "code",
   "execution_count": 2,
   "id": "b67699ba",
   "metadata": {
    "ExecuteTime": {
     "end_time": "2024-08-16T03:13:53.524479Z",
     "start_time": "2024-08-16T03:13:53.515975Z"
    }
   },
   "outputs": [],
   "source": [
    "import deepquantum as dq\n",
    "import torch"
   ]
  },
  {
   "cell_type": "code",
   "execution_count": null,
   "id": "4e82c038",
   "metadata": {},
   "outputs": [],
   "source": [
    "## partial measurement"
   ]
  },
  {
   "cell_type": "code",
   "execution_count": 466,
   "id": "40228943",
   "metadata": {
    "ExecuteTime": {
     "end_time": "2024-08-19T03:28:50.641328Z",
     "start_time": "2024-08-19T03:28:50.625382Z"
    }
   },
   "outputs": [
    {
     "data": {
      "image/svg+xml": [
       "<svg baseProfile=\"full\" height=\"1.9090909090909092cm\" version=\"1.1\" width=\"3.9cm\" xmlns=\"http://www.w3.org/2000/svg\" xmlns:ev=\"http://www.w3.org/2001/xml-events\" xmlns:xlink=\"http://www.w3.org/1999/xlink\"><defs /><polyline fill=\"none\" points=\"40,30 130,30\" stroke=\"black\" stroke-width=\"2\" /><rect fill=\"royalblue\" height=\"12\" rx=\"0\" ry=\"0\" stroke=\"black\" stroke-width=\"1.5\" width=\"10\" x=\"82.5\" y=\"25\" /><text font-size=\"9\" x=\"83\" y=\"20\">S</text><text font-size=\"7\" x=\"95\" y=\"18\">r =11.0</text><text font-size=\"7\" x=\"95\" y=\"24\">θ =0.0</text><polyline fill=\"none\" points=\"40,60 130,60\" stroke=\"black\" stroke-width=\"2\" /><text font-size=\"12\" x=\"25\" y=\"30\">0</text><text font-size=\"12\" x=\"25\" y=\"60\">1</text></svg>"
      ],
      "text/plain": [
       "<svgwrite.drawing.Drawing at 0x1ae788b29e0>"
      ]
     },
     "execution_count": 466,
     "metadata": {},
     "output_type": "execute_result"
    }
   ],
   "source": [
    "nmode = 2\n",
    "circ = dq.QumodeCircuit(nmode=nmode, init_state='vac', cutoff=3, backend='gaussian', basis=True)\n",
    "circ.s([0], r=11)\n",
    "st = circ()\n",
    "circ.draw()\n"
   ]
  },
  {
   "cell_type": "code",
   "execution_count": 467,
   "id": "91821b72",
   "metadata": {
    "ExecuteTime": {
     "end_time": "2024-08-19T03:28:51.243138Z",
     "start_time": "2024-08-19T03:28:51.187329Z"
    },
    "collapsed": true
   },
   "outputs": [
    {
     "ename": "ValueError",
     "evalue": "Expected parameter covariance_matrix (Tensor of shape (1, 2, 2)) of distribution MultivariateNormal(loc: torch.Size([1, 2]), covariance_matrix: torch.Size([1, 2, 2])) to satisfy the constraint PositiveDefinite(), but found invalid values:\ntensor([[[0.0000e+00, 0.0000e+00],\n         [0.0000e+00, 3.5849e+09]]])",
     "output_type": "error",
     "traceback": [
      "\u001b[1;31m---------------------------------------------------------------------------\u001b[0m",
      "\u001b[1;31mValueError\u001b[0m                                Traceback (most recent call last)",
      "Cell \u001b[1;32mIn[467], line 1\u001b[0m\n\u001b[1;32m----> 1\u001b[0m re \u001b[38;5;241m=\u001b[39m \u001b[43mcirc\u001b[49m\u001b[38;5;241;43m.\u001b[39;49m\u001b[43mmeasure_homodyne\u001b[49m\u001b[43m(\u001b[49m\u001b[43mwires\u001b[49m\u001b[38;5;241;43m=\u001b[39;49m\u001b[43m[\u001b[49m\u001b[38;5;241;43m0\u001b[39;49m\u001b[43m]\u001b[49m\u001b[43m,\u001b[49m\u001b[43m \u001b[49m\u001b[43mshots\u001b[49m\u001b[38;5;241;43m=\u001b[39;49m\u001b[38;5;241;43m1\u001b[39;49m\u001b[43m)\u001b[49m\n\u001b[0;32m      2\u001b[0m re \n",
      "File \u001b[1;32mD:\\202406\\branch_github\\hot_fix\\deepquantum\\src\\deepquantum\\photonic\\circuit.py:1061\u001b[0m, in \u001b[0;36mQumodeCircuit.measure_homodyne\u001b[1;34m(self, shots, wires)\u001b[0m\n\u001b[0;32m   1059\u001b[0m cov_sub \u001b[38;5;241m=\u001b[39m cov[:, indices][:, :, indices]\n\u001b[0;32m   1060\u001b[0m mean_sub \u001b[38;5;241m=\u001b[39m mean[:, indices]\u001b[38;5;241m.\u001b[39msqueeze(\u001b[38;5;241m-\u001b[39m\u001b[38;5;241m1\u001b[39m)\n\u001b[1;32m-> 1061\u001b[0m samples \u001b[38;5;241m=\u001b[39m \u001b[43mMultivariateNormal\u001b[49m\u001b[43m(\u001b[49m\u001b[43mmean_sub\u001b[49m\u001b[43m,\u001b[49m\u001b[43m \u001b[49m\u001b[43mcov_sub\u001b[49m\u001b[43m)\u001b[49m\u001b[38;5;241m.\u001b[39msample([shots]) \u001b[38;5;66;03m# (shots, batch, 2 * nwire)\u001b[39;00m\n\u001b[0;32m   1062\u001b[0m \u001b[38;5;28;01mreturn\u001b[39;00m samples\u001b[38;5;241m.\u001b[39mpermute(\u001b[38;5;241m1\u001b[39m, \u001b[38;5;241m0\u001b[39m, \u001b[38;5;241m2\u001b[39m)\u001b[38;5;241m.\u001b[39msqueeze()\n",
      "File \u001b[1;32mE:\\Anaconda\\envs\\dq_v3\\lib\\site-packages\\torch\\distributions\\multivariate_normal.py:177\u001b[0m, in \u001b[0;36mMultivariateNormal.__init__\u001b[1;34m(self, loc, covariance_matrix, precision_matrix, scale_tril, validate_args)\u001b[0m\n\u001b[0;32m    174\u001b[0m \u001b[38;5;28mself\u001b[39m\u001b[38;5;241m.\u001b[39mloc \u001b[38;5;241m=\u001b[39m loc\u001b[38;5;241m.\u001b[39mexpand(batch_shape \u001b[38;5;241m+\u001b[39m (\u001b[38;5;241m-\u001b[39m\u001b[38;5;241m1\u001b[39m,))\n\u001b[0;32m    176\u001b[0m event_shape \u001b[38;5;241m=\u001b[39m \u001b[38;5;28mself\u001b[39m\u001b[38;5;241m.\u001b[39mloc\u001b[38;5;241m.\u001b[39mshape[\u001b[38;5;241m-\u001b[39m\u001b[38;5;241m1\u001b[39m:]\n\u001b[1;32m--> 177\u001b[0m \u001b[38;5;28;43msuper\u001b[39;49m\u001b[43m(\u001b[49m\u001b[43m)\u001b[49m\u001b[38;5;241;43m.\u001b[39;49m\u001b[38;5;21;43m__init__\u001b[39;49m\u001b[43m(\u001b[49m\u001b[43mbatch_shape\u001b[49m\u001b[43m,\u001b[49m\u001b[43m \u001b[49m\u001b[43mevent_shape\u001b[49m\u001b[43m,\u001b[49m\u001b[43m \u001b[49m\u001b[43mvalidate_args\u001b[49m\u001b[38;5;241;43m=\u001b[39;49m\u001b[43mvalidate_args\u001b[49m\u001b[43m)\u001b[49m\n\u001b[0;32m    179\u001b[0m \u001b[38;5;28;01mif\u001b[39;00m scale_tril \u001b[38;5;129;01mis\u001b[39;00m \u001b[38;5;129;01mnot\u001b[39;00m \u001b[38;5;28;01mNone\u001b[39;00m:\n\u001b[0;32m    180\u001b[0m     \u001b[38;5;28mself\u001b[39m\u001b[38;5;241m.\u001b[39m_unbroadcasted_scale_tril \u001b[38;5;241m=\u001b[39m scale_tril\n",
      "File \u001b[1;32mE:\\Anaconda\\envs\\dq_v3\\lib\\site-packages\\torch\\distributions\\distribution.py:68\u001b[0m, in \u001b[0;36mDistribution.__init__\u001b[1;34m(self, batch_shape, event_shape, validate_args)\u001b[0m\n\u001b[0;32m     66\u001b[0m         valid \u001b[38;5;241m=\u001b[39m constraint\u001b[38;5;241m.\u001b[39mcheck(value)\n\u001b[0;32m     67\u001b[0m         \u001b[38;5;28;01mif\u001b[39;00m \u001b[38;5;129;01mnot\u001b[39;00m valid\u001b[38;5;241m.\u001b[39mall():\n\u001b[1;32m---> 68\u001b[0m             \u001b[38;5;28;01mraise\u001b[39;00m \u001b[38;5;167;01mValueError\u001b[39;00m(\n\u001b[0;32m     69\u001b[0m                 \u001b[38;5;124mf\u001b[39m\u001b[38;5;124m\"\u001b[39m\u001b[38;5;124mExpected parameter \u001b[39m\u001b[38;5;132;01m{\u001b[39;00mparam\u001b[38;5;132;01m}\u001b[39;00m\u001b[38;5;124m \u001b[39m\u001b[38;5;124m\"\u001b[39m\n\u001b[0;32m     70\u001b[0m                 \u001b[38;5;124mf\u001b[39m\u001b[38;5;124m\"\u001b[39m\u001b[38;5;124m(\u001b[39m\u001b[38;5;132;01m{\u001b[39;00m\u001b[38;5;28mtype\u001b[39m(value)\u001b[38;5;241m.\u001b[39m\u001b[38;5;18m__name__\u001b[39m\u001b[38;5;132;01m}\u001b[39;00m\u001b[38;5;124m of shape \u001b[39m\u001b[38;5;132;01m{\u001b[39;00m\u001b[38;5;28mtuple\u001b[39m(value\u001b[38;5;241m.\u001b[39mshape)\u001b[38;5;132;01m}\u001b[39;00m\u001b[38;5;124m) \u001b[39m\u001b[38;5;124m\"\u001b[39m\n\u001b[0;32m     71\u001b[0m                 \u001b[38;5;124mf\u001b[39m\u001b[38;5;124m\"\u001b[39m\u001b[38;5;124mof distribution \u001b[39m\u001b[38;5;132;01m{\u001b[39;00m\u001b[38;5;28mrepr\u001b[39m(\u001b[38;5;28mself\u001b[39m)\u001b[38;5;132;01m}\u001b[39;00m\u001b[38;5;124m \u001b[39m\u001b[38;5;124m\"\u001b[39m\n\u001b[0;32m     72\u001b[0m                 \u001b[38;5;124mf\u001b[39m\u001b[38;5;124m\"\u001b[39m\u001b[38;5;124mto satisfy the constraint \u001b[39m\u001b[38;5;132;01m{\u001b[39;00m\u001b[38;5;28mrepr\u001b[39m(constraint)\u001b[38;5;132;01m}\u001b[39;00m\u001b[38;5;124m, \u001b[39m\u001b[38;5;124m\"\u001b[39m\n\u001b[0;32m     73\u001b[0m                 \u001b[38;5;124mf\u001b[39m\u001b[38;5;124m\"\u001b[39m\u001b[38;5;124mbut found invalid values:\u001b[39m\u001b[38;5;130;01m\\n\u001b[39;00m\u001b[38;5;132;01m{\u001b[39;00mvalue\u001b[38;5;132;01m}\u001b[39;00m\u001b[38;5;124m\"\u001b[39m\n\u001b[0;32m     74\u001b[0m             )\n\u001b[0;32m     75\u001b[0m \u001b[38;5;28msuper\u001b[39m()\u001b[38;5;241m.\u001b[39m\u001b[38;5;21m__init__\u001b[39m()\n",
      "\u001b[1;31mValueError\u001b[0m: Expected parameter covariance_matrix (Tensor of shape (1, 2, 2)) of distribution MultivariateNormal(loc: torch.Size([1, 2]), covariance_matrix: torch.Size([1, 2, 2])) to satisfy the constraint PositiveDefinite(), but found invalid values:\ntensor([[[0.0000e+00, 0.0000e+00],\n         [0.0000e+00, 3.5849e+09]]])"
     ]
    }
   ],
   "source": [
    "re = circ.measure_homodyne(wires=[0], shots=1)\n",
    "re "
   ]
  },
  {
   "cell_type": "markdown",
   "id": "e0c385c1",
   "metadata": {},
   "source": [
    "# single loop case"
   ]
  },
  {
   "cell_type": "code",
   "execution_count": 411,
   "id": "df52edb3",
   "metadata": {
    "ExecuteTime": {
     "end_time": "2024-08-19T02:51:36.326383Z",
     "start_time": "2024-08-19T02:51:36.309437Z"
    }
   },
   "outputs": [],
   "source": [
    "def single_loop(r, samples):\n",
    "    r = r\n",
    "    samples = samples\n",
    "    alpha = [np.pi / 4, 0]\n",
    "    phi = [0, np.pi / 2]\n",
    "    cov = torch.eye(4)\n",
    "    mean  = torch.tensor([[[0.],[0.],[0.],[0.]]])\n",
    "    cov = cov.unsqueeze(0)\n",
    "    w = [0,1]\n",
    "    measure_re = [ ]\n",
    "    for i in range(samples):\n",
    "        nmode = 2\n",
    "        circ = dq.QumodeCircuit(nmode=nmode, init_state=[cov, mean], cutoff=3, backend='gaussian', basis=True)\n",
    "        circ.s([w[1]], r=r)\n",
    "        circ.bs([0,1], inputs=[alpha[w[0]], 0])\n",
    "        circ.r(w[1], inputs=phi[w[0]])\n",
    "        circ.to(torch.double)\n",
    "\n",
    "        state = circ() # xxpp\n",
    "        re = circ.measure_homodyne(wires=[w[0]], shots=1)\n",
    "        qua_x = re[0] # x \n",
    "    #     print(circ.init_state.cov, circ.init_state.mean, '--------')\n",
    "        measure_re.append(qua_x)\n",
    "\n",
    "        sigma = dq.photonic.xxpp_to_xpxp(state[0])\n",
    "        mu = state[1]\n",
    "    #     mu = dq.photonic.xxpp_to_xpxp(state[1])\n",
    "        sigma =sigma.squeeze()\n",
    "        mu = mu.squeeze()\n",
    "        mu_x = mu[:2]\n",
    "        mu_p = mu[2:]\n",
    "\n",
    "        block_list1 = [sigma[:2, :2], sigma[2:, 2:]]\n",
    "        block_list2 = [sigma[2:, :2], sigma[:2, 2:]]\n",
    "        sigma_a = block_list1[w[1]]\n",
    "        sigma_b = block_list1[w[0]]\n",
    "        sigma_ab = block_list2[w[0]]\n",
    "\n",
    "        sigma_a2 = sigma_a - sigma_ab @ torch.linalg.inv(sigma_b + cov_ob) @ sigma_ab.mT\n",
    "        mu_2 = torch.tensor([mu_x[w[1]], mu_p[w[1]]]) + sigma_ab @ torch.linalg.inv(sigma_b + cov_ob) @ (re - torch.tensor([mu_x[w[0]], mu_p[w[0]]]))\n",
    "\n",
    "\n",
    "        cov = torch.eye(4)\n",
    "        if w[0] == 0:\n",
    "            cov[2:,2:] = sigma_a2\n",
    "            mean = torch.cat([torch.zeros(2), mu_2])\n",
    "\n",
    "\n",
    "        if w[1] == 0:\n",
    "            cov[:2, :2] = sigma_a2\n",
    "            mean = torch.cat([mu_2, torch.zeros(2)])\n",
    "\n",
    "        cov = cov.unsqueeze(0)\n",
    "        mean = mean.unsqueeze(0).mT\n",
    "        cov = dq.photonic.xpxp_to_xxpp(cov)\n",
    "        mean = dq.photonic.xpxp_to_xxpp(mean)\n",
    "        w = shift(w)\n",
    "    return measure_re\n"
   ]
  },
  {
   "cell_type": "code",
   "execution_count": 397,
   "id": "f3db1960",
   "metadata": {
    "ExecuteTime": {
     "end_time": "2024-08-19T02:44:51.773881Z",
     "start_time": "2024-08-19T02:44:46.197406Z"
    },
    "code_folding": [
     0
    ]
   },
   "outputs": [],
   "source": [
    "# alpha = [np.pi / 4, np.pi / 4]\n",
    "# phi = [0, 0]\n",
    "r=5\n",
    "alpha = [np.pi / 4, 0]\n",
    "phi = [0, np.pi / 2]\n",
    "cov = torch.eye(4)\n",
    "mean  = torch.tensor([[[0.],[0.],[0.],[0.]]])\n",
    "cov = cov.unsqueeze(0)\n",
    "samples = 2000\n",
    "w = [0,1]\n",
    "measure_re = [ ]\n",
    "for i in range(samples):\n",
    "    nmode = 2\n",
    "    circ = dq.QumodeCircuit(nmode=nmode, init_state=[cov, mean], cutoff=3, backend='gaussian', basis=True)\n",
    "    circ.s([w[1]], r=r)\n",
    "    circ.bs([0,1], inputs=[alpha[w[0]], 0])\n",
    "    circ.r(w[1], inputs=phi[w[0]])\n",
    "    circ.to(torch.double)\n",
    "    \n",
    "    state = circ() # xxpp\n",
    "    re = circ.measure_homodyne(wires=[w[0]], shots=1)\n",
    "    qua_x = re[0]\n",
    "#     print(circ.init_state.cov, circ.init_state.mean, '--------')\n",
    "    measure_re.append(qua_x)\n",
    "    \n",
    "    sigma = dq.photonic.xxpp_to_xpxp(state[0])\n",
    "#     mu = dq.photonic.xxpp_to_xpxp(state[1])\n",
    "    sigma =sigma.squeeze()\n",
    "    mu = mu.squeeze()\n",
    "    mu_x = mu[:2]\n",
    "    mu_p = mu[2:]\n",
    "    \n",
    "    block_list1 = [sigma[:2, :2], sigma[2:, 2:]]\n",
    "    block_list2 = [sigma[2:, :2], sigma[:2, 2:]]\n",
    "    sigma_a = block_list1[w[1]]\n",
    "    sigma_b = block_list1[w[0]]\n",
    "    sigma_ab = block_list2[w[0]]\n",
    "    \n",
    "    sigma_a2 = sigma_a - sigma_ab @ torch.linalg.inv(sigma_b + cov_ob) @ sigma_ab.mT\n",
    "    mu_2 = torch.tensor([mu_x[w[1]], mu_p[w[1]]]) + sigma_ab @ torch.linalg.inv(sigma_b + cov_ob) @ (re - torch.tensor([mu_x[w[0]], mu_p[w[0]]]))\n",
    "    \n",
    "    \n",
    "    cov = torch.eye(4)\n",
    "    if w[0] == 0:\n",
    "        cov[2:,2:] = sigma_a2\n",
    "        mean = torch.cat([torch.zeros(2), mu_2])\n",
    "    \n",
    "    \n",
    "    if w[1] == 0:\n",
    "        cov[:2, :2] = sigma_a2\n",
    "        mean = torch.cat([mu_2, torch.zeros(2)])\n",
    "    \n",
    "    cov = cov.unsqueeze(0)\n",
    "    mean = mean.unsqueeze(0).mT\n",
    "    cov = dq.photonic.xpxp_to_xxpp(cov)\n",
    "    mean = dq.photonic.xpxp_to_xxpp(mean)\n",
    "#     print(mean)\n",
    "        \n",
    "    w = shift(w)"
   ]
  },
  {
   "cell_type": "code",
   "execution_count": 398,
   "id": "10aa5828",
   "metadata": {
    "ExecuteTime": {
     "end_time": "2024-08-19T02:44:52.615974Z",
     "start_time": "2024-08-19T02:44:52.595418Z"
    }
   },
   "outputs": [
    {
     "data": {
      "image/svg+xml": [
       "<svg baseProfile=\"full\" height=\"1.9090909090909092cm\" version=\"1.1\" width=\"9.3cm\" xmlns=\"http://www.w3.org/2000/svg\" xmlns:ev=\"http://www.w3.org/2001/xml-events\" xmlns:xlink=\"http://www.w3.org/1999/xlink\"><defs /><polyline fill=\"none\" points=\"40,30 130,30\" stroke=\"black\" stroke-width=\"2\" /><rect fill=\"royalblue\" height=\"12\" rx=\"0\" ry=\"0\" stroke=\"black\" stroke-width=\"1.5\" width=\"10\" x=\"82.5\" y=\"25\" /><text font-size=\"9\" x=\"83\" y=\"20\">S</text><text font-size=\"7\" x=\"95\" y=\"18\">r =5.0</text><text font-size=\"7\" x=\"95\" y=\"24\">θ =0.0</text><polyline fill=\"none\" points=\"130,30 160,30 190,60 220,60\" stroke=\"black\" stroke-width=\"2\" /><polyline fill=\"none\" points=\"130,60 160,60 190,30 220,30\" stroke=\"black\" stroke-width=\"2\" /><text font-size=\"9\" x=\"170\" y=\"25\">BS</text><text font-size=\"7\" x=\"185\" y=\"44\">θ =0.0</text><text font-size=\"7\" x=\"185\" y=\"50\">ϕ =0.0</text><polyline fill=\"none\" points=\"220,30 310,30\" stroke=\"black\" stroke-width=\"2\" /><rect fill=\"teal\" height=\"12\" rx=\"0\" ry=\"0\" stroke=\"black\" stroke-width=\"1.5\" width=\"6\" x=\"262.5\" y=\"25\" /><text font-size=\"9\" x=\"260\" y=\"20\">PS</text><text font-size=\"7\" x=\"275\" y=\"20\">θ =1.571</text><polyline fill=\"none\" points=\"40,60 130,60\" stroke=\"black\" stroke-width=\"2\" /><polyline fill=\"none\" points=\"220,60 310,60\" stroke=\"black\" stroke-width=\"2\" /><text font-size=\"12\" x=\"25\" y=\"30\">0</text><text font-size=\"12\" x=\"25\" y=\"60\">1</text></svg>"
      ],
      "text/plain": [
       "<svgwrite.drawing.Drawing at 0x1ae70709ba0>"
      ]
     },
     "execution_count": 398,
     "metadata": {},
     "output_type": "execute_result"
    }
   ],
   "source": [
    "circ.draw()"
   ]
  },
  {
   "cell_type": "code",
   "execution_count": 425,
   "id": "14679a55",
   "metadata": {
    "ExecuteTime": {
     "end_time": "2024-08-19T03:13:21.187904Z",
     "start_time": "2024-08-19T03:04:16.387950Z"
    }
   },
   "outputs": [
    {
     "name": "stdout",
     "output_type": "stream",
     "text": [
      "7.09999999999999954\r"
     ]
    }
   ],
   "source": [
    "Mean = [ ]\n",
    "Std = [ ]\n",
    "for r in np.linspace(0.1, 7, 70):\n",
    "    shots = 2000\n",
    "    re = single_loop(r=r, samples=samples)\n",
    "    re_up = torch.stack(re[::2]) # first of  EPR\n",
    "    re_down = torch.stack(re[1::2]) # second of EPR\n",
    "    Mean.append(re_up.mean()-re_down.mean())\n",
    "    Std.append((re_up-re_down).std())\n",
    "    print(r, end=\"\\r\")"
   ]
  },
  {
   "cell_type": "markdown",
   "id": "78be6191",
   "metadata": {},
   "source": [
    "## check result"
   ]
  },
  {
   "cell_type": "code",
   "execution_count": 426,
   "id": "03d1f4b4",
   "metadata": {
    "ExecuteTime": {
     "end_time": "2024-08-19T03:13:31.419299Z",
     "start_time": "2024-08-19T03:13:31.411327Z"
    }
   },
   "outputs": [],
   "source": [
    "import matplotlib.pyplot as plt  "
   ]
  },
  {
   "cell_type": "code",
   "execution_count": 443,
   "id": "d2239123",
   "metadata": {
    "ExecuteTime": {
     "end_time": "2024-08-19T03:19:33.092057Z",
     "start_time": "2024-08-19T03:19:32.881009Z"
    }
   },
   "outputs": [
    {
     "data": {
      "image/png": "[encoded data removed]",
      "text/plain": [
       "<Figure size 1000x500 with 2 Axes>"
      ]
     },
     "metadata": {},
     "output_type": "display_data"
    },
    {
     "data": {
      "text/plain": [
       "<Figure size 640x480 with 0 Axes>"
      ]
     },
     "metadata": {},
     "output_type": "display_data"
    }
   ],
   "source": [
    "fig, axs = plt.subplots(1, 2, figsize=(5*2, 5))\n",
    "ax1 = plt.subplot(1,2,1)\n",
    "r_list = np.linspace(0.1, 7, 70)\n",
    "\n",
    "plt.plot(np.linspace(0.1, 7, 70),Mean,\".\")\n",
    "plt.title(\"$<\\hat{x}_1-\\hat{x}_2>$\")\n",
    "\n",
    "plt.xlabel(\"squeezing parameter r\")\n",
    "\n",
    "plt.tight_layout()\n",
    "\n",
    "ax2 = plt.subplot(1,2,2)\n",
    "plt.plot(r_list, np.array(Std),\".\",label = \"simulation\")\n",
    "plt.plot(r_list, np.exp(-1*r_list)*np.sqrt(2), label = \"theoretical $\\sqrt{2}*e^{-r}$\")\n",
    "plt.title(\"std($\\hat{x}_1-\\hat{x}_2$)\")\n",
    "plt.xlabel(\"squeezing parameter r\")\n",
    "plt.legend()\n",
    "# plt.plot(np.linspace(0.1, 10, 100), Std,\".\")\n",
    "plt.show()\n",
    "plt.tight_layout()\n"
   ]
  },
  {
   "cell_type": "code",
   "execution_count": 444,
   "id": "c6268540",
   "metadata": {
    "ExecuteTime": {
     "end_time": "2024-08-19T03:20:03.755435Z",
     "start_time": "2024-08-19T03:20:03.747461Z"
    }
   },
   "outputs": [
    {
     "data": {
      "image/svg+xml": [
       "<svg baseProfile=\"full\" height=\"1.9090909090909092cm\" version=\"1.1\" width=\"9.3cm\" xmlns=\"http://www.w3.org/2000/svg\" xmlns:ev=\"http://www.w3.org/2001/xml-events\" xmlns:xlink=\"http://www.w3.org/1999/xlink\"><defs /><polyline fill=\"none\" points=\"40,30 130,30\" stroke=\"black\" stroke-width=\"2\" /><rect fill=\"royalblue\" height=\"12\" rx=\"0\" ry=\"0\" stroke=\"black\" stroke-width=\"1.5\" width=\"10\" x=\"82.5\" y=\"25\" /><text font-size=\"9\" x=\"83\" y=\"20\">S</text><text font-size=\"7\" x=\"95\" y=\"18\">r =5.0</text><text font-size=\"7\" x=\"95\" y=\"24\">θ =0.0</text><polyline fill=\"none\" points=\"130,30 160,30 190,60 220,60\" stroke=\"black\" stroke-width=\"2\" /><polyline fill=\"none\" points=\"130,60 160,60 190,30 220,30\" stroke=\"black\" stroke-width=\"2\" /><text font-size=\"9\" x=\"170\" y=\"25\">BS</text><text font-size=\"7\" x=\"185\" y=\"44\">θ =0.0</text><text font-size=\"7\" x=\"185\" y=\"50\">ϕ =0.0</text><polyline fill=\"none\" points=\"220,30 310,30\" stroke=\"black\" stroke-width=\"2\" /><rect fill=\"teal\" height=\"12\" rx=\"0\" ry=\"0\" stroke=\"black\" stroke-width=\"1.5\" width=\"6\" x=\"262.5\" y=\"25\" /><text font-size=\"9\" x=\"260\" y=\"20\">PS</text><text font-size=\"7\" x=\"275\" y=\"20\">θ =1.571</text><polyline fill=\"none\" points=\"40,60 130,60\" stroke=\"black\" stroke-width=\"2\" /><polyline fill=\"none\" points=\"220,60 310,60\" stroke=\"black\" stroke-width=\"2\" /><text font-size=\"12\" x=\"25\" y=\"30\">0</text><text font-size=\"12\" x=\"25\" y=\"60\">1</text></svg>"
      ],
      "text/plain": [
       "<svgwrite.drawing.Drawing at 0x1ae76c95090>"
      ]
     },
     "execution_count": 444,
     "metadata": {},
     "output_type": "execute_result"
    }
   ],
   "source": [
    "circ.draw()"
   ]
  },
  {
   "cell_type": "code",
   "execution_count": 10,
   "id": "4fd68ce2",
   "metadata": {
    "ExecuteTime": {
     "end_time": "2024-08-16T03:23:42.939331Z",
     "start_time": "2024-08-16T03:23:42.918399Z"
    }
   },
   "outputs": [],
   "source": [
    "def shift(a):\n",
    "    if len(a) <=1:\n",
    "        return a\n",
    "    return a[-1:] + a[:-1]"
   ]
  },
  {
   "cell_type": "markdown",
   "id": "b9dfdf8b",
   "metadata": {},
   "source": [
    "# add measure_dyne"
   ]
  },
  {
   "cell_type": "code",
   "execution_count": 3,
   "id": "f63526a9",
   "metadata": {
    "ExecuteTime": {
     "end_time": "2024-08-21T06:46:56.319464Z",
     "start_time": "2024-08-21T06:46:56.302522Z"
    }
   },
   "outputs": [],
   "source": [
    "import strawberryfields as sf \n",
    "import deepquantum as dq\n",
    "import torch"
   ]
  },
  {
   "cell_type": "code",
   "execution_count": 2,
   "id": "a9e0f99a",
   "metadata": {
    "ExecuteTime": {
     "end_time": "2024-08-21T02:28:57.999277Z",
     "start_time": "2024-08-21T02:28:57.980339Z"
    }
   },
   "outputs": [],
   "source": [
    "cov = torch.stack([torch.eye(6)]*3)\n",
    "mean = torch.stack([torch.zeros(6)]*3)\n",
    "# cov, mean"
   ]
  },
  {
   "cell_type": "code",
   "execution_count": 15,
   "id": "f4a31a8a",
   "metadata": {
    "ExecuteTime": {
     "end_time": "2024-08-21T02:31:15.907426Z",
     "start_time": "2024-08-21T02:31:15.883507Z"
    },
    "code_folding": []
   },
   "outputs": [
    {
     "data": {
      "image/svg+xml": [
       "<svg baseProfile=\"full\" height=\"2.8636363636363638cm\" version=\"1.1\" width=\"12.0cm\" xmlns=\"http://www.w3.org/2000/svg\" xmlns:ev=\"http://www.w3.org/2001/xml-events\" xmlns:xlink=\"http://www.w3.org/1999/xlink\"><defs /><polyline fill=\"none\" points=\"40,30 130,30\" stroke=\"black\" stroke-width=\"2\" /><rect fill=\"royalblue\" height=\"12\" rx=\"0\" ry=\"0\" stroke=\"black\" stroke-width=\"1.5\" width=\"10\" x=\"82.5\" y=\"25\" /><text font-size=\"9\" x=\"83\" y=\"20\">S</text><text font-size=\"7\" x=\"95\" y=\"18\">r =1.0</text><text font-size=\"7\" x=\"95\" y=\"24\">θ =0.0</text><polyline fill=\"none\" points=\"40,60 130,60\" stroke=\"black\" stroke-width=\"2\" /><rect fill=\"green\" height=\"12\" rx=\"0\" ry=\"0\" stroke=\"black\" stroke-width=\"1.5\" width=\"10\" x=\"82.5\" y=\"55\" /><text font-size=\"9\" x=\"83\" y=\"50\">D</text><text font-size=\"7\" x=\"95\" y=\"48\">r =1.0</text><text font-size=\"7\" x=\"95\" y=\"54\">θ =0.785</text><polyline fill=\"none\" points=\"130,60 220,60\" stroke=\"black\" stroke-width=\"2\" /><rect fill=\"royalblue\" height=\"12\" rx=\"0\" ry=\"0\" stroke=\"black\" stroke-width=\"1.5\" width=\"10\" x=\"172.5\" y=\"55\" /><text font-size=\"9\" x=\"173\" y=\"50\">S</text><text font-size=\"7\" x=\"185\" y=\"48\">r =2.0</text><text font-size=\"7\" x=\"185\" y=\"54\">θ =0.0</text><polyline fill=\"none\" points=\"220,30 250,30 280,60 310,60\" stroke=\"black\" stroke-width=\"2\" /><polyline fill=\"none\" points=\"220,60 250,60 280,30 310,30\" stroke=\"black\" stroke-width=\"2\" /><text font-size=\"9\" x=\"260\" y=\"25\">BS</text><text font-size=\"7\" x=\"275\" y=\"44\">θ =0.5</text><text font-size=\"7\" x=\"275\" y=\"50\">ϕ =0.412</text><polyline fill=\"none\" points=\"310,60 340,60 370,90 400,90\" stroke=\"black\" stroke-width=\"2\" /><polyline fill=\"none\" points=\"310,90 340,90 370,60 400,60\" stroke=\"black\" stroke-width=\"2\" /><text font-size=\"9\" x=\"350\" y=\"55\">BS</text><text font-size=\"7\" x=\"365\" y=\"74\">θ =4.987</text><text font-size=\"7\" x=\"365\" y=\"80\">ϕ =1.183</text><polyline fill=\"none\" points=\"40,90 130,90\" stroke=\"black\" stroke-width=\"2\" /><polyline fill=\"none\" points=\"130,30 220,30\" stroke=\"black\" stroke-width=\"2\" /><polyline fill=\"none\" points=\"130,90 220,90\" stroke=\"black\" stroke-width=\"2\" /><polyline fill=\"none\" points=\"220,90 310,90\" stroke=\"black\" stroke-width=\"2\" /><polyline fill=\"none\" points=\"310,30 400,30\" stroke=\"black\" stroke-width=\"2\" /><text font-size=\"12\" x=\"25\" y=\"30\">0</text><text font-size=\"12\" x=\"25\" y=\"60\">1</text><text font-size=\"12\" x=\"25\" y=\"90\">2</text></svg>"
      ],
      "text/plain": [
       "<svgwrite.drawing.Drawing at 0x23398155960>"
      ]
     },
     "execution_count": 15,
     "metadata": {},
     "output_type": "execute_result"
    }
   ],
   "source": [
    "###############\n",
    "nmode = 3\n",
    "circ = dq.QumodeCircuit(nmode=nmode, init_state=[cov, mean], cutoff=3, backend='gaussian', basis=True)\n",
    "circ.s([0], r=1)\n",
    "circ.d([1], r=1, theta=np.pi/4)\n",
    "circ.s([1], r=2)\n",
    "circ.bs([0,1])\n",
    "circ.bs([1,2])\n",
    "circ.to(torch.double)\n",
    "st = circ()\n",
    "circ.draw()"
   ]
  },
  {
   "cell_type": "code",
   "execution_count": 16,
   "id": "2ff6286e",
   "metadata": {
    "ExecuteTime": {
     "end_time": "2024-08-21T02:31:16.310540Z",
     "start_time": "2024-08-21T02:31:16.297585Z"
    }
   },
   "outputs": [
    {
     "data": {
      "text/plain": [
       "[tensor([[[ 2.1186e+00,  1.2218e-02, -8.1885e+00,  4.6041e+00, -2.4828e+00,\n",
       "            3.3017e+00],\n",
       "          [ 1.2218e-02,  9.4961e-01, -7.9768e-02, -3.3601e-01, -4.4841e-02,\n",
       "            2.2622e-01],\n",
       "          [-8.1885e+00, -7.9768e-02,  3.5026e+01, -1.5772e+01,  1.0305e+01,\n",
       "           -1.3608e+01],\n",
       "          [ 4.6041e+00, -3.3601e-01, -1.5772e+01,  1.6239e+01, -4.9292e+00,\n",
       "            7.7408e+00],\n",
       "          [-2.4828e+00, -4.4841e-02,  1.0305e+01, -4.9292e+00,  4.1124e+00,\n",
       "           -4.0418e+00],\n",
       "          [ 3.3017e+00,  2.2622e-01, -1.3608e+01,  7.7408e+00, -4.0418e+00,\n",
       "            5.6958e+00]],\n",
       " \n",
       "         [[ 2.1186e+00,  1.2218e-02, -8.1885e+00,  4.6041e+00, -2.4828e+00,\n",
       "            3.3017e+00],\n",
       "          [ 1.2218e-02,  9.4961e-01, -7.9768e-02, -3.3601e-01, -4.4841e-02,\n",
       "            2.2622e-01],\n",
       "          [-8.1885e+00, -7.9768e-02,  3.5026e+01, -1.5772e+01,  1.0305e+01,\n",
       "           -1.3608e+01],\n",
       "          [ 4.6041e+00, -3.3601e-01, -1.5772e+01,  1.6239e+01, -4.9292e+00,\n",
       "            7.7408e+00],\n",
       "          [-2.4828e+00, -4.4841e-02,  1.0305e+01, -4.9292e+00,  4.1124e+00,\n",
       "           -4.0418e+00],\n",
       "          [ 3.3017e+00,  2.2622e-01, -1.3608e+01,  7.7408e+00, -4.0418e+00,\n",
       "            5.6958e+00]],\n",
       " \n",
       "         [[ 2.1186e+00,  1.2218e-02, -8.1885e+00,  4.6041e+00, -2.4828e+00,\n",
       "            3.3017e+00],\n",
       "          [ 1.2218e-02,  9.4961e-01, -7.9768e-02, -3.3601e-01, -4.4841e-02,\n",
       "            2.2622e-01],\n",
       "          [-8.1885e+00, -7.9768e-02,  3.5026e+01, -1.5772e+01,  1.0305e+01,\n",
       "           -1.3608e+01],\n",
       "          [ 4.6041e+00, -3.3601e-01, -1.5772e+01,  1.6239e+01, -4.9292e+00,\n",
       "            7.7408e+00],\n",
       "          [-2.4828e+00, -4.4841e-02,  1.0305e+01, -4.9292e+00,  4.1124e+00,\n",
       "           -4.0418e+00],\n",
       "          [ 3.3017e+00,  2.2622e-01, -1.3608e+01,  7.7408e+00, -4.0418e+00,\n",
       "            5.6958e+00]]], dtype=torch.float64, grad_fn=<SqueezeBackward1>),\n",
       " tensor([[[-2.0896],\n",
       "          [ 0.0455],\n",
       "          [ 8.1090],\n",
       "          [-4.5565],\n",
       "          [ 2.4822],\n",
       "          [-3.4908]],\n",
       " \n",
       "         [[-2.0896],\n",
       "          [ 0.0455],\n",
       "          [ 8.1090],\n",
       "          [-4.5565],\n",
       "          [ 2.4822],\n",
       "          [-3.4908]],\n",
       " \n",
       "         [[-2.0896],\n",
       "          [ 0.0455],\n",
       "          [ 8.1090],\n",
       "          [-4.5565],\n",
       "          [ 2.4822],\n",
       "          [-3.4908]]], dtype=torch.float64, grad_fn=<SqueezeBackward1>)]"
      ]
     },
     "execution_count": 16,
     "metadata": {},
     "output_type": "execute_result"
    }
   ],
   "source": [
    "st"
   ]
  },
  {
   "cell_type": "code",
   "execution_count": 17,
   "id": "f06b8514",
   "metadata": {
    "ExecuteTime": {
     "end_time": "2024-08-21T02:31:17.157798Z",
     "start_time": "2024-08-21T02:31:17.113949Z"
    }
   },
   "outputs": [
    {
     "data": {
      "text/plain": [
       "tensor([[-2.0965,  0.0468, -4.5587,  2.4867],\n",
       "        [-2.0856,  0.0468, -4.5550,  2.4750],\n",
       "        [-2.0924,  0.0424, -4.5675,  2.4779]], dtype=torch.float64)"
      ]
     },
     "execution_count": 17,
     "metadata": {},
     "output_type": "execute_result"
    }
   ],
   "source": [
    "re = circ.measure_homodyne(shots=50000, wires=[0,1])\n",
    "re.mean(dim=1)"
   ]
  },
  {
   "cell_type": "code",
   "execution_count": 19,
   "id": "731e1a82",
   "metadata": {
    "ExecuteTime": {
     "end_time": "2024-08-21T02:31:43.764464Z",
     "start_time": "2024-08-21T02:31:43.755495Z"
    }
   },
   "outputs": [
    {
     "data": {
      "text/plain": [
       "[tensor([[[ 1.0000,  0.0000,  0.0000,  0.0000,  0.0000,  0.0000],\n",
       "          [ 0.0000,  1.0000,  0.0000,  0.0000,  0.0000,  0.0000],\n",
       "          [ 0.0000,  0.0000,  3.3756,  0.0000,  0.0000, -0.8398],\n",
       "          [ 0.0000,  0.0000,  0.0000,  1.0000,  0.0000,  0.0000],\n",
       "          [ 0.0000,  0.0000,  0.0000,  0.0000,  1.0000,  0.0000],\n",
       "          [ 0.0000,  0.0000, -0.8398,  0.0000,  0.0000,  0.5052]],\n",
       " \n",
       "         [[ 1.0000,  0.0000,  0.0000,  0.0000,  0.0000,  0.0000],\n",
       "          [ 0.0000,  1.0000,  0.0000,  0.0000,  0.0000,  0.0000],\n",
       "          [ 0.0000,  0.0000,  3.3756,  0.0000,  0.0000, -0.8398],\n",
       "          [ 0.0000,  0.0000,  0.0000,  1.0000,  0.0000,  0.0000],\n",
       "          [ 0.0000,  0.0000,  0.0000,  0.0000,  1.0000,  0.0000],\n",
       "          [ 0.0000,  0.0000, -0.8398,  0.0000,  0.0000,  0.5052]],\n",
       " \n",
       "         [[ 1.0000,  0.0000,  0.0000,  0.0000,  0.0000,  0.0000],\n",
       "          [ 0.0000,  1.0000,  0.0000,  0.0000,  0.0000,  0.0000],\n",
       "          [ 0.0000,  0.0000,  3.3756,  0.0000,  0.0000, -0.8398],\n",
       "          [ 0.0000,  0.0000,  0.0000,  1.0000,  0.0000,  0.0000],\n",
       "          [ 0.0000,  0.0000,  0.0000,  0.0000,  1.0000,  0.0000],\n",
       "          [ 0.0000,  0.0000, -0.8398,  0.0000,  0.0000,  0.5052]]],\n",
       "        dtype=torch.float64, grad_fn=<UnsafeViewBackward0>),\n",
       " tensor([[[ 0.0000],\n",
       "          [ 0.0000],\n",
       "          [ 8.1359],\n",
       "          [ 0.0000],\n",
       "          [ 0.0000],\n",
       "          [-3.5013]],\n",
       " \n",
       "         [[ 0.0000],\n",
       "          [ 0.0000],\n",
       "          [ 8.0938],\n",
       "          [ 0.0000],\n",
       "          [ 0.0000],\n",
       "          [-3.4844]],\n",
       " \n",
       "         [[ 0.0000],\n",
       "          [ 0.0000],\n",
       "          [ 8.1200],\n",
       "          [ 0.0000],\n",
       "          [ 0.0000],\n",
       "          [-3.4959]]], dtype=torch.float64, grad_fn=<UnsafeViewBackward0>)]"
      ]
     },
     "execution_count": 19,
     "metadata": {},
     "output_type": "execute_result"
    }
   ],
   "source": [
    "circ.state"
   ]
  },
  {
   "cell_type": "code",
   "execution_count": 641,
   "id": "b789e55f",
   "metadata": {
    "ExecuteTime": {
     "end_time": "2024-08-19T07:38:41.074179Z",
     "start_time": "2024-08-19T07:38:41.062219Z"
    }
   },
   "outputs": [
    {
     "data": {
      "text/plain": [
       "(array([[  4.0971174,   5.5510406,   3.4711766,  -7.966277 ],\n",
       "        [  5.5510406,  13.535728 ,   3.080985 , -10.093341 ],\n",
       "        [  3.4711766,   3.080985 ,   4.077392 ,  -7.231399 ],\n",
       "        [ -7.966277 , -10.093341 ,  -7.231399 ,  16.785578 ]], dtype=float32),\n",
       " array([[  0.02910483,  -9.728976  ],\n",
       "        [ -1.3166736 , -11.741719  ],\n",
       "        [ -0.0491935 ,  -8.798813  ],\n",
       "        [ -0.42055374,  19.435282  ]], dtype=float32),\n",
       " array([[ 0.76264727, -0.41036683],\n",
       "        [-0.41036683, 24.88239288]]))"
      ]
     },
     "execution_count": 641,
     "metadata": {},
     "output_type": "execute_result"
    }
   ],
   "source": [
    "sf.backends.gaussianbackend.ops.chop_in_blocks((cov.detach().numpy()), expind)"
   ]
  },
  {
   "cell_type": "code",
   "execution_count": 84,
   "id": "8121eef3",
   "metadata": {
    "ExecuteTime": {
     "end_time": "2024-08-20T06:54:41.436735Z",
     "start_time": "2024-08-20T06:54:41.418792Z"
    },
    "code_folding": [
     0
    ]
   },
   "outputs": [],
   "source": [
    "##############\n",
    "def exchange_row_cols(cov, mea_idices):\n",
    "    \"\"\"\n",
    "    reorder the cov matrix, support vmap\n",
    "    \"\"\"\n",
    "    row_list =[ ]\n",
    "    col_list = [ ]\n",
    "    idx_min= mea_idices[0]\n",
    "    idx_max = mea_idices[-1]\n",
    "    if idx_max == cov.size()[-1]:\n",
    "        return cov\n",
    "    else:\n",
    "        exchange_list = list(range(0, idx_min, 2)) + list(range(idx_max+1, cov.size()[-1],2)) + \\\n",
    "                         list(range(idx_min, idx_max, 2))\n",
    "        for i in exchange_list:\n",
    "            row_list.append(cov[[i, i+1]])\n",
    "        cov1 = torch.cat(row_list)\n",
    "        for i in exchange_list:\n",
    "            col_list.append(cov1[:, [i,i+1]])\n",
    "        cov2 = torch.cat(col_list, dim=1)\n",
    "        return cov2"
   ]
  },
  {
   "cell_type": "markdown",
   "id": "09c2d839",
   "metadata": {},
   "source": [
    "# test measuredyne"
   ]
  },
  {
   "cell_type": "code",
   "execution_count": 133,
   "id": "459c249f",
   "metadata": {
    "ExecuteTime": {
     "end_time": "2024-08-20T07:14:43.059357Z",
     "start_time": "2024-08-20T07:14:43.050387Z"
    },
    "code_folding": [
     0
    ]
   },
   "outputs": [],
   "source": [
    "def permute_mat(i, j, size):\n",
    "    \"\"\"\n",
    "    return the permute matrix for exchanging i-th row with j -th row of matrix a \n",
    "    \"\"\"\n",
    "    p_row = torch.eye(size, dtype=torch.float)\n",
    "    p_row[[i, j]] = p_row[[j, i]]\n",
    "    return p_row"
   ]
  },
  {
   "cell_type": "code",
   "execution_count": 138,
   "id": "2e44ee27",
   "metadata": {
    "ExecuteTime": {
     "end_time": "2024-08-20T07:15:10.564022Z",
     "start_time": "2024-08-20T07:15:10.554051Z"
    },
    "code_folding": [
     0
    ]
   },
   "outputs": [],
   "source": [
    "def exchange_row_cols2(cov, measure_indices, reverse=False):\n",
    "    n = cov.size()[-1]\n",
    "    len_ = len(measure_indices)\n",
    "    j_indices = range(n - len_, n+1)\n",
    "    exchange_mat = torch.eye(n, dtype=cov.dtype)\n",
    "    for k in range(len(measure_indices)-1, -1, -1):\n",
    "        i = measure_indices[k]\n",
    "        j = j_indices[k]\n",
    "        p_mat = permute_mat(i, j, n)\n",
    "        exchange_mat =p_mat @ exchange_mat\n",
    "    if reverse:\n",
    "        exchange_mat = torch.linalg.inv(exchange_mat)\n",
    "    return exchange_mat @ cov @ exchange_mat.mT"
   ]
  },
  {
   "cell_type": "code",
   "execution_count": 2,
   "id": "90dd71a7",
   "metadata": {
    "ExecuteTime": {
     "end_time": "2024-08-21T05:48:23.919345Z",
     "start_time": "2024-08-21T05:48:23.696304Z"
    },
    "collapsed": true
   },
   "outputs": [
    {
     "ename": "NameError",
     "evalue": "name 'exchange_row_cols' is not defined",
     "output_type": "error",
     "traceback": [
      "\u001b[1;31m---------------------------------------------------------------------------\u001b[0m",
      "\u001b[1;31mNameError\u001b[0m                                 Traceback (most recent call last)",
      "Cell \u001b[1;32mIn[2], line 3\u001b[0m\n\u001b[0;32m      1\u001b[0m test \u001b[38;5;241m=\u001b[39m torch\u001b[38;5;241m.\u001b[39marange(\u001b[38;5;241m0\u001b[39m, \u001b[38;5;241m36\u001b[39m)\u001b[38;5;241m.\u001b[39mreshape(\u001b[38;5;241m6\u001b[39m, \u001b[38;5;241m6\u001b[39m)\n\u001b[0;32m      2\u001b[0m test\u001b[38;5;241m=\u001b[39mtest\u001b[38;5;241m.\u001b[39mto(torch\u001b[38;5;241m.\u001b[39mfloat)\n\u001b[1;32m----> 3\u001b[0m \u001b[43mexchange_row_cols\u001b[49m(test, [\u001b[38;5;241m0\u001b[39m,\u001b[38;5;241m1\u001b[39m,\u001b[38;5;241m2\u001b[39m,\u001b[38;5;241m3\u001b[39m])\n",
      "\u001b[1;31mNameError\u001b[0m: name 'exchange_row_cols' is not defined"
     ]
    }
   ],
   "source": [
    "test = torch.arange(0, 36).reshape(6, 6)\n",
    "test=test.to(torch.float)\n",
    "exchange_row_cols(test, [0,1,2,3])"
   ]
  },
  {
   "cell_type": "code",
   "execution_count": 4,
   "id": "f00827ce",
   "metadata": {
    "ExecuteTime": {
     "end_time": "2024-08-21T06:47:03.694111Z",
     "start_time": "2024-08-21T06:47:03.678163Z"
    }
   },
   "outputs": [],
   "source": [
    "import strawberryfields as sf\n",
    "from strawberryfields.ops import Sgate, BSgate, Rgate, MeasureHomodyne, Dgate"
   ]
  },
  {
   "cell_type": "code",
   "execution_count": 5,
   "id": "89bdc59f",
   "metadata": {
    "ExecuteTime": {
     "end_time": "2024-08-21T06:47:05.062901Z",
     "start_time": "2024-08-21T06:47:05.049918Z"
    }
   },
   "outputs": [],
   "source": [
    "np.set_printoptions( linewidth=1000)"
   ]
  },
  {
   "cell_type": "code",
   "execution_count": 16,
   "id": "d30da721",
   "metadata": {
    "ExecuteTime": {
     "end_time": "2024-08-21T06:47:45.350280Z",
     "start_time": "2024-08-21T06:47:45.342302Z"
    }
   },
   "outputs": [
    {
     "data": {
      "text/plain": [
       "(array([[ 1.        ,  0.        ,  0.        ,  0.        ,  0.        ,  0.        ],\n",
       "        [ 0.        ,  0.33649593, -0.10332561,  0.        , -0.09301699, -0.02066199],\n",
       "        [ 0.        , -0.10332561,  0.98408558,  0.        , -0.03378242, -0.00624742],\n",
       "        [ 0.        ,  0.        ,  0.        ,  1.        ,  0.        ,  0.        ],\n",
       "        [ 0.        , -0.09301699, -0.03378242,  0.        ,  3.10060268,  0.32896026],\n",
       "        [ 0.        , -0.02066199, -0.00624742,  0.        ,  0.32896026,  1.05146045]]),\n",
       " array([ 0.        ,  0.72910571,  0.11915392,  0.        , -0.51251546, -0.07381196]))"
      ]
     },
     "execution_count": 16,
     "metadata": {},
     "output_type": "execute_result"
    }
   ],
   "source": [
    "n = 3\n",
    "np.random.seed(42)\n",
    "\n",
    "r1 = np.random.rand(1)\n",
    "r2 = np.random.rand(1)\n",
    "r3 = np.random.rand(1)\n",
    "bs1 = np.random.rand(2)\n",
    "bs2 = np.random.rand(2)\n",
    "meas_angle = np.random.rand(1)\n",
    "\n",
    "prog0 = sf.Program(n)\n",
    "with prog0.context as q:\n",
    "#     for i in range(n - 1):\n",
    "    Sgate(r1) | q[0]\n",
    "    Dgate(r2) | q[1]\n",
    "    Sgate(r3) | q[1]\n",
    "    BSgate(*bs1) | (q[0], q[1])\n",
    "    BSgate(*bs2) | (q[1], q[2])\n",
    "\n",
    "    MeasureHomodyne(meas_angle[0]) | q[0]\n",
    "#     MeasureHomodyne(meas_angle[1]) | q[1]\n",
    "eng0 = sf.Engine(\"gaussian\")\n",
    "result0 = eng0.run(prog0)\n",
    "result0.state.cov(), result0.state.means() #xxpp"
   ]
  },
  {
   "cell_type": "code",
   "execution_count": 17,
   "id": "d527c398",
   "metadata": {
    "ExecuteTime": {
     "end_time": "2024-08-21T06:47:45.780684Z",
     "start_time": "2024-08-21T06:47:45.773711Z"
    }
   },
   "outputs": [
    {
     "data": {
      "text/plain": [
       "array([0.81493195])"
      ]
     },
     "execution_count": 17,
     "metadata": {},
     "output_type": "execute_result"
    }
   ],
   "source": [
    "result0.samples[0]"
   ]
  },
  {
   "cell_type": "code",
   "execution_count": 18,
   "id": "69b2a8dd",
   "metadata": {
    "ExecuteTime": {
     "end_time": "2024-08-21T06:47:46.225681Z",
     "start_time": "2024-08-21T06:47:46.204751Z"
    }
   },
   "outputs": [
    {
     "data": {
      "image/svg+xml": [
       "<svg baseProfile=\"full\" height=\"2.8636363636363638cm\" version=\"1.1\" width=\"12.0cm\" xmlns=\"http://www.w3.org/2000/svg\" xmlns:ev=\"http://www.w3.org/2001/xml-events\" xmlns:xlink=\"http://www.w3.org/1999/xlink\"><defs /><polyline fill=\"none\" points=\"40,30 130,30\" stroke=\"black\" stroke-width=\"2\" /><rect fill=\"royalblue\" height=\"12\" rx=\"0\" ry=\"0\" stroke=\"black\" stroke-width=\"1.5\" width=\"10\" x=\"82.5\" y=\"25\" /><text font-size=\"9\" x=\"83\" y=\"20\">S</text><text font-size=\"7\" x=\"95\" y=\"18\">r =0.375</text><text font-size=\"7\" x=\"95\" y=\"24\">θ =0.0</text><polyline fill=\"none\" points=\"40,60 130,60\" stroke=\"black\" stroke-width=\"2\" /><rect fill=\"green\" height=\"12\" rx=\"0\" ry=\"0\" stroke=\"black\" stroke-width=\"1.5\" width=\"10\" x=\"82.5\" y=\"55\" /><text font-size=\"9\" x=\"83\" y=\"50\">D</text><text font-size=\"7\" x=\"95\" y=\"48\">r =0.951</text><text font-size=\"7\" x=\"95\" y=\"54\">θ =0.0</text><polyline fill=\"none\" points=\"130,60 220,60\" stroke=\"black\" stroke-width=\"2\" /><rect fill=\"royalblue\" height=\"12\" rx=\"0\" ry=\"0\" stroke=\"black\" stroke-width=\"1.5\" width=\"10\" x=\"172.5\" y=\"55\" /><text font-size=\"9\" x=\"173\" y=\"50\">S</text><text font-size=\"7\" x=\"185\" y=\"48\">r =0.732</text><text font-size=\"7\" x=\"185\" y=\"54\">θ =0.0</text><polyline fill=\"none\" points=\"220,30 250,30 280,60 310,60\" stroke=\"black\" stroke-width=\"2\" /><polyline fill=\"none\" points=\"220,60 250,60 280,30 310,30\" stroke=\"black\" stroke-width=\"2\" /><text font-size=\"9\" x=\"260\" y=\"25\">BS</text><text font-size=\"7\" x=\"275\" y=\"44\">θ =0.599</text><text font-size=\"7\" x=\"275\" y=\"50\">ϕ =0.156</text><polyline fill=\"none\" points=\"310,60 340,60 370,90 400,90\" stroke=\"black\" stroke-width=\"2\" /><polyline fill=\"none\" points=\"310,90 340,90 370,60 400,60\" stroke=\"black\" stroke-width=\"2\" /><text font-size=\"9\" x=\"350\" y=\"55\">BS</text><text font-size=\"7\" x=\"365\" y=\"74\">θ =0.156</text><text font-size=\"7\" x=\"365\" y=\"80\">ϕ =0.058</text><polyline fill=\"none\" points=\"40,90 130,90\" stroke=\"black\" stroke-width=\"2\" /><polyline fill=\"none\" points=\"130,30 220,30\" stroke=\"black\" stroke-width=\"2\" /><polyline fill=\"none\" points=\"130,90 220,90\" stroke=\"black\" stroke-width=\"2\" /><polyline fill=\"none\" points=\"220,90 310,90\" stroke=\"black\" stroke-width=\"2\" /><polyline fill=\"none\" points=\"310,30 400,30\" stroke=\"black\" stroke-width=\"2\" /><text font-size=\"12\" x=\"25\" y=\"30\">0</text><text font-size=\"12\" x=\"25\" y=\"60\">1</text><text font-size=\"12\" x=\"25\" y=\"90\">2</text></svg>"
      ],
      "text/plain": [
       "<svgwrite.drawing.Drawing at 0x278defcc280>"
      ]
     },
     "execution_count": 18,
     "metadata": {},
     "output_type": "execute_result"
    }
   ],
   "source": [
    "###############\n",
    "nmode = 3\n",
    "circ = dq.QumodeCircuit(nmode=nmode, init_state='vac', cutoff=3, backend='gaussian', basis=True)\n",
    "circ.s([0], r=r1)\n",
    "circ.d([1], r=r2)\n",
    "circ.s([1], r=r3)\n",
    "circ.bs([0,1], inputs=bs1)\n",
    "circ.bs([1,2], inputs=bs2)\n",
    "circ.to(torch.double)\n",
    "st = circ()\n",
    "circ.draw()"
   ]
  },
  {
   "cell_type": "code",
   "execution_count": 19,
   "id": "6099f7c7",
   "metadata": {
    "ExecuteTime": {
     "end_time": "2024-08-21T06:47:46.872413Z",
     "start_time": "2024-08-21T06:47:46.859456Z"
    }
   },
   "outputs": [
    {
     "data": {
      "text/plain": [
       "[tensor([[[ 0.4275,  0.1097,  0.0197,  0.1995, -0.2751, -0.0422],\n",
       "          [ 0.1097,  0.3370, -0.1034, -0.1346, -0.0781, -0.0183],\n",
       "          [ 0.0197, -0.1034,  0.9841, -0.0120, -0.0355, -0.0065],\n",
       "          [ 0.1995, -0.1346, -0.0120,  2.7849, -1.0031, -0.1587],\n",
       "          [-0.2751, -0.0781, -0.0355, -1.0031,  3.5464,  0.3991],\n",
       "          [-0.0422, -0.0183, -0.0065, -0.1587,  0.3991,  1.0625]]],\n",
       "        dtype=torch.float64),\n",
       " tensor([[[-0.5091],\n",
       "          [ 0.7463],\n",
       "          [ 0.1172],\n",
       "          [ 0.0801],\n",
       "          [ 0.0000],\n",
       "          [ 0.0068]]], dtype=torch.float64)]"
      ]
     },
     "execution_count": 19,
     "metadata": {},
     "output_type": "execute_result"
    }
   ],
   "source": [
    "st "
   ]
  },
  {
   "cell_type": "code",
   "execution_count": 20,
   "id": "220ae0b6",
   "metadata": {
    "ExecuteTime": {
     "end_time": "2024-08-21T06:47:47.304066Z",
     "start_time": "2024-08-21T06:47:47.275164Z"
    }
   },
   "outputs": [
    {
     "data": {
      "text/plain": [
       "[tensor([[[ 1.0000,  0.0000,  0.0000,  0.0000,  0.0000,  0.0000],\n",
       "          [ 0.0000,  0.3365, -0.1033,  0.0000, -0.0930, -0.0207],\n",
       "          [ 0.0000, -0.1033,  0.9841,  0.0000, -0.0338, -0.0062],\n",
       "          [ 0.0000,  0.0000,  0.0000,  1.0000,  0.0000,  0.0000],\n",
       "          [ 0.0000, -0.0930, -0.0338,  0.0000,  3.1006,  0.3290],\n",
       "          [ 0.0000, -0.0207, -0.0062,  0.0000,  0.3290,  1.0515]]],\n",
       "        dtype=torch.float64),\n",
       " tensor([[[ 0.0000e+00],\n",
       "          [ 7.4627e-01],\n",
       "          [ 1.1717e-01],\n",
       "          [ 0.0000e+00],\n",
       "          [-3.0042e-04],\n",
       "          [ 6.7661e-03]]], dtype=torch.float64)]"
      ]
     },
     "execution_count": 20,
     "metadata": {},
     "output_type": "execute_result"
    }
   ],
   "source": [
    "torch.manual_seed(42)\n",
    "re = circ.measure_homodyne(wires=[0], shots=100000, thetas=meas_angle[0])\n",
    "circ.state"
   ]
  },
  {
   "cell_type": "code",
   "execution_count": 21,
   "id": "1cb1ac8d",
   "metadata": {
    "ExecuteTime": {
     "end_time": "2024-08-21T06:47:47.970113Z",
     "start_time": "2024-08-21T06:47:47.949184Z"
    }
   },
   "outputs": [
    {
     "data": {
      "image/svg+xml": [
       "<svg baseProfile=\"full\" height=\"2.8636363636363638cm\" version=\"1.1\" width=\"12.0cm\" xmlns=\"http://www.w3.org/2000/svg\" xmlns:ev=\"http://www.w3.org/2001/xml-events\" xmlns:xlink=\"http://www.w3.org/1999/xlink\"><defs /><polyline fill=\"none\" points=\"40,30 130,30\" stroke=\"black\" stroke-width=\"2\" /><rect fill=\"royalblue\" height=\"12\" rx=\"0\" ry=\"0\" stroke=\"black\" stroke-width=\"1.5\" width=\"10\" x=\"82.5\" y=\"25\" /><text font-size=\"9\" x=\"83\" y=\"20\">S</text><text font-size=\"7\" x=\"95\" y=\"18\">r =0.375</text><text font-size=\"7\" x=\"95\" y=\"24\">θ =0.0</text><polyline fill=\"none\" points=\"40,60 130,60\" stroke=\"black\" stroke-width=\"2\" /><rect fill=\"green\" height=\"12\" rx=\"0\" ry=\"0\" stroke=\"black\" stroke-width=\"1.5\" width=\"10\" x=\"82.5\" y=\"55\" /><text font-size=\"9\" x=\"83\" y=\"50\">D</text><text font-size=\"7\" x=\"95\" y=\"48\">r =0.951</text><text font-size=\"7\" x=\"95\" y=\"54\">θ =0.0</text><polyline fill=\"none\" points=\"130,60 220,60\" stroke=\"black\" stroke-width=\"2\" /><rect fill=\"royalblue\" height=\"12\" rx=\"0\" ry=\"0\" stroke=\"black\" stroke-width=\"1.5\" width=\"10\" x=\"172.5\" y=\"55\" /><text font-size=\"9\" x=\"173\" y=\"50\">S</text><text font-size=\"7\" x=\"185\" y=\"48\">r =0.732</text><text font-size=\"7\" x=\"185\" y=\"54\">θ =0.0</text><polyline fill=\"none\" points=\"220,30 250,30 280,60 310,60\" stroke=\"black\" stroke-width=\"2\" /><polyline fill=\"none\" points=\"220,60 250,60 280,30 310,30\" stroke=\"black\" stroke-width=\"2\" /><text font-size=\"9\" x=\"260\" y=\"25\">BS</text><text font-size=\"7\" x=\"275\" y=\"44\">θ =0.599</text><text font-size=\"7\" x=\"275\" y=\"50\">ϕ =0.156</text><polyline fill=\"none\" points=\"310,60 340,60 370,90 400,90\" stroke=\"black\" stroke-width=\"2\" /><polyline fill=\"none\" points=\"310,90 340,90 370,60 400,60\" stroke=\"black\" stroke-width=\"2\" /><text font-size=\"9\" x=\"350\" y=\"55\">BS</text><text font-size=\"7\" x=\"365\" y=\"74\">θ =0.156</text><text font-size=\"7\" x=\"365\" y=\"80\">ϕ =0.058</text><polyline fill=\"none\" points=\"310,30 400,30\" stroke=\"black\" stroke-width=\"2\" /><rect fill=\"teal\" height=\"12\" rx=\"0\" ry=\"0\" stroke=\"black\" stroke-width=\"1.5\" width=\"6\" x=\"352.5\" y=\"25\" /><text font-size=\"9\" x=\"350\" y=\"20\">PS</text><text font-size=\"7\" x=\"365\" y=\"20\">θ =-0.866</text><polyline fill=\"none\" points=\"40,90 130,90\" stroke=\"black\" stroke-width=\"2\" /><polyline fill=\"none\" points=\"130,30 220,30\" stroke=\"black\" stroke-width=\"2\" /><polyline fill=\"none\" points=\"130,90 220,90\" stroke=\"black\" stroke-width=\"2\" /><polyline fill=\"none\" points=\"220,90 310,90\" stroke=\"black\" stroke-width=\"2\" /><text font-size=\"12\" x=\"25\" y=\"30\">0</text><text font-size=\"12\" x=\"25\" y=\"60\">1</text><text font-size=\"12\" x=\"25\" y=\"90\">2</text></svg>"
      ],
      "text/plain": [
       "<svgwrite.drawing.Drawing at 0x278df1afbe0>"
      ]
     },
     "execution_count": 21,
     "metadata": {},
     "output_type": "execute_result"
    }
   ],
   "source": [
    "circ.draw()"
   ]
  },
  {
   "cell_type": "code",
   "execution_count": 22,
   "id": "12dcf591",
   "metadata": {
    "ExecuteTime": {
     "end_time": "2024-08-21T06:47:48.728327Z",
     "start_time": "2024-08-21T06:47:48.718356Z"
    }
   },
   "outputs": [
    {
     "data": {
      "text/plain": [
       "tensor(1.2514e-07, dtype=torch.float64)"
      ]
     },
     "execution_count": 22,
     "metadata": {},
     "output_type": "execute_result"
    }
   ],
   "source": [
    "abs(circ.state[0][0] - result0.state.cov()).max()"
   ]
  },
  {
   "cell_type": "code",
   "execution_count": null,
   "id": "282461f3",
   "metadata": {},
   "outputs": [],
   "source": []
  }
 ],
 "metadata": {
  "kernelspec": {
   "display_name": "dq_v3",
   "language": "python",
   "name": "dq_v3"
  },
  "language_info": {
   "codemirror_mode": {
    "name": "ipython",
    "version": 3
   },
   "file_extension": ".py",
   "mimetype": "text/x-python",
   "name": "python",
   "nbconvert_exporter": "python",
   "pygments_lexer": "ipython3",
   "version": "3.10.14"
  },
  "toc": {
   "base_numbering": 1,
   "nav_menu": {},
   "number_sections": true,
   "sideBar": true,
   "skip_h1_title": false,
   "title_cell": "Table of Contents",
   "title_sidebar": "Contents",
   "toc_cell": false,
   "toc_position": {
    "height": "calc(100% - 180px)",
    "left": "10px",
    "top": "150px",
    "width": "165px"
   },
   "toc_section_display": true,
   "toc_window_display": true
  },
  "varInspector": {
   "cols": {
    "lenName": 16,
    "lenType": 16,
    "lenVar": 40
   },
   "kernels_config": {
    "python": {
     "delete_cmd_postfix": "",
     "delete_cmd_prefix": "del ",
     "library": "var_list.py",
     "varRefreshCmd": "print(var_dic_list())"
    },
    "r": {
     "delete_cmd_postfix": ") ",
     "delete_cmd_prefix": "rm(",
     "library": "var_list.r",
     "varRefreshCmd": "cat(var_dic_list()) "
    }
   },
   "types_to_exclude": [
    "module",
    "function",
    "builtin_function_or_method",
    "instance",
    "_Feature"
   ],
   "window_display": false
  }
 },
 "nbformat": 4,
 "nbformat_minor": 5
}
