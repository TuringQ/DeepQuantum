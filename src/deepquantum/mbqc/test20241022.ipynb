{
 "cells": [
  {
   "cell_type": "code",
   "execution_count": 12,
   "id": "023aba04",
   "metadata": {
    "ExecuteTime": {
     "end_time": "2024-10-24T02:39:24.393858Z",
     "start_time": "2024-10-24T02:39:24.375094Z"
    }
   },
   "outputs": [],
   "source": [
    "import qmath \n",
    "import torch\n",
    "import mbqc"
   ]
  },
  {
   "cell_type": "markdown",
   "id": "b54efae4",
   "metadata": {},
   "source": [
    "# Cluster state"
   ]
  },
  {
   "cell_type": "markdown",
   "id": "907e779e",
   "metadata": {},
   "source": [
    "## using graph for cluster state"
   ]
  },
  {
   "cell_type": "code",
   "execution_count": 13,
   "id": "7aaa7633",
   "metadata": {
    "ExecuteTime": {
     "end_time": "2024-10-24T02:39:25.466886Z",
     "start_time": "2024-10-24T02:39:25.448432Z"
    }
   },
   "outputs": [],
   "source": [
    "verties = [0,1,2]\n",
    "edge = [[0,1]]\n",
    "graph = [verties, edge]\n",
    "mbqc_q2 = mbqc.MBQC(nqubit=2)\n",
    "mbqc_q2.set_graph(graph)"
   ]
  },
  {
   "cell_type": "code",
   "execution_count": 14,
   "id": "eec4fd57",
   "metadata": {
    "ExecuteTime": {
     "end_time": "2024-10-24T02:39:25.839124Z",
     "start_time": "2024-10-24T02:39:25.815164Z"
    }
   },
   "outputs": [
    {
     "name": "stdout",
     "output_type": "stream",
     "text": [
      "3\n"
     ]
    },
    {
     "data": {
      "text/plain": [
       "tensor([ 0.3536,  0.3536,  0.3536,  0.3536,  0.3536,  0.3536, -0.3536, -0.3536])"
      ]
     },
     "execution_count": 14,
     "metadata": {},
     "output_type": "execute_result"
    }
   ],
   "source": [
    "mbqc_q2()"
   ]
  },
  {
   "cell_type": "code",
   "execution_count": 15,
   "id": "9def6fd5",
   "metadata": {
    "ExecuteTime": {
     "end_time": "2024-10-24T02:39:26.321251Z",
     "start_time": "2024-10-24T02:39:26.186008Z"
    }
   },
   "outputs": [
    {
     "data": {
      "image/png": "[encoded data removed]",
      "text/plain": [
       "<Figure size 640x480 with 1 Axes>"
      ]
     },
     "metadata": {},
     "output_type": "display_data"
    }
   ],
   "source": [
    "mbqc_q2.draw()"
   ]
  },
  {
   "cell_type": "markdown",
   "id": "c75d089f",
   "metadata": {},
   "source": [
    "## Construct graph state step by step"
   ]
  },
  {
   "cell_type": "code",
   "execution_count": 16,
   "id": "1d826698",
   "metadata": {
    "ExecuteTime": {
     "end_time": "2024-10-24T02:39:26.913674Z",
     "start_time": "2024-10-24T02:39:26.887905Z"
    }
   },
   "outputs": [],
   "source": [
    "mbqc_q2 = mbqc.MBQC(nqubit=2)\n",
    "mbqc_q2.node(2)\n",
    "mbqc_q2.node(3)\n",
    "mbqc_q2.node(4)\n",
    "mbqc_q2.node(5)\n",
    "mbqc_q2.node(6)\n",
    "mbqc_q2.node(7)\n",
    "mbqc_q2.entanglement([0,2])\n",
    "mbqc_q2.entanglement([1,2])\n",
    "mbqc_q2.entanglement([0,3])\n",
    "mbqc_q2.entanglement([1,6])"
   ]
  },
  {
   "cell_type": "code",
   "execution_count": 17,
   "id": "38fc6b5e",
   "metadata": {
    "ExecuteTime": {
     "end_time": "2024-10-24T02:39:27.491136Z",
     "start_time": "2024-10-24T02:39:27.337383Z"
    }
   },
   "outputs": [
    {
     "data": {
      "image/png": "[encoded data removed]",
      "text/plain": [
       "<Figure size 640x480 with 1 Axes>"
      ]
     },
     "metadata": {},
     "output_type": "display_data"
    }
   ],
   "source": [
    "mbqc_q2.draw()"
   ]
  },
  {
   "cell_type": "code",
   "execution_count": null,
   "id": "d8e2464b",
   "metadata": {},
   "outputs": [],
   "source": []
  }
 ],
 "metadata": {
  "kernelspec": {
   "display_name": "dq_v3",
   "language": "python",
   "name": "dq_v3"
  },
  "language_info": {
   "codemirror_mode": {
    "name": "ipython",
    "version": 3
   },
   "file_extension": ".py",
   "mimetype": "text/x-python",
   "name": "python",
   "nbconvert_exporter": "python",
   "pygments_lexer": "ipython3",
   "version": "3.10.14"
  },
  "toc": {
   "base_numbering": 1,
   "nav_menu": {},
   "number_sections": true,
   "sideBar": true,
   "skip_h1_title": false,
   "title_cell": "Table of Contents",
   "title_sidebar": "Contents",
   "toc_cell": false,
   "toc_position": {},
   "toc_section_display": true,
   "toc_window_display": false
  },
  "varInspector": {
   "cols": {
    "lenName": 16,
    "lenType": 16,
    "lenVar": 40
   },
   "kernels_config": {
    "python": {
     "delete_cmd_postfix": "",
     "delete_cmd_prefix": "del ",
     "library": "var_list.py",
     "varRefreshCmd": "print(var_dic_list())"
    },
    "r": {
     "delete_cmd_postfix": ") ",
     "delete_cmd_prefix": "rm(",
     "library": "var_list.r",
     "varRefreshCmd": "cat(var_dic_list()) "
    }
   },
   "types_to_exclude": [
    "module",
    "function",
    "builtin_function_or_method",
    "instance",
    "_Feature"
   ],
   "window_display": false
  }
 },
 "nbformat": 4,
 "nbformat_minor": 5
}
