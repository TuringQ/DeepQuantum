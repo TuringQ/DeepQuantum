{
 "cells": [
  {
   "cell_type": "code",
   "execution_count": 1,
   "metadata": {},
   "outputs": [],
   "source": [
    "import qmath\n",
    "import torch\n",
    "import mbqc"
   ]
  },
  {
   "cell_type": "code",
   "execution_count": 2,
   "metadata": {},
   "outputs": [
    {
     "data": {
      "text/plain": [
       "MBQC(\n",
       "  (operators): Sequential(\n",
       "    (0): Node(wires=[1])\n",
       "    (1): Entanglement(wires=[0, 1])\n",
       "    (2): Measurement(wires=[0], plane=XY, angle=0, t_domain=None, s_domain=None)\n",
       "    (3): XCorrection(wires=[1], signal_domain=[0])\n",
       "    (4): Node(wires=[2])\n",
       "    (5): Entanglement(wires=[1, 2])\n",
       "    (6): Measurement(wires=[2], plane=XY, angle=0, t_domain=None, s_domain=None)\n",
       "    (7): XCorrection(wires=[1], signal_domain=[0])\n",
       "  )\n",
       ")"
      ]
     },
     "execution_count": 2,
     "metadata": {},
     "output_type": "execute_result"
    }
   ],
   "source": [
    "mbqc_q2 = mbqc.MBQC(nqubit=1)\n",
    "mbqc_q2.node(1)\n",
    "mbqc_q2.entanglement([0,1])\n",
    "\n",
    "mbqc_q2.measurement(wires=0)\n",
    "\n",
    "mbqc_q2.X(wires=1, signal_domain=[0])\n",
    "mbqc_q2.node(2)\n",
    "mbqc_q2.entanglement([1,2])\n",
    "\n",
    "mbqc_q2.measurement(wires=2)\n",
    "\n",
    "mbqc_q2.X(wires=1, signal_domain=[0])\n",
    "# mbqc_q2.Z(wires=1, signal_domain=[0,1])\n",
    "mbqc_q2\n"
   ]
  },
  {
   "cell_type": "code",
   "execution_count": 3,
   "metadata": {},
   "outputs": [
    {
     "name": "stdout",
     "output_type": "stream",
     "text": [
      "tensor([ 1.0000e+00+0.j, -1.9419e-16+0.j])\n"
     ]
    }
   ],
   "source": [
    "print(mbqc_q2())"
   ]
  },
  {
   "cell_type": "code",
   "execution_count": 4,
   "metadata": {},
   "outputs": [
    {
     "data": {
      "text/plain": [
       "{0: 0, 2: 0}"
      ]
     },
     "execution_count": 4,
     "metadata": {},
     "output_type": "execute_result"
    }
   ],
   "source": [
    "mbqc_q2.measured_dic"
   ]
  },
  {
   "cell_type": "code",
   "execution_count": 5,
   "metadata": {},
   "outputs": [
    {
     "data": {
      "image/png": "[encoded data removed]",
      "text/plain": [
       "<Figure size 640x480 with 1 Axes>"
      ]
     },
     "metadata": {},
     "output_type": "display_data"
    }
   ],
   "source": [
    "\n",
    "mbqc_q2.draw(wid=3)"
   ]
  },
  {
   "cell_type": "code",
   "execution_count": 6,
   "metadata": {},
   "outputs": [
    {
     "data": {
      "text/plain": [
       "MBQC(\n",
       "  (operators): Sequential(\n",
       "    (0): Node(wires=[2])\n",
       "    (1): Node(wires=[3])\n",
       "    (2): Node(wires=[4])\n",
       "    (3): Node(wires=[5])\n",
       "    (4): Node(wires=[6])\n",
       "    (5): Node(wires=[7])\n",
       "    (6): Entanglement(wires=[0, 2])\n",
       "    (7): Entanglement(wires=[1, 2])\n",
       "    (8): Entanglement(wires=[0, 3])\n",
       "    (9): Entanglement(wires=[1, 6])\n",
       "    (10): Measurement(wires=[0], plane=XY, angle=0, t_domain=None, s_domain=None)\n",
       "    (11): Measurement(wires=[3], plane=XY, angle=0, t_domain=None, s_domain=None)\n",
       "    (12): Measurement(wires=[6], plane=XY, angle=0, t_domain=None, s_domain=None)\n",
       "    (13): XCorrection(wires=[7], signal_domain=[0, 1])\n",
       "    (14): ZCorrection(wires=[7], signal_domain=[0, 1])\n",
       "  )\n",
       ")"
      ]
     },
     "execution_count": 6,
     "metadata": {},
     "output_type": "execute_result"
    }
   ],
   "source": [
    "mbqc_q2 = mbqc.MBQC(nqubit=2)\n",
    "mbqc_q2.node(2)\n",
    "mbqc_q2.node(3)\n",
    "mbqc_q2.node(4)\n",
    "\n",
    "mbqc_q2.node(5)\n",
    "mbqc_q2.node(6)\n",
    "mbqc_q2.node(7)\n",
    "mbqc_q2.entanglement([0,2])\n",
    "mbqc_q2.entanglement([1,2])\n",
    "mbqc_q2.entanglement([0,3])\n",
    "mbqc_q2.entanglement([1,6])\n",
    "mbqc_q2.measurement(wires=0)\n",
    "mbqc_q2.measurement(wires=3)\n",
    "mbqc_q2.measurement(wires=6)\n",
    "mbqc_q2.X(wires=7, signal_domain=[0,1])\n",
    "mbqc_q2.Z(wires=7, signal_domain=[0,1])\n",
    "mbqc_q2\n"
   ]
  },
  {
   "cell_type": "code",
   "execution_count": 7,
   "metadata": {},
   "outputs": [
    {
     "data": {
      "text/plain": [
       "{1: 0, 2: 1, 4: 2, 5: 3, 7: 4}"
      ]
     },
     "execution_count": 7,
     "metadata": {},
     "output_type": "execute_result"
    }
   ],
   "source": [
    "mbqc_q2()\n",
    "mbqc_q2.unmeasured_dic"
   ]
  },
  {
   "cell_type": "code",
   "execution_count": 8,
   "metadata": {},
   "outputs": [
    {
     "data": {
      "text/plain": [
       "{0: 0, 3: 0, 6: 0}"
      ]
     },
     "execution_count": 8,
     "metadata": {},
     "output_type": "execute_result"
    }
   ],
   "source": [
    "mbqc_q2.measured_dic\n"
   ]
  },
  {
   "cell_type": "code",
   "execution_count": 9,
   "metadata": {},
   "outputs": [
    {
     "data": {
      "image/png": "[encoded data removed]",
      "text/plain": [
       "<Figure size 640x480 with 1 Axes>"
      ]
     },
     "metadata": {},
     "output_type": "display_data"
    }
   ],
   "source": [
    "mbqc_q2.draw(wid=3)\n"
   ]
  },
  {
   "cell_type": "code",
   "execution_count": 10,
   "metadata": {},
   "outputs": [
    {
     "name": "stdout",
     "output_type": "stream",
     "text": [
      "None\n"
     ]
    }
   ],
   "source": [
    "print(mbqc_q2.measured_dic.get(2))"
   ]
  },
  {
   "cell_type": "code",
   "execution_count": 11,
   "metadata": {},
   "outputs": [
    {
     "name": "stdout",
     "output_type": "stream",
     "text": [
      "Initial state: tensor([0.3536, 0.3536, 0.3536, 0.3536, 0.3536, 0.3536, 0.3536, 0.3536])\n",
      "After applying Pauli-Z to qubit 1 : tensor([ 0.3536,  0.3536, -0.3536, -0.3536,  0.3536,  0.3536, -0.3536, -0.3536])\n"
     ]
    }
   ],
   "source": [
    "def apply_matrix_to_qubit(state_vector, matrix, target_qubit):\n",
    "    \"\"\"\n",
    "    Apply a 2x2 matrix to a specific qubit in a multi-qubit state vector.\n",
    "\n",
    "    Args:\n",
    "    state_vector (torch.Tensor): The multi-qubit state vector.\n",
    "    matrix (torch.Tensor): The 2x2 matrix to apply.\n",
    "    target_qubit (int): The index of the qubit to apply the matrix to.\n",
    "\n",
    "    Returns:\n",
    "    torch.Tensor: The state vector after applying the matrix.\n",
    "    \"\"\"\n",
    "    num_qubits = int(torch.log2(torch.tensor(state_vector.shape[0])))\n",
    "\n",
    "    if target_qubit >= num_qubits:\n",
    "        raise ValueError(\"Target qubit index out of range.\")\n",
    "\n",
    "    # Reshape the state vector to a multi-dimensional tensor\n",
    "    state_tensor = state_vector.view([2] * num_qubits)\n",
    "\n",
    "    # Permute the target qubit to the first position\n",
    "    perm = [target_qubit] + [i for i in range(num_qubits) if i != target_qubit]\n",
    "    state_tensor = state_tensor.permute(perm)\n",
    "\n",
    "    # Reshape to apply the matrix\n",
    "    state_tensor = state_tensor.reshape(2, -1)\n",
    "\n",
    "    # Apply the matrix\n",
    "    state_tensor = torch.matmul(matrix, state_tensor)\n",
    "\n",
    "    # Reshape and permute back\n",
    "    state_tensor = state_tensor.reshape([2] * num_qubits)\n",
    "    inv_perm = [perm.index(i) for i in range(num_qubits)]\n",
    "    state_tensor = state_tensor.permute(inv_perm)\n",
    "\n",
    "    # Reshape back to a vector\n",
    "    return state_tensor.reshape(-1)\n",
    "\n",
    "# Example usage:\n",
    "num_qubits = 3\n",
    "initial_state = torch.ones(2**num_qubits) / torch.sqrt(torch.tensor(2**num_qubits))\n",
    "target_qubit = 1\n",
    "pauli_z = torch.tensor([[1., 0.], [0., -1.]])\n",
    "\n",
    "result = apply_matrix_to_qubit(initial_state, pauli_z, target_qubit)\n",
    "print(\"Initial state:\", initial_state)\n",
    "print(\"After applying Pauli-Z to qubit\", target_qubit, \":\", result)\n"
   ]
  }
 ],
 "metadata": {
  "kernelspec": {
   "display_name": "dq_cuda_240",
   "language": "python",
   "name": "python3"
  },
  "language_info": {
   "codemirror_mode": {
    "name": "ipython",
    "version": 3
   },
   "file_extension": ".py",
   "mimetype": "text/x-python",
   "name": "python",
   "nbconvert_exporter": "python",
   "pygments_lexer": "ipython3",
   "version": "3.10.14"
  }
 },
 "nbformat": 4,
 "nbformat_minor": 2
}
