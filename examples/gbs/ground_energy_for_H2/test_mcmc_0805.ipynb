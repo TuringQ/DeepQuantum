{
 "cells": [
  {
   "cell_type": "code",
   "execution_count": 1,
   "id": "f9a904c3",
   "metadata": {
    "ExecuteTime": {
     "end_time": "2024-08-05T08:31:55.285869Z",
     "start_time": "2024-08-05T08:31:52.710884Z"
    }
   },
   "outputs": [],
   "source": [
    "import deepquantum as dq\n",
    "import matplotlib.pyplot as plt\n",
    " \n",
    "from scipy import io\n",
    "import torch"
   ]
  },
  {
   "cell_type": "code",
   "execution_count": 2,
   "id": "58ad0a0d",
   "metadata": {
    "ExecuteTime": {
     "end_time": "2024-08-05T08:31:56.144213Z",
     "start_time": "2024-08-05T08:31:56.118213Z"
    }
   },
   "outputs": [
    {
     "data": {
      "image/svg+xml": [
       "<svg baseProfile=\"full\" height=\"1.9090909090909092cm\" version=\"1.1\" width=\"9.3cm\" xmlns=\"http://www.w3.org/2000/svg\" xmlns:ev=\"http://www.w3.org/2001/xml-events\" xmlns:xlink=\"http://www.w3.org/1999/xlink\"><defs /><polyline fill=\"none\" points=\"40,30 130,30\" stroke=\"black\" stroke-width=\"2\" /><rect fill=\"teal\" height=\"12\" rx=\"0\" ry=\"0\" stroke=\"black\" stroke-width=\"1.5\" width=\"6\" x=\"82.5\" y=\"25\" /><text font-size=\"9\" x=\"80\" y=\"20\">PS</text><text font-size=\"7\" x=\"95\" y=\"20\">θ =5.619</text><polyline fill=\"none\" points=\"40,60 130,60\" stroke=\"black\" stroke-width=\"2\" /><rect fill=\"teal\" height=\"12\" rx=\"0\" ry=\"0\" stroke=\"black\" stroke-width=\"1.5\" width=\"6\" x=\"82.5\" y=\"55\" /><text font-size=\"9\" x=\"80\" y=\"50\">PS</text><text font-size=\"7\" x=\"95\" y=\"50\">θ =0.803</text><polyline fill=\"none\" points=\"130,30 160,30 190,60 220,60\" stroke=\"black\" stroke-width=\"2\" /><polyline fill=\"none\" points=\"130,60 160,60 190,30 220,30\" stroke=\"black\" stroke-width=\"2\" /><text font-size=\"9\" x=\"170\" y=\"25\">BS</text><text font-size=\"7\" x=\"185\" y=\"44\">θ =3.498</text><text font-size=\"7\" x=\"185\" y=\"50\">ϕ =0.417</text><polyline fill=\"none\" points=\"220,30 310,30\" stroke=\"black\" stroke-width=\"2\" /><rect fill=\"teal\" height=\"12\" rx=\"0\" ry=\"0\" stroke=\"black\" stroke-width=\"1.5\" width=\"6\" x=\"262.5\" y=\"25\" /><text font-size=\"9\" x=\"260\" y=\"20\">PS</text><text font-size=\"7\" x=\"275\" y=\"20\">θ =3.754</text><polyline fill=\"none\" points=\"220,60 310,60\" stroke=\"black\" stroke-width=\"2\" /><rect fill=\"teal\" height=\"12\" rx=\"0\" ry=\"0\" stroke=\"black\" stroke-width=\"1.5\" width=\"6\" x=\"262.5\" y=\"55\" /><text font-size=\"9\" x=\"260\" y=\"50\">PS</text><text font-size=\"7\" x=\"275\" y=\"50\">θ =0.218</text><text font-size=\"12\" x=\"25\" y=\"30\">0</text><text font-size=\"12\" x=\"25\" y=\"60\">1</text></svg>"
      ],
      "text/plain": [
       "<svgwrite.drawing.Drawing at 0x1c875b89150>"
      ]
     },
     "execution_count": 2,
     "metadata": {},
     "output_type": "execute_result"
    }
   ],
   "source": [
    "nmode = 2\n",
    "cir = dq.QumodeCircuit(nmode=nmode, init_state=[1, 1], cutoff=3, backend='fock', basis=True)\n",
    "cir.ps([0])\n",
    "cir.ps([1])\n",
    "cir.bs([0,1])\n",
    "cir.ps([0])\n",
    "cir.ps([1])\n",
    "cir.draw()"
   ]
  },
  {
   "cell_type": "code",
   "execution_count": 3,
   "id": "f27afc73",
   "metadata": {
    "ExecuteTime": {
     "end_time": "2024-08-05T08:31:56.742363Z",
     "start_time": "2024-08-05T08:31:56.724423Z"
    }
   },
   "outputs": [
    {
     "data": {
      "text/plain": [
       "tensor([[ 0.9358-0.0489j, -0.1891-0.2936j],\n",
       "        [-0.3490+0.0105j, -0.4897-0.7989j]], grad_fn=<MmBackward0>)"
      ]
     },
     "execution_count": 3,
     "metadata": {},
     "output_type": "execute_result"
    }
   ],
   "source": [
    "state = cir(is_prob=None)\n",
    "state"
   ]
  },
  {
   "cell_type": "code",
   "execution_count": 4,
   "id": "8210980b",
   "metadata": {
    "ExecuteTime": {
     "end_time": "2024-08-05T08:31:57.587560Z",
     "start_time": "2024-08-05T08:31:57.574604Z"
    }
   },
   "outputs": [
    {
     "data": {
      "text/plain": [
       "tensor([[ 0.9358-0.0489j, -0.1891-0.2936j],\n",
       "        [-0.3490+0.0105j, -0.4897-0.7989j]], grad_fn=<MmBackward0>)"
      ]
     },
     "execution_count": 4,
     "metadata": {},
     "output_type": "execute_result"
    }
   ],
   "source": [
    "state"
   ]
  },
  {
   "cell_type": "code",
   "execution_count": 5,
   "id": "f25efe2d",
   "metadata": {
    "ExecuteTime": {
     "end_time": "2024-08-05T08:31:58.322867Z",
     "start_time": "2024-08-05T08:31:58.294991Z"
    }
   },
   "outputs": [
    {
     "name": "stdout",
     "output_type": "stream",
     "text": [
      "state torch.int64 fstate torch.int64\n",
      "state torch.int64 fstate torch.int64\n",
      "state torch.int64 fstate torch.int64\n"
     ]
    }
   ],
   "source": [
    "meas = cir.measure(shots=100, mcmc=False)"
   ]
  },
  {
   "cell_type": "code",
   "execution_count": 6,
   "id": "08938f28",
   "metadata": {
    "ExecuteTime": {
     "end_time": "2024-08-05T08:32:03.622499Z",
     "start_time": "2024-08-05T08:32:03.606552Z"
    }
   },
   "outputs": [
    {
     "data": {
      "text/plain": [
       "{|11>: 59, |02>: 21, |20>: 20}"
      ]
     },
     "execution_count": 6,
     "metadata": {},
     "output_type": "execute_result"
    }
   ],
   "source": [
    "meas"
   ]
  },
  {
   "cell_type": "code",
   "execution_count": 7,
   "id": "f4141dde",
   "metadata": {
    "ExecuteTime": {
     "end_time": "2024-08-05T08:32:04.310584Z",
     "start_time": "2024-08-05T08:32:04.294637Z"
    }
   },
   "outputs": [
    {
     "data": {
      "text/plain": [
       "{|11>: 59, |02>: 21, |20>: 20}"
      ]
     },
     "execution_count": 7,
     "metadata": {},
     "output_type": "execute_result"
    }
   ],
   "source": [
    "meas"
   ]
  },
  {
   "cell_type": "code",
   "execution_count": null,
   "id": "9d7b0665",
   "metadata": {},
   "outputs": [],
   "source": []
  }
 ],
 "metadata": {
  "kernelspec": {
   "display_name": "dq_v3",
   "language": "python",
   "name": "dq_v3"
  },
  "language_info": {
   "codemirror_mode": {
    "name": "ipython",
    "version": 3
   },
   "file_extension": ".py",
   "mimetype": "text/x-python",
   "name": "python",
   "nbconvert_exporter": "python",
   "pygments_lexer": "ipython3",
   "version": "3.10.14"
  },
  "toc": {
   "base_numbering": 1,
   "nav_menu": {},
   "number_sections": true,
   "sideBar": true,
   "skip_h1_title": false,
   "title_cell": "Table of Contents",
   "title_sidebar": "Contents",
   "toc_cell": false,
   "toc_position": {},
   "toc_section_display": true,
   "toc_window_display": false
  },
  "varInspector": {
   "cols": {
    "lenName": 16,
    "lenType": 16,
    "lenVar": 40
   },
   "kernels_config": {
    "python": {
     "delete_cmd_postfix": "",
     "delete_cmd_prefix": "del ",
     "library": "var_list.py",
     "varRefreshCmd": "print(var_dic_list())"
    },
    "r": {
     "delete_cmd_postfix": ") ",
     "delete_cmd_prefix": "rm(",
     "library": "var_list.r",
     "varRefreshCmd": "cat(var_dic_list()) "
    }
   },
   "types_to_exclude": [
    "module",
    "function",
    "builtin_function_or_method",
    "instance",
    "_Feature"
   ],
   "window_display": false
  }
 },
 "nbformat": 4,
 "nbformat_minor": 5
}
