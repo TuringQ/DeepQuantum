{
 "cells": [
  {
   "cell_type": "markdown",
   "metadata": {},
   "source": [
    "# 高斯玻色采样模拟分子振动光谱"
   ]
  },
  {
   "cell_type": "markdown",
   "metadata": {},
   "source": [
    "此研究涉及两个主要领域。其中之一是关于量子信息和量子计算机的研究。我们选择**玻色采样**进行讨论。\n",
    "目前，有多种物理实现方式可以进行玻色子取样，但最常见的是光子解决方案。\n",
    "在该方案中，单光子态被用作输入到干涉仪，在输出端测量光子数。\n",
    "干涉装置相对简单；而制备单光子和测量光子数对仪器的要求较高。\n",
    "因此，如果我们考虑使用相干激光，可以让实验简便一些。\n",
    "由于相干态可以用高斯分布描述，这种类型的玻色子采样被称为高斯玻色采样。\n",
    "\n",
    "\n",
    "另一个主要领域是**光谱学**。我们以分子振动光谱为例，模拟不同带电态之间转变的概率，从而近似确定分子振动谱。\n",
    "这种方法可以使用高斯玻色采样来实现。\n",
    "参考 [Huh](https://doi.org/10.1038/nphoton.2015.153) 的研究工作，我们在基于玻色采样的模拟器上实现该模拟过程。"
   ]
  },
  {
   "cell_type": "markdown",
   "metadata": {},
   "source": [
    "## 高斯玻色采样\n",
    "\n",
    "量子比特是一个抽象的二维量子物理系统。\n",
    "其希尔伯特空间通常可由两个基态 $\\left|0\\right\\rangle$ 和 $\\left|1\\right\\rangle$ 来描述。\n",
    "不同量子比特可以处于叠加态和纠缠状态。\n",
    "我们可将其推广到3维、4维以至有限的 $d$-维空间中。\n",
    "\n",
    "以上内容可以进一步推广到无限维度。\n",
    "玻色子粒子是这种类型的量子物理系统的一个例子，其中在给定状态中可以有无限多个粒子。\n",
    "这样的系统仍然是量子系统，仍具有叠加和纠缠性。\n",
    "在可数无限维度情况下，量子态被称为 qumodes。\n",
    "\n",
    "在真实物理系统中，任何物理量都需要通过多次测量来确定其状态分布。\n",
    "因此量子计算机都是对抽样问题的物理实现。\n",
    "在可数无限维度的情况下，这被称为玻色子采样。\n",
    "\n",
    "在多种玻色采样的物理实现方式中，最简单的仍然是光子方案。\n",
    "量子光学设备在 qumodes 上为幺正算符。常用高斯算符如下：\n",
    "\n",
    "\n",
    "$$\\mathcal{P}_{i}\\left(\\phi\\right)=e^{-i\\phi a_{i}^{\\dagger}a_{i}}$$\n",
    "\n",
    "$$\\mathcal{D}_{i}\\left(\\alpha\\right)=e^{\\alpha a_{i}^{\\dagger}-\\alpha^{*}a_{i}}$$\n",
    "\n",
    "$$\\mathcal{S}_{i}\\left(\\zeta\\right)=e^{\\frac{1}{2}\\left(\\zeta^{*}a_{i}^{2}-\\zeta a_{i}^{\\dagger2}\\right)}$$\n",
    "\n",
    "$$\\mathcal{B}_{ij}\\left(\\theta\\right)=e^{\\theta\\left(a_{i}^{\\dagger}a_{j}-a_{i}a_{j}^{\\dagger}\\right)}$$\n",
    "\n",
    "\n",
    "事实上，一个纯的光子数态，即 $\\left|n\\right\\rangle$, 在技术上很难做到。\n",
    "$\\left|1\\right\\rangle$ 意味着特定量子模式中只有一个光子。\n",
    "精确地产生一个光子是一项巨大挑战。\n",
    "而相干光是每个量子模式的可数无限状态之和，高斯玻色采样以相干光作为输入，是一种更简单的解决方案。"
   ]
  },
  {
   "cell_type": "markdown",
   "metadata": {},
   "source": [
    "## 分子的振动光谱简要描述"
   ]
  },
  {
   "cell_type": "markdown",
   "metadata": {},
   "source": [
    "<div align=center>\n",
    "\t<img src=\"./fig/Franck_Condon_Diagram.png\" width=\"30%\"/>\t\n",
    "</div>\n",
    "\n",
    "<center>\n",
    "  <a href=\"https://chem.libretexts.org/@api/deki/files/79071/800px-Franck_Condon_Diagram.svg.png?revision=1\">Franck–Condon原理能级图</a>\n",
    "</center>"
   ]
  },
  {
   "cell_type": "markdown",
   "metadata": {},
   "source": [
    "光谱学的一个主要问题是检查原子和分子之间电荷状态的跃迁。\n",
    "分子吸收的光频率便是取决于不同电子态之间的允许跃迁。\n",
    "这些电子跃迁可能伴随着分子振动能量的变化。\n",
    "在这种情况下，代表更强烈吸收光的频率的吸收线被称为振动光谱。\n",
    "然而，除了氢原子可以被精确解决外，随着电子数量增加，量子力学方程变得指数级复杂，使得对它们的计算变得不可能。因此必须使用近似方法。\n",
    "\n",
    "如果假设核和电子状态是独立的，对于极其复杂的分子系统，一个很好的近似称为玻恩-奥本海默近似。\n",
    "由于原子核的质量较大，其对电子壳层变化反应更慢，因此在 Franck-Condon 原理中可以将原子核视为恒定。\n",
    "\n",
    "通过用简单的量子谐振子来近似电子的振动，可以将电子的哈密顿算符写成反应坐标的函数。\n",
    "然后，电子势能表面已经可以用抛物线描述。\n",
    "\n",
    "$$\\mathcal{H}=p^{2}+q^{2}$$\n",
    "\n",
    "Duschinsky 提出一种近似方法，不同电子态的简正坐标之间存在线性关系\n",
    "\n",
    "$$q'=U_{D}q+d$$\n",
    "\n",
    "Doktorov 证明，在这些条件下，对于这样的量子谐振子，不同势能面上的量子态 $\\left|\\phi\\right\\rangle$ 和 $\\left|\\phi'\\right\\rangle$ 之间的关系可以用以下方式给出:\n",
    "\n",
    "$$\\left|\\phi'\\right\\rangle =U_{Dokt}\\left|\\phi\\right\\rangle  $$\n",
    "\n",
    "其中，Doktorov 算子定义为\n",
    "\n",
    "$$U_{Dok}=D\\left(d\\right)S^{\\dagger}\\left(\\Omega'\\right)R\\left(U_{Dusch}\\right)S_{\\Omega}\\left(\\Omega\\right)$$\n",
    "\n",
    "- 旋转算符的输入参数是Duschinsky混合矩阵本身\n",
    "\n",
    "- 位移算符D的参数是Duschinsky位移\n",
    "- 压缩算符是从分子的物理特性推导出来的。$\\Omega$ 和 $\\Omega'$ 是分子内原子在发生跃迁前后谐波的角频率\n",
    "\n",
    "上面哈密顿量的本征值问题的解是 Fock 空间中的相干态。高斯算符作用于它们之后，将一个相干态转换为另一个相干态。\n",
    "不同电子态之间的转移概率，即所谓的 Franck-Condon 因子，可以近似表示为\n",
    "\n",
    "$$\n",
    "FCF_{n',n}\t=\\left|\\left\\langle \\phi'|\\phi\\right\\rangle \\right|^{2}\n",
    "\t=\\left|\\left\\langle n'\\right|U_{Dokt}\\left|n\\right\\rangle \\right|^{2}\n",
    "$$\n",
    "\t\n",
    "玻色子采样的计算在于对 qumodes 进行旋转矩阵操作。\n",
    "在我们计算振动光谱时，使用上面的 Doktorov 算符。其过程为\n",
    "\n",
    "1. 制备相干态\n",
    "\n",
    "2. 将相干态传输到一个玻色采样设备，以获得转移概率\n",
    "3. 进行第二次压缩，测量各模式分布，进一步计算FCF\n",
    "\n"
   ]
  },
  {
   "cell_type": "markdown",
   "metadata": {},
   "source": [
    "### Hessian matrix\n",
    "\n",
    "对于一双原子分子，假设谐振子势能\n",
    "\n",
    "$$V=\\frac{k}{2}(r-r_e)^2$$\n",
    "\n",
    "其中 $r$ 是两个核之间的距离，$r_e$ 是它们的平衡距离。\n",
    "简单起见，可只考虑X轴。我们可以用两个原子的笛卡尔坐标 $x_1$（对应原子1）和 $x_2$（对应原子2）来表示这一点。\n",
    "则，$r = x_2 - x_1$。\n",
    "\n",
    "势能的二阶导数是：\n",
    "\n",
    "$$\\frac{d^{2}V}{dx_{1}^{2}}=k$$\n",
    "\n",
    "$$\\frac{d^{2}V}{dx_{2}^{2}}=k$$\n",
    "\n",
    "$$\\frac{d^{2}V}{dx_{1}dx_{2}}=\\frac{d^{2}V}{dx_{2}dx_{1}}=-k$$\n",
    "\n",
    "\n",
    "Hessian矩阵（仅针对x方向）为：\n",
    "\n",
    "$$\n",
    "H=\\left(\\begin{array}{cc}\n",
    "k & -k\\\\\n",
    "-k & k\n",
    "\\end{array}\\right)\n",
    "$$\n",
    "\n",
    "质量加权的Hessian矩阵是：\n",
    "\n",
    "$$\n",
    "F=\\left(\\begin{array}{cc}\n",
    "\\frac{k}{m_{1}} & -\\frac{k}{\\sqrt{m_{1}m_{2}}}\\\\\n",
    "-\\frac{k}{\\sqrt{m_{1}m_{2}}} & \\frac{k}{m_{2}}\n",
    "\\end{array}\\right)\n",
    "$$\n",
    "\n",
    "如果我们有了系统的Hessian矩阵和质量加权Hessian矩阵，就可以由特征向量定义质量加权简正模式。\n",
    "接着，利用分子的平衡结构坐标数据、质量加权简正坐标等数据可以求解所需高斯算符参数。\n",
    "\n",
    "\n",
    "[Jankowiak](https://pubs.aip.org/aip/jcp/article-abstract/127/23/234101/906357/Vibronic-transitions-in-large-molecular-systems?redirectedFrom=fulltext)的补充材料提供了一些分子的相关数据。\n",
    "我们以甲酸（$1^{1}A'\\rightarrow1^{2}A'$）为例计算分子振动光谱："
   ]
  },
  {
   "cell_type": "code",
   "execution_count": 13,
   "metadata": {},
   "outputs": [],
   "source": [
    "import numpy as np\n",
    "import deepquantum as dq\n",
    "import torch\n",
    "import matplotlib.pyplot as plt"
   ]
  },
  {
   "cell_type": "markdown",
   "metadata": {},
   "source": [
    "$1^1A'$ 态及$1^2A'$ 态的平衡结构坐标如下"
   ]
  },
  {
   "cell_type": "code",
   "execution_count": 14,
   "metadata": {},
   "outputs": [],
   "source": [
    "ri = np.genfromtxt(\"./data/formic_ri.csv\", delimiter=\",\", skip_header=0)[:, np.newaxis]\n",
    "rf = np.genfromtxt(\"./data/formic_rf.csv\", delimiter=\",\", skip_header=0)[:, np.newaxis]"
   ]
  },
  {
   "cell_type": "markdown",
   "metadata": {},
   "source": [
    "$1^1A'$ 态及 $1^2A'$ 态的质量加权简正坐标如下"
   ]
  },
  {
   "cell_type": "code",
   "execution_count": 15,
   "metadata": {},
   "outputs": [],
   "source": [
    "li = np.genfromtxt(\"./data/formic_li.csv\", delimiter=\",\", skip_header=0)\n",
    "lf = np.genfromtxt(\"./data/formic_lf.csv\", delimiter=\",\", skip_header=0)"
   ]
  },
  {
   "cell_type": "markdown",
   "metadata": {},
   "source": [
    "$1^1A'$ 态及 $1^2A'$ 态简正模式频率如下"
   ]
  },
  {
   "cell_type": "code",
   "execution_count": 16,
   "metadata": {},
   "outputs": [],
   "source": [
    "omega = np.genfromtxt(\"./data/formic_omega.csv\", delimiter=\",\", skip_header=0)\n",
    "omegap = np.genfromtxt(\"./data/formic_omegap.csv\", delimiter=\",\", skip_header=0)"
   ]
  },
  {
   "cell_type": "markdown",
   "metadata": {},
   "source": [
    "计算中用到的物理学常量"
   ]
  },
  {
   "cell_type": "code",
   "execution_count": 17,
   "metadata": {},
   "outputs": [],
   "source": [
    "c = 299792458.0  # 光速\n",
    "mu = 1.6605390666 * 10**-27  # 原子质量单位\n",
    "h = 6.62607015 * 10**-34  # 普朗克常数\n",
    "\n",
    "m_c = 12  # 碳原子相对原子质量\n",
    "m_h = 1.007825037  # 氢原子相对原子质量\n",
    "m_o = 15.994914640  # 氧原子相对原子质量"
   ]
  },
  {
   "cell_type": "markdown",
   "metadata": {},
   "source": [
    "Duschinsky 矩阵 $U$ 及位移矢量 $\\delta$ 计算如下"
   ]
  },
  {
   "cell_type": "code",
   "execution_count": 18,
   "metadata": {},
   "outputs": [
    {
     "data": {
      "text/plain": [
       "array([[ 0.99343181,  0.01440011,  0.01532633,  0.02861045,  0.06378083,\n",
       "         0.07513988, -0.04280796],\n",
       "       [-0.01485231,  0.99314303,  0.07419536,  0.0769291 , -0.03610189,\n",
       "        -0.00248855,  0.01727882],\n",
       "       [-0.01185718, -0.09164895,  0.84227531,  0.17994129, -0.38567948,\n",
       "         0.30738928,  0.08008576],\n",
       "       [ 0.03813492,  0.04087165, -0.34031972, -0.52311845, -0.66785609,\n",
       "         0.38477092,  0.11420873],\n",
       "       [-0.04133251, -0.03419326, -0.40036477,  0.76362651, -0.10356638,\n",
       "         0.48381836,  0.09406589],\n",
       "       [ 0.0907918 , -0.04184572, -0.09066643,  0.31511355, -0.59003401,\n",
       "        -0.719268  ,  0.13037051],\n",
       "       [-0.03245558,  0.00500992, -0.02063661,  0.06935002, -0.20181377,\n",
       "         0.01732396, -0.97588364]])"
      ]
     },
     "execution_count": 18,
     "metadata": {},
     "output_type": "execute_result"
    }
   ],
   "source": [
    "u = []\n",
    "for li_ele in li:\n",
    "    for lf_elf in lf:\n",
    "        u.append(np.sum(li_ele * lf_elf))\n",
    "u = np.array(u[-1::-1]).reshape(7, 7).T\n",
    "u"
   ]
  },
  {
   "cell_type": "code",
   "execution_count": 19,
   "metadata": {},
   "outputs": [
    {
     "data": {
      "text/plain": [
       "array([[ 0.22536617],\n",
       "       [ 0.14689208],\n",
       "       [ 1.55989779],\n",
       "       [-0.37838396],\n",
       "       [ 0.45525871],\n",
       "       [-0.34391138],\n",
       "       [ 0.06184607]])"
      ]
     },
     "execution_count": 19,
     "metadata": {},
     "output_type": "execute_result"
    }
   ],
   "source": [
    "delta = []\n",
    "m = np.diag([m_c, m_c, m_c, m_o, m_o, m_o, m_o, m_o, m_o, m_h, m_h, m_h, m_h, m_h, m_h])\n",
    "for i in range(len(omegap)):\n",
    "    d = lf[i].T @ np.sqrt(m) @ (ri - rf)\n",
    "    l = np.sqrt(h / (4 * np.pi**2 * 100 * omegap[i] * c * mu)) / (10**-10)\n",
    "    delta.append(d / l)\n",
    "delta = np.array(delta[-1::-1])\n",
    "delta"
   ]
  },
  {
   "cell_type": "markdown",
   "metadata": {},
   "source": [
    "在用于计算振动光谱的GBS算法中，以上这些化学参数足以确定GBS设备的配置。\n",
    "利用这些数据，我们即可计算甲酸分子振动光谱。"
   ]
  },
  {
   "cell_type": "markdown",
   "metadata": {},
   "source": [
    "实际上，在可能仅涉及有限数量的光子的情况下需要**非线性相互作用**，第二次挤压操作在光学装置中难以实现。\n",
    "通常，我们需要将两次挤压操作压缩为一次：\n",
    "\n",
    "$$U_{Dok}=R_{C_{L}}S_{\\Sigma}^{\\dagger}R_{C_{R}}D_{2^{-1/2}J^{-1}\\delta}$$\n",
    "\n",
    "其中\n",
    "$$J=\\Omega'U\\Omega^{-1}$$\n",
    "$$\\delta=\\hbar^{-1/2}\\Omega'd$$\n",
    "$$J=C_{L}\\Sigma C_{R}^{t}$$"
   ]
  },
  {
   "cell_type": "markdown",
   "metadata": {},
   "source": [
    "各 GBS 参数计算如下："
   ]
  },
  {
   "cell_type": "code",
   "execution_count": 20,
   "metadata": {},
   "outputs": [],
   "source": [
    "pre_transition_squeezing = np.sqrt(omega[-1::-1])\n",
    "post_transition_squeezing = np.sqrt(omegap[-1::-1])\n",
    "\n",
    "j_mat = (\n",
    "    np.diag(post_transition_squeezing)\n",
    "    @ u\n",
    "    @ np.linalg.inv(np.diag(pre_transition_squeezing))\n",
    ")\n",
    "\n",
    "cl, lambda_1, cr = np.linalg.svd(j_mat)\n",
    "\n",
    "delta_2 = np.linalg.inv(j_mat) @ delta / np.sqrt(2)\n",
    "delta_2 = delta_2.flatten()\n",
    "lambda_2 = np.log(lambda_1)"
   ]
  },
  {
   "cell_type": "markdown",
   "metadata": {},
   "source": [
    "### 甲酸分子振动光谱计算如下所示"
   ]
  },
  {
   "cell_type": "code",
   "execution_count": 21,
   "metadata": {},
   "outputs": [],
   "source": [
    "modes = 7  # 简正模式数量\n",
    "cutoff = 3\n",
    "shots = 500000"
   ]
  },
  {
   "cell_type": "code",
   "execution_count": 22,
   "metadata": {},
   "outputs": [
    {
     "data": {
      "image/svg+xml": [
       "<svg baseProfile=\"full\" height=\"6.363636363636363cm\" version=\"1.1\" width=\"12.0cm\" xmlns=\"http://www.w3.org/2000/svg\" xmlns:ev=\"http://www.w3.org/2001/xml-events\" xmlns:xlink=\"http://www.w3.org/1999/xlink\"><defs /><polyline fill=\"none\" points=\"40,30 130,30\" stroke=\"black\" stroke-width=\"2\" /><rect fill=\"green\" height=\"12\" rx=\"0\" ry=\"0\" stroke=\"black\" stroke-width=\"1.5\" width=\"10\" x=\"82.5\" y=\"25\" /><text font-size=\"9\" x=\"83\" y=\"20\">D</text><text font-size=\"7\" x=\"95\" y=\"18\">r =0.056</text><text font-size=\"7\" x=\"95\" y=\"24\">θ =0.0</text><polyline fill=\"none\" points=\"40,60 130,60\" stroke=\"black\" stroke-width=\"2\" /><rect fill=\"green\" height=\"12\" rx=\"0\" ry=\"0\" stroke=\"black\" stroke-width=\"1.5\" width=\"10\" x=\"82.5\" y=\"55\" /><text font-size=\"9\" x=\"83\" y=\"50\">D</text><text font-size=\"7\" x=\"95\" y=\"48\">r =-0.053</text><text font-size=\"7\" x=\"95\" y=\"54\">θ =0.0</text><polyline fill=\"none\" points=\"40,90 130,90\" stroke=\"black\" stroke-width=\"2\" /><rect fill=\"green\" height=\"12\" rx=\"0\" ry=\"0\" stroke=\"black\" stroke-width=\"1.5\" width=\"10\" x=\"82.5\" y=\"85\" /><text font-size=\"9\" x=\"83\" y=\"80\">D</text><text font-size=\"7\" x=\"95\" y=\"78\">r =0.982</text><text font-size=\"7\" x=\"95\" y=\"84\">θ =0.0</text><polyline fill=\"none\" points=\"40,120 130,120\" stroke=\"black\" stroke-width=\"2\" /><rect fill=\"green\" height=\"12\" rx=\"0\" ry=\"0\" stroke=\"black\" stroke-width=\"1.5\" width=\"10\" x=\"82.5\" y=\"115\" /><text font-size=\"9\" x=\"83\" y=\"110\">D</text><text font-size=\"7\" x=\"95\" y=\"108\">r =0.525</text><text font-size=\"7\" x=\"95\" y=\"114\">θ =0.0</text><polyline fill=\"none\" points=\"40,150 130,150\" stroke=\"black\" stroke-width=\"2\" /><rect fill=\"green\" height=\"12\" rx=\"0\" ry=\"0\" stroke=\"black\" stroke-width=\"1.5\" width=\"10\" x=\"82.5\" y=\"145\" /><text font-size=\"9\" x=\"83\" y=\"140\">D</text><text font-size=\"7\" x=\"95\" y=\"138\">r =-0.112</text><text font-size=\"7\" x=\"95\" y=\"144\">θ =0.0</text><polyline fill=\"none\" points=\"40,180 130,180\" stroke=\"black\" stroke-width=\"2\" /><rect fill=\"green\" height=\"12\" rx=\"0\" ry=\"0\" stroke=\"black\" stroke-width=\"1.5\" width=\"10\" x=\"82.5\" y=\"175\" /><text font-size=\"9\" x=\"83\" y=\"170\">D</text><text font-size=\"7\" x=\"95\" y=\"168\">r =0.525</text><text font-size=\"7\" x=\"95\" y=\"174\">θ =0.0</text><polyline fill=\"none\" points=\"40,210 130,210\" stroke=\"black\" stroke-width=\"2\" /><rect fill=\"green\" height=\"12\" rx=\"0\" ry=\"0\" stroke=\"black\" stroke-width=\"1.5\" width=\"10\" x=\"82.5\" y=\"205\" /><text font-size=\"9\" x=\"83\" y=\"200\">D</text><text font-size=\"7\" x=\"95\" y=\"198\">r =-0.016</text><text font-size=\"7\" x=\"95\" y=\"204\">θ =0.0</text><polyline fill=\"none\" points=\"130,30 150,30\" stroke=\"black\" stroke-width=\"2\" /><polyline fill=\"none\" points=\"200,30 220,30\" stroke=\"black\" stroke-width=\"2\" /><polyline fill=\"none\" points=\"130,60 150,60\" stroke=\"black\" stroke-width=\"2\" /><polyline fill=\"none\" points=\"200,60 220,60\" stroke=\"black\" stroke-width=\"2\" /><polyline fill=\"none\" points=\"130,90 150,90\" stroke=\"black\" stroke-width=\"2\" /><polyline fill=\"none\" points=\"200,90 220,90\" stroke=\"black\" stroke-width=\"2\" /><polyline fill=\"none\" points=\"130,120 150,120\" stroke=\"black\" stroke-width=\"2\" /><polyline fill=\"none\" points=\"200,120 220,120\" stroke=\"black\" stroke-width=\"2\" /><polyline fill=\"none\" points=\"130,150 150,150\" stroke=\"black\" stroke-width=\"2\" /><polyline fill=\"none\" points=\"200,150 220,150\" stroke=\"black\" stroke-width=\"2\" /><polyline fill=\"none\" points=\"130,180 150,180\" stroke=\"black\" stroke-width=\"2\" /><polyline fill=\"none\" points=\"200,180 220,180\" stroke=\"black\" stroke-width=\"2\" /><polyline fill=\"none\" points=\"130,210 150,210\" stroke=\"black\" stroke-width=\"2\" /><polyline fill=\"none\" points=\"200,210 220,210\" stroke=\"black\" stroke-width=\"2\" /><rect fill=\"cadetblue\" height=\"200\" rx=\"0\" ry=\"0\" stroke=\"black\" stroke-width=\"2\" width=\"50\" x=\"150\" y=\"20\" /><text font-size=\"10\" x=\"171\" y=\"120.0\">U</text><polyline fill=\"none\" points=\"220,30 310,30\" stroke=\"black\" stroke-width=\"2\" /><rect fill=\"royalblue\" height=\"12\" rx=\"0\" ry=\"0\" stroke=\"black\" stroke-width=\"1.5\" width=\"10\" x=\"262.5\" y=\"25\" /><text font-size=\"9\" x=\"263\" y=\"20\">S</text><text font-size=\"7\" x=\"275\" y=\"18\">r =-0.097</text><text font-size=\"7\" x=\"275\" y=\"24\">θ =0.0</text><polyline fill=\"none\" points=\"220,60 310,60\" stroke=\"black\" stroke-width=\"2\" /><rect fill=\"royalblue\" height=\"12\" rx=\"0\" ry=\"0\" stroke=\"black\" stroke-width=\"1.5\" width=\"10\" x=\"262.5\" y=\"55\" /><text font-size=\"9\" x=\"263\" y=\"50\">S</text><text font-size=\"7\" x=\"275\" y=\"48\">r =-0.07</text><text font-size=\"7\" x=\"275\" y=\"54\">θ =0.0</text><polyline fill=\"none\" points=\"220,90 310,90\" stroke=\"black\" stroke-width=\"2\" /><rect fill=\"royalblue\" height=\"12\" rx=\"0\" ry=\"0\" stroke=\"black\" stroke-width=\"1.5\" width=\"10\" x=\"262.5\" y=\"85\" /><text font-size=\"9\" x=\"263\" y=\"80\">S</text><text font-size=\"7\" x=\"275\" y=\"78\">r =-0.021</text><text font-size=\"7\" x=\"275\" y=\"84\">θ =0.0</text><polyline fill=\"none\" points=\"220,120 310,120\" stroke=\"black\" stroke-width=\"2\" /><rect fill=\"royalblue\" height=\"12\" rx=\"0\" ry=\"0\" stroke=\"black\" stroke-width=\"1.5\" width=\"10\" x=\"262.5\" y=\"115\" /><text font-size=\"9\" x=\"263\" y=\"110\">S</text><text font-size=\"7\" x=\"275\" y=\"108\">r =0.06</text><text font-size=\"7\" x=\"275\" y=\"114\">θ =0.0</text><polyline fill=\"none\" points=\"220,150 310,150\" stroke=\"black\" stroke-width=\"2\" /><rect fill=\"royalblue\" height=\"12\" rx=\"0\" ry=\"0\" stroke=\"black\" stroke-width=\"1.5\" width=\"10\" x=\"262.5\" y=\"145\" /><text font-size=\"9\" x=\"263\" y=\"140\">S</text><text font-size=\"7\" x=\"275\" y=\"138\">r =0.075</text><text font-size=\"7\" x=\"275\" y=\"144\">θ =0.0</text><polyline fill=\"none\" points=\"220,180 310,180\" stroke=\"black\" stroke-width=\"2\" /><rect fill=\"royalblue\" height=\"12\" rx=\"0\" ry=\"0\" stroke=\"black\" stroke-width=\"1.5\" width=\"10\" x=\"262.5\" y=\"175\" /><text font-size=\"9\" x=\"263\" y=\"170\">S</text><text font-size=\"7\" x=\"275\" y=\"168\">r =0.112</text><text font-size=\"7\" x=\"275\" y=\"174\">θ =0.0</text><polyline fill=\"none\" points=\"220,210 310,210\" stroke=\"black\" stroke-width=\"2\" /><rect fill=\"royalblue\" height=\"12\" rx=\"0\" ry=\"0\" stroke=\"black\" stroke-width=\"1.5\" width=\"10\" x=\"262.5\" y=\"205\" /><text font-size=\"9\" x=\"263\" y=\"200\">S</text><text font-size=\"7\" x=\"275\" y=\"198\">r =0.187</text><text font-size=\"7\" x=\"275\" y=\"204\">θ =0.0</text><polyline fill=\"none\" points=\"310,30 330,30\" stroke=\"black\" stroke-width=\"2\" /><polyline fill=\"none\" points=\"380,30 400,30\" stroke=\"black\" stroke-width=\"2\" /><polyline fill=\"none\" points=\"310,60 330,60\" stroke=\"black\" stroke-width=\"2\" /><polyline fill=\"none\" points=\"380,60 400,60\" stroke=\"black\" stroke-width=\"2\" /><polyline fill=\"none\" points=\"310,90 330,90\" stroke=\"black\" stroke-width=\"2\" /><polyline fill=\"none\" points=\"380,90 400,90\" stroke=\"black\" stroke-width=\"2\" /><polyline fill=\"none\" points=\"310,120 330,120\" stroke=\"black\" stroke-width=\"2\" /><polyline fill=\"none\" points=\"380,120 400,120\" stroke=\"black\" stroke-width=\"2\" /><polyline fill=\"none\" points=\"310,150 330,150\" stroke=\"black\" stroke-width=\"2\" /><polyline fill=\"none\" points=\"380,150 400,150\" stroke=\"black\" stroke-width=\"2\" /><polyline fill=\"none\" points=\"310,180 330,180\" stroke=\"black\" stroke-width=\"2\" /><polyline fill=\"none\" points=\"380,180 400,180\" stroke=\"black\" stroke-width=\"2\" /><polyline fill=\"none\" points=\"310,210 330,210\" stroke=\"black\" stroke-width=\"2\" /><polyline fill=\"none\" points=\"380,210 400,210\" stroke=\"black\" stroke-width=\"2\" /><rect fill=\"cadetblue\" height=\"200\" rx=\"0\" ry=\"0\" stroke=\"black\" stroke-width=\"2\" width=\"50\" x=\"330\" y=\"20\" /><text font-size=\"10\" x=\"351\" y=\"120.0\">U</text><text font-size=\"12\" x=\"25\" y=\"30\">0</text><text font-size=\"12\" x=\"25\" y=\"60\">1</text><text font-size=\"12\" x=\"25\" y=\"90\">2</text><text font-size=\"12\" x=\"25\" y=\"120\">3</text><text font-size=\"12\" x=\"25\" y=\"150\">4</text><text font-size=\"12\" x=\"25\" y=\"180\">5</text><text font-size=\"12\" x=\"25\" y=\"210\">6</text></svg>"
      ],
      "text/plain": [
       "<svgwrite.drawing.Drawing at 0x309ee5670>"
      ]
     },
     "execution_count": 22,
     "metadata": {},
     "output_type": "execute_result"
    }
   ],
   "source": [
    "cir = dq.photonic.QumodeCircuit(\n",
    "    nmode=modes,\n",
    "    init_state=\"vac\",\n",
    "    # init_state=init_state,\n",
    "    cutoff=cutoff,\n",
    "    backend=\"gaussian\",\n",
    ")\n",
    "\n",
    "for i in range(modes):\n",
    "    cir.d(wires=[i], r=delta_2[i])\n",
    "\n",
    "cir.any(cr, wires=list(range(modes)))\n",
    "\n",
    "for i in range(modes):\n",
    "    cir.s(wires=[i], r=-lambda_2[i])\n",
    "\n",
    "cir.any(cl, wires=list(range(modes)))\n",
    "\n",
    "state = cir()\n",
    "\n",
    "# 线路可视化\n",
    "cir.draw()"
   ]
  },
  {
   "cell_type": "code",
   "execution_count": 23,
   "metadata": {},
   "outputs": [
    {
     "name": "stderr",
     "output_type": "stream",
     "text": [
      "chain 1: 100%|\u001b[32m█████████████████████████\u001b[0m| 99999/99999 [00:05<00:00, 18541.01it/s]\u001b[0m\n",
      "chain 2: 100%|\u001b[32m█████████████████████████\u001b[0m| 99999/99999 [00:02<00:00, 34781.32it/s]\u001b[0m\n",
      "chain 3: 100%|\u001b[32m█████████████████████████\u001b[0m| 99999/99999 [00:02<00:00, 34753.39it/s]\u001b[0m\n",
      "chain 4: 100%|\u001b[32m█████████████████████████\u001b[0m| 99999/99999 [00:02<00:00, 36514.41it/s]\u001b[0m\n",
      "chain 5: 100%|\u001b[32m█████████████████████████\u001b[0m| 99999/99999 [00:02<00:00, 35294.55it/s]\u001b[0m\n"
     ]
    }
   ],
   "source": [
    "sample = cir.measure(shots=shots)"
   ]
  },
  {
   "cell_type": "code",
   "execution_count": 24,
   "metadata": {},
   "outputs": [
    {
     "data": {
      "image/png": "[encoded data removed]",
      "text/plain": [
       "<Figure size 640x480 with 1 Axes>"
      ]
     },
     "metadata": {},
     "output_type": "display_data"
    }
   ],
   "source": [
    "wave_number = []\n",
    "counts = []\n",
    "for ele in sample.items():\n",
    "    # print(ele[0].state)\n",
    "    wave_number.append(torch.sum(ele[0].state * omegap))\n",
    "    counts.append(ele[1])\n",
    "\n",
    "plt.bar(wave_number, counts, width=100, color=\"g\")\n",
    "\n",
    "plt.xlabel(r\"Energy $(cm^{-1})$\")\n",
    "plt.ylabel(r\"Counts\")\n",
    "plt.xlim(-1000, 8000)\n",
    "plt.show()"
   ]
  },
  {
   "cell_type": "markdown",
   "metadata": {},
   "source": [
    "### 参考结果\n",
    "\n",
    "\n",
    "<div align=center>\n",
    "\t<img src=\"./fig/formic_spec.png\" width=\"60%\"/>\t\n",
    "</div>\n",
    "\n",
    "<center>\n",
    "  <a href=\"https://strawberryfields.ai/photonics/apps/run_tutorial_vibronic.html\">甲酸分子振动光谱图</a>\n",
    "</center>"
   ]
  }
 ],
 "metadata": {
  "kernelspec": {
   "display_name": "piquasso",
   "language": "python",
   "name": "python3"
  },
  "language_info": {
   "codemirror_mode": {
    "name": "ipython",
    "version": 3
   },
   "file_extension": ".py",
   "mimetype": "text/x-python",
   "name": "python",
   "nbconvert_exporter": "python",
   "pygments_lexer": "ipython3",
   "version": "3.12.4"
  }
 },
 "nbformat": 4,
 "nbformat_minor": 2
}
