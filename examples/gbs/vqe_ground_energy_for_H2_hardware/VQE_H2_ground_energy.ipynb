{
 "cells": [
  {
   "cell_type": "markdown",
   "id": "a9387622",
   "metadata": {},
   "source": [
    "硬件友好的并行随机光量子芯片实现VQE\n",
    "======================================"
   ]
  },
  {
   "cell_type": "markdown",
   "id": "c7e5ebf4",
   "metadata": {},
   "source": [
    "*前置模块*\n",
    "\n",
    "[关于玻色采样的介绍](https://github.com/Hugh-888/deepquantum/blob/dev-kmh/src/deepquantum/photonic/app/%E9%AB%98%E6%96%AF%E7%8E%BB%E8%89%B2%E9%87%87%E6%A0%B7%E6%A1%88%E4%BE%8B_0528/%E7%8E%BB%E8%89%B2%E9%87%87%E6%A0%B7/%E7%8E%BB%E8%89%B2%E9%87%87%E6%A0%B7.ipynb)\n",
    "\n",
    "[光量子实现VQE](https://github.com/Hugh-888/deepquantum/blob/feature_gbs/examples/gbs/ground_energy_for_H2/VQE_H2_ground_energy.ipynb)\n",
    "\n",
    "引言\n",
    "------\n",
    "在案例*H2基态能量求解的基础理论*中，引入了费米子体系到玻色子体系的映射，并展示了在光量子芯片中，如何使用玻色采样和高斯玻色采样实现VQE。\n",
    "在实践中，ansatz的大小和变分的需求都为实验验证增添了难度。\n",
    "此案例借鉴了论文[1]变分蒙特卡洛算法VQCMC的思路：对于表达能力不强的ansatz，构建随机线路采样池，以实现扩大ansatz表达能力的效果。\n",
    "特别的，由于光量子芯片可片上集成、量产的特点，我们可以利用多张参数不同的芯片构建采样池，并行地计算任务需要的观测量，经典地优化权重函数以得到系统最优解。\n"
   ]
  },
  {
   "cell_type": "markdown",
   "id": "401aa3d3",
   "metadata": {
    "ExecuteTime": {
     "end_time": "2024-08-05T09:27:36.957489Z",
     "start_time": "2024-08-05T09:27:36.936457Z"
    }
   },
   "source": [
    "\n",
    "变分量子算法\n",
    "------\n",
    "\n",
    "在DeepQuantum中，我们已经展示了若干从简单、中级到困难的变分量子算法（VQA）的案例👇\n",
    "\n",
    "[变分量子算法案例](https://deepquantum.turingq.com/category/quantum-variational-algorithm/)\n",
    "\n",
    "[变分高斯玻色采样的训练](https://github.com/TuringQ/deepquantum/blob/main/examples/gbs/variational_gbs/variational_gbs.ipynb)\n",
    "\n",
    "变分量子算法的关键流程，是构建一个参数化的量子线路（Ansatz） $ \\left |\\psi(\\theta) \\right \\rangle = U(\\theta) \\left |0 \\right \\rangle ^{\\otimes n} $，测量得到损失函数 $L(\\theta)$ , 通过找到使损失函数最小的最优参数 $\\theta$ 来得到问题的解。\n",
    "\n",
    "\n",
    "<div style=\"margin-right: 15px; border-radius: 10px; background-color: rgb(255， 255， 255); text-align: center;\">\n",
    "    <img src=\"./fig/vqa_deterministic.png\" width=\"40%\"/>\n",
    "    <p style=\"padding: 10px; font-size: small; text-align: center; line-height: 0%;\">\n",
    "        <b>\n",
    "    </p>\n",
    "</div>\n",
    "\n",
    "VQA的成功与否取决于变分量子线路的表达能力，也就是变分波函数可表达的量子态集合（图中深蓝区域）的大小。\n",
    "\n",
    "如图所示，如果问题的解在对应的量子态在该集合中（如点a），则通过变分训练理论上能够成功找到解；\n",
    "\n",
    "若解在集合外，但在集合外一定阈值范围内（如点b），则在置信范围内也能得到问题的解；\n",
    "\n",
    "若解远离该集合，VQA则会失败。\n",
    "\n",
    "\n",
    "<div style=\"margin-right: 15px; border-radius: 10px; background-color: rgb(255， 255， 255); text-align: center;\">\n",
    "    <img src=\"./fig/subset_expressive_ability.png\" title='变分波函数表达能力集合' width=\"40%\"/>\n",
    "    <p style=\"padding: 10px; font-size: small; text-align: center; line-height: 0%;\">\n",
    "        <b>\n",
    "    </p>\n",
    "</div>\n",
    "\n"
   ]
  },
  {
   "cell_type": "markdown",
   "id": "47ea3644",
   "metadata": {},
   "source": [
    "随机线路采样的量子-经典循环反馈策略\n",
    "------\n",
    "通常我们可以通过复杂化变分量子线路的方式来提升表达能力，例如增加Ansatz内量子门数，增加Ansatz数量等。\n",
    "然而，量子门数在硬件端受到限制[2][3]，而梯度消失、贫瘠高原的问题[4][5]给软件优化算法带来了瓶颈。\n",
    "\n",
    "有幸的是，通过优化量子-经典循环反馈中的策略来提高表达能力这一点仍有待探索的空间。\n",
    "论文[1]介绍了一种利用随机线路采样的思路：通过神经网络构建一个决定了采样概率分布的参数化引导函数 $\\alpha(\\theta; \\lambda)\\ $，通过马尔可夫蒙特卡洛方法进行采样。与经典VQA算法不同，不通过优化 $\\theta$，而是通过优化参数化的引导函数 $\\alpha(\\theta; \\lambda)$ 来解决问题。\n",
    "\n",
    "<div style=\"margin-right: 15px; border-radius: 10px; background-color: rgb(255， 255， 255); text-align: center;\">\n",
    "    <img src=\"./fig/vqa_random_circuit.png\" width=\"60%\"/>\n",
    "    <p style=\"padding: 10px; font-size: small; text-align: center; line-height: 0%;\">\n",
    "        <b>\n",
    "    </p>\n",
    "</div>\n",
    "\n",
    "研究团队将该变分量子线路蒙特卡洛（VQCMC）算法应用于六比特的反铁磁海森堡模型求解基态能量的问题中，得到了比传统VQE数值模拟结果更精确的解。\n",
    "\n",
    "代价是更高的时间成本，对于从样本空间中每一条被马尔科夫链采样的量子线路都需要被测量，因此假设样本数量为$ M $，则时间成本至少被提高了$ M $倍。\n",
    "根据论文[6]的简单测算，具有量子优势的有效VQA时间成本以年为单位，那么以此仍需提高$ M $倍的耗时显然是难以被接受的。"
   ]
  },
  {
   "cell_type": "markdown",
   "id": "bcbb7b8b",
   "metadata": {},
   "source": [
    "NISQ时代光量子芯片的完美适配\n",
    "------\n",
    "以往在考虑量子算法的时间成本时，往往默认了量子线路只有一条，所有的测量无论有没有前后的依赖关系，都会被认为是串联式的时间叠加。\n",
    "这符合目前的硬件水平，无论是超导、离子阱、中性原子平台的量子计算芯片，都难以实现量产。\n",
    "\n",
    "暂时唯一有量产潜力的片上光量子计算芯片为并联式的计算提供了可能，但目前面临规模小且难以实时调控变分的问题。\n",
    "\n",
    "利用随机线路采样的量子-经典循环反馈策略，我们可以对于表达能力不强的Ansatz（单张浅层光量子芯片），构建大容量的样本空间以提升整体系统的可表达性（组合随机多芯片集群），测量和构建损失函数（并行对集群进行测量，根据权重得到期望），通过经典方法优化权重函数，得到问题的解。\n",
    "\n",
    "在此算法中，无需对线路参数进行变分，既硬件友好，也节省了单独测量每个参数梯度的时间（对于梯度优化的VQA），或节省了迭代次数（对于非梯度优化的VQA）。\n",
    "\n",
    "接下来，我们将在案例 [光量子实现VQE](https://github.com/Hugh-888/deepquantum/blob/feature_gbs/examples/gbs/ground_energy_for_H2/VQE_H2_ground_energy.ipynb) 同个问题中，展示该算法的有效性。"
   ]
  },
  {
   "cell_type": "markdown",
   "id": "4991de38",
   "metadata": {
    "ExecuteTime": {
     "end_time": "2024-08-05T05:32:48.797375Z",
     "start_time": "2024-08-05T05:32:48.781425Z"
    }
   },
   "source": [
    "随机线路采样的光量子VQE代码实现\n",
    "------"
   ]
  },
  {
   "cell_type": "markdown",
   "id": "a70b9313",
   "metadata": {},
   "source": [
    "在$H_2$基态能量的理论求解案例中已经展示了利用2模BS线路和GBS 线路，对于求解$H_2$基态能量随原子核距离变化的问题，得到了和“金标准”FCI一致的解，但是在变分GBS线路用了8个单模门和1个BS门。如果硬件达不到该要求，只能实现如下6个单模门和1个BS门，则常规的变分VQE方法无法得到好的解。"
   ]
  },
  {
   "cell_type": "code",
   "execution_count": 1,
   "id": "792f5496",
   "metadata": {
    "ExecuteTime": {
     "end_time": "2024-09-29T06:09:56.668046Z",
     "start_time": "2024-09-29T06:09:38.492540Z"
    }
   },
   "outputs": [],
   "source": [
    "import deepquantum as dq\n",
    "import matplotlib.pyplot as plt\n",
    "from scipy import io\n",
    "import torch\n",
    "import numpy as np"
   ]
  },
  {
   "cell_type": "code",
   "execution_count": 2,
   "id": "0c4f421d",
   "metadata": {
    "ExecuteTime": {
     "end_time": "2024-09-29T06:09:59.004127Z",
     "start_time": "2024-09-29T06:09:58.233373Z"
    }
   },
   "outputs": [
    {
     "data": {
      "image/svg+xml": [
       "<svg baseProfile=\"full\" height=\"1.9090909090909092cm\" version=\"1.1\" width=\"12.0cm\" xmlns=\"http://www.w3.org/2000/svg\" xmlns:ev=\"http://www.w3.org/2001/xml-events\" xmlns:xlink=\"http://www.w3.org/1999/xlink\"><defs /><polyline fill=\"none\" points=\"40,30 130,30\" stroke=\"black\" stroke-width=\"2\" /><rect fill=\"royalblue\" height=\"12\" rx=\"0\" ry=\"0\" stroke=\"black\" stroke-width=\"1.5\" width=\"10\" x=\"82.5\" y=\"25\" /><text font-size=\"9\" x=\"83\" y=\"20\">S</text><text font-size=\"7\" x=\"95\" y=\"18\">r =1.0</text><text font-size=\"7\" x=\"95\" y=\"24\">θ =0.0</text><polyline fill=\"none\" points=\"40,60 130,60\" stroke=\"black\" stroke-width=\"2\" /><rect fill=\"royalblue\" height=\"12\" rx=\"0\" ry=\"0\" stroke=\"black\" stroke-width=\"1.5\" width=\"10\" x=\"82.5\" y=\"55\" /><text font-size=\"9\" x=\"83\" y=\"50\">S</text><text font-size=\"7\" x=\"95\" y=\"48\">r =1.0</text><text font-size=\"7\" x=\"95\" y=\"54\">θ =0.0</text><polyline fill=\"none\" points=\"130,30 220,30\" stroke=\"black\" stroke-width=\"2\" /><rect fill=\"green\" height=\"12\" rx=\"0\" ry=\"0\" stroke=\"black\" stroke-width=\"1.5\" width=\"10\" x=\"172.5\" y=\"25\" /><text font-size=\"9\" x=\"173\" y=\"20\">D</text><text font-size=\"7\" x=\"185\" y=\"18\">r =1.0</text><text font-size=\"7\" x=\"185\" y=\"24\">θ =0.0</text><polyline fill=\"none\" points=\"130,60 220,60\" stroke=\"black\" stroke-width=\"2\" /><rect fill=\"green\" height=\"12\" rx=\"0\" ry=\"0\" stroke=\"black\" stroke-width=\"1.5\" width=\"10\" x=\"172.5\" y=\"55\" /><text font-size=\"9\" x=\"173\" y=\"50\">D</text><text font-size=\"7\" x=\"185\" y=\"48\">r =1.0</text><text font-size=\"7\" x=\"185\" y=\"54\">θ =0.0</text><polyline fill=\"none\" points=\"220,30 310,30\" stroke=\"black\" stroke-width=\"2\" /><rect fill=\"teal\" height=\"12\" rx=\"0\" ry=\"0\" stroke=\"black\" stroke-width=\"1.5\" width=\"6\" x=\"262.5\" y=\"25\" /><text font-size=\"9\" x=\"260\" y=\"20\">PS</text><text font-size=\"7\" x=\"275\" y=\"20\">θ =0.114</text><polyline fill=\"none\" points=\"220,60 310,60\" stroke=\"black\" stroke-width=\"2\" /><rect fill=\"teal\" height=\"12\" rx=\"0\" ry=\"0\" stroke=\"black\" stroke-width=\"1.5\" width=\"6\" x=\"262.5\" y=\"55\" /><text font-size=\"9\" x=\"260\" y=\"50\">PS</text><text font-size=\"7\" x=\"275\" y=\"50\">θ =0.058</text><polyline fill=\"none\" points=\"310,30 340,30 370,60 400,60\" stroke=\"black\" stroke-width=\"2\" /><polyline fill=\"none\" points=\"310,60 340,60 370,30 400,30\" stroke=\"black\" stroke-width=\"2\" /><text font-size=\"9\" x=\"350\" y=\"25\">BS</text><text font-size=\"7\" x=\"365\" y=\"44\">θ =3.081</text><text font-size=\"7\" x=\"365\" y=\"50\">ϕ =3.467</text><text font-size=\"12\" x=\"25\" y=\"30\">0</text><text font-size=\"12\" x=\"25\" y=\"60\">1</text></svg>"
      ],
      "text/plain": [
       "<svgwrite.drawing.Drawing at 0x1aed17d3b10>"
      ]
     },
     "execution_count": 2,
     "metadata": {},
     "output_type": "execute_result"
    }
   ],
   "source": [
    "nmode = 2\n",
    "cir = dq.QumodeCircuit(nmode=nmode, init_state='vac', cutoff=3, backend='fock', basis=False)\n",
    "cir.s([0], r=1)\n",
    "cir.s([1], r=1)\n",
    "cir.d([0], r=1)\n",
    "cir.d([1], r=1)\n",
    "cir.ps([0])\n",
    "cir.ps([1])\n",
    "cir.bs([0,1])\n",
    "cir.draw()"
   ]
  },
  {
   "cell_type": "code",
   "execution_count": 27,
   "id": "c59b17d4",
   "metadata": {},
   "outputs": [],
   "source": [
    "def exp_h_gbs_fock(paras):\n",
    "    s1, s2 = torch.nn.functional.normalize(abs(paras[0:2]), dim=0) # 归一化\n",
    "    nmode = 2\n",
    "    cir = dq.QumodeCircuit(nmode=nmode, init_state='vac', cutoff=3, backend='fock', basis=False)\n",
    "    cir.s([0], r=s1)\n",
    "    cir.s([1], r=s2)\n",
    "    cir.d([0], r=paras[2])\n",
    "    cir.d([1], r=paras[3])\n",
    "\n",
    "\n",
    "    cir.ps([0], paras[4])\n",
    "    cir.ps([1], paras[5])\n",
    "\n",
    "    cir.bs([0,1], inputs=[paras[6], paras[7]])\n",
    "\n",
    "    state = cir()\n",
    "    p_00 = state[0][0,0]\n",
    "    p_01 = state[0][0,1]\n",
    "    p_10 = state[0][1,0]\n",
    "    p_11 = state[0][1,1]\n",
    "    p_20 = state[0][2,0]\n",
    "    p_02 = state[0][0,2]\n",
    "\n",
    "\n",
    "\n",
    "    p_list = torch.stack([p_00, p_01, p_10, p_11, p_20, p_02])\n",
    "    p_00_,p_01_,p_10_,p_11_,p_20_,p_02_ = torch.nn.functional.normalize(p_list, dim=0)\n",
    "\n",
    "    exp_h  = g_1*abs(p_00_)**2 + g_2*abs(p_02_)**2 + g_3*(abs(p_01_)**2+ abs(p_20_)**2) + \\\n",
    "             g_4 *(abs(p_10_)**2 + abs(p_11_)**2) + g_5*(p_00_.conj()*p_02_+p_00_*p_02_.conj()) - \\\n",
    "             g_5* (p_20_.conj()*p_01_+p_20_*p_01_.conj()) # see\n",
    "\n",
    "    return (exp_h).real"
   ]
  },
  {
   "cell_type": "code",
   "execution_count": 33,
   "id": "550cf730",
   "metadata": {},
   "outputs": [
    {
     "name": "stdout",
     "output_type": "stream",
     "text": [
      "49 tensor(-1.1416, grad_fn=<SelectBackward0>)\r"
     ]
    }
   ],
   "source": [
    "loss_gbs3 = [ ]\n",
    "for idx in range(50):\n",
    "    g_1 = g1[idx]\n",
    "    g_2 = g2[idx]\n",
    "    g_3 = g3[idx]\n",
    "    g_4 = g4[idx]\n",
    "    g_5 = g5[idx]\n",
    "\n",
    "    angles = torch.nn.Parameter(torch.randn(8))\n",
    "    optimizer =  torch.optim.Adam([angles], lr=0.1)\n",
    "\n",
    "    for epoch in range(150):\n",
    "        optimizer.zero_grad()\n",
    "#         paras = torch.cat([w123, angles])\n",
    "        loss = exp_h_gbs_fock(angles)\n",
    "        loss.backward() # backpropagetion\n",
    "        optimizer.step() # update parameters\n",
    "    loss_gbs3.append(loss)\n",
    "print(idx,loss,end='\\r')"
   ]
  },
  {
   "cell_type": "code",
   "execution_count": 34,
   "id": "f487c6ca",
   "metadata": {},
   "outputs": [
    {
     "data": {
      "image/png": "[encoded data removed]",
      "text/plain": [
       "<Figure size 640x480 with 1 Axes>"
      ]
     },
     "metadata": {},
     "output_type": "display_data"
    }
   ],
   "source": [
    "R_values = np.linspace(0.1, 2.5, 50)\n",
    "hartree_dis = R_values/0.529177 # using Bohr radius\n",
    "fig =  plt.figure()\n",
    "nuclear_v = 1/hartree_dis\n",
    "plt.plot(R_values, torch.stack(loss_gbs3).detach().numpy() + nuclear_v,lw=2, label='vqe_GBS_shallow')\n",
    "plt.plot(R_values, openfermion_h2_fci[0:50], ls='--', label='openfermion_fci', color='black')\n",
    "plt.ylabel('Hartree energy')\n",
    "plt.xlabel('nuclear distance(A)')\n",
    "plt.title('Ground energy for $H_2$')\n",
    "plt.legend()\n",
    "plt.tight_layout()"
   ]
  },
  {
   "cell_type": "markdown",
   "id": "e6b4b8c4",
   "metadata": {},
   "source": [
    "如果应用并行随机线路的思想，我们使用相同甚至更浅的ansatz, 通过deepquantum的data batch输入功能模拟多张GBS芯片，模拟对整个ansatz池进行并行计算，通过训练每张芯片对应的权重，可以得到与FCI接近的结果："
   ]
  },
  {
   "cell_type": "markdown",
   "id": "4eba9d51",
   "metadata": {},
   "source": [
    "每张芯片使用的线路如下，对应的参数是随机参数："
   ]
  },
  {
   "cell_type": "code",
   "execution_count": 3,
   "id": "acf306ca",
   "metadata": {
    "ExecuteTime": {
     "end_time": "2024-09-29T06:10:03.681058Z",
     "start_time": "2024-09-29T06:10:03.673336Z"
    }
   },
   "outputs": [
    {
     "data": {
      "image/svg+xml": [
       "<svg baseProfile=\"full\" height=\"1.9090909090909092cm\" version=\"1.1\" width=\"9.3cm\" xmlns=\"http://www.w3.org/2000/svg\" xmlns:ev=\"http://www.w3.org/2001/xml-events\" xmlns:xlink=\"http://www.w3.org/1999/xlink\"><defs /><polyline fill=\"none\" points=\"40,30 130,30\" stroke=\"black\" stroke-width=\"2\" /><rect fill=\"royalblue\" height=\"12\" rx=\"0\" ry=\"0\" stroke=\"black\" stroke-width=\"1.5\" width=\"10\" x=\"82.5\" y=\"25\" /><text font-size=\"9\" x=\"83\" y=\"20\">S</text><text font-size=\"7\" x=\"95\" y=\"18\">r =1.0</text><text font-size=\"7\" x=\"95\" y=\"24\">θ =0.0</text><polyline fill=\"none\" points=\"40,60 130,60\" stroke=\"black\" stroke-width=\"2\" /><rect fill=\"royalblue\" height=\"12\" rx=\"0\" ry=\"0\" stroke=\"black\" stroke-width=\"1.5\" width=\"10\" x=\"82.5\" y=\"55\" /><text font-size=\"9\" x=\"83\" y=\"50\">S</text><text font-size=\"7\" x=\"95\" y=\"48\">r =1.0</text><text font-size=\"7\" x=\"95\" y=\"54\">θ =0.0</text><polyline fill=\"none\" points=\"130,30 220,30\" stroke=\"black\" stroke-width=\"2\" /><rect fill=\"teal\" height=\"12\" rx=\"0\" ry=\"0\" stroke=\"black\" stroke-width=\"1.5\" width=\"6\" x=\"172.5\" y=\"25\" /><text font-size=\"9\" x=\"170\" y=\"20\">PS</text><text font-size=\"7\" x=\"185\" y=\"20\">θ =2.618</text><polyline fill=\"none\" points=\"130,60 220,60\" stroke=\"black\" stroke-width=\"2\" /><rect fill=\"teal\" height=\"12\" rx=\"0\" ry=\"0\" stroke=\"black\" stroke-width=\"1.5\" width=\"6\" x=\"172.5\" y=\"55\" /><text font-size=\"9\" x=\"170\" y=\"50\">PS</text><text font-size=\"7\" x=\"185\" y=\"50\">θ =0.685</text><polyline fill=\"none\" points=\"220,30 250,30 280,60 310,60\" stroke=\"black\" stroke-width=\"2\" /><polyline fill=\"none\" points=\"220,60 250,60 280,30 310,30\" stroke=\"black\" stroke-width=\"2\" /><text font-size=\"9\" x=\"260\" y=\"25\">BS</text><text font-size=\"7\" x=\"275\" y=\"44\">θ =4.718</text><text font-size=\"7\" x=\"275\" y=\"50\">ϕ =0.362</text><text font-size=\"12\" x=\"25\" y=\"30\">0</text><text font-size=\"12\" x=\"25\" y=\"60\">1</text></svg>"
      ],
      "text/plain": [
       "<svgwrite.drawing.Drawing at 0x1aed18f7410>"
      ]
     },
     "execution_count": 3,
     "metadata": {},
     "output_type": "execute_result"
    }
   ],
   "source": [
    "nmode = 2\n",
    "cir = dq.QumodeCircuit(nmode=nmode, init_state='vac', cutoff=3, backend='fock', basis=False)\n",
    "cir.s([0], r=1)\n",
    "cir.s([1], r=1)\n",
    "cir.ps([0])\n",
    "cir.ps([1])\n",
    "cir.bs([0,1])\n",
    "cir.draw()"
   ]
  },
  {
   "cell_type": "code",
   "execution_count": 39,
   "id": "aa68bc5d",
   "metadata": {},
   "outputs": [],
   "source": [
    "def exp_h_gbs_fock(paras,w):\n",
    "    # s1, s2 = torch.nn.functional.normalize(abs(paras[0:2]), dim=0) # 归一化\n",
    "    nmode = 2\n",
    "    cir = dq.QumodeCircuit(nmode=nmode, init_state='vac', cutoff=3, backend='fock', basis=False)\n",
    "    cir.s([0], encode=True)\n",
    "    cir.s([1],encode=True)\n",
    "    # cir.d([0],encode=True)\n",
    "    # cir.d([1],encode=True)\n",
    "\n",
    "    cir.ps([0],encode=True)\n",
    "    cir.ps([1],encode=True)\n",
    "\n",
    "    cir.bs([0,1], encode=True)\n",
    "\n",
    "    state = cir(data = paras)\n",
    "\n",
    "    p_00 = state[:,0,0]\n",
    "    p_01 = state[:,0,1]\n",
    "    p_10 = state[:,1,0]\n",
    "    p_11 = state[:,1,1]\n",
    "    p_20 = state[:,2,0]\n",
    "    p_02 = state[:,0,2]\n",
    "\n",
    "    p_list = torch.stack([p_00, p_01, p_10, p_11, p_20, p_02])\n",
    "\n",
    "    p_00_,p_01_,p_10_,p_11_,p_20_,p_02_ = torch.nn.functional.normalize(p_list, dim=0)\n",
    "\n",
    "    exp_h  = g_1*abs(p_00_)**2 + g_2*abs(p_02_)**2 + g_3*(abs(p_01_)**2+ abs(p_20_)**2) + \\\n",
    "             g_4 *(abs(p_10_)**2 + abs(p_11_)**2) + g_5*(p_00_.conj()*p_02_+p_00_*p_02_.conj()) - \\\n",
    "             g_5* (p_20_.conj()*p_01_+p_20_*p_01_.conj()) # see\n",
    "\n",
    "    w = torch.nn.functional.softmax(w, dim=0)\n",
    "\n",
    "    return (exp_h).real @ w"
   ]
  },
  {
   "cell_type": "markdown",
   "id": "0eda741f",
   "metadata": {},
   "source": [
    "这里设置$batch=100$来模拟100 张GBS芯片, 通过训练100个权重来做变分任务。"
   ]
  },
  {
   "cell_type": "code",
   "execution_count": 41,
   "id": "64aabe09",
   "metadata": {},
   "outputs": [
    {
     "name": "stdout",
     "output_type": "stream",
     "text": [
      "49 tensor([-1.0968], grad_fn=<SqueezeBackward4>)\r"
     ]
    }
   ],
   "source": [
    "batch = 100\n",
    "loss_gbs_4 = [ ]\n",
    "for idx in range(50):\n",
    "    idx = idx\n",
    "    g_1 = g1[idx]\n",
    "    g_2 = g2[idx]\n",
    "    g_3 = g3[idx]\n",
    "    g_4 = g4[idx]\n",
    "    g_5 = g5[idx]\n",
    "\n",
    "    angles = torch.rand(8*batch).reshape(batch,8)\n",
    "    angles[:,1] = 0.\n",
    "    angles[:,3] = 0.\n",
    "    w = torch.nn.Parameter(torch.rand(batch,1))\n",
    "    optimizer =  torch.optim.Adam([w], lr=0.1)\n",
    "\n",
    "    for epoch in range(150):\n",
    "        optimizer.zero_grad()\n",
    "        loss = exp_h_gbs_fock(angles,w)\n",
    "        loss.backward() # backpropagetion\n",
    "        optimizer.step() # update parameters\n",
    "    loss_gbs_4.append(loss)\n",
    "\n",
    "print(idx,loss,end='\\r')"
   ]
  },
  {
   "cell_type": "code",
   "execution_count": 45,
   "id": "13d3aa11",
   "metadata": {},
   "outputs": [
    {
     "data": {
      "image/png": "[encoded data removed]",
      "text/plain": [
       "<Figure size 640x480 with 1 Axes>"
      ]
     },
     "metadata": {},
     "output_type": "display_data"
    }
   ],
   "source": [
    "fig =  plt.figure()\n",
    "plt.plot(R_values, torch.stack(loss_gbs3).detach().numpy() + nuclear_v,lw=2, label='vqe_GBS_shallow')\n",
    "plt.plot(R_values, torch.stack(loss_gbs_4).mT[0].detach().numpy() + nuclear_v,lw=2, label='vqe_GBS_random',color='red')\n",
    "plt.plot(R_values, openfermion_h2_fci[0:50], ls='--', label='openfermion_fci', color='black')\n",
    "plt.ylabel('Hartree energy')\n",
    "plt.xlabel('nuclear distance(A)')\n",
    "plt.title('Ground energy for $H_2$')\n",
    "plt.legend()\n",
    "plt.tight_layout()"
   ]
  },
  {
   "cell_type": "markdown",
   "id": "2f7b9e59",
   "metadata": {},
   "source": [
    "# 参考文献"
   ]
  },
  {
   "cell_type": "markdown",
   "id": "55dadc11",
   "metadata": {
    "ExecuteTime": {
     "end_time": "2024-08-06T02:35:54.489023Z",
     "start_time": "2024-08-06T02:35:54.466682Z"
    }
   },
   "source": [
    "[1] Yang Y, Zhang Z, Wang A, et al. Maximizing quantum-computing expressive power through randomized circuits[J]. Physical Review Research, 2024, 6(2): 023098.\n",
    "\n",
    "[6] Liu H Y, Chen Z Y, Sun T P, et al. Can variational quantum algorithms demonstrate quantum advantages? Time really matters[J]. arXiv preprint arXiv:2307.04089, 2023."
   ]
  }
 ],
 "metadata": {
  "kernelspec": {
   "display_name": "Python 3 (ipykernel)",
   "language": "python",
   "name": "python3"
  },
  "language_info": {
   "codemirror_mode": {
    "name": "ipython",
    "version": 3
   },
   "file_extension": ".py",
   "mimetype": "text/x-python",
   "name": "python",
   "nbconvert_exporter": "python",
   "pygments_lexer": "ipython3",
   "version": "3.11.3"
  },
  "toc": {
   "base_numbering": 1,
   "nav_menu": {},
   "number_sections": true,
   "sideBar": true,
   "skip_h1_title": false,
   "title_cell": "Table of Contents",
   "title_sidebar": "Contents",
   "toc_cell": false,
   "toc_position": {
    "height": "calc(100% - 180px)",
    "left": "10px",
    "top": "150px",
    "width": "165px"
   },
   "toc_section_display": true,
   "toc_window_display": true
  },
  "varInspector": {
   "cols": {
    "lenName": 16,
    "lenType": 16,
    "lenVar": 40
   },
   "kernels_config": {
    "python": {
     "delete_cmd_postfix": "",
     "delete_cmd_prefix": "del ",
     "library": "var_list.py",
     "varRefreshCmd": "print(var_dic_list())"
    },
    "r": {
     "delete_cmd_postfix": ") ",
     "delete_cmd_prefix": "rm(",
     "library": "var_list.r",
     "varRefreshCmd": "cat(var_dic_list()) "
    }
   },
   "types_to_exclude": [
    "module",
    "function",
    "builtin_function_or_method",
    "instance",
    "_Feature"
   ],
   "window_display": false
  }
 },
 "nbformat": 4,
 "nbformat_minor": 5
}
