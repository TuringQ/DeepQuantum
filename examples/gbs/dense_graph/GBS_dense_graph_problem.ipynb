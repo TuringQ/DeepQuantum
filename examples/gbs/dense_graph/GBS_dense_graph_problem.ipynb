{
 "cells": [
  {
   "cell_type": "markdown",
   "id": "50e13f55",
   "metadata": {},
   "source": [
    "# 高斯玻色采样(Gaussian Boson Sampling)"
   ]
  },
  {
   "cell_type": "markdown",
   "id": "3ff195be",
   "metadata": {},
   "source": [
    "## 数学背景"
   ]
  },
  {
   "cell_type": "markdown",
   "id": "a340b83b",
   "metadata": {
    "ExecuteTime": {
     "end_time": "2024-05-28T01:46:58.387781Z",
     "start_time": "2024-05-28T01:46:58.382945Z"
    }
   },
   "source": [
    "<div style=\"margin-right: 15px; border-radius: 10px; background-color: rgb(255， 255， 255); text-align: center;\">\n",
    "    <img src=\"./fig/gbs.png\" width=\"40%\"/>\n",
    "    <p style=\"padding: 10px; font-size: small; text-align: center; line-height: 0%;\">\n",
    "        <b>\n",
    "    </p>\n",
    "</div>\n",
    "高斯玻色采样(GBS)可以作为玻色采样的一种变体， 不同之处在于输入的量子态是高斯压缩态而不是离散的Fock态， 压缩态是高斯态的一种，高斯态指的是这个量子态对应的Wigner函数是高斯分布，比如相干态。 单模压缩态的Wigner函数对应的高斯分布在X，P两个正交分量上会压缩或者拉伸，单模压缩态可以将压缩门作用到真空态上得到，也可以用下面的Fock态基矢展开[2]，需要注意的是这里的Fock态光子数从0到无穷大取偶数， 因此输出的量子态的空间是无限大且只包含偶数光子数的Fock态空间。\n",
    "<div style=\"margin-right: 15px; border-radius: 10px; background-color: rgb(255， 255， 255); text-align: center;\">\n",
    "    <img src=\"./fig/s.png\" width=\"40%\"/>\n",
    "    <p style=\"padding: 10px; font-size: small; text-align: center; line-height: 0%;\">\n",
    "        <b>\n",
    "    </p>\n",
    "</div>\n",
    "\n",
    "GBS采样概率的理论计算和玻色采样类似， 不同之处在于引入了粒子数分辨探测器和阈值探测器两种情况，对应的计算需要引入hafnian 函数和torotonian函数。\n",
    "1. 粒子数分辨探测器\n",
    "\n",
    "在探测端口引入粒子数探测器时对应数学上需要计算hafnian函数，\n",
    "$2m\\times 2m$ 对称矩阵A的hafnian定义如下[3]，\n",
    "<div style=\"margin-right: 15px; border-radius: 10px; background-color: rgb(255， 255， 255); text-align: center;\">\n",
    "    <img src=\"./fig/haf.png\" width=\"30%\"/>\n",
    "    <p style=\"padding: 10px; font-size: small; text-align: center; line-height: 0%;\">\n",
    "        <b>\n",
    "    </p>\n",
    "</div>\n",
    "这里PMP表示所有完美匹配排列的集合，当$n=4$时，$PMP(4) = {(0,1)(2,3),(0,2)(1,3),(0,3)(1,2)}$, $4\\times 4$矩阵对应的hafnian如下\n",
    "\n",
    "$$\n",
    "haf(B) = B_{0,1}B_{2,3}+B_{0,2}B_{1,3} + B_{0,3}B_{1,2}\n",
    "$$\n",
    "在图论中，hafnian计算了图G对应的邻接矩阵A描述的图的完美匹配数(这里图G是无权重，无环的无向图)，比如邻接矩阵$A =\\begin{pmatrix}\n",
    "0&1&1&1\\\\\n",
    "1&0&1&1\\\\\n",
    "1&1&0&1\\\\\n",
    "1&1&1&0\n",
    "\\end{pmatrix}$，haf(A)=3, 对应的完美匹配图如下。\n",
    "<div style=\"margin-right: 15px; border-radius: 10px; background-color: rgb(255， 255， 255); text-align: center;\">\n",
    "    <img src=\"./fig/f9.png\" width=\"30%\"/>\n",
    "    <p style=\"padding: 10px; font-size: small; text-align: center; line-height: 0%;\">\n",
    "        <b>\n",
    "    </p>\n",
    "</div>\n",
    "\n",
    "当计算的图是二分图时，得到的hanian计算结果就是permanent。\n",
    "<div style=\"margin-right: 15px; border-radius: 10px; background-color: rgb(255， 255， 255); text-align: center;\">\n",
    "    <img src=\"./fig/per.png\" width=\"40%\"/>\n",
    "    <p style=\"padding: 10px; font-size: small; text-align: center; line-height: 0%;\">\n",
    "        <b>\n",
    "    </p>\n",
    "</div>\n",
    "因此任何计算hafnian的算法也可以用来计算permanent, 同样的计算hafnian也是$#P$难问题。\n",
    "\n",
    "对于粒子数探测器，输出的Fock态$S = (s_1, s_2,..,s_m)$时，对应的$s_i=0,1,2...$,\n",
    "输出态的概率理论计算如下\n",
    "<div style=\"margin-right: 15px; border-radius: 10px; background-color: rgb(255， 255， 255); text-align: center;\">\n",
    "    <img src=\"./fig/f5.png\" width=\"30%\"/>\n",
    "    <p style=\"padding: 10px; font-size: small; text-align: center; line-height: 0%;\">\n",
    "        <b>\n",
    "    </p>\n",
    "</div>\n",
    "这里$Q,A,X$的定义如下， \n",
    "<div style=\"margin-right: 15px; border-radius: 10px; background-color: rgb(255， 255， 255); text-align: center;\">\n",
    "    <img src=\"./fig/f6.png\" width=\"20%\"/>\n",
    "    <p style=\"padding: 10px; font-size: small; text-align: center; line-height: 0%;\">\n",
    "        <b>\n",
    "    </p>\n",
    "</div>\n",
    "$Q,A$由输出量子态的协方差矩阵$\\Sigma$决定($\\Sigma$ 描述的是$a,a^+$的协方差矩阵)，子矩阵$A_s$\n",
    "由输出的Fock态决定， 具体来说取矩阵$A$的$i, i+m$行和列并且重复$s_i$次来构造$A_s$。如果$s_i=0$，那么就不取对应的行和列,\n",
    "如果所有的$s_i=1$, 那么对应的子矩阵$A_s = A$。\n",
    "\n",
    "考虑高斯态是纯态的时候， 矩阵$A$可以写成直和的形式，$A = B \\oplus B^*$, $B$是$m\\times m$的对称矩阵。这种情况下输出Fock态的概率如下\n",
    "<div style=\"margin-right: 15px; border-radius: 10px; background-color: rgb(255， 255， 255); text-align: center;\">\n",
    "    <img src=\"./fig/f4.png\" width=\"30%\"/>\n",
    "    <p style=\"padding: 10px; font-size: small; text-align: center; line-height: 0%;\">\n",
    "        <b>\n",
    "    </p>\n",
    "</div>\n",
    "这里的子矩阵$B_s$通过取i行和i列并且重复$s_i$次来构造，同时这里hafnian函数计算的矩阵维度减半，可以实现概率计算的加速。\n",
    "\n",
    "当所有模式输出的光子数$s_i = 0,1$时，对应的$A_s$是A的子矩阵，也对应到邻接矩阵A对应的图G的子图，利用这个性质可以解决很多子图相关的问题，比如稠密子图，\n",
    "最大团问题等。\n",
    "\n",
    "2.阈值探测器\n",
    "\n",
    "使用阈值探测器时对应的输出Fock态概率$S = (s_1, s_2,..,s_m)， s_i\\in \\{0,1\\}$, 此时理论概率的计算需要用到Torontonian函数[4]\n",
    "<div style=\"margin-right: 15px; border-radius: 10px; background-color: rgb(255， 255， 255); text-align: center;\">\n",
    "    <img src=\"./fig/f7.png\" width=\"20%\"/>\n",
    "    <p style=\"padding: 10px; font-size: small; text-align: center; line-height: 0%;\">\n",
    "        <b>\n",
    "    </p>\n",
    "</div>\n",
    "<div style=\"margin-right: 15px; border-radius: 10px; background-color: rgb(255， 255， 255); text-align: center;\">\n",
    "    <img src=\"./fig/f8.png\" width=\"40%\"/>\n",
    "    <p style=\"padding: 10px; font-size: small; text-align: center; line-height: 0%;\">\n",
    "        <b>\n",
    "    </p>\n",
    "</div>\n",
    "这里$O_s = I-(\\Sigma^{-1})_s$, 直观上来看对于阈值探测器对应的特定的Fock态输出只需要将多个粒子数分辨探测器对应的Fock态概率求和即可。\n",
    "\n"
   ]
  },
  {
   "cell_type": "markdown",
   "id": "5d252dc1",
   "metadata": {},
   "source": [
    "# GBS应用到稠密子图问题"
   ]
  },
  {
   "cell_type": "markdown",
   "id": "18b13be1",
   "metadata": {},
   "source": [
    "1.图和子图\n",
    "\n",
    "数学上图G的定义如下: \n",
    "$$G=(V,E)$$\n",
    "集合V中的元素称为节点，集合E中的元素时两个节点组成的无序对，称为边。集合V称为点集，E称为边集。 在图的定义中边的概念定义了节点上的一个对称关系，即邻接关系(adjacency relation)。对于两个节点x,y，如果(x,y)是一条边，则称他们是邻接的，因此一张图可以用一个$n\\times n$的邻接矩阵A来表示。比如对于四个节点的全连接图对应的A如下\n",
    "$$A =\\begin{pmatrix}\n",
    "0&1&1&1\\\\\n",
    "1&0&1&1\\\\\n",
    "1&1&0&1\\\\\n",
    "1&1&1&0\n",
    "\\end{pmatrix}$$\n",
    "haf(A) = 3, 对应的完美匹配数也为3\n",
    "\n",
    "子图对应的点集和边集分别是图G的点集的子集和边集的子集，稠密子图直观上对应着连接密集的子图，稠密度的定义如下\n",
    "$$d(G) = \\frac{2|E|}{|V|(|V|-1)}$$\n",
    "$|E|$表示对应的边的条数，$|V|$表示对应的节点个数。那么稠密子图就对应着稠密度很大的子图。\n",
    "\n",
    "2. GBS采样和稠密子图\n",
    "\n",
    "参考文献[5]中讨论了图G的完美匹配数和稠密度$d(G)$的关系，hafnian的计算对应图G的完美匹配数，那么hafnian值越大那么图的稠密度越高，由前面讨论可知高斯玻色采样下hafnian值越大也对应着采样概率越高，即概率越高的样本对应的子图的稠密度越大。在使用粒子数分辨探测器时，通过后选择对采样的样本筛选出只有0，1的结果，这些结果中出现概率较高的Fock态映射的子图就对应了稠密子图。同时还可以用经典算法来寻找稠密子图，这里用到的经典算法如下，\n",
    "\n",
    "a. 选择子图规模大小$[k_{min},k_{max}]$\n",
    "\n",
    "b.子图规模从大到小搜索(shrinking)，从全图开始，对于$k>k_{min}$, 每次搜索随机删除一个连接数最少的节点，剩下的节点组合成当前规模下的稠密子图。\n",
    "\n",
    "c.子图规模从小到大搜索(growth)，对于$k<k_{max}$,每次搜索随机添加一个连接数最多的节点，组成当前规模下的稠密子图\n"
   ]
  },
  {
   "cell_type": "markdown",
   "id": "0ed6f8a9",
   "metadata": {},
   "source": [
    "## 代码演示"
   ]
  },
  {
   "cell_type": "code",
   "execution_count": 19,
   "id": "7994c77a",
   "metadata": {
    "ExecuteTime": {
     "end_time": "2024-07-10T02:49:26.866479Z",
     "start_time": "2024-07-10T02:49:26.855482Z"
    }
   },
   "outputs": [],
   "source": [
    "import os\n",
    "import matplotlib.pyplot as plt\n",
    "import sys\n",
    "import torch\n",
    "dir_ = os.path.abspath('__file__')\n",
    "sys.path.append(os.path.dirname(os.path.dirname(dir_)))\n",
    "from data_ import data"
   ]
  },
  {
   "cell_type": "code",
   "execution_count": 20,
   "id": "e938b606",
   "metadata": {
    "ExecuteTime": {
     "end_time": "2024-07-10T02:49:27.481203Z",
     "start_time": "2024-07-10T02:49:27.463510Z"
    }
   },
   "outputs": [],
   "source": [
    "import deepquantum as dq\n",
    "import networkx as nx\n",
    "from collections import defaultdict\n",
    "from strawberryfields.apps.subgraph import resize"
   ]
  },
  {
   "cell_type": "markdown",
   "id": "1ca368ba",
   "metadata": {},
   "source": [
    "### 经典算法"
   ]
  },
  {
   "cell_type": "markdown",
   "id": "6d84768e",
   "metadata": {
    "ExecuteTime": {
     "end_time": "2024-06-03T07:44:18.659468Z",
     "start_time": "2024-06-03T07:44:18.655476Z"
    }
   },
   "source": [
    "这里采用下图中16个节点的图作为例子，这个图可以看作是两部分子图组成，一部分是较为稀疏的子图，对应节点为0到9，另一部分是稠密的子图，\n",
    "对应的节点为10到15。我们的目标是找到包含6个节点的稠密子图，即[10,11,12,13,14,15]组成的子图。\n",
    "<div style=\"margin-right: 15px; border-radius: 10px; background-color: rgb(255， 255， 255); text-align: center;\">\n",
    "    <img src=\"./fig/graph.png\" width=\"40%\"/>\n",
    "    <p style=\"padding: 10px; font-size: small; text-align: center; line-height: 0%;\">\n",
    "        <b>\n",
    "    </p>\n",
    "</div>\n",
    "这里的经典算法是基于贪心算法实现的， 即每一次迭代寻找连接数最少的那个节点然后移除就可得到当前规模下的稠密子图， 但是如果有多个节点的连接数相同，那么它会随机选择一个节点移除， 这就导致了目标稠密子图包含的节点有可能被移除，最终导致得到的结果有偏差。"
   ]
  },
  {
   "cell_type": "code",
   "execution_count": 21,
   "id": "82bdfe72",
   "metadata": {
    "ExecuteTime": {
     "end_time": "2024-07-10T02:49:28.791608Z",
     "start_time": "2024-07-10T02:49:28.775374Z"
    }
   },
   "outputs": [
    {
     "data": {
      "text/plain": [
       "([5, 10, 11, 13, 14, 15], 0.7333333333333333)"
      ]
     },
     "execution_count": 21,
     "metadata": {},
     "output_type": "execute_result"
    }
   ],
   "source": [
    "a = data.load_adj('densegraph_adj')\n",
    "graph = nx.from_numpy_array(a)\n",
    "s = range(16)\n",
    "r = resize(s, graph, min_size=1, max_size=15)\n",
    "r[6], nx.density(graph.subgraph(r[6]))"
   ]
  },
  {
   "cell_type": "markdown",
   "id": "c5b0882f",
   "metadata": {},
   "source": [
    "### 量子-经典混合算法"
   ]
  },
  {
   "cell_type": "markdown",
   "id": "167d27af",
   "metadata": {
    "ExecuteTime": {
     "end_time": "2024-06-03T07:58:13.348022Z",
     "start_time": "2024-06-03T07:58:13.344483Z"
    }
   },
   "source": [
    "量子-经典混合算法中先通过高斯玻色采样得到概率较高的样本然后转化成对应的子图，这些子图可以作为经典算法的搜索起点，可以有效的提高最后结果的准确度。\n",
    "\n",
    "这里先load已有的高斯玻色采样数据，采样次数为十万次，gbs.postselect 函数先挑出那些对应子图节点为8,10的样本，然后将这些样本子图作为经典搜索算法的起点，可以得到一个最终收敛到节点为6的子图字典， 字典中包含了节点为6的图密度较大的多个子图， 我们取图密度最大的那个子图就是最终的结果"
   ]
  },
  {
   "cell_type": "code",
   "execution_count": 22,
   "id": "4882e3cd",
   "metadata": {
    "ExecuteTime": {
     "end_time": "2024-07-10T02:49:32.023883Z",
     "start_time": "2024-07-10T02:49:32.007888Z"
    },
    "code_folding": [
     0
    ]
   },
   "outputs": [],
   "source": [
    "def search_subgpraph(samples: list,\n",
    "                    graph: nx.Graph,\n",
    "                    min_size: int,\n",
    "                    max_size: int):\n",
    "    \"\"\"Get the densest subgraph with size in [min_size, max_size],\n",
    "        using classical algorithm with samples from GBS\n",
    "    \"\"\"\n",
    "    dic_list = defaultdict(list)\n",
    "    for i in range(len(samples)):\n",
    "        temp= samples[i]\n",
    "        num = 1\n",
    "        for key in temp.keys():\n",
    "            if num < 50: # only need 50 samples\n",
    "                idx = torch.nonzero(torch.tensor(key)).squeeze()\n",
    "                r = resize(idx.tolist(), graph, min_size=min_size, max_size=max_size)\n",
    "                for j in range(min_size, max_size+2, 2):\n",
    "                    density = nx.density(graph.subgraph(r[j]))\n",
    "                    temp_value = (r[j], np.round(density, 5))\n",
    "                    if temp_value not in dic_list[j]:\n",
    "                        dic_list[j].append(temp_value)\n",
    "                num = num + 1\n",
    "    return dic_list"
   ]
  },
  {
   "cell_type": "code",
   "execution_count": 23,
   "id": "03bffcc6",
   "metadata": {
    "ExecuteTime": {
     "end_time": "2024-07-10T02:49:32.926390Z",
     "start_time": "2024-07-10T02:49:32.616197Z"
    }
   },
   "outputs": [
    {
     "name": "stdout",
     "output_type": "stream",
     "text": [
      "([10, 11, 12, 13, 14, 15], 0.93333)\n"
     ]
    }
   ],
   "source": [
    "# 后处理得到节点为8和10个子图对应的样本\n",
    "sample_re = data.load_sample('densegraph_sample')\n",
    "gbs = dq.photonic.GBS_Graph(adj_mat=torch.tensor(a, dtype = torch.float64), cutoff=2)\n",
    "state = gbs()\n",
    "subgraph_sample = gbs.postselect(sample_re, [8, 10])\n",
    "\n",
    "# 采用shrinking 方法得到节点为6 和 8 的稠密子图\n",
    "dense_sub_graph = search_subgpraph(subgraph_sample, graph, min_size=6, max_size=8)\n",
    "print(dense_sub_graph[6][0])"
   ]
  },
  {
   "cell_type": "code",
   "execution_count": null,
   "id": "9de2ddd7",
   "metadata": {
    "ExecuteTime": {
     "end_time": "2024-07-10T02:49:33.113502Z",
     "start_time": "2024-07-10T02:49:33.113502Z"
    }
   },
   "outputs": [],
   "source": [
    "dense_sub_graph"
   ]
  },
  {
   "cell_type": "markdown",
   "id": "688feacf",
   "metadata": {},
   "source": [
    "### 量子算法"
   ]
  },
  {
   "cell_type": "markdown",
   "id": "2603e22e",
   "metadata": {
    "ExecuteTime": {
     "end_time": "2024-06-03T05:54:01.830173Z",
     "start_time": "2024-06-03T05:54:01.825146Z"
    }
   },
   "source": [
    "量子算法直接将高斯玻色采样后的6个节点对应的样本挑选出来处理，因为根据前面的讨论可以知道，对应的子图越稠密那么其样本出现的概率也就越大。\n",
    "这里先load已有的高斯玻色采样数据，采样次数为十万次，gbs.postselect 函数先挑出那些对应子图节点为6的样本，然后gbs.graph_density 函数将\n",
    "这些样本映射成子图再计算子图的图密度，最后按图密度从大到小排列给出对应的子图及其图密度。从最后的结果可以看到，高斯玻色采样成功采到了稠密度最高的6个节点的子图，对应的稠密度为0.9333，对应的节点为[10,11,12,13,14,15]。"
   ]
  },
  {
   "cell_type": "code",
   "execution_count": 24,
   "id": "3beb662d",
   "metadata": {
    "ExecuteTime": {
     "end_time": "2024-07-10T02:49:35.681474Z",
     "start_time": "2024-07-10T02:49:35.545213Z"
    }
   },
   "outputs": [],
   "source": [
    "sample_re = data.load_sample('densegraph_sample')"
   ]
  },
  {
   "cell_type": "code",
   "execution_count": 25,
   "id": "93be9a37",
   "metadata": {
    "ExecuteTime": {
     "end_time": "2024-07-10T02:49:36.278672Z",
     "start_time": "2024-07-10T02:49:36.169367Z"
    }
   },
   "outputs": [
    {
     "name": "stdout",
     "output_type": "stream",
     "text": [
      "(0, 0, 0, 0, 0, 0, 0, 0, 0, 0, 1, 1, 1, 1, 1, 1) [tensor([144]), 0.9333333333333333]\n"
     ]
    }
   ],
   "source": [
    "subgraph_sample = gbs.postselect(sample_re, [6])\n",
    "subgraph_density = gbs.graph_density(graph, subgraph_sample[0])\n",
    "key = list(subgraph_density.keys())\n",
    "print(key[0],subgraph_density[key[0]])"
   ]
  },
  {
   "cell_type": "markdown",
   "id": "bbd14fcb",
   "metadata": {},
   "source": [
    "## 附录"
   ]
  },
  {
   "cell_type": "markdown",
   "id": "450ce075",
   "metadata": {},
   "source": [
    "[1] Lvovsky, Alexander I. \"Squeezed light.\" Photonics: Scientific Foundations, Technology and Applications 1 (2015): 121-163.\n",
    "\n",
    "[2]Bromley, Thomas R., et al. \"Applications of near-term photonic quantum computers: software and algorithms.\" Quantum Science and Technology 5.3 (2020): 034010.\n",
    "\n",
    "[3]Quesada, Nicolás, Juan Miguel Arrazola, and Nathan Killoran. \"Gaussian boson sampling using threshold detectors.\" Physical Review A 98.6 (2018): 062322.\n",
    "\n",
    "[4]J. M. Arrazola and T. R. Bromley, Physical Review Letters 121, 030503 (2018)"
   ]
  },
  {
   "cell_type": "code",
   "execution_count": null,
   "id": "629ea57d",
   "metadata": {},
   "outputs": [],
   "source": []
  }
 ],
 "metadata": {
  "kernelspec": {
   "display_name": "dq_v3",
   "language": "python",
   "name": "dq_v3"
  },
  "language_info": {
   "codemirror_mode": {
    "name": "ipython",
    "version": 3
   },
   "file_extension": ".py",
   "mimetype": "text/x-python",
   "name": "python",
   "nbconvert_exporter": "python",
   "pygments_lexer": "ipython3",
   "version": "3.10.14"
  },
  "toc": {
   "base_numbering": 1,
   "nav_menu": {},
   "number_sections": true,
   "sideBar": true,
   "skip_h1_title": false,
   "title_cell": "Table of Contents",
   "title_sidebar": "Contents",
   "toc_cell": false,
   "toc_position": {
    "height": "calc(100% - 180px)",
    "left": "10px",
    "top": "150px",
    "width": "168.929px"
   },
   "toc_section_display": true,
   "toc_window_display": true
  },
  "varInspector": {
   "cols": {
    "lenName": 16,
    "lenType": 16,
    "lenVar": 40
   },
   "kernels_config": {
    "python": {
     "delete_cmd_postfix": "",
     "delete_cmd_prefix": "del ",
     "library": "var_list.py",
     "varRefreshCmd": "print(var_dic_list())"
    },
    "r": {
     "delete_cmd_postfix": ") ",
     "delete_cmd_prefix": "rm(",
     "library": "var_list.r",
     "varRefreshCmd": "cat(var_dic_list()) "
    }
   },
   "types_to_exclude": [
    "module",
    "function",
    "builtin_function_or_method",
    "instance",
    "_Feature"
   ],
   "window_display": false
  }
 },
 "nbformat": 4,
 "nbformat_minor": 5
}
