{
 "cells": [
  {
   "cell_type": "markdown",
   "metadata": {},
   "source": [
    "# 高斯玻色采样模拟分子振动激发"
   ]
  },
  {
   "cell_type": "markdown",
   "metadata": {},
   "source": [
    "分子中振动模式的激发会影响化学反应的结果。\n",
    "振动激发可以为分子提供额外的动能，以克服特定反应的能量壁垒，并有助于控制分子的稳定性。\n",
    "然而，对涉及分子振动和电子态同时变化的过程进行所有振动能级激发概率模拟是具有挑战性的。\n",
    "本例中，我们演示如何使用高斯玻色取样（GBS）来模拟分子振动激发。"
   ]
  },
  {
   "cell_type": "markdown",
   "metadata": {},
   "source": [
    "### 甲酸分子的振动激发"
   ]
  },
  {
   "cell_type": "code",
   "execution_count": 1,
   "metadata": {},
   "outputs": [],
   "source": [
    "import numpy as np\n",
    "import deepquantum as dq\n",
    "import matplotlib.pyplot as plt"
   ]
  },
  {
   "cell_type": "markdown",
   "metadata": {},
   "source": [
    "我们还需要描述分子振动模式和分子在振动跃迁过程中几何结构变化的分子参数。\n",
    "这些参数由杜辛斯基矩阵和位移向量表示，这些参数是从原子坐标、原子质量、振动频率以及分子的正常模式获得的。\n",
    "这些分子参数可以通过电子结构计算获得。"
   ]
  },
  {
   "cell_type": "markdown",
   "metadata": {},
   "source": [
    "$1^1A'$ 态及$1^2A'$ 态的平衡结构坐标如下"
   ]
  },
  {
   "cell_type": "code",
   "execution_count": 2,
   "metadata": {},
   "outputs": [],
   "source": [
    "ri = np.genfromtxt(\"./data/formic_ri.csv\", delimiter=\",\", skip_header=0)[:, np.newaxis]\n",
    "rf = np.genfromtxt(\"./data/formic_rf.csv\", delimiter=\",\", skip_header=0)[:, np.newaxis]"
   ]
  },
  {
   "cell_type": "markdown",
   "metadata": {},
   "source": [
    "$1^1A'$ 态及 $1^2A'$ 态的质量加权简正坐标如下"
   ]
  },
  {
   "cell_type": "code",
   "execution_count": 3,
   "metadata": {},
   "outputs": [],
   "source": [
    "li = np.genfromtxt(\"./data/formic_li.csv\", delimiter=\",\", skip_header=0)\n",
    "lf = np.genfromtxt(\"./data/formic_lf.csv\", delimiter=\",\", skip_header=0)"
   ]
  },
  {
   "cell_type": "markdown",
   "metadata": {},
   "source": [
    "$1^1A'$ 态及 $1^2A'$ 态简正模式频率如下"
   ]
  },
  {
   "cell_type": "code",
   "execution_count": 4,
   "metadata": {},
   "outputs": [],
   "source": [
    "omega = np.genfromtxt(\"./data/formic_omega.csv\", delimiter=\",\", skip_header=0)\n",
    "omegap = np.genfromtxt(\"./data/formic_omegap.csv\", delimiter=\",\", skip_header=0)"
   ]
  },
  {
   "cell_type": "markdown",
   "metadata": {},
   "source": [
    "计算中用到的物理学常量"
   ]
  },
  {
   "cell_type": "code",
   "execution_count": 5,
   "metadata": {},
   "outputs": [],
   "source": [
    "c = 299792458.0  # 光速\n",
    "mu = 1.6605390666 * 10**-27  # 原子质量单位\n",
    "h = 6.62607015 * 10**-34  # 普朗克常数\n",
    "\n",
    "mC = 12  # 碳原子相对原子质量\n",
    "mH = 1.007825037  # 氢原子相对原子质量\n",
    "mO = 15.994914640  # 氧原子相对原子质量"
   ]
  },
  {
   "cell_type": "markdown",
   "metadata": {},
   "source": [
    "Duschinsky 矩阵 $U$ 及位移矢量 $\\delta$ 计算如下"
   ]
  },
  {
   "cell_type": "code",
   "execution_count": 6,
   "metadata": {},
   "outputs": [
    {
     "data": {
      "text/plain": [
       "array([[ 0.99343181,  0.01440011,  0.01532633,  0.02861045,  0.06378083,\n",
       "         0.07513988, -0.04280796],\n",
       "       [-0.01485231,  0.99314303,  0.07419536,  0.0769291 , -0.03610189,\n",
       "        -0.00248855,  0.01727882],\n",
       "       [-0.01185718, -0.09164895,  0.84227531,  0.17994129, -0.38567948,\n",
       "         0.30738928,  0.08008576],\n",
       "       [ 0.03813492,  0.04087165, -0.34031972, -0.52311845, -0.66785609,\n",
       "         0.38477092,  0.11420873],\n",
       "       [-0.04133251, -0.03419326, -0.40036477,  0.76362651, -0.10356638,\n",
       "         0.48381836,  0.09406589],\n",
       "       [ 0.0907918 , -0.04184572, -0.09066643,  0.31511355, -0.59003401,\n",
       "        -0.719268  ,  0.13037051],\n",
       "       [-0.03245558,  0.00500992, -0.02063661,  0.06935002, -0.20181377,\n",
       "         0.01732396, -0.97588364]])"
      ]
     },
     "execution_count": 6,
     "metadata": {},
     "output_type": "execute_result"
    }
   ],
   "source": [
    "U = []\n",
    "for li_ele in li:\n",
    "    for lf_elf in lf:\n",
    "        U.append(np.sum(li_ele * lf_elf))\n",
    "U = np.array(U[-1::-1]).reshape(7, 7).T\n",
    "U"
   ]
  },
  {
   "cell_type": "code",
   "execution_count": 7,
   "metadata": {},
   "outputs": [
    {
     "data": {
      "text/plain": [
       "array([[ 0.22536617],\n",
       "       [ 0.14689208],\n",
       "       [ 1.55989779],\n",
       "       [-0.37838396],\n",
       "       [ 0.45525871],\n",
       "       [-0.34391138],\n",
       "       [ 0.06184607]])"
      ]
     },
     "execution_count": 7,
     "metadata": {},
     "output_type": "execute_result"
    }
   ],
   "source": [
    "delta = []\n",
    "m = np.diag([mC, mC, mC, mO, mO, mO, mO, mO, mO, mH, mH, mH, mH, mH, mH])\n",
    "for i in range(len(omegap)):\n",
    "    d = lf[i].T @ np.sqrt(m) @ (ri - rf)\n",
    "    l = np.sqrt(h / (4 * np.pi**2 * 100 * omegap[i] * c * mu)) / (10**-10)\n",
    "    delta.append(d / l)\n",
    "delta = np.array(delta[-1::-1])\n",
    "delta"
   ]
  },
  {
   "cell_type": "markdown",
   "metadata": {},
   "source": [
    "Duschinsky矩阵非对角元素描述了不同电子态之间简正模式的混合情况"
   ]
  },
  {
   "cell_type": "code",
   "execution_count": 8,
   "metadata": {},
   "outputs": [
    {
     "data": {
      "image/png": "[encoded data removed]",
      "text/plain": [
       "<Figure size 640x480 with 2 Axes>"
      ]
     },
     "metadata": {},
     "output_type": "display_data"
    }
   ],
   "source": [
    "plt.imshow(abs(U), cmap=\"Greens\")\n",
    "plt.colorbar()\n",
    "plt.xlabel(\"Mode index\")\n",
    "plt.ylabel(\"Mode index\")\n",
    "plt.tight_layout()\n",
    "plt.show()"
   ]
  },
  {
   "cell_type": "markdown",
   "metadata": {},
   "source": [
    "非对角元素的存在显示了不同电子态之间简正模式的混合。\n",
    "由 Duschinsky 矩阵和位移向量计算 GBS 参数如下："
   ]
  },
  {
   "cell_type": "code",
   "execution_count": 9,
   "metadata": {},
   "outputs": [],
   "source": [
    "pre_transition_squeezing = np.sqrt(omega[-1::-1])\n",
    "post_transition_squeezing = np.sqrt(omegap[-1::-1])\n",
    "\n",
    "J = (\n",
    "    np.diag(post_transition_squeezing)\n",
    "    @ U\n",
    "    @ np.linalg.inv(np.diag(pre_transition_squeezing))\n",
    ")\n",
    "\n",
    "CL, Lambda, CR = np.linalg.svd(J)\n",
    "\n",
    "delta2 = np.linalg.inv(J) @ delta / np.sqrt(2)\n",
    "delta2 = delta2.flatten()\n",
    "Lambda2 = np.log(Lambda)"
   ]
  },
  {
   "cell_type": "markdown",
   "metadata": {},
   "source": [
    "我们现在可以计算每个振动模式中的平均振动量子数"
   ]
  },
  {
   "cell_type": "code",
   "execution_count": 10,
   "metadata": {},
   "outputs": [],
   "source": [
    "modes = 7  # 简正模式数量\n",
    "cutoff = 3\n",
    "shots = 500000"
   ]
  },
  {
   "cell_type": "code",
   "execution_count": 11,
   "metadata": {},
   "outputs": [
    {
     "data": {
      "image/svg+xml": [
       "<svg baseProfile=\"full\" height=\"6.363636363636363cm\" version=\"1.1\" width=\"12.0cm\" xmlns=\"http://www.w3.org/2000/svg\" xmlns:ev=\"http://www.w3.org/2001/xml-events\" xmlns:xlink=\"http://www.w3.org/1999/xlink\"><defs /><polyline fill=\"none\" points=\"40,30 130,30\" stroke=\"black\" stroke-width=\"2\" /><rect fill=\"green\" height=\"12\" rx=\"0\" ry=\"0\" stroke=\"black\" stroke-width=\"1.5\" width=\"10\" x=\"82.5\" y=\"25\" /><text font-size=\"9\" x=\"83\" y=\"20\">D</text><text font-size=\"7\" x=\"95\" y=\"18\">r =0.056</text><text font-size=\"7\" x=\"95\" y=\"24\">θ =0.0</text><polyline fill=\"none\" points=\"40,60 130,60\" stroke=\"black\" stroke-width=\"2\" /><rect fill=\"green\" height=\"12\" rx=\"0\" ry=\"0\" stroke=\"black\" stroke-width=\"1.5\" width=\"10\" x=\"82.5\" y=\"55\" /><text font-size=\"9\" x=\"83\" y=\"50\">D</text><text font-size=\"7\" x=\"95\" y=\"48\">r =-0.053</text><text font-size=\"7\" x=\"95\" y=\"54\">θ =0.0</text><polyline fill=\"none\" points=\"40,90 130,90\" stroke=\"black\" stroke-width=\"2\" /><rect fill=\"green\" height=\"12\" rx=\"0\" ry=\"0\" stroke=\"black\" stroke-width=\"1.5\" width=\"10\" x=\"82.5\" y=\"85\" /><text font-size=\"9\" x=\"83\" y=\"80\">D</text><text font-size=\"7\" x=\"95\" y=\"78\">r =0.982</text><text font-size=\"7\" x=\"95\" y=\"84\">θ =0.0</text><polyline fill=\"none\" points=\"40,120 130,120\" stroke=\"black\" stroke-width=\"2\" /><rect fill=\"green\" height=\"12\" rx=\"0\" ry=\"0\" stroke=\"black\" stroke-width=\"1.5\" width=\"10\" x=\"82.5\" y=\"115\" /><text font-size=\"9\" x=\"83\" y=\"110\">D</text><text font-size=\"7\" x=\"95\" y=\"108\">r =0.525</text><text font-size=\"7\" x=\"95\" y=\"114\">θ =0.0</text><polyline fill=\"none\" points=\"40,150 130,150\" stroke=\"black\" stroke-width=\"2\" /><rect fill=\"green\" height=\"12\" rx=\"0\" ry=\"0\" stroke=\"black\" stroke-width=\"1.5\" width=\"10\" x=\"82.5\" y=\"145\" /><text font-size=\"9\" x=\"83\" y=\"140\">D</text><text font-size=\"7\" x=\"95\" y=\"138\">r =-0.112</text><text font-size=\"7\" x=\"95\" y=\"144\">θ =0.0</text><polyline fill=\"none\" points=\"40,180 130,180\" stroke=\"black\" stroke-width=\"2\" /><rect fill=\"green\" height=\"12\" rx=\"0\" ry=\"0\" stroke=\"black\" stroke-width=\"1.5\" width=\"10\" x=\"82.5\" y=\"175\" /><text font-size=\"9\" x=\"83\" y=\"170\">D</text><text font-size=\"7\" x=\"95\" y=\"168\">r =0.525</text><text font-size=\"7\" x=\"95\" y=\"174\">θ =0.0</text><polyline fill=\"none\" points=\"40,210 130,210\" stroke=\"black\" stroke-width=\"2\" /><rect fill=\"green\" height=\"12\" rx=\"0\" ry=\"0\" stroke=\"black\" stroke-width=\"1.5\" width=\"10\" x=\"82.5\" y=\"205\" /><text font-size=\"9\" x=\"83\" y=\"200\">D</text><text font-size=\"7\" x=\"95\" y=\"198\">r =-0.016</text><text font-size=\"7\" x=\"95\" y=\"204\">θ =0.0</text><polyline fill=\"none\" points=\"130,30 150,30\" stroke=\"black\" stroke-width=\"2\" /><polyline fill=\"none\" points=\"200,30 220,30\" stroke=\"black\" stroke-width=\"2\" /><polyline fill=\"none\" points=\"130,60 150,60\" stroke=\"black\" stroke-width=\"2\" /><polyline fill=\"none\" points=\"200,60 220,60\" stroke=\"black\" stroke-width=\"2\" /><polyline fill=\"none\" points=\"130,90 150,90\" stroke=\"black\" stroke-width=\"2\" /><polyline fill=\"none\" points=\"200,90 220,90\" stroke=\"black\" stroke-width=\"2\" /><polyline fill=\"none\" points=\"130,120 150,120\" stroke=\"black\" stroke-width=\"2\" /><polyline fill=\"none\" points=\"200,120 220,120\" stroke=\"black\" stroke-width=\"2\" /><polyline fill=\"none\" points=\"130,150 150,150\" stroke=\"black\" stroke-width=\"2\" /><polyline fill=\"none\" points=\"200,150 220,150\" stroke=\"black\" stroke-width=\"2\" /><polyline fill=\"none\" points=\"130,180 150,180\" stroke=\"black\" stroke-width=\"2\" /><polyline fill=\"none\" points=\"200,180 220,180\" stroke=\"black\" stroke-width=\"2\" /><polyline fill=\"none\" points=\"130,210 150,210\" stroke=\"black\" stroke-width=\"2\" /><polyline fill=\"none\" points=\"200,210 220,210\" stroke=\"black\" stroke-width=\"2\" /><rect fill=\"cadetblue\" height=\"200\" rx=\"0\" ry=\"0\" stroke=\"black\" stroke-width=\"2\" width=\"50\" x=\"150\" y=\"20\" /><text font-size=\"10\" x=\"171\" y=\"120.0\">U</text><polyline fill=\"none\" points=\"220,30 310,30\" stroke=\"black\" stroke-width=\"2\" /><rect fill=\"royalblue\" height=\"12\" rx=\"0\" ry=\"0\" stroke=\"black\" stroke-width=\"1.5\" width=\"10\" x=\"262.5\" y=\"25\" /><text font-size=\"9\" x=\"263\" y=\"20\">S</text><text font-size=\"7\" x=\"275\" y=\"18\">r =-0.097</text><text font-size=\"7\" x=\"275\" y=\"24\">θ =0.0</text><polyline fill=\"none\" points=\"220,60 310,60\" stroke=\"black\" stroke-width=\"2\" /><rect fill=\"royalblue\" height=\"12\" rx=\"0\" ry=\"0\" stroke=\"black\" stroke-width=\"1.5\" width=\"10\" x=\"262.5\" y=\"55\" /><text font-size=\"9\" x=\"263\" y=\"50\">S</text><text font-size=\"7\" x=\"275\" y=\"48\">r =-0.07</text><text font-size=\"7\" x=\"275\" y=\"54\">θ =0.0</text><polyline fill=\"none\" points=\"220,90 310,90\" stroke=\"black\" stroke-width=\"2\" /><rect fill=\"royalblue\" height=\"12\" rx=\"0\" ry=\"0\" stroke=\"black\" stroke-width=\"1.5\" width=\"10\" x=\"262.5\" y=\"85\" /><text font-size=\"9\" x=\"263\" y=\"80\">S</text><text font-size=\"7\" x=\"275\" y=\"78\">r =-0.021</text><text font-size=\"7\" x=\"275\" y=\"84\">θ =0.0</text><polyline fill=\"none\" points=\"220,120 310,120\" stroke=\"black\" stroke-width=\"2\" /><rect fill=\"royalblue\" height=\"12\" rx=\"0\" ry=\"0\" stroke=\"black\" stroke-width=\"1.5\" width=\"10\" x=\"262.5\" y=\"115\" /><text font-size=\"9\" x=\"263\" y=\"110\">S</text><text font-size=\"7\" x=\"275\" y=\"108\">r =0.06</text><text font-size=\"7\" x=\"275\" y=\"114\">θ =0.0</text><polyline fill=\"none\" points=\"220,150 310,150\" stroke=\"black\" stroke-width=\"2\" /><rect fill=\"royalblue\" height=\"12\" rx=\"0\" ry=\"0\" stroke=\"black\" stroke-width=\"1.5\" width=\"10\" x=\"262.5\" y=\"145\" /><text font-size=\"9\" x=\"263\" y=\"140\">S</text><text font-size=\"7\" x=\"275\" y=\"138\">r =0.075</text><text font-size=\"7\" x=\"275\" y=\"144\">θ =0.0</text><polyline fill=\"none\" points=\"220,180 310,180\" stroke=\"black\" stroke-width=\"2\" /><rect fill=\"royalblue\" height=\"12\" rx=\"0\" ry=\"0\" stroke=\"black\" stroke-width=\"1.5\" width=\"10\" x=\"262.5\" y=\"175\" /><text font-size=\"9\" x=\"263\" y=\"170\">S</text><text font-size=\"7\" x=\"275\" y=\"168\">r =0.112</text><text font-size=\"7\" x=\"275\" y=\"174\">θ =0.0</text><polyline fill=\"none\" points=\"220,210 310,210\" stroke=\"black\" stroke-width=\"2\" /><rect fill=\"royalblue\" height=\"12\" rx=\"0\" ry=\"0\" stroke=\"black\" stroke-width=\"1.5\" width=\"10\" x=\"262.5\" y=\"205\" /><text font-size=\"9\" x=\"263\" y=\"200\">S</text><text font-size=\"7\" x=\"275\" y=\"198\">r =0.187</text><text font-size=\"7\" x=\"275\" y=\"204\">θ =0.0</text><polyline fill=\"none\" points=\"310,30 330,30\" stroke=\"black\" stroke-width=\"2\" /><polyline fill=\"none\" points=\"380,30 400,30\" stroke=\"black\" stroke-width=\"2\" /><polyline fill=\"none\" points=\"310,60 330,60\" stroke=\"black\" stroke-width=\"2\" /><polyline fill=\"none\" points=\"380,60 400,60\" stroke=\"black\" stroke-width=\"2\" /><polyline fill=\"none\" points=\"310,90 330,90\" stroke=\"black\" stroke-width=\"2\" /><polyline fill=\"none\" points=\"380,90 400,90\" stroke=\"black\" stroke-width=\"2\" /><polyline fill=\"none\" points=\"310,120 330,120\" stroke=\"black\" stroke-width=\"2\" /><polyline fill=\"none\" points=\"380,120 400,120\" stroke=\"black\" stroke-width=\"2\" /><polyline fill=\"none\" points=\"310,150 330,150\" stroke=\"black\" stroke-width=\"2\" /><polyline fill=\"none\" points=\"380,150 400,150\" stroke=\"black\" stroke-width=\"2\" /><polyline fill=\"none\" points=\"310,180 330,180\" stroke=\"black\" stroke-width=\"2\" /><polyline fill=\"none\" points=\"380,180 400,180\" stroke=\"black\" stroke-width=\"2\" /><polyline fill=\"none\" points=\"310,210 330,210\" stroke=\"black\" stroke-width=\"2\" /><polyline fill=\"none\" points=\"380,210 400,210\" stroke=\"black\" stroke-width=\"2\" /><rect fill=\"cadetblue\" height=\"200\" rx=\"0\" ry=\"0\" stroke=\"black\" stroke-width=\"2\" width=\"50\" x=\"330\" y=\"20\" /><text font-size=\"10\" x=\"351\" y=\"120.0\">U</text><text font-size=\"12\" x=\"25\" y=\"30\">0</text><text font-size=\"12\" x=\"25\" y=\"60\">1</text><text font-size=\"12\" x=\"25\" y=\"90\">2</text><text font-size=\"12\" x=\"25\" y=\"120\">3</text><text font-size=\"12\" x=\"25\" y=\"150\">4</text><text font-size=\"12\" x=\"25\" y=\"180\">5</text><text font-size=\"12\" x=\"25\" y=\"210\">6</text></svg>"
      ],
      "text/plain": [
       "<svgwrite.drawing.Drawing at 0x15dec86b0>"
      ]
     },
     "execution_count": 11,
     "metadata": {},
     "output_type": "execute_result"
    }
   ],
   "source": [
    "cir = dq.photonic.QumodeCircuit(\n",
    "    nmode=modes,\n",
    "    init_state=\"vac\",\n",
    "    # init_state=init_state,\n",
    "    cutoff=cutoff,\n",
    "    backend=\"gaussian\",\n",
    "    basis=True,\n",
    ")\n",
    "\n",
    "for i in range(modes):\n",
    "    cir.d(wires=[i], r=[delta2[i]])\n",
    "\n",
    "cir.any(CR, wires=list(range(modes)))\n",
    "\n",
    "for i in range(modes):\n",
    "    cir.s(wires=[i], r=[-1 * Lambda2[i]])\n",
    "\n",
    "cir.any(CL, wires=list(range(modes)))\n",
    "\n",
    "state = cir()\n",
    "\n",
    "# 线路可视化\n",
    "cir.draw()"
   ]
  },
  {
   "cell_type": "code",
   "execution_count": 12,
   "metadata": {},
   "outputs": [
    {
     "name": "stderr",
     "output_type": "stream",
     "text": [
      "OMP: Info #276: omp_set_nested routine deprecated, please use omp_set_max_active_levels instead.\n",
      "chain 1: 100%|\u001b[32m█████████████████████████\u001b[0m| 99999/99999 [00:05<00:00, 18059.94it/s]\u001b[0m\n",
      "chain 2: 100%|\u001b[32m█████████████████████████\u001b[0m| 99999/99999 [00:02<00:00, 33743.39it/s]\u001b[0m\n",
      "chain 3: 100%|\u001b[32m█████████████████████████\u001b[0m| 99999/99999 [00:02<00:00, 34750.16it/s]\u001b[0m\n",
      "chain 4: 100%|\u001b[32m█████████████████████████\u001b[0m| 99999/99999 [00:02<00:00, 35084.95it/s]\u001b[0m\n",
      "chain 5: 100%|\u001b[32m█████████████████████████\u001b[0m| 99999/99999 [00:02<00:00, 35268.72it/s]\u001b[0m\n"
     ]
    }
   ],
   "source": [
    "sample = cir.measure(shots=shots)"
   ]
  },
  {
   "cell_type": "code",
   "execution_count": 13,
   "metadata": {},
   "outputs": [
    {
     "data": {
      "image/png": "[encoded data removed]",
      "text/plain": [
       "<Figure size 800x400 with 1 Axes>"
      ]
     },
     "metadata": {},
     "output_type": "display_data"
    }
   ],
   "source": [
    "sample2 = []\n",
    "for ele in sample.items():\n",
    "    # print(ele[0].state)\n",
    "    sample2.append(ele[0].state * ele[1])\n",
    "counts2 = np.sum(sample2, axis=0)\n",
    "\n",
    "plt.figure(figsize=(8, 4))\n",
    "plt.ylabel(\"Photon number\")\n",
    "plt.xlabel(r\"Frequency (cm$^{-1}$)\")\n",
    "plt.xticks(range(len(omegap)), np.round(omegap, 1), rotation=90)\n",
    "plt.bar(range(len(omegap)), counts2, color=\"green\")\n",
    "plt.tight_layout()\n",
    "plt.show()"
   ]
  },
  {
   "cell_type": "markdown",
   "metadata": {},
   "source": [
    "现在模拟一个光激发过程，其中涉及从电子基态的预激发振动态进行振动跃迁。\n",
    "预激发振动态可以通过应用位移门来模拟。\n",
    "我们向第6个振动模式插入平均一个振动量子，并计算激发电子态中每个振动模式的平均光子数。"
   ]
  },
  {
   "cell_type": "code",
   "execution_count": 14,
   "metadata": {},
   "outputs": [
    {
     "data": {
      "image/svg+xml": [
       "<svg baseProfile=\"full\" height=\"6.363636363636363cm\" version=\"1.1\" width=\"14.7cm\" xmlns=\"http://www.w3.org/2000/svg\" xmlns:ev=\"http://www.w3.org/2001/xml-events\" xmlns:xlink=\"http://www.w3.org/1999/xlink\"><defs /><polyline fill=\"none\" points=\"40,180 130,180\" stroke=\"black\" stroke-width=\"2\" /><rect fill=\"green\" height=\"12\" rx=\"0\" ry=\"0\" stroke=\"black\" stroke-width=\"1.5\" width=\"10\" x=\"82.5\" y=\"175\" /><text font-size=\"9\" x=\"83\" y=\"170\">D</text><text font-size=\"7\" x=\"95\" y=\"168\">r =1.0</text><text font-size=\"7\" x=\"95\" y=\"174\">θ =0.0</text><polyline fill=\"none\" points=\"40,30 130,30\" stroke=\"black\" stroke-width=\"2\" /><rect fill=\"green\" height=\"12\" rx=\"0\" ry=\"0\" stroke=\"black\" stroke-width=\"1.5\" width=\"10\" x=\"82.5\" y=\"25\" /><text font-size=\"9\" x=\"83\" y=\"20\">D</text><text font-size=\"7\" x=\"95\" y=\"18\">r =0.056</text><text font-size=\"7\" x=\"95\" y=\"24\">θ =0.0</text><polyline fill=\"none\" points=\"40,60 130,60\" stroke=\"black\" stroke-width=\"2\" /><rect fill=\"green\" height=\"12\" rx=\"0\" ry=\"0\" stroke=\"black\" stroke-width=\"1.5\" width=\"10\" x=\"82.5\" y=\"55\" /><text font-size=\"9\" x=\"83\" y=\"50\">D</text><text font-size=\"7\" x=\"95\" y=\"48\">r =-0.053</text><text font-size=\"7\" x=\"95\" y=\"54\">θ =0.0</text><polyline fill=\"none\" points=\"40,90 130,90\" stroke=\"black\" stroke-width=\"2\" /><rect fill=\"green\" height=\"12\" rx=\"0\" ry=\"0\" stroke=\"black\" stroke-width=\"1.5\" width=\"10\" x=\"82.5\" y=\"85\" /><text font-size=\"9\" x=\"83\" y=\"80\">D</text><text font-size=\"7\" x=\"95\" y=\"78\">r =0.982</text><text font-size=\"7\" x=\"95\" y=\"84\">θ =0.0</text><polyline fill=\"none\" points=\"40,120 130,120\" stroke=\"black\" stroke-width=\"2\" /><rect fill=\"green\" height=\"12\" rx=\"0\" ry=\"0\" stroke=\"black\" stroke-width=\"1.5\" width=\"10\" x=\"82.5\" y=\"115\" /><text font-size=\"9\" x=\"83\" y=\"110\">D</text><text font-size=\"7\" x=\"95\" y=\"108\">r =0.525</text><text font-size=\"7\" x=\"95\" y=\"114\">θ =0.0</text><polyline fill=\"none\" points=\"40,150 130,150\" stroke=\"black\" stroke-width=\"2\" /><rect fill=\"green\" height=\"12\" rx=\"0\" ry=\"0\" stroke=\"black\" stroke-width=\"1.5\" width=\"10\" x=\"82.5\" y=\"145\" /><text font-size=\"9\" x=\"83\" y=\"140\">D</text><text font-size=\"7\" x=\"95\" y=\"138\">r =-0.112</text><text font-size=\"7\" x=\"95\" y=\"144\">θ =0.0</text><polyline fill=\"none\" points=\"130,180 220,180\" stroke=\"black\" stroke-width=\"2\" /><rect fill=\"green\" height=\"12\" rx=\"0\" ry=\"0\" stroke=\"black\" stroke-width=\"1.5\" width=\"10\" x=\"172.5\" y=\"175\" /><text font-size=\"9\" x=\"173\" y=\"170\">D</text><text font-size=\"7\" x=\"185\" y=\"168\">r =0.525</text><text font-size=\"7\" x=\"185\" y=\"174\">θ =0.0</text><polyline fill=\"none\" points=\"40,210 130,210\" stroke=\"black\" stroke-width=\"2\" /><rect fill=\"green\" height=\"12\" rx=\"0\" ry=\"0\" stroke=\"black\" stroke-width=\"1.5\" width=\"10\" x=\"82.5\" y=\"205\" /><text font-size=\"9\" x=\"83\" y=\"200\">D</text><text font-size=\"7\" x=\"95\" y=\"198\">r =-0.016</text><text font-size=\"7\" x=\"95\" y=\"204\">θ =0.0</text><polyline fill=\"none\" points=\"220,30 240,30\" stroke=\"black\" stroke-width=\"2\" /><polyline fill=\"none\" points=\"290,30 310,30\" stroke=\"black\" stroke-width=\"2\" /><polyline fill=\"none\" points=\"220,60 240,60\" stroke=\"black\" stroke-width=\"2\" /><polyline fill=\"none\" points=\"290,60 310,60\" stroke=\"black\" stroke-width=\"2\" /><polyline fill=\"none\" points=\"220,90 240,90\" stroke=\"black\" stroke-width=\"2\" /><polyline fill=\"none\" points=\"290,90 310,90\" stroke=\"black\" stroke-width=\"2\" /><polyline fill=\"none\" points=\"220,120 240,120\" stroke=\"black\" stroke-width=\"2\" /><polyline fill=\"none\" points=\"290,120 310,120\" stroke=\"black\" stroke-width=\"2\" /><polyline fill=\"none\" points=\"220,150 240,150\" stroke=\"black\" stroke-width=\"2\" /><polyline fill=\"none\" points=\"290,150 310,150\" stroke=\"black\" stroke-width=\"2\" /><polyline fill=\"none\" points=\"220,180 240,180\" stroke=\"black\" stroke-width=\"2\" /><polyline fill=\"none\" points=\"290,180 310,180\" stroke=\"black\" stroke-width=\"2\" /><polyline fill=\"none\" points=\"220,210 240,210\" stroke=\"black\" stroke-width=\"2\" /><polyline fill=\"none\" points=\"290,210 310,210\" stroke=\"black\" stroke-width=\"2\" /><rect fill=\"cadetblue\" height=\"200\" rx=\"0\" ry=\"0\" stroke=\"black\" stroke-width=\"2\" width=\"50\" x=\"240\" y=\"20\" /><text font-size=\"10\" x=\"261\" y=\"120.0\">U</text><polyline fill=\"none\" points=\"310,30 400,30\" stroke=\"black\" stroke-width=\"2\" /><rect fill=\"royalblue\" height=\"12\" rx=\"0\" ry=\"0\" stroke=\"black\" stroke-width=\"1.5\" width=\"10\" x=\"352.5\" y=\"25\" /><text font-size=\"9\" x=\"353\" y=\"20\">S</text><text font-size=\"7\" x=\"365\" y=\"18\">r =-0.097</text><text font-size=\"7\" x=\"365\" y=\"24\">θ =0.0</text><polyline fill=\"none\" points=\"310,60 400,60\" stroke=\"black\" stroke-width=\"2\" /><rect fill=\"royalblue\" height=\"12\" rx=\"0\" ry=\"0\" stroke=\"black\" stroke-width=\"1.5\" width=\"10\" x=\"352.5\" y=\"55\" /><text font-size=\"9\" x=\"353\" y=\"50\">S</text><text font-size=\"7\" x=\"365\" y=\"48\">r =-0.07</text><text font-size=\"7\" x=\"365\" y=\"54\">θ =0.0</text><polyline fill=\"none\" points=\"310,90 400,90\" stroke=\"black\" stroke-width=\"2\" /><rect fill=\"royalblue\" height=\"12\" rx=\"0\" ry=\"0\" stroke=\"black\" stroke-width=\"1.5\" width=\"10\" x=\"352.5\" y=\"85\" /><text font-size=\"9\" x=\"353\" y=\"80\">S</text><text font-size=\"7\" x=\"365\" y=\"78\">r =-0.021</text><text font-size=\"7\" x=\"365\" y=\"84\">θ =0.0</text><polyline fill=\"none\" points=\"310,120 400,120\" stroke=\"black\" stroke-width=\"2\" /><rect fill=\"royalblue\" height=\"12\" rx=\"0\" ry=\"0\" stroke=\"black\" stroke-width=\"1.5\" width=\"10\" x=\"352.5\" y=\"115\" /><text font-size=\"9\" x=\"353\" y=\"110\">S</text><text font-size=\"7\" x=\"365\" y=\"108\">r =0.06</text><text font-size=\"7\" x=\"365\" y=\"114\">θ =0.0</text><polyline fill=\"none\" points=\"310,150 400,150\" stroke=\"black\" stroke-width=\"2\" /><rect fill=\"royalblue\" height=\"12\" rx=\"0\" ry=\"0\" stroke=\"black\" stroke-width=\"1.5\" width=\"10\" x=\"352.5\" y=\"145\" /><text font-size=\"9\" x=\"353\" y=\"140\">S</text><text font-size=\"7\" x=\"365\" y=\"138\">r =0.075</text><text font-size=\"7\" x=\"365\" y=\"144\">θ =0.0</text><polyline fill=\"none\" points=\"310,180 400,180\" stroke=\"black\" stroke-width=\"2\" /><rect fill=\"royalblue\" height=\"12\" rx=\"0\" ry=\"0\" stroke=\"black\" stroke-width=\"1.5\" width=\"10\" x=\"352.5\" y=\"175\" /><text font-size=\"9\" x=\"353\" y=\"170\">S</text><text font-size=\"7\" x=\"365\" y=\"168\">r =0.112</text><text font-size=\"7\" x=\"365\" y=\"174\">θ =0.0</text><polyline fill=\"none\" points=\"310,210 400,210\" stroke=\"black\" stroke-width=\"2\" /><rect fill=\"royalblue\" height=\"12\" rx=\"0\" ry=\"0\" stroke=\"black\" stroke-width=\"1.5\" width=\"10\" x=\"352.5\" y=\"205\" /><text font-size=\"9\" x=\"353\" y=\"200\">S</text><text font-size=\"7\" x=\"365\" y=\"198\">r =0.187</text><text font-size=\"7\" x=\"365\" y=\"204\">θ =0.0</text><polyline fill=\"none\" points=\"400,30 420,30\" stroke=\"black\" stroke-width=\"2\" /><polyline fill=\"none\" points=\"470,30 490,30\" stroke=\"black\" stroke-width=\"2\" /><polyline fill=\"none\" points=\"400,60 420,60\" stroke=\"black\" stroke-width=\"2\" /><polyline fill=\"none\" points=\"470,60 490,60\" stroke=\"black\" stroke-width=\"2\" /><polyline fill=\"none\" points=\"400,90 420,90\" stroke=\"black\" stroke-width=\"2\" /><polyline fill=\"none\" points=\"470,90 490,90\" stroke=\"black\" stroke-width=\"2\" /><polyline fill=\"none\" points=\"400,120 420,120\" stroke=\"black\" stroke-width=\"2\" /><polyline fill=\"none\" points=\"470,120 490,120\" stroke=\"black\" stroke-width=\"2\" /><polyline fill=\"none\" points=\"400,150 420,150\" stroke=\"black\" stroke-width=\"2\" /><polyline fill=\"none\" points=\"470,150 490,150\" stroke=\"black\" stroke-width=\"2\" /><polyline fill=\"none\" points=\"400,180 420,180\" stroke=\"black\" stroke-width=\"2\" /><polyline fill=\"none\" points=\"470,180 490,180\" stroke=\"black\" stroke-width=\"2\" /><polyline fill=\"none\" points=\"400,210 420,210\" stroke=\"black\" stroke-width=\"2\" /><polyline fill=\"none\" points=\"470,210 490,210\" stroke=\"black\" stroke-width=\"2\" /><rect fill=\"cadetblue\" height=\"200\" rx=\"0\" ry=\"0\" stroke=\"black\" stroke-width=\"2\" width=\"50\" x=\"420\" y=\"20\" /><text font-size=\"10\" x=\"441\" y=\"120.0\">U</text><polyline fill=\"none\" points=\"130,30 220,30\" stroke=\"black\" stroke-width=\"2\" /><polyline fill=\"none\" points=\"130,60 220,60\" stroke=\"black\" stroke-width=\"2\" /><polyline fill=\"none\" points=\"130,90 220,90\" stroke=\"black\" stroke-width=\"2\" /><polyline fill=\"none\" points=\"130,120 220,120\" stroke=\"black\" stroke-width=\"2\" /><polyline fill=\"none\" points=\"130,150 220,150\" stroke=\"black\" stroke-width=\"2\" /><polyline fill=\"none\" points=\"130,210 220,210\" stroke=\"black\" stroke-width=\"2\" /><text font-size=\"12\" x=\"25\" y=\"30\">0</text><text font-size=\"12\" x=\"25\" y=\"60\">1</text><text font-size=\"12\" x=\"25\" y=\"90\">2</text><text font-size=\"12\" x=\"25\" y=\"120\">3</text><text font-size=\"12\" x=\"25\" y=\"150\">4</text><text font-size=\"12\" x=\"25\" y=\"180\">5</text><text font-size=\"12\" x=\"25\" y=\"210\">6</text></svg>"
      ],
      "text/plain": [
       "<svgwrite.drawing.Drawing at 0x15ec6b290>"
      ]
     },
     "execution_count": 14,
     "metadata": {},
     "output_type": "execute_result"
    }
   ],
   "source": [
    "cir = dq.photonic.QumodeCircuit(\n",
    "    nmode=modes,\n",
    "    init_state=\"vac\",\n",
    "    # init_state=init_state,\n",
    "    cutoff=cutoff,\n",
    "    backend=\"gaussian\",\n",
    "    basis=True,\n",
    ")\n",
    "\n",
    "\n",
    "cir.d(wires=[5], r=1.0)\n",
    "\n",
    "for i in range(modes):\n",
    "    cir.d(wires=[i], r=[delta2[i]])\n",
    "\n",
    "cir.any(CR, wires=list(range(modes)))\n",
    "\n",
    "for i in range(modes):\n",
    "    cir.s(wires=[i], r=[-1 * Lambda2[i]])\n",
    "\n",
    "cir.any(CL, wires=list(range(modes)))\n",
    "\n",
    "state = cir()\n",
    "\n",
    "# 线路可视化\n",
    "cir.draw()"
   ]
  },
  {
   "cell_type": "code",
   "execution_count": 15,
   "metadata": {},
   "outputs": [
    {
     "name": "stderr",
     "output_type": "stream",
     "text": [
      "chain 1:   0%|\u001b[32m                                        \u001b[0m| 0/99999 [00:00<?, ?it/s]\u001b[0m"
     ]
    },
    {
     "name": "stderr",
     "output_type": "stream",
     "text": [
      "chain 1: 100%|\u001b[32m█████████████████████████\u001b[0m| 99999/99999 [00:05<00:00, 18132.27it/s]\u001b[0m\n",
      "chain 2: 100%|\u001b[32m█████████████████████████\u001b[0m| 99999/99999 [00:02<00:00, 35005.06it/s]\u001b[0m\n",
      "chain 3: 100%|\u001b[32m█████████████████████████\u001b[0m| 99999/99999 [00:03<00:00, 31544.33it/s]\u001b[0m\n",
      "chain 4: 100%|\u001b[32m█████████████████████████\u001b[0m| 99999/99999 [00:02<00:00, 34846.95it/s]\u001b[0m\n",
      "chain 5: 100%|\u001b[32m█████████████████████████\u001b[0m| 99999/99999 [00:02<00:00, 35347.25it/s]\u001b[0m\n"
     ]
    }
   ],
   "source": [
    "sample3 = cir.measure(shots=shots)"
   ]
  },
  {
   "cell_type": "code",
   "execution_count": 16,
   "metadata": {},
   "outputs": [
    {
     "data": {
      "image/png": "[encoded data removed]",
      "text/plain": [
       "<Figure size 800x400 with 1 Axes>"
      ]
     },
     "metadata": {},
     "output_type": "display_data"
    }
   ],
   "source": [
    "sample4 = []\n",
    "for ele in sample3.items():\n",
    "    # print(ele[0].state)\n",
    "    sample4.append(ele[0].state * ele[1])\n",
    "counts4 = np.sum(sample4, axis=0)\n",
    "\n",
    "plt.figure(figsize=(8, 4))\n",
    "plt.ylabel(\"Photon number\")\n",
    "plt.xlabel(r\"Frequency (cm$^{-1}$)\")\n",
    "plt.xticks(range(len(omegap)), np.round(omegap, 1), rotation=90)\n",
    "plt.bar(range(len(omegap)), counts4, color=\"green\")\n",
    "plt.tight_layout()\n",
    "plt.show()"
   ]
  }
 ],
 "metadata": {
  "kernelspec": {
   "display_name": "piquasso",
   "language": "python",
   "name": "python3"
  },
  "language_info": {
   "codemirror_mode": {
    "name": "ipython",
    "version": 3
   },
   "file_extension": ".py",
   "mimetype": "text/x-python",
   "name": "python",
   "nbconvert_exporter": "python",
   "pygments_lexer": "ipython3",
   "version": "3.12.4"
  }
 },
 "nbformat": 4,
 "nbformat_minor": 2
}
