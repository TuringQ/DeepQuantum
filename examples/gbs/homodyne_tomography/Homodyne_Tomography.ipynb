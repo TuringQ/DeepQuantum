{
 "cells": [
  {
   "cell_type": "markdown",
   "id": "62d950f4",
   "metadata": {},
   "source": [
    "# 量子态层析"
   ]
  },
  {
   "cell_type": "markdown",
   "id": "e18ec05c",
   "metadata": {},
   "source": [
    "量子态层析（$Quantum \\ State\\  Tomography, QST$）是一种用于测量和重构量子系统密度矩阵的技术。\n",
    "其主要目的是通过实验测量获得的信息来推断出一个量子态的完全描述。\n",
    "在量子计算和量子信息处理中，量子态层析是一项关键技术，因为它提供了验证和分析量子系统状态的手段。\n",
    "量子态可以通过密度矩阵 $\\rho$ 完全描述。在 $d$-维希尔伯特空间中，一个纯量子态可以用一个 $(d \\times d)$ 的密度矩阵来表示，量子态层析的目标是通过一系列的测量结果来重构这个密度矩阵。\n",
    "\n",
    "对于一个 $n$-量子比特系统，密度矩阵是一个 $2^n \\times 2^n$ 的矩阵。\n",
    "一般通过进行一系列的投影测量（比如泡利矩阵的张量积）来获得关于量子态的信息。\n",
    "每个测量结果对应于密度矩阵的特定线性组合。\n",
    "使用测量结果构建一组线性方程，解决这些方程来重构密度矩阵。\n",
    "\n",
    "在得到重构的密度矩阵之后可以计算任意算符的期望， 同时也可以通过特定的测量值来计算任意算符的期望。因此重构密度矩阵的任务和计算任意算符期望的任务是等价的。\n",
    "比如一个光量子单模线路中， 量子态用 $Fock$ 基矢表示如下： $|\\psi\\rangle = \\sum_i a_i |i\\rangle$， 对于密度矩阵$\\rho$ 的分量 $\\rho_{ij} = \\langle\n",
    "i |\\rho|j\\rangle = a_ia_j^* $, 同时在量子态下$|\\psi\\rangle$ 测量算符$|j\\rangle\\langle i|$ 得到的期望也是$ a_ia_j^*$， 因此重构密度矩阵等价于测量对应算符的期望。"
   ]
  },
  {
   "cell_type": "markdown",
   "id": "92eefe4c",
   "metadata": {},
   "source": [
    "# 平衡零拍测量"
   ]
  },
  {
   "cell_type": "markdown",
   "id": "2f7acfe7",
   "metadata": {},
   "source": [
    "量子光学实验中可以测量光场量子态正交分量值的探测方法称为平衡零拍探测（$Homodyne$ 测量）[1]。其基本原理如下图所示，一束待测信号光场与一束同频的强本振光（LO）在 50/50 光学分束器合束，分束器之后的两束光分别进入两个相同的光电探测器，随后两个输出的光电流信号经减法器相减，输出的光电流信号正比于信号光场的正交分量值。\n",
    "$$\n",
    "i_{out}(t) \\sim X_\\theta(t)\n",
    "$$\n",
    "$X_\\theta = X cos\\theta + P sin\\theta$， $X, P$ 对应于算符$\\hat{x}, \\hat{p}$ 的本征值，$\\theta$ 对应分束器的可调角度。\n",
    "<div style=\"margin-right: 15px; border-radius: 10px; background-color: rgb(255， 255， 255); text-align: center;\">\n",
    "    <img src=\"./fig/hd1.png\" width=\"30%\"/>\n",
    "    <p style=\"padding: 10px; font-size: small; text-align: center; line-height: 0%;\">\n",
    "        <b>\n",
    "    </p>\n",
    "</div>"
   ]
  },
  {
   "cell_type": "markdown",
   "id": "55eb966f",
   "metadata": {},
   "source": [
    "在光量子系统中由于量子系统很脆弱，经过探测之后就会被破坏，因此为了获得量子态在不同正交分量值下的几率分布就需要制备很多份全同的量子态。量子层析的基本过程是首先在不同正交相位角 $\\theta$ 下测量未知量子态的正交分量值，然后对其进行统计求得 $X_\\theta$ 对应的正交分量概率分布 $Pr(X_\\theta)$，之后可以用最大似然估计算法推断出最有可能满足这一系列正交分量几率分布的量子态的密度矩阵与 $Wigner$ 函数， 也可以通过用这些概率分布来计算对应算符的期望。"
   ]
  },
  {
   "cell_type": "markdown",
   "id": "e976bf3e",
   "metadata": {
    "ExecuteTime": {
     "end_time": "2024-08-13T06:07:54.862265Z",
     "start_time": "2024-08-13T06:07:54.856285Z"
    }
   },
   "source": [
    "# 单模线路量子态层析"
   ]
  },
  {
   "cell_type": "markdown",
   "id": "fc13b7da",
   "metadata": {},
   "source": [
    "## 理论基础"
   ]
  },
  {
   "cell_type": "markdown",
   "id": "a3e7626f",
   "metadata": {},
   "source": [
    "1. 给定一个算符， 一般会考虑用算符基矢展开， 光量子计算中可以将位移算符 $D(\\alpha) = e^{\\alpha a^\\dagger - \\alpha^* a}$ 作为一组正交完备的算符基矢, 那么作用在希尔伯特空间的任意算符$A$ 都可以用这一组基矢展开[2]。\n",
    "$$\n",
    "A=\\int_{\\mathbb{C}}\\frac{d^2\\alpha}{\\pi} \\mathrm{Tr}[A \\mathcal{D}^\\dagger(\\alpha)]\\mathcal{D}(\\alpha)=\\int_{0}^{\\pi}\\frac{d\\phi}{\\pi}\\int_{-\\infty}^{+\\infty}dr\\frac{|r|}{4}\\mathrm{Tr}[A e^{irX_\\phi}]e^{-irX_\\phi}\n",
    "$$\n",
    "这里算符的内积用 $trace$ 来定义, $\\langle A|B\\rangle = Tr[A^\\dagger B]$。\n",
    "采用极坐标参数 $ \\alpha = -ir e^{i\\phi/2}$。正交分量 $X_\\phi$ 的定义如下：\n",
    "$$X_\\phi=(a^\\dagger e^{i\\phi}+ae^{-i\\phi})/2$$\n",
    "那么观测量 $\\langle A \\rangle$ 的表示如下：\n",
    "$$\n",
    "\\begin{aligned}\n",
    "\\left\\langle A\\right\\rangle & =Tr(A\\rho) \\\\\n",
    "&=Tr(\\int\\frac{d^2\\alpha}\\pi Tr(AD^\\dagger(\\alpha))D(\\alpha)\\rho) \\\\\n",
    "&=\\int_0^\\pi\\frac{d\\phi}\\pi\\int_{-\\infty}^\\infty dr\\frac{|r|}4Tr(Ae^{irX_\\phi})Tr(\\rho e^{-irX_\\phi}) \\\\\n",
    "&=\\int_{0}^{\\pi}\\frac{d\\phi}{\\pi}\\int_{-\\infty}^{\\infty}dx\\int_{-\\infty}^{\\infty}dr\\frac{|r|}{4}Tr(Ae^{irX_{\\phi}})p(\\phi,x)e^{-irx} \\\\\n",
    "&=\\int_0^\\pi\\frac{d\\phi}\\pi\\int_{-\\infty}^\\infty dxp(\\phi,x)\\int_{-\\infty}^\\infty dr\\frac{|r|}4Tr(Ae^{ir(X_\\phi-x)}) \\\\\n",
    "&=\\int_0^\\pi\\frac{d\\phi}\\pi\\int_{-\\infty}^\\infty dxp(\\phi,x)K(\\phi,x,A)\n",
    "\\end{aligned}\n",
    "$$\n",
    "这里$p(\\phi, x) = \\langle X_\\phi|\\rho|X_\\phi\\rangle$, 表示测量正交分量 $X_\\phi$ 的分布，核函数 $K(\\phi,x,A)$ 的定义如下：\n",
    "$$\n",
    "K_A(x,\\phi)\\equiv\\int_{-\\infty}^{+\\infty}dr\\frac{|r|}{4}\\mathrm{Tr}[A e^{ir(X_\\phi-x)}]\n",
    "$$\n",
    "对于单模情况的$Fock$ 基矢表示的算符$A$ ($A=|n+\\lambda\\rangle\\langle n|$), 核函数的定义如下[3]：\n",
    "$$\n",
    "\\begin{aligned}K(\\phi,x,|n+\\lambda\\rangle\\langle n|)&=2e^{-i\\lambda\\phi}\\sqrt{\\frac{n!}{(n+\\lambda)!}}e^{-x^2}\\sum_{\\nu=0}^n\\frac{(-1)^\\nu}{\\nu!}\\left(\\begin{array}{c}n+\\lambda\\\\n-\\nu\\end{array}\\right)\\\\&\\times(2\\nu+\\lambda+1)!\\operatorname{Re}\\left[(-i)^\\lambda\\mathcal{D}_{-(2\\nu+\\lambda+2)}(-2ix)\\right]\\end{aligned}\n",
    "$$\n",
    "这里 $D_l(x)$ 是抛物线圆柱函数($parabolic \\ cylinder\\ funtion$)，可以通过`mpmath`计算。"
   ]
  },
  {
   "cell_type": "markdown",
   "id": "2e49d98e",
   "metadata": {},
   "source": [
    "2. 考虑单模情况下 $X_\\phi$ 概率分布 $p(\\phi, x)$， $X_\\phi$ 可以化简\n",
    "$$\n",
    "X_\\phi = \\frac{1}{2}(\\cos\\phi(a^\\dagger+a) + i\\sin\\phi(a^\\dagger-a))=\\frac{1}{2}(\\cos\\phi x_0 + \\sin\\phi p_0)\n",
    "$$\n",
    "\n",
    "$x_0$, $p_0$的分布可以从边缘分布计算得到\n",
    "$$\n",
    "x_0 \\sim N(\\bar{x}_0, \\sigma^2_{x_0}) \\\\\n",
    "p_0 \\sim N(\\bar{p}_0, \\sigma^2_{p_0})\n",
    "$$\n",
    "$X_\\phi$ 对应的分布也是高斯分布，对应的平均值和方差如下\n",
    "$$\n",
    "\\mu({X_\\phi}) = \\frac{1}{2}(\\cos\\phi \\bar{x}_0 + \\sin\\phi \\bar{p}_0),  \\ \\ \\sigma({X_\\phi}) = \\frac{1}{4}(\\cos^2\\phi \\sigma^2_{x_0}+\\sin^2\\phi \\sigma^2_{p_0}) \\\\\n",
    "p(X_\\phi) \\sim N(\\frac{1}{2}(\\cos\\phi \\bar{x}_0+\\sin\\phi \\bar{p}_0), \\frac{1}{4}(\\cos^2\\phi \\sigma^2_{x_0}+\\sin^2\\phi \\sigma^2_{p_0}))\n",
    "$$"
   ]
  },
  {
   "cell_type": "markdown",
   "id": "eceb14a5",
   "metadata": {},
   "source": [
    "3. 考虑多模的情况下，$\\langle A_{M}\\rangle$ 对应的二重积分变成多重积分， 概率分布 $p(x, \\phi)$ 变成联合概率分布 $p(x_1, \\phi_1, x_2,\\phi_2, ...)$， \n",
    "核函数 $K(x, \\phi, A)$ 变成 $K(x_1, x_2, ... \\phi_1, \\phi_2,.., A)$。\n",
    "$$\n",
    "\\begin{aligned}\\langle A_{M}\\rangle&=\\int_{0}^{\\pi}\\frac{d\\phi_{1}\\cdots d\\phi_{M}}{\\pi^{M}}\\int_{-\\infty}^{+\\infty}dx_{1}\\cdots dx_{M} p(x_{1},\\phi_{1},\\cdots,x_{M},\\phi_{M})\\\\&\\times K_{A_{M}}(x_{1},\\phi_{1},\\cdots,x_{M},\\phi_{M}) ,\\end{aligned}\n",
    "$$\n",
    "$$\n",
    "K_{A_M}(x_1,\\phi_1,\\cdots)\\equiv\\int_{-\\infty}^{+\\infty}dr_1\\cdots dr_M\\prod_{m=1}^M\\frac{|r_m|}{4}\\mathrm{Tr}[A_M e^{ir_m(X_{\\phi_m}-x_m)}]\n",
    "$$"
   ]
  },
  {
   "cell_type": "markdown",
   "id": "6b2738c0",
   "metadata": {},
   "source": [
    "## 代码实现"
   ]
  },
  {
   "cell_type": "markdown",
   "id": "e97b83d7",
   "metadata": {
    "ExecuteTime": {
     "end_time": "2024-08-13T07:44:09.072090Z",
     "start_time": "2024-08-13T07:44:09.066106Z"
    }
   },
   "source": [
    "下面以单模压缩态为例， 计算算符$|n+\\lambda\\rangle\\langle n|$的平均值"
   ]
  },
  {
   "cell_type": "code",
   "execution_count": 5,
   "id": "d1fa7509",
   "metadata": {
    "ExecuteTime": {
     "end_time": "2024-10-08T02:53:43.355849Z",
     "start_time": "2024-10-08T02:53:43.324952Z"
    }
   },
   "outputs": [
    {
     "data": {
      "image/svg+xml": [
       "<svg baseProfile=\"full\" height=\"0.9545454545454546cm\" version=\"1.1\" width=\"3.9cm\" xmlns=\"http://www.w3.org/2000/svg\" xmlns:ev=\"http://www.w3.org/2001/xml-events\" xmlns:xlink=\"http://www.w3.org/1999/xlink\"><defs /><polyline fill=\"none\" points=\"40,30 130,30\" stroke=\"black\" stroke-width=\"2\" /><rect fill=\"royalblue\" height=\"12\" rx=\"0\" ry=\"0\" stroke=\"black\" stroke-width=\"1.5\" width=\"10\" x=\"82.5\" y=\"25\" /><text font-size=\"9\" x=\"83\" y=\"20\">S</text><text font-size=\"7\" x=\"95\" y=\"18\">r =1.0</text><text font-size=\"7\" x=\"95\" y=\"24\">θ =0.0</text><text font-size=\"12\" x=\"25\" y=\"30\">0</text></svg>"
      ],
      "text/plain": [
       "<svgwrite.drawing.Drawing at 0x1d1b4b8b4c0>"
      ]
     },
     "execution_count": 5,
     "metadata": {},
     "output_type": "execute_result"
    }
   ],
   "source": [
    "import deepquantum as dq\n",
    "import matplotlib.pyplot as plt\n",
    "import torch\n",
    "\n",
    "nmode = 1\n",
    "cir = dq.QumodeCircuit(nmode=nmode, init_state='vac', cutoff=3, backend='gaussian')\n",
    "cir.s(0, r=1)\n",
    "state =cir()\n",
    "probs = cir(is_prob=True)\n",
    "cir.draw()\n"
   ]
  },
  {
   "cell_type": "code",
   "execution_count": 12,
   "id": "004e6e28",
   "metadata": {
    "ExecuteTime": {
     "end_time": "2024-09-29T03:28:07.600900Z",
     "start_time": "2024-09-29T03:28:07.593898Z"
    }
   },
   "outputs": [],
   "source": [
    "import numpy as np\n",
    "import scipy\n",
    "from scipy.special import factorial, comb\n",
    "import mpmath\n",
    "from mpmath import mp\n",
    "mp.dps = 25; mp.pretty = True\n",
    "\n",
    "def K_A(x, phi, n, labda):\n",
    "    \"\"\"\n",
    "     Kernel function for calculating expetation value of |n+labda><n|\n",
    "    \"\"\"\n",
    "    mp.dps = 15  # 设置mpmath的精度\n",
    "    factor1 = 2 * np.exp(-1j * labda * phi) * np.exp(-x**2) * np.sqrt(factorial(n) / factorial(n+labda))\n",
    "    sum_part = 0\n",
    "    for j in range(n+1):\n",
    "        term1 = (-1)**j / factorial(j) * comb(n + labda, n - j) * factorial(2*j + labda + 1)\n",
    "        D_arg = -1* (2*j + labda + 2)\n",
    "        D_val = mp.pcfd(D_arg, -2j * x) \n",
    "        real_part = mpmath.re((-1j)**(labda) * D_val)\n",
    "        sum_part += term1 * real_part\n",
    "    return np.array(complex(factor1 * sum_part))\n",
    "\n",
    "def fun_(phi, x, n, labda, mu_x, mu_p, sigma_x, sigma_p):\n",
    "    \"\"\"\n",
    "    calculating expectation value of operator |n+labda><n|\n",
    "    \"\"\"\n",
    "    mu = (np.cos(phi)*(mu_x) + np.sin(phi)*(mu_p))/2\n",
    "    sigma = (np.cos(phi)**2*sigma_x + np.sin(phi)**2*sigma_p)/4\n",
    "    p_phi_x = 1/np.sqrt(2*np.pi*sigma)*np.exp(-(x-mu)**2/(2*sigma))\n",
    "    kernel = K_A(x=x, phi=phi, n=n, labda=labda)\n",
    "    return p_phi_x * kernel/np.pi\n"
   ]
  },
  {
   "cell_type": "markdown",
   "id": "2334bf91",
   "metadata": {},
   "source": [
    "一般情况下$\\mu_x, \\mu_p, \\sigma_x, \\sigma_p$ 是通过 $homodyne$ 测量结果做统计学分析得到的， 这里为了方便，直接用前向计算的结果代替$homodyne$ 测量结果。"
   ]
  },
  {
   "cell_type": "code",
   "execution_count": 13,
   "id": "506c7388",
   "metadata": {
    "ExecuteTime": {
     "end_time": "2024-09-29T03:28:08.853019Z",
     "start_time": "2024-09-29T03:28:08.841021Z"
    }
   },
   "outputs": [
    {
     "data": {
      "text/plain": [
       "(array(0.13533534, dtype=float32),\n",
       " array(7.3890557, dtype=float32),\n",
       " array([0.], dtype=float32),\n",
       " array([0.], dtype=float32))"
      ]
     },
     "execution_count": 13,
     "metadata": {},
     "output_type": "execute_result"
    }
   ],
   "source": [
    "sigma_x = np.array(state[0][0][0,0])\n",
    "sigma_p = np.array(state[0][0][1,1])\n",
    "mu_x = np.array(state[1][0][0])\n",
    "mu_p = np.array(state[1][0][1])\n",
    "sigma_x, sigma_p, mu_x, mu_p"
   ]
  },
  {
   "cell_type": "markdown",
   "id": "effd2663",
   "metadata": {},
   "source": [
    "考虑到核函数中包含$e^{-x^2}$项， 因此对于 $x$的数值积分上下限不需要取特别大， 下面是计算$|0\\rangle\\langle 0|$的期望， 取不同上下限的结果，可以看到积分的结果很快就收敛, 并且和`probs` 中结果一致。"
   ]
  },
  {
   "cell_type": "code",
   "execution_count": 17,
   "id": "1ada8aae",
   "metadata": {
    "ExecuteTime": {
     "end_time": "2024-09-29T03:30:37.162257Z",
     "start_time": "2024-09-29T03:29:04.680582Z"
    }
   },
   "outputs": [
    {
     "name": "stdout",
     "output_type": "stream",
     "text": [
      "real (0.0, 1.1407672702481792e-08) image (0.0, 0)\n",
      "real (0.7384155086013756, 1.7029667227517772e-08) image (0.0, 0)\n",
      "real (0.653721248196827, 1.8703001187493422e-08) image (0.0, 0)\n",
      "real (0.6484413243208239, 1.8028299303789776e-08) image (0.0, 0)\n",
      "real (0.6480760393870874, 1.8703001187493422e-08) image (0.0, 0)\n",
      "real (0.648055115002439, 1.658743065951586e-08) image (0.0, 0)\n"
     ]
    }
   ],
   "source": [
    "def fun_real(phi, x, n, labda, mu_x, mu_p, sigma_x, sigma_p):\n",
    "    return fun_(phi, x, n, labda, mu_x, mu_p, sigma_x, sigma_p).real \n",
    "def fun_imag(phi, x, n, labda, mu_x, mu_p, sigma_x, sigma_p):\n",
    "    return fun_(phi, x, n, labda, mu_x, mu_p, sigma_x, sigma_p).imag\n",
    "\n",
    "for bound in range(0, 6):\n",
    "    real_part = scipy.integrate.dblquad(fun_real, -bound,  bound, 0, np.pi, args=(0, 0, mu_x, mu_p, sigma_x, sigma_p))\n",
    "    image_part = scipy.integrate.dblquad(fun_imag,-bound,  bound, 0, np.pi,  args=(0, 0, mu_x, mu_p, sigma_x, sigma_p))\n",
    "    print('real', real_part, 'image',image_part)"
   ]
  },
  {
   "cell_type": "markdown",
   "id": "62739d45",
   "metadata": {},
   "source": [
    "但是对于多模的情况下，使用`scipy`进行多重积分的数值计算效率不高， 这里我们介绍一种基于蒙特卡洛方法计算多重积分的数值方法。"
   ]
  },
  {
   "cell_type": "markdown",
   "id": "ae07f740",
   "metadata": {
    "ExecuteTime": {
     "end_time": "2024-08-13T06:08:42.902554Z",
     "start_time": "2024-08-13T06:08:42.895579Z"
    }
   },
   "source": [
    "## 蒙特卡洛方法计算多重积分 "
   ]
  },
  {
   "cell_type": "markdown",
   "id": "fc3e475c",
   "metadata": {
    "ExecuteTime": {
     "end_time": "2024-08-13T07:30:31.707812Z",
     "start_time": "2024-08-13T07:30:31.702828Z"
    }
   },
   "source": [
    "1. 投点法 \n",
    "<div style=\"margin-right: 15px; border-radius: 10px; background-color: rgb(255， 255， 255); text-align: center;\">\n",
    "    <img src=\"./fig/mt1.jpg\" width=\"30%\"/>\n",
    "    <p style=\"padding: 10px; font-size: small; text-align: center; line-height: 0%;\">\n",
    "        <b>\n",
    "    </p>\n",
    "</div>\n",
    "这里随机的点落在积分区域的概率正比于积分区域的面积， 因此红点所占的比例乘以矩形的面积就是函数 $f(x)$ 的积分。\n",
    "2. 期望法\n",
    "<div style=\"margin-right: 15px; border-radius: 10px; background-color: rgb(255， 255， 255); text-align: center;\">\n",
    "    <img src=\"./fig/mt2.jpg\" width=\"30%\"/>\n",
    "    <p style=\"padding: 10px; font-size: small; text-align: center; line-height: 0%;\">\n",
    "        <b>\n",
    "    </p>\n",
    "</div>\n",
    "\n",
    "$$\n",
    "\\frac{1}{b-a}\\int_a^b f(x)dx \\approx \\frac{1}{N}\\sum_{i=1}^Nf(X_i) \\\\\n",
    "\\int_a^b f(x)dx \\approx (b-a)\\frac{1}{N}\\sum_{i=1}^Nf(X_i)\n",
    "$$"
   ]
  },
  {
   "cell_type": "markdown",
   "id": "321eddbb",
   "metadata": {},
   "source": [
    "下面用蒙特卡洛期望法复现上面的二重积分的计算结果"
   ]
  },
  {
   "cell_type": "code",
   "execution_count": 19,
   "id": "4186a564",
   "metadata": {
    "ExecuteTime": {
     "end_time": "2024-09-29T03:33:26.952088Z",
     "start_time": "2024-09-29T03:32:15.289910Z"
    }
   },
   "outputs": [
    {
     "name": "stdout",
     "output_type": "stream",
     "text": [
      "10 0.9979157216425696\n",
      "100 0.514142044598702\n",
      "1000 0.7160325404556297\n",
      "5000 0.6784637916809562\n",
      "10000 0.6484013347494099\n",
      "20000 0.633254655275164\n",
      "30000 0.6674545512520975\n",
      "40000 0.6440547100815087\n",
      "50000 0.6630202830049494\n"
     ]
    }
   ],
   "source": [
    "#####using monte-carlo mean value method\n",
    "points_list = [10, 100, 1000, 5000, 10000, 20000, 30000, 40000, 50000]\n",
    "val = [ ]\n",
    "for num_points in points_list:\n",
    "    a = np.array([0, -6])\n",
    "    b = np.array([np.pi, 6])\n",
    "    random_samples = a + (b-a)*np.random.rand(num_points, 2)\n",
    "    phi = random_samples[:,0]\n",
    "    x = random_samples[:,1]\n",
    "    vec_fun_real = np.vectorize(fun_real) # vectorize 并行化\n",
    "    re = vec_fun_real(phi, x, 0, 0, mu_x, mu_p, sigma_x, sigma_p)\n",
    "    volume = np.prod(b-a)\n",
    "    integral = volume * np.mean(re)\n",
    "    val.append(integral)\n",
    "    print(num_points, integral)"
   ]
  },
  {
   "cell_type": "markdown",
   "id": "3ac3a370",
   "metadata": {},
   "source": [
    "可以看到最后结果会收敛到0.64左右。"
   ]
  },
  {
   "cell_type": "markdown",
   "id": "4eba272c",
   "metadata": {},
   "source": [
    "# 两模线路的量子态层析"
   ]
  },
  {
   "cell_type": "markdown",
   "id": "bc9021f7",
   "metadata": {},
   "source": [
    "考虑两模光量子线路，算符$H$的平均值如下:\n",
    "$$\n",
    "\\begin{aligned}\n",
    "\\langle H\\rangle&=\\int_0^\\pi\\int_0^\\pi\\frac{d\\phi_1d\\phi_2}{\\pi^2}\\int_{-\\infty}^\\infty\\int_{-\\infty}^\\infty dx_1dx_2 p(\\phi_1,\\phi_2,x_1,x_2)K(\\phi_1,\\phi_2,x_1,x_2,H)\n",
    "\\end{aligned}\n",
    "$$\n",
    "\n",
    "$p(\\phi_1,\\phi_2,x_1,x_2)$ 的定义如下:\n",
    "$$\n",
    "\\begin{aligned}\n",
    "&p(\\phi_1,\\phi_2,x_1,x_2) = p(\\frac{1}{2}(\\cos\\phi_1 x_1 + \\sin\\phi_1 p_1), \\frac{1}{2}(\\cos\\phi_2 x_2 + \\sin\\phi_2 p_2))\n",
    "= p(X_1, X_2) \\\\\n",
    "&X_1 = \\frac{1}{2}(\\cos\\phi_1 x_1 + \\sin\\phi_1 p_1)\\\\\n",
    "&X_2 = \\frac{1}{2}(\\cos\\phi_2 x_2 + \\sin\\phi_2 p_2)\n",
    "\\end{aligned}\n",
    "$$\n",
    "\n",
    "对应的平均值及协方差如下：\n",
    "\n",
    "$$\n",
    "\\begin{aligned}\n",
    "&\\mu(X_1) = \\frac{1}{2}(\\cos\\phi_1 \\mu_{x_1} + \\sin\\phi_1 \\mu_{p_1}) \\\\\n",
    "&\\mu(X_2) = \\frac{1}{2}(\\cos\\phi_2 \\mu_{x_2} + \\sin\\phi_2 \\mu_{p_2}) \\\\\n",
    "&cov(X_1, X_2) = cov(\\frac{1}{2}(\\cos\\phi_1 x_1 + \\sin\\phi_1 p_1), \\frac{1}{2}(\\cos\\phi_2 x_2 + \\sin\\phi_2 p_2)) = \\\\\n",
    "&\\frac{1}{4}(\\cos\\phi_1 \\cos\\phi_2 cov(x_1, x_2) + \\cos\\phi_1 \\sin\\phi_2 cov(x_1, p_2) + \\sin\\phi_1 \\cos\\phi_2 cov(p_1, x_2) + \\sin\\phi_1 \\sin\\phi_2 cov(p_1, p_2) \\\\\n",
    "&cov(X_1, X_1) = \\frac{1}{4}(\\cos^2\\phi_1 cov(x_1, x_1) + sin^2\\phi_1 cov(p_1, p_1) + 2\\cos\\phi_1\\sin\\phi_1cov(x_1, p_1)) \\\\\n",
    "&cov(X_2, X_2) = \\frac{1}{4}(\\cos^2\\phi_2cov(x_2, x_2) + sin^2\\phi_2 cov(p_2, p_2) + 2\\cos\\phi_2\\sin\\phi_2cov(x_2, p_2)) \\\\\n",
    "\\end{aligned}\n",
    "$$\n",
    "\n",
    "$K(\\phi_1,\\phi_2,x_1,x_2,H)$ 的定义如下\n",
    "$$\n",
    "\\begin{aligned}K(\\phi_{1},\\phi_{2},x_{1},x_{2},H)&=\\int_{-\\infty}^{\\infty}dr_{1}dr_{2}\\Pi_{m=1}^{2}\\frac{|r_{m}|}{4}Tr(He^{ir_{m}(X_{\\phi_{m}}-x_{m})})\n",
    "\\end{aligned}\n",
    "$$\n",
    "当$H = H_1 \\otimes H_2$ 时，核函数可以简单表示成两个独立部分的乘积。\n",
    "$$\n",
    "K(\\phi_1,\\phi_2,x_1,x_2,H) = K(\\phi_1,x_1,H_1)\\cdot K(\\phi_2,x_2,H_2)\n",
    "$$\n",
    "比如考虑两模算符$H = |00\\rangle\\langle 00|$，使用下面的化简公式\n",
    "$$\n",
    "|00\\rangle\\langle00| = (|0\\rangle\\otimes |0\\rangle)(\\langle0|\\otimes\\langle0|)  = (|0\\rangle\\langle0|)_1\\otimes(|0\\rangle\\langle0|)_2\n",
    "$$\n",
    "令\n",
    "$$\n",
    "O_1 = (|0\\rangle\\langle0|)_1 \\\\\n",
    "O_2 = (|0\\rangle\\langle0|)_2\n",
    "$$\n",
    "对应的核函数可以写成\n",
    "$$\n",
    "K(\\phi_1,\\phi_2,x_1,x_2,O) = K(\\phi_1,x_1,O_1)\\cdot K(\\phi_2,x_2,O_2)\n",
    "$$"
   ]
  },
  {
   "cell_type": "markdown",
   "id": "622e2c62",
   "metadata": {},
   "source": [
    "下面以两模线路为例， 计算$|00\\rangle \\langle 00|$的期望值，"
   ]
  },
  {
   "cell_type": "code",
   "execution_count": 6,
   "id": "7c136868",
   "metadata": {
    "ExecuteTime": {
     "end_time": "2024-10-08T02:53:56.676981Z",
     "start_time": "2024-10-08T02:53:56.619134Z"
    }
   },
   "outputs": [
    {
     "data": {
      "image/svg+xml": [
       "<svg baseProfile=\"full\" height=\"1.9090909090909092cm\" version=\"1.1\" width=\"6.6cm\" xmlns=\"http://www.w3.org/2000/svg\" xmlns:ev=\"http://www.w3.org/2001/xml-events\" xmlns:xlink=\"http://www.w3.org/1999/xlink\"><defs /><polyline fill=\"none\" points=\"40,30 130,30\" stroke=\"black\" stroke-width=\"2\" /><rect fill=\"royalblue\" height=\"12\" rx=\"0\" ry=\"0\" stroke=\"black\" stroke-width=\"1.5\" width=\"10\" x=\"82.5\" y=\"25\" /><text font-size=\"9\" x=\"83\" y=\"20\">S</text><text font-size=\"7\" x=\"95\" y=\"18\">r =1.0</text><text font-size=\"7\" x=\"95\" y=\"24\">θ =0.0</text><polyline fill=\"none\" points=\"40,60 130,60\" stroke=\"black\" stroke-width=\"2\" /><rect fill=\"royalblue\" height=\"12\" rx=\"0\" ry=\"0\" stroke=\"black\" stroke-width=\"1.5\" width=\"10\" x=\"82.5\" y=\"55\" /><text font-size=\"9\" x=\"83\" y=\"50\">S</text><text font-size=\"7\" x=\"95\" y=\"48\">r =1.0</text><text font-size=\"7\" x=\"95\" y=\"54\">θ =0.0</text><polyline fill=\"none\" points=\"130,30 160,30 190,60 220,60\" stroke=\"black\" stroke-width=\"2\" /><polyline fill=\"none\" points=\"130,60 160,60 190,30 220,30\" stroke=\"black\" stroke-width=\"2\" /><text font-size=\"9\" x=\"170\" y=\"25\">BS</text><text font-size=\"7\" x=\"185\" y=\"44\">θ =0.785</text><text font-size=\"7\" x=\"185\" y=\"50\">ϕ =0.785</text><text font-size=\"12\" x=\"25\" y=\"30\">0</text><text font-size=\"12\" x=\"25\" y=\"60\">1</text></svg>"
      ],
      "text/plain": [
       "<svgwrite.drawing.Drawing at 0x1d1b4795930>"
      ]
     },
     "execution_count": 6,
     "metadata": {},
     "output_type": "execute_result"
    }
   ],
   "source": [
    "nmode = 2\n",
    "cir = dq.QumodeCircuit(nmode=nmode, init_state='vac', cutoff=3, backend='gaussian')\n",
    "cir.s(0, r=1)\n",
    "cir.s(1, r=1)\n",
    "cir.bs([0,1], [np.pi/4, np.pi/4])\n",
    "state =cir()\n",
    "probs = cir(is_prob=True)\n",
    "cir.draw()"
   ]
  },
  {
   "cell_type": "code",
   "execution_count": 25,
   "id": "869f28b4",
   "metadata": {
    "ExecuteTime": {
     "end_time": "2024-08-13T08:08:00.046609Z",
     "start_time": "2024-08-13T08:08:00.024678Z"
    }
   },
   "outputs": [],
   "source": [
    "def get_mu_sigma(phi_1, phi_2, mu, sigma):\n",
    "    mu_1 = 0.5*(np.cos(phi_1)*mu[0] + np.sin(phi_1)*mu[2])\n",
    "    mu_2 = 0.5*(np.cos(phi_2)*mu[1] + np.sin(phi_2)*mu[3])\n",
    "    cov_x1x1 = 0.25*(np.cos(phi_1)**2*sigma[0,0] + np.sin(phi_1)**2*sigma[2,2]+np.sin(2*phi_1)*sigma[0,2])\n",
    "    cov_x2x2 = 0.25*(np.cos(phi_2)**2*sigma[1,1] + np.sin(phi_2)**2*sigma[3,3]+np.sin(2*phi_2)*sigma[1,3])\n",
    "    cov_x1x2 = 0.25*(np.cos(phi_1)*np.cos(phi_2)*sigma[0,1] + np.cos(phi_1)*np.sin(phi_2)*sigma[0,3] + \\\n",
    "            np.sin(phi_1)*np.cos(phi_2)*sigma[2,1] + np.sin(phi_1)*np.sin(phi_2)*sigma[2,3])\n",
    "    mu_ = np.array([mu_1, mu_2])\n",
    "    sigma_ =np.array([[cov_x1x1, cov_x1x2],\n",
    "                      [cov_x1x2, cov_x2x2]])\n",
    "    return mu_, sigma_\n",
    "def fun_twomode(phi_1, phi_2, x_1, x_2, n_1, labda_1, n_2, labda_2, mu, sigma):\n",
    "    \"\"\"\n",
    "    calculating expectation value of operator |n_1+labda_1><n1| \\otimes |n_2+labda_2><n2|\n",
    "    \"\"\"\n",
    "    mu_, sigma_ = get_mu_sigma(phi_1, phi_2, mu, sigma)\n",
    "    sigma_inv = np.linalg.inv(sigma_)\n",
    "    x_ = np.array([x_1, x_2]) - mu_\n",
    "    p =  1/(2*np.pi*np.sqrt(np.linalg.det(sigma_)))*np.exp(-x_.transpose()@sigma_inv@x_)\n",
    "    kernel = K_A(x=x_1, phi=phi_1, n=n_1, labda=labda_1) * K_A(x=x_2, phi=phi_2, n=n_2, labda=labda_2) \n",
    "\n",
    "    return p * kernel/np.pi**2"
   ]
  },
  {
   "cell_type": "markdown",
   "id": "980ede41",
   "metadata": {},
   "source": [
    "一般情况下$\\mu_x, \\mu_p, \\sigma_x, \\sigma_p, cov(x,p)$ 是通过 $homodyne$ 测量结果做统计学分析得到的， 这里为了方便，直接用前向计算的结果代替$homodyne$ 测量结果。\n",
    "同时使用蒙特卡洛方法计算对应的四重积分。"
   ]
  },
  {
   "cell_type": "code",
   "execution_count": 30,
   "id": "0e9e6bdf",
   "metadata": {
    "ExecuteTime": {
     "end_time": "2024-08-13T08:11:13.655370Z",
     "start_time": "2024-08-13T08:11:13.640424Z"
    }
   },
   "outputs": [
    {
     "data": {
      "text/plain": [
       "(array([[ 1.948765 ,  0.       ,  1.8134297, -2.564577 ],\n",
       "        [ 0.       ,  1.948765 , -2.564577 , -1.8134297],\n",
       "        [ 1.8134297, -2.564577 ,  5.5756254,  0.       ],\n",
       "        [-2.564577 , -1.8134297,  0.       ,  5.5756254]], dtype=float32),\n",
       " array([0., 0., 0., 0.], dtype=float32))"
      ]
     },
     "execution_count": 30,
     "metadata": {},
     "output_type": "execute_result"
    }
   ],
   "source": [
    "sigma_ = np.array(state[0][0])\n",
    "mu_ = np.array(state[1][0].squeeze())\n",
    "sigma_, mu_"
   ]
  },
  {
   "cell_type": "markdown",
   "id": "16f9583d",
   "metadata": {},
   "source": [
    "下面通过蒙特卡洛方法计算四重积分"
   ]
  },
  {
   "cell_type": "code",
   "execution_count": 40,
   "id": "97d9fb03",
   "metadata": {
    "ExecuteTime": {
     "end_time": "2024-08-13T08:41:51.285971Z",
     "start_time": "2024-08-13T08:41:01.897370Z"
    }
   },
   "outputs": [
    {
     "name": "stdout",
     "output_type": "stream",
     "text": [
      "0.4254756948069217\n"
     ]
    }
   ],
   "source": [
    "def fun_real_two(phi_1, phi_2, x_1, x_2, n_1, labda_1, n_2, labda_2, mu=mu_, sigma=sigma_):\n",
    "    return fun_twomode(phi_1, phi_2, x_1, x_2, n_1, labda_1, n_2, labda_2, mu, sigma).real\n",
    "    \n",
    "def fun_imag_two(phi_1, phi_2, x_1, x_2, n_1, labda_1, n_2, labda_2, mu=mu_, sigma=sigma_):\n",
    "    return fun_twomode(phi_1, phi_2, x_1, x_2, n_1, labda_1, n_2, labda_2, mu, sigma).imag\n",
    "\n",
    "num_points = int(5e4)\n",
    "a1 = np.array([0, 0, -6, -6])\n",
    "b1 = np.array([np.pi, np.pi, 6, 6])\n",
    "random_samples = a1 + (b1-a1)*np.random.rand(num_points, 4)\n",
    "phi_1 = random_samples[:,0]\n",
    "phi_2 = random_samples[:,1]\n",
    "x_1 = random_samples[:,2]\n",
    "x_2 = random_samples[:,3]\n",
    "\n",
    "vec_fun_real = np.vectorize(fun_real_two) # vectorize 并行化\n",
    "re = vec_fun_real(phi_1, phi_2, x_1, x_2, 0, 0, 0,0)\n",
    "volume = np.prod(b1-a1)\n",
    "integral = volume * np.mean(re)\n",
    "print(integral)"
   ]
  },
  {
   "cell_type": "markdown",
   "id": "17cd262e",
   "metadata": {},
   "source": [
    "输出理论计算的值进行对比"
   ]
  },
  {
   "cell_type": "code",
   "execution_count": 6,
   "id": "41205a96",
   "metadata": {
    "ExecuteTime": {
     "end_time": "2024-09-29T03:26:01.320364Z",
     "start_time": "2024-09-29T03:26:01.291368Z"
    }
   },
   "outputs": [
    {
     "data": {
      "text/plain": [
       "{|00>: tensor([0.4200]),\n",
       " |02>: tensor([0.0609]),\n",
       " |11>: tensor([0.1218]),\n",
       " |20>: tensor([0.0609]),\n",
       " |22>: tensor([0.0088]),\n",
       " |01>: tensor([0.]),\n",
       " |10>: tensor([0.]),\n",
       " |12>: tensor([0.]),\n",
       " |21>: tensor([0.])}"
      ]
     },
     "execution_count": 6,
     "metadata": {},
     "output_type": "execute_result"
    }
   ],
   "source": [
    "probs = cir(is_prob=True)\n",
    "probs"
   ]
  },
  {
   "cell_type": "markdown",
   "id": "89cbdb7a",
   "metadata": {},
   "source": [
    "# 附录"
   ]
  },
  {
   "cell_type": "markdown",
   "id": "41047674",
   "metadata": {},
   "source": [
    "[1] 秦忠忠，王美红，马荣，苏晓龙. 压缩态光场及其应用研究进展[J]. 激光与电子学进展.\n",
    "\n",
    "[2] D'Ariano G M, Maccone L, Sacchi M F. Homodyne tomography and the reconstruction of quantum states of light[M] Quantum Information With Continuous Variables of Atoms and Light. 2007: 141-158.\n",
    "\n",
    "[3] Shang Z X, Zhong H S, Zhang Y K, et al. Boson sampling enhanced quantum chemistry[J]. arXiv preprint arXiv:2403.16698, 2024."
   ]
  }
 ],
 "metadata": {
  "kernelspec": {
   "display_name": "dq_v3",
   "language": "python",
   "name": "dq_v3"
  },
  "language_info": {
   "codemirror_mode": {
    "name": "ipython",
    "version": 3
   },
   "file_extension": ".py",
   "mimetype": "text/x-python",
   "name": "python",
   "nbconvert_exporter": "python",
   "pygments_lexer": "ipython3",
   "version": "3.10.14"
  },
  "toc": {
   "base_numbering": 1,
   "nav_menu": {},
   "number_sections": true,
   "sideBar": true,
   "skip_h1_title": false,
   "title_cell": "Table of Contents",
   "title_sidebar": "Contents",
   "toc_cell": false,
   "toc_position": {
    "height": "calc(100% - 180px)",
    "left": "10px",
    "top": "150px",
    "width": "170.188px"
   },
   "toc_section_display": true,
   "toc_window_display": true
  },
  "varInspector": {
   "cols": {
    "lenName": 16,
    "lenType": 16,
    "lenVar": 40
   },
   "kernels_config": {
    "python": {
     "delete_cmd_postfix": "",
     "delete_cmd_prefix": "del ",
     "library": "var_list.py",
     "varRefreshCmd": "print(var_dic_list())"
    },
    "r": {
     "delete_cmd_postfix": ") ",
     "delete_cmd_prefix": "rm(",
     "library": "var_list.r",
     "varRefreshCmd": "cat(var_dic_list()) "
    }
   },
   "types_to_exclude": [
    "module",
    "function",
    "builtin_function_or_method",
    "instance",
    "_Feature"
   ],
   "window_display": false
  }
 },
 "nbformat": 4,
 "nbformat_minor": 5
}
