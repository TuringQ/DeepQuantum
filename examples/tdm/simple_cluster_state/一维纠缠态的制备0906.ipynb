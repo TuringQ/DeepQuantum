{
 "cells": [
  {
   "cell_type": "markdown",
   "id": "1a80033e",
   "metadata": {},
   "source": [
    "# 纠缠态制备"
   ]
  },
  {
   "cell_type": "markdown",
   "id": "fce907d1",
   "metadata": {
    "ExecuteTime": {
     "end_time": "2024-09-06T03:10:28.857301Z",
     "start_time": "2024-09-06T03:10:28.846334Z"
    }
   },
   "source": [
    "在量子比特系统和连续变量系统中量子纠缠都是量子信息的关键资源， 最常用的纠缠态是$EPR$态 和$GHZ$态， 它们在量子通信和量子网络中都起到了关键作用。\n",
    "量子光学中制备这些纠缠态的方法是通过分束器混合两束压缩光，然后产生纠缠态。\n",
    "然而一般的制备方法都是针对特定的纠缠态设计特定的实验架构，这些方法不具有普遍性。\n",
    "2019年日本东京大学组提出一种基于延时线圈的时分复用方法[1]，可以通过这种方法制备多种纠缠态，包括常见的$EPR$态 和$GHZ$态。\n",
    "自此以后研究者们通过基于时分复用技术构造了各种大规模一维或者二维的簇态[2,3]，向实现通用量子计算迈进一大步。\n",
    "这里我们以一维的EPR和GHZ态为例， 详细介绍如何通过$Deepquantum$ 模拟实现小规模簇态的构造。\n"
   ]
  },
  {
   "cell_type": "markdown",
   "id": "992e2435",
   "metadata": {},
   "source": [
    "## EPR 和GHZ 简单介绍"
   ]
  },
  {
   "cell_type": "markdown",
   "id": "8bd6dda7",
   "metadata": {
    "ExecuteTime": {
     "end_time": "2024-09-11T06:31:29.624900Z",
     "start_time": "2024-09-11T06:31:29.596998Z"
    }
   },
   "source": [
    "1. 两模线路制备$EPR$的图示如下:\n",
    "<div style=\"margin-right: 15px; border-radius: 10px; background-color: rgb(255， 255， 255); text-align: center;\">\n",
    "    <img src=\"./fig/EPR.jpg\" width=\"30%\"/>\n",
    "    <p style=\"padding: 10px; font-size: small; text-align: center; line-height: 0%;\">\n",
    "        <b>\n",
    "    </p>\n",
    "</div>\n",
    "对应两模输入的量子态分别是$|0\\rangle_p, |0\\rangle_x$, 其中$|0\\rangle_p$ 可以通过傅里叶变换用$x$ 基矢表示。\n",
    "$$\n",
    "|0\\rangle_p = \\int_{-\\infty}^{+\\infty} |a\\rangle_x d a\n",
    "$$ \n",
    "那么经过一个$1:1$的分束器之后量子态可以变为，\n",
    "$$\n",
    "BS \\int_{-\\infty}^{+\\infty} |a\\rangle_x^A |0\\rangle_x^Bd a = \\int_{-\\infty}^{+\\infty} |\\frac{a}{\\sqrt{2}}\\rangle_x^A |\\frac{a}{\\sqrt{2}}\\rangle_x^Bd a \\sim \\int_{-\\infty}^{+\\infty} |x\\rangle_x^A |x\\rangle_x^Bd x\n",
    "$$\n",
    "从最后的结果可看到当第一个模进行$homodyne$测量到$x_0$时， 第二个模进行$homodyne$测量同样会得到$x_0$。"
   ]
  },
  {
   "cell_type": "markdown",
   "id": "6a01f872",
   "metadata": {
    "ExecuteTime": {
     "end_time": "2024-09-11T07:04:40.593840Z",
     "start_time": "2024-09-11T07:04:40.577897Z"
    }
   },
   "source": [
    "2. 三模线路制备$GHZ$的图示如下:\n",
    "<div style=\"margin-right: 15px; border-radius: 10px; background-color: rgb(255， 255， 255); text-align: center;\">\n",
    "    <img src=\"./fig/GHZ.png\" width=\"50%\"/>\n",
    "    <p style=\"padding: 10px; font-size: small; text-align: center; line-height: 0%;\">\n",
    "        <b>\n",
    "    </p>\n",
    "</div>\n",
    "对应三模输入的量子态分别是$|0\\rangle_p^A, |0\\rangle_x^B, |0\\rangle_x^C$, 其中$|0\\rangle_p$ 可以通过傅里叶变换用$x$ 基矢表示, 初始系统的量子态如下，\n",
    "$$\n",
    "\\int_{-\\infty}^{+\\infty} |a\\rangle_x^A |0\\rangle_x^B |0\\rangle_x^C d a\n",
    "$$ \n",
    "那么经过第一个$1:2$的分束器之后量子态可以变为，\n",
    "$$\n",
    "BS_1 \\int_{-\\infty}^{+\\infty} |a\\rangle_x^A |0\\rangle_x^B |0\\rangle_x^C d a = \\int_{-\\infty}^{+\\infty} |\\sqrt{\\frac{1}{3}}a\\rangle_x^A |\\sqrt{\\frac{2}{3}}a\\rangle_x^B|0\\rangle_x^C d a\n",
    "$$\n",
    "经过第二个$1:1$的分束器之后量子态可以变为,\n",
    "$$\\int_{-\\infty}^{+\\infty} |\\sqrt{\\frac{1}{3}}a\\rangle_x^A |\\sqrt{\\frac{1}{3}}a\\rangle_x^B|\\sqrt{\\frac{1}{3}}a\\rangle_x^C da\\sim\n",
    "\\int_{-\\infty}^{+\\infty} |x\\rangle_x^A |x\\rangle_x^B|x\\rangle_x^C dx \n",
    "$$\n",
    "从最后的结果可看到当第一个模进行$homodyne$测量到$x_0$时， 第二、三个模进行$homodyne$测量同样会得到$x_0$。\n",
    "\n",
    "注意这里$|0\\rangle_p, |0\\rangle_x$ 都是理想情况下的连续变量量子态，分别表示$p$方向和$x$方向的完美压缩态， 一般实验中会采用压缩态来近似， 通过$\\frac{\\pi}{2}$的旋转门可以实现$|0\\rangle_p 和 |0\\rangle_x$ 的相互转换。"
   ]
  },
  {
   "cell_type": "markdown",
   "id": "b2895132",
   "metadata": {},
   "source": [
    "## 时分复用核心模块介绍"
   ]
  },
  {
   "cell_type": "markdown",
   "id": "569800e8",
   "metadata": {
    "ExecuteTime": {
     "end_time": "2024-09-06T03:10:37.315515Z",
     "start_time": "2024-09-06T03:10:37.293590Z"
    }
   },
   "source": [
    "<div style=\"margin-right: 15px; border-radius: 10px; background-color: rgb(255， 255， 255); text-align: center;\">\n",
    "    <img src=\"./fig/delay.jpg\" width=\"30%\"/>\n",
    "    <p style=\"padding: 10px; font-size: small; text-align: center; line-height: 0%;\">\n",
    "        <b>\n",
    "    </p>\n",
    "</div>"
   ]
  },
  {
   "cell_type": "markdown",
   "id": "a07ce69d",
   "metadata": {},
   "source": [
    "单模线路的时分复用线路结构如上图， 核心模块是可调分束器+延时线圈+可调移相器结构， 初始状态下延时线中是真空态， 分束器角度设为$\\frac{\\pi}{2}$， 输入的压缩态经过可调分束器和延时线圈中的真空态形成置换，第一次输出真空态。\n",
    "然后延时线圈中变为压缩态， 第二次输入时分束器角度设为特定值(比如$\\frac{\\pi}{4}$)， 将两个压缩态纠缠起来，然后其中的一部分通过homodyne测量探测输出，另一部分继续通过延时线圈和下一个输入的压缩态形成干涉(或者置换)，然后部分纠缠态继续输出，如此往复。\n",
    "通过设计可调分束器和可调移相器角度周期性变化，以及变化周期匹配输入光源频率， 可以制备出多种形式的一维纠缠态，比如EPR态， GHZ态， 星状纠缠态等等(见下图)。"
   ]
  },
  {
   "cell_type": "markdown",
   "id": "d58023f9",
   "metadata": {
    "ExecuteTime": {
     "end_time": "2024-09-06T03:31:01.750660Z",
     "start_time": "2024-09-06T03:31:01.734714Z"
    }
   },
   "source": [
    "<div style=\"margin-right: 15px; border-radius: 10px; background-color: rgb(255， 255， 255); text-align: center;\">\n",
    "    <img src=\"./fig/1.png\" width=\"30%\"/>\n",
    "    <p style=\"padding: 10px; font-size: small; text-align: center; line-height: 0%;\">\n",
    "        <b>\n",
    "    </p>\n",
    "</div>"
   ]
  },
  {
   "cell_type": "markdown",
   "id": "83a34588",
   "metadata": {
    "ExecuteTime": {
     "end_time": "2024-09-11T07:19:46.358670Z",
     "start_time": "2024-09-11T07:19:46.348708Z"
    }
   },
   "source": [
    "通过时分复用模块来制备$EPR$态 和$GHZ$态其实就是通过设置周期性分束器和移相器角度，使得时分复用线路可以等效1.1中的光量子线路。下面介绍如何通过时分复用线路制备$EPR$态 和$GHZ$态。\n",
    "<div style=\"margin-right: 15px; border-radius: 10px; background-color: rgb(255， 255， 255); text-align: center;\">\n",
    "    <img src=\"./fig/EPR2.jpg\" width=\"30%\"/>\n",
    "    <p style=\"padding: 10px; font-size: small; text-align: center; line-height: 0%;\">\n",
    "        <b>\n",
    "    </p>\n",
    "</div>\n",
    "1.EPR 态的制备 \n",
    "\n",
    "分束器周期性变化角度为$\\frac{\\pi}{2}， \\frac{\\pi}{4}$， 旋转门对应的周期性变化角度为$\\frac{\\pi}{2}， 0$。第一个$X$压缩态输入通过$\\frac{\\pi}{2}$的分束器置换出真空态， 然后通过$\\frac{\\pi}{2}$旋转门变换成$P$压缩态。 第二个$X$压缩态输入通过$1:1$分束器和$P$压缩态形成纠缠，然后其中一部分输出经过homodyne 探测， 剩余部分和第三个$X$压缩态置换输出然后经过homodyne探测。因此相邻两次输出的一定是$EPR$纠缠态， 相邻两次探测结果也是纠缠的。\n",
    "\n",
    "2.GHZ 态的制备\n",
    "\n",
    "分束器周期性变化角度为$\\frac{\\pi}{2}，\\theta, \\frac{\\pi}{4}$ ($\\theta$ 是 $1:2$分束对应的角度)， 旋转门对应的周期性变化角度为$\\frac{\\pi}{2}, 0, 0$。第一个$X$压缩态输入通过$\\frac{\\pi}{2}$的分束器置换出真空态， 然后通过$\\frac{\\pi}{2}$旋转门变换成$P$压缩态。 第二个$X$压缩态输入通过$1:2$分束器和$P$压缩态形成纠缠，然后其中一部分输出经过homodyne 探测， 剩余部分和第三个$X$压缩态通过$1:1$分束器和$P$压缩态形成纠缠，然后其中一部分输出经过homodyne 探测，剩余部分和第四个$X$压缩态置换输出然后经过homodyne探测。\n",
    "因此相邻三次输出的一定是$GHZ$纠缠态， 相邻三次探测结果也是纠缠的。\n"
   ]
  },
  {
   "cell_type": "markdown",
   "id": "615fcdc6",
   "metadata": {},
   "source": [
    "# 代码演示"
   ]
  },
  {
   "cell_type": "markdown",
   "id": "2b6c7efa",
   "metadata": {},
   "source": [
    "下面演示如何通过Deepquantum 时分复用模块制备简单的纠缠态。"
   ]
  },
  {
   "cell_type": "markdown",
   "id": "a76769ef",
   "metadata": {},
   "source": [
    " ## EPR 态"
   ]
  },
  {
   "cell_type": "code",
   "execution_count": 21,
   "id": "6f0db6a6",
   "metadata": {
    "ExecuteTime": {
     "end_time": "2024-09-12T02:25:03.361878Z",
     "start_time": "2024-09-12T02:25:03.347929Z"
    }
   },
   "outputs": [],
   "source": [
    "import deepquantum as dq\n",
    "import numpy as np\n",
    "import torch"
   ]
  },
  {
   "cell_type": "markdown",
   "id": "9168357d",
   "metadata": {
    "ExecuteTime": {
     "end_time": "2024-09-12T02:01:27.027661Z",
     "start_time": "2024-09-12T02:01:26.283153Z"
    }
   },
   "source": [
    "先使用`QumodeCircuitTDM` 模块搭建单模时分复用线路，延时线圈参数$ n_\\tau=1$, 对应着延时线里只能同时存在一个量子态; 周期性参数编码为 $[\\frac{\\pi}{2}, \\frac{\\pi}{2}]$ 和$[\\frac{\\pi}{4}, 0]$, 对应着分束器周期性变化角度为 $\\frac{\\pi}{2}, \\frac{\\pi}{4}$, 旋转门的周期性变化角度为$\\frac{\\pi}{2}, 0$。"
   ]
  },
  {
   "cell_type": "code",
   "execution_count": 23,
   "id": "31d3aa7a",
   "metadata": {
    "ExecuteTime": {
     "end_time": "2024-09-12T02:26:11.972388Z",
     "start_time": "2024-09-12T02:26:11.939498Z"
    }
   },
   "outputs": [
    {
     "data": {
      "image/svg+xml": [
       "<svg baseProfile=\"full\" height=\"0.9545454545454546cm\" version=\"1.1\" width=\"9.3cm\" xmlns=\"http://www.w3.org/2000/svg\" xmlns:ev=\"http://www.w3.org/2001/xml-events\" xmlns:xlink=\"http://www.w3.org/1999/xlink\"><defs /><polyline fill=\"none\" points=\"40,30 130,30\" stroke=\"black\" stroke-width=\"2\" /><rect fill=\"royalblue\" height=\"12\" rx=\"0\" ry=\"0\" stroke=\"black\" stroke-width=\"1.5\" width=\"10\" x=\"82.5\" y=\"25\" /><text font-size=\"9\" x=\"83\" y=\"20\">S</text><text font-size=\"7\" x=\"95\" y=\"18\">r =5.0</text><text font-size=\"7\" x=\"95\" y=\"24\">θ =0.0</text><polyline fill=\"none\" points=\"130,30 220,30\" stroke=\"black\" stroke-width=\"2\" /><circle cx=\"176\" cy=\"21\" fill=\"white\" r=\"9\" stroke=\"black\" stroke-width=\"1.2\" /><text font-size=\"5\" x=\"170\" y=\"18\">N =1</text><text font-size=\"6\" x=\"188\" y=\"18\">bs_θ =[1.57 0.79]</text><text font-size=\"6\" x=\"188\" y=\"24\">r_θ =[1.57 0.  ]</text><polyline fill=\"none\" points=\"220,30 310,30\" stroke=\"black\" stroke-width=\"2\" /><rect fill=\"black\" height=\"14\" rx=\"0\" ry=\"0\" stroke=\"black\" stroke-width=\"1.5\" width=\"14\" x=\"262.5\" y=\"25\" /><text font-size=\"9\" x=\"265\" y=\"20\">M</text><path d=\"M 263.5 35.0 A 6 6 0 0 1 275.5 35.0\" fill=\"none\" stroke=\"white\" stroke-width=\"1.5\" /><path d=\"M 269.5 35.0 L 269.5 26.0\" fill=\"none\" stroke=\"white\" stroke-width=\"1.5\" transform=\"rotate(45 269.5 32.0)\" /><text font-size=\"7\" x=\"275\" y=\"20\">ϕ =0.0</text><text font-size=\"12\" x=\"25\" y=\"30\">0</text></svg>"
      ],
      "text/plain": [
       "<svgwrite.drawing.Drawing at 0x21b95247a30>"
      ]
     },
     "execution_count": 23,
     "metadata": {},
     "output_type": "execute_result"
    }
   ],
   "source": [
    "r=5\n",
    "nmode = 1\n",
    "circ = dq.QumodeCircuitTDM(nmode=nmode, init_state='vac', cutoff=3, backend='gaussian', basis=True)\n",
    "circ.s([0], r=r)\n",
    "circ.delay([0], n_tau=1, inputs=[np.pi/2, np.pi/2], encode=True) # 参数编码\n",
    "circ.homodyne_x([0])\n",
    "circ.draw()"
   ]
  },
  {
   "cell_type": "markdown",
   "id": "d5cafb59",
   "metadata": {},
   "source": [
    "完成线路前向运行之后可以查看等效的线路"
   ]
  },
  {
   "cell_type": "code",
   "execution_count": 24,
   "id": "6bc29a70",
   "metadata": {
    "ExecuteTime": {
     "end_time": "2024-09-12T02:26:13.173908Z",
     "start_time": "2024-09-12T02:26:13.153975Z"
    }
   },
   "outputs": [
    {
     "data": {
      "image/svg+xml": [
       "<svg baseProfile=\"full\" height=\"1.9090909090909092cm\" version=\"1.1\" width=\"9.3cm\" xmlns=\"http://www.w3.org/2000/svg\" xmlns:ev=\"http://www.w3.org/2001/xml-events\" xmlns:xlink=\"http://www.w3.org/1999/xlink\"><defs /><polyline fill=\"none\" points=\"40,60 130,60\" stroke=\"black\" stroke-width=\"2\" /><rect fill=\"royalblue\" height=\"12\" rx=\"0\" ry=\"0\" stroke=\"black\" stroke-width=\"1.5\" width=\"10\" x=\"82.5\" y=\"55\" /><text font-size=\"9\" x=\"83\" y=\"50\">S</text><text font-size=\"7\" x=\"95\" y=\"48\">r =5.0</text><text font-size=\"7\" x=\"95\" y=\"54\">θ =0.0</text><polyline fill=\"none\" points=\"130,30 150,30 180,60 220,60\" stroke=\"black\" stroke-width=\"2\" /><polyline fill=\"none\" points=\"130,60 150,60 180,30 220,30\" stroke=\"black\" stroke-width=\"2\" /><text font-size=\"9\" x=\"160\" y=\"25\">BS</text><text font-size=\"7\" x=\"175\" y=\"44\">θ =1.571</text><text font-size=\"7\" x=\"175\" y=\"50\">ϕ =0.0</text><polyline fill=\"none\" points=\"220,30 310,30\" stroke=\"black\" stroke-width=\"2\" /><rect fill=\"teal\" height=\"12\" rx=\"0\" ry=\"0\" stroke=\"black\" stroke-width=\"1.5\" width=\"6\" x=\"262.5\" y=\"25\" /><text font-size=\"9\" x=\"260\" y=\"20\">PS</text><text font-size=\"7\" x=\"275\" y=\"20\">θ =1.571</text><polyline fill=\"none\" points=\"220,60 310,60\" stroke=\"black\" stroke-width=\"2\" /><rect fill=\"black\" height=\"14\" rx=\"0\" ry=\"0\" stroke=\"black\" stroke-width=\"1.5\" width=\"14\" x=\"262.5\" y=\"55\" /><text font-size=\"9\" x=\"265\" y=\"50\">M</text><path d=\"M 263.5 65.0 A 6 6 0 0 1 275.5 65.0\" fill=\"none\" stroke=\"white\" stroke-width=\"1.5\" /><path d=\"M 269.5 65.0 L 269.5 56.0\" fill=\"none\" stroke=\"white\" stroke-width=\"1.5\" transform=\"rotate(45 269.5 62.0)\" /><text font-size=\"7\" x=\"275\" y=\"50\">ϕ =0.0</text><polyline fill=\"none\" points=\"40,30 130,30\" stroke=\"black\" stroke-width=\"2\" /><text font-size=\"12\" x=\"25\" y=\"30\">0</text><text font-size=\"12\" x=\"25\" y=\"60\">1</text></svg>"
      ],
      "text/plain": [
       "<svgwrite.drawing.Drawing at 0x21b95296950>"
      ]
     },
     "execution_count": 24,
     "metadata": {},
     "output_type": "execute_result"
    }
   ],
   "source": [
    "circ.draw(unfold=True)"
   ]
  },
  {
   "cell_type": "markdown",
   "id": "0ab0e597",
   "metadata": {
    "ExecuteTime": {
     "end_time": "2024-09-12T02:03:43.222159Z",
     "start_time": "2024-09-12T02:03:43.191263Z"
    }
   },
   "source": [
    "现在编码周期性参数，然后运行线路同时进行homodyne 测量采样， 可以看到采样结果是两两关联的(第一次是真空态的采样结果)"
   ]
  },
  {
   "cell_type": "code",
   "execution_count": 25,
   "id": "8750a4bc",
   "metadata": {
    "ExecuteTime": {
     "end_time": "2024-09-12T02:26:14.402628Z",
     "start_time": "2024-09-12T02:26:14.306946Z"
    }
   },
   "outputs": [
    {
     "data": {
      "text/plain": [
       "tensor([  -0.1985,  148.2802,  148.2864,  -22.4405,  -22.4632, -104.6492,\n",
       "        -104.6533,  104.3473,  104.3514,  128.7511,  128.7397],\n",
       "       dtype=torch.float64)"
      ]
     },
     "execution_count": 25,
     "metadata": {},
     "output_type": "execute_result"
    }
   ],
   "source": [
    "data1 = torch.tensor([[np.pi/2, np.pi/2],\n",
    "                      [np.pi/4, 0]])\n",
    "data2 = data1.unsqueeze(0)\n",
    "test = circ(data=data2, step=13)\n",
    "sample = circ.homodyne_samples\n",
    "sample"
   ]
  },
  {
   "cell_type": "markdown",
   "id": "4a948367",
   "metadata": {},
   "source": [
    "同时还支持多个batch参数的编码， 输出对应的batch结果"
   ]
  },
  {
   "cell_type": "code",
   "execution_count": null,
   "id": "de56eae4",
   "metadata": {},
   "outputs": [],
   "source": [
    "data3 = torch.stack([data1, data1])\n",
    "test = circ(data=data3, step=13)\n",
    "sample = circ.homodyne_samples\n",
    "sample"
   ]
  },
  {
   "cell_type": "markdown",
   "id": "f697047c",
   "metadata": {},
   "source": [
    "## GHZ态"
   ]
  },
  {
   "cell_type": "markdown",
   "id": "edb49314",
   "metadata": {},
   "source": [
    "先使用`QumodeCircuitTDM` 模块搭建单模时分复用线路，延时线圈参数$ n_\\tau=1$, 对应着延时线里只能同时存在一个量子态; 周期性参数编码为 $[\\frac{\\pi}{2}, \\frac{\\pi}{2}]$, $[\\theta_1, 0]$ 和$[\\theta_2, 0]$，对应着分束器周期性变化角度为 $\\frac{\\pi}{2}，\\theta_1， \\theta_2$， 旋转门的周期性变化角度为$\\frac{\\pi}{2}，0，0$。$\\theta_1$ 和 $\\theta_2$ 对应分束器分束比为$1:2$ 和 $1:1$的角度。"
   ]
  },
  {
   "cell_type": "code",
   "execution_count": 26,
   "id": "a6df6d65",
   "metadata": {
    "ExecuteTime": {
     "end_time": "2024-09-12T02:26:15.848481Z",
     "start_time": "2024-09-12T02:26:15.811608Z"
    }
   },
   "outputs": [
    {
     "data": {
      "image/svg+xml": [
       "<svg baseProfile=\"full\" height=\"0.9545454545454546cm\" version=\"1.1\" width=\"9.3cm\" xmlns=\"http://www.w3.org/2000/svg\" xmlns:ev=\"http://www.w3.org/2001/xml-events\" xmlns:xlink=\"http://www.w3.org/1999/xlink\"><defs /><polyline fill=\"none\" points=\"40,30 130,30\" stroke=\"black\" stroke-width=\"2\" /><rect fill=\"royalblue\" height=\"12\" rx=\"0\" ry=\"0\" stroke=\"black\" stroke-width=\"1.5\" width=\"10\" x=\"82.5\" y=\"25\" /><text font-size=\"9\" x=\"83\" y=\"20\">S</text><text font-size=\"7\" x=\"95\" y=\"18\">r =6.0</text><text font-size=\"7\" x=\"95\" y=\"24\">θ =0.0</text><polyline fill=\"none\" points=\"130,30 220,30\" stroke=\"black\" stroke-width=\"2\" /><circle cx=\"176\" cy=\"21\" fill=\"white\" r=\"9\" stroke=\"black\" stroke-width=\"1.2\" /><text font-size=\"5\" x=\"170\" y=\"18\">N =1</text><text font-size=\"6\" x=\"188\" y=\"18\">bs_θ =[1.57 0.62 0.79]</text><text font-size=\"6\" x=\"188\" y=\"24\">r_θ =[1.57 0.   0.  ]</text><polyline fill=\"none\" points=\"220,30 310,30\" stroke=\"black\" stroke-width=\"2\" /><rect fill=\"black\" height=\"14\" rx=\"0\" ry=\"0\" stroke=\"black\" stroke-width=\"1.5\" width=\"14\" x=\"262.5\" y=\"25\" /><text font-size=\"9\" x=\"265\" y=\"20\">M</text><path d=\"M 263.5 35.0 A 6 6 0 0 1 275.5 35.0\" fill=\"none\" stroke=\"white\" stroke-width=\"1.5\" /><path d=\"M 269.5 35.0 L 269.5 26.0\" fill=\"none\" stroke=\"white\" stroke-width=\"1.5\" transform=\"rotate(45 269.5 32.0)\" /><text font-size=\"7\" x=\"275\" y=\"20\">ϕ =0.0</text><text font-size=\"12\" x=\"25\" y=\"30\">0</text></svg>"
      ],
      "text/plain": [
       "<svgwrite.drawing.Drawing at 0x21b95247580>"
      ]
     },
     "execution_count": 26,
     "metadata": {},
     "output_type": "execute_result"
    }
   ],
   "source": [
    "r=6\n",
    "nmode = 1\n",
    "theta1 = torch.arcsin(torch.sqrt(torch.tensor(1/3)))\n",
    "theta2 = torch.arcsin(torch.sqrt(torch.tensor(1/2)))\n",
    "circ = dq.QumodeCircuitTDM(nmode=nmode, init_state='vac', cutoff=3, backend='gaussian', basis=True)\n",
    "circ.s([0], r=r)\n",
    "circ.delay([0], n_tau=1, inputs=[np.pi/2, np.pi/2], encode=True)\n",
    "circ.homodyne_x([0])\n",
    "circ.draw()"
   ]
  },
  {
   "cell_type": "code",
   "execution_count": 27,
   "id": "e4864fd6",
   "metadata": {
    "ExecuteTime": {
     "end_time": "2024-09-12T02:26:16.555515Z",
     "start_time": "2024-09-12T02:26:16.531548Z"
    }
   },
   "outputs": [
    {
     "data": {
      "image/svg+xml": [
       "<svg baseProfile=\"full\" height=\"1.9090909090909092cm\" version=\"1.1\" width=\"9.3cm\" xmlns=\"http://www.w3.org/2000/svg\" xmlns:ev=\"http://www.w3.org/2001/xml-events\" xmlns:xlink=\"http://www.w3.org/1999/xlink\"><defs /><polyline fill=\"none\" points=\"40,60 130,60\" stroke=\"black\" stroke-width=\"2\" /><rect fill=\"royalblue\" height=\"12\" rx=\"0\" ry=\"0\" stroke=\"black\" stroke-width=\"1.5\" width=\"10\" x=\"82.5\" y=\"55\" /><text font-size=\"9\" x=\"83\" y=\"50\">S</text><text font-size=\"7\" x=\"95\" y=\"48\">r =6.0</text><text font-size=\"7\" x=\"95\" y=\"54\">θ =0.0</text><polyline fill=\"none\" points=\"130,30 150,30 180,60 220,60\" stroke=\"black\" stroke-width=\"2\" /><polyline fill=\"none\" points=\"130,60 150,60 180,30 220,30\" stroke=\"black\" stroke-width=\"2\" /><text font-size=\"9\" x=\"160\" y=\"25\">BS</text><text font-size=\"7\" x=\"175\" y=\"44\">θ =1.571</text><text font-size=\"7\" x=\"175\" y=\"50\">ϕ =0.0</text><polyline fill=\"none\" points=\"220,30 310,30\" stroke=\"black\" stroke-width=\"2\" /><rect fill=\"teal\" height=\"12\" rx=\"0\" ry=\"0\" stroke=\"black\" stroke-width=\"1.5\" width=\"6\" x=\"262.5\" y=\"25\" /><text font-size=\"9\" x=\"260\" y=\"20\">PS</text><text font-size=\"7\" x=\"275\" y=\"20\">θ =1.571</text><polyline fill=\"none\" points=\"220,60 310,60\" stroke=\"black\" stroke-width=\"2\" /><rect fill=\"black\" height=\"14\" rx=\"0\" ry=\"0\" stroke=\"black\" stroke-width=\"1.5\" width=\"14\" x=\"262.5\" y=\"55\" /><text font-size=\"9\" x=\"265\" y=\"50\">M</text><path d=\"M 263.5 65.0 A 6 6 0 0 1 275.5 65.0\" fill=\"none\" stroke=\"white\" stroke-width=\"1.5\" /><path d=\"M 269.5 65.0 L 269.5 56.0\" fill=\"none\" stroke=\"white\" stroke-width=\"1.5\" transform=\"rotate(45 269.5 62.0)\" /><text font-size=\"7\" x=\"275\" y=\"50\">ϕ =0.0</text><polyline fill=\"none\" points=\"40,30 130,30\" stroke=\"black\" stroke-width=\"2\" /><text font-size=\"12\" x=\"25\" y=\"30\">0</text><text font-size=\"12\" x=\"25\" y=\"60\">1</text></svg>"
      ],
      "text/plain": [
       "<svgwrite.drawing.Drawing at 0x21b953a3a90>"
      ]
     },
     "execution_count": 27,
     "metadata": {},
     "output_type": "execute_result"
    }
   ],
   "source": [
    "circ.draw(unfold=True)"
   ]
  },
  {
   "cell_type": "markdown",
   "id": "7d742a9d",
   "metadata": {
    "ExecuteTime": {
     "end_time": "2024-09-12T02:17:24.374903Z",
     "start_time": "2024-09-12T02:17:24.355966Z"
    }
   },
   "source": [
    "现在编码周期性参数，然后运行线路同时进行homodyne 测量采样， 可以看到相邻的三个采样结果是关联的(第一次采样是真空态的采样结果)"
   ]
  },
  {
   "cell_type": "code",
   "execution_count": 28,
   "id": "6d55da81",
   "metadata": {
    "ExecuteTime": {
     "end_time": "2024-09-12T02:26:18.112574Z",
     "start_time": "2024-09-12T02:26:17.922213Z"
    }
   },
   "outputs": [
    {
     "data": {
      "text/plain": [
       "tensor([  -0.6118,  -61.7938,  -61.7969,  -61.7888,  -34.1182,  -34.1153,\n",
       "         -34.1119, -367.7013, -367.7015, -367.7007,  166.3197,  166.3246,\n",
       "         166.3176,   -1.7439,   -1.7484,   -1.7481,   25.7223,   25.7168,\n",
       "          25.7237,   44.4565,   44.4579,   44.4531], dtype=torch.float64)"
      ]
     },
     "execution_count": 28,
     "metadata": {},
     "output_type": "execute_result"
    }
   ],
   "source": [
    "data1 = torch.tensor([[np.pi/2, np.pi/2],\n",
    "                      [theta1, 0],\n",
    "                      [theta2, 0]])\n",
    "data2 = data1.unsqueeze(0)\n",
    "test = circ(data=data2, step=13)\n",
    "samples = circ.homodyne_samples\n",
    "samples"
   ]
  },
  {
   "cell_type": "markdown",
   "id": "b78895ca",
   "metadata": {},
   "source": [
    "同时还支持多个batch参数的编码， 输出对应的batch结果"
   ]
  },
  {
   "cell_type": "code",
   "execution_count": 1,
   "id": "a0b0f944",
   "metadata": {
    "ExecuteTime": {
     "end_time": "2024-09-23T09:20:28.306037Z",
     "start_time": "2024-09-23T09:20:28.100038Z"
    },
    "collapsed": true
   },
   "outputs": [
    {
     "ename": "NameError",
     "evalue": "name 'torch' is not defined",
     "output_type": "error",
     "traceback": [
      "\u001b[1;31m---------------------------------------------------------------------------\u001b[0m",
      "\u001b[1;31mNameError\u001b[0m                                 Traceback (most recent call last)",
      "Cell \u001b[1;32mIn[1], line 1\u001b[0m\n\u001b[1;32m----> 1\u001b[0m data3 \u001b[38;5;241m=\u001b[39m \u001b[43mtorch\u001b[49m\u001b[38;5;241m.\u001b[39mstack([data1, data1])\n\u001b[0;32m      2\u001b[0m test \u001b[38;5;241m=\u001b[39m circ(data\u001b[38;5;241m=\u001b[39mdata3, step\u001b[38;5;241m=\u001b[39m\u001b[38;5;241m13\u001b[39m)\n\u001b[0;32m      3\u001b[0m samples \u001b[38;5;241m=\u001b[39m circ\u001b[38;5;241m.\u001b[39mhomodyne_samples\n",
      "\u001b[1;31mNameError\u001b[0m: name 'torch' is not defined"
     ]
    }
   ],
   "source": [
    "data3 = torch.stack([data1, data1])\n",
    "test = circ(data=data3, step=13)\n",
    "samples = circ.homodyne_samples\n",
    "samples"
   ]
  },
  {
   "cell_type": "markdown",
   "id": "a731583e",
   "metadata": {},
   "source": [
    "# 附录"
   ]
  },
  {
   "cell_type": "markdown",
   "id": "7125aff8",
   "metadata": {
    "ExecuteTime": {
     "end_time": "2024-09-06T02:58:08.438380Z",
     "start_time": "2024-09-06T02:58:08.424429Z"
    }
   },
   "source": [
    "[1] Takeda S, Takase K, Furusawa A. On-demand photonic entanglement synthesizer[J]. Science advances, 2019, 5(5): eaaw4530.\n",
    "\n",
    "[2] Yokoyama S, Ukai R, Armstrong S C, et al. Ultra-large-scale continuous-variable cluster states multiplexed in the time domain[J]. Nature Photonics, 2013, 7(12): 982-986.\n",
    "\n",
    "[3] Asavanant W. Time-Domain Multiplexed 2-Dimensional Cluster State: Universal Quantum Computing Platform[J]. arxiv. org, Cornell University Library, 201."
   ]
  }
 ],
 "metadata": {
  "kernelspec": {
   "display_name": "dq_v3",
   "language": "python",
   "name": "dq_v3"
  },
  "language_info": {
   "codemirror_mode": {
    "name": "ipython",
    "version": 3
   },
   "file_extension": ".py",
   "mimetype": "text/x-python",
   "name": "python",
   "nbconvert_exporter": "python",
   "pygments_lexer": "ipython3",
   "version": "3.10.14"
  },
  "toc": {
   "base_numbering": 1,
   "nav_menu": {},
   "number_sections": true,
   "sideBar": true,
   "skip_h1_title": false,
   "title_cell": "Table of Contents",
   "title_sidebar": "Contents",
   "toc_cell": false,
   "toc_position": {
    "height": "calc(100% - 180px)",
    "left": "10px",
    "top": "150px",
    "width": "165px"
   },
   "toc_section_display": true,
   "toc_window_display": true
  },
  "varInspector": {
   "cols": {
    "lenName": 16,
    "lenType": 16,
    "lenVar": 40
   },
   "kernels_config": {
    "python": {
     "delete_cmd_postfix": "",
     "delete_cmd_prefix": "del ",
     "library": "var_list.py",
     "varRefreshCmd": "print(var_dic_list())"
    },
    "r": {
     "delete_cmd_postfix": ") ",
     "delete_cmd_prefix": "rm(",
     "library": "var_list.r",
     "varRefreshCmd": "cat(var_dic_list()) "
    }
   },
   "types_to_exclude": [
    "module",
    "function",
    "builtin_function_or_method",
    "instance",
    "_Feature"
   ],
   "window_display": false
  }
 },
 "nbformat": 4,
 "nbformat_minor": 5
}
