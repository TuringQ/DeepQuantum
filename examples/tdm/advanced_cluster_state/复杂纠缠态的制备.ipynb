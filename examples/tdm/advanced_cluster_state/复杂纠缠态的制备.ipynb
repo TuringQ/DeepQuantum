{
 "cells": [
  {
   "cell_type": "markdown",
   "id": "1a80033e",
   "metadata": {},
   "source": [
    "# 复杂纠缠态制备"
   ]
  },
  {
   "cell_type": "markdown",
   "id": "d7467a41",
   "metadata": {},
   "source": [
    "前面介绍了单模线路结合时分复用方法制备简单的纠缠态，包括$EPR$态和$GHZ$态，这里介绍多模线路结合时分复用方法制备复杂的纠缠态。"
   ]
  },
  {
   "cell_type": "markdown",
   "id": "2aefd979",
   "metadata": {},
   "source": [
    "## 1. 案例一"
   ]
  },
  {
   "cell_type": "markdown",
   "id": "d0adbfd6",
   "metadata": {},
   "source": [
    "第一种纠缠态的制备线路如下图所示， 由东京大学组提出[1]， 通过两模线路结合延时线圈，实现了四个测量结果的纠缠，即实现了相邻两个时刻的两组测量结果纠缠。\n",
    "<div style=\"margin-right: 15px; border-radius: 10px; background-color: rgb(255， 255， 255); text-align: center;\">\n",
    "    <img src=\"./fig/1.jpg\" width=\"30%\"/>\n",
    "    <p style=\"padding: 10px; font-size: small; text-align: center; line-height: 0%;\">\n",
    "        <b>\n",
    "    </p>\n",
    "</div>\n",
    "下面给出这种纠缠态制备线路的理论分析以及使用Deepquantum代码复现。 "
   ]
  },
  {
   "cell_type": "markdown",
   "id": "6a605b98",
   "metadata": {},
   "source": [
    "### 理论分析\n",
    "这里我们在薛定谔表象中研究量子态如何经过一系列光量子门后演化到纠缠态。\n",
    "1. 初态\n",
    "\n",
    "$k$ 时刻的初态可以表示为\n",
    "$$\n",
    "\\psi_k = |x=0\\rangle^A_k|p=0\\rangle^B_k = \\int_{-\\infty}^{+\\infty}|x=0\\rangle^A_k|x=a_k\\rangle^B_k da_k\n",
    "$$\n",
    "那么考虑多个时刻的量子态初态为\n",
    "$$\n",
    "\\Psi_0 = \\prod_k \\int_{-\\infty}^{+\\infty}|x=0\\rangle^A_k|x=a_k\\rangle^B_k da_k\n",
    "$$\n",
    "\n",
    "2. 第一个分束器\n",
    "\n",
    "经过第一个$1:1$ 分束器，相同时刻实现空间上的纠缠\n",
    "\n",
    "$$\n",
    "\\Psi_1 = \\hat{BS} \\Psi_0 = \\prod_k \\int_{-\\infty}^{+\\infty}|x=\\frac{a_k}{\\sqrt{2}}\\rangle^A_k |x=\\frac{a_k}{\\sqrt{2}}\\rangle^B_k da_k\n",
    "$$\n",
    "具体可以写成\n",
    "$$\n",
    "\\Psi_1 =\\int_{-\\infty}^{+\\infty}\\int_{-\\infty}^{+\\infty}\\int_{...}|x=\\frac{a_1}{\\sqrt{2}}\\rangle^A_1 |x=\\frac{a_1}{\\sqrt{2}}\\rangle^B_1 \n",
    "|x=\\frac{a_2}{\\sqrt{2}}\\rangle^A_2 |x=\\frac{a_2}{\\sqrt{2}}\\rangle^B_2 da_1da_2......\n",
    "$$\n",
    "3. 延时线圈\n",
    "\n",
    "作用在模B上的延时线圈仅仅起到延时作用， 没有分束器起作用\n",
    "$$\n",
    "\\Psi_2 =\\int_{-\\infty}^{+\\infty}\\int_{-\\infty}^{+\\infty}\\int_{...}|x=\\frac{a_1}{\\sqrt{2}}\\rangle^A_1 |x=\\frac{a_1}{\\sqrt{2}}\\rangle^B_2 \n",
    "|x=\\frac{a_2}{\\sqrt{2}}\\rangle^A_2 |x=\\frac{a_2}{\\sqrt{2}}\\rangle^B_3 da_1da_2......\n",
    "$$\n",
    "\n",
    "4. 第二个分束器\n",
    "\n",
    "经过第二个$1:1$ 分束器，相同时刻实现空间上的纠缠\n",
    "$$\n",
    "\\Psi_2 =\\int_{-\\infty}^{+\\infty}\\int_{-\\infty}^{+\\infty}\\int_{...}|x=\\frac{a_1}{\\sqrt{2}}\\rangle^A_1 |x=\\frac{1}{2}(a_2-a_1)\\rangle^B_2 \n",
    "|x=\\frac{1}{2}(a_2+a_1)\\rangle^A_2 |x=\\frac{1}{2}(a_3-a_2)\\rangle^B_3\n",
    "|x=\\frac{1}{2}(a_3+a_2)\\rangle^A_3 da_1da_2da_3......\n",
    "$$\n",
    "\n",
    "考虑相邻两次的测量结果，\n",
    "$$\n",
    "\\frac{1}{2}(a_k-a_{k-1}) + \\frac{1}{2}(a_k+a_{k-1}) + \\frac{1}{2}(a_{k+1}-a_{k}) - \\frac{1}{2}(a_{k+1}+a_{k}) = 0\n",
    "$$\n",
    "可以看到相邻的两次测量结果关联起来了，形成了四个量子态组成的纠缠态。"
   ]
  },
  {
   "cell_type": "markdown",
   "id": "615fcdc6",
   "metadata": {},
   "source": [
    "### 代码演示"
   ]
  },
  {
   "cell_type": "code",
   "execution_count": 1,
   "id": "76ff2694",
   "metadata": {
    "ExecuteTime": {
     "end_time": "2024-09-12T08:48:31.390924Z",
     "start_time": "2024-09-12T08:48:28.839638Z"
    }
   },
   "outputs": [],
   "source": [
    "import deepquantum as dq\n",
    "import numpy as np\n",
    "import torch"
   ]
  },
  {
   "cell_type": "code",
   "execution_count": 2,
   "id": "d6222c58",
   "metadata": {
    "ExecuteTime": {
     "end_time": "2024-09-12T08:48:32.114381Z",
     "start_time": "2024-09-12T08:48:32.073490Z"
    }
   },
   "outputs": [
    {
     "data": {
      "image/svg+xml": [
       "<svg baseProfile=\"full\" height=\"1.9090909090909092cm\" version=\"1.1\" width=\"17.4cm\" xmlns=\"http://www.w3.org/2000/svg\" xmlns:ev=\"http://www.w3.org/2001/xml-events\" xmlns:xlink=\"http://www.w3.org/1999/xlink\"><defs /><polyline fill=\"none\" points=\"40,30 130,30\" stroke=\"black\" stroke-width=\"2\" /><rect fill=\"royalblue\" height=\"12\" rx=\"0\" ry=\"0\" stroke=\"black\" stroke-width=\"1.5\" width=\"10\" x=\"82.5\" y=\"25\" /><text font-size=\"9\" x=\"83\" y=\"20\">S</text><text font-size=\"7\" x=\"95\" y=\"18\">r =6.0</text><text font-size=\"7\" x=\"95\" y=\"24\">θ =0.0</text><polyline fill=\"none\" points=\"40,60 130,60\" stroke=\"black\" stroke-width=\"2\" /><rect fill=\"royalblue\" height=\"12\" rx=\"0\" ry=\"0\" stroke=\"black\" stroke-width=\"1.5\" width=\"10\" x=\"82.5\" y=\"55\" /><text font-size=\"9\" x=\"83\" y=\"50\">S</text><text font-size=\"7\" x=\"95\" y=\"48\">r =6.0</text><text font-size=\"7\" x=\"95\" y=\"54\">θ =0.0</text><polyline fill=\"none\" points=\"130,30 220,30\" stroke=\"black\" stroke-width=\"2\" /><rect fill=\"teal\" height=\"12\" rx=\"0\" ry=\"0\" stroke=\"black\" stroke-width=\"1.5\" width=\"6\" x=\"172.5\" y=\"25\" /><text font-size=\"9\" x=\"170\" y=\"20\">PS</text><text font-size=\"7\" x=\"185\" y=\"20\">θ =1.571</text><polyline fill=\"none\" points=\"220,30 240,30 270,60 310,60\" stroke=\"black\" stroke-width=\"2\" /><polyline fill=\"none\" points=\"220,60 240,60 270,30 310,30\" stroke=\"black\" stroke-width=\"2\" /><text font-size=\"9\" x=\"250\" y=\"25\">BS</text><text font-size=\"7\" x=\"265\" y=\"44\">θ =0.785</text><text font-size=\"7\" x=\"265\" y=\"50\">ϕ =0.0</text><polyline fill=\"none\" points=\"310,60 400,60\" stroke=\"black\" stroke-width=\"2\" /><circle cx=\"356\" cy=\"51\" fill=\"white\" r=\"9\" stroke=\"black\" stroke-width=\"1.2\" /><text font-size=\"5\" x=\"350\" y=\"48\">N =1</text><text font-size=\"6\" x=\"368\" y=\"48\">bs_θ =[1.57]</text><text font-size=\"6\" x=\"368\" y=\"54\">r_θ =[3.14]</text><polyline fill=\"none\" points=\"400,30 420,30 450,60 490,60\" stroke=\"black\" stroke-width=\"2\" /><polyline fill=\"none\" points=\"400,60 420,60 450,30 490,30\" stroke=\"black\" stroke-width=\"2\" /><text font-size=\"9\" x=\"430\" y=\"25\">BS</text><text font-size=\"7\" x=\"445\" y=\"44\">θ =0.785</text><text font-size=\"7\" x=\"445\" y=\"50\">ϕ =0.0</text><polyline fill=\"none\" points=\"490,30 580,30\" stroke=\"black\" stroke-width=\"2\" /><rect fill=\"black\" height=\"14\" rx=\"0\" ry=\"0\" stroke=\"black\" stroke-width=\"1.5\" width=\"14\" x=\"532.5\" y=\"25\" /><text font-size=\"9\" x=\"535\" y=\"20\">M</text><path d=\"M 533.5 35.0 A 6 6 0 0 1 545.5 35.0\" fill=\"none\" stroke=\"white\" stroke-width=\"1.5\" /><path d=\"M 539.5 35.0 L 539.5 26.0\" fill=\"none\" stroke=\"white\" stroke-width=\"1.5\" transform=\"rotate(45 539.5 32.0)\" /><text font-size=\"7\" x=\"545\" y=\"20\">ϕ =0.0</text><polyline fill=\"none\" points=\"490,60 580,60\" stroke=\"black\" stroke-width=\"2\" /><rect fill=\"black\" height=\"14\" rx=\"0\" ry=\"0\" stroke=\"black\" stroke-width=\"1.5\" width=\"14\" x=\"532.5\" y=\"55\" /><text font-size=\"9\" x=\"535\" y=\"50\">M</text><path d=\"M 533.5 65.0 A 6 6 0 0 1 545.5 65.0\" fill=\"none\" stroke=\"white\" stroke-width=\"1.5\" /><path d=\"M 539.5 65.0 L 539.5 56.0\" fill=\"none\" stroke=\"white\" stroke-width=\"1.5\" transform=\"rotate(45 539.5 62.0)\" /><text font-size=\"7\" x=\"545\" y=\"50\">ϕ =0.0</text><polyline fill=\"none\" points=\"130,60 220,60\" stroke=\"black\" stroke-width=\"2\" /><polyline fill=\"none\" points=\"310,30 400,30\" stroke=\"black\" stroke-width=\"2\" /><text font-size=\"12\" x=\"25\" y=\"30\">0</text><text font-size=\"12\" x=\"25\" y=\"60\">1</text></svg>"
      ],
      "text/plain": [
       "<svgwrite.drawing.Drawing at 0x182b509f730>"
      ]
     },
     "execution_count": 2,
     "metadata": {},
     "output_type": "execute_result"
    }
   ],
   "source": [
    "r = 6\n",
    "nmode = 2\n",
    "circ = dq.QumodeCircuit(nmode=nmode, init_state='vac', cutoff=3, backend='gaussian', basis=True)\n",
    "circ.s([0], r=r)\n",
    "circ.s([1], r=r)\n",
    "circ.r([0], np.pi/2)\n",
    "circ.bs([0,1], [np.pi/4, 0])\n",
    "circ.delay([1], [1, [torch.tensor(np.pi/2)],[torch.tensor(np.pi)]])# r = pi 做相位修正, 等价于Cross 状态\n",
    "circ.bs([0,1], [np.pi/4, 0])\n",
    "circ.homodyne_x([0])\n",
    "circ.homodyne_x([1])\n",
    "test = circ()\n",
    "circ.draw()"
   ]
  },
  {
   "cell_type": "markdown",
   "id": "a555f786",
   "metadata": {},
   "source": [
    "完成线路前向运行之后可以查看等效的线路"
   ]
  },
  {
   "cell_type": "code",
   "execution_count": 8,
   "id": "d9ede5cf",
   "metadata": {
    "ExecuteTime": {
     "end_time": "2024-09-12T08:52:54.974715Z",
     "start_time": "2024-09-12T08:52:54.942804Z"
    }
   },
   "outputs": [
    {
     "data": {
      "image/svg+xml": [
       "<svg baseProfile=\"full\" height=\"2.8636363636363638cm\" version=\"1.1\" width=\"17.4cm\" xmlns=\"http://www.w3.org/2000/svg\" xmlns:ev=\"http://www.w3.org/2001/xml-events\" xmlns:xlink=\"http://www.w3.org/1999/xlink\"><defs /><polyline fill=\"none\" points=\"40,30 130,30\" stroke=\"black\" stroke-width=\"2\" /><rect fill=\"royalblue\" height=\"12\" rx=\"0\" ry=\"0\" stroke=\"black\" stroke-width=\"1.5\" width=\"10\" x=\"82.5\" y=\"25\" /><text font-size=\"9\" x=\"83\" y=\"20\">S</text><text font-size=\"7\" x=\"95\" y=\"18\">r =6.0</text><text font-size=\"7\" x=\"95\" y=\"24\">θ =0.0</text><polyline fill=\"none\" points=\"40,90 130,90\" stroke=\"black\" stroke-width=\"2\" /><rect fill=\"royalblue\" height=\"12\" rx=\"0\" ry=\"0\" stroke=\"black\" stroke-width=\"1.5\" width=\"10\" x=\"82.5\" y=\"85\" /><text font-size=\"9\" x=\"83\" y=\"80\">S</text><text font-size=\"7\" x=\"95\" y=\"78\">r =6.0</text><text font-size=\"7\" x=\"95\" y=\"84\">θ =0.0</text><polyline fill=\"none\" points=\"130,30 220,30\" stroke=\"black\" stroke-width=\"2\" /><rect fill=\"teal\" height=\"12\" rx=\"0\" ry=\"0\" stroke=\"black\" stroke-width=\"1.5\" width=\"6\" x=\"172.5\" y=\"25\" /><text font-size=\"9\" x=\"170\" y=\"20\">PS</text><text font-size=\"7\" x=\"185\" y=\"20\">θ =1.571</text><polyline fill=\"none\" points=\"220,30 240,30 270,90 310,90\" stroke=\"black\" stroke-width=\"2\" /><polyline fill=\"none\" points=\"220,90 240,90 270,30 310,30\" stroke=\"black\" stroke-width=\"2\" /><text font-size=\"9\" x=\"250\" y=\"25\">BS</text><text font-size=\"7\" x=\"265\" y=\"44\">θ =0.785</text><text font-size=\"7\" x=\"265\" y=\"50\">ϕ =0.0</text><polyline fill=\"none\" points=\"310,60 330,60 360,90 400,90\" stroke=\"black\" stroke-width=\"2\" /><polyline fill=\"none\" points=\"310,90 330,90 360,60 400,60\" stroke=\"black\" stroke-width=\"2\" /><text font-size=\"9\" x=\"340\" y=\"55\">BS</text><text font-size=\"7\" x=\"355\" y=\"74\">θ =1.571</text><text font-size=\"7\" x=\"355\" y=\"80\">ϕ =0.0</text><polyline fill=\"none\" points=\"400,60 490,60\" stroke=\"black\" stroke-width=\"2\" /><rect fill=\"teal\" height=\"12\" rx=\"0\" ry=\"0\" stroke=\"black\" stroke-width=\"1.5\" width=\"6\" x=\"442.5\" y=\"55\" /><text font-size=\"9\" x=\"440\" y=\"50\">PS</text><text font-size=\"7\" x=\"455\" y=\"50\">θ =3.142</text><polyline fill=\"none\" points=\"400,30 420,30 450,90 490,90\" stroke=\"black\" stroke-width=\"2\" /><polyline fill=\"none\" points=\"400,90 420,90 450,30 490,30\" stroke=\"black\" stroke-width=\"2\" /><text font-size=\"9\" x=\"430\" y=\"25\">BS</text><text font-size=\"7\" x=\"445\" y=\"44\">θ =0.785</text><text font-size=\"7\" x=\"445\" y=\"50\">ϕ =0.0</text><polyline fill=\"none\" points=\"490,30 580,30\" stroke=\"black\" stroke-width=\"2\" /><rect fill=\"black\" height=\"14\" rx=\"0\" ry=\"0\" stroke=\"black\" stroke-width=\"1.5\" width=\"14\" x=\"532.5\" y=\"25\" /><text font-size=\"9\" x=\"535\" y=\"20\">M</text><path d=\"M 533.5 35.0 A 6 6 0 0 1 545.5 35.0\" fill=\"none\" stroke=\"white\" stroke-width=\"1.5\" /><path d=\"M 539.5 35.0 L 539.5 26.0\" fill=\"none\" stroke=\"white\" stroke-width=\"1.5\" transform=\"rotate(45 539.5 32.0)\" /><text font-size=\"7\" x=\"545\" y=\"20\">ϕ =0.0</text><polyline fill=\"none\" points=\"490,90 580,90\" stroke=\"black\" stroke-width=\"2\" /><rect fill=\"black\" height=\"14\" rx=\"0\" ry=\"0\" stroke=\"black\" stroke-width=\"1.5\" width=\"14\" x=\"532.5\" y=\"85\" /><text font-size=\"9\" x=\"535\" y=\"80\">M</text><path d=\"M 533.5 95.0 A 6 6 0 0 1 545.5 95.0\" fill=\"none\" stroke=\"white\" stroke-width=\"1.5\" /><path d=\"M 539.5 95.0 L 539.5 86.0\" fill=\"none\" stroke=\"white\" stroke-width=\"1.5\" transform=\"rotate(45 539.5 92.0)\" /><text font-size=\"7\" x=\"545\" y=\"80\">ϕ =0.0</text><polyline fill=\"none\" points=\"40,60 130,60\" stroke=\"black\" stroke-width=\"2\" /><polyline fill=\"none\" points=\"130,60 220,60\" stroke=\"black\" stroke-width=\"2\" /><polyline fill=\"none\" points=\"130,90 220,90\" stroke=\"black\" stroke-width=\"2\" /><polyline fill=\"none\" points=\"220,60 310,60\" stroke=\"black\" stroke-width=\"2\" /><polyline fill=\"none\" points=\"310,30 400,30\" stroke=\"black\" stroke-width=\"2\" /><polyline fill=\"none\" points=\"490,60 580,60\" stroke=\"black\" stroke-width=\"2\" /><text font-size=\"12\" x=\"25\" y=\"30\">0</text><text font-size=\"12\" x=\"25\" y=\"60\">1</text><text font-size=\"12\" x=\"25\" y=\"90\">2</text></svg>"
      ],
      "text/plain": [
       "<svgwrite.drawing.Drawing at 0x182b5bfbb50>"
      ]
     },
     "execution_count": 8,
     "metadata": {},
     "output_type": "execute_result"
    }
   ],
   "source": [
    "circ.unfold_circuit.draw()"
   ]
  },
  {
   "cell_type": "code",
   "execution_count": 9,
   "id": "6b7da383",
   "metadata": {
    "ExecuteTime": {
     "end_time": "2024-09-12T08:52:56.085281Z",
     "start_time": "2024-09-12T08:52:55.718512Z"
    }
   },
   "outputs": [
    {
     "data": {
      "text/plain": [
       "tensor([[ 508.2537,   47.0051],\n",
       "        [-570.0271,  -14.7648],\n",
       "        [ 127.1648, -457.6379],\n",
       "        [ -56.0129, -386.4845],\n",
       "        [ 343.7956,  -98.7048],\n",
       "        [ -84.2959,  160.7964],\n",
       "        [-173.3916,  -96.9020],\n",
       "        [  14.2454, -256.0489],\n",
       "        [ -36.6883, -278.4984],\n",
       "        [ -73.9323, -389.1119],\n",
       "        [ 531.6588,   68.6159],\n",
       "        [-559.2243,   41.0485],\n",
       "        [ 324.2510, -193.9199],\n",
       "        [  92.3418,  222.6711],\n",
       "        [-118.2236,  196.7890],\n",
       "        [-181.9926, -103.4279],\n",
       "        [ 514.0080,  228.5854],\n",
       "        [-243.4348,  499.1600],\n",
       "        [-245.6557,   10.0707],\n",
       "        [-177.9113, -413.4923]], dtype=torch.float64)"
      ]
     },
     "execution_count": 9,
     "metadata": {},
     "output_type": "execute_result"
    }
   ],
   "source": [
    "shots = 20\n",
    "samples = circ.measure_homodyne(shots=shots)\n",
    "samples"
   ]
  },
  {
   "cell_type": "markdown",
   "id": "2edd9239",
   "metadata": {
    "ExecuteTime": {
     "end_time": "2024-09-12T08:47:43.007680Z",
     "start_time": "2024-09-12T08:47:42.990960Z"
    }
   },
   "source": [
    "计算相邻四个结果的误差"
   ]
  },
  {
   "cell_type": "code",
   "execution_count": 10,
   "id": "de56528f",
   "metadata": {
    "ExecuteTime": {
     "end_time": "2024-09-12T08:52:58.427698Z",
     "start_time": "2024-09-12T08:52:58.405773Z"
    }
   },
   "outputs": [
    {
     "name": "stdout",
     "output_type": "stream",
     "text": [
      "variance: tensor(8.0398e-06, dtype=torch.float64)\n",
      "mean: tensor(-0.0014, dtype=torch.float64)\n"
     ]
    }
   ],
   "source": [
    "size = int(shots/2)\n",
    "samples_reshape = samples.reshape(size,2,2)\n",
    "x_delta = [ ]\n",
    "for i in range(size):\n",
    "    temp = samples_reshape[i].sum() - 2*samples_reshape[i][1,1]\n",
    "    x_delta.append(temp)\n",
    "x_delta2 = torch.stack(x_delta)\n",
    "print('variance:', x_delta2.std()**2)\n",
    "print('mean:', x_delta2.mean())"
   ]
  },
  {
   "cell_type": "markdown",
   "id": "a731583e",
   "metadata": {},
   "source": [
    "# 附录"
   ]
  },
  {
   "cell_type": "markdown",
   "id": "7125aff8",
   "metadata": {
    "ExecuteTime": {
     "end_time": "2024-09-06T02:58:08.438380Z",
     "start_time": "2024-09-06T02:58:08.424429Z"
    }
   },
   "source": [
    "[1] Yokoyama S, Ukai R, Armstrong S C, et al. Ultra-large-scale continuous-variable cluster states multiplexed in the time domain[J]. Nature Photonics, 2013, 7(12): 982-986.\n",
    "\n",
    "[3] Asavanant W. Time-Domain Multiplexed 2-Dimensional Cluster State: Universal Quantum Computing Platform[J]. arxiv. org, Cornell University Library, 201."
   ]
  }
 ],
 "metadata": {
  "kernelspec": {
   "display_name": "dq_v3",
   "language": "python",
   "name": "dq_v3"
  },
  "language_info": {
   "codemirror_mode": {
    "name": "ipython",
    "version": 3
   },
   "file_extension": ".py",
   "mimetype": "text/x-python",
   "name": "python",
   "nbconvert_exporter": "python",
   "pygments_lexer": "ipython3",
   "version": "3.10.14"
  },
  "toc": {
   "base_numbering": 1,
   "nav_menu": {},
   "number_sections": true,
   "sideBar": true,
   "skip_h1_title": false,
   "title_cell": "Table of Contents",
   "title_sidebar": "Contents",
   "toc_cell": false,
   "toc_position": {},
   "toc_section_display": true,
   "toc_window_display": false
  },
  "varInspector": {
   "cols": {
    "lenName": 16,
    "lenType": 16,
    "lenVar": 40
   },
   "kernels_config": {
    "python": {
     "delete_cmd_postfix": "",
     "delete_cmd_prefix": "del ",
     "library": "var_list.py",
     "varRefreshCmd": "print(var_dic_list())"
    },
    "r": {
     "delete_cmd_postfix": ") ",
     "delete_cmd_prefix": "rm(",
     "library": "var_list.r",
     "varRefreshCmd": "cat(var_dic_list()) "
    }
   },
   "types_to_exclude": [
    "module",
    "function",
    "builtin_function_or_method",
    "instance",
    "_Feature"
   ],
   "window_display": false
  }
 },
 "nbformat": 4,
 "nbformat_minor": 5
}
