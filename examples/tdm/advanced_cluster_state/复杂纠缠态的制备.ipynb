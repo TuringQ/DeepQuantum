{
 "cells": [
  {
   "cell_type": "markdown",
   "id": "1a80033e",
   "metadata": {},
   "source": [
    "# 复杂纠缠态制备"
   ]
  },
  {
   "cell_type": "markdown",
   "id": "d7467a41",
   "metadata": {},
   "source": [
    "前面介绍了单模线路结合时域复用方法制备简单的纠缠态，包括EPR态和GHZ态，这里介绍多模线路结合时域复用方法制备复杂的纠缠态。"
   ]
  },
  {
   "cell_type": "markdown",
   "id": "2aefd979",
   "metadata": {},
   "source": [
    "## 案例一：扩展EPR的制备"
   ]
  },
  {
   "cell_type": "markdown",
   "id": "d0adbfd6",
   "metadata": {},
   "source": [
    "第一种纠缠态的制备线路如下图所示， 由东京大学组提出[1]， 通过两模线路结合延时线圈，实现了四个测量结果的纠缠，即实现了相邻两个时刻的两组测量结果纠缠。\n",
    "\n",
    "<div style=\"margin-right: 15px; border-radius: 10px; background-color: rgb(255， 255， 255); text-align: center;\">\n",
    "    <img src=\"./fig/entangle_1.png\" width=\"50%\"/>\n",
    "    <p style=\"padding: 10px; font-size: small; text-align: center; line-height: 0%;\">\n",
    "        <b>\n",
    "    </p>\n",
    "</div>\n",
    "\n",
    "首先两组连续变量压缩光经过一个 $1:1$ 的分束器形成纠缠，第二模的量子态经过延时线圈和第二个时刻的第一模中的量子态再通过分束器纠缠，从而使得\n",
    "输出的相邻两个时刻的两组测量结果纠缠起来。"
   ]
  },
  {
   "cell_type": "markdown",
   "id": "5a2c8fd4",
   "metadata": {
    "ExecuteTime": {
     "end_time": "2024-09-24T08:06:18.047453Z",
     "start_time": "2024-09-24T08:06:18.029457Z"
    }
   },
   "source": [
    "下面给出这种纠缠态制备线路的理论分析以及使用DeepQuantum代码复现。"
   ]
  },
  {
   "cell_type": "markdown",
   "id": "6a605b98",
   "metadata": {},
   "source": [
    "### 理论分析\n",
    "这里我们在薛定谔表象中研究量子态如何经过一系列光量子门后演化到纠缠态。\n",
    "\n",
    "1.初态\n",
    "\n",
    "$k$ 时刻的初态可以表示为\n",
    "$$\n",
    "\\psi_k = |x=0\\rangle^A_k|p=0\\rangle^B_k = \\int_{-\\infty}^{+\\infty}|x=0\\rangle^A_k|x=a_k\\rangle^B_k da_k\n",
    "$$\n",
    "那么考虑多个时刻的量子态初态为\n",
    "$$\n",
    "\\Psi_0 = \\prod_k \\int_{-\\infty}^{+\\infty}|x=0\\rangle^A_k|x=a_k\\rangle^B_k da_k\n",
    "$$\n",
    "$k$ 表示不同时刻的指标。\n",
    "\n",
    "2.第一个分束器\n",
    "\n",
    "经过第一个$1:1$ 分束器，相同时刻实现空间上的纠缠\n",
    "\n",
    "$$\n",
    "\\Psi_1 = \\hat{BS} \\Psi_0 = \\prod_k \\int_{-\\infty}^{+\\infty}|x=\\frac{a_k}{\\sqrt{2}}\\rangle^A_k |x=\\frac{a_k}{\\sqrt{2}}\\rangle^B_k da_k\n",
    "$$\n",
    "具体可以写成\n",
    "$$\n",
    "\\Psi_1 =\\int_{-\\infty}^{+\\infty}\\int_{-\\infty}^{+\\infty}\\int_{...}|x=\\frac{a_1}{\\sqrt{2}}\\rangle^A_1 |x=\\frac{a_1}{\\sqrt{2}}\\rangle^B_1 \n",
    "|x=\\frac{a_2}{\\sqrt{2}}\\rangle^A_2 |x=\\frac{a_2}{\\sqrt{2}}\\rangle^B_2 da_1da_2......\n",
    "$$\n",
    "3. 延时线圈\n",
    "\n",
    "作用在模式B上的延时线圈仅仅起到延时作用，没有分束器起作用。\n",
    "$$\n",
    "\\Psi_2 =\\int_{-\\infty}^{+\\infty}\\int_{-\\infty}^{+\\infty}\\int_{...}|x=\\frac{a_1}{\\sqrt{2}}\\rangle^A_1 |x=\\frac{a_1}{\\sqrt{2}}\\rangle^B_2 \n",
    "|x=\\frac{a_2}{\\sqrt{2}}\\rangle^A_2 |x=\\frac{a_2}{\\sqrt{2}}\\rangle^B_3 da_1da_2......\n",
    "$$\n",
    "\n",
    "4. 第二个分束器\n",
    "\n",
    "经过第二个$1:1$ 分束器，相同时刻实现空间上的纠缠。\n",
    "$$\n",
    "\\Psi_2 =\\int_{-\\infty}^{+\\infty}\\int_{-\\infty}^{+\\infty}\\int_{...}|x=\\frac{a_1}{\\sqrt{2}}\\rangle^B_1|x=\\frac{a_1}{\\sqrt{2}}\\rangle^A_1 |x=\\frac{1}{2}(a_2-a_1)\\rangle^B_2 \n",
    "|x=\\frac{1}{2}(a_2+a_1)\\rangle^A_2 |x=\\frac{1}{2}(a_3-a_2)\\rangle^B_3\n",
    "|x=\\frac{1}{2}(a_3+a_2)\\rangle^A_3 da_1da_2da_3......\n",
    "$$\n",
    "\n",
    "考虑相邻两次的测量结果，\n",
    "$$\n",
    "\\frac{1}{2}(a_k-a_{k-1}) + \\frac{1}{2}(a_k+a_{k-1}) + \\frac{1}{2}(a_{k+1}-a_{k}) - \\frac{1}{2}(a_{k+1}+a_{k}) = 0\n",
    "$$\n",
    "可以看到相邻的两次测量结果关联起来了，形成了四个量子态组成的纠缠态。"
   ]
  },
  {
   "cell_type": "markdown",
   "id": "615fcdc6",
   "metadata": {},
   "source": [
    "### 代码演示"
   ]
  },
  {
   "cell_type": "code",
   "execution_count": 16,
   "id": "76ff2694",
   "metadata": {
    "ExecuteTime": {
     "end_time": "2024-09-30T05:25:23.116777Z",
     "start_time": "2024-09-30T05:25:23.102778Z"
    }
   },
   "outputs": [],
   "source": [
    "import deepquantum as dq\n",
    "import numpy as np\n",
    "import torch"
   ]
  },
  {
   "cell_type": "code",
   "execution_count": null,
   "id": "d6222c58",
   "metadata": {
    "ExecuteTime": {
     "end_time": "2024-09-30T05:25:23.472116Z",
     "start_time": "2024-09-30T05:25:23.452117Z"
    }
   },
   "outputs": [
    {
     "data": {
      "image/svg+xml": [
       "<svg baseProfile=\"full\" height=\"1.9090909090909092cm\" version=\"1.1\" width=\"17.4cm\" xmlns=\"http://www.w3.org/2000/svg\" xmlns:ev=\"http://www.w3.org/2001/xml-events\" xmlns:xlink=\"http://www.w3.org/1999/xlink\"><defs /><polyline fill=\"none\" points=\"40,30 130,30\" stroke=\"black\" stroke-width=\"2\" /><rect fill=\"royalblue\" height=\"12\" rx=\"0\" ry=\"0\" stroke=\"black\" stroke-width=\"1.5\" width=\"10\" x=\"82.5\" y=\"25\" /><text font-size=\"9\" x=\"83\" y=\"20\">S</text><text font-size=\"7\" x=\"95\" y=\"18\">r =6.0</text><text font-size=\"7\" x=\"95\" y=\"24\">θ =0.0</text><polyline fill=\"none\" points=\"40,60 130,60\" stroke=\"black\" stroke-width=\"2\" /><rect fill=\"royalblue\" height=\"12\" rx=\"0\" ry=\"0\" stroke=\"black\" stroke-width=\"1.5\" width=\"10\" x=\"82.5\" y=\"55\" /><text font-size=\"9\" x=\"83\" y=\"50\">S</text><text font-size=\"7\" x=\"95\" y=\"48\">r =6.0</text><text font-size=\"7\" x=\"95\" y=\"54\">θ =0.0</text><polyline fill=\"none\" points=\"130,30 220,30\" stroke=\"black\" stroke-width=\"2\" /><rect fill=\"teal\" height=\"12\" rx=\"0\" ry=\"0\" stroke=\"black\" stroke-width=\"1.5\" width=\"6\" x=\"172.5\" y=\"25\" /><text font-size=\"9\" x=\"170\" y=\"20\">PS</text><text font-size=\"7\" x=\"185\" y=\"20\">θ =1.571</text><polyline fill=\"none\" points=\"220,30 240,30 270,60 310,60\" stroke=\"black\" stroke-width=\"2\" /><polyline fill=\"none\" points=\"220,60 240,60 270,30 310,30\" stroke=\"black\" stroke-width=\"2\" /><text font-size=\"9\" x=\"250\" y=\"25\">BS</text><text font-size=\"7\" x=\"265\" y=\"44\">θ =0.785</text><text font-size=\"7\" x=\"265\" y=\"50\">ϕ =0.0</text><polyline fill=\"none\" points=\"310,60 400,60\" stroke=\"black\" stroke-width=\"2\" /><circle cx=\"356\" cy=\"51\" fill=\"white\" r=\"9\" stroke=\"black\" stroke-width=\"1.2\" /><text font-size=\"5\" x=\"350\" y=\"48\">N =1</text><text font-size=\"6\" x=\"368\" y=\"48\">θ =1.57</text><text font-size=\"6\" x=\"368\" y=\"54\">ϕ =0.0</text><polyline fill=\"none\" points=\"400,30 420,30 450,60 490,60\" stroke=\"black\" stroke-width=\"2\" /><polyline fill=\"none\" points=\"400,60 420,60 450,30 490,30\" stroke=\"black\" stroke-width=\"2\" /><text font-size=\"9\" x=\"430\" y=\"25\">BS</text><text font-size=\"7\" x=\"445\" y=\"44\">θ =0.785</text><text font-size=\"7\" x=\"445\" y=\"50\">ϕ =0.0</text><polyline fill=\"none\" points=\"490,30 580,30\" stroke=\"black\" stroke-width=\"2\" /><rect fill=\"black\" height=\"14\" rx=\"0\" ry=\"0\" stroke=\"black\" stroke-width=\"1.5\" width=\"14\" x=\"532.5\" y=\"25\" /><text font-size=\"9\" x=\"535\" y=\"20\">M</text><path d=\"M 533.5 35.0 A 6 6 0 0 1 545.5 35.0\" fill=\"none\" stroke=\"white\" stroke-width=\"1.5\" /><path d=\"M 539.5 35.0 L 539.5 26.0\" fill=\"none\" stroke=\"white\" stroke-width=\"1.5\" transform=\"rotate(45 539.5 32.0)\" /><text font-size=\"7\" x=\"545\" y=\"20\">ϕ =0.0</text><polyline fill=\"none\" points=\"490,60 580,60\" stroke=\"black\" stroke-width=\"2\" /><rect fill=\"black\" height=\"14\" rx=\"0\" ry=\"0\" stroke=\"black\" stroke-width=\"1.5\" width=\"14\" x=\"532.5\" y=\"55\" /><text font-size=\"9\" x=\"535\" y=\"50\">M</text><path d=\"M 533.5 65.0 A 6 6 0 0 1 545.5 65.0\" fill=\"none\" stroke=\"white\" stroke-width=\"1.5\" /><path d=\"M 539.5 65.0 L 539.5 56.0\" fill=\"none\" stroke=\"white\" stroke-width=\"1.5\" transform=\"rotate(45 539.5 62.0)\" /><text font-size=\"7\" x=\"545\" y=\"50\">ϕ =0.0</text><polyline fill=\"none\" points=\"130,60 220,60\" stroke=\"black\" stroke-width=\"2\" /><polyline fill=\"none\" points=\"310,30 400,30\" stroke=\"black\" stroke-width=\"2\" /><text font-size=\"12\" x=\"25\" y=\"30\">0</text><text font-size=\"12\" x=\"25\" y=\"60\">1</text></svg>"
      ],
      "text/plain": [
       "<svgwrite.drawing.Drawing at 0x1a7fdbc7160>"
      ]
     },
     "execution_count": 17,
     "metadata": {},
     "output_type": "execute_result"
    }
   ],
   "source": [
    "r = 6\n",
    "nmode = 2\n",
    "cir = dq.QumodeCircuitTDM(nmode=nmode, init_state='vac', cutoff=3)\n",
    "cir.s(0, r=r)\n",
    "cir.s(1, r=r)\n",
    "cir.r(0, np.pi/2)\n",
    "cir.bs([0,1], [np.pi/4, 0])\n",
    "cir.delay(1, ntau=1, inputs=[np.pi/2, 0])\n",
    "cir.bs([0,1], [np.pi/4, 0])\n",
    "cir.homodyne_x(0)\n",
    "cir.homodyne_x(1)\n",
    "cir.to(torch.double)\n",
    "cir()\n",
    "cir.draw()"
   ]
  },
  {
   "cell_type": "markdown",
   "id": "a555f786",
   "metadata": {},
   "source": [
    "完成线路前向运行之后可以查看等效的线路"
   ]
  },
  {
   "cell_type": "code",
   "execution_count": 6,
   "id": "d9ede5cf",
   "metadata": {
    "ExecuteTime": {
     "end_time": "2024-09-30T05:20:16.985174Z",
     "start_time": "2024-09-30T05:20:16.975176Z"
    }
   },
   "outputs": [
    {
     "data": {
      "image/svg+xml": [
       "<svg baseProfile=\"full\" height=\"2.8636363636363638cm\" version=\"1.1\" width=\"17.4cm\" xmlns=\"http://www.w3.org/2000/svg\" xmlns:ev=\"http://www.w3.org/2001/xml-events\" xmlns:xlink=\"http://www.w3.org/1999/xlink\"><defs /><polyline fill=\"none\" points=\"40,30 130,30\" stroke=\"black\" stroke-width=\"2\" /><rect fill=\"royalblue\" height=\"12\" rx=\"0\" ry=\"0\" stroke=\"black\" stroke-width=\"1.5\" width=\"10\" x=\"82.5\" y=\"25\" /><text font-size=\"9\" x=\"83\" y=\"20\">S</text><text font-size=\"7\" x=\"95\" y=\"18\">r =6.0</text><text font-size=\"7\" x=\"95\" y=\"24\">θ =0.0</text><polyline fill=\"none\" points=\"40,90 130,90\" stroke=\"black\" stroke-width=\"2\" /><rect fill=\"royalblue\" height=\"12\" rx=\"0\" ry=\"0\" stroke=\"black\" stroke-width=\"1.5\" width=\"10\" x=\"82.5\" y=\"85\" /><text font-size=\"9\" x=\"83\" y=\"80\">S</text><text font-size=\"7\" x=\"95\" y=\"78\">r =6.0</text><text font-size=\"7\" x=\"95\" y=\"84\">θ =0.0</text><polyline fill=\"none\" points=\"130,30 220,30\" stroke=\"black\" stroke-width=\"2\" /><rect fill=\"teal\" height=\"12\" rx=\"0\" ry=\"0\" stroke=\"black\" stroke-width=\"1.5\" width=\"6\" x=\"172.5\" y=\"25\" /><text font-size=\"9\" x=\"170\" y=\"20\">PS</text><text font-size=\"7\" x=\"185\" y=\"20\">θ =1.571</text><polyline fill=\"none\" points=\"220,30 240,30 270,90 310,90\" stroke=\"black\" stroke-width=\"2\" /><polyline fill=\"none\" points=\"220,90 240,90 270,30 310,30\" stroke=\"black\" stroke-width=\"2\" /><text font-size=\"9\" x=\"250\" y=\"25\">BS</text><text font-size=\"7\" x=\"265\" y=\"44\">θ =0.785</text><text font-size=\"7\" x=\"265\" y=\"50\">ϕ =0.0</text><polyline fill=\"none\" points=\"310,60 330,60 360,90 400,90\" stroke=\"black\" stroke-width=\"2\" /><polyline fill=\"none\" points=\"310,90 330,90 360,60 400,60\" stroke=\"black\" stroke-width=\"2\" /><text font-size=\"9\" x=\"340\" y=\"55\">BS</text><text font-size=\"7\" x=\"355\" y=\"74\">θ =1.571</text><text font-size=\"7\" x=\"355\" y=\"80\">ϕ =1.571</text><polyline fill=\"none\" points=\"400,60 490,60\" stroke=\"black\" stroke-width=\"2\" /><rect fill=\"teal\" height=\"12\" rx=\"0\" ry=\"0\" stroke=\"black\" stroke-width=\"1.5\" width=\"6\" x=\"442.5\" y=\"55\" /><text font-size=\"9\" x=\"440\" y=\"50\">PS</text><text font-size=\"7\" x=\"455\" y=\"50\">θ =0.0</text><polyline fill=\"none\" points=\"400,30 420,30 450,90 490,90\" stroke=\"black\" stroke-width=\"2\" /><polyline fill=\"none\" points=\"400,90 420,90 450,30 490,30\" stroke=\"black\" stroke-width=\"2\" /><text font-size=\"9\" x=\"430\" y=\"25\">BS</text><text font-size=\"7\" x=\"445\" y=\"44\">θ =0.785</text><text font-size=\"7\" x=\"445\" y=\"50\">ϕ =0.0</text><polyline fill=\"none\" points=\"490,30 580,30\" stroke=\"black\" stroke-width=\"2\" /><rect fill=\"black\" height=\"14\" rx=\"0\" ry=\"0\" stroke=\"black\" stroke-width=\"1.5\" width=\"14\" x=\"532.5\" y=\"25\" /><text font-size=\"9\" x=\"535\" y=\"20\">M</text><path d=\"M 533.5 35.0 A 6 6 0 0 1 545.5 35.0\" fill=\"none\" stroke=\"white\" stroke-width=\"1.5\" /><path d=\"M 539.5 35.0 L 539.5 26.0\" fill=\"none\" stroke=\"white\" stroke-width=\"1.5\" transform=\"rotate(45 539.5 32.0)\" /><text font-size=\"7\" x=\"545\" y=\"20\">ϕ =0.0</text><polyline fill=\"none\" points=\"490,90 580,90\" stroke=\"black\" stroke-width=\"2\" /><rect fill=\"black\" height=\"14\" rx=\"0\" ry=\"0\" stroke=\"black\" stroke-width=\"1.5\" width=\"14\" x=\"532.5\" y=\"85\" /><text font-size=\"9\" x=\"535\" y=\"80\">M</text><path d=\"M 533.5 95.0 A 6 6 0 0 1 545.5 95.0\" fill=\"none\" stroke=\"white\" stroke-width=\"1.5\" /><path d=\"M 539.5 95.0 L 539.5 86.0\" fill=\"none\" stroke=\"white\" stroke-width=\"1.5\" transform=\"rotate(45 539.5 92.0)\" /><text font-size=\"7\" x=\"545\" y=\"80\">ϕ =0.0</text><polyline fill=\"none\" points=\"40,60 130,60\" stroke=\"black\" stroke-width=\"2\" /><polyline fill=\"none\" points=\"130,60 220,60\" stroke=\"black\" stroke-width=\"2\" /><polyline fill=\"none\" points=\"130,90 220,90\" stroke=\"black\" stroke-width=\"2\" /><polyline fill=\"none\" points=\"220,60 310,60\" stroke=\"black\" stroke-width=\"2\" /><polyline fill=\"none\" points=\"310,30 400,30\" stroke=\"black\" stroke-width=\"2\" /><polyline fill=\"none\" points=\"490,60 580,60\" stroke=\"black\" stroke-width=\"2\" /><text font-size=\"12\" x=\"25\" y=\"30\">0</text><text font-size=\"12\" x=\"25\" y=\"60\">1</text><text font-size=\"12\" x=\"25\" y=\"90\">2</text></svg>"
      ],
      "text/plain": [
       "<svgwrite.drawing.Drawing at 0x1a7fdf76b90>"
      ]
     },
     "execution_count": 6,
     "metadata": {},
     "output_type": "execute_result"
    }
   ],
   "source": [
    "cir.draw(unroll=True)"
   ]
  },
  {
   "cell_type": "code",
   "execution_count": null,
   "id": "6b7da383",
   "metadata": {
    "ExecuteTime": {
     "end_time": "2024-09-30T05:20:17.746905Z",
     "start_time": "2024-09-30T05:20:17.644908Z"
    }
   },
   "outputs": [
    {
     "data": {
      "text/plain": [
       "tensor([[  -9.4332,   -6.7339],\n",
       "        [ 347.3914,  363.5567],\n",
       "        [ 644.8513,  -66.0994],\n",
       "        [ 442.2943, -136.4661],\n",
       "        [  31.7089, -274.1145],\n",
       "        [ 122.4824,  364.8849],\n",
       "        [  33.2360, -454.1305],\n",
       "        [-145.6183,  275.2744],\n",
       "        [ 145.0562,   15.4012],\n",
       "        [  63.9466,  -96.5084],\n",
       "        [ -26.7371,    5.8232],\n",
       "        [ 131.8538,  152.7683],\n",
       "        [ 223.9500,  -60.6742],\n",
       "        [-104.0268, -267.3069],\n",
       "        [-166.9784,  204.3499],\n",
       "        [  21.8937,  -15.4776],\n",
       "        [-389.8816, -396.2973],\n",
       "        [-461.7313,  324.4476],\n",
       "        [-105.4010,   31.8808],\n",
       "        [-209.5396, -136.0182]], dtype=torch.float64)"
      ]
     },
     "execution_count": 7,
     "metadata": {},
     "output_type": "execute_result"
    }
   ],
   "source": [
    "shots = 20\n",
    "cir(nstep=20)\n",
    "samples = cir.samples\n",
    "samples.mT"
   ]
  },
  {
   "cell_type": "markdown",
   "id": "2edd9239",
   "metadata": {
    "ExecuteTime": {
     "end_time": "2024-09-12T08:47:43.007680Z",
     "start_time": "2024-09-12T08:47:42.990960Z"
    }
   },
   "source": [
    "计算相邻两次测量结果共四个结果的误差, 可以看到误差很小，因此可以认为它们相互纠缠起来。"
   ]
  },
  {
   "cell_type": "code",
   "execution_count": 8,
   "id": "de56528f",
   "metadata": {
    "ExecuteTime": {
     "end_time": "2024-09-30T05:20:23.231934Z",
     "start_time": "2024-09-30T05:20:23.213931Z"
    }
   },
   "outputs": [
    {
     "name": "stdout",
     "output_type": "stream",
     "text": [
      "variance: tensor(1.0168e-05, dtype=torch.float64)\n",
      "mean: tensor(-0.0015, dtype=torch.float64)\n"
     ]
    }
   ],
   "source": [
    "size = int(shots/2)\n",
    "samples_reshape = samples.mT.reshape(size,2,2)\n",
    "x_delta = [ ]\n",
    "for i in range(size):\n",
    "    temp = samples_reshape[i].sum() - 2*samples_reshape[i][1,0]\n",
    "    x_delta.append(temp)\n",
    "x_delta2 = torch.stack(x_delta)\n",
    "print('variance:', x_delta2.std()**2)\n",
    "print('mean:', x_delta2.mean())"
   ]
  },
  {
   "cell_type": "markdown",
   "id": "eb8e8822",
   "metadata": {},
   "source": [
    "# 案例二：二维簇态的制备"
   ]
  },
  {
   "cell_type": "markdown",
   "id": "218719d8",
   "metadata": {
    "ExecuteTime": {
     "end_time": "2024-09-25T02:14:41.357436Z",
     "start_time": "2024-09-25T02:14:41.343433Z"
    }
   },
   "source": [
    "2019 年东京大学组通过下面的四模线路加上两个延时线圈实现了二维簇态的制备[2]\n",
    "<div style=\"margin-right: 15px; border-radius: 10px; background-color: rgb(255， 255， 255); text-align: center;\">\n",
    "    <img src=\"./fig/entangle_2_1.png\" width=\"50%\"/>\n",
    "    <p style=\"padding: 10px; font-size: small; text-align: center; line-height: 0%;\">\n",
    "        <b>\n",
    "    </p>\n",
    "</div>"
   ]
  },
  {
   "cell_type": "markdown",
   "id": "753ddb80",
   "metadata": {
    "ExecuteTime": {
     "end_time": "2024-09-25T02:17:51.297113Z",
     "start_time": "2024-09-25T02:17:51.294108Z"
    }
   },
   "source": [
    "图中的三个分束器都是 $1:1$ 分束， 同一时刻四路压缩光经过三个分束器之后在空间上形成纠缠， 然后第二路经过第一个延时线做一个周期的延时， 第三路第二个延时线圈做 $N$ 个周期的延时( 这里$N=5$)，最后输出的四路量子态在时间和空间上形成纠缠。 具体来说\n",
    "$$\n",
    "x_k^A + x_k^B - \\frac{1}{\\sqrt{2}}(-x^A_{k+1} + x^B_{k+1} + x^C_{k+N} + x^D_{k+N}) = 0\n",
    "$$\n",
    "$k$ 对应的是时间指标。\n",
    "\n",
    "随时间的纠缠过程如下图所示，\n",
    "<div style=\"margin-right: 15px; border-radius: 10px; background-color: rgb(255， 255， 255); text-align: center;\">\n",
    "    <img src=\"./fig/entangle_2_2.png\" width=\"30%\"/>\n",
    "    <p style=\"padding: 10px; font-size: small; text-align: center; line-height: 0%;\">\n",
    "        <b>\n",
    "    </p>\n",
    "</div>\n",
    "从上面的等式的前四项可以看出 $k$ 时刻和 $k+1$ 时刻是纠缠在一起的，这里就形成一维的纠缠链， 同时后两项增加了 $k+N$ 时刻的纠缠， 这里就形成了二维的纠缠，具体细节可以参考[2]。"
   ]
  },
  {
   "cell_type": "markdown",
   "id": "7d4523f8",
   "metadata": {},
   "source": [
    "### 代码演示"
   ]
  },
  {
   "cell_type": "code",
   "execution_count": 18,
   "id": "cdc77e45",
   "metadata": {
    "ExecuteTime": {
     "end_time": "2024-09-30T05:25:30.220952Z",
     "start_time": "2024-09-30T05:25:30.205949Z"
    }
   },
   "outputs": [],
   "source": [
    "import deepquantum as dq\n",
    "import numpy as np\n",
    "import torch"
   ]
  },
  {
   "cell_type": "code",
   "execution_count": null,
   "id": "6e8fe7bc",
   "metadata": {
    "ExecuteTime": {
     "end_time": "2024-09-30T05:25:35.380242Z",
     "start_time": "2024-09-30T05:25:35.342243Z"
    }
   },
   "outputs": [
    {
     "data": {
      "image/svg+xml": [
       "<svg baseProfile=\"full\" height=\"3.8181818181818183cm\" version=\"1.1\" width=\"20.1cm\" xmlns=\"http://www.w3.org/2000/svg\" xmlns:ev=\"http://www.w3.org/2001/xml-events\" xmlns:xlink=\"http://www.w3.org/1999/xlink\"><defs /><polyline fill=\"none\" points=\"40,30 130,30\" stroke=\"black\" stroke-width=\"2\" /><rect fill=\"royalblue\" height=\"12\" rx=\"0\" ry=\"0\" stroke=\"black\" stroke-width=\"1.5\" width=\"10\" x=\"82.5\" y=\"25\" /><text font-size=\"9\" x=\"83\" y=\"20\">S</text><text font-size=\"7\" x=\"95\" y=\"18\">r =8.0</text><text font-size=\"7\" x=\"95\" y=\"24\">θ =0.0</text><polyline fill=\"none\" points=\"40,60 130,60\" stroke=\"black\" stroke-width=\"2\" /><rect fill=\"royalblue\" height=\"12\" rx=\"0\" ry=\"0\" stroke=\"black\" stroke-width=\"1.5\" width=\"10\" x=\"82.5\" y=\"55\" /><text font-size=\"9\" x=\"83\" y=\"50\">S</text><text font-size=\"7\" x=\"95\" y=\"48\">r =8.0</text><text font-size=\"7\" x=\"95\" y=\"54\">θ =0.0</text><polyline fill=\"none\" points=\"40,90 130,90\" stroke=\"black\" stroke-width=\"2\" /><rect fill=\"royalblue\" height=\"12\" rx=\"0\" ry=\"0\" stroke=\"black\" stroke-width=\"1.5\" width=\"10\" x=\"82.5\" y=\"85\" /><text font-size=\"9\" x=\"83\" y=\"80\">S</text><text font-size=\"7\" x=\"95\" y=\"78\">r =8.0</text><text font-size=\"7\" x=\"95\" y=\"84\">θ =0.0</text><polyline fill=\"none\" points=\"40,120 130,120\" stroke=\"black\" stroke-width=\"2\" /><rect fill=\"royalblue\" height=\"12\" rx=\"0\" ry=\"0\" stroke=\"black\" stroke-width=\"1.5\" width=\"10\" x=\"82.5\" y=\"115\" /><text font-size=\"9\" x=\"83\" y=\"110\">S</text><text font-size=\"7\" x=\"95\" y=\"108\">r =8.0</text><text font-size=\"7\" x=\"95\" y=\"114\">θ =0.0</text><polyline fill=\"none\" points=\"130,30 220,30\" stroke=\"black\" stroke-width=\"2\" /><rect fill=\"teal\" height=\"12\" rx=\"0\" ry=\"0\" stroke=\"black\" stroke-width=\"1.5\" width=\"6\" x=\"172.5\" y=\"25\" /><text font-size=\"9\" x=\"170\" y=\"20\">PS</text><text font-size=\"7\" x=\"185\" y=\"20\">θ =1.571</text><polyline fill=\"none\" points=\"130,90 220,90\" stroke=\"black\" stroke-width=\"2\" /><rect fill=\"teal\" height=\"12\" rx=\"0\" ry=\"0\" stroke=\"black\" stroke-width=\"1.5\" width=\"6\" x=\"172.5\" y=\"85\" /><text font-size=\"9\" x=\"170\" y=\"80\">PS</text><text font-size=\"7\" x=\"185\" y=\"80\">θ =1.571</text><polyline fill=\"none\" points=\"220,30 240,30 270,60 310,60\" stroke=\"black\" stroke-width=\"2\" /><polyline fill=\"none\" points=\"220,60 240,60 270,30 310,30\" stroke=\"black\" stroke-width=\"2\" /><text font-size=\"9\" x=\"250\" y=\"25\">BS</text><text font-size=\"7\" x=\"265\" y=\"44\">θ =0.785</text><text font-size=\"7\" x=\"265\" y=\"50\">ϕ =0.0</text><polyline fill=\"none\" points=\"220,90 240,90 270,120 310,120\" stroke=\"black\" stroke-width=\"2\" /><polyline fill=\"none\" points=\"220,120 240,120 270,90 310,90\" stroke=\"black\" stroke-width=\"2\" /><text font-size=\"9\" x=\"250\" y=\"85\">BS</text><text font-size=\"7\" x=\"265\" y=\"104\">θ =0.785</text><text font-size=\"7\" x=\"265\" y=\"110\">ϕ =0.0</text><polyline fill=\"none\" points=\"310,60 330,60 360,90 400,90\" stroke=\"black\" stroke-width=\"2\" /><polyline fill=\"none\" points=\"310,90 330,90 360,60 400,60\" stroke=\"black\" stroke-width=\"2\" /><text font-size=\"9\" x=\"340\" y=\"55\">BS</text><text font-size=\"7\" x=\"355\" y=\"74\">θ =0.785</text><text font-size=\"7\" x=\"355\" y=\"80\">ϕ =0.0</text><polyline fill=\"none\" points=\"400,60 490,60\" stroke=\"black\" stroke-width=\"2\" /><circle cx=\"446\" cy=\"51\" fill=\"white\" r=\"9\" stroke=\"black\" stroke-width=\"1.2\" /><text font-size=\"5\" x=\"440\" y=\"48\">N =1</text><text font-size=\"6\" x=\"458\" y=\"48\">θ =1.57</text><text font-size=\"6\" x=\"458\" y=\"54\">ϕ =3.14</text><polyline fill=\"none\" points=\"400,90 490,90\" stroke=\"black\" stroke-width=\"2\" /><circle cx=\"446\" cy=\"81\" fill=\"white\" r=\"9\" stroke=\"black\" stroke-width=\"1.2\" /><text font-size=\"5\" x=\"440\" y=\"78\">N =5</text><text font-size=\"6\" x=\"458\" y=\"78\">θ =1.57</text><text font-size=\"6\" x=\"458\" y=\"84\">ϕ =3.14</text><polyline fill=\"none\" points=\"490,30 510,30 540,60 580,60\" stroke=\"black\" stroke-width=\"2\" /><polyline fill=\"none\" points=\"490,60 510,60 540,30 580,30\" stroke=\"black\" stroke-width=\"2\" /><text font-size=\"9\" x=\"520\" y=\"25\">BS</text><text font-size=\"7\" x=\"535\" y=\"44\">θ =0.785</text><text font-size=\"7\" x=\"535\" y=\"50\">ϕ =0.0</text><polyline fill=\"none\" points=\"490,90 510,90 540,120 580,120\" stroke=\"black\" stroke-width=\"2\" /><polyline fill=\"none\" points=\"490,120 510,120 540,90 580,90\" stroke=\"black\" stroke-width=\"2\" /><text font-size=\"9\" x=\"520\" y=\"85\">BS</text><text font-size=\"7\" x=\"535\" y=\"104\">θ =0.785</text><text font-size=\"7\" x=\"535\" y=\"110\">ϕ =0.0</text><polyline fill=\"none\" points=\"580,30 670,30\" stroke=\"black\" stroke-width=\"2\" /><rect fill=\"black\" height=\"14\" rx=\"0\" ry=\"0\" stroke=\"black\" stroke-width=\"1.5\" width=\"14\" x=\"622.5\" y=\"25\" /><text font-size=\"9\" x=\"625\" y=\"20\">M</text><path d=\"M 623.5 35.0 A 6 6 0 0 1 635.5 35.0\" fill=\"none\" stroke=\"white\" stroke-width=\"1.5\" /><path d=\"M 629.5 35.0 L 629.5 26.0\" fill=\"none\" stroke=\"white\" stroke-width=\"1.5\" transform=\"rotate(45 629.5 32.0)\" /><text font-size=\"7\" x=\"635\" y=\"20\">ϕ =0.0</text><polyline fill=\"none\" points=\"580,60 670,60\" stroke=\"black\" stroke-width=\"2\" /><rect fill=\"black\" height=\"14\" rx=\"0\" ry=\"0\" stroke=\"black\" stroke-width=\"1.5\" width=\"14\" x=\"622.5\" y=\"55\" /><text font-size=\"9\" x=\"625\" y=\"50\">M</text><path d=\"M 623.5 65.0 A 6 6 0 0 1 635.5 65.0\" fill=\"none\" stroke=\"white\" stroke-width=\"1.5\" /><path d=\"M 629.5 65.0 L 629.5 56.0\" fill=\"none\" stroke=\"white\" stroke-width=\"1.5\" transform=\"rotate(45 629.5 62.0)\" /><text font-size=\"7\" x=\"635\" y=\"50\">ϕ =0.0</text><polyline fill=\"none\" points=\"580,90 670,90\" stroke=\"black\" stroke-width=\"2\" /><rect fill=\"black\" height=\"14\" rx=\"0\" ry=\"0\" stroke=\"black\" stroke-width=\"1.5\" width=\"14\" x=\"622.5\" y=\"85\" /><text font-size=\"9\" x=\"625\" y=\"80\">M</text><path d=\"M 623.5 95.0 A 6 6 0 0 1 635.5 95.0\" fill=\"none\" stroke=\"white\" stroke-width=\"1.5\" /><path d=\"M 629.5 95.0 L 629.5 86.0\" fill=\"none\" stroke=\"white\" stroke-width=\"1.5\" transform=\"rotate(45 629.5 92.0)\" /><text font-size=\"7\" x=\"635\" y=\"80\">ϕ =0.0</text><polyline fill=\"none\" points=\"580,120 670,120\" stroke=\"black\" stroke-width=\"2\" /><rect fill=\"black\" height=\"14\" rx=\"0\" ry=\"0\" stroke=\"black\" stroke-width=\"1.5\" width=\"14\" x=\"622.5\" y=\"115\" /><text font-size=\"9\" x=\"625\" y=\"110\">M</text><path d=\"M 623.5 125.0 A 6 6 0 0 1 635.5 125.0\" fill=\"none\" stroke=\"white\" stroke-width=\"1.5\" /><path d=\"M 629.5 125.0 L 629.5 116.0\" fill=\"none\" stroke=\"white\" stroke-width=\"1.5\" transform=\"rotate(45 629.5 122.0)\" /><text font-size=\"7\" x=\"635\" y=\"110\">ϕ =0.0</text><polyline fill=\"none\" points=\"130,60 220,60\" stroke=\"black\" stroke-width=\"2\" /><polyline fill=\"none\" points=\"130,120 220,120\" stroke=\"black\" stroke-width=\"2\" /><polyline fill=\"none\" points=\"310,30 400,30\" stroke=\"black\" stroke-width=\"2\" /><polyline fill=\"none\" points=\"310,120 400,120\" stroke=\"black\" stroke-width=\"2\" /><polyline fill=\"none\" points=\"400,30 490,30\" stroke=\"black\" stroke-width=\"2\" /><polyline fill=\"none\" points=\"400,120 490,120\" stroke=\"black\" stroke-width=\"2\" /><text font-size=\"12\" x=\"25\" y=\"30\">0</text><text font-size=\"12\" x=\"25\" y=\"60\">1</text><text font-size=\"12\" x=\"25\" y=\"90\">2</text><text font-size=\"12\" x=\"25\" y=\"120\">3</text></svg>"
      ],
      "text/plain": [
       "<svgwrite.drawing.Drawing at 0x1a7ff79d030>"
      ]
     },
     "execution_count": 19,
     "metadata": {},
     "output_type": "execute_result"
    }
   ],
   "source": [
    "r = 8\n",
    "nmode = 4\n",
    "cir = dq.QumodeCircuitTDM(nmode=nmode, init_state='vac', cutoff=3)\n",
    "cir.s(0, r=r)\n",
    "cir.s(1, r=r)\n",
    "cir.s(2, r=r)\n",
    "cir.s(3, r=r)\n",
    "cir.r(0, np.pi/2)\n",
    "cir.r(2, np.pi/2)\n",
    "cir.bs([0,1], [np.pi/4, 0])\n",
    "cir.bs([2,3], [np.pi/4, 0])\n",
    "cir.bs([1,2], [np.pi/4, 0])\n",
    "cir.delay(1, ntau=1, inputs=[np.pi/2, np.pi])\n",
    "cir.delay(2, ntau=5, inputs=[np.pi/2, np.pi])\n",
    "cir.bs([0,1], [np.pi/4, 0])\n",
    "cir.bs([2,3], [np.pi/4, 0])\n",
    "cir.homodyne_x(0, eps=1e-6)\n",
    "cir.homodyne_x(1, eps=1e-6)\n",
    "cir.homodyne_x(2, eps=1e-6)\n",
    "cir.homodyne_x(3, eps=1e-6)\n",
    "cir.to(torch.double)\n",
    "cir()\n",
    "cir.draw()"
   ]
  },
  {
   "cell_type": "code",
   "execution_count": null,
   "id": "2f389bc7",
   "metadata": {
    "ExecuteTime": {
     "end_time": "2024-09-30T05:25:58.543438Z",
     "start_time": "2024-09-30T05:25:57.566441Z"
    }
   },
   "outputs": [],
   "source": [
    "cir(nstep=100)"
   ]
  },
  {
   "cell_type": "markdown",
   "id": "21fd0c9d",
   "metadata": {},
   "source": [
    "查看等效的展开后的线路"
   ]
  },
  {
   "cell_type": "code",
   "execution_count": 21,
   "id": "3b4c8a66",
   "metadata": {
    "ExecuteTime": {
     "end_time": "2024-09-30T05:32:02.955913Z",
     "start_time": "2024-09-30T05:32:02.942912Z"
    }
   },
   "outputs": [
    {
     "data": {
      "image/svg+xml": [
       "<svg baseProfile=\"full\" height=\"9.545454545454547cm\" version=\"1.1\" width=\"20.1cm\" xmlns=\"http://www.w3.org/2000/svg\" xmlns:ev=\"http://www.w3.org/2001/xml-events\" xmlns:xlink=\"http://www.w3.org/1999/xlink\"><defs /><polyline fill=\"none\" points=\"40,30 130,30\" stroke=\"black\" stroke-width=\"2\" /><rect fill=\"royalblue\" height=\"12\" rx=\"0\" ry=\"0\" stroke=\"black\" stroke-width=\"1.5\" width=\"10\" x=\"82.5\" y=\"25\" /><text font-size=\"9\" x=\"83\" y=\"20\">S</text><text font-size=\"7\" x=\"95\" y=\"18\">r =8.0</text><text font-size=\"7\" x=\"95\" y=\"24\">θ =0.0</text><polyline fill=\"none\" points=\"40,90 130,90\" stroke=\"black\" stroke-width=\"2\" /><rect fill=\"royalblue\" height=\"12\" rx=\"0\" ry=\"0\" stroke=\"black\" stroke-width=\"1.5\" width=\"10\" x=\"82.5\" y=\"85\" /><text font-size=\"9\" x=\"83\" y=\"80\">S</text><text font-size=\"7\" x=\"95\" y=\"78\">r =8.0</text><text font-size=\"7\" x=\"95\" y=\"84\">θ =0.0</text><polyline fill=\"none\" points=\"40,270 130,270\" stroke=\"black\" stroke-width=\"2\" /><rect fill=\"royalblue\" height=\"12\" rx=\"0\" ry=\"0\" stroke=\"black\" stroke-width=\"1.5\" width=\"10\" x=\"82.5\" y=\"265\" /><text font-size=\"9\" x=\"83\" y=\"260\">S</text><text font-size=\"7\" x=\"95\" y=\"258\">r =8.0</text><text font-size=\"7\" x=\"95\" y=\"264\">θ =0.0</text><polyline fill=\"none\" points=\"40,300 130,300\" stroke=\"black\" stroke-width=\"2\" /><rect fill=\"royalblue\" height=\"12\" rx=\"0\" ry=\"0\" stroke=\"black\" stroke-width=\"1.5\" width=\"10\" x=\"82.5\" y=\"295\" /><text font-size=\"9\" x=\"83\" y=\"290\">S</text><text font-size=\"7\" x=\"95\" y=\"288\">r =8.0</text><text font-size=\"7\" x=\"95\" y=\"294\">θ =0.0</text><polyline fill=\"none\" points=\"130,30 220,30\" stroke=\"black\" stroke-width=\"2\" /><rect fill=\"teal\" height=\"12\" rx=\"0\" ry=\"0\" stroke=\"black\" stroke-width=\"1.5\" width=\"6\" x=\"172.5\" y=\"25\" /><text font-size=\"9\" x=\"170\" y=\"20\">PS</text><text font-size=\"7\" x=\"185\" y=\"20\">θ =1.571</text><polyline fill=\"none\" points=\"130,270 220,270\" stroke=\"black\" stroke-width=\"2\" /><rect fill=\"teal\" height=\"12\" rx=\"0\" ry=\"0\" stroke=\"black\" stroke-width=\"1.5\" width=\"6\" x=\"172.5\" y=\"265\" /><text font-size=\"9\" x=\"170\" y=\"260\">PS</text><text font-size=\"7\" x=\"185\" y=\"260\">θ =1.571</text><polyline fill=\"none\" points=\"220,30 240,30 270,90 310,90\" stroke=\"black\" stroke-width=\"2\" /><polyline fill=\"none\" points=\"220,90 240,90 270,30 310,30\" stroke=\"black\" stroke-width=\"2\" /><text font-size=\"9\" x=\"250\" y=\"25\">BS</text><text font-size=\"7\" x=\"265\" y=\"44\">θ =0.785</text><text font-size=\"7\" x=\"265\" y=\"50\">ϕ =0.0</text><polyline fill=\"none\" points=\"220,270 240,270 270,300 310,300\" stroke=\"black\" stroke-width=\"2\" /><polyline fill=\"none\" points=\"220,300 240,300 270,270 310,270\" stroke=\"black\" stroke-width=\"2\" /><text font-size=\"9\" x=\"250\" y=\"265\">BS</text><text font-size=\"7\" x=\"265\" y=\"284\">θ =0.785</text><text font-size=\"7\" x=\"265\" y=\"290\">ϕ =0.0</text><polyline fill=\"none\" points=\"310,90 330,90 360,270 400,270\" stroke=\"black\" stroke-width=\"2\" /><polyline fill=\"none\" points=\"310,270 330,270 360,90 400,90\" stroke=\"black\" stroke-width=\"2\" /><text font-size=\"9\" x=\"340\" y=\"85\">BS</text><text font-size=\"7\" x=\"355\" y=\"104\">θ =0.785</text><text font-size=\"7\" x=\"355\" y=\"110\">ϕ =0.0</text><polyline fill=\"none\" points=\"400,60 420,60 450,90 490,90\" stroke=\"black\" stroke-width=\"2\" /><polyline fill=\"none\" points=\"400,90 420,90 450,60 490,60\" stroke=\"black\" stroke-width=\"2\" /><text font-size=\"9\" x=\"430\" y=\"55\">BS</text><text font-size=\"7\" x=\"445\" y=\"74\">θ =1.571</text><text font-size=\"7\" x=\"445\" y=\"80\">ϕ =1.571</text><polyline fill=\"none\" points=\"490,60 580,60\" stroke=\"black\" stroke-width=\"2\" /><rect fill=\"teal\" height=\"12\" rx=\"0\" ry=\"0\" stroke=\"black\" stroke-width=\"1.5\" width=\"6\" x=\"532.5\" y=\"55\" /><text font-size=\"9\" x=\"530\" y=\"50\">PS</text><text font-size=\"7\" x=\"545\" y=\"50\">θ =3.142</text><polyline fill=\"none\" points=\"400,120 420,120 450,270 490,270\" stroke=\"black\" stroke-width=\"2\" /><polyline fill=\"none\" points=\"400,270 420,270 450,120 490,120\" stroke=\"black\" stroke-width=\"2\" /><text font-size=\"9\" x=\"430\" y=\"115\">BS</text><text font-size=\"7\" x=\"445\" y=\"134\">θ =1.571</text><text font-size=\"7\" x=\"445\" y=\"140\">ϕ =1.571</text><polyline fill=\"none\" points=\"490,120 580,120\" stroke=\"black\" stroke-width=\"2\" /><rect fill=\"teal\" height=\"12\" rx=\"0\" ry=\"0\" stroke=\"black\" stroke-width=\"1.5\" width=\"6\" x=\"532.5\" y=\"115\" /><text font-size=\"9\" x=\"530\" y=\"110\">PS</text><text font-size=\"7\" x=\"545\" y=\"110\">θ =3.142</text><polyline fill=\"none\" points=\"490,30 510,30 540,90 580,90\" stroke=\"black\" stroke-width=\"2\" /><polyline fill=\"none\" points=\"490,90 510,90 540,30 580,30\" stroke=\"black\" stroke-width=\"2\" /><text font-size=\"9\" x=\"520\" y=\"25\">BS</text><text font-size=\"7\" x=\"535\" y=\"44\">θ =0.785</text><text font-size=\"7\" x=\"535\" y=\"50\">ϕ =0.0</text><polyline fill=\"none\" points=\"490,270 510,270 540,300 580,300\" stroke=\"black\" stroke-width=\"2\" /><polyline fill=\"none\" points=\"490,300 510,300 540,270 580,270\" stroke=\"black\" stroke-width=\"2\" /><text font-size=\"9\" x=\"520\" y=\"265\">BS</text><text font-size=\"7\" x=\"535\" y=\"284\">θ =0.785</text><text font-size=\"7\" x=\"535\" y=\"290\">ϕ =0.0</text><polyline fill=\"none\" points=\"580,30 670,30\" stroke=\"black\" stroke-width=\"2\" /><rect fill=\"black\" height=\"14\" rx=\"0\" ry=\"0\" stroke=\"black\" stroke-width=\"1.5\" width=\"14\" x=\"622.5\" y=\"25\" /><text font-size=\"9\" x=\"625\" y=\"20\">M</text><path d=\"M 623.5 35.0 A 6 6 0 0 1 635.5 35.0\" fill=\"none\" stroke=\"white\" stroke-width=\"1.5\" /><path d=\"M 629.5 35.0 L 629.5 26.0\" fill=\"none\" stroke=\"white\" stroke-width=\"1.5\" transform=\"rotate(45 629.5 32.0)\" /><text font-size=\"7\" x=\"635\" y=\"20\">ϕ =0.0</text><polyline fill=\"none\" points=\"580,90 670,90\" stroke=\"black\" stroke-width=\"2\" /><rect fill=\"black\" height=\"14\" rx=\"0\" ry=\"0\" stroke=\"black\" stroke-width=\"1.5\" width=\"14\" x=\"622.5\" y=\"85\" /><text font-size=\"9\" x=\"625\" y=\"80\">M</text><path d=\"M 623.5 95.0 A 6 6 0 0 1 635.5 95.0\" fill=\"none\" stroke=\"white\" stroke-width=\"1.5\" /><path d=\"M 629.5 95.0 L 629.5 86.0\" fill=\"none\" stroke=\"white\" stroke-width=\"1.5\" transform=\"rotate(45 629.5 92.0)\" /><text font-size=\"7\" x=\"635\" y=\"80\">ϕ =0.0</text><polyline fill=\"none\" points=\"580,270 670,270\" stroke=\"black\" stroke-width=\"2\" /><rect fill=\"black\" height=\"14\" rx=\"0\" ry=\"0\" stroke=\"black\" stroke-width=\"1.5\" width=\"14\" x=\"622.5\" y=\"265\" /><text font-size=\"9\" x=\"625\" y=\"260\">M</text><path d=\"M 623.5 275.0 A 6 6 0 0 1 635.5 275.0\" fill=\"none\" stroke=\"white\" stroke-width=\"1.5\" /><path d=\"M 629.5 275.0 L 629.5 266.0\" fill=\"none\" stroke=\"white\" stroke-width=\"1.5\" transform=\"rotate(45 629.5 272.0)\" /><text font-size=\"7\" x=\"635\" y=\"260\">ϕ =0.0</text><polyline fill=\"none\" points=\"580,300 670,300\" stroke=\"black\" stroke-width=\"2\" /><rect fill=\"black\" height=\"14\" rx=\"0\" ry=\"0\" stroke=\"black\" stroke-width=\"1.5\" width=\"14\" x=\"622.5\" y=\"295\" /><text font-size=\"9\" x=\"625\" y=\"290\">M</text><path d=\"M 623.5 305.0 A 6 6 0 0 1 635.5 305.0\" fill=\"none\" stroke=\"white\" stroke-width=\"1.5\" /><path d=\"M 629.5 305.0 L 629.5 296.0\" fill=\"none\" stroke=\"white\" stroke-width=\"1.5\" transform=\"rotate(45 629.5 302.0)\" /><text font-size=\"7\" x=\"635\" y=\"290\">ϕ =0.0</text><polyline fill=\"none\" points=\"40,60 130,60\" stroke=\"black\" stroke-width=\"2\" /><polyline fill=\"none\" points=\"40,120 130,120\" stroke=\"black\" stroke-width=\"2\" /><polyline fill=\"none\" points=\"40,150 130,150\" stroke=\"black\" stroke-width=\"2\" /><polyline fill=\"none\" points=\"40,180 130,180\" stroke=\"black\" stroke-width=\"2\" /><polyline fill=\"none\" points=\"40,210 130,210\" stroke=\"black\" stroke-width=\"2\" /><polyline fill=\"none\" points=\"40,240 130,240\" stroke=\"black\" stroke-width=\"2\" /><polyline fill=\"none\" points=\"130,60 220,60\" stroke=\"black\" stroke-width=\"2\" /><polyline fill=\"none\" points=\"130,90 220,90\" stroke=\"black\" stroke-width=\"2\" /><polyline fill=\"none\" points=\"130,120 220,120\" stroke=\"black\" stroke-width=\"2\" /><polyline fill=\"none\" points=\"130,150 220,150\" stroke=\"black\" stroke-width=\"2\" /><polyline fill=\"none\" points=\"130,180 220,180\" stroke=\"black\" stroke-width=\"2\" /><polyline fill=\"none\" points=\"130,210 220,210\" stroke=\"black\" stroke-width=\"2\" /><polyline fill=\"none\" points=\"130,240 220,240\" stroke=\"black\" stroke-width=\"2\" /><polyline fill=\"none\" points=\"130,300 220,300\" stroke=\"black\" stroke-width=\"2\" /><polyline fill=\"none\" points=\"220,60 310,60\" stroke=\"black\" stroke-width=\"2\" /><polyline fill=\"none\" points=\"220,120 310,120\" stroke=\"black\" stroke-width=\"2\" /><polyline fill=\"none\" points=\"220,150 310,150\" stroke=\"black\" stroke-width=\"2\" /><polyline fill=\"none\" points=\"220,180 310,180\" stroke=\"black\" stroke-width=\"2\" /><polyline fill=\"none\" points=\"220,210 310,210\" stroke=\"black\" stroke-width=\"2\" /><polyline fill=\"none\" points=\"220,240 310,240\" stroke=\"black\" stroke-width=\"2\" /><polyline fill=\"none\" points=\"310,30 400,30\" stroke=\"black\" stroke-width=\"2\" /><polyline fill=\"none\" points=\"310,60 400,60\" stroke=\"black\" stroke-width=\"2\" /><polyline fill=\"none\" points=\"310,120 400,120\" stroke=\"black\" stroke-width=\"2\" /><polyline fill=\"none\" points=\"310,150 400,150\" stroke=\"black\" stroke-width=\"2\" /><polyline fill=\"none\" points=\"310,180 400,180\" stroke=\"black\" stroke-width=\"2\" /><polyline fill=\"none\" points=\"310,210 400,210\" stroke=\"black\" stroke-width=\"2\" /><polyline fill=\"none\" points=\"310,240 400,240\" stroke=\"black\" stroke-width=\"2\" /><polyline fill=\"none\" points=\"310,300 400,300\" stroke=\"black\" stroke-width=\"2\" /><polyline fill=\"none\" points=\"400,30 490,30\" stroke=\"black\" stroke-width=\"2\" /><polyline fill=\"none\" points=\"400,150 490,150\" stroke=\"black\" stroke-width=\"2\" /><polyline fill=\"none\" points=\"400,180 490,180\" stroke=\"black\" stroke-width=\"2\" /><polyline fill=\"none\" points=\"400,210 490,210\" stroke=\"black\" stroke-width=\"2\" /><polyline fill=\"none\" points=\"400,240 490,240\" stroke=\"black\" stroke-width=\"2\" /><polyline fill=\"none\" points=\"400,300 490,300\" stroke=\"black\" stroke-width=\"2\" /><polyline fill=\"none\" points=\"490,150 580,150\" stroke=\"black\" stroke-width=\"2\" /><polyline fill=\"none\" points=\"490,180 580,180\" stroke=\"black\" stroke-width=\"2\" /><polyline fill=\"none\" points=\"490,210 580,210\" stroke=\"black\" stroke-width=\"2\" /><polyline fill=\"none\" points=\"490,240 580,240\" stroke=\"black\" stroke-width=\"2\" /><polyline fill=\"none\" points=\"580,60 670,60\" stroke=\"black\" stroke-width=\"2\" /><polyline fill=\"none\" points=\"580,120 670,120\" stroke=\"black\" stroke-width=\"2\" /><polyline fill=\"none\" points=\"580,150 670,150\" stroke=\"black\" stroke-width=\"2\" /><polyline fill=\"none\" points=\"580,180 670,180\" stroke=\"black\" stroke-width=\"2\" /><polyline fill=\"none\" points=\"580,210 670,210\" stroke=\"black\" stroke-width=\"2\" /><polyline fill=\"none\" points=\"580,240 670,240\" stroke=\"black\" stroke-width=\"2\" /><text font-size=\"12\" x=\"25\" y=\"30\">0</text><text font-size=\"12\" x=\"25\" y=\"60\">1</text><text font-size=\"12\" x=\"25\" y=\"90\">2</text><text font-size=\"12\" x=\"25\" y=\"120\">3</text><text font-size=\"12\" x=\"25\" y=\"150\">4</text><text font-size=\"12\" x=\"25\" y=\"180\">5</text><text font-size=\"12\" x=\"25\" y=\"210\">6</text><text font-size=\"12\" x=\"25\" y=\"240\">7</text><text font-size=\"12\" x=\"25\" y=\"270\">8</text><text font-size=\"12\" x=\"25\" y=\"300\">9</text></svg>"
      ],
      "text/plain": [
       "<svgwrite.drawing.Drawing at 0x1a7ff79e260>"
      ]
     },
     "execution_count": 21,
     "metadata": {},
     "output_type": "execute_result"
    }
   ],
   "source": [
    "cir.draw(unroll=True)"
   ]
  },
  {
   "cell_type": "markdown",
   "id": "e35bb221",
   "metadata": {},
   "source": [
    "现在运行线路100次，对采样结果做统计分析来验证\n",
    "$$\n",
    "x_k^A + x_k^B - \\frac{1}{\\sqrt{2}}(-x^A_{k+1} + x^B_{k+1} + x^C_{k+N} + x^D_{k+N}) = 0\n",
    "$$"
   ]
  },
  {
   "cell_type": "code",
   "execution_count": null,
   "id": "abf1e24f",
   "metadata": {
    "ExecuteTime": {
     "end_time": "2024-09-30T05:22:09.153244Z",
     "start_time": "2024-09-30T05:22:08.100120Z"
    },
    "scrolled": true
   },
   "outputs": [
    {
     "name": "stdout",
     "output_type": "stream",
     "text": [
      "variance: tensor(5.4542e-07, dtype=torch.float64)\n",
      "mean: tensor(-3.7434e-05, dtype=torch.float64)\n"
     ]
    }
   ],
   "source": [
    "cir(nstep=100)\n",
    "samples = cir.samples\n",
    "samples = samples.mT\n",
    "err = [ ]\n",
    "for i in range(90):\n",
    "    temp = samples[i][:2].sum()- 1/np.sqrt(2)*(-samples[i+1][0]+samples[i+1][1]+samples[i+5][2:].sum())\n",
    "    err.append(temp)\n",
    "err = torch.tensor(err)\n",
    "print('variance:', err.std()**2)\n",
    "print('mean:', err.mean())"
   ]
  },
  {
   "cell_type": "markdown",
   "id": "a731583e",
   "metadata": {},
   "source": [
    "# 附录"
   ]
  },
  {
   "cell_type": "markdown",
   "id": "7125aff8",
   "metadata": {
    "ExecuteTime": {
     "end_time": "2024-09-06T02:58:08.438380Z",
     "start_time": "2024-09-06T02:58:08.424429Z"
    }
   },
   "source": [
    "[1] Yokoyama S, Ukai R, Armstrong S C, et al. Ultra-large-scale continuous-variable cluster states multiplexed in the time domain[J]. Nature Photonics, 2013, 7(12): 982-986.\n",
    "\n",
    "[2] Asavanant W. Time-Domain Multiplexed 2-Dimensional Cluster State: Universal Quantum Computing Platform[J]. arxiv. org, Cornell University Library, 201."
   ]
  }
 ],
 "metadata": {
  "kernelspec": {
   "display_name": "dq_v3",
   "language": "python",
   "name": "dq_v3"
  },
  "language_info": {
   "codemirror_mode": {
    "name": "ipython",
    "version": 3
   },
   "file_extension": ".py",
   "mimetype": "text/x-python",
   "name": "python",
   "nbconvert_exporter": "python",
   "pygments_lexer": "ipython3",
   "version": "3.10.14"
  },
  "toc": {
   "base_numbering": 1,
   "nav_menu": {},
   "number_sections": true,
   "sideBar": true,
   "skip_h1_title": false,
   "title_cell": "Table of Contents",
   "title_sidebar": "Contents",
   "toc_cell": false,
   "toc_position": {
    "height": "calc(100% - 180px)",
    "left": "10px",
    "top": "150px",
    "width": "165px"
   },
   "toc_section_display": true,
   "toc_window_display": true
  },
  "varInspector": {
   "cols": {
    "lenName": 16,
    "lenType": 16,
    "lenVar": 40
   },
   "kernels_config": {
    "python": {
     "delete_cmd_postfix": "",
     "delete_cmd_prefix": "del ",
     "library": "var_list.py",
     "varRefreshCmd": "print(var_dic_list())"
    },
    "r": {
     "delete_cmd_postfix": ") ",
     "delete_cmd_prefix": "rm(",
     "library": "var_list.r",
     "varRefreshCmd": "cat(var_dic_list()) "
    }
   },
   "types_to_exclude": [
    "module",
    "function",
    "builtin_function_or_method",
    "instance",
    "_Feature"
   ],
   "window_display": false
  }
 },
 "nbformat": 4,
 "nbformat_minor": 5
}
