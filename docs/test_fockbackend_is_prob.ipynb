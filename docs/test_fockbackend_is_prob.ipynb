{
 "cells": [
  {
   "cell_type": "code",
   "execution_count": 1,
   "metadata": {},
   "outputs": [
    {
     "name": "stdout",
     "output_type": "stream",
     "text": [
      "version 3.1.1\n"
     ]
    }
   ],
   "source": [
    "import deepquantum as dq\n",
    "import numpy as np\n",
    "import torch\n",
    "print('version',dq.__version__)"
   ]
  },
  {
   "cell_type": "markdown",
   "metadata": {},
   "source": [
    "构建线路"
   ]
  },
  {
   "cell_type": "code",
   "execution_count": 2,
   "metadata": {},
   "outputs": [
    {
     "data": {
      "image/svg+xml": [
       "<svg baseProfile=\"full\" height=\"1.8181818181818181cm\" version=\"1.1\" width=\"3.9cm\" xmlns=\"http://www.w3.org/2000/svg\" xmlns:ev=\"http://www.w3.org/2001/xml-events\" xmlns:xlink=\"http://www.w3.org/1999/xlink\"><defs /><polyline fill=\"none\" points=\"40,30 70,30 100,60 130,60\" stroke=\"black\" stroke-width=\"2\" /><polyline fill=\"none\" points=\"40,60 70,60 100,30 130,30\" stroke=\"black\" stroke-width=\"2\" /><text font-size=\"9\" x=\"80\" y=\"25\">BS</text><text font-size=\"7\" x=\"95\" y=\"44\">θ =0.785</text><text font-size=\"7\" x=\"95\" y=\"50\">ϕ =1.571</text><text font-size=\"12\" x=\"25\" y=\"30\">0</text><text font-size=\"12\" x=\"25\" y=\"60\">1</text></svg>"
      ],
      "text/plain": [
       "<svgwrite.drawing.Drawing at 0x2376b4b4820>"
      ]
     },
     "execution_count": 2,
     "metadata": {},
     "output_type": "execute_result"
    }
   ],
   "source": [
    "ini_state1 = [1,1]\n",
    "test_circ1 = dq.QumodeCircuit(nmode=2, init_state=ini_state1, name=\"test1\", cutoff=3, basis=True)\n",
    "test_circ1.bs_theta([0, 1],np.pi/4, encode=True)\n",
    "test_circ1.draw()"
   ]
  },
  {
   "cell_type": "markdown",
   "metadata": {},
   "source": [
    "构建参数，支持batch输入"
   ]
  },
  {
   "cell_type": "code",
   "execution_count": 3,
   "metadata": {},
   "outputs": [
    {
     "name": "stdout",
     "output_type": "stream",
     "text": [
      "tensor([[0.7854],\n",
      "        [1.7854]])\n"
     ]
    }
   ],
   "source": [
    "nparas = 1\n",
    "batch = 2\n",
    "data = (torch.tensor([np.pi/4]*batch*nparas).reshape(batch, nparas))\n",
    "data[1] +=1\n",
    "print(data)"
   ]
  },
  {
   "cell_type": "markdown",
   "metadata": {},
   "source": [
    "前向函数，is_prob = None/False/True"
   ]
  },
  {
   "cell_type": "code",
   "execution_count": 4,
   "metadata": {},
   "outputs": [
    {
     "name": "stdout",
     "output_type": "stream",
     "text": [
      "tensor([[[ 7.0711e-01+0.0000j,  3.0909e-08+0.7071j],\n",
      "         [-3.0909e-08+0.7071j,  7.0711e-01+0.0000j]],\n",
      "\n",
      "        [[-2.1296e-01+0.0000j,  4.2709e-08+0.9771j],\n",
      "         [-4.2709e-08+0.9771j, -2.1296e-01+0.0000j]]])\n",
      "{|02>: tensor([[-3.0909e-08+0.7071j],\n",
      "        [ 1.2863e-08-0.2943j]]), |20>: tensor([[ 3.0909e-08+0.7071j],\n",
      "        [-1.2863e-08-0.2943j]]), |11>: tensor([[ 0.0000+0.j],\n",
      "        [-0.9093+0.j]])}\n",
      "{|02>: tensor([[0.5000],\n",
      "        [0.0866]]), |20>: tensor([[0.5000],\n",
      "        [0.0866]]), |11>: tensor([[0.0000],\n",
      "        [0.8268]])}\n"
     ]
    }
   ],
   "source": [
    "re1 = test_circ1(data =data, is_prob = None)\n",
    "print(re1)\n",
    "\n",
    "re2 = test_circ1(data =data, is_prob = False)\n",
    "print(re2)\n",
    "\n",
    "re3 = test_circ1(data =data, is_prob = True)\n",
    "print(re3)\n",
    "\n"
   ]
  },
  {
   "cell_type": "code",
   "execution_count": 5,
   "metadata": {},
   "outputs": [
    {
     "data": {
      "text/plain": [
       "[{|20>: 489, |02>: 535}, {|20>: 95, |11>: 847, |02>: 82}]"
      ]
     },
     "execution_count": 5,
     "metadata": {},
     "output_type": "execute_result"
    }
   ],
   "source": [
    "re1 = test_circ1(data = data, is_prob = None)\n",
    "test_circ1.measure()\n",
    "\n",
    "\n"
   ]
  },
  {
   "cell_type": "code",
   "execution_count": 6,
   "metadata": {},
   "outputs": [
    {
     "data": {
      "text/plain": [
       "[{|02>: (517, tensor([0.5000])), |20>: (507, tensor([0.5000]))},\n",
       " {|11>: (831, tensor([0.8268])),\n",
       "  |02>: (89, tensor([0.0866])),\n",
       "  |20>: (104, tensor([0.0866]))}]"
      ]
     },
     "execution_count": 6,
     "metadata": {},
     "output_type": "execute_result"
    }
   ],
   "source": [
    "test_circ1.measure(with_prob = True)"
   ]
  },
  {
   "cell_type": "code",
   "execution_count": 7,
   "metadata": {},
   "outputs": [
    {
     "name": "stderr",
     "output_type": "stream",
     "text": [
      "chain 1: 100%|\u001b[32m█████████████████████████████\u001b[0m| 399/399 [00:00<00:00, 13968.29it/s]\u001b[0m\n",
      "chain 2: 100%|\u001b[32m██████████████████████████████\u001b[0m| 399/399 [00:00<00:00, 8455.28it/s]\u001b[0m\n",
      "chain 3: 100%|\u001b[32m█████████████████████████████\u001b[0m| 399/399 [00:00<00:00, 10588.13it/s]\u001b[0m\n",
      "chain 4: 100%|\u001b[32m█████████████████████████████\u001b[0m| 399/399 [00:00<00:00, 12163.06it/s]\u001b[0m\n",
      "chain 5: 100%|\u001b[32m██████████████████████████████\u001b[0m| 399/399 [00:00<00:00, 6002.97it/s]\u001b[0m\n",
      "chain 1: 100%|\u001b[32m█████████████████████████████\u001b[0m| 399/399 [00:00<00:00, 12726.54it/s]\u001b[0m\n",
      "chain 2: 100%|\u001b[32m██████████████████████████████\u001b[0m| 399/399 [00:00<00:00, 6382.66it/s]\u001b[0m\n",
      "chain 3: 100%|\u001b[32m█████████████████████████████\u001b[0m| 399/399 [00:00<00:00, 10241.28it/s]\u001b[0m\n",
      "chain 4: 100%|\u001b[32m█████████████████████████████\u001b[0m| 399/399 [00:00<00:00, 12761.87it/s]\u001b[0m\n",
      "chain 5: 100%|\u001b[32m█████████████████████████████\u001b[0m| 399/399 [00:00<00:00, 10143.39it/s]\u001b[0m\n"
     ]
    },
    {
     "data": {
      "text/plain": [
       "[{|20>: (1044, tensor([0.5000])),\n",
       "  |02>: (955, tensor([0.5000])),\n",
       "  |11>: (1, tensor([0.]))},\n",
       " {|20>: (164, tensor([0.0866])),\n",
       "  |02>: (160, tensor([0.0866])),\n",
       "  |11>: (1676, tensor([0.8268]))}]"
      ]
     },
     "execution_count": 7,
     "metadata": {},
     "output_type": "execute_result"
    }
   ],
   "source": [
    "test_circ1.measure(mcmc = True, with_prob= True, shots= 2000)"
   ]
  },
  {
   "cell_type": "code",
   "execution_count": 8,
   "metadata": {},
   "outputs": [
    {
     "data": {
      "text/plain": [
       "[{|20>: (518, tensor([0.5000])), |02>: (506, tensor([0.5000]))},\n",
       " {|11>: (830, tensor([0.8268])),\n",
       "  |02>: (92, tensor([0.0866])),\n",
       "  |20>: (102, tensor([0.0866]))}]"
      ]
     },
     "execution_count": 8,
     "metadata": {},
     "output_type": "execute_result"
    }
   ],
   "source": [
    "re2 = test_circ1(data =data, is_prob = False)\n",
    "test_circ1.measure(with_prob = True)"
   ]
  },
  {
   "cell_type": "code",
   "execution_count": 10,
   "metadata": {},
   "outputs": [
    {
     "data": {
      "text/plain": [
       "[{|02>: (497, tensor([0.5000])), |20>: (527, tensor([0.5000]))},\n",
       " {|11>: (869, tensor([0.8268])),\n",
       "  |20>: (66, tensor([0.0866])),\n",
       "  |02>: (89, tensor([0.0866]))}]"
      ]
     },
     "execution_count": 10,
     "metadata": {},
     "output_type": "execute_result"
    }
   ],
   "source": [
    "re3 = test_circ1(data =data, is_prob = True)\n",
    "test_circ1.measure(with_prob = True)"
   ]
  },
  {
   "cell_type": "markdown",
   "metadata": {},
   "source": [
    "## 支持叠加态输入"
   ]
  },
  {
   "cell_type": "code",
   "execution_count": 13,
   "metadata": {},
   "outputs": [
    {
     "data": {
      "image/svg+xml": [
       "<svg baseProfile=\"full\" height=\"5.454545454545454cm\" version=\"1.1\" width=\"3.9cm\" xmlns=\"http://www.w3.org/2000/svg\" xmlns:ev=\"http://www.w3.org/2001/xml-events\" xmlns:xlink=\"http://www.w3.org/1999/xlink\"><defs /><polyline fill=\"none\" points=\"40,30 60,30\" stroke=\"black\" stroke-width=\"2\" /><polyline fill=\"none\" points=\"110,30 130,30\" stroke=\"black\" stroke-width=\"2\" /><polyline fill=\"none\" points=\"40,60 60,60\" stroke=\"black\" stroke-width=\"2\" /><polyline fill=\"none\" points=\"110,60 130,60\" stroke=\"black\" stroke-width=\"2\" /><polyline fill=\"none\" points=\"40,90 60,90\" stroke=\"black\" stroke-width=\"2\" /><polyline fill=\"none\" points=\"110,90 130,90\" stroke=\"black\" stroke-width=\"2\" /><polyline fill=\"none\" points=\"40,120 60,120\" stroke=\"black\" stroke-width=\"2\" /><polyline fill=\"none\" points=\"110,120 130,120\" stroke=\"black\" stroke-width=\"2\" /><polyline fill=\"none\" points=\"40,150 60,150\" stroke=\"black\" stroke-width=\"2\" /><polyline fill=\"none\" points=\"110,150 130,150\" stroke=\"black\" stroke-width=\"2\" /><polyline fill=\"none\" points=\"40,180 60,180\" stroke=\"black\" stroke-width=\"2\" /><polyline fill=\"none\" points=\"110,180 130,180\" stroke=\"black\" stroke-width=\"2\" /><rect fill=\"cadetblue\" height=\"170\" rx=\"0\" ry=\"0\" stroke=\"black\" stroke-width=\"2\" width=\"50\" x=\"60\" y=\"20\" /><text font-size=\"10\" x=\"81\" y=\"105.0\">U</text><text font-size=\"12\" x=\"25\" y=\"30\">0</text><text font-size=\"12\" x=\"25\" y=\"60\">1</text><text font-size=\"12\" x=\"25\" y=\"90\">2</text><text font-size=\"12\" x=\"25\" y=\"120\">3</text><text font-size=\"12\" x=\"25\" y=\"150\">4</text><text font-size=\"12\" x=\"25\" y=\"180\">5</text></svg>"
      ],
      "text/plain": [
       "<svgwrite.drawing.Drawing at 0x2376bae2860>"
      ]
     },
     "execution_count": 13,
     "metadata": {},
     "output_type": "execute_result"
    }
   ],
   "source": [
    "unitary = np.array([[1, 0, 1, -1, 0, 0],\n",
    "                    [0, 1, 0 ,0, 0, np.sqrt(2)],\n",
    "                    [1, 0, 0, 1, 1, 0],\n",
    "                    [-1, 0, 1, 0, 1, 0],\n",
    "                    [0, 0, 1, 1, -1, 0],\n",
    "                    [0, np.sqrt(2), 0, 0, 0, -1]])/np.sqrt(3)\n",
    "test = torch.zeros([2, 3, 3, 3, 3, 3, 3])*1j\n",
    "ini_state1 = [(np.sqrt(3)/3, [0, 1, 1, 0, 0, 0]), (np.sqrt(3)/3*1j, [0, 1, 0, 1, 0, 0]), (np.sqrt(3)/3,[0,0,0,0,1,1])]\n",
    "ini_state2 = [(np.sqrt(2)/2, [0, 1, 1, 0, 0, 0]), (np.sqrt(2)/2*1j, [0, 1, 0, 1, 0, 0])]\n",
    "test[0] = dq.photonic.state.FockState(state=ini_state1, basis=False).state  # 转为张量\n",
    "test[1] = dq.photonic.state.FockState(state=ini_state2, basis=False).state\n",
    "nmode = 6\n",
    "dq_gate = dq.QumodeCircuit(nmode=nmode, init_state=test, name=\"test\", basis=False)\n",
    "dq_gate.any(unitary, list(range(nmode)))\n",
    "dq_gate.draw()"
   ]
  },
  {
   "cell_type": "code",
   "execution_count": 18,
   "metadata": {},
   "outputs": [
    {
     "name": "stdout",
     "output_type": "stream",
     "text": [
      "[{|001001>: (118, tensor(0.1111)), |100001>: (150, tensor(0.1481)), |000011>: (284, tensor(0.2899)), |010100>: (208, tensor(0.2159)), |011000>: (135, tensor(0.1111)), |010010>: (41, tensor(0.0434)), |110000>: (83, tensor(0.0741)), |000101>: (5, tensor(0.0064))}, {|010010>: (143, tensor(0.1111)), |000011>: (244, tensor(0.2222)), |000101>: (110, tensor(0.1111)), |001001>: (119, tensor(0.1111)), |110000>: (107, tensor(0.1111)), |100001>: (202, tensor(0.2222)), |010100>: (59, tensor(0.0556)), |011000>: (40, tensor(0.0556))}]\n",
      "tensor(1.0000)\n"
     ]
    }
   ],
   "source": [
    "c = dq_gate()\n",
    "\n",
    "a = dq_gate.measure(with_prob=True)\n",
    "print(a)\n",
    "\n",
    "b = sum(value[1] for value in a[1].values())\n",
    "print(b)"
   ]
  },
  {
   "cell_type": "code",
   "execution_count": 19,
   "metadata": {},
   "outputs": [
    {
     "name": "stdout",
     "output_type": "stream",
     "text": [
      "tensor(2.)\n",
      "[{|000011>: (295, tensor(0.2899)), |001001>: (107, tensor(0.1111)), |010100>: (217, tensor(0.2159)), |100001>: (160, tensor(0.1481)), |010010>: (58, tensor(0.0434)), |011000>: (118, tensor(0.1111)), |110000>: (60, tensor(0.0741)), |000101>: (9, tensor(0.0064))}, {|110000>: (101, tensor(0.1111)), |010100>: (54, tensor(0.0556)), |000011>: (215, tensor(0.2222)), |000101>: (113, tensor(0.1111)), |100001>: (234, tensor(0.2222)), |001001>: (126, tensor(0.1111)), |010010>: (124, tensor(0.1111)), |011000>: (57, tensor(0.0556))}]\n",
      "tensor(1.0000)\n"
     ]
    }
   ],
   "source": [
    "c = dq_gate(is_prob = True)\n",
    "print(torch.sum(c))\n",
    "\n",
    "a = dq_gate.measure(with_prob=True)\n",
    "print(a)\n",
    "\n",
    "b = sum(value[1] for value in a[1].values())\n",
    "print(b)"
   ]
  }
 ],
 "metadata": {
  "kernelspec": {
   "display_name": "dq_mcmc",
   "language": "python",
   "name": "python3"
  },
  "language_info": {
   "codemirror_mode": {
    "name": "ipython",
    "version": 3
   },
   "file_extension": ".py",
   "mimetype": "text/x-python",
   "name": "python",
   "nbconvert_exporter": "python",
   "pygments_lexer": "ipython3",
   "version": "3.10.14"
  }
 },
 "nbformat": 4,
 "nbformat_minor": 2
}
