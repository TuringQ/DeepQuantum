{
 "cells": [
  {
   "cell_type": "code",
   "execution_count": 3,
   "metadata": {
    "ExecuteTime": {
     "end_time": "2025-04-17T07:37:34.572889Z",
     "start_time": "2025-04-17T07:37:12.208227Z"
    }
   },
   "outputs": [
    {
     "name": "stdout",
     "output_type": "stream",
     "text": [
      "version 4.1.0\n"
     ]
    }
   ],
   "source": [
    "import deepquantum as dq\n",
    "import deepquantum.photonic as dqp\n",
    "import numpy as np\n",
    "import torch\n",
    "print('version',dq.__version__)"
   ]
  },
  {
   "cell_type": "markdown",
   "metadata": {},
   "source": [
    "# 基于Fock后端构建光量子线路"
   ]
  },
  {
   "cell_type": "markdown",
   "metadata": {},
   "source": [
    "## Fock态\n",
    "\n",
    "光量子线路Fock态（量子数态）可以表示为 $ \\left |n_1,n_2,...,n_m\\right \\rangle$，其中 $ n_k $ 表示第 $k$ 模的光子数。在DeepQuantum的Photonic模块中，Fock态用 ``FockState`` 表示。\n",
    "\n",
    "我们利用 ``FockState`` 准备一个3模的量子态，其中第一、三模光子数为1，第二模为0：\n"
   ]
  },
  {
   "cell_type": "code",
   "execution_count": 2,
   "metadata": {},
   "outputs": [
    {
     "name": "stdout",
     "output_type": "stream",
     "text": [
      "|101>\n"
     ]
    }
   ],
   "source": [
    "qstate = dq.FockState(state=[1,0,1])\n",
    "print(qstate)"
   ]
  },
  {
   "cell_type": "markdown",
   "metadata": {},
   "source": [
    "其数据为torch的tensor，存在属性 ``state`` 中："
   ]
  },
  {
   "cell_type": "code",
   "execution_count": 3,
   "metadata": {},
   "outputs": [
    {
     "name": "stdout",
     "output_type": "stream",
     "text": [
      "tensor([1, 0, 1])\n"
     ]
    }
   ],
   "source": [
    "print(qstate.state)"
   ]
  },
  {
   "cell_type": "markdown",
   "metadata": {},
   "source": [
    "输入态的类型也可以是 ``torch.tensor`` ，并支持 ``batch`` 输入："
   ]
  },
  {
   "cell_type": "code",
   "execution_count": 4,
   "metadata": {},
   "outputs": [
    {
     "name": "stdout",
     "output_type": "stream",
     "text": [
      "|101>\n",
      "tensor([[1, 1, 1],\n",
      "        [1, 0, 0],\n",
      "        [1, 1, 1],\n",
      "        [0, 1, 1]])\n",
      "state_0: |111>\n",
      "state_1: |100>\n",
      "state_2: |111>\n",
      "state_3: |011>\n",
      "\n"
     ]
    }
   ],
   "source": [
    "tc_state = torch.tensor([1,0,1])\n",
    "qstate = dq.FockState(state=tc_state)\n",
    "print(qstate)\n",
    "\n",
    "batch_state = torch.randint(0, 2, (4, 3))\n",
    "print(batch_state)\n",
    "qstate = dq.FockState(state=batch_state)\n",
    "print(qstate)"
   ]
  },
  {
   "cell_type": "markdown",
   "metadata": {},
   "source": [
    "``state`` 的输入也可以是真空态'vac'或全零态'zeros'，表示所有模式均无光子："
   ]
  },
  {
   "cell_type": "code",
   "execution_count": 5,
   "metadata": {},
   "outputs": [
    {
     "name": "stdout",
     "output_type": "stream",
     "text": [
      "|000>\n",
      "|000>\n"
     ]
    }
   ],
   "source": [
    "vacuum_state = dq.FockState(state='vac', nmode=3)\n",
    "print(vacuum_state)\n",
    "\n",
    "zeros_state = dq.FockState(state='zeros', nmode=3)\n",
    "print(zeros_state)"
   ]
  },
  {
   "cell_type": "markdown",
   "metadata": {},
   "source": [
    "其中，可选输入参数 ``nmode`` 表示模式数。当模式数小于 ``state`` 代表的模式数时， 会根据 ``nmode`` 截断；当模式数更大时，会自动补0："
   ]
  },
  {
   "cell_type": "code",
   "execution_count": 3,
   "metadata": {},
   "outputs": [
    {
     "name": "stdout",
     "output_type": "stream",
     "text": [
      "|101>\n",
      "|10100>\n"
     ]
    }
   ],
   "source": [
    "tc_state = torch.tensor([1, 0, 1, 0])\n",
    "qstate = dq.FockState(state=tc_state, nmode=3)\n",
    "print(qstate)\n",
    "\n",
    "qstate = dq.FockState(state=tc_state, nmode=5)\n",
    "print(qstate)"
   ]
  },
  {
   "cell_type": "markdown",
   "metadata": {},
   "source": [
    "最后一个可选参数 ``basis`` 默认为 ``True``，当输入为叠加态（如 $\\frac{\\sqrt{2}}{2}\\left |1,0,1,0\\right \\rangle + \\frac{\\sqrt2}{2}\\left |0,1,1,0\\right \\rangle $）时，需要设置为 ``False``。此时Fock态由带batch的张量积表示，cutoff为总光子数和+1："
   ]
  },
  {
   "cell_type": "code",
   "execution_count": 9,
   "metadata": {},
   "outputs": [
    {
     "name": "stdout",
     "output_type": "stream",
     "text": [
      "state_0: (0.707+0.000j)|0110> + (0.707+0.000j)|1010>\n",
      "\n",
      "torch.Size([1, 3, 3, 3, 3])\n"
     ]
    }
   ],
   "source": [
    "qstate = dq.FockState(state=[(np.sqrt(2)/2, [1, 0, 1, 0]), (np.sqrt(2)/2, [0, 1, 1, 0])], basis=False)\n",
    "print(qstate)\n",
    "\n",
    "#得到batch形式的Fock state tensor\n",
    "print(qstate.state.size())"
   ]
  },
  {
   "cell_type": "markdown",
   "metadata": {},
   "source": [
    "另外， ``FockState`` 支持根据字典序比较大小，从而实现对采样后的字典根据Fock态进行排序："
   ]
  },
  {
   "cell_type": "code",
   "execution_count": 10,
   "metadata": {},
   "outputs": [
    {
     "name": "stdout",
     "output_type": "stream",
     "text": [
      "True\n",
      "True\n",
      "采样结果（默认按样本数由高到低排序）： {|210>: 385, |300>: 266, |120>: 277, |030>: 34, |111>: 28, |201>: 24, |021>: 7, |102>: 3}\n",
      "采样结果（按样本态字典序排序）： {|300>: 266, |210>: 385, |201>: 24, |120>: 277, |111>: 28, |102>: 3, |030>: 34, |021>: 7}\n"
     ]
    }
   ],
   "source": [
    "state_a = dq.FockState(state = [0,0,1])\n",
    "state_a2 = dq.FockState(state = [0,0,1])\n",
    "state_b = dq.FockState(state = [0,0,2])\n",
    "\n",
    "print(state_a == state_a2)\n",
    "print(state_a < state_b)\n",
    "\n",
    "# 构建一个简单Qumode线路\n",
    "cir = dq.QumodeCircuit(nmode = 3, init_state = [1,2,0])\n",
    "cir.bs(wires=[0,1])\n",
    "cir.bs(wires=[1,2])\n",
    "#前向函数\n",
    "cir()\n",
    "# 采样测量\n",
    "result_dict = cir.measure()\n",
    "print('采样结果（默认按样本数由高到低排序）：', result_dict)\n",
    "\n",
    "# 对采样结果按Fock态排序\n",
    "sorted_dict = dict(sorted(result_dict.items(), key=lambda x: x[0], reverse=True))\n",
    "print('采样结果（按样本态字典序排序）：', sorted_dict)"
   ]
  },
  {
   "cell_type": "markdown",
   "metadata": {},
   "source": [
    "## 构建光量子线路"
   ]
  },
  {
   "cell_type": "markdown",
   "metadata": {},
   "source": [
    "### 初始化\n",
    "\n",
    "光量子线路对应着DeepQuantum photonic ``QumodeCircuit`` 类。仅需指定空间模式数 ``nmode``和初态 ``init_state``，即可完成初始化："
   ]
  },
  {
   "cell_type": "code",
   "execution_count": 11,
   "metadata": {},
   "outputs": [],
   "source": [
    "cir = dq.QumodeCircuit(nmode=3, init_state=[1,0,1])"
   ]
  },
  {
   "cell_type": "markdown",
   "metadata": {},
   "source": [
    "类似 ``FockState`` ，``init_state`` 也支持torch.tensor输入，以及 ``FockState`` 输入："
   ]
  },
  {
   "cell_type": "code",
   "execution_count": 12,
   "metadata": {},
   "outputs": [],
   "source": [
    "cir1 = dq.QumodeCircuit(nmode=3, init_state=torch.tensor([1,0,1]))\n",
    "\n",
    "fockstate = dq.FockState(state=[1, 0, 1])\n",
    "cir2 = dq.QumodeCircuit(nmode=3, init_state=fockstate)"
   ]
  },
  {
   "cell_type": "markdown",
   "metadata": {},
   "source": [
    "当量子态空间较大时，可以在初始化时，设定光子截断数 ``cutoff`` 来降低计算复杂度，表示每模的光子数上限+1。默认值为总光子数+1。"
   ]
  },
  {
   "cell_type": "code",
   "execution_count": 9,
   "metadata": {},
   "outputs": [
    {
     "name": "stdout",
     "output_type": "stream",
     "text": [
      "默认cutff时,末态概率分布为:\n",
      " {|210>: tensor([1.]), |003>: tensor([0.]), |012>: tensor([0.]), |021>: tensor([0.]), |030>: tensor([0.]), |102>: tensor([0.]), |111>: tensor([0.]), |120>: tensor([0.]), |201>: tensor([0.]), |300>: tensor([0.])}\n",
      "cutff=3时,末态概率分布为:\n",
      " {|210>: tensor([1.]), |012>: tensor([0.]), |021>: tensor([0.]), |102>: tensor([0.]), |111>: tensor([0.]), |120>: tensor([0.]), |201>: tensor([0.])}\n"
     ]
    }
   ],
   "source": [
    "# 无cutoff时\n",
    "cir = dq.QumodeCircuit(nmode=3, init_state=[2,1,0])\n",
    "print('默认cutff时,末态概率分布为:\\n',cir(is_prob = True))\n",
    "\n",
    "# 设定cutoff为3，即每模不超过2光子\n",
    "cir = dq.QumodeCircuit(nmode=3, init_state=[2,1,0], cutoff=3)\n",
    "print('cutff=3时,末态概率分布为:\\n',cir(is_prob = True))"
   ]
  },
  {
   "cell_type": "markdown",
   "metadata": {},
   "source": [
    "### 量子门\n",
    "\n",
    "初始化后，可以加入各种光量子门\n",
    "\n",
    "当前模拟器支持加入下列门：\n"
   ]
  },
  {
   "cell_type": "markdown",
   "metadata": {},
   "source": [
    "- ``ps``：移相器，对应的酉算符表示如下，\n",
    "$${PS}(\\theta) = \\exp(i \\theta \\hat{a}^\\dagger \\hat{a})$$\n",
    "作用在生成算符 $\\hat{a}^\\dagger$ 上的酉变换矩阵如下，\n",
    "$${PS}(\\theta)\\hat{a}^\\dagger{PS}^\\dagger(\\theta) = U^T(\\theta)\\hat{a}^\\dagger$$\n",
    "$$U(\\theta) = e^{i\\theta}$$\n",
    "\n",
    "``ps`` 中， ``wires`` 参数表示作用的空间mode（数据类型为 ``int`` ）, ``inputs`` 输入移相器对应的相位角 $\\theta$ \n"
   ]
  },
  {
   "cell_type": "markdown",
   "metadata": {},
   "source": [
    "- ``bs``：可调分束器, 对应的酉算符表示如下\n",
    "$$BS(\\theta, \\phi) = \\exp[\\theta(e^{i\\phi }\\hat{a}_1\\hat{a}_2^\\dagger-e^{-i\\phi}\\hat{a}_1^\\dagger \\hat{a}_2)]$$\n",
    "作用在生成算符 $\\hat{a}^\\dagger$ 上的酉变换矩阵如下\n",
    "$$BS(\\theta,\\phi)\\hat{a}^\\dagger BS^\\dagger(\\theta,\\phi) = U^T(\\theta,\\phi)\\hat{a}^\\dagger$$\n",
    "$$U(\\theta, \\phi) =            \\begin{pmatrix}                \\cos\\left(\\theta\\right)           & -e^{-i\\phi} \\sin\\left(\\theta\\right) \\\\                e^{i\\phi} \\sin\\left(\\theta\\right) & \\cos\\left(\\theta\\right)             \\\\            \\end{pmatrix}$$\n",
    "其中，$\\theta, \\phi$ 对应 ``inputs`` 两个参数，而``wires``的参数表示作用的两个空间mode（数据类型为``List[int]``）。\n",
    "\n",
    "特殊的，定义了若干``inputs``只有一个参数的bs门："
   ]
  },
  {
   "cell_type": "markdown",
   "metadata": {},
   "source": [
    "- ``bs_theta``：指定 $\\phi = \\pi/2$ 时，单参数 $\\theta$ 可调分束器。\n",
    "\n",
    "作用在生成算符 $\\hat{a}^\\dagger$ 上的酉变换矩阵如下，\n",
    "$$BS(\\theta) \\hat{a}^\\dagger BS^\\dagger(\\theta) = U^T(\\theta)\\hat{a}^\\dagger$$\n",
    "\n",
    "$$U(\\theta) =            \\begin{pmatrix}                \\cos\\left(\\theta\\right)  & i\\sin\\left(\\theta\\right) \\\\                i\\sin\\left(\\theta\\right) &  \\cos\\left(\\theta\\right) \\\\            \\end{pmatrix}$$"
   ]
  },
  {
   "cell_type": "markdown",
   "metadata": {},
   "source": [
    "- ``bs_phi``：指定 $\\theta = \\pi/4$ 时，单参数 $\\phi$ 可调分束器。\n",
    "\n",
    "作用在生成算符 $\\hat{a}^\\dagger$ 上的酉变换矩阵如下\n",
    "$$BS(\\phi)\\hat{a}^\\dagger BS^\\dagger (\\phi) = U^T(\\phi)\\hat{a}^\\dagger$$\n",
    "$$  U(\\phi) =            \\begin{pmatrix}                \\frac{\\sqrt{2}}{2} & -\\frac{\\sqrt{2}}{2}e^{-i\\phi} \\\\                \\frac{\\sqrt{2}}{2}e^{i\\phi}  &  \\frac{\\sqrt{2}}{2} \\\\            \\end{pmatrix}$$"
   ]
  },
  {
   "cell_type": "markdown",
   "metadata": {},
   "source": [
    "- ``bs_rx`` ：Rx 型分束器,\n",
    "\n",
    "作用在生成算符 $\\hat{a}^\\dagger$ 上的酉变换矩阵如下,\n",
    "$${R_x}(\\theta)\\hat{a}^\\dagger{R_x}^\\dagger(\\theta) = U^T(\\theta)\\hat{a}^\\dagger$$\n",
    "\n",
    "$$    U(\\theta) =            \\begin{pmatrix}                \\cos\\left(\\frac{\\theta}{2}\\right)  & i\\sin\\left(\\frac{\\theta}{2}\\right) \\\\                i\\sin\\left(\\frac{\\theta}{2}\\right) & \\cos\\left(\\frac{\\theta}{2}\\right)  \\\\            \\end{pmatrix}$$"
   ]
  },
  {
   "cell_type": "markdown",
   "metadata": {},
   "source": [
    "- ``bs_ry`` : Ry 型分束器,\n",
    "\n",
    "作用在生成算符 $\\hat{a}^\\dagger$ 上的酉变换矩阵如下,\n",
    "$$R_y(\\theta)\\hat{a}^\\dagger R_y^\\dagger(\\theta) = U^T(\\theta)\\hat{a}^\\dagger$$\n",
    "\n",
    "$$U(\\theta) =            \\begin{pmatrix}                \\cos\\left(\\frac{\\theta}{2}\\right) & -\\sin\\left(\\frac{\\theta}{2}\\right) \\\\                \\sin\\left(\\frac{\\theta}{2}\\right) & \\cos\\left(\\frac{\\theta}{2}\\right)  \\\\            \\end{pmatrix}$$"
   ]
  },
  {
   "cell_type": "markdown",
   "metadata": {},
   "source": [
    "- ``bs_h`` ：H型分束器, 即指定 $\\phi = 0$\n",
    "\n",
    "作用在生成算符 $\\hat{a}^\\dagger$ 上的酉变换矩阵如下,\n",
    "\n",
    "$$H(\\theta)\\hat{a}^\\dagger H^\\dagger(\\theta) = U^T(\\theta)\\hat{a}^\\dagger$$\n",
    "$$U(\\theta) =            \\begin{pmatrix}                \\cos\\left(\\frac{\\theta}{2}\\right) & \\sin\\left(\\frac{\\theta}{2}\\right)  \\\\                \\sin\\left(\\frac{\\theta}{2}\\right) & -\\cos\\left(\\frac{\\theta}{2}\\right) \\\\            \\end{pmatrix}$$"
   ]
  },
  {
   "cell_type": "markdown",
   "metadata": {},
   "source": [
    "- ``h``：H型50:50分束器, 即指定 $ \\theta = \\pi/2$ 时的 ``bs_h`` (或 $ \\phi = 0, \\theta = \\pi/4 $ 时的 ``bs``)\n",
    "\n",
    "作用在生成算符 $\\hat{a}^\\dagger$ 上的酉变换矩阵如下，\n",
    "\n",
    "$$H\\hat{a}^\\dagger H^\\dagger = U^T\\hat{a}^\\dagger$$\n",
    "$$U = \\frac{\\sqrt{2}}{2}\\begin{pmatrix}\n",
    "1&1\\\\\n",
    "1&-1\\\\\n",
    "\\end{pmatrix}$$"
   ]
  },
  {
   "cell_type": "markdown",
   "metadata": {},
   "source": [
    "- ``dc`` ：50:50 定向耦合器, 即指定 $ \\phi = \\pi/2, \\theta = \\pi/4 $ 时的 ``bs``。 \n",
    "\n",
    "作用在生成算符 $\\hat{a}^\\dagger$ 上的酉变换矩阵如下\n",
    "\n",
    "$$DC\\ \\hat{a}^\\dagger DC^\\dagger = U^T\\hat{a}^\\dagger$$\n",
    "$$    U =\\frac{\\sqrt{2}}{2}\\begin{pmatrix}\n",
    "1&i\\\\\n",
    "i&1 \\end{pmatrix}$$"
   ]
  },
  {
   "cell_type": "markdown",
   "metadata": {},
   "source": [
    "与 ``h`` 相比，``dc`` 会改变相位，因而虽然分束比例都是50：50，末态振幅并不相同。"
   ]
  },
  {
   "cell_type": "code",
   "execution_count": 5,
   "metadata": {},
   "outputs": [
    {
     "name": "stdout",
     "output_type": "stream",
     "text": [
      "通过H型50:50分束器后末态概率分布为:  {|01>: tensor([0.5000]), |10>: tensor([0.5000])}\n",
      "通过H型50:50分束器后末态振幅为:  {|01>: tensor([0.7071+0.j]), |10>: tensor([0.7071+0.j])}\n",
      "通过50:50 定向耦合器后末态概率分布为:  {|01>: tensor([0.5000]), |10>: tensor([0.5000])}\n",
      "通过50:50 定向耦合器后末态振幅分布为:  {|01>: tensor([0.+0.7071j]), |10>: tensor([0.7071+0.j])}\n"
     ]
    }
   ],
   "source": [
    "cir = dq.QumodeCircuit(2,init_state=[1, 0])\n",
    "cir.h(wires=[0,1])\n",
    "prob_h = cir(is_prob=True)\n",
    "amplitude_h = cir(is_prob=False)\n",
    "\n",
    "print('通过H型50:50分束器后末态概率分布为: ', prob_h)\n",
    "print('通过H型50:50分束器后末态振幅为: ', amplitude_h)\n",
    "\n",
    "cir = dq.QumodeCircuit(2,init_state=[1, 0])\n",
    "cir.dc(wires=[0,1])\n",
    "prob_dc = cir(is_prob=True)\n",
    "amplitude_dc = cir(is_prob=False)\n",
    "\n",
    "print('通过50:50 定向耦合器后末态概率分布为: ', prob_dc)\n",
    "print('通过50:50 定向耦合器后末态振幅分布为: ', amplitude_dc)"
   ]
  },
  {
   "cell_type": "markdown",
   "metadata": {},
   "source": [
    "- ``mzi`` ：马赫-曾德尔干涉仪（Mach-Zehnder interferometer）采用移相器-分束器-移相器-分束器的结构（先 $\\phi$后 $\\theta$）,\n",
    "对应的酉算符表示如下\n",
    "\n",
    "$$MZI(\\theta, \\phi) = BS(\\frac{\\pi}{4}, \\frac{\\pi}{2})(PS(\\theta)\\otimes I)BS(\\frac{\\pi}{4}, \\frac{\\pi}{2})\n",
    "(PS(\\phi)\\otimes I)$$\n",
    "作用在生成算符 $\\hat{a}^\\dagger$ 上的酉变换矩阵如下\n",
    "$$MZI(\\theta,\\phi)\\hat{a}^\\dagger MZI^\\dagger(\\theta,\\phi) = U^T(\\theta,\\phi)\\hat{a}^\\dagger$$\n",
    "$$MZI_{PT} = ie^{i\\theta/2}            \\begin{pmatrix}                e^{i\\phi} \\sin\\left(\\frac{\\theta}{2}\\right) & \\cos\\left(\\frac{\\theta}{2}\\right)  \\\\                e^{i\\phi} \\cos\\left(\\frac{\\theta}{2}\\right) & -\\sin\\left(\\frac{\\theta}{2}\\right) \\\\            \\end{pmatrix}$$"
   ]
  },
  {
   "cell_type": "markdown",
   "metadata": {},
   "source": [
    "\n",
    "可以通过参数 ``phi_first=False`` 切换至另一种分束器-移相器-分束器-移相器的结构 （先 $\\theta$后 $\\phi$）, 对应的酉变换矩阵如下\n",
    "\n",
    "$$\n",
    "MZI_{TP} = \n",
    "ie^{i\\theta/2}\n",
    "\\begin{pmatrix}\n",
    "e^{i\\phi}\\sin{\\frac{\\theta}{2}}&e^{i\\phi}\\cos{\\frac{\\theta}{2}}\\\\\n",
    "\\cos{\\frac{\\theta}{2}}&-\\sin{\\frac{\\theta}{2}}\\\\\n",
    "\\end{pmatrix}\n",
    "$$\n"
   ]
  },
  {
   "cell_type": "code",
   "execution_count": 50,
   "metadata": {},
   "outputs": [],
   "source": [
    "cir = dq.QumodeCircuit(nmode=3, init_state=[1,0,1])\n",
    "cir.ps(wires=0, inputs=0) # 相位角为0， 作用第0个mode上\n",
    "cir.ps(1, 0) # 也可省略参数名\n",
    "cir.bs_theta([0,1], torch.pi/4) # 单参数theta可调分束器, theta为pi/4 作用在第0，1个mode上\n",
    "cir.h(wires=[1,2])  # H型50:50分束器\n",
    "cir.bs_rx(wires=[1,2])  # Rx 型分束器\n",
    "cir.bs_ry(wires=[0,1])  # Ry 型分束器\n",
    "cir.dc(wires=[1,2]) # 50:50 定向耦合器\n",
    "cir.mzi(wires=[0,1]) # mzi干涉仪"
   ]
  },
  {
   "cell_type": "markdown",
   "metadata": {},
   "source": [
    "通过调用 ``draw()`` 函数实现线路可视化："
   ]
  },
  {
   "cell_type": "code",
   "execution_count": 51,
   "metadata": {},
   "outputs": [
    {
     "data": {
      "image/svg+xml": [
       "<svg baseProfile=\"full\" height=\"2.8636363636363638cm\" version=\"1.1\" width=\"20.1cm\" xmlns=\"http://www.w3.org/2000/svg\" xmlns:ev=\"http://www.w3.org/2001/xml-events\" xmlns:xlink=\"http://www.w3.org/1999/xlink\"><defs /><polyline fill=\"none\" points=\"40,30 130,30\" stroke=\"black\" stroke-width=\"2\" /><rect fill=\"teal\" height=\"12\" rx=\"0\" ry=\"0\" stroke=\"black\" stroke-width=\"1.5\" width=\"6\" x=\"82.5\" y=\"25\" /><text font-size=\"9\" x=\"80\" y=\"20\">PS</text><text font-size=\"7\" x=\"95\" y=\"20\">θ =0.0</text><polyline fill=\"none\" points=\"40,60 130,60\" stroke=\"black\" stroke-width=\"2\" /><rect fill=\"teal\" height=\"12\" rx=\"0\" ry=\"0\" stroke=\"black\" stroke-width=\"1.5\" width=\"6\" x=\"82.5\" y=\"55\" /><text font-size=\"9\" x=\"80\" y=\"50\">PS</text><text font-size=\"7\" x=\"95\" y=\"50\">θ =0.0</text><polyline fill=\"none\" points=\"130,30 150,30 180,60 220,60\" stroke=\"black\" stroke-width=\"2\" /><polyline fill=\"none\" points=\"130,60 150,60 180,30 220,30\" stroke=\"black\" stroke-width=\"2\" /><text font-size=\"9\" x=\"160\" y=\"25\">BS</text><text font-size=\"7\" x=\"175\" y=\"44\">θ =0.785</text><text font-size=\"7\" x=\"175\" y=\"50\">ϕ =1.571</text><polyline fill=\"none\" points=\"220,60 240,60 270,90 310,90\" stroke=\"black\" stroke-width=\"2\" /><polyline fill=\"none\" points=\"220,90 240,90 270,60 310,60\" stroke=\"black\" stroke-width=\"2\" /><text font-size=\"9\" x=\"244\" y=\"55\">BS-H</text><text font-size=\"7\" x=\"265\" y=\"74\">θ =1.571</text><polyline fill=\"none\" points=\"310,60 330,60 360,90 400,90\" stroke=\"black\" stroke-width=\"2\" /><polyline fill=\"none\" points=\"310,90 330,90 360,60 400,60\" stroke=\"black\" stroke-width=\"2\" /><text font-size=\"9\" x=\"331\" y=\"55\">BS-RX</text><text font-size=\"7\" x=\"355\" y=\"74\">θ =7.912</text><polyline fill=\"none\" points=\"400,30 420,30 450,60 490,60\" stroke=\"black\" stroke-width=\"2\" /><polyline fill=\"none\" points=\"400,60 420,60 450,30 490,30\" stroke=\"black\" stroke-width=\"2\" /><text font-size=\"9\" x=\"421\" y=\"25\">BS-RY</text><text font-size=\"7\" x=\"445\" y=\"44\">θ =2.492</text><polyline fill=\"none\" points=\"490,60 510,60 540,90 580,90\" stroke=\"black\" stroke-width=\"2\" /><polyline fill=\"none\" points=\"490,90 510,90 540,60 580,60\" stroke=\"black\" stroke-width=\"2\" /><text font-size=\"9\" x=\"511\" y=\"55\">BS-RX</text><text font-size=\"7\" x=\"535\" y=\"74\">θ =1.571</text><polyline fill=\"none\" points=\"580,30 600,30 630,60 670,60\" stroke=\"black\" stroke-width=\"2\" /><polyline fill=\"none\" points=\"580,60 600,60 630,30 670,30\" stroke=\"black\" stroke-width=\"2\" /><text font-size=\"9\" x=\"598\" y=\"25\">MZI-PT</text><text font-size=\"7\" x=\"625\" y=\"44\">θ =0.817</text><text font-size=\"7\" x=\"625\" y=\"50\">ϕ =4.494</text><polyline fill=\"none\" points=\"40,90 130,90\" stroke=\"black\" stroke-width=\"2\" /><polyline fill=\"none\" points=\"130,90 220,90\" stroke=\"black\" stroke-width=\"2\" /><polyline fill=\"none\" points=\"220,30 310,30\" stroke=\"black\" stroke-width=\"2\" /><polyline fill=\"none\" points=\"310,30 400,30\" stroke=\"black\" stroke-width=\"2\" /><polyline fill=\"none\" points=\"400,90 490,90\" stroke=\"black\" stroke-width=\"2\" /><polyline fill=\"none\" points=\"490,30 580,30\" stroke=\"black\" stroke-width=\"2\" /><polyline fill=\"none\" points=\"580,90 670,90\" stroke=\"black\" stroke-width=\"2\" /><text font-size=\"12\" x=\"25\" y=\"30\">0</text><text font-size=\"12\" x=\"25\" y=\"60\">1</text><text font-size=\"12\" x=\"25\" y=\"90\">2</text></svg>"
      ],
      "text/plain": [
       "<svgwrite.drawing.Drawing at 0x23cc3aa74c0>"
      ]
     },
     "execution_count": 51,
     "metadata": {},
     "output_type": "execute_result"
    }
   ],
   "source": [
    "cir.draw()"
   ]
  },
  {
   "cell_type": "markdown",
   "metadata": {},
   "source": [
    "通过调用 ``get_unitary()`` 函数获取线路酉矩阵："
   ]
  },
  {
   "cell_type": "code",
   "execution_count": 52,
   "metadata": {},
   "outputs": [
    {
     "data": {
      "text/plain": [
       "tensor([[-0.5132+0.7251j, -0.1070+0.3437j, -0.2634-0.1089j],\n",
       "        [ 0.0278+0.0098j,  0.2771+0.5283j,  0.7065-0.3797j],\n",
       "        [ 0.3345+0.3132j, -0.6345-0.3345j,  0.2272-0.4731j]],\n",
       "       grad_fn=<MmBackward0>)"
      ]
     },
     "execution_count": 52,
     "metadata": {},
     "output_type": "execute_result"
    }
   ],
   "source": [
    "cir.get_unitary()"
   ]
  },
  {
   "cell_type": "markdown",
   "metadata": {},
   "source": [
    "另外，支持用户添加任意自定义的酉矩阵门，通过 ``any`` 或 ``clements``来实现。``any`` 直接将酉矩阵作用于线路，支持自动微分梯度的运算；而 ``clements`` 会先将酉矩阵分解为Clements架构的线路参数，再把对应的Clements网络作用在线路上，是一种对应的物理实现，暂不支持自动微分。\n",
    "\n",
    "以下展示了初态为 $ \\left |1,0,1\\right \\rangle $ 的光量子线路通过优化``any``门参数得到末态全部为 $ \\left |1,1,0\\right \\rangle $ 的实例。"
   ]
  },
  {
   "cell_type": "code",
   "execution_count": 57,
   "metadata": {},
   "outputs": [
    {
     "name": "stdout",
     "output_type": "stream",
     "text": [
      "True\n",
      "梯度下降优化后末态为110的概率为: tensor([1.0000], grad_fn=<SelectBackward0>)\n"
     ]
    },
    {
     "data": {
      "image/svg+xml": [
       "<svg baseProfile=\"full\" height=\"2.8636363636363638cm\" version=\"1.1\" width=\"12.0cm\" xmlns=\"http://www.w3.org/2000/svg\" xmlns:ev=\"http://www.w3.org/2001/xml-events\" xmlns:xlink=\"http://www.w3.org/1999/xlink\"><defs /><polyline fill=\"none\" points=\"40,30 60,30 90,60 130,60\" stroke=\"black\" stroke-width=\"2\" /><polyline fill=\"none\" points=\"40,60 60,60 90,30 130,30\" stroke=\"black\" stroke-width=\"2\" /><text font-size=\"9\" x=\"58\" y=\"25\">MZI-PT</text><text font-size=\"7\" x=\"85\" y=\"44\">θ =1.73</text><text font-size=\"7\" x=\"85\" y=\"50\">ϕ =0.0</text><polyline fill=\"none\" points=\"130,60 150,60 180,90 220,90\" stroke=\"black\" stroke-width=\"2\" /><polyline fill=\"none\" points=\"130,90 150,90 180,60 220,60\" stroke=\"black\" stroke-width=\"2\" /><text font-size=\"9\" x=\"148\" y=\"55\">MZI-PT</text><text font-size=\"7\" x=\"175\" y=\"74\">θ =1.13</text><text font-size=\"7\" x=\"175\" y=\"80\">ϕ =3.847</text><polyline fill=\"none\" points=\"220,30 240,30 270,60 310,60\" stroke=\"black\" stroke-width=\"2\" /><polyline fill=\"none\" points=\"220,60 240,60 270,30 310,30\" stroke=\"black\" stroke-width=\"2\" /><text font-size=\"9\" x=\"238\" y=\"25\">MZI-PT</text><text font-size=\"7\" x=\"265\" y=\"44\">θ =1.572</text><text font-size=\"7\" x=\"265\" y=\"50\">ϕ =5.983</text><polyline fill=\"none\" points=\"310,30 400,30\" stroke=\"black\" stroke-width=\"2\" /><rect fill=\"teal\" height=\"12\" rx=\"0\" ry=\"0\" stroke=\"black\" stroke-width=\"1.5\" width=\"6\" x=\"352.5\" y=\"25\" /><text font-size=\"9\" x=\"350\" y=\"20\">PS</text><text font-size=\"7\" x=\"365\" y=\"20\">θ =2.14</text><polyline fill=\"none\" points=\"310,60 400,60\" stroke=\"black\" stroke-width=\"2\" /><rect fill=\"teal\" height=\"12\" rx=\"0\" ry=\"0\" stroke=\"black\" stroke-width=\"1.5\" width=\"6\" x=\"352.5\" y=\"55\" /><text font-size=\"9\" x=\"350\" y=\"50\">PS</text><text font-size=\"7\" x=\"365\" y=\"50\">θ =2.14</text><polyline fill=\"none\" points=\"220,90 310,90\" stroke=\"black\" stroke-width=\"2\" /><rect fill=\"teal\" height=\"12\" rx=\"0\" ry=\"0\" stroke=\"black\" stroke-width=\"1.5\" width=\"6\" x=\"262.5\" y=\"85\" /><text font-size=\"9\" x=\"260\" y=\"80\">PS</text><text font-size=\"7\" x=\"275\" y=\"80\">θ =1.355</text><polyline fill=\"none\" points=\"40,90 130,90\" stroke=\"black\" stroke-width=\"2\" /><polyline fill=\"none\" points=\"130,30 220,30\" stroke=\"black\" stroke-width=\"2\" /><polyline fill=\"none\" points=\"310,90 400,90\" stroke=\"black\" stroke-width=\"2\" /><text font-size=\"12\" x=\"25\" y=\"30\">0</text><text font-size=\"12\" x=\"25\" y=\"60\">1</text><text font-size=\"12\" x=\"25\" y=\"90\">2</text></svg>"
      ],
      "text/plain": [
       "<svgwrite.drawing.Drawing at 0x221fbdb4df0>"
      ]
     },
     "execution_count": 57,
     "metadata": {},
     "output_type": "execute_result"
    }
   ],
   "source": [
    "# 通过旋转矩阵构建 3x3 酉矩阵\n",
    "def unitary_3x3(alpha, beta, gamma, delta):\n",
    "    r1 = torch.stack([torch.cos(alpha), -torch.sin(alpha), torch.tensor(0),\n",
    "                       torch.sin(alpha), torch.cos(alpha), torch.tensor(0),\n",
    "                       torch.tensor(0), torch.tensor(0), torch.tensor(1)]).reshape(3,3)\n",
    "\n",
    "    r2 = torch.stack([torch.cos(beta), torch.tensor(0), torch.sin(beta),\n",
    "                        torch.tensor(0), torch.tensor(1), torch.tensor(0),\n",
    "                       -torch.sin(beta), torch.tensor(0), torch.cos(beta)]).reshape(3,3)\n",
    "\n",
    "    r3 = torch.stack([torch.tensor(1), torch.tensor(0), torch.tensor(0),\n",
    "                       torch.tensor(0), torch.cos(gamma), -torch.sin(gamma),\n",
    "                       torch.tensor(0), torch.sin(gamma), torch.cos(gamma)]).reshape(3,3)\n",
    "\n",
    "    u = torch.matmul(torch.matmul(r1, r2), r3)\n",
    "\n",
    "    # 加入全局相位，any门需要输入复数矩阵\n",
    "    unitary = u * torch.exp(1j * delta)\n",
    "    return unitary\n",
    "\n",
    "# 生成随机角度作为初始参数，构建酉矩阵。 any门支持梯度运算\n",
    "import torch.nn as nn\n",
    "para = nn.Parameter(torch.rand(4, requires_grad=True))\n",
    "unitary = unitary_3x3(para[0], para[1], para[2], para[3])\n",
    "\n",
    "# 检查是否为酉矩阵\n",
    "from deepquantum.qmath import is_unitary\n",
    "print(is_unitary(unitary))\n",
    "\n",
    "def get_prob_110(para):\n",
    "    unitary = unitary_3x3(para[0], para[1], para[2], para[3])\n",
    "\n",
    "    cir = dq.QumodeCircuit(nmode=3, init_state=[1,0,1])\n",
    "    cir.any(wires=[0,1,2], unitary=unitary)\n",
    "    x = cir(is_prob=True)\n",
    "\n",
    "    # 得到末态为1,1,0的概率\n",
    "    return x[dq.FockState([1,1,0])]\n",
    "\n",
    "# 使用Adam优化器\n",
    "optimizer = torch.optim.Adam([para], lr=0.1)\n",
    "for _ in range(100):\n",
    "    optimizer.zero_grad()\n",
    "    prob_110 = get_prob_110(para)\n",
    "    loss = torch.abs(1-prob_110)\n",
    "    if loss < 1e-5:\n",
    "        break\n",
    "    loss.backward() # 反向传播\n",
    "    optimizer.step() # 更新参数\n",
    "print('梯度下降优化后末态为110的概率为:',get_prob_110(para))\n",
    "\n",
    "cir.draw()"
   ]
  },
  {
   "cell_type": "code",
   "execution_count": 58,
   "metadata": {},
   "outputs": [
    {
     "data": {
      "image/svg+xml": [
       "<svg baseProfile=\"full\" height=\"2.8636363636363638cm\" version=\"1.1\" width=\"12.0cm\" xmlns=\"http://www.w3.org/2000/svg\" xmlns:ev=\"http://www.w3.org/2001/xml-events\" xmlns:xlink=\"http://www.w3.org/1999/xlink\"><defs /><polyline fill=\"none\" points=\"40,30 60,30 90,60 130,60\" stroke=\"black\" stroke-width=\"2\" /><polyline fill=\"none\" points=\"40,60 60,60 90,30 130,30\" stroke=\"black\" stroke-width=\"2\" /><text font-size=\"9\" x=\"58\" y=\"25\">MZI-PT</text><text font-size=\"7\" x=\"85\" y=\"44\">θ =1.725</text><text font-size=\"7\" x=\"85\" y=\"50\">ϕ =0.0</text><polyline fill=\"none\" points=\"130,60 150,60 180,90 220,90\" stroke=\"black\" stroke-width=\"2\" /><polyline fill=\"none\" points=\"130,90 150,90 180,60 220,60\" stroke=\"black\" stroke-width=\"2\" /><text font-size=\"9\" x=\"148\" y=\"55\">MZI-PT</text><text font-size=\"7\" x=\"175\" y=\"74\">θ =1.108</text><text font-size=\"7\" x=\"175\" y=\"80\">ϕ =3.85</text><polyline fill=\"none\" points=\"220,30 240,30 270,60 310,60\" stroke=\"black\" stroke-width=\"2\" /><polyline fill=\"none\" points=\"220,60 240,60 270,30 310,30\" stroke=\"black\" stroke-width=\"2\" /><text font-size=\"9\" x=\"238\" y=\"25\">MZI-PT</text><text font-size=\"7\" x=\"265\" y=\"44\">θ =1.128</text><text font-size=\"7\" x=\"265\" y=\"50\">ϕ =5.975</text><polyline fill=\"none\" points=\"310,30 400,30\" stroke=\"black\" stroke-width=\"2\" /><rect fill=\"teal\" height=\"12\" rx=\"0\" ry=\"0\" stroke=\"black\" stroke-width=\"1.5\" width=\"6\" x=\"352.5\" y=\"25\" /><text font-size=\"9\" x=\"350\" y=\"20\">PS</text><text font-size=\"7\" x=\"365\" y=\"20\">θ =2.102</text><polyline fill=\"none\" points=\"310,60 400,60\" stroke=\"black\" stroke-width=\"2\" /><rect fill=\"teal\" height=\"12\" rx=\"0\" ry=\"0\" stroke=\"black\" stroke-width=\"1.5\" width=\"6\" x=\"352.5\" y=\"55\" /><text font-size=\"9\" x=\"350\" y=\"50\">PS</text><text font-size=\"7\" x=\"365\" y=\"50\">θ =2.102</text><polyline fill=\"none\" points=\"220,90 310,90\" stroke=\"black\" stroke-width=\"2\" /><rect fill=\"teal\" height=\"12\" rx=\"0\" ry=\"0\" stroke=\"black\" stroke-width=\"1.5\" width=\"6\" x=\"262.5\" y=\"85\" /><text font-size=\"9\" x=\"260\" y=\"80\">PS</text><text font-size=\"7\" x=\"275\" y=\"80\">θ =1.095</text><polyline fill=\"none\" points=\"40,90 130,90\" stroke=\"black\" stroke-width=\"2\" /><polyline fill=\"none\" points=\"130,30 220,30\" stroke=\"black\" stroke-width=\"2\" /><polyline fill=\"none\" points=\"310,90 400,90\" stroke=\"black\" stroke-width=\"2\" /><text font-size=\"12\" x=\"25\" y=\"30\">0</text><text font-size=\"12\" x=\"25\" y=\"60\">1</text><text font-size=\"12\" x=\"25\" y=\"90\">2</text></svg>"
      ],
      "text/plain": [
       "<svgwrite.drawing.Drawing at 0x221f9d1a320>"
      ]
     },
     "execution_count": 58,
     "metadata": {},
     "output_type": "execute_result"
    }
   ],
   "source": [
    "# clements门不支持梯度\n",
    "para = torch.rand(4)\n",
    "unitary = unitary_3x3(para[0], para[1], para[2], para[3])\n",
    "\n",
    "# 检查是否为酉矩阵\n",
    "from deepquantum.qmath import is_unitary\n",
    "is_unitary(unitary)\n",
    "\n",
    "cir = dq.QumodeCircuit(nmode=3, init_state=[1,0,1])\n",
    "cir.clements(wires=[0,1,2], unitary=unitary)\n",
    "cir.draw()"
   ]
  },
  {
   "cell_type": "markdown",
   "metadata": {},
   "source": [
    "给线路添加量子门的逻辑是将实例化的``Gate``类添加至 ``QumodeCircuit.operators``。 它包含了线路所有量子门的操作, 可以对具体的门调用 ``get_unitary`` 查看局部的酉矩阵："
   ]
  },
  {
   "cell_type": "code",
   "execution_count": 66,
   "metadata": {},
   "outputs": [
    {
     "name": "stdout",
     "output_type": "stream",
     "text": [
      "实例化的单参数theta可调分束器为: BeamSplitterTheta(wires=[0, 1], theta=0.7853981852531433, phi=1.5707963705062866)\n",
      "对应的酉矩阵为: tensor([[ 7.0711e-01+0.0000j,  3.0909e-08+0.7071j,  0.0000e+00+0.0000j],\n",
      "        [-3.0909e-08+0.7071j,  7.0711e-01+0.0000j,  0.0000e+00+0.0000j],\n",
      "        [ 0.0000e+00+0.0000j,  0.0000e+00+0.0000j,  1.0000e+00+0.0000j]])\n",
      "Sequential(\n",
      "  (0): PhaseShift(wires=[0], theta=0.0)\n",
      "  (1): PhaseShift(wires=[1], theta=0.0)\n",
      "  (2): BeamSplitterTheta(wires=[0, 1], theta=0.7853981852531433, phi=1.5707963705062866)\n",
      "  (3): BeamSplitterSingle(wires=[1, 2], theta=1.5707963705062866, convention=h)\n",
      ")\n",
      "BeamSplitterTheta(wires=[0, 1], theta=0.7853981852531433, phi=1.5707963705062866)\n",
      "tensor([[ 7.0711e-01+0.0000j,  3.0909e-08+0.7071j,  0.0000e+00+0.0000j],\n",
      "        [-3.0909e-08+0.7071j,  7.0711e-01+0.0000j,  0.0000e+00+0.0000j],\n",
      "        [ 0.0000e+00+0.0000j,  0.0000e+00+0.0000j,  1.0000e+00+0.0000j]])\n"
     ]
    }
   ],
   "source": [
    "# 实例化一个单参数theta可调分束器, theta为pi/4 作用在第0，1个mode上\n",
    "from deepquantum.photonic.gate import BeamSplitterTheta\n",
    "bs_theta = BeamSplitterTheta(nmode=3, wires=[0, 1], inputs=torch.pi/4)\n",
    "print('实例化的单参数theta可调分束器为:', bs_theta)\n",
    "print('对应的酉矩阵为:', bs_theta.get_unitary())\n",
    "\n",
    "cir = dq.QumodeCircuit(nmode=3, init_state=[1,0,1])\n",
    "cir.ps(wires=0, inputs=0) # 相位角为0， 作用第0个mode上\n",
    "cir.ps(1, 0) # 也可省略参数名\n",
    "cir.bs_theta([0,1], torch.pi/4) # 单参数theta可调分束器, theta为pi/4 作用在第0，1个mode上\n",
    "cir.h(wires=[1,2])  # H型50:50分束器\n",
    "\n",
    "print(cir.operators)\n",
    "\n",
    "# 第3个operator等价于刚实例化的bs_theta\n",
    "print(cir.operators[2])\n",
    "print(cir.operators[2].get_unitary())"
   ]
  },
  {
   "cell_type": "markdown",
   "metadata": {},
   "source": [
    "### 前向演化\n",
    "\n",
    "调用前向函数对线路进行演化。可以通过改变 ``is_prob`` 的值以控制返回的类型：\n",
    "\n",
    "``is_prob=None`` （默认）：返回量子线路对应的酉矩阵\n",
    "\n",
    "``is_prob=True`` ：返回末态的概率分布\n",
    "\n",
    "``is_prob=False`` ：返回末态的振幅分布\n",
    "\n"
   ]
  },
  {
   "cell_type": "code",
   "execution_count": 67,
   "metadata": {},
   "outputs": [
    {
     "name": "stdout",
     "output_type": "stream",
     "text": [
      "tensor([[ 7.0711e-01+0.0000j,  3.0909e-08+0.7071j,  0.0000e+00+0.0000j],\n",
      "        [-2.1856e-08+0.5000j,  5.0000e-01+0.0000j,  7.0711e-01+0.0000j],\n",
      "        [-2.1856e-08+0.5000j,  5.0000e-01+0.0000j, -7.0711e-01+0.0000j]])\n",
      "{|002>: tensor([0.2500]), |020>: tensor([0.2500]), |101>: tensor([0.2500]), |110>: tensor([0.2500]), |011>: tensor([0.]), |200>: tensor([0.])}\n",
      "{|002>: tensor([2.1856e-08-0.5000j]), |020>: tensor([-2.1856e-08+0.5000j]), |101>: tensor([-0.5000+0.j]), |110>: tensor([0.5000+0.j]), |011>: tensor([0.+0.j]), |200>: tensor([0.+0.j])}\n"
     ]
    }
   ],
   "source": [
    "cir = dq.QumodeCircuit(nmode=3, init_state=[1,0,1])\n",
    "cir.ps(wires=0, inputs=0) # 相位角为0， 作用第0个mode上\n",
    "cir.ps(1, 0) # 也可省略参数名\n",
    "cir.bs_theta([0,1], torch.pi/4) # 单参数theta可调分束器, theta为pi/4 作用在第0，1个mode上\n",
    "cir.h(wires=[1,2])  # H型50:50分束器\n",
    "\n",
    "print(cir())\n",
    "print(cir(is_prob=True))\n",
    "print(cir(is_prob=False))"
   ]
  },
  {
   "cell_type": "markdown",
   "metadata": {},
   "source": [
    "支持通过 ``data`` 输入线路中 ``encode=True`` 门的参数，通过 ``state`` 指定初态，对线路进行演化："
   ]
  },
  {
   "cell_type": "code",
   "execution_count": 17,
   "metadata": {},
   "outputs": [
    {
     "name": "stdout",
     "output_type": "stream",
     "text": [
      "线路参数为: tensor([-0.7499, -0.0803, -1.1638])\n"
     ]
    },
    {
     "data": {
      "image/svg+xml": [
       "<svg baseProfile=\"full\" height=\"1.9090909090909092cm\" version=\"1.1\" width=\"6.6cm\" xmlns=\"http://www.w3.org/2000/svg\" xmlns:ev=\"http://www.w3.org/2001/xml-events\" xmlns:xlink=\"http://www.w3.org/1999/xlink\"><defs /><polyline fill=\"none\" points=\"40,30 130,30\" stroke=\"black\" stroke-width=\"2\" /><rect fill=\"teal\" height=\"12\" rx=\"0\" ry=\"0\" stroke=\"black\" stroke-width=\"1.5\" width=\"6\" x=\"82.5\" y=\"25\" /><text font-size=\"9\" x=\"80\" y=\"20\">PS</text><text font-size=\"7\" x=\"95\" y=\"20\">θ =-0.75</text><polyline fill=\"none\" points=\"40,60 130,60\" stroke=\"black\" stroke-width=\"2\" /><rect fill=\"teal\" height=\"12\" rx=\"0\" ry=\"0\" stroke=\"black\" stroke-width=\"1.5\" width=\"6\" x=\"82.5\" y=\"55\" /><text font-size=\"9\" x=\"80\" y=\"50\">PS</text><text font-size=\"7\" x=\"95\" y=\"50\">θ =-0.08</text><polyline fill=\"none\" points=\"130,30 150,30 180,60 220,60\" stroke=\"black\" stroke-width=\"2\" /><polyline fill=\"none\" points=\"130,60 150,60 180,30 220,30\" stroke=\"black\" stroke-width=\"2\" /><text font-size=\"9\" x=\"160\" y=\"25\">BS</text><text font-size=\"7\" x=\"175\" y=\"44\">θ =-1.164</text><text font-size=\"7\" x=\"175\" y=\"50\">ϕ =1.571</text><text font-size=\"12\" x=\"25\" y=\"30\">0</text><text font-size=\"12\" x=\"25\" y=\"60\">1</text></svg>"
      ],
      "text/plain": [
       "<svgwrite.drawing.Drawing at 0x152bff41ff0>"
      ]
     },
     "execution_count": 17,
     "metadata": {},
     "output_type": "execute_result"
    }
   ],
   "source": [
    "cir2 = dq.QumodeCircuit(2, init_state=[1,0,1])\n",
    "cir2.ps(wires=0, encode=True) # 相位角为参数， 作用第0个mode上\n",
    "cir2.ps(1, encode =True) # 也可省略参数名\n",
    "cir2.bs_theta([0,1], encode=True) # theta为参数, phi为定值pi/2 作用在第0，1个mode上\n",
    "\n",
    "# 构建data作为输入参数\n",
    "npara = 3\n",
    "data = torch.randn(npara)\n",
    "print('线路参数为:', data)\n",
    "\n",
    "# 完成前向\n",
    "cir2(data)\n",
    "cir2.draw()"
   ]
  },
  {
   "cell_type": "code",
   "execution_count": 18,
   "metadata": {},
   "outputs": [
    {
     "name": "stdout",
     "output_type": "stream",
     "text": [
      "tensor([[ 0.2896-0.2698j, -0.0737-0.9154j],\n",
      "        [-0.6259-0.6720j,  0.3945-0.0317j]])\n"
     ]
    },
    {
     "data": {
      "text/plain": [
       "{|11>: tensor([0.4715]), |02>: tensor([0.2642]), |20>: tensor([0.2642])}"
      ]
     },
     "execution_count": 18,
     "metadata": {},
     "output_type": "execute_result"
    }
   ],
   "source": [
    "# 指定初态前向演化\n",
    "print(cir2(state=[0, 2, 0]))\n",
    "\n",
    "# 同时指定线路参数和初态前向演化，并返回概率分布\n",
    "cir2(data, state=[1, 1, 1], is_prob=True)"
   ]
  },
  {
   "cell_type": "markdown",
   "metadata": {},
   "source": [
    "### 采样测量\n",
    "\n",
    "可以对线路进行测量，返回的结果是字典或者字典的列表，字典的key是Fock态，value是对应测量到的次数，shots默认为1024。"
   ]
  },
  {
   "cell_type": "code",
   "execution_count": 20,
   "metadata": {},
   "outputs": [
    {
     "data": {
      "text/plain": [
       "{|101>: 505, |110>: 488, |002>: 12, |020>: 19}"
      ]
     },
     "execution_count": 20,
     "metadata": {},
     "output_type": "execute_result"
    }
   ],
   "source": [
    "cir = dq.QumodeCircuit(nmode=3, init_state=[1,0,1])\n",
    "cir.ps(wires=0) # 作用第0个mode上\n",
    "cir.ps(1, 0) # 也可省略参数名\n",
    "cir.bs_theta([0,1]) # 单参数theta可调分束器 作用在第0，1个mode上\n",
    "cir.h(wires=[1,2])  # H型50:50分束器\n",
    "cir()\n",
    "\n",
    "cir.measure()"
   ]
  },
  {
   "cell_type": "markdown",
   "metadata": {},
   "source": [
    "设定 ``with_prob=True`` 同时返回理论期望值："
   ]
  },
  {
   "cell_type": "code",
   "execution_count": 21,
   "metadata": {},
   "outputs": [
    {
     "data": {
      "text/plain": [
       "{|020>: (9, tensor([0.0133], grad_fn=<SelectBackward0>)),\n",
       " |101>: (486, tensor([0.4867], grad_fn=<SelectBackward0>)),\n",
       " |110>: (519, tensor([0.4867], grad_fn=<SelectBackward0>)),\n",
       " |002>: (10, tensor([0.0133], grad_fn=<SelectBackward0>))}"
      ]
     },
     "execution_count": 21,
     "metadata": {},
     "output_type": "execute_result"
    }
   ],
   "source": [
    "cir.measure(with_prob=True)"
   ]
  },
  {
   "cell_type": "markdown",
   "metadata": {},
   "source": [
    "通过设定 ``wires`` 进行部分测量："
   ]
  },
  {
   "cell_type": "code",
   "execution_count": 22,
   "metadata": {},
   "outputs": [
    {
     "data": {
      "text/plain": [
       "{|11>: 515, |10>: 483, |02>: 14, |00>: 12}"
      ]
     },
     "execution_count": 22,
     "metadata": {},
     "output_type": "execute_result"
    }
   ],
   "source": [
    "cir.measure(wires=[0,1])"
   ]
  },
  {
   "cell_type": "markdown",
   "metadata": {},
   "source": [
    "如需要对量子线路进行马尔科夫链蒙特卡洛采样，打开 ``mcmc=True`` 开关即可。\n",
    "\n",
    "通常只在前向返回酉矩阵，即默认 ``is_prob=None`` 的情况下使用MCMC采样，因为其他情况做前向时已经计算了全空间理论的概率分布。"
   ]
  },
  {
   "cell_type": "code",
   "execution_count": 23,
   "metadata": {},
   "outputs": [
    {
     "name": "stderr",
     "output_type": "stream",
     "text": [
      "chain 1: 100%|\u001b[32m█████████████████████████████\u001b[0m| 203/203 [00:00<00:00, 32289.57it/s]\u001b[0m\n",
      "chain 2: 100%|\u001b[32m█████████████████████████████\u001b[0m| 203/203 [00:00<00:00, 32108.14it/s]\u001b[0m\n",
      "chain 3: 100%|\u001b[32m█████████████████████████████\u001b[0m| 203/203 [00:00<00:00, 16412.42it/s]\u001b[0m\n",
      "chain 4: 100%|\u001b[32m████████████████████████████████████████\u001b[0m| 203/203 [00:00<?, ?it/s]\u001b[0m\n",
      "chain 5: 100%|\u001b[32m█████████████████████████████\u001b[0m| 207/207 [00:00<00:00, 20134.06it/s]\u001b[0m\n"
     ]
    },
    {
     "data": {
      "text/plain": [
       "{|200>: 4, |020>: 11, |110>: 505, |101>: 485, |002>: 17, |011>: 2}"
      ]
     },
     "execution_count": 23,
     "metadata": {},
     "output_type": "execute_result"
    }
   ],
   "source": [
    "cir()\n",
    "cir.measure(mcmc=True)"
   ]
  },
  {
   "cell_type": "markdown",
   "metadata": {},
   "source": [
    "通过 ``get_amplitude()`` 或 ``get_prob()`` 获得指定末态的振幅/概率："
   ]
  },
  {
   "cell_type": "code",
   "execution_count": 25,
   "metadata": {},
   "outputs": [
    {
     "name": "stdout",
     "output_type": "stream",
     "text": [
      "tensor([0.6730+0.1838j], grad_fn=<DivBackward0>)\n",
      "tensor([0.4867], grad_fn=<PowBackward0>)\n"
     ]
    }
   ],
   "source": [
    "print(cir.get_amplitude([1, 1, 0]))\n",
    "print(cir.get_prob([1, 0, 1]))"
   ]
  },
  {
   "cell_type": "markdown",
   "metadata": {},
   "source": [
    "## 支持batch输入"
   ]
  },
  {
   "cell_type": "markdown",
   "metadata": {},
   "source": [
    "### 初态的batch输入"
   ]
  },
  {
   "cell_type": "markdown",
   "metadata": {},
   "source": [
    "无线路参数输入的情况："
   ]
  },
  {
   "cell_type": "code",
   "execution_count": 5,
   "metadata": {},
   "outputs": [
    {
     "name": "stdout",
     "output_type": "stream",
     "text": [
      "初态为:  tensor([[2, 1],\n",
      "        [2, 2],\n",
      "        [0, 2],\n",
      "        [1, 1]])\n",
      "线路对应酉矩阵为:  tensor([[[-2.0196e-01+0.0000j, -4.2811e-08-0.9794j],\n",
      "         [ 4.2811e-08-0.9794j, -2.0196e-01+0.0000j]],\n",
      "\n",
      "        [[-2.0196e-01+0.0000j, -4.2811e-08-0.9794j],\n",
      "         [ 4.2811e-08-0.9794j, -2.0196e-01+0.0000j]],\n",
      "\n",
      "        [[-2.0196e-01+0.0000j, -4.2811e-08-0.9794j],\n",
      "         [ 4.2811e-08-0.9794j, -2.0196e-01+0.0000j]],\n",
      "\n",
      "        [[-2.0196e-01+0.0000j, -4.2811e-08-0.9794j],\n",
      "         [ 4.2811e-08-0.9794j, -2.0196e-01+0.0000j]]],\n",
      "       grad_fn=<ExpandBackward0>)\n"
     ]
    },
    {
     "data": {
      "text/plain": [
       "[{|12>: 739, |21>: 158, |03>: 125, |30>: 2},\n",
       " {|13>: 202, |22>: 590, |31>: 214, |40>: 7, |04>: 11},\n",
       " {|20>: 934, |11>: 89, |02>: 1},\n",
       " {|11>: 824, |20>: 101, |02>: 99}]"
      ]
     },
     "execution_count": 5,
     "metadata": {},
     "output_type": "execute_result"
    }
   ],
   "source": [
    "# 构建batch的初态\n",
    "batch_state = torch.randint(0, 3, (4, 2))\n",
    "print('初态为: ',batch_state)\n",
    "\n",
    "cir = dq.QumodeCircuit(nmode=2, init_state=batch_state)\n",
    "cir.bs_theta([0, 1])\n",
    "\n",
    "unitary = cir()\n",
    "print('线路对应酉矩阵为: ', unitary)\n",
    "\n",
    "# 测量并输出结果\n",
    "cir.measure()"
   ]
  },
  {
   "cell_type": "markdown",
   "metadata": {},
   "source": [
    "有线路参数时："
   ]
  },
  {
   "cell_type": "code",
   "execution_count": 6,
   "metadata": {},
   "outputs": [
    {
     "name": "stdout",
     "output_type": "stream",
     "text": [
      "初态为:  tensor([[0, 2],\n",
      "        [2, 0],\n",
      "        [2, 1],\n",
      "        [2, 1]])\n",
      "线路对应酉矩阵为:  tensor([[[3.0087e-01+0.8850j, 3.3643e-01-0.1144j],\n",
      "         [1.5532e-08-0.3553j, 9.3474e-01+0.0000j]],\n",
      "\n",
      "        [[3.0087e-01+0.8850j, 3.3643e-01-0.1144j],\n",
      "         [1.5532e-08-0.3553j, 9.3474e-01+0.0000j]],\n",
      "\n",
      "        [[3.0087e-01+0.8850j, 3.3643e-01-0.1144j],\n",
      "         [1.5532e-08-0.3553j, 9.3474e-01+0.0000j]],\n",
      "\n",
      "        [[3.0087e-01+0.8850j, 3.3643e-01-0.1144j],\n",
      "         [1.5532e-08-0.3553j, 9.3474e-01+0.0000j]]])\n"
     ]
    },
    {
     "data": {
      "text/plain": [
       "[{|02>: 784, |11>: 230, |20>: 10},\n",
       " {|20>: 751, |11>: 249, |02>: 24},\n",
       " {|12>: 356, |21>: 315, |30>: 310, |03>: 43},\n",
       " {|21>: 346, |12>: 326, |30>: 308, |03>: 44}]"
      ]
     },
     "execution_count": 6,
     "metadata": {},
     "output_type": "execute_result"
    }
   ],
   "source": [
    "# 构建batch的初态\n",
    "batch_state = torch.randint(0, 3, (4, 2))\n",
    "print('初态为: ',batch_state)\n",
    "\n",
    "cir = dq.QumodeCircuit(nmode=2, init_state=batch_state)\n",
    "cir.bs_theta([0, 1], encode=True)\n",
    "cir.ps(0, encode=True)\n",
    "\n",
    "# 构建一组线路参数\n",
    "para = torch.randn(1, 2) # 1组数据， 2个参数\n",
    "unitary = cir(para)\n",
    "print('线路对应酉矩阵为: ', unitary)\n",
    "\n",
    "# 测量并输出结果\n",
    "cir.measure()"
   ]
  },
  {
   "cell_type": "markdown",
   "metadata": {},
   "source": [
    "### 线路参数的batch输入"
   ]
  },
  {
   "cell_type": "code",
   "execution_count": 7,
   "metadata": {},
   "outputs": [
    {
     "name": "stdout",
     "output_type": "stream",
     "text": [
      "线路参数为:  tensor([[ 0.6075],\n",
      "        [-0.9049],\n",
      "        [ 0.6974],\n",
      "        [ 0.6143]])\n",
      "线路对应酉矩阵为:  tensor([[[ 8.2107e-01+0.0000j,  2.4951e-08+0.5708j],\n",
      "         [-2.4951e-08+0.5708j,  8.2107e-01+0.0000j]],\n",
      "\n",
      "        [[ 6.1776e-01+0.0000j, -3.4373e-08-0.7864j],\n",
      "         [ 3.4373e-08-0.7864j,  6.1776e-01+0.0000j]],\n",
      "\n",
      "        [[ 7.6651e-01+0.0000j,  2.8073e-08+0.6422j],\n",
      "         [-2.8073e-08+0.6422j,  7.6651e-01+0.0000j]],\n",
      "\n",
      "        [[ 8.1716e-01+0.0000j,  2.5195e-08+0.5764j],\n",
      "         [-2.5195e-08+0.5764j,  8.1716e-01+0.0000j]]])\n"
     ]
    },
    {
     "data": {
      "text/plain": [
       "[{|10>: 317, |01>: 707},\n",
       " {|10>: 619, |01>: 405},\n",
       " {|01>: 605, |10>: 419},\n",
       " {|10>: 337, |01>: 687}]"
      ]
     },
     "execution_count": 7,
     "metadata": {},
     "output_type": "execute_result"
    }
   ],
   "source": [
    "# 构建batch的线路参数\n",
    "batch_size = 4\n",
    "npara = 1\n",
    "batch_para = torch.randn(batch_size,npara)\n",
    "print('线路参数为: ',batch_para)\n",
    "\n",
    "cir = dq.QumodeCircuit(nmode=2, init_state=[0,1])\n",
    "cir.bs_theta([0, 1], encode=True)\n",
    "\n",
    "unitary = cir(data = batch_para)\n",
    "print('线路对应酉矩阵为: ', unitary)\n",
    "\n",
    "# 测量并输出结果\n",
    "cir.measure()"
   ]
  },
  {
   "cell_type": "markdown",
   "metadata": {},
   "source": [
    "注意： 当初态和线路参数都为多batch输入时，线路会认为每组参数是一对一的，例如初态的第一组参数对应线路的第一组参数，因而batch数需要一致。"
   ]
  },
  {
   "cell_type": "code",
   "execution_count": 8,
   "metadata": {},
   "outputs": [
    {
     "name": "stdout",
     "output_type": "stream",
     "text": [
      "batch数为:  4\n",
      "初态shape为:  torch.Size([4, 2])\n",
      "线路参数shape为:  torch.Size([4, 1])\n",
      "线路对应酉矩阵为:  tensor([[[ 1.4611e-01+0.0000j,  4.3242e-08+0.9893j],\n",
      "         [-4.3242e-08+0.9893j,  1.4611e-01+0.0000j]],\n",
      "\n",
      "        [[ 1.3830e-01+0.0000j,  4.3291e-08+0.9904j],\n",
      "         [-4.3291e-08+0.9904j,  1.3830e-01+0.0000j]],\n",
      "\n",
      "        [[ 2.1601e-01+0.0000j, -4.2679e-08-0.9764j],\n",
      "         [ 4.2679e-08-0.9764j,  2.1601e-01+0.0000j]],\n",
      "\n",
      "        [[ 5.2687e-01+0.0000j, -3.7152e-08-0.8499j],\n",
      "         [ 3.7152e-08-0.8499j,  5.2687e-01+0.0000j]]])\n"
     ]
    },
    {
     "data": {
      "text/plain": [
       "[{|02>: 43, |11>: 940, |20>: 41},\n",
       " {|02>: 36, |11>: 954, |20>: 34},\n",
       " {|01>: 969, |10>: 55},\n",
       " {|10>: 289, |01>: 735}]"
      ]
     },
     "execution_count": 8,
     "metadata": {},
     "output_type": "execute_result"
    }
   ],
   "source": [
    "# 构建batch初态和线路参数\n",
    "batch_size = 4\n",
    "nmode = 2\n",
    "npara = 1\n",
    "batch_state = torch.randint(0, 2, (batch_size, nmode))\n",
    "batch_para = torch.randn(batch_size,npara)\n",
    "print('batch数为: ', batch_size)\n",
    "print('初态shape为: ',batch_state.shape)\n",
    "print('线路参数shape为: ',batch_para.shape)\n",
    "\n",
    "\n",
    "cir = dq.QumodeCircuit(nmode=nmode, init_state=batch_state)\n",
    "cir.bs_theta([0, 1], encode=True)\n",
    "\n",
    "unitary = cir(data = batch_para)\n",
    "print('线路对应酉矩阵为: ', unitary)\n",
    "\n",
    "# 测量并输出结果\n",
    "cir.measure()"
   ]
  },
  {
   "cell_type": "markdown",
   "metadata": {},
   "source": [
    "## 支持简单的噪声模拟（Gaussian noise）\n",
    "\n",
    "噪声模拟使用 ``QumodeCircuit(noise=True)`` , 这里默认所有参数的噪声都是高斯分布，平均值 ``mu`` 为0, 标准差 ``sigma`` 为0.1。\n",
    "\n",
    "支持自定义整条线路的全局噪声，"
   ]
  },
  {
   "cell_type": "code",
   "execution_count": 69,
   "metadata": {},
   "outputs": [
    {
     "name": "stdout",
     "output_type": "stream",
     "text": [
      "采样结果为： {|101>: (614, tensor(0.5932)), |011>: (410, tensor(0.4068))}\n"
     ]
    }
   ],
   "source": [
    "cir_n = dq.QumodeCircuit(nmode=3, init_state=[1,0,1], noise=True, mu=0.3, sigma=0.2)\n",
    "cir_n.ps(wires=0, encode=True) # 支持自定义mu和sigma的值，默认为0，0.1\n",
    "cir_n.ps(1, encode=True)\n",
    "cir_n.bs_theta([0,1], encode=True)\n",
    "\n",
    "# 定义线路参数，并前向演化保存末态\n",
    "para = torch.randn(3)\n",
    "final_state_n = cir_n(para, is_prob=False)\n",
    "\n",
    "print('采样结果为：', cir_n.measure(with_prob=True))"
   ]
  },
  {
   "cell_type": "markdown",
   "metadata": {},
   "source": [
    "也可以通过量子门的 ``mu`` 和 ``sigma``单独指定某些光学器件的噪声, 此时会覆盖全局定义的 ``mu`` 和 ``sigma``。"
   ]
  },
  {
   "cell_type": "code",
   "execution_count": 70,
   "metadata": {},
   "outputs": [
    {
     "name": "stdout",
     "output_type": "stream",
     "text": [
      "第一个ps门mu =  0.2 , sigma =  0\n",
      "第二个ps门mu =  0.3 , sigma =  0.2\n",
      "采样结果为： {|101>: (670, tensor(0.6398)), |011>: (354, tensor(0.3602))}\n"
     ]
    }
   ],
   "source": [
    "cir_n = dq.QumodeCircuit(nmode=3, init_state=[1,0,1], noise=True, mu=0.3, sigma=0.2)\n",
    "cir_n.ps(wires=0, encode=True, mu=0.2, sigma=0) # 支持自定义mu和sigma的值，默认为0，0.1\n",
    "cir_n.ps(1, encode=True)\n",
    "cir_n.bs_theta([0,1], encode=True, mu=0, sigma=0.3)\n",
    "\n",
    "print(f'第一个ps门mu = {cir_n.operators[0].mu}, sigma = {cir_n.operators[0].sigma}') # 覆盖全局mu，sigma\n",
    "print(f'第二个ps门mu = {cir_n.operators[1].mu}, sigma = {cir_n.operators[1].sigma}') # 全局mu, sigma\n",
    "\n",
    "# 定义线路参数，并前向演化保存末态\n",
    "para = torch.randn(3)\n",
    "final_state_n = cir_n(para, is_prob=False)\n",
    "\n",
    "print('采样结果为：', cir_n.measure(with_prob=True))"
   ]
  },
  {
   "cell_type": "markdown",
   "metadata": {},
   "source": [
    "与无噪声的情况进行比较，计算fidelity："
   ]
  },
  {
   "cell_type": "code",
   "execution_count": 72,
   "metadata": {},
   "outputs": [
    {
     "name": "stdout",
     "output_type": "stream",
     "text": [
      "采样结果为： {|101>: (579, tensor(0.5700)), |011>: (445, tensor(0.4300))}\n",
      "加入噪声后的fidelity为:  tensor([0.9949])\n"
     ]
    }
   ],
   "source": [
    "# 设置无噪声线路\n",
    "cir = dq.QumodeCircuit(nmode=3, init_state=[1,0,1])\n",
    "cir.ps(0, encode=True)\n",
    "cir.ps(1, encode=True)\n",
    "cir.bs_theta([0,1], encode=True)\n",
    "\n",
    "final_state = cir(para, is_prob=False)\n",
    "\n",
    "print('采样结果为：', cir.measure(with_prob=True))\n",
    "\n",
    "# 计算fidelity\n",
    "f = 0\n",
    "for key in final_state_n.keys():\n",
    "    f += final_state_n[key].conj()*final_state[key]\n",
    "fidelity = torch.abs(f)**2\n",
    "print('加入噪声后的fidelity为: ', fidelity)"
   ]
  },
  {
   "cell_type": "markdown",
   "metadata": {},
   "source": [
    "## 支持GPU计算\n",
    "\n"
   ]
  },
  {
   "cell_type": "markdown",
   "metadata": {},
   "source": [
    "由于DeepQuantum基于PyTorch框架，可以方便的进行GPU节点上的量子线路模拟。\n",
    "\n",
    "首先检查环境是否支持cuda。如果有NVIDIA的GPU但仍然返回 ``False`` ，常见的原因是未安装或未安装合适版本的 [CUDA](https://anaconda.org/nvidia/cuda) ，或安装的PyTorch为CPU-only版本。"
   ]
  },
  {
   "cell_type": "code",
   "execution_count": 12,
   "metadata": {},
   "outputs": [
    {
     "data": {
      "text/plain": [
       "True"
      ]
     },
     "execution_count": 12,
     "metadata": {},
     "output_type": "execute_result"
    }
   ],
   "source": [
    "torch.cuda.is_available()"
   ]
  },
  {
   "cell_type": "markdown",
   "metadata": {},
   "source": [
    "PyTorch中，``to('cuda')`` 的机制是把实例化的``QumodeCircuit``模组（即量子态的数据和量子门的参数）放到GPU上。\n",
    "\n",
    "如果对已经在GPU上的线路改变初态或量子门，需要重新 ``to``，或确保加入的数据参数已经在GPU上。"
   ]
  },
  {
   "cell_type": "code",
   "execution_count": 13,
   "metadata": {},
   "outputs": [
    {
     "name": "stdout",
     "output_type": "stream",
     "text": [
      "tensor([[ 1.4242],\n",
      "        [ 1.4321],\n",
      "        [-1.3531],\n",
      "        [-1.0159]], device='cuda:0')\n",
      "线路对应酉矩阵为:  tensor([[[ 1.4611e-01+0.0000j,  4.3242e-08+0.9893j],\n",
      "         [-4.3242e-08+0.9893j,  1.4611e-01+0.0000j]],\n",
      "\n",
      "        [[ 1.3830e-01+0.0000j,  4.3291e-08+0.9904j],\n",
      "         [-4.3291e-08+0.9904j,  1.3830e-01+0.0000j]],\n",
      "\n",
      "        [[ 2.1601e-01+0.0000j, -4.2679e-08-0.9764j],\n",
      "         [ 4.2679e-08-0.9764j,  2.1601e-01+0.0000j]],\n",
      "\n",
      "        [[ 5.2687e-01+0.0000j, -3.7152e-08-0.8499j],\n",
      "         [ 3.7152e-08-0.8499j,  5.2687e-01+0.0000j]]], device='cuda:0')\n"
     ]
    },
    {
     "data": {
      "text/plain": [
       "[{|02>: 980, |11>: 44},\n",
       " {|02>: 999, |11>: 25},\n",
       " {|02>: 939, |11>: 81, |20>: 4},\n",
       " {|02>: 526, |11>: 418, |20>: 80}]"
      ]
     },
     "execution_count": 13,
     "metadata": {},
     "output_type": "execute_result"
    }
   ],
   "source": [
    "# 如cuda可用， 设定device为cuda\n",
    "device = torch.device('cpu')\n",
    "if torch.cuda.is_available():\n",
    "    device = torch.device('cuda:0')\n",
    "\n",
    "cir = dq.QumodeCircuit(nmode=nmode, init_state=[2,0])\n",
    "cir.bs_theta([0, 1], encode=True)\n",
    "\n",
    "# 将线路转移到cuda上\n",
    "cir.to(device)\n",
    "\n",
    "# 因为前向时才加入线路参数，确保线路参数也存在cuda上\n",
    "batch_para = batch_para.to(device)\n",
    "print(batch_para)\n",
    "\n",
    "unitary = cir(data = batch_para)\n",
    "print('线路对应酉矩阵为: ', unitary)\n",
    "\n",
    "# 测量并输出结果\n",
    "cir.measure()"
   ]
  },
  {
   "cell_type": "markdown",
   "metadata": {},
   "source": [
    "## Clements 架构光量子线路"
   ]
  },
  {
   "cell_type": "markdown",
   "metadata": {},
   "source": [
    "内置了Clements模块可以模拟任意的酉矩阵，通过`dq.Clements`直接调用, \n",
    "`nmode` 表示总的波导数目，`init_state`设置初始输入，`cutoff` 表示对输出的结果做截断，`phi_first` 表示不同MZI的构造， `phi_first=True` 表示PS-BS-PS-BS 结构， `noise` 表示是否引入高斯噪声。\n",
    "下面是使用Clements 模块构建相同的CNOT光量子线路的例子。"
   ]
  },
  {
   "cell_type": "markdown",
   "metadata": {},
   "source": [
    "1. 构建6模Clements线路， 这里没有指定参数，所以生成的是随机参数。"
   ]
  },
  {
   "cell_type": "code",
   "execution_count": 31,
   "metadata": {},
   "outputs": [
    {
     "data": {
      "image/svg+xml": [
       "<svg baseProfile=\"full\" height=\"5.7272727272727275cm\" version=\"1.1\" width=\"20.1cm\" xmlns=\"http://www.w3.org/2000/svg\" xmlns:ev=\"http://www.w3.org/2001/xml-events\" xmlns:xlink=\"http://www.w3.org/1999/xlink\"><defs /><polyline fill=\"none\" points=\"40,30 60,30 90,60 130,60\" stroke=\"black\" stroke-width=\"2\" /><polyline fill=\"none\" points=\"40,60 60,60 90,30 130,30\" stroke=\"black\" stroke-width=\"2\" /><text font-size=\"9\" x=\"58\" y=\"25\">MZI-PT</text><text font-size=\"7\" x=\"85\" y=\"44\">θ =5.34</text><text font-size=\"7\" x=\"85\" y=\"50\">ϕ =3.948</text><polyline fill=\"none\" points=\"40,90 60,90 90,120 130,120\" stroke=\"black\" stroke-width=\"2\" /><polyline fill=\"none\" points=\"40,120 60,120 90,90 130,90\" stroke=\"black\" stroke-width=\"2\" /><text font-size=\"9\" x=\"58\" y=\"85\">MZI-PT</text><text font-size=\"7\" x=\"85\" y=\"104\">θ =5.015</text><text font-size=\"7\" x=\"85\" y=\"110\">ϕ =5.788</text><polyline fill=\"none\" points=\"40,150 60,150 90,180 130,180\" stroke=\"black\" stroke-width=\"2\" /><polyline fill=\"none\" points=\"40,180 60,180 90,150 130,150\" stroke=\"black\" stroke-width=\"2\" /><text font-size=\"9\" x=\"58\" y=\"145\">MZI-PT</text><text font-size=\"7\" x=\"85\" y=\"164\">θ =2.405</text><text font-size=\"7\" x=\"85\" y=\"170\">ϕ =3.79</text><polyline fill=\"none\" points=\"130,60 150,60 180,90 220,90\" stroke=\"black\" stroke-width=\"2\" /><polyline fill=\"none\" points=\"130,90 150,90 180,60 220,60\" stroke=\"black\" stroke-width=\"2\" /><text font-size=\"9\" x=\"148\" y=\"55\">MZI-PT</text><text font-size=\"7\" x=\"175\" y=\"74\">θ =4.851</text><text font-size=\"7\" x=\"175\" y=\"80\">ϕ =5.921</text><polyline fill=\"none\" points=\"130,120 150,120 180,150 220,150\" stroke=\"black\" stroke-width=\"2\" /><polyline fill=\"none\" points=\"130,150 150,150 180,120 220,120\" stroke=\"black\" stroke-width=\"2\" /><text font-size=\"9\" x=\"148\" y=\"115\">MZI-PT</text><text font-size=\"7\" x=\"175\" y=\"134\">θ =2.283</text><text font-size=\"7\" x=\"175\" y=\"140\">ϕ =6.253</text><polyline fill=\"none\" points=\"220,30 240,30 270,60 310,60\" stroke=\"black\" stroke-width=\"2\" /><polyline fill=\"none\" points=\"220,60 240,60 270,30 310,30\" stroke=\"black\" stroke-width=\"2\" /><text font-size=\"9\" x=\"238\" y=\"25\">MZI-PT</text><text font-size=\"7\" x=\"265\" y=\"44\">θ =1.54</text><text font-size=\"7\" x=\"265\" y=\"50\">ϕ =3.436</text><polyline fill=\"none\" points=\"220,90 240,90 270,120 310,120\" stroke=\"black\" stroke-width=\"2\" /><polyline fill=\"none\" points=\"220,120 240,120 270,90 310,90\" stroke=\"black\" stroke-width=\"2\" /><text font-size=\"9\" x=\"238\" y=\"85\">MZI-PT</text><text font-size=\"7\" x=\"265\" y=\"104\">θ =5.754</text><text font-size=\"7\" x=\"265\" y=\"110\">ϕ =4.725</text><polyline fill=\"none\" points=\"220,150 240,150 270,180 310,180\" stroke=\"black\" stroke-width=\"2\" /><polyline fill=\"none\" points=\"220,180 240,180 270,150 310,150\" stroke=\"black\" stroke-width=\"2\" /><text font-size=\"9\" x=\"238\" y=\"145\">MZI-PT</text><text font-size=\"7\" x=\"265\" y=\"164\">θ =3.977</text><text font-size=\"7\" x=\"265\" y=\"170\">ϕ =2.254</text><polyline fill=\"none\" points=\"310,60 330,60 360,90 400,90\" stroke=\"black\" stroke-width=\"2\" /><polyline fill=\"none\" points=\"310,90 330,90 360,60 400,60\" stroke=\"black\" stroke-width=\"2\" /><text font-size=\"9\" x=\"328\" y=\"55\">MZI-PT</text><text font-size=\"7\" x=\"355\" y=\"74\">θ =2.395</text><text font-size=\"7\" x=\"355\" y=\"80\">ϕ =1.416</text><polyline fill=\"none\" points=\"310,120 330,120 360,150 400,150\" stroke=\"black\" stroke-width=\"2\" /><polyline fill=\"none\" points=\"310,150 330,150 360,120 400,120\" stroke=\"black\" stroke-width=\"2\" /><text font-size=\"9\" x=\"328\" y=\"115\">MZI-PT</text><text font-size=\"7\" x=\"355\" y=\"134\">θ =0.935</text><text font-size=\"7\" x=\"355\" y=\"140\">ϕ =1.807</text><polyline fill=\"none\" points=\"400,30 420,30 450,60 490,60\" stroke=\"black\" stroke-width=\"2\" /><polyline fill=\"none\" points=\"400,60 420,60 450,30 490,30\" stroke=\"black\" stroke-width=\"2\" /><text font-size=\"9\" x=\"418\" y=\"25\">MZI-PT</text><text font-size=\"7\" x=\"445\" y=\"44\">θ =0.425</text><text font-size=\"7\" x=\"445\" y=\"50\">ϕ =0.938</text><polyline fill=\"none\" points=\"400,90 420,90 450,120 490,120\" stroke=\"black\" stroke-width=\"2\" /><polyline fill=\"none\" points=\"400,120 420,120 450,90 490,90\" stroke=\"black\" stroke-width=\"2\" /><text font-size=\"9\" x=\"418\" y=\"85\">MZI-PT</text><text font-size=\"7\" x=\"445\" y=\"104\">θ =1.251</text><text font-size=\"7\" x=\"445\" y=\"110\">ϕ =1.872</text><polyline fill=\"none\" points=\"400,150 420,150 450,180 490,180\" stroke=\"black\" stroke-width=\"2\" /><polyline fill=\"none\" points=\"400,180 420,180 450,150 490,150\" stroke=\"black\" stroke-width=\"2\" /><text font-size=\"9\" x=\"418\" y=\"145\">MZI-PT</text><text font-size=\"7\" x=\"445\" y=\"164\">θ =1.346</text><text font-size=\"7\" x=\"445\" y=\"170\">ϕ =5.091</text><polyline fill=\"none\" points=\"490,60 510,60 540,90 580,90\" stroke=\"black\" stroke-width=\"2\" /><polyline fill=\"none\" points=\"490,90 510,90 540,60 580,60\" stroke=\"black\" stroke-width=\"2\" /><text font-size=\"9\" x=\"508\" y=\"55\">MZI-PT</text><text font-size=\"7\" x=\"535\" y=\"74\">θ =5.467</text><text font-size=\"7\" x=\"535\" y=\"80\">ϕ =5.433</text><polyline fill=\"none\" points=\"490,120 510,120 540,150 580,150\" stroke=\"black\" stroke-width=\"2\" /><polyline fill=\"none\" points=\"490,150 510,150 540,120 580,120\" stroke=\"black\" stroke-width=\"2\" /><text font-size=\"9\" x=\"508\" y=\"115\">MZI-PT</text><text font-size=\"7\" x=\"535\" y=\"134\">θ =3.165</text><text font-size=\"7\" x=\"535\" y=\"140\">ϕ =2.534</text><polyline fill=\"none\" points=\"490,30 580,30\" stroke=\"black\" stroke-width=\"2\" /><rect fill=\"teal\" height=\"12\" rx=\"0\" ry=\"0\" stroke=\"black\" stroke-width=\"1.5\" width=\"6\" x=\"532.5\" y=\"25\" /><text font-size=\"9\" x=\"530\" y=\"20\">PS</text><text font-size=\"7\" x=\"545\" y=\"20\">θ =4.146</text><polyline fill=\"none\" points=\"580,60 670,60\" stroke=\"black\" stroke-width=\"2\" /><rect fill=\"teal\" height=\"12\" rx=\"0\" ry=\"0\" stroke=\"black\" stroke-width=\"1.5\" width=\"6\" x=\"622.5\" y=\"55\" /><text font-size=\"9\" x=\"620\" y=\"50\">PS</text><text font-size=\"7\" x=\"635\" y=\"50\">θ =4.289</text><polyline fill=\"none\" points=\"580,90 670,90\" stroke=\"black\" stroke-width=\"2\" /><rect fill=\"teal\" height=\"12\" rx=\"0\" ry=\"0\" stroke=\"black\" stroke-width=\"1.5\" width=\"6\" x=\"622.5\" y=\"85\" /><text font-size=\"9\" x=\"620\" y=\"80\">PS</text><text font-size=\"7\" x=\"635\" y=\"80\">θ =3.489</text><polyline fill=\"none\" points=\"580,120 670,120\" stroke=\"black\" stroke-width=\"2\" /><rect fill=\"teal\" height=\"12\" rx=\"0\" ry=\"0\" stroke=\"black\" stroke-width=\"1.5\" width=\"6\" x=\"622.5\" y=\"115\" /><text font-size=\"9\" x=\"620\" y=\"110\">PS</text><text font-size=\"7\" x=\"635\" y=\"110\">θ =2.673</text><polyline fill=\"none\" points=\"580,150 670,150\" stroke=\"black\" stroke-width=\"2\" /><rect fill=\"teal\" height=\"12\" rx=\"0\" ry=\"0\" stroke=\"black\" stroke-width=\"1.5\" width=\"6\" x=\"622.5\" y=\"145\" /><text font-size=\"9\" x=\"620\" y=\"140\">PS</text><text font-size=\"7\" x=\"635\" y=\"140\">θ =2.187</text><polyline fill=\"none\" points=\"490,180 580,180\" stroke=\"black\" stroke-width=\"2\" /><rect fill=\"teal\" height=\"12\" rx=\"0\" ry=\"0\" stroke=\"black\" stroke-width=\"1.5\" width=\"6\" x=\"532.5\" y=\"175\" /><text font-size=\"9\" x=\"530\" y=\"170\">PS</text><text font-size=\"7\" x=\"545\" y=\"170\">θ =2.872</text><polyline fill=\"none\" points=\"130,30 220,30\" stroke=\"black\" stroke-width=\"2\" /><polyline fill=\"none\" points=\"130,180 220,180\" stroke=\"black\" stroke-width=\"2\" /><polyline fill=\"none\" points=\"310,30 400,30\" stroke=\"black\" stroke-width=\"2\" /><polyline fill=\"none\" points=\"310,180 400,180\" stroke=\"black\" stroke-width=\"2\" /><polyline fill=\"none\" points=\"580,30 670,30\" stroke=\"black\" stroke-width=\"2\" /><polyline fill=\"none\" points=\"580,180 670,180\" stroke=\"black\" stroke-width=\"2\" /><text font-size=\"12\" x=\"25\" y=\"30\">0</text><text font-size=\"12\" x=\"25\" y=\"60\">1</text><text font-size=\"12\" x=\"25\" y=\"90\">2</text><text font-size=\"12\" x=\"25\" y=\"120\">3</text><text font-size=\"12\" x=\"25\" y=\"150\">4</text><text font-size=\"12\" x=\"25\" y=\"180\">5</text></svg>"
      ],
      "text/plain": [
       "<svgwrite.drawing.Drawing at 0x152c0f77f10>"
      ]
     },
     "execution_count": 31,
     "metadata": {},
     "output_type": "execute_result"
    }
   ],
   "source": [
    "clements = dq.Clements(nmode=6, init_state=[1,0,1,0,0,0], cutoff=3)\n",
    "clements.draw()"
   ]
  },
  {
   "cell_type": "markdown",
   "metadata": {},
   "source": [
    "2. 使用clements架构实现cnot门, 这里先将CNOT对应的光量子线路酉矩阵做分解映射成Clements参数， 然后再加载这些参数。"
   ]
  },
  {
   "cell_type": "code",
   "execution_count": 59,
   "metadata": {},
   "outputs": [
    {
     "data": {
      "image/svg+xml": [
       "<svg baseProfile=\"full\" height=\"5.7272727272727275cm\" version=\"1.1\" width=\"20.1cm\" xmlns=\"http://www.w3.org/2000/svg\" xmlns:ev=\"http://www.w3.org/2001/xml-events\" xmlns:xlink=\"http://www.w3.org/1999/xlink\"><defs /><polyline fill=\"none\" points=\"40,30 60,30 90,60 130,60\" stroke=\"black\" stroke-width=\"2\" /><polyline fill=\"none\" points=\"40,60 60,60 90,30 130,30\" stroke=\"black\" stroke-width=\"2\" /><text font-size=\"9\" x=\"58\" y=\"25\">MZI-PT</text><text font-size=\"7\" x=\"85\" y=\"44\">θ =3.142</text><text font-size=\"7\" x=\"85\" y=\"50\">ϕ =3.142</text><polyline fill=\"none\" points=\"40,90 60,90 90,120 130,120\" stroke=\"black\" stroke-width=\"2\" /><polyline fill=\"none\" points=\"40,120 60,120 90,90 130,90\" stroke=\"black\" stroke-width=\"2\" /><text font-size=\"9\" x=\"58\" y=\"85\">MZI-PT</text><text font-size=\"7\" x=\"85\" y=\"104\">θ =1.571</text><text font-size=\"7\" x=\"85\" y=\"110\">ϕ =3.142</text><polyline fill=\"none\" points=\"40,150 60,150 90,180 130,180\" stroke=\"black\" stroke-width=\"2\" /><polyline fill=\"none\" points=\"40,180 60,180 90,150 130,150\" stroke=\"black\" stroke-width=\"2\" /><text font-size=\"9\" x=\"58\" y=\"145\">MZI-PT</text><text font-size=\"7\" x=\"85\" y=\"164\">θ =2.587</text><text font-size=\"7\" x=\"85\" y=\"170\">ϕ =0.319</text><polyline fill=\"none\" points=\"130,60 150,60 180,90 220,90\" stroke=\"black\" stroke-width=\"2\" /><polyline fill=\"none\" points=\"130,90 150,90 180,60 220,60\" stroke=\"black\" stroke-width=\"2\" /><text font-size=\"9\" x=\"148\" y=\"55\">MZI-PT</text><text font-size=\"7\" x=\"175\" y=\"74\">θ =0.0</text><text font-size=\"7\" x=\"175\" y=\"80\">ϕ =6.079</text><polyline fill=\"none\" points=\"130,120 150,120 180,150 220,150\" stroke=\"black\" stroke-width=\"2\" /><polyline fill=\"none\" points=\"130,150 150,150 180,120 220,120\" stroke=\"black\" stroke-width=\"2\" /><text font-size=\"9\" x=\"148\" y=\"115\">MZI-PT</text><text font-size=\"7\" x=\"175\" y=\"134\">θ =1.194</text><text font-size=\"7\" x=\"175\" y=\"140\">ϕ =3.968</text><polyline fill=\"none\" points=\"220,30 240,30 270,60 310,60\" stroke=\"black\" stroke-width=\"2\" /><polyline fill=\"none\" points=\"220,60 240,60 270,30 310,30\" stroke=\"black\" stroke-width=\"2\" /><text font-size=\"9\" x=\"238\" y=\"25\">MZI-PT</text><text font-size=\"7\" x=\"265\" y=\"44\">θ =1.231</text><text font-size=\"7\" x=\"265\" y=\"50\">ϕ =0.785</text><polyline fill=\"none\" points=\"220,90 240,90 270,120 310,120\" stroke=\"black\" stroke-width=\"2\" /><polyline fill=\"none\" points=\"220,120 240,120 270,90 310,90\" stroke=\"black\" stroke-width=\"2\" /><text font-size=\"9\" x=\"238\" y=\"85\">MZI-PT</text><text font-size=\"7\" x=\"265\" y=\"104\">θ =0.317</text><text font-size=\"7\" x=\"265\" y=\"110\">ϕ =3.666</text><polyline fill=\"none\" points=\"220,150 240,150 270,180 310,180\" stroke=\"black\" stroke-width=\"2\" /><polyline fill=\"none\" points=\"220,180 240,180 270,150 310,150\" stroke=\"black\" stroke-width=\"2\" /><text font-size=\"9\" x=\"238\" y=\"145\">MZI-PT</text><text font-size=\"7\" x=\"265\" y=\"164\">θ =0.317</text><text font-size=\"7\" x=\"265\" y=\"170\">ϕ =4.115</text><polyline fill=\"none\" points=\"310,60 330,60 360,90 400,90\" stroke=\"black\" stroke-width=\"2\" /><polyline fill=\"none\" points=\"310,90 330,90 360,60 400,60\" stroke=\"black\" stroke-width=\"2\" /><text font-size=\"9\" x=\"328\" y=\"55\">MZI-PT</text><text font-size=\"7\" x=\"355\" y=\"74\">θ =1.532</text><text font-size=\"7\" x=\"355\" y=\"80\">ϕ =4.109</text><polyline fill=\"none\" points=\"310,120 330,120 360,150 400,150\" stroke=\"black\" stroke-width=\"2\" /><polyline fill=\"none\" points=\"310,150 330,150 360,120 400,120\" stroke=\"black\" stroke-width=\"2\" /><text font-size=\"9\" x=\"328\" y=\"115\">MZI-PT</text><text font-size=\"7\" x=\"355\" y=\"134\">θ =1.194</text><text font-size=\"7\" x=\"355\" y=\"140\">ϕ =0.974</text><polyline fill=\"none\" points=\"400,30 420,30 450,60 490,60\" stroke=\"black\" stroke-width=\"2\" /><polyline fill=\"none\" points=\"400,60 420,60 450,30 490,30\" stroke=\"black\" stroke-width=\"2\" /><text font-size=\"9\" x=\"418\" y=\"25\">MZI-PT</text><text font-size=\"7\" x=\"445\" y=\"44\">θ =3.142</text><text font-size=\"7\" x=\"445\" y=\"50\">ϕ =6.127</text><polyline fill=\"none\" points=\"400,90 420,90 450,120 490,120\" stroke=\"black\" stroke-width=\"2\" /><polyline fill=\"none\" points=\"400,120 420,120 450,90 490,90\" stroke=\"black\" stroke-width=\"2\" /><text font-size=\"9\" x=\"418\" y=\"85\">MZI-PT</text><text font-size=\"7\" x=\"445\" y=\"104\">θ =0.389</text><text font-size=\"7\" x=\"445\" y=\"110\">ϕ =3.946</text><polyline fill=\"none\" points=\"400,150 420,150 450,180 490,180\" stroke=\"black\" stroke-width=\"2\" /><polyline fill=\"none\" points=\"400,180 420,180 450,150 490,150\" stroke=\"black\" stroke-width=\"2\" /><text font-size=\"9\" x=\"418\" y=\"145\">MZI-PT</text><text font-size=\"7\" x=\"445\" y=\"164\">θ =0.0</text><text font-size=\"7\" x=\"445\" y=\"170\">ϕ =1.292</text><polyline fill=\"none\" points=\"490,60 510,60 540,90 580,90\" stroke=\"black\" stroke-width=\"2\" /><polyline fill=\"none\" points=\"490,90 510,90 540,60 580,60\" stroke=\"black\" stroke-width=\"2\" /><text font-size=\"9\" x=\"508\" y=\"55\">MZI-PT</text><text font-size=\"7\" x=\"535\" y=\"74\">θ =0.397</text><text font-size=\"7\" x=\"535\" y=\"80\">ϕ =2.57</text><polyline fill=\"none\" points=\"490,120 510,120 540,150 580,150\" stroke=\"black\" stroke-width=\"2\" /><polyline fill=\"none\" points=\"490,150 510,150 540,120 580,120\" stroke=\"black\" stroke-width=\"2\" /><text font-size=\"9\" x=\"508\" y=\"115\">MZI-PT</text><text font-size=\"7\" x=\"535\" y=\"134\">θ =3.142</text><text font-size=\"7\" x=\"535\" y=\"140\">ϕ =0.779</text><polyline fill=\"none\" points=\"490,30 580,30\" stroke=\"black\" stroke-width=\"2\" /><rect fill=\"teal\" height=\"12\" rx=\"0\" ry=\"0\" stroke=\"black\" stroke-width=\"1.5\" width=\"6\" x=\"532.5\" y=\"25\" /><text font-size=\"9\" x=\"530\" y=\"20\">PS</text><text font-size=\"7\" x=\"545\" y=\"20\">θ =0.326</text><polyline fill=\"none\" points=\"580,60 670,60\" stroke=\"black\" stroke-width=\"2\" /><rect fill=\"teal\" height=\"12\" rx=\"0\" ry=\"0\" stroke=\"black\" stroke-width=\"1.5\" width=\"6\" x=\"622.5\" y=\"55\" /><text font-size=\"9\" x=\"620\" y=\"50\">PS</text><text font-size=\"7\" x=\"635\" y=\"50\">θ =5.411</text><polyline fill=\"none\" points=\"580,90 670,90\" stroke=\"black\" stroke-width=\"2\" /><rect fill=\"teal\" height=\"12\" rx=\"0\" ry=\"0\" stroke=\"black\" stroke-width=\"1.5\" width=\"6\" x=\"622.5\" y=\"85\" /><text font-size=\"9\" x=\"620\" y=\"80\">PS</text><text font-size=\"7\" x=\"635\" y=\"80\">θ =5.093</text><polyline fill=\"none\" points=\"580,120 670,120\" stroke=\"black\" stroke-width=\"2\" /><rect fill=\"teal\" height=\"12\" rx=\"0\" ry=\"0\" stroke=\"black\" stroke-width=\"1.5\" width=\"6\" x=\"622.5\" y=\"115\" /><text font-size=\"9\" x=\"620\" y=\"110\">PS</text><text font-size=\"7\" x=\"635\" y=\"110\">θ =2.941</text><polyline fill=\"none\" points=\"580,150 670,150\" stroke=\"black\" stroke-width=\"2\" /><rect fill=\"teal\" height=\"12\" rx=\"0\" ry=\"0\" stroke=\"black\" stroke-width=\"1.5\" width=\"6\" x=\"622.5\" y=\"145\" /><text font-size=\"9\" x=\"620\" y=\"140\">PS</text><text font-size=\"7\" x=\"635\" y=\"140\">θ =6.083</text><polyline fill=\"none\" points=\"490,180 580,180\" stroke=\"black\" stroke-width=\"2\" /><rect fill=\"teal\" height=\"12\" rx=\"0\" ry=\"0\" stroke=\"black\" stroke-width=\"1.5\" width=\"6\" x=\"532.5\" y=\"175\" /><text font-size=\"9\" x=\"530\" y=\"170\">PS</text><text font-size=\"7\" x=\"545\" y=\"170\">θ =6.083</text><polyline fill=\"none\" points=\"130,30 220,30\" stroke=\"black\" stroke-width=\"2\" /><polyline fill=\"none\" points=\"130,180 220,180\" stroke=\"black\" stroke-width=\"2\" /><polyline fill=\"none\" points=\"310,30 400,30\" stroke=\"black\" stroke-width=\"2\" /><polyline fill=\"none\" points=\"310,180 400,180\" stroke=\"black\" stroke-width=\"2\" /><polyline fill=\"none\" points=\"580,30 670,30\" stroke=\"black\" stroke-width=\"2\" /><polyline fill=\"none\" points=\"580,180 670,180\" stroke=\"black\" stroke-width=\"2\" /><text font-size=\"12\" x=\"25\" y=\"30\">0</text><text font-size=\"12\" x=\"25\" y=\"60\">1</text><text font-size=\"12\" x=\"25\" y=\"90\">2</text><text font-size=\"12\" x=\"25\" y=\"120\">3</text><text font-size=\"12\" x=\"25\" y=\"150\">4</text><text font-size=\"12\" x=\"25\" y=\"180\">5</text></svg>"
      ],
      "text/plain": [
       "<svgwrite.drawing.Drawing at 0x23cc3b4a0e0>"
      ]
     },
     "execution_count": 59,
     "metadata": {},
     "output_type": "execute_result"
    }
   ],
   "source": [
    "# 使用clements架构实现cnot门\n",
    "u6x6 = np.array([[1, 0, 1, -1, 0, 0],\n",
    "                 [0, 1, 0 ,0,  0, np.sqrt(2)],\n",
    "                 [1,  0, 0, 1, 1, 0],\n",
    "                 [-1, 0, 1, 0, 1, 0],\n",
    "                 [0,  0, 1, 1, -1,0],\n",
    "                 [0, np.sqrt(2), 0,0,0,-1]])/np.sqrt(3)\n",
    "# 将酉矩阵分解成clements对应的参数\n",
    "ud = dq.UnitaryDecomposer(u6x6)\n",
    "mzi_info = ud.decomp()\n",
    "# 构造clements线路实现cnot门\n",
    "data = clements.dict2data(mzi_info[2]) # encoding the 6x6 data\n",
    "clements(data = data)\n",
    "#线路可视化\n",
    "clements.draw()"
   ]
  },
  {
   "cell_type": "markdown",
   "metadata": {},
   "source": [
    "3. 通过clements.get_unitary()来验证是否正确"
   ]
  },
  {
   "cell_type": "code",
   "execution_count": 33,
   "metadata": {},
   "outputs": [
    {
     "data": {
      "text/plain": [
       "tensor(0.0007, dtype=torch.float64)"
      ]
     },
     "execution_count": 33,
     "metadata": {},
     "output_type": "execute_result"
    }
   ],
   "source": [
    "abs(clements.get_unitary() - u6x6).sum()"
   ]
  },
  {
   "cell_type": "markdown",
   "metadata": {},
   "source": [
    "## 支持MPS计算\n",
    "\n",
    "当内存成为模拟大规模量子线路瓶颈时，可以采用 MPS（Matrix Product State）功能。MPS模拟基于张量网络，通过局部的矩阵运算而不是全局矩阵的方式减少内存占用，输出末态的近似值。\n",
    "\n",
    "在DeepQuantum光量子模块中，使用MPS模拟需要打开``QumodeCircuit(mps=True)``和``basis=False``开关，并自定义``chi``和``cutoff``。``chi``是mps中bond dimension，表示局部矩阵的大小，$\\chi$ 越大精度越高；``cutoff``表示每模的光子数截断。\n",
    "\n",
    "复用上文的Clements架构中构造的数据进行演示："
   ]
  },
  {
   "cell_type": "code",
   "execution_count": 73,
   "metadata": {},
   "outputs": [
    {
     "name": "stdout",
     "output_type": "stream",
     "text": [
      "torch.Size([4, 4, 4, 4, 4, 4])\n"
     ]
    }
   ],
   "source": [
    "# 打开mps, chi设为5\n",
    "cir = dq.QumodeCircuit(6, init_state=[0,1,1,1,0,0], basis=False,mps=True,chi=5,cutoff=4)\n",
    "clements = dq.Clements(nmode=6, init_state=[0,1,1,1,0,0])\n",
    "\n",
    "# 将clements ansatz合并进线路\n",
    "cir += clements\n",
    "\n",
    "# 得到Fock state tensor形式的末态\n",
    "final_state_tensor = cir(data=data)\n",
    "\n",
    "#转换成Fock state vector,方便比较\n",
    "final_state_mps = dq.MatrixProductState(6,state=final_state_tensor,chi=cir.chi, qudit=cir.cutoff,normalize=cir.init_state.normalize).full_tensor().reshape([4]*6)\n",
    "print(final_state_mps.shape)"
   ]
  },
  {
   "cell_type": "markdown",
   "metadata": {},
   "source": [
    "与不打开mps时精确结果进行比较："
   ]
  },
  {
   "cell_type": "code",
   "execution_count": 63,
   "metadata": {},
   "outputs": [
    {
     "name": "stdout",
     "output_type": "stream",
     "text": [
      "使用mps功能,chi=5时fidelity为:  tensor([0.6134])\n"
     ]
    }
   ],
   "source": [
    "cir_precise = dq.QumodeCircuit(6, init_state=[0,1,1,1,0,0])\n",
    "cir_precise += clements\n",
    "\n",
    "precise_dict = cir_precise(data=data,is_prob=False)\n",
    "\n",
    "# 计算fidelity\n",
    "f = 0\n",
    "\n",
    "for key in precise_dict.keys():\n",
    "    f += final_state_mps[list(key.state)].conj()*precise_dict[key]\n",
    "fidelity = torch.abs(f)**2\n",
    "print('使用mps功能,chi=5时fidelity为: ', fidelity)"
   ]
  },
  {
   "cell_type": "markdown",
   "metadata": {},
   "source": [
    "若要提高精度，考虑增大``chi``的取值："
   ]
  },
  {
   "cell_type": "code",
   "execution_count": 67,
   "metadata": {},
   "outputs": [
    {
     "name": "stdout",
     "output_type": "stream",
     "text": [
      "使用mps功能,chi=7时fidelity为:  tensor([0.9719])\n"
     ]
    }
   ],
   "source": [
    "# 打开mps, chi设为7\n",
    "cir = dq.QumodeCircuit(6, init_state=[0,1,1,1,0,0], basis=False,mps=True,chi=7,cutoff=4)\n",
    "cir += clements\n",
    "\n",
    "# 得到Fock state tensor形式的末态\n",
    "final_state_tensor = cir(data=data)\n",
    "\n",
    "#转换成Fock state vector,方便比较\n",
    "final_state_mps = dq.MatrixProductState(6,state=final_state_tensor,chi=cir.chi, qudit=cir.cutoff,normalize=cir.init_state.normalize).full_tensor().reshape([4]*6)\n",
    "\n",
    "# 计算fidelity\n",
    "f = 0\n",
    "for key in precise_dict.keys():\n",
    "    f += final_state_mps[list(key.state)].conj()*precise_dict[key]\n",
    "fidelity = torch.abs(f)**2\n",
    "print('使用mps功能,chi=7时fidelity为: ', fidelity)"
   ]
  },
  {
   "cell_type": "markdown",
   "metadata": {},
   "source": [
    "# 基于高斯后端构建光量子线路"
   ]
  },
  {
   "cell_type": "markdown",
   "metadata": {},
   "source": [
    "##  构建连续变量光量子线路"
   ]
  },
  {
   "cell_type": "markdown",
   "metadata": {},
   "source": [
    "基于高斯后端的光量子线路演化的量子态是高斯态，高斯态的概念来源于连续变量光量子计算，它对应的wigner函数为多元高斯分布，比如相干态。\\\n",
    "这里用一对正交分量X，P的协方差矩阵和平均值来刻画连续变量中的量子态，协方差矩阵描述的正交分量X，P的顺序有两种，XXPP和XPXP，这里采用XXPP顺序，通过简单的矩阵行列交换可以实现两者之间的变换。真空态对应的协方差矩阵为单位阵($cov=\\frac{\\hbar}{4\\kappa^2}I=I$，这里我们取$\\hbar=2，\\kappa=\\frac{\\sqrt{2}}{2}$)，对应的平均值都为0。\\\n",
    "通过Homodyne测量，设定测量角度为0或$\\pi/2$得到的物理量是正交分量X或P的值，它们对应的分布满足边缘分布。"
   ]
  },
  {
   "cell_type": "markdown",
   "metadata": {},
   "source": [
    "通过`dqp.set_hbar` 和`dqp.set_kappa`可以设置$\\hbar$和$\\kappa$的值"
   ]
  },
  {
   "cell_type": "code",
   "execution_count": 22,
   "metadata": {
    "ExecuteTime": {
     "end_time": "2024-11-08T10:10:00.869492Z",
     "start_time": "2024-11-08T10:10:00.851551Z"
    }
   },
   "outputs": [
    {
     "name": "stdout",
     "output_type": "stream",
     "text": [
      "1 0.7071067811865476\n"
     ]
    }
   ],
   "source": [
    "dqp.set_hbar(hbar=1)\n",
    "dqp.set_kappa(kappa=np.sqrt(2)/2)\n",
    "print(dqp.hbar, dqp.kappa)\n",
    "dqp.set_hbar(hbar=2) # 重新设置回原来值\n",
    "dqp.set_kappa(kappa=np.sqrt(2)/2)"
   ]
  },
  {
   "cell_type": "markdown",
   "metadata": {},
   "source": [
    "1. `GaussianState` 的使用\n",
    "\n",
    "`GaussianState` 作为高斯后端的一个类用来描述高斯态，它的`state`参数可以有两种输入，`'vac'`对应着真空高斯态，[cov, mean] 对应自定义的高斯态。\n",
    "`nmode` 参数对应着高斯态的模式数，它应该和输入的`state`维度匹配。`cutoff` 参数对应着截断数。通过`GaussianState.cov`、`GaussianState.mean`可以得到对应的协方差和平均值信息。"
   ]
  },
  {
   "cell_type": "code",
   "execution_count": 3,
   "metadata": {},
   "outputs": [
    {
     "name": "stdout",
     "output_type": "stream",
     "text": [
      "state_1_cov_mean tensor([[[1., 0., 0., 0.],\n",
      "         [0., 1., 0., 0.],\n",
      "         [0., 0., 1., 0.],\n",
      "         [0., 0., 0., 1.]]]) tensor([[[0.],\n",
      "         [0.],\n",
      "         [0.],\n",
      "         [0.]]])\n",
      "state_2_cov_mean tensor([[[1., 0., 0., 0.],\n",
      "         [0., 1., 0., 0.],\n",
      "         [0., 0., 1., 0.],\n",
      "         [0., 0., 0., 1.]]]) tensor([[[0],\n",
      "         [0],\n",
      "         [0],\n",
      "         [0]]])\n"
     ]
    }
   ],
   "source": [
    "gaussian_state_1 = dq.GaussianState(state='vac', nmode=2, cutoff=3)\n",
    "gaussian_state_2 = dq.GaussianState(state=[torch.eye(4), torch.tensor([0]*4)], nmode=2, cutoff=3)\n",
    "print('state_1_cov_mean', gaussian_state_1.cov, gaussian_state_1.mean)\n",
    "print('state_2_cov_mean', gaussian_state_2.cov, gaussian_state_2.mean)"
   ]
  },
  {
   "cell_type": "markdown",
   "metadata": {},
   "source": [
    "2. 高斯门的介绍\n",
    "\n",
    "高斯线路中除了可加入之前的PS，BS等基础门，还有一些高斯门加入包括单模压缩门s，位移门d(包括x方向位移门和p方向位移门)，旋转门r，双模压缩门s2，它们对应的酉矩阵以及辛矩阵变换如下。\n",
    "- s：单模压缩门，\n",
    "对应的酉算符表示如下\n",
    "$$S(z) = \\exp[\\frac{1}{2}(z^* \\hat{a}^2-z{\\hat{a}^\\dagger}^2)]$$ \n",
    "$$z=re^{i\\theta}$$\n",
    "作用在正交算符$\\hat{x}$和$\\hat{p}$上的辛变换如下\n",
    "$$S^{\\dagger}(z)\n",
    "\\begin{pmatrix}\n",
    "\\hat{x} \\\\\n",
    "\\hat{p}\n",
    "\\end{pmatrix}\n",
    "S(z) = S(r,\\theta)\n",
    "\\begin{pmatrix}\n",
    "\\hat{x} \\\\\n",
    "\\hat{p}\n",
    "\\end{pmatrix}$$\n",
    "$$S(r, \\theta) = \n",
    "\\begin{pmatrix}\n",
    "\\cosh r-\\sinh r\\cos \\theta &-\\sinh r\\sin  \\theta\\\\\n",
    "-\\sinh r\\sin \\theta & \n",
    "\\cosh r+\\sinh r\\cos \\theta\n",
    "\\end{pmatrix}$$\n",
    "\n",
    "- d：位移门，\n",
    "对应的酉算符表示如下\n",
    "$$D(\\alpha) = \\exp(\\alpha \\hat{a}^\\dagger-\\alpha^*\\hat{a})$$ \n",
    "$$\\alpha=re^{i\\theta}$$\n",
    "作用在正交算符$\\hat{x}$和$\\hat{p}$上的辛变换如下\n",
    "$$D^\\dagger(\\alpha)\n",
    "\\begin{pmatrix}\n",
    "\\hat{x}\\\\\n",
    "\\hat{p}\n",
    "\\end{pmatrix}\n",
    "D(\\alpha) = \n",
    "\\begin{pmatrix}\n",
    "\\hat{x}\\\\\n",
    "\\hat{p}\n",
    "\\end{pmatrix}+\n",
    "\\frac{\\sqrt{\\hbar}}{\\kappa}\n",
    "\\begin{pmatrix}\n",
    "r\\cos\\theta\\\\\n",
    "r\\sin\\theta\n",
    "\\end{pmatrix}$$\n",
    "\n",
    "- r：旋转门， \n",
    "对应的酉算符表示如下\n",
    "$$R(\\theta) = \\exp(i\\theta \\hat{a}^\\dagger \\hat{a})$$\n",
    "作用在正交算符$\\hat{x}$和$\\hat{p}$上的辛变换如下\n",
    "$$R^\\dagger(\\theta)\n",
    "\\begin{pmatrix}\n",
    "\\hat{x}\\\\\n",
    "\\hat{p}\n",
    "\\end{pmatrix}\n",
    "R(\\theta) = S(\\theta)\n",
    "\\begin{pmatrix}\n",
    "\\hat{x}\\\\\n",
    "\\hat{p}\n",
    "\\end{pmatrix}$$\n",
    "$$S(\\theta) = \\begin{pmatrix}\n",
    "\\cos\\theta & -\\sin\\theta\\\\\n",
    "\\sin\\theta & \\cos\\theta\n",
    "\\end{pmatrix}$$\n",
    "\n",
    "- s2：双模压缩门， \n",
    "对应的酉算符表示如下\n",
    "$$S_2(z) = \\exp(z\\hat{a}_1^\\dagger\\hat{a}_2^\\dagger-z^*\\hat{a}_1\\hat{a}_2)$$ \n",
    "$$z=re^{i\\theta}$$\n",
    "作用在正交算符$\\hat{x}$和$\\hat{p}$上的辛变换如下\n",
    "$$\n",
    "S_2^{\\dagger}(r, \\theta)\n",
    "\\begin{pmatrix}\n",
    "    \\hat{x}_1 \\\\\n",
    "    \\hat{x}_2 \\\\\n",
    "    \\hat{p}_1 \\\\\n",
    "    \\hat{p}_2 \\\\\n",
    "\\end{pmatrix}\n",
    "S_2(r, \\theta)\n",
    "=\n",
    "S_2(r, \\theta)\n",
    "\\begin{pmatrix}\n",
    "    \\hat{x}_1 \\\\\n",
    "    \\hat{x}_2 \\\\\n",
    "    \\hat{p}_1 \\\\\n",
    "    \\hat{p}_2 \\\\\n",
    "\\end{pmatrix}\n",
    "$$\n",
    "$$\n",
    "S_2(r, \\theta) =\n",
    "\\begin{pmatrix}\n",
    "    \\cosh r & \\cos\\theta\\sinh r & 0 & \\sin\\theta\\sinh r  \\\\\n",
    "    \\cos\\theta\\sinh r & \\cosh r & \\sin\\theta\\sinh r & 0  \\\\\n",
    "    0 & \\sin\\theta\\sinh r & \\cosh r & -\\cos\\theta\\sinh r \\\\\n",
    "    \\sin\\theta\\sinh r & 0 & -\\cos\\theta\\sinh r & \\cosh r \\\\\n",
    "\\end{pmatrix}\n",
    "$$\n",
    "对于Fock线路中的一般量子门，在高斯线路中作用在正交算符$\\hat{x}$和$\\hat{p}$上的辛变换如下\n",
    "$$S(\\theta, \\phi) = \\begin{pmatrix}\n",
    "\\mathrm{Re}(U) & -\\mathrm{Im}(U)\\\\\n",
    "\\mathrm{Im}(U) & \\mathrm{Re}(U)\n",
    "\\end{pmatrix}$$\n",
    "其中$U$表示作用在生成算符$\\hat{a}^\\dagger$上的等效线性变换"
   ]
  },
  {
   "cell_type": "markdown",
   "metadata": {},
   "source": [
    "`cir.s`，`cir.s2`中`wires`参数表示作用的波导，`r`参数表示压缩的振幅，`theta`参数表示压缩的角度\\\n",
    "`cir.d`中`wires`参数表示作用的波导，`r`参数表示位移的振幅，`theta`参数表示位移的角度\\\n",
    "`cir.r`中`wires`参数表示作用的波导，`inputs`参数表示旋转的角度"
   ]
  },
  {
   "cell_type": "code",
   "execution_count": 15,
   "metadata": {},
   "outputs": [
    {
     "data": {
      "image/svg+xml": [
       "<svg baseProfile=\"full\" height=\"1.9090909090909092cm\" version=\"1.1\" width=\"14.7cm\" xmlns=\"http://www.w3.org/2000/svg\" xmlns:ev=\"http://www.w3.org/2001/xml-events\" xmlns:xlink=\"http://www.w3.org/1999/xlink\"><defs /><polyline fill=\"none\" points=\"40,30 130,30\" stroke=\"black\" stroke-width=\"2\" /><rect fill=\"royalblue\" height=\"12\" rx=\"0\" ry=\"0\" stroke=\"black\" stroke-width=\"1.5\" width=\"10\" x=\"82.5\" y=\"25\" /><text font-size=\"9\" x=\"83\" y=\"20\">S</text><text font-size=\"7\" x=\"95\" y=\"18\">r =1.0</text><text font-size=\"7\" x=\"95\" y=\"24\">θ =0.0</text><polyline fill=\"none\" points=\"40,60 130,60\" stroke=\"black\" stroke-width=\"2\" /><rect fill=\"royalblue\" height=\"12\" rx=\"0\" ry=\"0\" stroke=\"black\" stroke-width=\"1.5\" width=\"10\" x=\"82.5\" y=\"55\" /><text font-size=\"9\" x=\"83\" y=\"50\">S</text><text font-size=\"7\" x=\"95\" y=\"48\">r =1.0</text><text font-size=\"7\" x=\"95\" y=\"54\">θ =0.0</text><polyline fill=\"none\" points=\"130,30 220,30\" stroke=\"black\" stroke-width=\"2\" /><rect fill=\"teal\" height=\"12\" rx=\"0\" ry=\"0\" stroke=\"black\" stroke-width=\"1.5\" width=\"6\" x=\"172.5\" y=\"25\" /><text font-size=\"9\" x=\"170\" y=\"20\">PS</text><text font-size=\"7\" x=\"185\" y=\"20\">θ =0.0</text><polyline fill=\"none\" points=\"130,60 220,60\" stroke=\"black\" stroke-width=\"2\" /><rect fill=\"teal\" height=\"12\" rx=\"0\" ry=\"0\" stroke=\"black\" stroke-width=\"1.5\" width=\"6\" x=\"172.5\" y=\"55\" /><text font-size=\"9\" x=\"170\" y=\"50\">PS</text><text font-size=\"7\" x=\"185\" y=\"50\">θ =0.0</text><polyline fill=\"none\" points=\"220,30 310,30\" stroke=\"black\" stroke-width=\"2\" /><polyline fill=\"none\" points=\"220,60 310,60\" stroke=\"black\" stroke-width=\"2\" /><rect fill=\"royalblue\" height=\"39\" rx=\"0\" ry=\"0\" stroke=\"black\" stroke-width=\"1.5\" width=\"10\" x=\"262.5\" y=\"25\" /><text font-size=\"9\" x=\"260\" y=\"20\">S2</text><text font-size=\"7\" x=\"275\" y=\"18\">r =0.261</text><text font-size=\"7\" x=\"275\" y=\"24\">θ =0.0</text><polyline fill=\"none\" points=\"310,30 400,30\" stroke=\"black\" stroke-width=\"2\" /><rect fill=\"green\" height=\"12\" rx=\"0\" ry=\"0\" stroke=\"black\" stroke-width=\"1.5\" width=\"10\" x=\"352.5\" y=\"25\" /><text font-size=\"9\" x=\"353\" y=\"20\">D</text><text font-size=\"7\" x=\"365\" y=\"18\">r =1.0</text><text font-size=\"7\" x=\"365\" y=\"24\">θ =0.0</text><polyline fill=\"none\" points=\"310,60 400,60\" stroke=\"black\" stroke-width=\"2\" /><rect fill=\"green\" height=\"12\" rx=\"0\" ry=\"0\" stroke=\"black\" stroke-width=\"1.5\" width=\"10\" x=\"352.5\" y=\"55\" /><text font-size=\"9\" x=\"353\" y=\"50\">D</text><text font-size=\"7\" x=\"365\" y=\"48\">r =1.0</text><text font-size=\"7\" x=\"365\" y=\"54\">θ =0.0</text><polyline fill=\"none\" points=\"400,30 420,30 450,60 490,60\" stroke=\"black\" stroke-width=\"2\" /><polyline fill=\"none\" points=\"400,60 420,60 450,30 490,30\" stroke=\"black\" stroke-width=\"2\" /><text font-size=\"9\" x=\"430\" y=\"25\">BS</text><text font-size=\"7\" x=\"445\" y=\"44\">θ =0.785</text><text font-size=\"7\" x=\"445\" y=\"50\">ϕ =0.785</text><text font-size=\"12\" x=\"25\" y=\"30\">0</text><text font-size=\"12\" x=\"25\" y=\"60\">1</text></svg>"
      ],
      "text/plain": [
       "<svgwrite.drawing.Drawing at 0x21064d5fd00>"
      ]
     },
     "execution_count": 15,
     "metadata": {},
     "output_type": "execute_result"
    }
   ],
   "source": [
    "cir = dq.QumodeCircuit(nmode=2, init_state='vac', cutoff=3, backend='gaussian')\n",
    "cir.s(wires=0, r=1, theta=0)\n",
    "cir.s(wires=1, r=1, theta=0)\n",
    "cir.r(0, inputs=0)\n",
    "cir.r(1, inputs=0)\n",
    "cir.s2([0,1],theta=0)\n",
    "cir.d(wires=0, r=1, theta=0)\n",
    "cir.d(wires=1, r=1, theta=0)\n",
    "cir.bs(wires=[0,1], inputs=[np.pi/4,np.pi/4])\n",
    "cir.draw()"
   ]
  },
  {
   "cell_type": "markdown",
   "metadata": {},
   "source": [
    "`cir.get_symplectic()`可以得到线路对应的辛矩阵变换"
   ]
  },
  {
   "cell_type": "code",
   "execution_count": 16,
   "metadata": {},
   "outputs": [
    {
     "data": {
      "text/plain": [
       "tensor([[ 0.2205, -0.1216,  0.3588, -1.4057],\n",
       "        [ 0.2589,  0.3176, -1.4057,  0.3588],\n",
       "        [ 0.0486,  0.1902,  2.3468, -1.9132],\n",
       "        [ 0.1902,  0.0486,  0.8982,  1.6291]])"
      ]
     },
     "execution_count": 16,
     "metadata": {},
     "output_type": "execute_result"
    }
   ],
   "source": [
    "cir.get_symplectic()"
   ]
  },
  {
   "cell_type": "markdown",
   "metadata": {},
   "source": [
    "`cir.operators` 保存了所有的量子门操作，通过`.get_symplectic`和`.get_displacement`可以得到对应量子门的辛矩阵变换和位移变换。"
   ]
  },
  {
   "cell_type": "code",
   "execution_count": 17,
   "metadata": {},
   "outputs": [
    {
     "data": {
      "text/plain": [
       "(tensor([[0.3679, 0.0000, -0.0000, 0.0000],\n",
       "         [0.0000, 1.0000, 0.0000, 0.0000],\n",
       "         [-0.0000, 0.0000, 2.7183, 0.0000],\n",
       "         [0.0000, 0.0000, 0.0000, 1.0000]]),\n",
       " tensor([[0.],\n",
       "         [0.],\n",
       "         [0.],\n",
       "         [0.]]))"
      ]
     },
     "execution_count": 17,
     "metadata": {},
     "output_type": "execute_result"
    }
   ],
   "source": [
    "cir.operators[0].get_symplectic(), cir.operators[0].get_displacement()"
   ]
  },
  {
   "cell_type": "markdown",
   "metadata": {},
   "source": [
    "3. 简单线路的构建和演化\n",
    "\n",
    "这里构建2模线路，初始量子态为真空高斯态，经过3种高斯门演化之后得到另一个高斯态。S 表示单模真空压缩门，D表示位移门，BS是可调分束器。通过设置`backend='gaussian'`可以进行高斯后端的演化得到协方差矩阵和平均值。"
   ]
  },
  {
   "cell_type": "code",
   "execution_count": 7,
   "metadata": {},
   "outputs": [
    {
     "name": "stdout",
     "output_type": "stream",
     "text": [
      "[tensor([[[ 1.9488,  0.0000,  1.8134, -2.5646],\n",
      "         [ 0.0000,  1.9488, -2.5646, -1.8134],\n",
      "         [ 1.8134, -2.5646,  5.5756,  0.0000],\n",
      "         [-2.5646, -1.8134,  0.0000,  5.5756]]]), tensor([[[0.4142],\n",
      "         [2.4142],\n",
      "         [1.0000],\n",
      "         [1.0000]]])]\n"
     ]
    }
   ],
   "source": [
    "cir = dq.QumodeCircuit(nmode=2, init_state='vac', cutoff=3, backend='gaussian')\n",
    "cir.s(wires=0, r=1)\n",
    "cir.s(wires=1, r=1)\n",
    "cir.d(wires=0, r=1)\n",
    "cir.d(wires=1, r=1)\n",
    "cir.bs(wires=[0,1], inputs=[np.pi/4,np.pi/4])\n",
    "state = cir() # 线路演化后得到的高斯态用协方差矩阵和平均值刻画\n",
    "print(state)"
   ]
  },
  {
   "cell_type": "markdown",
   "metadata": {},
   "source": [
    "`cir.measure_homodyne` 对指定线路的正交分量进行测量，`shots`对应测量次数，`wires` 表示指定线路"
   ]
  },
  {
   "cell_type": "code",
   "execution_count": 8,
   "metadata": {},
   "outputs": [
    {
     "data": {
      "text/plain": [
       "torch.Size([1024, 4])"
      ]
     },
     "execution_count": 8,
     "metadata": {},
     "output_type": "execute_result"
    }
   ],
   "source": [
    "measure_re = cir.measure_homodyne(shots = 1024, wires=[0,1]) #对正交分量进行测量， 这里的每个模对应一组正交分量X，P。\n",
    "measure_re.shape"
   ]
  },
  {
   "cell_type": "markdown",
   "metadata": {},
   "source": [
    "同时还可以计算每个线路的平均光子数和光子数方差"
   ]
  },
  {
   "cell_type": "code",
   "execution_count": 9,
   "metadata": {},
   "outputs": [
    {
     "data": {
      "text/plain": [
       "(tensor([1.6740, 3.0882]), tensor([6.7859, 6.9773]))"
      ]
     },
     "execution_count": 9,
     "metadata": {},
     "output_type": "execute_result"
    }
   ],
   "source": [
    "photon_mean, photon_var = cir.photon_number_mean_var()\n",
    "photon_mean, photon_var"
   ]
  },
  {
   "cell_type": "markdown",
   "metadata": {},
   "source": [
    "通过设置 `is_prob=True` 参数可以得到对应的Fock态概率分布，`detector='pnrd'` 表示使用粒子数分辨探测器，`detector='threshold'` 表示使用阈值探测器。"
   ]
  },
  {
   "cell_type": "code",
   "execution_count": 10,
   "metadata": {},
   "outputs": [
    {
     "name": "stdout",
     "output_type": "stream",
     "text": [
      "{|00>: tensor([0.0124]), |01>: tensor([0.4477]), |10>: tensor([0.0930]), |11>: tensor([0.4469])}\n"
     ]
    }
   ],
   "source": [
    "state = cir(is_prob=True, detector='threshold') # 线路演化后得到的高斯态用协方差矩阵和平均值刻画\n",
    "print(state)"
   ]
  },
  {
   "cell_type": "markdown",
   "metadata": {},
   "source": [
    "## 高斯玻色采样(GBS)"
   ]
  },
  {
   "cell_type": "markdown",
   "metadata": {},
   "source": [
    "基于压缩门和线性光学器件可以构建高斯玻色采样线路，通过`dq.GaussianBosonSampling`可以使用高斯玻色采样模拟，`nmode`表示GBS线路的模数，`squeezing`表示第一列单模压缩门的压缩度，`cutoff`表示每条线路探测到的最大光子数+1，`'pnrd'`表示单光子分辨探测器，默认设为`'pnrd'`，`'threshold'`表示阈值探测器，`noise` 表示是否加入高斯噪声。然后正常运行高斯玻色采样线路采样即可。"
   ]
  },
  {
   "cell_type": "code",
   "execution_count": 12,
   "metadata": {
    "ExecuteTime": {
     "end_time": "2024-11-11T01:47:48.526552Z",
     "start_time": "2024-11-11T01:47:47.412805Z"
    }
   },
   "outputs": [
    {
     "name": "stderr",
     "output_type": "stream",
     "text": [
      "chain 1: 100%|\u001b[32m█████████████████████████████████\u001b[0m| 19/19 [00:00<00:00, 202.39it/s]\u001b[0m\n",
      "chain 2: 100%|\u001b[32m█████████████████████████████████\u001b[0m| 19/19 [00:00<00:00, 209.27it/s]\u001b[0m\n",
      "chain 3: 100%|\u001b[32m█████████████████████████████████\u001b[0m| 19/19 [00:00<00:00, 250.46it/s]\u001b[0m\n",
      "chain 4: 100%|\u001b[32m█████████████████████████████████\u001b[0m| 19/19 [00:00<00:00, 259.58it/s]\u001b[0m\n",
      "chain 5: 100%|\u001b[32m█████████████████████████████████\u001b[0m| 19/19 [00:00<00:00, 202.63it/s]\u001b[0m\n"
     ]
    }
   ],
   "source": [
    "gbs = dq.GaussianBosonSampling(nmode=6, squeezing=torch.tensor([1]*6), unitary=torch.eye(6).to(torch.cfloat))\n",
    "gbs()\n",
    "samples = gbs.measure(shots=100)"
   ]
  },
  {
   "cell_type": "markdown",
   "metadata": {},
   "source": [
    "`dqp.GBS_Graph`可以构建图问题相关的高斯玻色采样线路，参数 `adj_mat` 表示输入对应的邻接矩阵，`cutoff`表示每条线路探测到的最大光子数+1，`mean_photon_num` 表示每条线路对应的平均光子数之和，默认设为mode数，即每条线路对应的平均光子数为1，`detector` 为\n",
    "`'pnrd'`表示单光子分辨探测器，默认设为`'pnrd'`，`'threshold'`表示阈值探测器，`noise` 表示是否加入高斯分布噪声。"
   ]
  },
  {
   "cell_type": "code",
   "execution_count": null,
   "metadata": {
    "ExecuteTime": {
     "end_time": "2024-11-11T01:49:45.198385Z",
     "start_time": "2024-11-11T01:49:44.196645Z"
    }
   },
   "outputs": [
    {
     "name": "stderr",
     "output_type": "stream",
     "text": [
      "chain 1: 100%|\u001b[32m██████████████████████████████\u001b[0m| 999/999 [00:00<00:00, 3638.70it/s]\u001b[0m\n",
      "chain 2: 100%|\u001b[32m██████████████████████████████\u001b[0m| 999/999 [00:00<00:00, 7027.54it/s]\u001b[0m\n",
      "chain 3: 100%|\u001b[32m██████████████████████████████\u001b[0m| 999/999 [00:00<00:00, 5477.17it/s]\u001b[0m\n",
      "chain 4: 100%|\u001b[32m██████████████████████████████\u001b[0m| 999/999 [00:00<00:00, 6682.29it/s]\u001b[0m\n",
      "chain 5: 100%|\u001b[32m██████████████████████████████\u001b[0m| 999/999 [00:00<00:00, 6629.23it/s]\u001b[0m\n"
     ]
    },
    {
     "data": {
      "image/svg+xml": [
       "<svg baseProfile=\"full\" height=\"5.7272727272727275cm\" version=\"1.1\" width=\"22.8cm\" xmlns=\"http://www.w3.org/2000/svg\" xmlns:ev=\"http://www.w3.org/2001/xml-events\" xmlns:xlink=\"http://www.w3.org/1999/xlink\"><defs /><polyline fill=\"none\" points=\"40,30 130,30\" stroke=\"black\" stroke-width=\"2\" /><rect fill=\"royalblue\" height=\"12\" rx=\"0\" ry=\"0\" stroke=\"black\" stroke-width=\"1.5\" width=\"10\" x=\"82.5\" y=\"25\" /><text font-size=\"9\" x=\"83\" y=\"20\">S</text><text font-size=\"7\" x=\"95\" y=\"18\">r =-0.107</text><text font-size=\"7\" x=\"95\" y=\"24\">θ =0.0</text><polyline fill=\"none\" points=\"40,60 130,60\" stroke=\"black\" stroke-width=\"2\" /><rect fill=\"royalblue\" height=\"12\" rx=\"0\" ry=\"0\" stroke=\"black\" stroke-width=\"1.5\" width=\"10\" x=\"82.5\" y=\"55\" /><text font-size=\"9\" x=\"83\" y=\"50\">S</text><text font-size=\"7\" x=\"95\" y=\"48\">r =-0.235</text><text font-size=\"7\" x=\"95\" y=\"54\">θ =0.0</text><polyline fill=\"none\" points=\"40,90 130,90\" stroke=\"black\" stroke-width=\"2\" /><rect fill=\"royalblue\" height=\"12\" rx=\"0\" ry=\"0\" stroke=\"black\" stroke-width=\"1.5\" width=\"10\" x=\"82.5\" y=\"85\" /><text font-size=\"9\" x=\"83\" y=\"80\">S</text><text font-size=\"7\" x=\"95\" y=\"78\">r =-0.455</text><text font-size=\"7\" x=\"95\" y=\"84\">θ =0.0</text><polyline fill=\"none\" points=\"40,120 130,120\" stroke=\"black\" stroke-width=\"2\" /><rect fill=\"royalblue\" height=\"12\" rx=\"0\" ry=\"0\" stroke=\"black\" stroke-width=\"1.5\" width=\"10\" x=\"82.5\" y=\"115\" /><text font-size=\"9\" x=\"83\" y=\"110\">S</text><text font-size=\"7\" x=\"95\" y=\"108\">r =-0.593</text><text font-size=\"7\" x=\"95\" y=\"114\">θ =0.0</text><polyline fill=\"none\" points=\"40,150 130,150\" stroke=\"black\" stroke-width=\"2\" /><rect fill=\"royalblue\" height=\"12\" rx=\"0\" ry=\"0\" stroke=\"black\" stroke-width=\"1.5\" width=\"10\" x=\"82.5\" y=\"145\" /><text font-size=\"9\" x=\"83\" y=\"140\">S</text><text font-size=\"7\" x=\"95\" y=\"138\">r =-0.818</text><text font-size=\"7\" x=\"95\" y=\"144\">θ =0.0</text><polyline fill=\"none\" points=\"40,180 130,180\" stroke=\"black\" stroke-width=\"2\" /><rect fill=\"royalblue\" height=\"12\" rx=\"0\" ry=\"0\" stroke=\"black\" stroke-width=\"1.5\" width=\"10\" x=\"82.5\" y=\"175\" /><text font-size=\"9\" x=\"83\" y=\"170\">S</text><text font-size=\"7\" x=\"95\" y=\"168\">r =-1.495</text><text font-size=\"7\" x=\"95\" y=\"174\">θ =0.0</text><polyline fill=\"none\" points=\"130,30 150,30 180,60 220,60\" stroke=\"black\" stroke-width=\"2\" /><polyline fill=\"none\" points=\"130,60 150,60 180,30 220,30\" stroke=\"black\" stroke-width=\"2\" /><text font-size=\"9\" x=\"148\" y=\"25\">MZI-PT</text><text font-size=\"7\" x=\"175\" y=\"44\">θ =1.846</text><text font-size=\"7\" x=\"175\" y=\"50\">ϕ =1.571</text><polyline fill=\"none\" points=\"130,90 150,90 180,120 220,120\" stroke=\"black\" stroke-width=\"2\" /><polyline fill=\"none\" points=\"130,120 150,120 180,90 220,90\" stroke=\"black\" stroke-width=\"2\" /><text font-size=\"9\" x=\"148\" y=\"85\">MZI-PT</text><text font-size=\"7\" x=\"175\" y=\"104\">θ =2.877</text><text font-size=\"7\" x=\"175\" y=\"110\">ϕ =4.712</text><polyline fill=\"none\" points=\"130,150 150,150 180,180 220,180\" stroke=\"black\" stroke-width=\"2\" /><polyline fill=\"none\" points=\"130,180 150,180 180,150 220,150\" stroke=\"black\" stroke-width=\"2\" /><text font-size=\"9\" x=\"148\" y=\"145\">MZI-PT</text><text font-size=\"7\" x=\"175\" y=\"164\">θ =2.111</text><text font-size=\"7\" x=\"175\" y=\"170\">ϕ =4.712</text><polyline fill=\"none\" points=\"220,60 240,60 270,90 310,90\" stroke=\"black\" stroke-width=\"2\" /><polyline fill=\"none\" points=\"220,90 240,90 270,60 310,60\" stroke=\"black\" stroke-width=\"2\" /><text font-size=\"9\" x=\"238\" y=\"55\">MZI-PT</text><text font-size=\"7\" x=\"265\" y=\"74\">θ =0.758</text><text font-size=\"7\" x=\"265\" y=\"80\">ϕ =0.515</text><polyline fill=\"none\" points=\"220,120 240,120 270,150 310,150\" stroke=\"black\" stroke-width=\"2\" /><polyline fill=\"none\" points=\"220,150 240,150 270,120 310,120\" stroke=\"black\" stroke-width=\"2\" /><text font-size=\"9\" x=\"238\" y=\"115\">MZI-PT</text><text font-size=\"7\" x=\"265\" y=\"134\">θ =1.077</text><text font-size=\"7\" x=\"265\" y=\"140\">ϕ =4.329</text><polyline fill=\"none\" points=\"310,30 330,30 360,60 400,60\" stroke=\"black\" stroke-width=\"2\" /><polyline fill=\"none\" points=\"310,60 330,60 360,30 400,30\" stroke=\"black\" stroke-width=\"2\" /><text font-size=\"9\" x=\"328\" y=\"25\">MZI-PT</text><text font-size=\"7\" x=\"355\" y=\"44\">θ =1.644</text><text font-size=\"7\" x=\"355\" y=\"50\">ϕ =5.607</text><polyline fill=\"none\" points=\"310,90 330,90 360,120 400,120\" stroke=\"black\" stroke-width=\"2\" /><polyline fill=\"none\" points=\"310,120 330,120 360,90 400,90\" stroke=\"black\" stroke-width=\"2\" /><text font-size=\"9\" x=\"328\" y=\"85\">MZI-PT</text><text font-size=\"7\" x=\"355\" y=\"104\">θ =1.335</text><text font-size=\"7\" x=\"355\" y=\"110\">ϕ =1.348</text><polyline fill=\"none\" points=\"310,150 330,150 360,180 400,180\" stroke=\"black\" stroke-width=\"2\" /><polyline fill=\"none\" points=\"310,180 330,180 360,150 400,150\" stroke=\"black\" stroke-width=\"2\" /><text font-size=\"9\" x=\"328\" y=\"145\">MZI-PT</text><text font-size=\"7\" x=\"355\" y=\"164\">θ =0.022</text><text font-size=\"7\" x=\"355\" y=\"170\">ϕ =4.174</text><polyline fill=\"none\" points=\"400,60 420,60 450,90 490,90\" stroke=\"black\" stroke-width=\"2\" /><polyline fill=\"none\" points=\"400,90 420,90 450,60 490,60\" stroke=\"black\" stroke-width=\"2\" /><text font-size=\"9\" x=\"418\" y=\"55\">MZI-PT</text><text font-size=\"7\" x=\"445\" y=\"74\">θ =0.874</text><text font-size=\"7\" x=\"445\" y=\"80\">ϕ =1.193</text><polyline fill=\"none\" points=\"400,120 420,120 450,150 490,150\" stroke=\"black\" stroke-width=\"2\" /><polyline fill=\"none\" points=\"400,150 420,150 450,120 490,120\" stroke=\"black\" stroke-width=\"2\" /><text font-size=\"9\" x=\"418\" y=\"115\">MZI-PT</text><text font-size=\"7\" x=\"445\" y=\"134\">θ =0.778</text><text font-size=\"7\" x=\"445\" y=\"140\">ϕ =0.376</text><polyline fill=\"none\" points=\"490,30 510,30 540,60 580,60\" stroke=\"black\" stroke-width=\"2\" /><polyline fill=\"none\" points=\"490,60 510,60 540,30 580,30\" stroke=\"black\" stroke-width=\"2\" /><text font-size=\"9\" x=\"508\" y=\"25\">MZI-PT</text><text font-size=\"7\" x=\"535\" y=\"44\">θ =0.365</text><text font-size=\"7\" x=\"535\" y=\"50\">ϕ =0.059</text><polyline fill=\"none\" points=\"490,90 510,90 540,120 580,120\" stroke=\"black\" stroke-width=\"2\" /><polyline fill=\"none\" points=\"490,120 510,120 540,90 580,90\" stroke=\"black\" stroke-width=\"2\" /><text font-size=\"9\" x=\"508\" y=\"85\">MZI-PT</text><text font-size=\"7\" x=\"535\" y=\"104\">θ =0.905</text><text font-size=\"7\" x=\"535\" y=\"110\">ϕ =0.328</text><polyline fill=\"none\" points=\"490,150 510,150 540,180 580,180\" stroke=\"black\" stroke-width=\"2\" /><polyline fill=\"none\" points=\"490,180 510,180 540,150 580,150\" stroke=\"black\" stroke-width=\"2\" /><text font-size=\"9\" x=\"508\" y=\"145\">MZI-PT</text><text font-size=\"7\" x=\"535\" y=\"164\">θ =0.603</text><text font-size=\"7\" x=\"535\" y=\"170\">ϕ =1.182</text><polyline fill=\"none\" points=\"580,60 600,60 630,90 670,90\" stroke=\"black\" stroke-width=\"2\" /><polyline fill=\"none\" points=\"580,90 600,90 630,60 670,60\" stroke=\"black\" stroke-width=\"2\" /><text font-size=\"9\" x=\"598\" y=\"55\">MZI-PT</text><text font-size=\"7\" x=\"625\" y=\"74\">θ =0.632</text><text font-size=\"7\" x=\"625\" y=\"80\">ϕ =3.74</text><polyline fill=\"none\" points=\"580,120 600,120 630,150 670,150\" stroke=\"black\" stroke-width=\"2\" /><polyline fill=\"none\" points=\"580,150 600,150 630,120 670,120\" stroke=\"black\" stroke-width=\"2\" /><text font-size=\"9\" x=\"598\" y=\"115\">MZI-PT</text><text font-size=\"7\" x=\"625\" y=\"134\">θ =0.843</text><text font-size=\"7\" x=\"625\" y=\"140\">ϕ =1.031</text><polyline fill=\"none\" points=\"580,30 670,30\" stroke=\"black\" stroke-width=\"2\" /><rect fill=\"teal\" height=\"12\" rx=\"0\" ry=\"0\" stroke=\"black\" stroke-width=\"1.5\" width=\"6\" x=\"622.5\" y=\"25\" /><text font-size=\"9\" x=\"620\" y=\"20\">PS</text><text font-size=\"7\" x=\"635\" y=\"20\">θ =4.973</text><polyline fill=\"none\" points=\"670,60 760,60\" stroke=\"black\" stroke-width=\"2\" /><rect fill=\"teal\" height=\"12\" rx=\"0\" ry=\"0\" stroke=\"black\" stroke-width=\"1.5\" width=\"6\" x=\"712.5\" y=\"55\" /><text font-size=\"9\" x=\"710\" y=\"50\">PS</text><text font-size=\"7\" x=\"725\" y=\"50\">θ =2.488</text><polyline fill=\"none\" points=\"670,90 760,90\" stroke=\"black\" stroke-width=\"2\" /><rect fill=\"teal\" height=\"12\" rx=\"0\" ry=\"0\" stroke=\"black\" stroke-width=\"1.5\" width=\"6\" x=\"712.5\" y=\"85\" /><text font-size=\"9\" x=\"710\" y=\"80\">PS</text><text font-size=\"7\" x=\"725\" y=\"80\">θ =5.63</text><polyline fill=\"none\" points=\"670,120 760,120\" stroke=\"black\" stroke-width=\"2\" /><rect fill=\"teal\" height=\"12\" rx=\"0\" ry=\"0\" stroke=\"black\" stroke-width=\"1.5\" width=\"6\" x=\"712.5\" y=\"115\" /><text font-size=\"9\" x=\"710\" y=\"110\">PS</text><text font-size=\"7\" x=\"725\" y=\"110\">θ =4.494</text><polyline fill=\"none\" points=\"670,150 760,150\" stroke=\"black\" stroke-width=\"2\" /><rect fill=\"teal\" height=\"12\" rx=\"0\" ry=\"0\" stroke=\"black\" stroke-width=\"1.5\" width=\"6\" x=\"712.5\" y=\"145\" /><text font-size=\"9\" x=\"710\" y=\"140\">PS</text><text font-size=\"7\" x=\"725\" y=\"140\">θ =4.494</text><polyline fill=\"none\" points=\"580,180 670,180\" stroke=\"black\" stroke-width=\"2\" /><rect fill=\"teal\" height=\"12\" rx=\"0\" ry=\"0\" stroke=\"black\" stroke-width=\"1.5\" width=\"6\" x=\"622.5\" y=\"175\" /><text font-size=\"9\" x=\"620\" y=\"170\">PS</text><text font-size=\"7\" x=\"635\" y=\"170\">θ =0.203</text><polyline fill=\"none\" points=\"220,30 310,30\" stroke=\"black\" stroke-width=\"2\" /><polyline fill=\"none\" points=\"220,180 310,180\" stroke=\"black\" stroke-width=\"2\" /><polyline fill=\"none\" points=\"400,30 490,30\" stroke=\"black\" stroke-width=\"2\" /><polyline fill=\"none\" points=\"400,180 490,180\" stroke=\"black\" stroke-width=\"2\" /><polyline fill=\"none\" points=\"670,30 760,30\" stroke=\"black\" stroke-width=\"2\" /><polyline fill=\"none\" points=\"670,180 760,180\" stroke=\"black\" stroke-width=\"2\" /><text font-size=\"12\" x=\"25\" y=\"30\">0</text><text font-size=\"12\" x=\"25\" y=\"60\">1</text><text font-size=\"12\" x=\"25\" y=\"90\">2</text><text font-size=\"12\" x=\"25\" y=\"120\">3</text><text font-size=\"12\" x=\"25\" y=\"150\">4</text><text font-size=\"12\" x=\"25\" y=\"180\">5</text></svg>"
      ],
      "text/plain": [
       "<svgwrite.drawing.Drawing at 0x231e4dfb430>"
      ]
     },
     "execution_count": 12,
     "metadata": {},
     "output_type": "execute_result"
    }
   ],
   "source": [
    "# 采用6个节点的图演示简单的高斯玻色采样\n",
    "a = np.array([[0., 1., 1., 0., 0., 0.],\n",
    "              [1., 0., 0., 1., 0., 1.],\n",
    "              [1., 0., 0., 0., 0., 0.],\n",
    "              [0., 1., 0., 0., 1., 1.],\n",
    "              [0., 0., 0., 1., 0., 0.],\n",
    "              [0., 1., 0., 1., 0., 0.]])\n",
    "gbs = dqp.GBS_Graph(adj_mat=torch.tensor(a), cutoff=2)\n",
    "state = gbs()\n",
    "sample = gbs.measure(shots=5000)\n",
    "gbs.draw()"
   ]
  },
  {
   "cell_type": "code",
   "execution_count": null,
   "metadata": {},
   "outputs": [
    {
     "data": {
      "text/plain": [
       "{|100001>: 3,\n",
       " |111001>: 36,\n",
       " |010100>: 409,\n",
       " |101000>: 445,\n",
       " |110000>: 511,\n",
       " |000110>: 366,\n",
       " |000101>: 343,\n",
       " |101110>: 35,\n",
       " |101101>: 51,\n",
       " |110110>: 25,\n",
       " |111100>: 44,\n",
       " |000000>: 2201,\n",
       " |111111>: 3,\n",
       " |010001>: 407,\n",
       " |010111>: 45,\n",
       " |110101>: 73,\n",
       " |100010>: 2,\n",
       " |100100>: 1}"
      ]
     },
     "metadata": {},
     "output_type": "display_data"
    }
   ],
   "source": [
    "sample"
   ]
  },
  {
   "cell_type": "markdown",
   "metadata": {},
   "source": [
    "下面是GBS解决从11个节点中找到6个节点的稠密子图的一个案例演示。"
   ]
  },
  {
   "cell_type": "code",
   "execution_count": null,
   "metadata": {},
   "outputs": [],
   "source": [
    "import networkx as nx"
   ]
  },
  {
   "cell_type": "code",
   "execution_count": null,
   "metadata": {},
   "outputs": [
    {
     "data": {
      "image/png": "[encoded data removed]",
      "text/plain": [
       "<Figure size 640x480 with 1 Axes>"
      ]
     },
     "metadata": {},
     "output_type": "display_data"
    }
   ],
   "source": [
    "graph_adj = np.array([[0., 1., 1., 0., 0., 0., 1., 0., 1., 1., 0., 0., 0., 0., 0., 0.],\n",
    "                      [1., 0., 0., 0., 0., 0., 1., 1., 1., 0., 0., 0., 0., 0., 0., 0.],\n",
    "                      [1., 0., 0., 1., 0., 1., 1., 0., 1., 1., 0., 0., 0., 0., 1., 0.],\n",
    "                      [0., 0., 1., 0., 1., 0., 0., 0., 0., 0., 0., 0., 0., 0., 0., 0.],\n",
    "                      [0., 0., 0., 1., 0., 1., 1., 0., 1., 0., 0., 0., 0., 1., 0., 0.],\n",
    "                      [0., 0., 1., 0., 1., 0., 1., 0., 0., 1., 0., 0., 0., 0., 0., 1.],\n",
    "                      [1., 1., 1., 0., 1., 1., 0., 0., 1., 0., 0., 1., 0., 0., 0., 0.],\n",
    "                      [0., 1., 0., 0., 0., 0., 0., 0., 1., 0., 0., 0., 0., 0., 0., 0.],\n",
    "                      [1., 1., 1., 0., 1., 0., 1., 1., 0., 1., 0., 0., 0., 0., 0., 0.],\n",
    "                      [1., 0., 1., 0., 0., 1., 0., 0., 1., 0., 0., 0., 0., 0., 1., 0.],\n",
    "                      [0., 0., 0., 0., 0., 0., 0., 0., 0., 0., 0., 1., 1., 1., 1., 1.],\n",
    "                      [0., 0., 0., 0., 0., 0., 1., 0., 0., 0., 1., 0., 0., 1., 1., 1.],\n",
    "                      [0., 0., 0., 0., 0., 0., 0., 0., 0., 0., 1., 0., 0., 1., 1., 1.],\n",
    "                      [0., 0., 0., 0., 1., 0., 0., 0., 0., 0., 1., 1., 1., 0., 1., 1.],\n",
    "                      [0., 0., 1., 0., 0., 0., 0., 0., 0., 1., 1., 1., 1., 1., 0., 1.],\n",
    "                      [0., 0., 0., 0., 0., 1., 0., 0., 0., 0., 1., 1., 1., 1., 1., 0.]])\n",
    "graph = nx.from_numpy_array(graph_adj)\n",
    "nx.draw(graph, with_labels=True)"
   ]
  },
  {
   "cell_type": "code",
   "execution_count": null,
   "metadata": {},
   "outputs": [
    {
     "name": "stderr",
     "output_type": "stream",
     "text": [
      "chain 1: 100%|\u001b[32m██████████████████████████████\u001b[0m| 9999/9999 [01:53<00:00, 88.08it/s]\u001b[0m\n",
      "chain 2: 100%|\u001b[32m█████████████████████████████\u001b[0m| 9999/9999 [01:25<00:00, 117.41it/s]\u001b[0m\n",
      "chain 3: 100%|\u001b[32m█████████████████████████████\u001b[0m| 9999/9999 [01:01<00:00, 161.34it/s]\u001b[0m\n",
      "chain 4: 100%|\u001b[32m█████████████████████████████\u001b[0m| 9999/9999 [00:46<00:00, 217.25it/s]\u001b[0m\n",
      "chain 5: 100%|\u001b[32m█████████████████████████████\u001b[0m| 9999/9999 [00:34<00:00, 290.53it/s]\u001b[0m\n"
     ]
    }
   ],
   "source": [
    "gbs = dqp.GBS_Graph(adj_mat=graph_adj, cutoff=2)\n",
    "state = gbs()\n",
    "sample = gbs.measure(shots=50000)"
   ]
  },
  {
   "cell_type": "markdown",
   "metadata": {},
   "source": [
    "下面对结果进行后选择，筛选出六个节点对应的采样结果，计算对应的图密度并从大到小排序"
   ]
  },
  {
   "cell_type": "code",
   "execution_count": null,
   "metadata": {},
   "outputs": [
    {
     "name": "stdout",
     "output_type": "stream",
     "text": [
      "|0000000000111111> [29, 0.9333333333333333]\n"
     ]
    }
   ],
   "source": [
    "subgraph_sample = gbs.postselect(sample, [6])\n",
    "subgraph_density = gbs.graph_density(graph, subgraph_sample[0])\n",
    "key = list(subgraph_density.keys())\n",
    "print(key[0],subgraph_density[key[0]])"
   ]
  },
  {
   "cell_type": "code",
   "execution_count": null,
   "metadata": {},
   "outputs": [
    {
     "data": {
      "text/plain": [
       "{|0000000000111111>: [29, 0.9333333333333333],\n",
       " |0010111011000000>: [49, 0.7333333333333333],\n",
       " |0000000001101111>: [8, 0.7333333333333333],\n",
       " |0000001000111011>: [18, 0.6666666666666666],\n",
       " |0010011011000010>: [1, 0.6666666666666666],\n",
       " |0110111010000000>: [21, 0.6666666666666666],\n",
       " |1010001011010000>: [12, 0.6666666666666666],\n",
       " |0000010000111101>: [20, 0.6666666666666666],\n",
       " |1011101010000000>: [26, 0.6666666666666666],\n",
       " |1111001010000000>: [5, 0.6666666666666666],\n",
       " |0000001000111110>: [6, 0.6666666666666666],\n",
       " |1010111001000000>: [7, 0.6666666666666666],\n",
       " |1100001111000000>: [11, 0.6666666666666666],\n",
       " |1110000111000000>: [27, 0.6666666666666666],\n",
       " |1110010011000000>: [6, 0.6666666666666666],\n",
       " |0010001000110110>: [30, 0.6],\n",
       " |1010000011000110>: [35, 0.6],\n",
       " |0000110000110101>: [42, 0.6],\n",
       " |1011100011000000>: [62, 0.6],\n",
       " |0000111000010101>: [10, 0.6],\n",
       " |0010010000001111>: [60, 0.6],\n",
       " |0000010001110011>: [10, 0.6],\n",
       " |0010010001000111>: [36, 0.6],\n",
       " |1010010001000011>: [43, 0.6],\n",
       " |0000110000010111>: [80, 0.6],\n",
       " |0010010001001011>: [50, 0.6],\n",
       " |0000010001001111>: [34, 0.6],\n",
       " |1110111000000000>: [38, 0.6],\n",
       " |0010000001110110>: [32, 0.6],\n",
       " |1100101010010000>: [18, 0.6],\n",
       " |0010000001100111>: [5, 0.6],\n",
       " |0000110000001111>: [3, 0.6],\n",
       " |1010000011100010>: [10, 0.6],\n",
       " |1010000011000011>: [18, 0.6],\n",
       " |0000101000110110>: [2, 0.6],\n",
       " |0000010001010111>: [17, 0.6],\n",
       " |1010001010010010>: [7, 0.6],\n",
       " |0000110000101101>: [16, 0.6],\n",
       " |0000101000010111>: [4, 0.6],\n",
       " |1000011011010000>: [10, 0.5333333333333333],\n",
       " |0110000111000010>: [14, 0.5333333333333333],\n",
       " |0010000011101010>: [5, 0.5333333333333333],\n",
       " |0000110000110110>: [23, 0.5333333333333333],\n",
       " |1001111010000000>: [2, 0.5333333333333333],\n",
       " |0100001000110101>: [38, 0.5333333333333333],\n",
       " |1100001010010001>: [10, 0.5333333333333333],\n",
       " |0010011001000110>: [8, 0.5333333333333333],\n",
       " |1010001010110000>: [5, 0.5333333333333333],\n",
       " |0000011000011101>: [35, 0.5333333333333333],\n",
       " |0000110000101011>: [57, 0.5333333333333333],\n",
       " |1010001000110010>: [37, 0.5333333333333333],\n",
       " |0010000001011011>: [11, 0.5333333333333333],\n",
       " |1011110001000000>: [33, 0.5333333333333333],\n",
       " |1111100010000000>: [17, 0.5333333333333333],\n",
       " |0000001010010111>: [7, 0.5333333333333333],\n",
       " |0111001110000000>: [37, 0.5333333333333333],\n",
       " |0000101000111100>: [1, 0.5333333333333333],\n",
       " |0100111010000001>: [31, 0.5333333333333333],\n",
       " |0011111000000100>: [5, 0.5333333333333333],\n",
       " |0010001010110010>: [3, 0.5333333333333333],\n",
       " |0000001001110110>: [5, 0.5333333333333333],\n",
       " |0110110011000000>: [26, 0.5333333333333333],\n",
       " |0010110001000110>: [59, 0.5333333333333333],\n",
       " |0000100001110110>: [7, 0.5333333333333333],\n",
       " |0010010111000010>: [18, 0.5333333333333333],\n",
       " |1100111001000000>: [17, 0.5333333333333333],\n",
       " |0010000010101110>: [13, 0.5333333333333333],\n",
       " |0000000011110011>: [8, 0.5333333333333333],\n",
       " |0010100000110110>: [4, 0.5333333333333333],\n",
       " |0010010000101101>: [22, 0.5333333333333333],\n",
       " |0011000000010111>: [4, 0.5333333333333333],\n",
       " |0010011001010001>: [47, 0.5333333333333333],\n",
       " |0000010001101101>: [7, 0.5333333333333333],\n",
       " |0010010000011011>: [3, 0.5333333333333333],\n",
       " |1010000000001111>: [25, 0.5333333333333333],\n",
       " |0001100000101110>: [8, 0.5333333333333333],\n",
       " |0000101000011101>: [23, 0.5333333333333333],\n",
       " |0000011000101101>: [6, 0.5333333333333333],\n",
       " |0010111000000011>: [79, 0.5333333333333333],\n",
       " |1011101001000000>: [2, 0.5333333333333333],\n",
       " |1010101001000010>: [78, 0.5333333333333333],\n",
       " |0011000000101110>: [25, 0.5333333333333333],\n",
       " |0010001000011110>: [40, 0.5333333333333333],\n",
       " |0110010111000000>: [2, 0.5333333333333333],\n",
       " |0000100001100111>: [6, 0.5333333333333333],\n",
       " |0000111000010110>: [3, 0.5333333333333333],\n",
       " |0100101111000000>: [1, 0.5333333333333333],\n",
       " |0000111000001101>: [17, 0.5333333333333333],\n",
       " |0010111000000110>: [14, 0.5333333333333333],\n",
       " |0110001010010010>: [1, 0.5333333333333333],\n",
       " |0000111111000000>: [7, 0.5333333333333333],\n",
       " |1000000001010111>: [2, 0.5333333333333333],\n",
       " |0010011000001011>: [9, 0.5333333333333333],\n",
       " |0000101000100111>: [26, 0.5333333333333333],\n",
       " |1110011000000010>: [8, 0.5333333333333333],\n",
       " |0010101010000110>: [18, 0.5333333333333333],\n",
       " |0000101000101110>: [22, 0.5333333333333333],\n",
       " |0001100000100111>: [10, 0.5333333333333333],\n",
       " |0010101111000000>: [4, 0.5333333333333333],\n",
       " |1010000000010111>: [35, 0.5333333333333333],\n",
       " |0010101011000100>: [4, 0.5333333333333333],\n",
       " |0100001000110011>: [33, 0.5333333333333333],\n",
       " |0010001010010110>: [6, 0.5333333333333333],\n",
       " |1010010001010010>: [10, 0.5333333333333333],\n",
       " |0010011010000011>: [56, 0.5333333333333333],\n",
       " |1100000111000010>: [9, 0.5333333333333333],\n",
       " |1000111110000000>: [2, 0.5333333333333333],\n",
       " |0000101010010101>: [35, 0.5333333333333333],\n",
       " |1010001110000010>: [11, 0.5333333333333333],\n",
       " |0010010011000110>: [27, 0.5333333333333333],\n",
       " |0000000011001111>: [35, 0.5333333333333333],\n",
       " |0000000011101011>: [4, 0.5333333333333333],\n",
       " |0011100011000010>: [25, 0.5333333333333333],\n",
       " |0010001000111010>: [3, 0.5333333333333333],\n",
       " |0010001000101011>: [7, 0.5333333333333333],\n",
       " |0011000000001111>: [32, 0.5333333333333333],\n",
       " |0000011000110110>: [40, 0.5333333333333333],\n",
       " |0010001011001010>: [12, 0.5333333333333333],\n",
       " |0011000000110110>: [1, 0.5333333333333333],\n",
       " |0010000011100011>: [14, 0.5333333333333333],\n",
       " |0010011010010001>: [63, 0.5333333333333333],\n",
       " |0010001001110010>: [7, 0.5333333333333333],\n",
       " |0100011000010101>: [1, 0.4666666666666667],\n",
       " |1000001000101011>: [14, 0.4666666666666667],\n",
       " |0001100000011110>: [3, 0.4666666666666667],\n",
       " |1000101010010001>: [7, 0.4666666666666667],\n",
       " |1010001001010001>: [10, 0.4666666666666667],\n",
       " |0010000111010010>: [8, 0.4666666666666667],\n",
       " |0011001000010110>: [1, 0.4666666666666667],\n",
       " |0010011000001101>: [29, 0.4666666666666667],\n",
       " |0110100111000000>: [4, 0.4666666666666667],\n",
       " |0010001010001011>: [7, 0.4666666666666667],\n",
       " |0000011001001011>: [2, 0.4666666666666667],\n",
       " |1100000000110110>: [11, 0.4666666666666667],\n",
       " |1100100110000100>: [24, 0.4666666666666667],\n",
       " |1000100011000110>: [7, 0.4666666666666667],\n",
       " |0000010001111010>: [4, 0.4666666666666667],\n",
       " |0011110000000101>: [15, 0.4666666666666667],\n",
       " |0100011011010000>: [7, 0.4666666666666667],\n",
       " |0000000110110101>: [94, 0.4666666666666667],\n",
       " |0000001010011011>: [26, 0.4666666666666667],\n",
       " |0001111000010100>: [5, 0.4666666666666667],\n",
       " |0000011011000011>: [7, 0.4666666666666667],\n",
       " |0011100001000110>: [19, 0.4666666666666667],\n",
       " |1010101000010100>: [39, 0.4666666666666667],\n",
       " |0010110001000101>: [6, 0.4666666666666667],\n",
       " |0010000010110101>: [42, 0.4666666666666667],\n",
       " |0001100000110011>: [48, 0.4666666666666667],\n",
       " |1000001000101110>: [19, 0.4666666666666667],\n",
       " |1000001000011101>: [16, 0.4666666666666667],\n",
       " |1010001010001100>: [15, 0.4666666666666667],\n",
       " |0001110000100101>: [4, 0.4666666666666667],\n",
       " |0010010001101001>: [12, 0.4666666666666667],\n",
       " |0011000011001010>: [2, 0.4666666666666667],\n",
       " |0010010000111010>: [10, 0.4666666666666667],\n",
       " |0010001001011010>: [5, 0.4666666666666667],\n",
       " |0000101010101100>: [13, 0.4666666666666667],\n",
       " |1000101000110100>: [5, 0.4666666666666667],\n",
       " |1000010001010011>: [4, 0.4666666666666667],\n",
       " |0100001110010001>: [4, 0.4666666666666667],\n",
       " |1010001010001001>: [17, 0.4666666666666667],\n",
       " |1110001100000010>: [2, 0.4666666666666667],\n",
       " |0010001000101101>: [5, 0.4666666666666667],\n",
       " |1010010001000101>: [15, 0.4666666666666667],\n",
       " |1110001000000110>: [13, 0.4666666666666667],\n",
       " |0010111000110000>: [16, 0.4666666666666667],\n",
       " |1000001000111100>: [16, 0.4666666666666667],\n",
       " |0000011011010010>: [33, 0.4666666666666667],\n",
       " |1000101010000101>: [11, 0.4666666666666667],\n",
       " |0000000011011110>: [2, 0.4666666666666667],\n",
       " |0001101000010110>: [9, 0.4666666666666667],\n",
       " |1010000011010100>: [9, 0.4666666666666667],\n",
       " |0000110001010011>: [3, 0.4666666666666667],\n",
       " |0010011110000010>: [2, 0.4666666666666667],\n",
       " |1010000011010001>: [20, 0.4666666666666667],\n",
       " |0010001000111001>: [14, 0.4666666666666667],\n",
       " |0011000000011011>: [1, 0.4666666666666667],\n",
       " |1000000001011011>: [14, 0.4666666666666667],\n",
       " |0010011010100001>: [9, 0.4666666666666667],\n",
       " |0000001010101110>: [7, 0.4666666666666667],\n",
       " |1000001010110100>: [3, 0.4666666666666667],\n",
       " |0100011010010001>: [12, 0.4666666666666667],\n",
       " |1000000001111010>: [19, 0.4666666666666667],\n",
       " |1110001000100010>: [8, 0.4666666666666667],\n",
       " |0100001010010101>: [4, 0.4666666666666667],\n",
       " |0100001000001111>: [2, 0.4666666666666667],\n",
       " |0010100001000111>: [1, 0.4666666666666667],\n",
       " |1010000011001100>: [10, 0.4666666666666667],\n",
       " |1110110001000000>: [1, 0.4666666666666667],\n",
       " |1000001000101101>: [20, 0.4666666666666667],\n",
       " |1000000010110011>: [35, 0.4666666666666667],\n",
       " |0010101000110010>: [2, 0.4666666666666667],\n",
       " |1010100001000110>: [1, 0.4666666666666667],\n",
       " |0000000011110101>: [33, 0.4666666666666667],\n",
       " |1000001011001010>: [62, 0.4666666666666667],\n",
       " |1010101000000110>: [11, 0.4666666666666667],\n",
       " |1000111001000010>: [4, 0.4666666666666667],\n",
       " |0000101010110010>: [7, 0.4666666666666667],\n",
       " |1010000000011110>: [7, 0.4666666666666667],\n",
       " |1100010011000001>: [13, 0.4666666666666667],\n",
       " |1000101010100100>: [13, 0.4666666666666667],\n",
       " |1100000000101011>: [7, 0.4666666666666667],\n",
       " |1000000011001110>: [14, 0.4666666666666667],\n",
       " |0010101001010010>: [5, 0.4666666666666667],\n",
       " |0010010011001001>: [21, 0.4666666666666667],\n",
       " |1000101010000110>: [22, 0.4666666666666667],\n",
       " |0011001010010010>: [3, 0.4666666666666667],\n",
       " |0010010000011101>: [5, 0.4666666666666667],\n",
       " |0010100010010110>: [21, 0.4666666666666667],\n",
       " |0100000100100111>: [42, 0.4666666666666667],\n",
       " |0010011010110000>: [4, 0.4666666666666667],\n",
       " |0000110000111001>: [2, 0.4666666666666667],\n",
       " |0110110110000000>: [1, 0.4666666666666667],\n",
       " |1100100011000100>: [1, 0.4666666666666667],\n",
       " |1000110011000100>: [7, 0.4666666666666667],\n",
       " |1000001011100010>: [5, 0.4666666666666667],\n",
       " |1010110010000100>: [3, 0.4666666666666667],\n",
       " |1000011001010010>: [3, 0.4666666666666667],\n",
       " |0100101010001100>: [23, 0.4666666666666667],\n",
       " |1010011000100010>: [9, 0.4666666666666667],\n",
       " |0010010111000001>: [1, 0.4666666666666667],\n",
       " |0000001010001111>: [12, 0.4666666666666667],\n",
       " |0010110000001110>: [28, 0.4666666666666667],\n",
       " |0000011010110001>: [9, 0.4666666666666667],\n",
       " |0111000111000000>: [2, 0.4666666666666667],\n",
       " |0000111010001100>: [13, 0.4666666666666667],\n",
       " |1010001010101000>: [14, 0.4666666666666667],\n",
       " |0010001000011101>: [5, 0.4666666666666667],\n",
       " |0011000111000010>: [3, 0.4666666666666667],\n",
       " |0000110011001001>: [20, 0.4],\n",
       " |0100001110001001>: [18, 0.4],\n",
       " |0100000010111100>: [8, 0.4],\n",
       " |0100001110000101>: [10, 0.4],\n",
       " |0010000010011101>: [8, 0.4],\n",
       " |1000100010100110>: [16, 0.4],\n",
       " |0010010110000011>: [19, 0.4],\n",
       " |0001101000010011>: [1, 0.4],\n",
       " |0000101011001100>: [3, 0.4],\n",
       " |0100111100000001>: [14, 0.4],\n",
       " |0100101010100001>: [14, 0.4],\n",
       " |1010000000111001>: [37, 0.4],\n",
       " |0110010101000010>: [2, 0.4],\n",
       " |0011001000110001>: [5, 0.4],\n",
       " |1010001000011001>: [7, 0.4],\n",
       " |0001101010000110>: [30, 0.4],\n",
       " |0110001000101010>: [2, 0.4],\n",
       " |1000101010100001>: [8, 0.4],\n",
       " |0000110110000101>: [3, 0.4],\n",
       " |1010110000000101>: [7, 0.4],\n",
       " |0010110000101010>: [14, 0.4],\n",
       " |0100000010011011>: [16, 0.4],\n",
       " |1100001100010100>: [3, 0.4],\n",
       " |1000011001100001>: [24, 0.4],\n",
       " |0000110011100100>: [88, 0.4],\n",
       " |0100010011000011>: [8, 0.4],\n",
       " |0100001100010110>: [2, 0.4],\n",
       " |0110011000000101>: [14, 0.4],\n",
       " |1010001001100100>: [16, 0.4],\n",
       " |0010001011000101>: [13, 0.4],\n",
       " |1000000001111001>: [11, 0.4],\n",
       " |0000000110111100>: [2, 0.4],\n",
       " |0001111000001100>: [6, 0.4],\n",
       " |1100000110001010>: [37, 0.4],\n",
       " |1100011000010100>: [2, 0.4],\n",
       " |1100000011100001>: [4, 0.4],\n",
       " |0100001011010001>: [7, 0.4],\n",
       " |0000000110111010>: [22, 0.4],\n",
       " |1110000010010100>: [10, 0.4],\n",
       " |0010000001111100>: [4, 0.4],\n",
       " |1000001110110000>: [4, 0.4],\n",
       " |0010111000101000>: [10, 0.4],\n",
       " |0011010000001101>: [5, 0.4],\n",
       " |0100000010111001>: [2, 0.4],\n",
       " |0010110001001100>: [2, 0.4],\n",
       " |0011011000001001>: [1, 0.4],\n",
       " |0000000011111001>: [12, 0.4],\n",
       " |0000101011100010>: [4, 0.4],\n",
       " |0010010011010100>: [11, 0.4],\n",
       " |1100000110101000>: [8, 0.4],\n",
       " |1000101010000011>: [6, 0.4],\n",
       " |0111100010000010>: [7, 0.4],\n",
       " |1010010001010100>: [13, 0.4],\n",
       " |0010101000001101>: [3, 0.4],\n",
       " |0010011001100100>: [3, 0.4],\n",
       " |0010000110100110>: [13, 0.4],\n",
       " |1000001110010001>: [2, 0.4],\n",
       " |1000011001100010>: [5, 0.4],\n",
       " |0110001101000010>: [3, 0.4],\n",
       " |0100101000001101>: [3, 0.4],\n",
       " |1000001010111000>: [7, 0.4],\n",
       " |0000001011011010>: [7, 0.4],\n",
       " |0010100010101100>: [5, 0.4],\n",
       " |0000110000111010>: [32, 0.4],\n",
       " |0110001010001100>: [22, 0.4],\n",
       " |0011100010100010>: [12, 0.4],\n",
       " |0000101110010010>: [1, 0.4],\n",
       " |1010010001101000>: [1, 0.4],\n",
       " |0000111010100010>: [8, 0.4],\n",
       " |1010000110000110>: [2, 0.4],\n",
       " |1000011010100001>: [3, 0.4],\n",
       " |1000001011100001>: [50, 0.4],\n",
       " |0000000110011110>: [9, 0.4],\n",
       " |0000110010110001>: [4, 0.4],\n",
       " |0010110010100010>: [10, 0.4],\n",
       " |0100100010001110>: [2, 0.4],\n",
       " |0001111001000010>: [1, 0.4],\n",
       " |0100100011000110>: [4, 0.4],\n",
       " |1101101001000000>: [15, 0.4],\n",
       " |0000010011110001>: [1, 0.4],\n",
       " |1100001001000011>: [6, 0.4],\n",
       " |0000000111110010>: [7, 0.4],\n",
       " |1000001001100110>: [3, 0.4],\n",
       " |1010011000101000>: [10, 0.4],\n",
       " |1000010001101001>: [9, 0.4],\n",
       " |0100001100110010>: [10, 0.4],\n",
       " |1000001010011001>: [22, 0.4],\n",
       " |1000011000100011>: [5, 0.4],\n",
       " |0000011011100001>: [2, 0.4],\n",
       " |0001111000100100>: [1, 0.4],\n",
       " |0000000111010011>: [8, 0.4],\n",
       " |0011001010001010>: [2, 0.4],\n",
       " |0010101000100101>: [2, 0.4],\n",
       " |0010101000100011>: [6, 0.4],\n",
       " |1110000010001100>: [12, 0.4],\n",
       " |1000100111000100>: [5, 0.4],\n",
       " |0011001000011010>: [9, 0.4],\n",
       " |1010100010010010>: [14, 0.4],\n",
       " |0001110000001011>: [7, 0.4],\n",
       " |0000010111000011>: [10, 0.4],\n",
       " |1100000110100010>: [13, 0.4],\n",
       " |1000000010011011>: [24, 0.4],\n",
       " |1100000011010100>: [22, 0.4],\n",
       " |0010001001110100>: [1, 0.4],\n",
       " |0111011000000001>: [13, 0.4],\n",
       " |1000011001110000>: [1, 0.4],\n",
       " |0010101010101000>: [9, 0.4],\n",
       " |1100101000100100>: [4, 0.4],\n",
       " |0010110010010100>: [2, 0.4],\n",
       " |0010110010100001>: [2, 0.4],\n",
       " |0001101000110010>: [1, 0.4],\n",
       " |0011100000101010>: [15, 0.4],\n",
       " |0010000010111100>: [3, 0.4],\n",
       " |0100100110010100>: [1, 0.4],\n",
       " |1000100010010101>: [2, 0.4],\n",
       " |1100001001000110>: [2, 0.4],\n",
       " |1000101001000110>: [10, 0.4],\n",
       " |1000100010001110>: [2, 0.4],\n",
       " |1000100011001010>: [8, 0.4],\n",
       " |1000000001011101>: [12, 0.4],\n",
       " |0100111000100100>: [13, 0.4],\n",
       " |1010101000110000>: [5, 0.4],\n",
       " |0100000111100010>: [18, 0.4],\n",
       " |0000100011100011>: [3, 0.4],\n",
       " |1000000111100010>: [6, 0.4],\n",
       " |0100011000100101>: [6, 0.4],\n",
       " |1100000011001100>: [2, 0.4],\n",
       " |0010000001111001>: [4, 0.4],\n",
       " |0000001110110001>: [7, 0.4],\n",
       " |1000001001011010>: [4, 0.4],\n",
       " |0010100010110010>: [13, 0.4],\n",
       " |0100001110001100>: [10, 0.4],\n",
       " |0000011010000111>: [6, 0.4],\n",
       " |1000010011000110>: [27, 0.4],\n",
       " |0000011010001101>: [8, 0.4],\n",
       " |0110000010010110>: [9, 0.4],\n",
       " |0000001110010110>: [4, 0.4],\n",
       " |0011101000001010>: [2, 0.4],\n",
       " |1010010000001101>: [2, 0.4],\n",
       " |0111101000000010>: [8, 0.4],\n",
       " |0000010111000110>: [8, 0.3333333333333333],\n",
       " |0111001100010000>: [2, 0.3333333333333333],\n",
       " |1000001110100001>: [11, 0.3333333333333333],\n",
       " |1100010000110001>: [4, 0.3333333333333333],\n",
       " |0010000111100001>: [2, 0.3333333333333333],\n",
       " |1100010001001001>: [6, 0.3333333333333333],\n",
       " |1100101000000011>: [6, 0.3333333333333333],\n",
       " |0001111000100010>: [7, 0.3333333333333333],\n",
       " |1100010001100001>: [4, 0.3333333333333333],\n",
       " |0110000011110000>: [5, 0.3333333333333333],\n",
       " |0001100001110010>: [2, 0.3333333333333333],\n",
       " |0001100110100100>: [6, 0.3333333333333333],\n",
       " |1011000010100001>: [2, 0.3333333333333333],\n",
       " |0101101000010001>: [4, 0.3333333333333333],\n",
       " |1100100010001010>: [1, 0.3333333333333333],\n",
       " |0011000110100010>: [7, 0.3333333333333333],\n",
       " |1000101001110000>: [16, 0.3333333333333333],\n",
       " |0100011010100010>: [12, 0.3333333333333333],\n",
       " |0100001001001011>: [7, 0.3333333333333333],\n",
       " |0110000100100110>: [7, 0.3333333333333333],\n",
       " |0110001001110000>: [4, 0.3333333333333333],\n",
       " |0000010111100001>: [12, 0.3333333333333333],\n",
       " |1010000110100001>: [8, 0.3333333333333333],\n",
       " |0000011011101000>: [15, 0.3333333333333333],\n",
       " |1111000000010010>: [3, 0.3333333333333333],\n",
       " |0100010011000101>: [11, 0.3333333333333333],\n",
       " |0100000111110000>: [5, 0.3333333333333333],\n",
       " |1100011000100100>: [3, 0.3333333333333333],\n",
       " |1110000001001001>: [10, 0.3333333333333333],\n",
       " |1011000001110000>: [3, 0.3333333333333333],\n",
       " |0000010110100101>: [2, 0.3333333333333333],\n",
       " |1000110010100001>: [2, 0.3333333333333333],\n",
       " |1000101001100100>: [6, 0.3333333333333333],\n",
       " |1100100000000111>: [5, 0.3333333333333333],\n",
       " |1110100001000100>: [20, 0.3333333333333333],\n",
       " |0110011000101000>: [2, 0.3333333333333333],\n",
       " |1100001100101000>: [1, 0.3333333333333333],\n",
       " |1100000101000011>: [5, 0.3333333333333333],\n",
       " |1010101000100001>: [4, 0.3333333333333333],\n",
       " |1000101001000101>: [4, 0.3333333333333333],\n",
       " |0100010011001001>: [4, 0.3333333333333333],\n",
       " |0100110010100001>: [8, 0.3333333333333333],\n",
       " |1110000100010010>: [32, 0.3333333333333333],\n",
       " |0100011001000110>: [5, 0.3333333333333333],\n",
       " |0110000011010100>: [1, 0.3333333333333333],\n",
       " |0001100011010010>: [3, 0.3333333333333333],\n",
       " |1100010000000111>: [3, 0.3333333333333333],\n",
       " |1000111000101000>: [1, 0.3333333333333333],\n",
       " |0100101100010001>: [1, 0.3333333333333333],\n",
       " |0000010110000111>: [2, 0.3333333333333333],\n",
       " |0011001010100001>: [2, 0.3333333333333333],\n",
       " |0110010010100001>: [1, 0.3333333333333333],\n",
       " |0011000110001010>: [1, 0.3333333333333333],\n",
       " |1110110000000100>: [8, 0.3333333333333333],\n",
       " |1100100000110100>: [3, 0.3333333333333333],\n",
       " |0011001010000101>: [17, 0.3333333333333333],\n",
       " |0010100011101000>: [1, 0.3333333333333333],\n",
       " |1000110001100001>: [1, 0.3333333333333333],\n",
       " |0010001001111000>: [8, 0.3333333333333333],\n",
       " |1000010010010011>: [9, 0.3333333333333333],\n",
       " |0100000111101000>: [19, 0.3333333333333333],\n",
       " |0100010010000111>: [4, 0.3333333333333333],\n",
       " |1000100001100101>: [2, 0.3333333333333333],\n",
       " |1010000110001001>: [12, 0.3333333333333333],\n",
       " |1000000111010100>: [3, 0.3333333333333333],\n",
       " |0111001000000011>: [7, 0.3333333333333333],\n",
       " |0011000110000011>: [1, 0.3333333333333333],\n",
       " |1110010000000110>: [3, 0.3333333333333333],\n",
       " |1000101001001010>: [11, 0.3333333333333333],\n",
       " |1011100000010100>: [3, 0.3333333333333333],\n",
       " |0000101110001001>: [7, 0.3333333333333333],\n",
       " |0011000011110000>: [3, 0.3333333333333333],\n",
       " |1001101000110000>: [8, 0.3333333333333333],\n",
       " |0110001100000011>: [5, 0.3333333333333333],\n",
       " |0011100010100001>: [8, 0.3333333333333333],\n",
       " |1000100011110000>: [12, 0.3333333333333333],\n",
       " |0011100001000101>: [13, 0.3333333333333333],\n",
       " |0011100001010100>: [14, 0.3333333333333333],\n",
       " |0100100100101100>: [11, 0.3333333333333333],\n",
       " |0110000100000111>: [16, 0.3333333333333333],\n",
       " |1011000010100100>: [2, 0.3333333333333333],\n",
       " |0111001000100010>: [3, 0.3333333333333333],\n",
       " |1010100000001101>: [2, 0.3333333333333333],\n",
       " |1011100000000011>: [10, 0.3333333333333333],\n",
       " |0110000100010011>: [4, 0.3333333333333333],\n",
       " |1010010010110000>: [4, 0.3333333333333333],\n",
       " |1100010000001101>: [1, 0.3333333333333333],\n",
       " |0110001100100001>: [4, 0.26666666666666666],\n",
       " |0101100100010100>: [10, 0.26666666666666666],\n",
       " |0111001000100100>: [10, 0.26666666666666666],\n",
       " |0100011100101000>: [2, 0.26666666666666666],\n",
       " |0101110100000001>: [2, 0.26666666666666666],\n",
       " |0100011001101000>: [8, 0.26666666666666666],\n",
       " |1001101000101000>: [10, 0.26666666666666666],\n",
       " |1010110000101000>: [47, 0.26666666666666666],\n",
       " |0011100001110000>: [4, 0.26666666666666666],\n",
       " |0111100100000010>: [1, 0.26666666666666666],\n",
       " |0110110100000100>: [3, 0.26666666666666666],\n",
       " |1100000101001001>: [3, 0.26666666666666666],\n",
       " |1110010000001100>: [1, 0.26666666666666666],\n",
       " |1100010001001100>: [1, 0.26666666666666666],\n",
       " |0010010110001100>: [1, 0.26666666666666666],\n",
       " |0001100011101000>: [8, 0.26666666666666666],\n",
       " |1110100100000100>: [4, 0.26666666666666666],\n",
       " |0100110010010010>: [1, 0.26666666666666666],\n",
       " |1110000100000101>: [16, 0.26666666666666666],\n",
       " |0011000110001100>: [4, 0.26666666666666666],\n",
       " |0101110101000000>: [9, 0.26666666666666666],\n",
       " |0111000010010001>: [1, 0.26666666666666666],\n",
       " |0111000010001100>: [2, 0.26666666666666666],\n",
       " |0110001100001001>: [2, 0.26666666666666666],\n",
       " |1101100000000101>: [4, 0.26666666666666666],\n",
       " |0101100010010010>: [9, 0.26666666666666666],\n",
       " |0100010101001001>: [4, 0.26666666666666666],\n",
       " |0110001001001100>: [10, 0.26666666666666666],\n",
       " |1001101000100001>: [1, 0.26666666666666666],\n",
       " |1001100010010010>: [1, 0.26666666666666666],\n",
       " |1100110000010100>: [7, 0.26666666666666666],\n",
       " |0110001100001100>: [1, 0.26666666666666666],\n",
       " |0011000110010001>: [10, 0.26666666666666666],\n",
       " |0110000101000101>: [1, 0.2],\n",
       " |1101100000001010>: [14, 0.2],\n",
       " |0101100100000011>: [16, 0.2],\n",
       " |0001000101101100>: [1, 0.2],\n",
       " |0111000100100100>: [6, 0.2],\n",
       " |1100110000100010>: [13, 0.2],\n",
       " |0111000100100001>: [7, 0.2],\n",
       " |1101100000100001>: [1, 0.2],\n",
       " |0111000100010001>: [5, 0.2]}"
      ]
     },
     "metadata": {},
     "output_type": "display_data"
    }
   ],
   "source": [
    "subgraph_density"
   ]
  },
  {
   "cell_type": "markdown",
   "metadata": {},
   "source": [
    "## 部分homodyne测量"
   ]
  },
  {
   "cell_type": "markdown",
   "metadata": {},
   "source": [
    "高斯后端还可以对几个mode做部分测量，那么剩余的量子态会根据相应的测量结果塌缩，先通过`cir.homodyne`添加测量操作，`wires`表示作用单条线路，`phi`对应测量角度，然后通过`cir.measure_homodyne`进行测量操作实现量子态坍缩。"
   ]
  },
  {
   "cell_type": "code",
   "execution_count": 13,
   "metadata": {},
   "outputs": [
    {
     "data": {
      "image/svg+xml": [
       "<svg baseProfile=\"full\" height=\"1.9090909090909092cm\" version=\"1.1\" width=\"12.0cm\" xmlns=\"http://www.w3.org/2000/svg\" xmlns:ev=\"http://www.w3.org/2001/xml-events\" xmlns:xlink=\"http://www.w3.org/1999/xlink\"><defs /><polyline fill=\"none\" points=\"40,30 130,30\" stroke=\"black\" stroke-width=\"2\" /><rect fill=\"royalblue\" height=\"12\" rx=\"0\" ry=\"0\" stroke=\"black\" stroke-width=\"1.5\" width=\"10\" x=\"82.5\" y=\"25\" /><text font-size=\"9\" x=\"83\" y=\"20\">S</text><text font-size=\"7\" x=\"95\" y=\"18\">r =1.0</text><text font-size=\"7\" x=\"95\" y=\"24\">θ =0.0</text><polyline fill=\"none\" points=\"40,60 130,60\" stroke=\"black\" stroke-width=\"2\" /><rect fill=\"royalblue\" height=\"12\" rx=\"0\" ry=\"0\" stroke=\"black\" stroke-width=\"1.5\" width=\"10\" x=\"82.5\" y=\"55\" /><text font-size=\"9\" x=\"83\" y=\"50\">S</text><text font-size=\"7\" x=\"95\" y=\"48\">r =1.0</text><text font-size=\"7\" x=\"95\" y=\"54\">θ =0.0</text><polyline fill=\"none\" points=\"130,30 220,30\" stroke=\"black\" stroke-width=\"2\" /><rect fill=\"green\" height=\"12\" rx=\"0\" ry=\"0\" stroke=\"black\" stroke-width=\"1.5\" width=\"10\" x=\"172.5\" y=\"25\" /><text font-size=\"9\" x=\"173\" y=\"20\">D</text><text font-size=\"7\" x=\"185\" y=\"18\">r =1.0</text><text font-size=\"7\" x=\"185\" y=\"24\">θ =0.0</text><polyline fill=\"none\" points=\"130,60 220,60\" stroke=\"black\" stroke-width=\"2\" /><rect fill=\"green\" height=\"12\" rx=\"0\" ry=\"0\" stroke=\"black\" stroke-width=\"1.5\" width=\"10\" x=\"172.5\" y=\"55\" /><text font-size=\"9\" x=\"173\" y=\"50\">D</text><text font-size=\"7\" x=\"185\" y=\"48\">r =1.0</text><text font-size=\"7\" x=\"185\" y=\"54\">θ =0.0</text><polyline fill=\"none\" points=\"220,30 240,30 270,60 310,60\" stroke=\"black\" stroke-width=\"2\" /><polyline fill=\"none\" points=\"220,60 240,60 270,30 310,30\" stroke=\"black\" stroke-width=\"2\" /><text font-size=\"9\" x=\"250\" y=\"25\">BS</text><text font-size=\"7\" x=\"265\" y=\"44\">θ =0.785</text><text font-size=\"7\" x=\"265\" y=\"50\">ϕ =0.785</text><polyline fill=\"none\" points=\"310,30 400,30\" stroke=\"black\" stroke-width=\"2\" /><rect fill=\"black\" height=\"14\" rx=\"0\" ry=\"0\" stroke=\"black\" stroke-width=\"1.5\" width=\"14\" x=\"352.5\" y=\"25\" /><text font-size=\"9\" x=\"355\" y=\"20\">M</text><path d=\"M 353.5 35.0 A 6 6 0 0 1 365.5 35.0\" fill=\"none\" stroke=\"white\" stroke-width=\"1.5\" /><path d=\"M 359.5 35.0 L 359.5 26.0\" fill=\"none\" stroke=\"white\" stroke-width=\"1.5\" transform=\"rotate(45 359.5 32.0)\" /><text font-size=\"7\" x=\"365\" y=\"20\">ϕ =0.0</text><polyline fill=\"none\" points=\"310,60 400,60\" stroke=\"black\" stroke-width=\"2\" /><text font-size=\"12\" x=\"25\" y=\"30\">0</text><text font-size=\"12\" x=\"25\" y=\"60\">1</text></svg>"
      ],
      "text/plain": [
       "<svgwrite.drawing.Drawing at 0x2708bde2fe0>"
      ]
     },
     "execution_count": 13,
     "metadata": {},
     "output_type": "execute_result"
    }
   ],
   "source": [
    "cir = dq.QumodeCircuit(nmode=2, init_state='vac', cutoff=3, backend='gaussian')\n",
    "cir.s(wires=0, r=1)\n",
    "cir.s(wires=1, r=1)\n",
    "cir.d(wires=0, r=1)\n",
    "cir.d(wires=1, r=1)\n",
    "cir.bs(wires=[0,1], inputs=[np.pi/4,np.pi/4])\n",
    "cir.homodyne(wires=0, phi=0)\n",
    "#线路可视化\n",
    "cir.draw()"
   ]
  },
  {
   "cell_type": "code",
   "execution_count": 14,
   "metadata": {},
   "outputs": [],
   "source": [
    "state = cir()\n",
    "sample = cir.measure_homodyne(shots=1) # 运行线路并进行一次采样\n",
    "state_measured = cir.state_measured # 得到采样后坍缩的量子态"
   ]
  },
  {
   "cell_type": "code",
   "execution_count": 15,
   "metadata": {},
   "outputs": [
    {
     "data": {
      "text/plain": [
       "(tensor(1.0685),\n",
       " [tensor([[[ 1.0000,  0.0000,  0.0000,  0.0000],\n",
       "           [ 0.0000,  1.9488,  0.0000, -1.8134],\n",
       "           [ 0.0000,  0.0000,  1.0000,  0.0000],\n",
       "           [ 0.0000, -1.8134,  0.0000,  2.2006]]]),\n",
       "  tensor([[[0.0000],\n",
       "           [2.4149],\n",
       "           [0.0000],\n",
       "           [0.1383]]])])"
      ]
     },
     "execution_count": 15,
     "metadata": {},
     "output_type": "execute_result"
    }
   ],
   "source": [
    "sample, state_measured"
   ]
  },
  {
   "cell_type": "markdown",
   "metadata": {},
   "source": [
    "## 延时线圈组成的时分复用线路"
   ]
  },
  {
   "cell_type": "markdown",
   "metadata": {},
   "source": [
    "通过`dq.QumodeCircuit`构造带延时线圈线路，通过`cir.delay`加入可调延时线圈，参数`wires` 表示作用的波导，`ntau`表示延时线圈内延时的个数，`inputs`表示延时线圈中可调参数，`convention` 对应两种，bs和mzi，对应延时线是`DelayBS`和`DelayMZI` 类型，默认是bs，对应一个单参数theta可调分束器和一个移相器。`encode`控制角度自由编码。"
   ]
  },
  {
   "cell_type": "code",
   "execution_count": null,
   "metadata": {
    "ExecuteTime": {
     "end_time": "2024-11-11T01:52:14.380864Z",
     "start_time": "2024-11-11T01:52:14.345797Z"
    }
   },
   "outputs": [
    {
     "data": {
      "image/svg+xml": [
       "<svg baseProfile=\"full\" height=\"1.9090909090909092cm\" version=\"1.1\" width=\"12.0cm\" xmlns=\"http://www.w3.org/2000/svg\" xmlns:ev=\"http://www.w3.org/2001/xml-events\" xmlns:xlink=\"http://www.w3.org/1999/xlink\"><defs /><polyline fill=\"none\" points=\"40,30 130,30\" stroke=\"black\" stroke-width=\"2\" /><rect fill=\"royalblue\" height=\"12\" rx=\"0\" ry=\"0\" stroke=\"black\" stroke-width=\"1.5\" width=\"10\" x=\"82.5\" y=\"25\" /><text font-size=\"9\" x=\"83\" y=\"20\">S</text><text font-size=\"7\" x=\"95\" y=\"18\">r =0.278</text><text font-size=\"7\" x=\"95\" y=\"24\">θ =1.057</text><polyline fill=\"none\" points=\"40,60 130,60\" stroke=\"black\" stroke-width=\"2\" /><rect fill=\"royalblue\" height=\"12\" rx=\"0\" ry=\"0\" stroke=\"black\" stroke-width=\"1.5\" width=\"10\" x=\"82.5\" y=\"55\" /><text font-size=\"9\" x=\"83\" y=\"50\">S</text><text font-size=\"7\" x=\"95\" y=\"48\">r =0.348</text><text font-size=\"7\" x=\"95\" y=\"54\">θ =1.944</text><polyline fill=\"none\" points=\"130,30 150,30 180,60 220,60\" stroke=\"black\" stroke-width=\"2\" /><polyline fill=\"none\" points=\"130,60 150,60 180,30 220,30\" stroke=\"black\" stroke-width=\"2\" /><text font-size=\"9\" x=\"160\" y=\"25\">BS</text><text font-size=\"7\" x=\"175\" y=\"44\">θ =3.0</text><text font-size=\"7\" x=\"175\" y=\"50\">ϕ =1.571</text><polyline fill=\"none\" points=\"220,30 310,30\" stroke=\"black\" stroke-width=\"2\" /><circle cx=\"266\" cy=\"21\" fill=\"white\" r=\"9\" stroke=\"black\" stroke-width=\"1.2\" /><text font-size=\"5\" x=\"260\" y=\"18\">N =1</text><text font-size=\"6\" x=\"278\" y=\"18\">θ =[3.]</text><text font-size=\"6\" x=\"278\" y=\"24\">ϕ =0.0</text><polyline fill=\"none\" points=\"220,60 310,60\" stroke=\"black\" stroke-width=\"2\" /><circle cx=\"266\" cy=\"51\" fill=\"white\" r=\"9\" stroke=\"black\" stroke-width=\"1.2\" /><text font-size=\"5\" x=\"260\" y=\"48\">N =1</text><text font-size=\"6\" x=\"278\" y=\"48\">θ =[3.]</text><text font-size=\"6\" x=\"278\" y=\"54\">ϕ =0.0</text><polyline fill=\"none\" points=\"310,30 400,30\" stroke=\"black\" stroke-width=\"2\" /><rect fill=\"black\" height=\"14\" rx=\"0\" ry=\"0\" stroke=\"black\" stroke-width=\"1.5\" width=\"14\" x=\"352.5\" y=\"25\" /><text font-size=\"9\" x=\"355\" y=\"20\">M</text><path d=\"M 353.5 35.0 A 6 6 0 0 1 365.5 35.0\" fill=\"none\" stroke=\"white\" stroke-width=\"1.5\" /><path d=\"M 359.5 35.0 L 359.5 26.0\" fill=\"none\" stroke=\"white\" stroke-width=\"1.5\" transform=\"rotate(45 359.5 32.0)\" /><text font-size=\"7\" x=\"365\" y=\"20\">ϕ =1.892</text><polyline fill=\"none\" points=\"310,60 400,60\" stroke=\"black\" stroke-width=\"2\" /><rect fill=\"black\" height=\"14\" rx=\"0\" ry=\"0\" stroke=\"black\" stroke-width=\"1.5\" width=\"14\" x=\"352.5\" y=\"55\" /><text font-size=\"9\" x=\"355\" y=\"50\">M</text><path d=\"M 353.5 65.0 A 6 6 0 0 1 365.5 65.0\" fill=\"none\" stroke=\"white\" stroke-width=\"1.5\" /><path d=\"M 359.5 65.0 L 359.5 56.0\" fill=\"none\" stroke=\"white\" stroke-width=\"1.5\" transform=\"rotate(45 359.5 62.0)\" /><text font-size=\"7\" x=\"365\" y=\"50\">ϕ =1.7</text><text font-size=\"12\" x=\"25\" y=\"30\">0</text><text font-size=\"12\" x=\"25\" y=\"60\">1</text></svg>"
      ],
      "text/plain": [
       "<svgwrite.drawing.Drawing at 0x2708beaf3d0>"
      ]
     },
     "execution_count": 16,
     "metadata": {},
     "output_type": "execute_result"
    }
   ],
   "source": [
    "r = 5\n",
    "nmode = 2\n",
    "cir = dq.QumodeCircuit(nmode=nmode, init_state='vac', cutoff=3, backend='gaussian')\n",
    "cir.s(0)\n",
    "cir.s(1)\n",
    "cir.bs_theta([0,1], [3])\n",
    "cir.delay(0, ntau=1, inputs=[3,0], encode=True)\n",
    "cir.delay(1, ntau=1, inputs=[3,0], encode=True)\n",
    "cir.homodyne(0)\n",
    "cir.homodyne(1)\n",
    "cir.draw()"
   ]
  },
  {
   "cell_type": "markdown",
   "metadata": {},
   "source": [
    "`dq.QumodeCircuit` 构造带延时线的线路只能进行单个时间步线路演化，是通过`cir.draw(unroll=True)` 可以得到初次测量的等效的空间线路，然后演化等效空间线路得到最后的结果。"
   ]
  },
  {
   "cell_type": "code",
   "execution_count": 17,
   "metadata": {
    "ExecuteTime": {
     "end_time": "2024-11-11T01:54:09.586241Z",
     "start_time": "2024-11-11T01:54:09.558335Z"
    }
   },
   "outputs": [
    {
     "data": {
      "image/svg+xml": [
       "<svg baseProfile=\"full\" height=\"3.8181818181818183cm\" version=\"1.1\" width=\"12.0cm\" xmlns=\"http://www.w3.org/2000/svg\" xmlns:ev=\"http://www.w3.org/2001/xml-events\" xmlns:xlink=\"http://www.w3.org/1999/xlink\"><defs /><polyline fill=\"none\" points=\"40,60 130,60\" stroke=\"black\" stroke-width=\"2\" /><rect fill=\"royalblue\" height=\"12\" rx=\"0\" ry=\"0\" stroke=\"black\" stroke-width=\"1.5\" width=\"10\" x=\"82.5\" y=\"55\" /><text font-size=\"9\" x=\"83\" y=\"50\">S</text><text font-size=\"7\" x=\"95\" y=\"48\">r =0.278</text><text font-size=\"7\" x=\"95\" y=\"54\">θ =1.057</text><polyline fill=\"none\" points=\"40,120 130,120\" stroke=\"black\" stroke-width=\"2\" /><rect fill=\"royalblue\" height=\"12\" rx=\"0\" ry=\"0\" stroke=\"black\" stroke-width=\"1.5\" width=\"10\" x=\"82.5\" y=\"115\" /><text font-size=\"9\" x=\"83\" y=\"110\">S</text><text font-size=\"7\" x=\"95\" y=\"108\">r =0.348</text><text font-size=\"7\" x=\"95\" y=\"114\">θ =1.944</text><polyline fill=\"none\" points=\"130,60 150,60 180,120 220,120\" stroke=\"black\" stroke-width=\"2\" /><polyline fill=\"none\" points=\"130,120 150,120 180,60 220,60\" stroke=\"black\" stroke-width=\"2\" /><text font-size=\"9\" x=\"160\" y=\"55\">BS</text><text font-size=\"7\" x=\"175\" y=\"74\">θ =3.0</text><text font-size=\"7\" x=\"175\" y=\"80\">ϕ =1.571</text><polyline fill=\"none\" points=\"220,30 240,30 270,60 310,60\" stroke=\"black\" stroke-width=\"2\" /><polyline fill=\"none\" points=\"220,60 240,60 270,30 310,30\" stroke=\"black\" stroke-width=\"2\" /><text font-size=\"9\" x=\"250\" y=\"25\">BS</text><text font-size=\"7\" x=\"265\" y=\"44\">θ =3.0</text><text font-size=\"7\" x=\"265\" y=\"50\">ϕ =1.571</text><polyline fill=\"none\" points=\"310,30 400,30\" stroke=\"black\" stroke-width=\"2\" /><rect fill=\"teal\" height=\"12\" rx=\"0\" ry=\"0\" stroke=\"black\" stroke-width=\"1.5\" width=\"6\" x=\"352.5\" y=\"25\" /><text font-size=\"9\" x=\"350\" y=\"20\">PS</text><text font-size=\"7\" x=\"365\" y=\"20\">θ =0.0</text><polyline fill=\"none\" points=\"220,90 240,90 270,120 310,120\" stroke=\"black\" stroke-width=\"2\" /><polyline fill=\"none\" points=\"220,120 240,120 270,90 310,90\" stroke=\"black\" stroke-width=\"2\" /><text font-size=\"9\" x=\"250\" y=\"85\">BS</text><text font-size=\"7\" x=\"265\" y=\"104\">θ =3.0</text><text font-size=\"7\" x=\"265\" y=\"110\">ϕ =1.571</text><polyline fill=\"none\" points=\"310,90 400,90\" stroke=\"black\" stroke-width=\"2\" /><rect fill=\"teal\" height=\"12\" rx=\"0\" ry=\"0\" stroke=\"black\" stroke-width=\"1.5\" width=\"6\" x=\"352.5\" y=\"85\" /><text font-size=\"9\" x=\"350\" y=\"80\">PS</text><text font-size=\"7\" x=\"365\" y=\"80\">θ =0.0</text><polyline fill=\"none\" points=\"310,60 400,60\" stroke=\"black\" stroke-width=\"2\" /><rect fill=\"black\" height=\"14\" rx=\"0\" ry=\"0\" stroke=\"black\" stroke-width=\"1.5\" width=\"14\" x=\"352.5\" y=\"55\" /><text font-size=\"9\" x=\"355\" y=\"50\">M</text><path d=\"M 353.5 65.0 A 6 6 0 0 1 365.5 65.0\" fill=\"none\" stroke=\"white\" stroke-width=\"1.5\" /><path d=\"M 359.5 65.0 L 359.5 56.0\" fill=\"none\" stroke=\"white\" stroke-width=\"1.5\" transform=\"rotate(45 359.5 62.0)\" /><text font-size=\"7\" x=\"365\" y=\"50\">ϕ =1.892</text><polyline fill=\"none\" points=\"310,120 400,120\" stroke=\"black\" stroke-width=\"2\" /><rect fill=\"black\" height=\"14\" rx=\"0\" ry=\"0\" stroke=\"black\" stroke-width=\"1.5\" width=\"14\" x=\"352.5\" y=\"115\" /><text font-size=\"9\" x=\"355\" y=\"110\">M</text><path d=\"M 353.5 125.0 A 6 6 0 0 1 365.5 125.0\" fill=\"none\" stroke=\"white\" stroke-width=\"1.5\" /><path d=\"M 359.5 125.0 L 359.5 116.0\" fill=\"none\" stroke=\"white\" stroke-width=\"1.5\" transform=\"rotate(45 359.5 122.0)\" /><text font-size=\"7\" x=\"365\" y=\"110\">ϕ =1.7</text><polyline fill=\"none\" points=\"40,30 130,30\" stroke=\"black\" stroke-width=\"2\" /><polyline fill=\"none\" points=\"40,90 130,90\" stroke=\"black\" stroke-width=\"2\" /><polyline fill=\"none\" points=\"130,30 220,30\" stroke=\"black\" stroke-width=\"2\" /><polyline fill=\"none\" points=\"130,90 220,90\" stroke=\"black\" stroke-width=\"2\" /><text font-size=\"12\" x=\"25\" y=\"30\">0</text><text font-size=\"12\" x=\"25\" y=\"60\">1</text><text font-size=\"12\" x=\"25\" y=\"90\">2</text><text font-size=\"12\" x=\"25\" y=\"120\">3</text></svg>"
      ],
      "text/plain": [
       "<svgwrite.drawing.Drawing at 0x2708beae380>"
      ]
     },
     "execution_count": 17,
     "metadata": {},
     "output_type": "execute_result"
    }
   ],
   "source": [
    "cir.draw(unroll=True)"
   ]
  },
  {
   "cell_type": "code",
   "execution_count": 18,
   "metadata": {
    "ExecuteTime": {
     "end_time": "2024-11-11T01:54:25.800393Z",
     "start_time": "2024-11-11T01:54:25.763887Z"
    },
    "collapsed": true
   },
   "outputs": [
    {
     "data": {
      "text/plain": [
       "[tensor([[[ 1.0089e+00, -6.7838e-02,  3.3727e-03, -1.5750e-03,  9.6701e-03,\n",
       "            6.2609e-02,  2.2451e-04,  2.3660e-02],\n",
       "          [-6.7838e-02,  8.7558e-01,  2.0884e-03, -1.6598e-01,  1.7736e-02,\n",
       "           -4.7590e-01,  2.3660e-02,  1.4650e-02],\n",
       "          [ 3.3727e-03,  2.0884e-03,  9.9952e-01, -9.4771e-02, -2.9769e-04,\n",
       "            2.3660e-02,  1.3509e-02, -3.3836e-03],\n",
       "          [-1.5750e-03, -1.6598e-01, -9.4771e-02,  1.5152e+00,  2.3660e-02,\n",
       "           -1.1049e-02, -7.3433e-02, -6.6484e-01],\n",
       "          [ 9.6701e-03,  1.7736e-02, -2.9769e-04,  2.3660e-02,  9.9747e-01,\n",
       "            6.7838e-02, -3.3727e-03, -2.0884e-03],\n",
       "          [ 6.2609e-02, -4.7590e-01,  2.3660e-02, -1.1049e-02,  6.7838e-02,\n",
       "            1.4392e+00,  1.5750e-03,  1.6598e-01],\n",
       "          [ 2.2451e-04,  2.3660e-02,  1.3509e-02, -7.3433e-02, -3.3727e-03,\n",
       "            1.5750e-03,  1.0105e+00,  9.4771e-02],\n",
       "          [ 2.3660e-02,  1.4650e-02, -3.3836e-03, -6.6484e-01, -2.0884e-03,\n",
       "            1.6598e-01,  9.4771e-02,  9.7626e-01]]], grad_fn=<IndexBackward0>),\n",
       " tensor([[[0.],\n",
       "          [0.],\n",
       "          [0.],\n",
       "          [0.],\n",
       "          [0.],\n",
       "          [0.],\n",
       "          [0.],\n",
       "          [0.]]], grad_fn=<IndexBackward0>)]"
      ]
     },
     "execution_count": 18,
     "metadata": {},
     "output_type": "execute_result"
    }
   ],
   "source": [
    "state = cir()\n",
    "state"
   ]
  },
  {
   "cell_type": "markdown",
   "metadata": {},
   "source": [
    "若要进行n次测量实验，得到对应的空间等效线路，可以通过`cir.global_circuit` 设置`nstep`得到，当设置`encode=True`的门必定不共享，因为是多个输入数据，`use_deepcopy`只控制变分参数的门是不是共享变分参数。"
   ]
  },
  {
   "cell_type": "code",
   "execution_count": 19,
   "metadata": {},
   "outputs": [],
   "source": [
    "r = 5\n",
    "nmode = 2\n",
    "cir = dq.QumodeCircuit(nmode=nmode, init_state='vac', cutoff=3, backend='gaussian')\n",
    "cir.s(0)\n",
    "cir.s(1)\n",
    "cir.bs_theta([0,1], [3])\n",
    "cir.delay(0, ntau=1, inputs=[3,0], encode=True)\n",
    "cir.delay(1, ntau=1, inputs=[3,0], encode=True)\n",
    "cir.homodyne(0)\n",
    "cir.homodyne(1)"
   ]
  },
  {
   "cell_type": "code",
   "execution_count": 20,
   "metadata": {},
   "outputs": [
    {
     "data": {
      "image/svg+xml": [
       "<svg baseProfile=\"full\" height=\"7.636363636363637cm\" version=\"1.1\" width=\"33.6cm\" xmlns=\"http://www.w3.org/2000/svg\" xmlns:ev=\"http://www.w3.org/2001/xml-events\" xmlns:xlink=\"http://www.w3.org/1999/xlink\"><defs /><polyline fill=\"none\" points=\"40,60 130,60\" stroke=\"black\" stroke-width=\"2\" /><rect fill=\"royalblue\" height=\"12\" rx=\"0\" ry=\"0\" stroke=\"black\" stroke-width=\"1.5\" width=\"10\" x=\"82.5\" y=\"55\" /><text font-size=\"9\" x=\"83\" y=\"50\">S</text><text font-size=\"7\" x=\"95\" y=\"48\">r =0.738</text><text font-size=\"7\" x=\"95\" y=\"54\">θ =5.928</text><polyline fill=\"none\" points=\"40,120 130,120\" stroke=\"black\" stroke-width=\"2\" /><rect fill=\"royalblue\" height=\"12\" rx=\"0\" ry=\"0\" stroke=\"black\" stroke-width=\"1.5\" width=\"10\" x=\"82.5\" y=\"115\" /><text font-size=\"9\" x=\"83\" y=\"110\">S</text><text font-size=\"7\" x=\"95\" y=\"108\">r =0.753</text><text font-size=\"7\" x=\"95\" y=\"114\">θ =2.212</text><polyline fill=\"none\" points=\"130,60 150,60 180,120 220,120\" stroke=\"black\" stroke-width=\"2\" /><polyline fill=\"none\" points=\"130,120 150,120 180,60 220,60\" stroke=\"black\" stroke-width=\"2\" /><text font-size=\"9\" x=\"160\" y=\"55\">BS</text><text font-size=\"7\" x=\"175\" y=\"74\">θ =3.0</text><text font-size=\"7\" x=\"175\" y=\"80\">ϕ =1.571</text><polyline fill=\"none\" points=\"220,30 240,30 270,60 310,60\" stroke=\"black\" stroke-width=\"2\" /><polyline fill=\"none\" points=\"220,60 240,60 270,30 310,30\" stroke=\"black\" stroke-width=\"2\" /><text font-size=\"9\" x=\"250\" y=\"25\">BS</text><text font-size=\"7\" x=\"265\" y=\"44\">θ =3.0</text><text font-size=\"7\" x=\"265\" y=\"50\">ϕ =1.571</text><polyline fill=\"none\" points=\"310,30 400,30\" stroke=\"black\" stroke-width=\"2\" /><rect fill=\"teal\" height=\"12\" rx=\"0\" ry=\"0\" stroke=\"black\" stroke-width=\"1.5\" width=\"6\" x=\"352.5\" y=\"25\" /><text font-size=\"9\" x=\"350\" y=\"20\">PS</text><text font-size=\"7\" x=\"365\" y=\"20\">θ =0.0</text><polyline fill=\"none\" points=\"220,90 240,90 270,120 310,120\" stroke=\"black\" stroke-width=\"2\" /><polyline fill=\"none\" points=\"220,120 240,120 270,90 310,90\" stroke=\"black\" stroke-width=\"2\" /><text font-size=\"9\" x=\"250\" y=\"85\">BS</text><text font-size=\"7\" x=\"265\" y=\"104\">θ =3.0</text><text font-size=\"7\" x=\"265\" y=\"110\">ϕ =1.571</text><polyline fill=\"none\" points=\"310,90 400,90\" stroke=\"black\" stroke-width=\"2\" /><rect fill=\"teal\" height=\"12\" rx=\"0\" ry=\"0\" stroke=\"black\" stroke-width=\"1.5\" width=\"6\" x=\"352.5\" y=\"85\" /><text font-size=\"9\" x=\"350\" y=\"80\">PS</text><text font-size=\"7\" x=\"365\" y=\"80\">θ =0.0</text><polyline fill=\"none\" points=\"310,60 400,60\" stroke=\"black\" stroke-width=\"2\" /><rect fill=\"black\" height=\"14\" rx=\"0\" ry=\"0\" stroke=\"black\" stroke-width=\"1.5\" width=\"14\" x=\"352.5\" y=\"55\" /><text font-size=\"9\" x=\"355\" y=\"50\">M</text><path d=\"M 353.5 65.0 A 6 6 0 0 1 365.5 65.0\" fill=\"none\" stroke=\"white\" stroke-width=\"1.5\" /><path d=\"M 359.5 65.0 L 359.5 56.0\" fill=\"none\" stroke=\"white\" stroke-width=\"1.5\" transform=\"rotate(45 359.5 62.0)\" /><text font-size=\"7\" x=\"365\" y=\"50\">ϕ =3.527</text><polyline fill=\"none\" points=\"310,120 400,120\" stroke=\"black\" stroke-width=\"2\" /><rect fill=\"black\" height=\"14\" rx=\"0\" ry=\"0\" stroke=\"black\" stroke-width=\"1.5\" width=\"14\" x=\"352.5\" y=\"115\" /><text font-size=\"9\" x=\"355\" y=\"110\">M</text><path d=\"M 353.5 125.0 A 6 6 0 0 1 365.5 125.0\" fill=\"none\" stroke=\"white\" stroke-width=\"1.5\" /><path d=\"M 359.5 125.0 L 359.5 116.0\" fill=\"none\" stroke=\"white\" stroke-width=\"1.5\" transform=\"rotate(45 359.5 122.0)\" /><text font-size=\"7\" x=\"365\" y=\"110\">ϕ =5.359</text><polyline fill=\"none\" points=\"40,30 130,30\" stroke=\"black\" stroke-width=\"2\" /><polyline fill=\"none\" points=\"40,90 130,90\" stroke=\"black\" stroke-width=\"2\" /><polyline fill=\"none\" points=\"40,150 130,150\" stroke=\"black\" stroke-width=\"2\" /><polyline fill=\"none\" points=\"40,180 130,180\" stroke=\"black\" stroke-width=\"2\" /><polyline fill=\"none\" points=\"40,210 130,210\" stroke=\"black\" stroke-width=\"2\" /><polyline fill=\"none\" points=\"40,240 130,240\" stroke=\"black\" stroke-width=\"2\" /><polyline fill=\"none\" points=\"130,30 220,30\" stroke=\"black\" stroke-width=\"2\" /><polyline fill=\"none\" points=\"130,90 220,90\" stroke=\"black\" stroke-width=\"2\" /><polyline fill=\"none\" points=\"130,150 220,150\" stroke=\"black\" stroke-width=\"2\" /><polyline fill=\"none\" points=\"130,180 220,180\" stroke=\"black\" stroke-width=\"2\" /><polyline fill=\"none\" points=\"130,210 220,210\" stroke=\"black\" stroke-width=\"2\" /><polyline fill=\"none\" points=\"130,240 220,240\" stroke=\"black\" stroke-width=\"2\" /><polyline fill=\"none\" points=\"220,150 310,150\" stroke=\"black\" stroke-width=\"2\" /><polyline fill=\"none\" points=\"220,180 310,180\" stroke=\"black\" stroke-width=\"2\" /><polyline fill=\"none\" points=\"220,210 310,210\" stroke=\"black\" stroke-width=\"2\" /><polyline fill=\"none\" points=\"220,240 310,240\" stroke=\"black\" stroke-width=\"2\" /><polyline fill=\"none\" points=\"310,150 400,150\" stroke=\"black\" stroke-width=\"2\" /><polyline fill=\"none\" points=\"310,180 400,180\" stroke=\"black\" stroke-width=\"2\" /><polyline fill=\"none\" points=\"310,210 400,210\" stroke=\"black\" stroke-width=\"2\" /><polyline fill=\"none\" points=\"310,240 400,240\" stroke=\"black\" stroke-width=\"2\" /><text font-size=\"12\" x=\"25\" y=\"30\">0</text><text font-size=\"12\" x=\"25\" y=\"60\">1</text><text font-size=\"12\" x=\"25\" y=\"90\">2</text><text font-size=\"12\" x=\"25\" y=\"120\">3</text><text font-size=\"12\" x=\"25\" y=\"150\">4</text><text font-size=\"12\" x=\"25\" y=\"180\">5</text><text font-size=\"12\" x=\"25\" y=\"210\">6</text><text font-size=\"12\" x=\"25\" y=\"240\">7</text><polyline fill=\"none\" points=\"400,15 400,265\" stroke=\"black\" stroke-dasharray=\"5,5\" stroke-width=\"2\" /><polyline fill=\"none\" points=\"400,150 490,150\" stroke=\"black\" stroke-width=\"2\" /><rect fill=\"royalblue\" height=\"12\" rx=\"0\" ry=\"0\" stroke=\"black\" stroke-width=\"1.5\" width=\"10\" x=\"442.5\" y=\"145\" /><text font-size=\"9\" x=\"443\" y=\"140\">S</text><text font-size=\"7\" x=\"455\" y=\"138\">r =0.738</text><text font-size=\"7\" x=\"455\" y=\"144\">θ =5.928</text><polyline fill=\"none\" points=\"400,180 490,180\" stroke=\"black\" stroke-width=\"2\" /><rect fill=\"royalblue\" height=\"12\" rx=\"0\" ry=\"0\" stroke=\"black\" stroke-width=\"1.5\" width=\"10\" x=\"442.5\" y=\"175\" /><text font-size=\"9\" x=\"443\" y=\"170\">S</text><text font-size=\"7\" x=\"455\" y=\"168\">r =0.753</text><text font-size=\"7\" x=\"455\" y=\"174\">θ =2.212</text><polyline fill=\"none\" points=\"490,150 510,150 540,180 580,180\" stroke=\"black\" stroke-width=\"2\" /><polyline fill=\"none\" points=\"490,180 510,180 540,150 580,150\" stroke=\"black\" stroke-width=\"2\" /><text font-size=\"9\" x=\"520\" y=\"145\">BS</text><text font-size=\"7\" x=\"535\" y=\"164\">θ =3.0</text><text font-size=\"7\" x=\"535\" y=\"170\">ϕ =1.571</text><polyline fill=\"none\" points=\"580,30 600,30 630,150 670,150\" stroke=\"black\" stroke-width=\"2\" /><polyline fill=\"none\" points=\"580,150 600,150 630,30 670,30\" stroke=\"black\" stroke-width=\"2\" /><text font-size=\"9\" x=\"610\" y=\"25\">BS</text><text font-size=\"7\" x=\"625\" y=\"44\">θ =3.0</text><text font-size=\"7\" x=\"625\" y=\"50\">ϕ =1.571</text><polyline fill=\"none\" points=\"670,30 760,30\" stroke=\"black\" stroke-width=\"2\" /><rect fill=\"teal\" height=\"12\" rx=\"0\" ry=\"0\" stroke=\"black\" stroke-width=\"1.5\" width=\"6\" x=\"712.5\" y=\"25\" /><text font-size=\"9\" x=\"710\" y=\"20\">PS</text><text font-size=\"7\" x=\"725\" y=\"20\">θ =0.0</text><polyline fill=\"none\" points=\"580,90 600,90 630,180 670,180\" stroke=\"black\" stroke-width=\"2\" /><polyline fill=\"none\" points=\"580,180 600,180 630,90 670,90\" stroke=\"black\" stroke-width=\"2\" /><text font-size=\"9\" x=\"610\" y=\"85\">BS</text><text font-size=\"7\" x=\"625\" y=\"104\">θ =3.0</text><text font-size=\"7\" x=\"625\" y=\"110\">ϕ =1.571</text><polyline fill=\"none\" points=\"670,90 760,90\" stroke=\"black\" stroke-width=\"2\" /><rect fill=\"teal\" height=\"12\" rx=\"0\" ry=\"0\" stroke=\"black\" stroke-width=\"1.5\" width=\"6\" x=\"712.5\" y=\"85\" /><text font-size=\"9\" x=\"710\" y=\"80\">PS</text><text font-size=\"7\" x=\"725\" y=\"80\">θ =0.0</text><polyline fill=\"none\" points=\"670,150 760,150\" stroke=\"black\" stroke-width=\"2\" /><rect fill=\"black\" height=\"14\" rx=\"0\" ry=\"0\" stroke=\"black\" stroke-width=\"1.5\" width=\"14\" x=\"712.5\" y=\"145\" /><text font-size=\"9\" x=\"715\" y=\"140\">M</text><path d=\"M 713.5 155.0 A 6 6 0 0 1 725.5 155.0\" fill=\"none\" stroke=\"white\" stroke-width=\"1.5\" /><path d=\"M 719.5 155.0 L 719.5 146.0\" fill=\"none\" stroke=\"white\" stroke-width=\"1.5\" transform=\"rotate(45 719.5 152.0)\" /><text font-size=\"7\" x=\"725\" y=\"140\">ϕ =3.527</text><polyline fill=\"none\" points=\"670,180 760,180\" stroke=\"black\" stroke-width=\"2\" /><rect fill=\"black\" height=\"14\" rx=\"0\" ry=\"0\" stroke=\"black\" stroke-width=\"1.5\" width=\"14\" x=\"712.5\" y=\"175\" /><text font-size=\"9\" x=\"715\" y=\"170\">M</text><path d=\"M 713.5 185.0 A 6 6 0 0 1 725.5 185.0\" fill=\"none\" stroke=\"white\" stroke-width=\"1.5\" /><path d=\"M 719.5 185.0 L 719.5 176.0\" fill=\"none\" stroke=\"white\" stroke-width=\"1.5\" transform=\"rotate(45 719.5 182.0)\" /><text font-size=\"7\" x=\"725\" y=\"170\">ϕ =5.359</text><polyline fill=\"none\" points=\"400,30 490,30\" stroke=\"black\" stroke-width=\"2\" /><polyline fill=\"none\" points=\"400,60 490,60\" stroke=\"black\" stroke-width=\"2\" /><polyline fill=\"none\" points=\"400,90 490,90\" stroke=\"black\" stroke-width=\"2\" /><polyline fill=\"none\" points=\"400,120 490,120\" stroke=\"black\" stroke-width=\"2\" /><polyline fill=\"none\" points=\"400,210 490,210\" stroke=\"black\" stroke-width=\"2\" /><polyline fill=\"none\" points=\"400,240 490,240\" stroke=\"black\" stroke-width=\"2\" /><polyline fill=\"none\" points=\"490,30 580,30\" stroke=\"black\" stroke-width=\"2\" /><polyline fill=\"none\" points=\"490,60 580,60\" stroke=\"black\" stroke-width=\"2\" /><polyline fill=\"none\" points=\"490,90 580,90\" stroke=\"black\" stroke-width=\"2\" /><polyline fill=\"none\" points=\"490,120 580,120\" stroke=\"black\" stroke-width=\"2\" /><polyline fill=\"none\" points=\"490,210 580,210\" stroke=\"black\" stroke-width=\"2\" /><polyline fill=\"none\" points=\"490,240 580,240\" stroke=\"black\" stroke-width=\"2\" /><polyline fill=\"none\" points=\"580,60 670,60\" stroke=\"black\" stroke-width=\"2\" /><polyline fill=\"none\" points=\"580,120 670,120\" stroke=\"black\" stroke-width=\"2\" /><polyline fill=\"none\" points=\"580,210 670,210\" stroke=\"black\" stroke-width=\"2\" /><polyline fill=\"none\" points=\"580,240 670,240\" stroke=\"black\" stroke-width=\"2\" /><polyline fill=\"none\" points=\"670,60 760,60\" stroke=\"black\" stroke-width=\"2\" /><polyline fill=\"none\" points=\"670,120 760,120\" stroke=\"black\" stroke-width=\"2\" /><polyline fill=\"none\" points=\"670,210 760,210\" stroke=\"black\" stroke-width=\"2\" /><polyline fill=\"none\" points=\"670,240 760,240\" stroke=\"black\" stroke-width=\"2\" /><text font-size=\"12\" x=\"25\" y=\"30\">0</text><text font-size=\"12\" x=\"25\" y=\"60\">1</text><text font-size=\"12\" x=\"25\" y=\"90\">2</text><text font-size=\"12\" x=\"25\" y=\"120\">3</text><text font-size=\"12\" x=\"25\" y=\"150\">4</text><text font-size=\"12\" x=\"25\" y=\"180\">5</text><text font-size=\"12\" x=\"25\" y=\"210\">6</text><text font-size=\"12\" x=\"25\" y=\"240\">7</text><polyline fill=\"none\" points=\"760,15 760,265\" stroke=\"black\" stroke-dasharray=\"5,5\" stroke-width=\"2\" /><polyline fill=\"none\" points=\"760,210 850,210\" stroke=\"black\" stroke-width=\"2\" /><rect fill=\"royalblue\" height=\"12\" rx=\"0\" ry=\"0\" stroke=\"black\" stroke-width=\"1.5\" width=\"10\" x=\"802.5\" y=\"205\" /><text font-size=\"9\" x=\"803\" y=\"200\">S</text><text font-size=\"7\" x=\"815\" y=\"198\">r =0.738</text><text font-size=\"7\" x=\"815\" y=\"204\">θ =5.928</text><polyline fill=\"none\" points=\"760,240 850,240\" stroke=\"black\" stroke-width=\"2\" /><rect fill=\"royalblue\" height=\"12\" rx=\"0\" ry=\"0\" stroke=\"black\" stroke-width=\"1.5\" width=\"10\" x=\"802.5\" y=\"235\" /><text font-size=\"9\" x=\"803\" y=\"230\">S</text><text font-size=\"7\" x=\"815\" y=\"228\">r =0.753</text><text font-size=\"7\" x=\"815\" y=\"234\">θ =2.212</text><polyline fill=\"none\" points=\"850,210 870,210 900,240 940,240\" stroke=\"black\" stroke-width=\"2\" /><polyline fill=\"none\" points=\"850,240 870,240 900,210 940,210\" stroke=\"black\" stroke-width=\"2\" /><text font-size=\"9\" x=\"880\" y=\"205\">BS</text><text font-size=\"7\" x=\"895\" y=\"224\">θ =3.0</text><text font-size=\"7\" x=\"895\" y=\"230\">ϕ =1.571</text><polyline fill=\"none\" points=\"940,30 960,30 990,210 1030,210\" stroke=\"black\" stroke-width=\"2\" /><polyline fill=\"none\" points=\"940,210 960,210 990,30 1030,30\" stroke=\"black\" stroke-width=\"2\" /><text font-size=\"9\" x=\"970\" y=\"25\">BS</text><text font-size=\"7\" x=\"985\" y=\"44\">θ =3.0</text><text font-size=\"7\" x=\"985\" y=\"50\">ϕ =1.571</text><polyline fill=\"none\" points=\"1030,30 1120,30\" stroke=\"black\" stroke-width=\"2\" /><rect fill=\"teal\" height=\"12\" rx=\"0\" ry=\"0\" stroke=\"black\" stroke-width=\"1.5\" width=\"6\" x=\"1072.5\" y=\"25\" /><text font-size=\"9\" x=\"1070\" y=\"20\">PS</text><text font-size=\"7\" x=\"1085\" y=\"20\">θ =0.0</text><polyline fill=\"none\" points=\"940,90 960,90 990,240 1030,240\" stroke=\"black\" stroke-width=\"2\" /><polyline fill=\"none\" points=\"940,240 960,240 990,90 1030,90\" stroke=\"black\" stroke-width=\"2\" /><text font-size=\"9\" x=\"970\" y=\"85\">BS</text><text font-size=\"7\" x=\"985\" y=\"104\">θ =3.0</text><text font-size=\"7\" x=\"985\" y=\"110\">ϕ =1.571</text><polyline fill=\"none\" points=\"1030,90 1120,90\" stroke=\"black\" stroke-width=\"2\" /><rect fill=\"teal\" height=\"12\" rx=\"0\" ry=\"0\" stroke=\"black\" stroke-width=\"1.5\" width=\"6\" x=\"1072.5\" y=\"85\" /><text font-size=\"9\" x=\"1070\" y=\"80\">PS</text><text font-size=\"7\" x=\"1085\" y=\"80\">θ =0.0</text><polyline fill=\"none\" points=\"1030,210 1120,210\" stroke=\"black\" stroke-width=\"2\" /><rect fill=\"black\" height=\"14\" rx=\"0\" ry=\"0\" stroke=\"black\" stroke-width=\"1.5\" width=\"14\" x=\"1072.5\" y=\"205\" /><text font-size=\"9\" x=\"1075\" y=\"200\">M</text><path d=\"M 1073.5 215.0 A 6 6 0 0 1 1085.5 215.0\" fill=\"none\" stroke=\"white\" stroke-width=\"1.5\" /><path d=\"M 1079.5 215.0 L 1079.5 206.0\" fill=\"none\" stroke=\"white\" stroke-width=\"1.5\" transform=\"rotate(45 1079.5 212.0)\" /><text font-size=\"7\" x=\"1085\" y=\"200\">ϕ =3.527</text><polyline fill=\"none\" points=\"1030,240 1120,240\" stroke=\"black\" stroke-width=\"2\" /><rect fill=\"black\" height=\"14\" rx=\"0\" ry=\"0\" stroke=\"black\" stroke-width=\"1.5\" width=\"14\" x=\"1072.5\" y=\"235\" /><text font-size=\"9\" x=\"1075\" y=\"230\">M</text><path d=\"M 1073.5 245.0 A 6 6 0 0 1 1085.5 245.0\" fill=\"none\" stroke=\"white\" stroke-width=\"1.5\" /><path d=\"M 1079.5 245.0 L 1079.5 236.0\" fill=\"none\" stroke=\"white\" stroke-width=\"1.5\" transform=\"rotate(45 1079.5 242.0)\" /><text font-size=\"7\" x=\"1085\" y=\"230\">ϕ =5.359</text><polyline fill=\"none\" points=\"760,30 850,30\" stroke=\"black\" stroke-width=\"2\" /><polyline fill=\"none\" points=\"760,60 850,60\" stroke=\"black\" stroke-width=\"2\" /><polyline fill=\"none\" points=\"760,90 850,90\" stroke=\"black\" stroke-width=\"2\" /><polyline fill=\"none\" points=\"760,120 850,120\" stroke=\"black\" stroke-width=\"2\" /><polyline fill=\"none\" points=\"760,150 850,150\" stroke=\"black\" stroke-width=\"2\" /><polyline fill=\"none\" points=\"760,180 850,180\" stroke=\"black\" stroke-width=\"2\" /><polyline fill=\"none\" points=\"850,30 940,30\" stroke=\"black\" stroke-width=\"2\" /><polyline fill=\"none\" points=\"850,60 940,60\" stroke=\"black\" stroke-width=\"2\" /><polyline fill=\"none\" points=\"850,90 940,90\" stroke=\"black\" stroke-width=\"2\" /><polyline fill=\"none\" points=\"850,120 940,120\" stroke=\"black\" stroke-width=\"2\" /><polyline fill=\"none\" points=\"850,150 940,150\" stroke=\"black\" stroke-width=\"2\" /><polyline fill=\"none\" points=\"850,180 940,180\" stroke=\"black\" stroke-width=\"2\" /><polyline fill=\"none\" points=\"940,60 1030,60\" stroke=\"black\" stroke-width=\"2\" /><polyline fill=\"none\" points=\"940,120 1030,120\" stroke=\"black\" stroke-width=\"2\" /><polyline fill=\"none\" points=\"940,150 1030,150\" stroke=\"black\" stroke-width=\"2\" /><polyline fill=\"none\" points=\"940,180 1030,180\" stroke=\"black\" stroke-width=\"2\" /><polyline fill=\"none\" points=\"1030,60 1120,60\" stroke=\"black\" stroke-width=\"2\" /><polyline fill=\"none\" points=\"1030,120 1120,120\" stroke=\"black\" stroke-width=\"2\" /><polyline fill=\"none\" points=\"1030,150 1120,150\" stroke=\"black\" stroke-width=\"2\" /><polyline fill=\"none\" points=\"1030,180 1120,180\" stroke=\"black\" stroke-width=\"2\" /><text font-size=\"12\" x=\"25\" y=\"30\">0</text><text font-size=\"12\" x=\"25\" y=\"60\">1</text><text font-size=\"12\" x=\"25\" y=\"90\">2</text><text font-size=\"12\" x=\"25\" y=\"120\">3</text><text font-size=\"12\" x=\"25\" y=\"150\">4</text><text font-size=\"12\" x=\"25\" y=\"180\">5</text><text font-size=\"12\" x=\"25\" y=\"210\">6</text><text font-size=\"12\" x=\"25\" y=\"240\">7</text><polyline fill=\"none\" points=\"1120,15 1120,265\" stroke=\"black\" stroke-dasharray=\"5,5\" stroke-width=\"2\" /></svg>"
      ],
      "text/plain": [
       "<svgwrite.drawing.Drawing at 0x2708bf39ba0>"
      ]
     },
     "execution_count": 20,
     "metadata": {},
     "output_type": "execute_result"
    }
   ],
   "source": [
    "cir_global = cir.global_circuit(nstep=3, use_deepcopy=True)\n",
    "cir_global.draw(unroll=True) # draw global circuit"
   ]
  },
  {
   "cell_type": "code",
   "execution_count": 21,
   "metadata": {},
   "outputs": [
    {
     "data": {
      "text/plain": [
       "12"
      ]
     },
     "execution_count": 21,
     "metadata": {},
     "output_type": "execute_result"
    }
   ],
   "source": [
    "cir_global.ndata"
   ]
  },
  {
   "cell_type": "markdown",
   "metadata": {},
   "source": [
    "当设置对应的`encode=True`，就可以自由编码global 线路的角度"
   ]
  },
  {
   "cell_type": "code",
   "execution_count": 22,
   "metadata": {},
   "outputs": [
    {
     "data": {
      "image/svg+xml": [
       "<svg baseProfile=\"full\" height=\"7.636363636363637cm\" version=\"1.1\" width=\"33.6cm\" xmlns=\"http://www.w3.org/2000/svg\" xmlns:ev=\"http://www.w3.org/2001/xml-events\" xmlns:xlink=\"http://www.w3.org/1999/xlink\"><defs /><polyline fill=\"none\" points=\"40,60 130,60\" stroke=\"black\" stroke-width=\"2\" /><rect fill=\"royalblue\" height=\"12\" rx=\"0\" ry=\"0\" stroke=\"black\" stroke-width=\"1.5\" width=\"10\" x=\"82.5\" y=\"55\" /><text font-size=\"9\" x=\"83\" y=\"50\">S</text><text font-size=\"7\" x=\"95\" y=\"48\">r =0.738</text><text font-size=\"7\" x=\"95\" y=\"54\">θ =5.928</text><polyline fill=\"none\" points=\"40,120 130,120\" stroke=\"black\" stroke-width=\"2\" /><rect fill=\"royalblue\" height=\"12\" rx=\"0\" ry=\"0\" stroke=\"black\" stroke-width=\"1.5\" width=\"10\" x=\"82.5\" y=\"115\" /><text font-size=\"9\" x=\"83\" y=\"110\">S</text><text font-size=\"7\" x=\"95\" y=\"108\">r =0.753</text><text font-size=\"7\" x=\"95\" y=\"114\">θ =2.212</text><polyline fill=\"none\" points=\"130,60 150,60 180,120 220,120\" stroke=\"black\" stroke-width=\"2\" /><polyline fill=\"none\" points=\"130,120 150,120 180,60 220,60\" stroke=\"black\" stroke-width=\"2\" /><text font-size=\"9\" x=\"160\" y=\"55\">BS</text><text font-size=\"7\" x=\"175\" y=\"74\">θ =3.0</text><text font-size=\"7\" x=\"175\" y=\"80\">ϕ =1.571</text><polyline fill=\"none\" points=\"220,30 240,30 270,60 310,60\" stroke=\"black\" stroke-width=\"2\" /><polyline fill=\"none\" points=\"220,60 240,60 270,30 310,30\" stroke=\"black\" stroke-width=\"2\" /><text font-size=\"9\" x=\"250\" y=\"25\">BS</text><text font-size=\"7\" x=\"265\" y=\"44\">θ =0</text><text font-size=\"7\" x=\"265\" y=\"50\">ϕ =1.571</text><polyline fill=\"none\" points=\"310,30 400,30\" stroke=\"black\" stroke-width=\"2\" /><rect fill=\"teal\" height=\"12\" rx=\"0\" ry=\"0\" stroke=\"black\" stroke-width=\"1.5\" width=\"6\" x=\"352.5\" y=\"25\" /><text font-size=\"9\" x=\"350\" y=\"20\">PS</text><text font-size=\"7\" x=\"365\" y=\"20\">θ =0</text><polyline fill=\"none\" points=\"220,90 240,90 270,120 310,120\" stroke=\"black\" stroke-width=\"2\" /><polyline fill=\"none\" points=\"220,120 240,120 270,90 310,90\" stroke=\"black\" stroke-width=\"2\" /><text font-size=\"9\" x=\"250\" y=\"85\">BS</text><text font-size=\"7\" x=\"265\" y=\"104\">θ =0</text><text font-size=\"7\" x=\"265\" y=\"110\">ϕ =1.571</text><polyline fill=\"none\" points=\"310,90 400,90\" stroke=\"black\" stroke-width=\"2\" /><rect fill=\"teal\" height=\"12\" rx=\"0\" ry=\"0\" stroke=\"black\" stroke-width=\"1.5\" width=\"6\" x=\"352.5\" y=\"85\" /><text font-size=\"9\" x=\"350\" y=\"80\">PS</text><text font-size=\"7\" x=\"365\" y=\"80\">θ =0</text><polyline fill=\"none\" points=\"310,60 400,60\" stroke=\"black\" stroke-width=\"2\" /><rect fill=\"black\" height=\"14\" rx=\"0\" ry=\"0\" stroke=\"black\" stroke-width=\"1.5\" width=\"14\" x=\"352.5\" y=\"55\" /><text font-size=\"9\" x=\"355\" y=\"50\">M</text><path d=\"M 353.5 65.0 A 6 6 0 0 1 365.5 65.0\" fill=\"none\" stroke=\"white\" stroke-width=\"1.5\" /><path d=\"M 359.5 65.0 L 359.5 56.0\" fill=\"none\" stroke=\"white\" stroke-width=\"1.5\" transform=\"rotate(45 359.5 62.0)\" /><text font-size=\"7\" x=\"365\" y=\"50\">ϕ =3.527</text><polyline fill=\"none\" points=\"310,120 400,120\" stroke=\"black\" stroke-width=\"2\" /><rect fill=\"black\" height=\"14\" rx=\"0\" ry=\"0\" stroke=\"black\" stroke-width=\"1.5\" width=\"14\" x=\"352.5\" y=\"115\" /><text font-size=\"9\" x=\"355\" y=\"110\">M</text><path d=\"M 353.5 125.0 A 6 6 0 0 1 365.5 125.0\" fill=\"none\" stroke=\"white\" stroke-width=\"1.5\" /><path d=\"M 359.5 125.0 L 359.5 116.0\" fill=\"none\" stroke=\"white\" stroke-width=\"1.5\" transform=\"rotate(45 359.5 122.0)\" /><text font-size=\"7\" x=\"365\" y=\"110\">ϕ =5.359</text><polyline fill=\"none\" points=\"40,30 130,30\" stroke=\"black\" stroke-width=\"2\" /><polyline fill=\"none\" points=\"40,90 130,90\" stroke=\"black\" stroke-width=\"2\" /><polyline fill=\"none\" points=\"40,150 130,150\" stroke=\"black\" stroke-width=\"2\" /><polyline fill=\"none\" points=\"40,180 130,180\" stroke=\"black\" stroke-width=\"2\" /><polyline fill=\"none\" points=\"40,210 130,210\" stroke=\"black\" stroke-width=\"2\" /><polyline fill=\"none\" points=\"40,240 130,240\" stroke=\"black\" stroke-width=\"2\" /><polyline fill=\"none\" points=\"130,30 220,30\" stroke=\"black\" stroke-width=\"2\" /><polyline fill=\"none\" points=\"130,90 220,90\" stroke=\"black\" stroke-width=\"2\" /><polyline fill=\"none\" points=\"130,150 220,150\" stroke=\"black\" stroke-width=\"2\" /><polyline fill=\"none\" points=\"130,180 220,180\" stroke=\"black\" stroke-width=\"2\" /><polyline fill=\"none\" points=\"130,210 220,210\" stroke=\"black\" stroke-width=\"2\" /><polyline fill=\"none\" points=\"130,240 220,240\" stroke=\"black\" stroke-width=\"2\" /><polyline fill=\"none\" points=\"220,150 310,150\" stroke=\"black\" stroke-width=\"2\" /><polyline fill=\"none\" points=\"220,180 310,180\" stroke=\"black\" stroke-width=\"2\" /><polyline fill=\"none\" points=\"220,210 310,210\" stroke=\"black\" stroke-width=\"2\" /><polyline fill=\"none\" points=\"220,240 310,240\" stroke=\"black\" stroke-width=\"2\" /><polyline fill=\"none\" points=\"310,150 400,150\" stroke=\"black\" stroke-width=\"2\" /><polyline fill=\"none\" points=\"310,180 400,180\" stroke=\"black\" stroke-width=\"2\" /><polyline fill=\"none\" points=\"310,210 400,210\" stroke=\"black\" stroke-width=\"2\" /><polyline fill=\"none\" points=\"310,240 400,240\" stroke=\"black\" stroke-width=\"2\" /><text font-size=\"12\" x=\"25\" y=\"30\">0</text><text font-size=\"12\" x=\"25\" y=\"60\">1</text><text font-size=\"12\" x=\"25\" y=\"90\">2</text><text font-size=\"12\" x=\"25\" y=\"120\">3</text><text font-size=\"12\" x=\"25\" y=\"150\">4</text><text font-size=\"12\" x=\"25\" y=\"180\">5</text><text font-size=\"12\" x=\"25\" y=\"210\">6</text><text font-size=\"12\" x=\"25\" y=\"240\">7</text><polyline fill=\"none\" points=\"400,15 400,265\" stroke=\"black\" stroke-dasharray=\"5,5\" stroke-width=\"2\" /><polyline fill=\"none\" points=\"400,150 490,150\" stroke=\"black\" stroke-width=\"2\" /><rect fill=\"royalblue\" height=\"12\" rx=\"0\" ry=\"0\" stroke=\"black\" stroke-width=\"1.5\" width=\"10\" x=\"442.5\" y=\"145\" /><text font-size=\"9\" x=\"443\" y=\"140\">S</text><text font-size=\"7\" x=\"455\" y=\"138\">r =0.738</text><text font-size=\"7\" x=\"455\" y=\"144\">θ =5.928</text><polyline fill=\"none\" points=\"400,180 490,180\" stroke=\"black\" stroke-width=\"2\" /><rect fill=\"royalblue\" height=\"12\" rx=\"0\" ry=\"0\" stroke=\"black\" stroke-width=\"1.5\" width=\"10\" x=\"442.5\" y=\"175\" /><text font-size=\"9\" x=\"443\" y=\"170\">S</text><text font-size=\"7\" x=\"455\" y=\"168\">r =0.753</text><text font-size=\"7\" x=\"455\" y=\"174\">θ =2.212</text><polyline fill=\"none\" points=\"490,150 510,150 540,180 580,180\" stroke=\"black\" stroke-width=\"2\" /><polyline fill=\"none\" points=\"490,180 510,180 540,150 580,150\" stroke=\"black\" stroke-width=\"2\" /><text font-size=\"9\" x=\"520\" y=\"145\">BS</text><text font-size=\"7\" x=\"535\" y=\"164\">θ =3.0</text><text font-size=\"7\" x=\"535\" y=\"170\">ϕ =1.571</text><polyline fill=\"none\" points=\"580,30 600,30 630,150 670,150\" stroke=\"black\" stroke-width=\"2\" /><polyline fill=\"none\" points=\"580,150 600,150 630,30 670,30\" stroke=\"black\" stroke-width=\"2\" /><text font-size=\"9\" x=\"610\" y=\"25\">BS</text><text font-size=\"7\" x=\"625\" y=\"44\">θ =0</text><text font-size=\"7\" x=\"625\" y=\"50\">ϕ =1.571</text><polyline fill=\"none\" points=\"670,30 760,30\" stroke=\"black\" stroke-width=\"2\" /><rect fill=\"teal\" height=\"12\" rx=\"0\" ry=\"0\" stroke=\"black\" stroke-width=\"1.5\" width=\"6\" x=\"712.5\" y=\"25\" /><text font-size=\"9\" x=\"710\" y=\"20\">PS</text><text font-size=\"7\" x=\"725\" y=\"20\">θ =0</text><polyline fill=\"none\" points=\"580,90 600,90 630,180 670,180\" stroke=\"black\" stroke-width=\"2\" /><polyline fill=\"none\" points=\"580,180 600,180 630,90 670,90\" stroke=\"black\" stroke-width=\"2\" /><text font-size=\"9\" x=\"610\" y=\"85\">BS</text><text font-size=\"7\" x=\"625\" y=\"104\">θ =0</text><text font-size=\"7\" x=\"625\" y=\"110\">ϕ =1.571</text><polyline fill=\"none\" points=\"670,90 760,90\" stroke=\"black\" stroke-width=\"2\" /><rect fill=\"teal\" height=\"12\" rx=\"0\" ry=\"0\" stroke=\"black\" stroke-width=\"1.5\" width=\"6\" x=\"712.5\" y=\"85\" /><text font-size=\"9\" x=\"710\" y=\"80\">PS</text><text font-size=\"7\" x=\"725\" y=\"80\">θ =0</text><polyline fill=\"none\" points=\"670,150 760,150\" stroke=\"black\" stroke-width=\"2\" /><rect fill=\"black\" height=\"14\" rx=\"0\" ry=\"0\" stroke=\"black\" stroke-width=\"1.5\" width=\"14\" x=\"712.5\" y=\"145\" /><text font-size=\"9\" x=\"715\" y=\"140\">M</text><path d=\"M 713.5 155.0 A 6 6 0 0 1 725.5 155.0\" fill=\"none\" stroke=\"white\" stroke-width=\"1.5\" /><path d=\"M 719.5 155.0 L 719.5 146.0\" fill=\"none\" stroke=\"white\" stroke-width=\"1.5\" transform=\"rotate(45 719.5 152.0)\" /><text font-size=\"7\" x=\"725\" y=\"140\">ϕ =3.527</text><polyline fill=\"none\" points=\"670,180 760,180\" stroke=\"black\" stroke-width=\"2\" /><rect fill=\"black\" height=\"14\" rx=\"0\" ry=\"0\" stroke=\"black\" stroke-width=\"1.5\" width=\"14\" x=\"712.5\" y=\"175\" /><text font-size=\"9\" x=\"715\" y=\"170\">M</text><path d=\"M 713.5 185.0 A 6 6 0 0 1 725.5 185.0\" fill=\"none\" stroke=\"white\" stroke-width=\"1.5\" /><path d=\"M 719.5 185.0 L 719.5 176.0\" fill=\"none\" stroke=\"white\" stroke-width=\"1.5\" transform=\"rotate(45 719.5 182.0)\" /><text font-size=\"7\" x=\"725\" y=\"170\">ϕ =5.359</text><polyline fill=\"none\" points=\"400,30 490,30\" stroke=\"black\" stroke-width=\"2\" /><polyline fill=\"none\" points=\"400,60 490,60\" stroke=\"black\" stroke-width=\"2\" /><polyline fill=\"none\" points=\"400,90 490,90\" stroke=\"black\" stroke-width=\"2\" /><polyline fill=\"none\" points=\"400,120 490,120\" stroke=\"black\" stroke-width=\"2\" /><polyline fill=\"none\" points=\"400,210 490,210\" stroke=\"black\" stroke-width=\"2\" /><polyline fill=\"none\" points=\"400,240 490,240\" stroke=\"black\" stroke-width=\"2\" /><polyline fill=\"none\" points=\"490,30 580,30\" stroke=\"black\" stroke-width=\"2\" /><polyline fill=\"none\" points=\"490,60 580,60\" stroke=\"black\" stroke-width=\"2\" /><polyline fill=\"none\" points=\"490,90 580,90\" stroke=\"black\" stroke-width=\"2\" /><polyline fill=\"none\" points=\"490,120 580,120\" stroke=\"black\" stroke-width=\"2\" /><polyline fill=\"none\" points=\"490,210 580,210\" stroke=\"black\" stroke-width=\"2\" /><polyline fill=\"none\" points=\"490,240 580,240\" stroke=\"black\" stroke-width=\"2\" /><polyline fill=\"none\" points=\"580,60 670,60\" stroke=\"black\" stroke-width=\"2\" /><polyline fill=\"none\" points=\"580,120 670,120\" stroke=\"black\" stroke-width=\"2\" /><polyline fill=\"none\" points=\"580,210 670,210\" stroke=\"black\" stroke-width=\"2\" /><polyline fill=\"none\" points=\"580,240 670,240\" stroke=\"black\" stroke-width=\"2\" /><polyline fill=\"none\" points=\"670,60 760,60\" stroke=\"black\" stroke-width=\"2\" /><polyline fill=\"none\" points=\"670,120 760,120\" stroke=\"black\" stroke-width=\"2\" /><polyline fill=\"none\" points=\"670,210 760,210\" stroke=\"black\" stroke-width=\"2\" /><polyline fill=\"none\" points=\"670,240 760,240\" stroke=\"black\" stroke-width=\"2\" /><text font-size=\"12\" x=\"25\" y=\"30\">0</text><text font-size=\"12\" x=\"25\" y=\"60\">1</text><text font-size=\"12\" x=\"25\" y=\"90\">2</text><text font-size=\"12\" x=\"25\" y=\"120\">3</text><text font-size=\"12\" x=\"25\" y=\"150\">4</text><text font-size=\"12\" x=\"25\" y=\"180\">5</text><text font-size=\"12\" x=\"25\" y=\"210\">6</text><text font-size=\"12\" x=\"25\" y=\"240\">7</text><polyline fill=\"none\" points=\"760,15 760,265\" stroke=\"black\" stroke-dasharray=\"5,5\" stroke-width=\"2\" /><polyline fill=\"none\" points=\"760,210 850,210\" stroke=\"black\" stroke-width=\"2\" /><rect fill=\"royalblue\" height=\"12\" rx=\"0\" ry=\"0\" stroke=\"black\" stroke-width=\"1.5\" width=\"10\" x=\"802.5\" y=\"205\" /><text font-size=\"9\" x=\"803\" y=\"200\">S</text><text font-size=\"7\" x=\"815\" y=\"198\">r =0.738</text><text font-size=\"7\" x=\"815\" y=\"204\">θ =5.928</text><polyline fill=\"none\" points=\"760,240 850,240\" stroke=\"black\" stroke-width=\"2\" /><rect fill=\"royalblue\" height=\"12\" rx=\"0\" ry=\"0\" stroke=\"black\" stroke-width=\"1.5\" width=\"10\" x=\"802.5\" y=\"235\" /><text font-size=\"9\" x=\"803\" y=\"230\">S</text><text font-size=\"7\" x=\"815\" y=\"228\">r =0.753</text><text font-size=\"7\" x=\"815\" y=\"234\">θ =2.212</text><polyline fill=\"none\" points=\"850,210 870,210 900,240 940,240\" stroke=\"black\" stroke-width=\"2\" /><polyline fill=\"none\" points=\"850,240 870,240 900,210 940,210\" stroke=\"black\" stroke-width=\"2\" /><text font-size=\"9\" x=\"880\" y=\"205\">BS</text><text font-size=\"7\" x=\"895\" y=\"224\">θ =3.0</text><text font-size=\"7\" x=\"895\" y=\"230\">ϕ =1.571</text><polyline fill=\"none\" points=\"940,30 960,30 990,210 1030,210\" stroke=\"black\" stroke-width=\"2\" /><polyline fill=\"none\" points=\"940,210 960,210 990,30 1030,30\" stroke=\"black\" stroke-width=\"2\" /><text font-size=\"9\" x=\"970\" y=\"25\">BS</text><text font-size=\"7\" x=\"985\" y=\"44\">θ =0</text><text font-size=\"7\" x=\"985\" y=\"50\">ϕ =1.571</text><polyline fill=\"none\" points=\"1030,30 1120,30\" stroke=\"black\" stroke-width=\"2\" /><rect fill=\"teal\" height=\"12\" rx=\"0\" ry=\"0\" stroke=\"black\" stroke-width=\"1.5\" width=\"6\" x=\"1072.5\" y=\"25\" /><text font-size=\"9\" x=\"1070\" y=\"20\">PS</text><text font-size=\"7\" x=\"1085\" y=\"20\">θ =0</text><polyline fill=\"none\" points=\"940,90 960,90 990,240 1030,240\" stroke=\"black\" stroke-width=\"2\" /><polyline fill=\"none\" points=\"940,240 960,240 990,90 1030,90\" stroke=\"black\" stroke-width=\"2\" /><text font-size=\"9\" x=\"970\" y=\"85\">BS</text><text font-size=\"7\" x=\"985\" y=\"104\">θ =0</text><text font-size=\"7\" x=\"985\" y=\"110\">ϕ =1.571</text><polyline fill=\"none\" points=\"1030,90 1120,90\" stroke=\"black\" stroke-width=\"2\" /><rect fill=\"teal\" height=\"12\" rx=\"0\" ry=\"0\" stroke=\"black\" stroke-width=\"1.5\" width=\"6\" x=\"1072.5\" y=\"85\" /><text font-size=\"9\" x=\"1070\" y=\"80\">PS</text><text font-size=\"7\" x=\"1085\" y=\"80\">θ =0</text><polyline fill=\"none\" points=\"1030,210 1120,210\" stroke=\"black\" stroke-width=\"2\" /><rect fill=\"black\" height=\"14\" rx=\"0\" ry=\"0\" stroke=\"black\" stroke-width=\"1.5\" width=\"14\" x=\"1072.5\" y=\"205\" /><text font-size=\"9\" x=\"1075\" y=\"200\">M</text><path d=\"M 1073.5 215.0 A 6 6 0 0 1 1085.5 215.0\" fill=\"none\" stroke=\"white\" stroke-width=\"1.5\" /><path d=\"M 1079.5 215.0 L 1079.5 206.0\" fill=\"none\" stroke=\"white\" stroke-width=\"1.5\" transform=\"rotate(45 1079.5 212.0)\" /><text font-size=\"7\" x=\"1085\" y=\"200\">ϕ =3.527</text><polyline fill=\"none\" points=\"1030,240 1120,240\" stroke=\"black\" stroke-width=\"2\" /><rect fill=\"black\" height=\"14\" rx=\"0\" ry=\"0\" stroke=\"black\" stroke-width=\"1.5\" width=\"14\" x=\"1072.5\" y=\"235\" /><text font-size=\"9\" x=\"1075\" y=\"230\">M</text><path d=\"M 1073.5 245.0 A 6 6 0 0 1 1085.5 245.0\" fill=\"none\" stroke=\"white\" stroke-width=\"1.5\" /><path d=\"M 1079.5 245.0 L 1079.5 236.0\" fill=\"none\" stroke=\"white\" stroke-width=\"1.5\" transform=\"rotate(45 1079.5 242.0)\" /><text font-size=\"7\" x=\"1085\" y=\"230\">ϕ =5.359</text><polyline fill=\"none\" points=\"760,30 850,30\" stroke=\"black\" stroke-width=\"2\" /><polyline fill=\"none\" points=\"760,60 850,60\" stroke=\"black\" stroke-width=\"2\" /><polyline fill=\"none\" points=\"760,90 850,90\" stroke=\"black\" stroke-width=\"2\" /><polyline fill=\"none\" points=\"760,120 850,120\" stroke=\"black\" stroke-width=\"2\" /><polyline fill=\"none\" points=\"760,150 850,150\" stroke=\"black\" stroke-width=\"2\" /><polyline fill=\"none\" points=\"760,180 850,180\" stroke=\"black\" stroke-width=\"2\" /><polyline fill=\"none\" points=\"850,30 940,30\" stroke=\"black\" stroke-width=\"2\" /><polyline fill=\"none\" points=\"850,60 940,60\" stroke=\"black\" stroke-width=\"2\" /><polyline fill=\"none\" points=\"850,90 940,90\" stroke=\"black\" stroke-width=\"2\" /><polyline fill=\"none\" points=\"850,120 940,120\" stroke=\"black\" stroke-width=\"2\" /><polyline fill=\"none\" points=\"850,150 940,150\" stroke=\"black\" stroke-width=\"2\" /><polyline fill=\"none\" points=\"850,180 940,180\" stroke=\"black\" stroke-width=\"2\" /><polyline fill=\"none\" points=\"940,60 1030,60\" stroke=\"black\" stroke-width=\"2\" /><polyline fill=\"none\" points=\"940,120 1030,120\" stroke=\"black\" stroke-width=\"2\" /><polyline fill=\"none\" points=\"940,150 1030,150\" stroke=\"black\" stroke-width=\"2\" /><polyline fill=\"none\" points=\"940,180 1030,180\" stroke=\"black\" stroke-width=\"2\" /><polyline fill=\"none\" points=\"1030,60 1120,60\" stroke=\"black\" stroke-width=\"2\" /><polyline fill=\"none\" points=\"1030,120 1120,120\" stroke=\"black\" stroke-width=\"2\" /><polyline fill=\"none\" points=\"1030,150 1120,150\" stroke=\"black\" stroke-width=\"2\" /><polyline fill=\"none\" points=\"1030,180 1120,180\" stroke=\"black\" stroke-width=\"2\" /><text font-size=\"12\" x=\"25\" y=\"30\">0</text><text font-size=\"12\" x=\"25\" y=\"60\">1</text><text font-size=\"12\" x=\"25\" y=\"90\">2</text><text font-size=\"12\" x=\"25\" y=\"120\">3</text><text font-size=\"12\" x=\"25\" y=\"150\">4</text><text font-size=\"12\" x=\"25\" y=\"180\">5</text><text font-size=\"12\" x=\"25\" y=\"210\">6</text><text font-size=\"12\" x=\"25\" y=\"240\">7</text><polyline fill=\"none\" points=\"1120,15 1120,265\" stroke=\"black\" stroke-dasharray=\"5,5\" stroke-width=\"2\" /></svg>"
      ],
      "text/plain": [
       "<svgwrite.drawing.Drawing at 0x2708be16170>"
      ]
     },
     "execution_count": 22,
     "metadata": {},
     "output_type": "execute_result"
    }
   ],
   "source": [
    "data = torch.tensor([0]*cir_global.ndata)\n",
    "state = cir_global(data=data)\n",
    "cir_global.draw(unroll=True) # draw global circuit"
   ]
  },
  {
   "cell_type": "markdown",
   "metadata": {},
   "source": [
    "通过`dq.QumodeCircuitTDM`也可以构造带延时线圈线路，它继承自`dq.QumodeCircuit`，不同之处在于可以进行多个时间步的演化，所有空间模式上都要求做Homodyne测量。"
   ]
  },
  {
   "cell_type": "code",
   "execution_count": 13,
   "metadata": {
    "ExecuteTime": {
     "end_time": "2024-11-11T01:55:39.592258Z",
     "start_time": "2024-11-11T01:55:39.555773Z"
    }
   },
   "outputs": [
    {
     "data": {
      "image/svg+xml": [
       "<svg baseProfile=\"full\" height=\"1.9090909090909092cm\" version=\"1.1\" width=\"12.0cm\" xmlns=\"http://www.w3.org/2000/svg\" xmlns:ev=\"http://www.w3.org/2001/xml-events\" xmlns:xlink=\"http://www.w3.org/1999/xlink\"><defs /><polyline fill=\"none\" points=\"40,30 130,30\" stroke=\"black\" stroke-width=\"2\" /><rect fill=\"royalblue\" height=\"12\" rx=\"0\" ry=\"0\" stroke=\"black\" stroke-width=\"1.5\" width=\"10\" x=\"82.5\" y=\"25\" /><text font-size=\"9\" x=\"83\" y=\"20\">S</text><text font-size=\"7\" x=\"95\" y=\"18\">r =0.69</text><text font-size=\"7\" x=\"95\" y=\"24\">θ =5.946</text><polyline fill=\"none\" points=\"40,60 130,60\" stroke=\"black\" stroke-width=\"2\" /><rect fill=\"royalblue\" height=\"12\" rx=\"0\" ry=\"0\" stroke=\"black\" stroke-width=\"1.5\" width=\"10\" x=\"82.5\" y=\"55\" /><text font-size=\"9\" x=\"83\" y=\"50\">S</text><text font-size=\"7\" x=\"95\" y=\"48\">r =0.101</text><text font-size=\"7\" x=\"95\" y=\"54\">θ =1.448</text><polyline fill=\"none\" points=\"130,30 150,30 180,60 220,60\" stroke=\"black\" stroke-width=\"2\" /><polyline fill=\"none\" points=\"130,60 150,60 180,30 220,30\" stroke=\"black\" stroke-width=\"2\" /><text font-size=\"9\" x=\"160\" y=\"25\">BS</text><text font-size=\"7\" x=\"175\" y=\"44\">θ =3.0</text><text font-size=\"7\" x=\"175\" y=\"50\">ϕ =1.571</text><polyline fill=\"none\" points=\"220,30 310,30\" stroke=\"black\" stroke-width=\"2\" /><circle cx=\"266\" cy=\"21\" fill=\"white\" r=\"9\" stroke=\"black\" stroke-width=\"1.2\" /><text font-size=\"5\" x=\"260\" y=\"18\">N =1</text><text font-size=\"6\" x=\"278\" y=\"18\">θ =[3.]</text><text font-size=\"6\" x=\"278\" y=\"24\">ϕ =0.0</text><polyline fill=\"none\" points=\"220,60 310,60\" stroke=\"black\" stroke-width=\"2\" /><circle cx=\"266\" cy=\"51\" fill=\"white\" r=\"9\" stroke=\"black\" stroke-width=\"1.2\" /><text font-size=\"5\" x=\"260\" y=\"48\">N =1</text><text font-size=\"6\" x=\"278\" y=\"48\">θ =[3.]</text><text font-size=\"6\" x=\"278\" y=\"54\">ϕ =0.0</text><polyline fill=\"none\" points=\"310,30 400,30\" stroke=\"black\" stroke-width=\"2\" /><rect fill=\"black\" height=\"14\" rx=\"0\" ry=\"0\" stroke=\"black\" stroke-width=\"1.5\" width=\"14\" x=\"352.5\" y=\"25\" /><text font-size=\"9\" x=\"355\" y=\"20\">M</text><path d=\"M 353.5 35.0 A 6 6 0 0 1 365.5 35.0\" fill=\"none\" stroke=\"white\" stroke-width=\"1.5\" /><path d=\"M 359.5 35.0 L 359.5 26.0\" fill=\"none\" stroke=\"white\" stroke-width=\"1.5\" transform=\"rotate(45 359.5 32.0)\" /><text font-size=\"7\" x=\"365\" y=\"20\">ϕ =1.149</text><polyline fill=\"none\" points=\"310,60 400,60\" stroke=\"black\" stroke-width=\"2\" /><rect fill=\"black\" height=\"14\" rx=\"0\" ry=\"0\" stroke=\"black\" stroke-width=\"1.5\" width=\"14\" x=\"352.5\" y=\"55\" /><text font-size=\"9\" x=\"355\" y=\"50\">M</text><path d=\"M 353.5 65.0 A 6 6 0 0 1 365.5 65.0\" fill=\"none\" stroke=\"white\" stroke-width=\"1.5\" /><path d=\"M 359.5 65.0 L 359.5 56.0\" fill=\"none\" stroke=\"white\" stroke-width=\"1.5\" transform=\"rotate(45 359.5 62.0)\" /><text font-size=\"7\" x=\"365\" y=\"50\">ϕ =2.28</text><text font-size=\"12\" x=\"25\" y=\"30\">0</text><text font-size=\"12\" x=\"25\" y=\"60\">1</text></svg>"
      ],
      "text/plain": [
       "<svgwrite.drawing.Drawing at 0x21064d64a60>"
      ]
     },
     "execution_count": 13,
     "metadata": {},
     "output_type": "execute_result"
    }
   ],
   "source": [
    "r = 5\n",
    "nmode = 2\n",
    "cir = dq.QumodeCircuitTDM(nmode=nmode, init_state='vac', cutoff=3)\n",
    "cir.s(0)\n",
    "cir.s(1)\n",
    "cir.bs_theta([0,1], [3])\n",
    "cir.delay(0, ntau=1, inputs=[3,0], encode=True)\n",
    "cir.delay(1, ntau=1, inputs=[3,0], encode=True)\n",
    "cir.homodyne(0)\n",
    "cir.homodyne(1)\n",
    "cir.draw()"
   ]
  },
  {
   "cell_type": "markdown",
   "metadata": {},
   "source": [
    "通过`cir.samples`查看测量结果"
   ]
  },
  {
   "cell_type": "code",
   "execution_count": 14,
   "metadata": {
    "ExecuteTime": {
     "end_time": "2024-11-11T01:55:40.769174Z",
     "start_time": "2024-11-11T01:55:40.611410Z"
    }
   },
   "outputs": [
    {
     "data": {
      "text/plain": [
       "tensor([[ 1.0318,  0.9105, -1.0059],\n",
       "        [-0.1678,  1.4473, -1.5691]])"
      ]
     },
     "execution_count": 14,
     "metadata": {},
     "output_type": "execute_result"
    }
   ],
   "source": [
    "cir(nstep=3)\n",
    "sample = cir.samples\n",
    "sample"
   ]
  },
  {
   "cell_type": "markdown",
   "metadata": {},
   "source": [
    "通过控制`encode=True`可以实现对不同时刻编码不同角度，从而制备不同的纠缠态，下面是EPR态的例子，第一次测量设置延时线圈参数为\n",
    "$[\\pi/2, \\pi/2]$，第二次测量设置为$[\\pi/4, 0]$，然后周期性重复角度测量可以得到纠缠的EPR态。"
   ]
  },
  {
   "cell_type": "code",
   "execution_count": 29,
   "metadata": {},
   "outputs": [
    {
     "data": {
      "text/plain": [
       "tensor([-3.9655e-01, -1.1962e+04, -1.1962e+04, -9.9409e+03, -9.9409e+03,\n",
       "         1.6923e+03,  1.6923e+03, -4.3213e+03, -4.3213e+03, -4.5278e+03,\n",
       "        -4.5278e+03, -8.1187e+03, -8.1187e+03])"
      ]
     },
     "execution_count": 29,
     "metadata": {},
     "output_type": "execute_result"
    }
   ],
   "source": [
    "r = 9\n",
    "nmode = 1\n",
    "cir = dq.QumodeCircuitTDM(nmode=nmode, init_state='vac', cutoff=3)\n",
    "cir.s(0, r=r)\n",
    "cir.delay(0, ntau=1, inputs=[np.pi/2, np.pi/2], encode=True) # 参数编码\n",
    "cir.homodyne_x(0)\n",
    "data = torch.tensor([[np.pi/2, np.pi/2],\n",
    "                      [np.pi/4, 0]]).unsqueeze(0) # 周期性参数组合\n",
    "cir(data=data, nstep=13)\n",
    "sample = cir.samples\n",
    "sample"
   ]
  },
  {
   "cell_type": "markdown",
   "metadata": {},
   "source": [
    "# 基于Bosonic后端构建光量子线路"
   ]
  },
  {
   "cell_type": "markdown",
   "metadata": {},
   "source": [
    "##  Bosonic 态"
   ]
  },
  {
   "cell_type": "markdown",
   "metadata": {},
   "source": [
    "基于Bosonic后端的光量子线路演化的量子态是不再是高斯态，而是非高斯态，它对应的wigner函数可以写成多个高斯函数的线性叠加。\\\n",
    "$$ W(\\xi) = \\sum c_m G_{\\mu_m, \\Sigma_m}(\\xi)$$\n",
    "其中\n",
    "$$G_{\\boldsymbol{\\mu},\\boldsymbol{\\Sigma}}(\\boldsymbol{\\xi})\\equiv\\frac{\\exp\\left[-\\frac{1}{2}(\\boldsymbol{\\xi}-\\boldsymbol{\\mu})^T\\boldsymbol{\\Sigma}^{-1}(\\boldsymbol{\\xi}-\\boldsymbol{\\mu})\\right]}{\\sqrt{\\det(2\\pi\\boldsymbol{\\Sigma})}}$$\n",
    "$c_m$ 满足归一化条件，$\\sum c_m = 1$。\n",
    "\n",
    "我们用一组协方差矩阵，位移向量和权重来描述这样的非高斯态，这里我们称这种非高斯态为bosonic态。\n",
    "\n",
    "和高斯态类似，通过Homodyne测量可以得到正交分量，设定测量角度为0或$\\pi/2$得到的物理量是正交分量X或P的值，它们对应的分布满足边缘分布。"
   ]
  },
  {
   "cell_type": "markdown",
   "metadata": {
    "ExecuteTime": {
     "end_time": "2025-04-17T07:35:06.210650Z",
     "start_time": "2025-04-17T07:35:06.206817Z"
    }
   },
   "source": [
    "1. `BosonicState`\n",
    "\n",
    "`BosonicState`作为Bosonic后端的一个类用来描述bosonic量子态，它的`state`参数可以有两种输入，`'vac'`对应着真空态，[cov, mean, weight] 对应自定义的bosonic态。\n",
    "`nmode` 参数对应着这个态的模式数，它应该和输入的`state`维度匹配。`cutoff` 参数对应着光子截断数。\n",
    "\n",
    "通过`BosonicState.cov`、`BosonicState.mean`、`BosonicState.weight`可以得到对应的协方差矩阵，位移向量和权重信息。\n",
    "\n",
    "同时这个类也提供了计算wigner函数和边缘分布的功能，通过`BosonicState.wigner`和`BosonicState.marginal`函数调用，设置`plot=True`可以方便的实现可视化。"
   ]
  },
  {
   "cell_type": "code",
   "execution_count": 4,
   "metadata": {
    "ExecuteTime": {
     "end_time": "2025-04-17T07:37:47.573735Z",
     "start_time": "2025-04-17T07:37:47.564735Z"
    },
    "collapsed": true
   },
   "outputs": [
    {
     "name": "stdout",
     "output_type": "stream",
     "text": [
      "state_1_cov_mean tensor([[[[1., 0., 0., 0.],\n",
      "          [0., 1., 0., 0.],\n",
      "          [0., 0., 1., 0.],\n",
      "          [0., 0., 0., 1.]]]]) tensor([[[[0.+0.j],\n",
      "          [0.+0.j],\n",
      "          [0.+0.j],\n",
      "          [0.+0.j]]]]) tensor([[1.+0.j]])\n",
      "state_2_cov_mean tensor([[[[1., 0., 0., 0.],\n",
      "          [0., 1., 0., 0.],\n",
      "          [0., 0., 1., 0.],\n",
      "          [0., 0., 0., 1.]],\n",
      "\n",
      "         [[1., 0., 0., 0.],\n",
      "          [0., 1., 0., 0.],\n",
      "          [0., 0., 1., 0.],\n",
      "          [0., 0., 0., 1.]]]]) tensor([[[[0.+0.j],\n",
      "          [0.+0.j],\n",
      "          [0.+0.j],\n",
      "          [0.+0.j]],\n",
      "\n",
      "         [[0.+0.j],\n",
      "          [0.+0.j],\n",
      "          [0.+0.j],\n",
      "          [0.+0.j]]]]) tensor([[0.5000, 0.5000]])\n"
     ]
    }
   ],
   "source": [
    "bosonic_state_1 = dq.BosonicState(state='vac', nmode=2, cutoff=3)\n",
    "bosonic_state_2 = dq.BosonicState(state=[torch.eye(4).expand(2,4,4),torch.zeros(4).expand(2,4) + 0j,\n",
    "                                         torch.tensor([0.5, 0.5])], nmode=2, cutoff=3)\n",
    "print('state_1_cov_mean', bosonic_state_1.cov, bosonic_state_1.mean, bosonic_state_1.weight)\n",
    "print('state_2_cov_mean', bosonic_state_2.cov, bosonic_state_2.mean, bosonic_state_2.weight)"
   ]
  },
  {
   "cell_type": "code",
   "execution_count": 5,
   "metadata": {
    "ExecuteTime": {
     "end_time": "2025-04-17T07:37:54.202872Z",
     "start_time": "2025-04-17T07:37:52.991859Z"
    },
    "collapsed": true
   },
   "outputs": [
    {
     "name": "stderr",
     "output_type": "stream",
     "text": [
      "E:\\Anaconda\\envs\\dq_gpu\\Lib\\site-packages\\matplotlib\\contour.py:1515: ComplexWarning: Casting complex values to real discards the imaginary part\n",
      "  self.zmax = z.max().astype(float)\n",
      "E:\\Anaconda\\envs\\dq_gpu\\Lib\\site-packages\\matplotlib\\contour.py:1516: ComplexWarning: Casting complex values to real discards the imaginary part\n",
      "  self.zmin = z.min().astype(float)\n",
      "E:\\Anaconda\\envs\\dq_gpu\\Lib\\site-packages\\numpy\\ma\\core.py:2820: ComplexWarning: Casting complex values to real discards the imaginary part\n",
      "  _data = np.array(data, dtype=dtype, copy=copy,\n"
     ]
    },
    {
     "data": {
      "image/png": "[encoded data removed]",
      "text/plain": [
       "<Figure size 1200x1000 with 2 Axes>"
      ]
     },
     "metadata": {},
     "output_type": "display_data"
    },
    {
     "name": "stderr",
     "output_type": "stream",
     "text": [
      "E:\\Anaconda\\envs\\dq_gpu\\Lib\\site-packages\\matplotlib\\cbook.py:1762: ComplexWarning: Casting complex values to real discards the imaginary part\n",
      "  return math.isfinite(val)\n",
      "E:\\Anaconda\\envs\\dq_gpu\\Lib\\site-packages\\matplotlib\\cbook.py:1398: ComplexWarning: Casting complex values to real discards the imaginary part\n",
      "  return np.asarray(x, float)\n"
     ]
    },
    {
     "data": {
      "image/png": "[encoded data removed]",
      "text/plain": [
       "<Figure size 1200x1000 with 1 Axes>"
      ]
     },
     "metadata": {},
     "output_type": "display_data"
    }
   ],
   "source": [
    "pvec = torch.linspace(-5, 5, 100)\n",
    "qvec = torch.linspace(-5, 5, 100)\n",
    "wigner = bosonic_state_1.wigner(wire=[0], qvec=qvec, pvec=pvec, plot=True) # wigner 函数可视化\n",
    "marginal = bosonic_state_1.marginal(wire=[0], qvec=qvec, plot=True) # 边缘分布p(x)可视化"
   ]
  },
  {
   "cell_type": "markdown",
   "metadata": {},
   "source": [
    "2. 猫态和GKP态\n",
    "\n",
    "猫态和GKP态作为常见的bosonic态，可以在Bosonic后端中可以通过`dq.CatState`和`dq.GKPState`来自定义猫态和GKP。\n",
    "\n",
    "猫态定义为两个相干态的线性叠加：\n",
    "$$|k^{\\alpha}\\rangle_{\\mathrm{cat}}=\\sqrt{\\mathcal{N}}\\left(|\\alpha\\rangle+e^{i\\pi k}|-{\\alpha}\\rangle\\right)$$\n",
    "这里$|\\alpha\\rangle$表示相干态，$k$ 是相位因子，$\\mathcal{N}$ 是归一化因子。\n",
    "$$\\mathcal{N}=\\frac{1}{2\\left(1+e^{-|\\alpha|^{2}}\\cos(\\pi k)\\right)}$$\n",
    "猫态的参数说明：\n",
    "`r`表示相干态的对应的位移大小，`theta`表示相干态的对应的位移角度，`p`决定叠加系数是+1(`p=0`)还是-1(`p=1`)，`cutoff`表示fock态空间的截断数。\n",
    "\n",
    "方形晶格形状的GKP态由一组狄拉克$\\delta$ 函数决定，在位置正交分量下的GKP 0态和GKP 1态表示如下\n",
    "$$\\left|k\\right\\rangle_{\\mathrm{gkp}}=\\sum_{s=-\\infty}^\\infty\\left|\\sqrt{\\pi\\hbar}(2s+k)\\right\\rangle_q,k=\\{0,1\\}$$\n",
    "采用GKP态编码量子比特，一般的量子态可以表示成\n",
    "$$|\\psi\\rangle=\\cos\\frac{\\theta}{2}|0\\rangle_{\\mathrm{gkp}}+e^{-i\\phi}\\sin\\frac{\\theta}{2}|1\\rangle_{\\mathrm{gkp}}$$\n",
    "但是在实际模拟中一般会考虑有限能量的GKP态，即作用一个Fock阻尼算符$\\hat{E}(\\epsilon)$，\n",
    "$$\\hat{E}(\\epsilon) = e^{-\\epsilon \\hat{n}}$$\n",
    "此时的GKP态的狄拉克$\\delta$ 函数变为一系列高斯波包，对应的包络为高斯函数。阻尼算符的作用下线性叠加的每一个高斯态的平均值和协方差也会相应更新。\n",
    "$$\\mu_m(\\epsilon)=\\frac{2e^{-\\epsilon}}{1+e^{-2\\epsilon}}\\mu_m, \\ \\Sigma_m(\\epsilon)=\\frac{\\hbar}{2}\\frac{1-e^{-2\\epsilon}}{1+e^{-2\\epsilon}}\\mathbb{1}$$\n",
    "GKP态的参数说明：\n",
    "`theta`表示Bloch球中的角度$\\theta$，`phi`表示表示Bloch球中的角度$\\phi$，`amp_cutoff`表示高斯包络的振幅截断，只保留截断范围以内的高斯波包，\n",
    "`epsilon`表示阻尼算符的强度，`cutoff`表示fock态空间的截断数。"
   ]
  },
  {
   "cell_type": "code",
   "execution_count": 6,
   "metadata": {
    "ExecuteTime": {
     "end_time": "2025-04-17T07:39:05.190430Z",
     "start_time": "2025-04-17T07:39:04.816340Z"
    }
   },
   "outputs": [
    {
     "data": {
      "image/png": "[encoded data removed]",
      "text/plain": [
       "<Figure size 1200x1000 with 2 Axes>"
      ]
     },
     "metadata": {},
     "output_type": "display_data"
    },
    {
     "data": {
      "image/png": "[encoded data removed]",
      "text/plain": [
       "<Figure size 1200x1000 with 1 Axes>"
      ]
     },
     "metadata": {},
     "output_type": "display_data"
    }
   ],
   "source": [
    "# 猫态实例化\n",
    "cat = dq.CatState(r=1)\n",
    "pvec = torch.linspace(-5, 5, 100)\n",
    "qvec = torch.linspace(-5, 5, 100)\n",
    "wigner = cat.wigner(wire=[0], qvec=qvec, pvec=pvec, plot=True) # wigner 函数可视化\n",
    "marginal = cat.marginal(wire=[0], qvec=qvec, plot=True) # 边缘分布p(x)可视化"
   ]
  },
  {
   "cell_type": "code",
   "execution_count": 7,
   "metadata": {
    "ExecuteTime": {
     "end_time": "2025-04-17T07:39:16.348016Z",
     "start_time": "2025-04-17T07:39:13.170604Z"
    },
    "collapsed": true
   },
   "outputs": [
    {
     "data": {
      "image/png": "[encoded data removed]",
      "text/plain": [
       "<Figure size 1200x1000 with 2 Axes>"
      ]
     },
     "metadata": {},
     "output_type": "display_data"
    },
    {
     "data": {
      "image/png": "[encoded data removed]",
      "text/plain": [
       "<Figure size 1200x1000 with 1 Axes>"
      ]
     },
     "metadata": {},
     "output_type": "display_data"
    }
   ],
   "source": [
    "# GKP态实例化\n",
    "gkp_0 = dq.GKPState(theta=0., phi=0.)\n",
    "pvec = torch.linspace(-10, 10, 500)\n",
    "qvec = torch.linspace(-10, 10, 500)\n",
    "wigner = gkp_0.wigner(wire=[0], qvec=qvec, pvec=pvec, plot=True) # wigner 函数可视化\n",
    "marginal = gkp_0.marginal(wire=[0], qvec=qvec, plot=True) # 边缘分布p(x)可视化"
   ]
  },
  {
   "cell_type": "markdown",
   "metadata": {},
   "source": [
    "## Bosonic后端构建光量子线路"
   ]
  },
  {
   "cell_type": "markdown",
   "metadata": {},
   "source": [
    "Bosonic后端构建光量子线路时要设置`backend`为`'bosonic'`，初态`init_state`设置可以为真空态`'vac'`，可以是自定义的[cov, mean, weight]，也可以通过`cir.cat`和`cir.gkp`自定义猫态和GKP态输入。\n",
    "\n",
    "Bosonic后端的量子门和高斯后端是通用的，线路中的协方差矩阵，位移向量都遵循相同的辛变换规则，但是权重保持不变。\n",
    "Bosonic后端的输出为包含协方差矩阵，位移向量以及权重的列表。"
   ]
  },
  {
   "cell_type": "code",
   "execution_count": 8,
   "metadata": {
    "ExecuteTime": {
     "end_time": "2025-04-17T07:40:03.165967Z",
     "start_time": "2025-04-17T07:40:01.787361Z"
    }
   },
   "outputs": [
    {
     "name": "stdout",
     "output_type": "stream",
     "text": [
      "torch.Size([1, 1, 4, 4])\n",
      "torch.Size([1, 356, 4, 1])\n",
      "torch.Size([1, 356])\n"
     ]
    }
   ],
   "source": [
    "cir = dq.QumodeCircuit(nmode=2, init_state='vac', cutoff=3, backend='bosonic')\n",
    "cir.cat(wires=0, r=1) # 设置猫态\n",
    "cir.gkp(wires=1, theta=0., phi=0.) # 设置GKP态\n",
    "cir.s(wires=0, r=1)\n",
    "cir.s(wires=1, r=1)\n",
    "cir.d(wires=0, r=1)\n",
    "cir.d(wires=1, r=1)\n",
    "cir.bs(wires=[0,1], inputs=[np.pi/4,np.pi/4])\n",
    "state = cir()\n",
    "for i in state:\n",
    "    print(i.shape)"
   ]
  },
  {
   "cell_type": "markdown",
   "metadata": {},
   "source": [
    "`cir.measure_homodyne` 对指定线路的正交分量进行测量，`shots`对应测量次数，`wires` 表示指定线路。"
   ]
  },
  {
   "cell_type": "code",
   "execution_count": 9,
   "metadata": {
    "ExecuteTime": {
     "end_time": "2025-04-17T07:40:26.529591Z",
     "start_time": "2025-04-17T07:40:26.514335Z"
    }
   },
   "outputs": [
    {
     "data": {
      "text/plain": [
       "torch.Size([100, 2])"
      ]
     },
     "execution_count": 9,
     "metadata": {},
     "output_type": "execute_result"
    }
   ],
   "source": [
    "cir = dq.QumodeCircuit(nmode=2, init_state='vac', cutoff=3, backend='bosonic')\n",
    "cir.cat(wires=0, r=1)\n",
    "state = cir()\n",
    "measure_re = cir.measure_homodyne(wires=[0], shots=100) #对正交分量进行测量， 这里的每个模对应一组正交分量X，P。\n",
    "measure_re.shape"
   ]
  },
  {
   "cell_type": "markdown",
   "metadata": {},
   "source": [
    "Bosonic后端还可以指定几个mode做部分测量，那么剩余的量子态会根据相应的测量结果塌缩，先通过`cir.homodyne`添加测量操作，`wires`表示作用单条线路，`phi`对应测量角度，然后通过`cir.measure_homodyne`进行测量操作实现量子态坍缩。"
   ]
  },
  {
   "cell_type": "code",
   "execution_count": 10,
   "metadata": {
    "ExecuteTime": {
     "end_time": "2025-04-17T07:41:32.025050Z",
     "start_time": "2025-04-17T07:41:32.001871Z"
    }
   },
   "outputs": [
    {
     "data": {
      "text/plain": [
       "torch.Size([100])"
      ]
     },
     "execution_count": 10,
     "metadata": {},
     "output_type": "execute_result"
    }
   ],
   "source": [
    "cir = dq.QumodeCircuit(nmode=2, init_state='vac', cutoff=3, backend='bosonic')\n",
    "cir.cat(wires=0, r=1)\n",
    "cir.homodyne(wires=0, phi=0)\n",
    "state = cir()\n",
    "measure_re = cir.measure_homodyne(shots=100) #对正交分量进行测量， 这里的每个模对应一个正交分量。\n",
    "measure_re.shape"
   ]
  },
  {
   "cell_type": "markdown",
   "metadata": {},
   "source": [
    "通过设置 `is_prob=True` 参数也可以得到对应的Fock态概率分布，`detector='pnrd'` 表示使用粒子数分辨探测器，`detector='threshold'` 表示使用阈值探测器。"
   ]
  },
  {
   "cell_type": "code",
   "execution_count": 11,
   "metadata": {
    "ExecuteTime": {
     "end_time": "2025-04-17T07:41:52.671350Z",
     "start_time": "2025-04-17T07:41:52.653343Z"
    }
   },
   "outputs": [
    {
     "name": "stdout",
     "output_type": "stream",
     "text": [
      "{|00>: tensor([0.3679]), |01>: tensor([0.]), |10>: tensor([0.6321]), |11>: tensor([8.7709e-08])}\n"
     ]
    }
   ],
   "source": [
    "cir = dq.QumodeCircuit(nmode=2, init_state='vac', cutoff=3, backend='bosonic')\n",
    "cir.cat(wires=0, r=1)\n",
    "state = cir(is_prob=True, detector='threshold')\n",
    "print(state)"
   ]
  }
 ],
 "metadata": {
  "kernelspec": {
   "display_name": "dq_gpu",
   "language": "python",
   "name": "dq_gpu"
  },
  "language_info": {
   "codemirror_mode": {
    "name": "ipython",
    "version": 3
   },
   "file_extension": ".py",
   "mimetype": "text/x-python",
   "name": "python",
   "nbconvert_exporter": "python",
   "pygments_lexer": "ipython3",
   "version": "3.12.7"
  },
  "toc": {
   "base_numbering": 1,
   "nav_menu": {},
   "number_sections": true,
   "sideBar": true,
   "skip_h1_title": false,
   "title_cell": "Table of Contents",
   "title_sidebar": "Contents",
   "toc_cell": false,
   "toc_position": {
    "height": "calc(100% - 180px)",
    "left": "10px",
    "top": "150px",
    "width": "340.25px"
   },
   "toc_section_display": true,
   "toc_window_display": false
  },
  "varInspector": {
   "cols": {
    "lenName": 16,
    "lenType": 16,
    "lenVar": 40
   },
   "kernels_config": {
    "python": {
     "delete_cmd_postfix": "",
     "delete_cmd_prefix": "del ",
     "library": "var_list.py",
     "varRefreshCmd": "print(var_dic_list())"
    },
    "r": {
     "delete_cmd_postfix": ") ",
     "delete_cmd_prefix": "rm(",
     "library": "var_list.r",
     "varRefreshCmd": "cat(var_dic_list()) "
    }
   },
   "types_to_exclude": [
    "module",
    "function",
    "builtin_function_or_method",
    "instance",
    "_Feature"
   ],
   "window_display": false
  }
 },
 "nbformat": 4,
 "nbformat_minor": 2
}
