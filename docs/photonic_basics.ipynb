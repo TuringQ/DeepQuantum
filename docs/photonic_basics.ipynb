{
 "cells": [
  {
   "cell_type": "code",
   "execution_count": 1,
   "metadata": {},
   "outputs": [
    {
     "name": "stdout",
     "output_type": "stream",
     "text": [
      "version 3.3.1\n"
     ]
    }
   ],
   "source": [
    "import deepquantum as dq\n",
    "import numpy as np\n",
    "import torch\n",
    "print('version',dq.__version__)"
   ]
  },
  {
   "cell_type": "markdown",
   "metadata": {},
   "source": [
    "# 基于Fock 后端构建光量子线路"
   ]
  },
  {
   "cell_type": "markdown",
   "metadata": {},
   "source": [
    "## Fock态\n",
    "\n",
    "光量子线路Fock态（量子数态）可以表示为``|n_1,n_2,...,n_m>``，其中 ``n_k`` 表示第 ``k`` 模的光子数。在DeepQuantum photonic模块中，Fock态用 ``FockState`` 表示。\n",
    "\n",
    "我们利用 ``FockState`` 准备一个3模的量子态，其中第一、三模光子数为1， 第二模为0：\n"
   ]
  },
  {
   "cell_type": "code",
   "execution_count": 2,
   "metadata": {},
   "outputs": [
    {
     "name": "stdout",
     "output_type": "stream",
     "text": [
      "|101>\n"
     ]
    }
   ],
   "source": [
    "qstate = dq.FockState(state=[1,0,1])\n",
    "print(qstate)"
   ]
  },
  {
   "cell_type": "markdown",
   "metadata": {},
   "source": [
    "其数据为torch的tensor，存在属性 ``state`` 中："
   ]
  },
  {
   "cell_type": "code",
   "execution_count": 3,
   "metadata": {},
   "outputs": [
    {
     "name": "stdout",
     "output_type": "stream",
     "text": [
      "tensor([1, 0, 1])\n"
     ]
    }
   ],
   "source": [
    "print(qstate.state)"
   ]
  },
  {
   "cell_type": "markdown",
   "metadata": {},
   "source": [
    "输入态的类型也可以是 ``torch.tensor`` ，并支持 ``batch`` 输入："
   ]
  },
  {
   "cell_type": "code",
   "execution_count": 4,
   "metadata": {},
   "outputs": [
    {
     "name": "stdout",
     "output_type": "stream",
     "text": [
      "|101>\n",
      "tensor([[1, 1, 1],\n",
      "        [1, 0, 0],\n",
      "        [1, 1, 1],\n",
      "        [0, 1, 1]])\n",
      "state_0: |111>\n",
      "state_1: |100>\n",
      "state_2: |111>\n",
      "state_3: |011>\n",
      "\n"
     ]
    }
   ],
   "source": [
    "tc_state = torch.tensor([1,0,1])\n",
    "qstate = dq.FockState(state=tc_state)\n",
    "print(qstate)\n",
    "\n",
    "batch_state = torch.randint(0, 2, (4, 3))\n",
    "print(batch_state)\n",
    "qstate = dq.FockState(state=batch_state)\n",
    "print(qstate)"
   ]
  },
  {
   "cell_type": "markdown",
   "metadata": {},
   "source": [
    "``state`` 的输入也可以是真空态 `` `vac` ``或全零态`` `zeros` ``， 表示所有模式均无光子："
   ]
  },
  {
   "cell_type": "code",
   "execution_count": 5,
   "metadata": {},
   "outputs": [
    {
     "name": "stdout",
     "output_type": "stream",
     "text": [
      "|000>\n",
      "|000>\n"
     ]
    }
   ],
   "source": [
    "vaccum_state = dq.FockState(state='vac',nmode=3)\n",
    "print(vaccum_state)\n",
    "\n",
    "zeros_state = dq.FockState(state='zeros',nmode=3)\n",
    "print(zeros_state)"
   ]
  },
  {
   "cell_type": "markdown",
   "metadata": {},
   "source": [
    "其中，可选输入参数 ``nmode`` 表示模式数。当模式数小于 ``state`` 代表的模式数时， 会根据 ``nmode`` 截断："
   ]
  },
  {
   "cell_type": "code",
   "execution_count": 6,
   "metadata": {},
   "outputs": [
    {
     "name": "stdout",
     "output_type": "stream",
     "text": [
      "|101>\n"
     ]
    }
   ],
   "source": [
    "tc_state = torch.tensor([1, 0, 1, 0])\n",
    "qstate = dq.FockState(state=tc_state, nmode=3)\n",
    "print(qstate)"
   ]
  },
  {
   "cell_type": "markdown",
   "metadata": {},
   "source": [
    "当量子态空间较大时，可以设定光子截断数 ``cutoff`` 来降低计算复杂度，表示每模的光子数上限+1。默认值为单模最大光子数+1。"
   ]
  },
  {
   "cell_type": "code",
   "execution_count": 7,
   "metadata": {},
   "outputs": [
    {
     "name": "stdout",
     "output_type": "stream",
     "text": [
      "|857>\n"
     ]
    }
   ],
   "source": [
    "tc_state = torch.tensor([8, 5, 7])\n",
    "qstate = dq.FockState(state=tc_state, cutoff=9)\n",
    "print(qstate)"
   ]
  },
  {
   "cell_type": "code",
   "execution_count": 8,
   "metadata": {},
   "outputs": [
    {
     "data": {
      "text/plain": [
       "{|222>: (1024, tensor([1.]))}"
      ]
     },
     "execution_count": 8,
     "metadata": {},
     "output_type": "execute_result"
    }
   ],
   "source": [
    "cir = dq.QumodeCircuit(nmode=3,init_state =[2,2,2],cutoff=3)\n",
    "cir()\n",
    "cir.measure(with_prob=True)"
   ]
  },
  {
   "cell_type": "markdown",
   "metadata": {},
   "source": [
    "最后一个可选参数 ``basis`` 默认为 ``True``, 当输入为叠加态（如 $\\frac{\\sqrt{2}}{2}$[1,0,1,0],$\\frac{\\sqrt2}{2}$[0,1,1,0]）时，需要设置为 ``False``。此时fock态由带batch的张量积表示，cutoff为总光子数和+1："
   ]
  },
  {
   "cell_type": "code",
   "execution_count": 9,
   "metadata": {},
   "outputs": [
    {
     "name": "stdout",
     "output_type": "stream",
     "text": [
      "state_0: (0.707+0.000j)|0110> + (0.707+0.000j)|1010>\n",
      "\n",
      "torch.Size([1, 3, 3, 3, 3])\n"
     ]
    }
   ],
   "source": [
    "qstate = dq.FockState(state = [(np.sqrt(2)/2, [1, 0, 1, 0]), (np.sqrt(2)/2, [0, 1, 1, 0])], basis = False)\n",
    "print(qstate)\n",
    "\n",
    "#得到batch形式的fock state tensor\n",
    "print(qstate.state.size())"
   ]
  },
  {
   "cell_type": "markdown",
   "metadata": {},
   "source": [
    "另外， ``FockState`` 支持根据字典序比较大小，从而实现对采样后的字典根据fock态进行排序："
   ]
  },
  {
   "cell_type": "code",
   "execution_count": 10,
   "metadata": {},
   "outputs": [
    {
     "name": "stdout",
     "output_type": "stream",
     "text": [
      "True\n",
      "True\n",
      "采样结果（默认按样本数由高到低排序）： {|210>: 385, |300>: 266, |120>: 277, |030>: 34, |111>: 28, |201>: 24, |021>: 7, |102>: 3}\n",
      "采样结果（按样本态字典序排序）： {|300>: 266, |210>: 385, |201>: 24, |120>: 277, |111>: 28, |102>: 3, |030>: 34, |021>: 7}\n"
     ]
    }
   ],
   "source": [
    "state_a = dq.FockState(state = [0,0,1])\n",
    "state_a2 = dq.FockState(state = [0,0,1])\n",
    "state_b = dq.FockState(state = [0,0,2])\n",
    "\n",
    "print(state_a == state_a2)\n",
    "print(state_a < state_b)\n",
    "\n",
    "# 构建一个简单Qunode线路\n",
    "cir = dq.QumodeCircuit(nmode = 3, init_state = [1,2,0])\n",
    "cir.bs(wires=[0,1])\n",
    "cir.bs(wires=[1,2])\n",
    "#前向函数\n",
    "cir()\n",
    "# 采样测量\n",
    "result_dict = cir.measure()\n",
    "print('采样结果（默认按样本数由高到低排序）：', result_dict)\n",
    "\n",
    "# 对采样结果按fock态排序\n",
    "sorted_dict = dict(sorted(result_dict.items(), key=lambda x: x[0], reverse=True))\n",
    "print('采样结果（按样本态字典序排序）：', sorted_dict)"
   ]
  },
  {
   "cell_type": "markdown",
   "metadata": {},
   "source": [
    "## 构建光量子线路"
   ]
  },
  {
   "cell_type": "markdown",
   "metadata": {},
   "source": [
    "### 初始化\n",
    "\n",
    "光量子线路对应着DeepQuantum photonic ``QumodeCircuit`` 类。仅需指定空间模式数 ``nmode``和初态 ``init_state``，即可完成初始化："
   ]
  },
  {
   "cell_type": "code",
   "execution_count": 11,
   "metadata": {},
   "outputs": [],
   "source": [
    "cir = dq.QumodeCircuit(nmode=3, init_state=[1,0,1])"
   ]
  },
  {
   "cell_type": "markdown",
   "metadata": {},
   "source": [
    "类似 ``FockState`` ，``init_state`` 也支持torch.tensor输入，以及 ``FockState`` 输入："
   ]
  },
  {
   "cell_type": "code",
   "execution_count": 12,
   "metadata": {},
   "outputs": [],
   "source": [
    "cir1 = dq.QumodeCircuit(nmode=3, init_state=torch.tensor([1,0,1]))\n",
    "\n",
    "fockstate = dq.FockState(state=[1, 0, 1])\n",
    "cir2 = dq.QumodeCircuit(nmode=3, init_state=fockstate)"
   ]
  },
  {
   "cell_type": "markdown",
   "metadata": {},
   "source": [
    "### 量子门\n",
    "\n",
    "初始化后，可以加入各种光量子门\n",
    "\n",
    "当前模拟器支持加入下列门：\n",
    "1. ps 门： ps参数表示相移器对应的相位角 $e^{i\\theta}$  \n",
    "2. bs门： bs有两个参数，对应的U矩阵如下\n",
    "$$\n",
    "\\begin{pmatrix}\n",
    "\\cos{\\theta}&-e^{-i\\phi}\\sin{\\theta}\\\\\n",
    "e^{i\\phi}sin{\\theta}&\\cos{\\theta}\\\\\n",
    "\\end{pmatrix}\n",
    "$$\n",
    "\n",
    "但是bs门一般默认只有一个参数, $bs_\\theta$和$bs_\\phi$.\\\n",
    "对于$bs_\\theta$($\\phi = \\pi/2$)， 当$\\theta$为$\\pi/4$ 时，对应的BS门为 \n",
    "$$\\frac{\\sqrt{2}}{2}\n",
    "\\begin{pmatrix}\n",
    "1&i\\\\\n",
    "i&1\\\\\n",
    "\\end{pmatrix}\n",
    "$$\n",
    "对应的分束比为1:1 \\\n",
    "当$\\sin{\\theta} = \\sqrt{1/3}$, $\\theta=0.61547$ 时， 对应的分束比为1：2, 对应的BS门为:\n",
    "\n",
    "$$\\sqrt{\\frac{1}{3}}\n",
    "\\begin{pmatrix}\n",
    "\\sqrt{2}&i\\\\\n",
    "i&\\sqrt{2}\\\\\n",
    "\\end{pmatrix}\n",
    "$$\n",
    "3. H 门 \n",
    "$$\n",
    "\\begin{pmatrix}\n",
    "\\cos{\\frac{\\theta}{2}}&\\sin{\\frac{\\theta}{2}}\\\\\n",
    "\\sin{\\frac{\\theta}{2}}&-\\cos{\\frac{\\theta}{2}}\\\\\n",
    "\\end{pmatrix}\n",
    "$$\n",
    "4. Rx 门 \n",
    "$$\n",
    "\\begin{pmatrix}\n",
    "\\cos{\\frac{\\theta}{2}}&i\\sin{\\frac{\\theta}{2}}\\\\\n",
    "i\\sin{\\frac{\\theta}{2}}&\\cos{\\frac{\\theta}{2}}\\\\\n",
    "\\end{pmatrix}\n",
    "$$\n",
    "5. Ry 门\n",
    "$$\n",
    "\\begin{pmatrix}\n",
    "\\cos{\\frac{\\theta}{2}}&-\\sin{\\frac{\\theta}{2}}\\\\\n",
    "\\sin{\\frac{\\theta}{2}}&\\cos{\\frac{\\theta}{2}}\\\\\n",
    "\\end{pmatrix}\n",
    "$$\n",
    "6. 50：50 分束器 (directional coupler)\n",
    "$$\\frac{\\sqrt{2}}{2}\n",
    "\\begin{pmatrix}\n",
    "1&i\\\\\n",
    "i&1\\\\\n",
    "\\end{pmatrix}\n",
    "$$\n",
    "7. mzi 包括两种， 一种是先 $\\phi$后 $\\theta$，一种是先 $\\theta$后 $\\phi$, 对应的矩阵如下\n",
    "$$\n",
    "MZI_{PT} = \n",
    "ie^{i\\theta/2}\n",
    "\\begin{pmatrix}\n",
    "e^{i\\phi}\\sin{\\theta}&\\cos{\\theta}\\\\\n",
    "e^{i\\phi}\\cos{\\theta}&-\\sin{\\theta}\\\\\n",
    "\\end{pmatrix}\n",
    "$$\n",
    "\n",
    "$$\n",
    "MZI_{TP} = \n",
    "ie^{i\\theta/2}\n",
    "\\begin{pmatrix}\n",
    "e^{i\\phi}\\sin{\\theta}&e^{i\\phi}\\cos{\\theta}\\\\\n",
    "\\cos{\\theta}&-\\sin{\\theta}\\\\\n",
    "\\end{pmatrix}\n",
    "$$\n"
   ]
  },
  {
   "cell_type": "code",
   "execution_count": 13,
   "metadata": {},
   "outputs": [],
   "source": [
    "cir = dq.QumodeCircuit(nmode=3, init_state=[1,0,1])\n",
    "cir.ps(wires=0, inputs=0) # 相位角为0， 作用第0个mode上\n",
    "cir.ps(1, 0) # 也可省略参数名\n",
    "cir.bs_theta([0,1], torch.pi/4) # 相位角为pi/4 作用在第0，1个mode上\n",
    "cir.h(wires=[1,2])  # H gate\n",
    "cir.bs_rx(wires=[1,2])  # Rx\n",
    "cir.bs_ry(wires=[0,1])  # Ry\n",
    "cir.dc(wires=[1,2]) # 50:50 分束器\n",
    "cir.mzi(wires=[0,1])\n"
   ]
  },
  {
   "cell_type": "markdown",
   "metadata": {},
   "source": [
    "通过调用 ``draw()`` 函数实现线路可视化："
   ]
  },
  {
   "cell_type": "code",
   "execution_count": 14,
   "metadata": {},
   "outputs": [
    {
     "data": {
      "image/svg+xml": [
       "<svg baseProfile=\"full\" height=\"2.8636363636363638cm\" version=\"1.1\" width=\"20.1cm\" xmlns=\"http://www.w3.org/2000/svg\" xmlns:ev=\"http://www.w3.org/2001/xml-events\" xmlns:xlink=\"http://www.w3.org/1999/xlink\"><defs /><polyline fill=\"none\" points=\"40,30 130,30\" stroke=\"black\" stroke-width=\"2\" /><rect fill=\"teal\" height=\"12\" rx=\"0\" ry=\"0\" stroke=\"black\" stroke-width=\"1.5\" width=\"6\" x=\"82.5\" y=\"25\" /><text font-size=\"9\" x=\"80\" y=\"20\">PS</text><text font-size=\"7\" x=\"95\" y=\"20\">θ =0.0</text><polyline fill=\"none\" points=\"40,60 130,60\" stroke=\"black\" stroke-width=\"2\" /><rect fill=\"teal\" height=\"12\" rx=\"0\" ry=\"0\" stroke=\"black\" stroke-width=\"1.5\" width=\"6\" x=\"82.5\" y=\"55\" /><text font-size=\"9\" x=\"80\" y=\"50\">PS</text><text font-size=\"7\" x=\"95\" y=\"50\">θ =0.0</text><polyline fill=\"none\" points=\"130,30 150,30 180,60 220,60\" stroke=\"black\" stroke-width=\"2\" /><polyline fill=\"none\" points=\"130,60 150,60 180,30 220,30\" stroke=\"black\" stroke-width=\"2\" /><text font-size=\"9\" x=\"160\" y=\"25\">BS</text><text font-size=\"7\" x=\"175\" y=\"44\">θ =0.785</text><text font-size=\"7\" x=\"175\" y=\"50\">ϕ =1.571</text><polyline fill=\"none\" points=\"220,60 240,60 270,90 310,90\" stroke=\"black\" stroke-width=\"2\" /><polyline fill=\"none\" points=\"220,90 240,90 270,60 310,60\" stroke=\"black\" stroke-width=\"2\" /><text font-size=\"9\" x=\"244\" y=\"55\">BS-H</text><text font-size=\"7\" x=\"265\" y=\"74\">θ =1.571</text><polyline fill=\"none\" points=\"310,60 330,60 360,90 400,90\" stroke=\"black\" stroke-width=\"2\" /><polyline fill=\"none\" points=\"310,90 330,90 360,60 400,60\" stroke=\"black\" stroke-width=\"2\" /><text font-size=\"9\" x=\"331\" y=\"55\">BS-RX</text><text font-size=\"7\" x=\"355\" y=\"74\">θ =10.822</text><polyline fill=\"none\" points=\"400,30 420,30 450,60 490,60\" stroke=\"black\" stroke-width=\"2\" /><polyline fill=\"none\" points=\"400,60 420,60 450,30 490,30\" stroke=\"black\" stroke-width=\"2\" /><text font-size=\"9\" x=\"421\" y=\"25\">BS-RY</text><text font-size=\"7\" x=\"445\" y=\"44\">θ =4.119</text><polyline fill=\"none\" points=\"490,60 510,60 540,90 580,90\" stroke=\"black\" stroke-width=\"2\" /><polyline fill=\"none\" points=\"490,90 510,90 540,60 580,60\" stroke=\"black\" stroke-width=\"2\" /><text font-size=\"9\" x=\"511\" y=\"55\">BS-RX</text><text font-size=\"7\" x=\"535\" y=\"74\">θ =1.571</text><polyline fill=\"none\" points=\"580,30 600,30 630,60 670,60\" stroke=\"black\" stroke-width=\"2\" /><polyline fill=\"none\" points=\"580,60 600,60 630,30 670,30\" stroke=\"black\" stroke-width=\"2\" /><text font-size=\"9\" x=\"598\" y=\"25\">MZI-PT</text><text font-size=\"7\" x=\"625\" y=\"44\">θ =4.457</text><text font-size=\"7\" x=\"625\" y=\"50\">ϕ =3.946</text><polyline fill=\"none\" points=\"40,90 130,90\" stroke=\"black\" stroke-width=\"2\" /><polyline fill=\"none\" points=\"130,90 220,90\" stroke=\"black\" stroke-width=\"2\" /><polyline fill=\"none\" points=\"220,30 310,30\" stroke=\"black\" stroke-width=\"2\" /><polyline fill=\"none\" points=\"310,30 400,30\" stroke=\"black\" stroke-width=\"2\" /><polyline fill=\"none\" points=\"400,90 490,90\" stroke=\"black\" stroke-width=\"2\" /><polyline fill=\"none\" points=\"490,30 580,30\" stroke=\"black\" stroke-width=\"2\" /><polyline fill=\"none\" points=\"580,90 670,90\" stroke=\"black\" stroke-width=\"2\" /><text font-size=\"12\" x=\"25\" y=\"30\">0</text><text font-size=\"12\" x=\"25\" y=\"60\">1</text><text font-size=\"12\" x=\"25\" y=\"90\">2</text></svg>"
      ],
      "text/plain": [
       "<svgwrite.drawing.Drawing at 0x152bff41d80>"
      ]
     },
     "execution_count": 14,
     "metadata": {},
     "output_type": "execute_result"
    }
   ],
   "source": [
    "cir.draw()"
   ]
  },
  {
   "cell_type": "markdown",
   "metadata": {},
   "source": [
    "通过调用 ``get_unitary()`` 函数获取线路酉矩阵："
   ]
  },
  {
   "cell_type": "code",
   "execution_count": 15,
   "metadata": {},
   "outputs": [
    {
     "data": {
      "text/plain": [
       "tensor([[ 0.1470-0.4393j, -0.2474+0.2236j,  0.6414-0.5126j],\n",
       "        [-0.1533+0.5708j, -0.2599+0.7499j,  0.1236+0.0740j],\n",
       "        [ 0.3774+0.5419j, -0.3412-0.3774j, -0.1419-0.5338j]],\n",
       "       grad_fn=<MmBackward0>)"
      ]
     },
     "execution_count": 15,
     "metadata": {},
     "output_type": "execute_result"
    }
   ],
   "source": [
    "cir.get_unitary()"
   ]
  },
  {
   "cell_type": "markdown",
   "metadata": {},
   "source": [
    "### 前向演化\n",
    "\n",
    "调用前向函数对线路进行演化。可以通过改变 ``is_prob`` 的值以控制返回的类型：\n",
    "\n",
    "``is_prob=None`` （默认）：返回量子线路对应的酉矩阵\n",
    "\n",
    "``is_prob=True`` ：返回末态的概率分布\n",
    "\n",
    "``is_prob=False`` ：返回末态的振幅分布\n",
    "\n"
   ]
  },
  {
   "cell_type": "code",
   "execution_count": 16,
   "metadata": {},
   "outputs": [
    {
     "name": "stdout",
     "output_type": "stream",
     "text": [
      "tensor([[ 0.1470-0.4393j, -0.2474+0.2236j,  0.6414-0.5126j],\n",
      "        [-0.1533+0.5708j, -0.2599+0.7499j,  0.1236+0.0740j],\n",
      "        [ 0.3774+0.5419j, -0.3412-0.3774j, -0.1419-0.5338j]],\n",
      "       grad_fn=<MmBackward0>)\n",
      "{|200>: tensor([0.2894], grad_fn=<SelectBackward0>), |002>: tensor([0.2661], grad_fn=<SelectBackward0>), |110>: tensor([0.2210], grad_fn=<SelectBackward0>), |011>: tensor([0.1200], grad_fn=<SelectBackward0>), |101>: tensor([0.0890], grad_fn=<SelectBackward0>), |020>: tensor([0.0145], grad_fn=<SelectBackward0>)}\n",
      "{|200>: tensor([-0.1851-0.5051j], grad_fn=<SelectBackward0>), |002>: tensor([0.3333-0.3937j], grad_fn=<SelectBackward0>), |110>: tensor([0.2450+0.4012j], grad_fn=<SelectBackward0>), |011>: tensor([0.3330+0.0957j], grad_fn=<SelectBackward0>), |101>: tensor([0.2645+0.1380j], grad_fn=<SelectBackward0>), |020>: tensor([-0.0866+0.0837j], grad_fn=<SelectBackward0>)}\n"
     ]
    }
   ],
   "source": [
    "print(cir())\n",
    "print(cir(is_prob=True))\n",
    "print(cir(is_prob=False))"
   ]
  },
  {
   "cell_type": "markdown",
   "metadata": {},
   "source": [
    "支持通过 ``data`` 输入线路中 ``encode=True`` 门的参数，通过 ``state`` 指定初态，对线路进行演化："
   ]
  },
  {
   "cell_type": "code",
   "execution_count": 17,
   "metadata": {},
   "outputs": [
    {
     "name": "stdout",
     "output_type": "stream",
     "text": [
      "线路参数为: tensor([-0.7499, -0.0803, -1.1638])\n"
     ]
    },
    {
     "data": {
      "image/svg+xml": [
       "<svg baseProfile=\"full\" height=\"1.9090909090909092cm\" version=\"1.1\" width=\"6.6cm\" xmlns=\"http://www.w3.org/2000/svg\" xmlns:ev=\"http://www.w3.org/2001/xml-events\" xmlns:xlink=\"http://www.w3.org/1999/xlink\"><defs /><polyline fill=\"none\" points=\"40,30 130,30\" stroke=\"black\" stroke-width=\"2\" /><rect fill=\"teal\" height=\"12\" rx=\"0\" ry=\"0\" stroke=\"black\" stroke-width=\"1.5\" width=\"6\" x=\"82.5\" y=\"25\" /><text font-size=\"9\" x=\"80\" y=\"20\">PS</text><text font-size=\"7\" x=\"95\" y=\"20\">θ =-0.75</text><polyline fill=\"none\" points=\"40,60 130,60\" stroke=\"black\" stroke-width=\"2\" /><rect fill=\"teal\" height=\"12\" rx=\"0\" ry=\"0\" stroke=\"black\" stroke-width=\"1.5\" width=\"6\" x=\"82.5\" y=\"55\" /><text font-size=\"9\" x=\"80\" y=\"50\">PS</text><text font-size=\"7\" x=\"95\" y=\"50\">θ =-0.08</text><polyline fill=\"none\" points=\"130,30 150,30 180,60 220,60\" stroke=\"black\" stroke-width=\"2\" /><polyline fill=\"none\" points=\"130,60 150,60 180,30 220,30\" stroke=\"black\" stroke-width=\"2\" /><text font-size=\"9\" x=\"160\" y=\"25\">BS</text><text font-size=\"7\" x=\"175\" y=\"44\">θ =-1.164</text><text font-size=\"7\" x=\"175\" y=\"50\">ϕ =1.571</text><text font-size=\"12\" x=\"25\" y=\"30\">0</text><text font-size=\"12\" x=\"25\" y=\"60\">1</text></svg>"
      ],
      "text/plain": [
       "<svgwrite.drawing.Drawing at 0x152bff41ff0>"
      ]
     },
     "execution_count": 17,
     "metadata": {},
     "output_type": "execute_result"
    }
   ],
   "source": [
    "cir_2 = dq.QumodeCircuit(2, init_state=[1,0,1])\n",
    "cir_2.ps(wires=0, encode=True) # 相位角为参数， 作用第0个mode上\n",
    "cir_2.ps(1, encode =True) # 也可省略参数名\n",
    "cir_2.bs_theta([0,1], encode=True) # theta为参数, phi为定值pi/2 作用在第0，1个mode上\n",
    "\n",
    "# 构建data作为输入参数\n",
    "npara = 3\n",
    "data = torch.randn(npara)\n",
    "print('线路参数为:', data)\n",
    "\n",
    "# 完成前向\n",
    "cir_2(data)\n",
    "cir_2.draw()"
   ]
  },
  {
   "cell_type": "code",
   "execution_count": 18,
   "metadata": {},
   "outputs": [
    {
     "name": "stdout",
     "output_type": "stream",
     "text": [
      "tensor([[ 0.2896-0.2698j, -0.0737-0.9154j],\n",
      "        [-0.6259-0.6720j,  0.3945-0.0317j]])\n"
     ]
    },
    {
     "data": {
      "text/plain": [
       "{|11>: tensor([0.4715]), |02>: tensor([0.2642]), |20>: tensor([0.2642])}"
      ]
     },
     "execution_count": 18,
     "metadata": {},
     "output_type": "execute_result"
    }
   ],
   "source": [
    "# 指定初态前向演化\n",
    "print(cir_2(state=[0, 2, 0]))\n",
    "\n",
    "# 同时指定线路参数和初态前向演化，并返回概率分布\n",
    "cir_2(data, state=[1, 1, 1], is_prob=True)"
   ]
  },
  {
   "cell_type": "markdown",
   "metadata": {},
   "source": [
    "### 采样测量\n",
    "\n",
    "可以对线路进行测量，返回的结果是字典或者字典的列表，字典的key是fock态，value是对应测量到的次数，shots默认为1024。"
   ]
  },
  {
   "cell_type": "code",
   "execution_count": 19,
   "metadata": {},
   "outputs": [
    {
     "data": {
      "text/plain": [
       "{|011>: 128, |110>: 216, |002>: 273, |200>: 303, |101>: 87, |020>: 17}"
      ]
     },
     "execution_count": 19,
     "metadata": {},
     "output_type": "execute_result"
    }
   ],
   "source": [
    "cir.measure()"
   ]
  },
  {
   "cell_type": "markdown",
   "metadata": {},
   "source": [
    "设定 ``with_prob=True`` 同时返回理论期望值："
   ]
  },
  {
   "cell_type": "code",
   "execution_count": 20,
   "metadata": {},
   "outputs": [
    {
     "data": {
      "text/plain": [
       "{|002>: (261, tensor(0.2661, grad_fn=<AddBackward0>)),\n",
       " |200>: (308, tensor(0.2894, grad_fn=<AddBackward0>)),\n",
       " |110>: (225, tensor(0.2210, grad_fn=<AddBackward0>)),\n",
       " |101>: (87, tensor(0.0890, grad_fn=<AddBackward0>)),\n",
       " |020>: (6, tensor(0.0145, grad_fn=<AddBackward0>)),\n",
       " |011>: (137, tensor(0.1200, grad_fn=<AddBackward0>))}"
      ]
     },
     "execution_count": 20,
     "metadata": {},
     "output_type": "execute_result"
    }
   ],
   "source": [
    "cir.measure(with_prob=True)"
   ]
  },
  {
   "cell_type": "markdown",
   "metadata": {},
   "source": [
    "通过设定 ``wires`` 进行部分测量："
   ]
  },
  {
   "cell_type": "code",
   "execution_count": 21,
   "metadata": {},
   "outputs": [
    {
     "data": {
      "text/plain": [
       "{|20>: 314, |00>: 259, |01>: 115, |10>: 93, |11>: 228, |02>: 15}"
      ]
     },
     "execution_count": 21,
     "metadata": {},
     "output_type": "execute_result"
    }
   ],
   "source": [
    "cir.measure(wires=[0,1])"
   ]
  },
  {
   "cell_type": "markdown",
   "metadata": {},
   "source": [
    "如需要对量子线路进行马尔科夫链蒙特卡洛采样，打开 ``mcmc=True`` 开关即可。\n",
    "\n",
    "通常只在前向返回酉矩阵，即默认 ``is_prob=None`` 的情况下使用MCMC采样，因为其他情况做前向时已经计算了全空间理论的概率分布。"
   ]
  },
  {
   "cell_type": "code",
   "execution_count": 22,
   "metadata": {},
   "outputs": [
    {
     "name": "stderr",
     "output_type": "stream",
     "text": [
      "chain 1: 100%|\u001b[32m█████████████████████████████\u001b[0m| 203/203 [00:00<00:00, 24361.77it/s]\u001b[0m\n",
      "chain 2: 100%|\u001b[32m█████████████████████████████\u001b[0m| 203/203 [00:00<00:00, 17927.02it/s]\u001b[0m\n",
      "chain 3: 100%|\u001b[32m█████████████████████████████\u001b[0m| 203/203 [00:00<00:00, 42952.31it/s]\u001b[0m\n",
      "chain 4: 100%|\u001b[32m█████████████████████████████\u001b[0m| 203/203 [00:00<00:00, 10042.39it/s]\u001b[0m\n",
      "chain 5: 100%|\u001b[32m████████████████████████████████████████\u001b[0m| 207/207 [00:00<?, ?it/s]\u001b[0m\n"
     ]
    },
    {
     "data": {
      "text/plain": [
       "{|020>: 13, |011>: 125, |110>: 212, |002>: 270, |200>: 315, |101>: 89}"
      ]
     },
     "execution_count": 22,
     "metadata": {},
     "output_type": "execute_result"
    }
   ],
   "source": [
    "cir()\n",
    "cir.measure(mcmc=True)"
   ]
  },
  {
   "cell_type": "markdown",
   "metadata": {},
   "source": [
    "通过 ``get_amplitude()`` 或 ``get_prob()`` 获得指定末态的振幅/概率："
   ]
  },
  {
   "cell_type": "code",
   "execution_count": 23,
   "metadata": {},
   "outputs": [
    {
     "name": "stdout",
     "output_type": "stream",
     "text": [
      "tensor([0.3330+0.0957j], grad_fn=<DivBackward0>)\n",
      "tensor([0.1200], grad_fn=<PowBackward0>)\n"
     ]
    }
   ],
   "source": [
    "print(cir.get_amplitude([0,1,1]))\n",
    "print(cir.get_prob([0,1,1]))"
   ]
  },
  {
   "cell_type": "markdown",
   "metadata": {},
   "source": [
    "## 支持batch输入"
   ]
  },
  {
   "cell_type": "markdown",
   "metadata": {},
   "source": [
    "### 初态的batch输入"
   ]
  },
  {
   "cell_type": "code",
   "execution_count": 24,
   "metadata": {},
   "outputs": [
    {
     "name": "stdout",
     "output_type": "stream",
     "text": [
      "初态为:  tensor([[0, 2],\n",
      "        [0, 0],\n",
      "        [0, 1],\n",
      "        [0, 2]])\n",
      "线路对应酉矩阵为:  tensor([[[-5.6105e-01+0.0000j,  3.6183e-08+0.8278j],\n",
      "         [-3.6183e-08+0.8278j, -5.6105e-01+0.0000j]],\n",
      "\n",
      "        [[-5.6105e-01+0.0000j,  3.6183e-08+0.8278j],\n",
      "         [-3.6183e-08+0.8278j, -5.6105e-01+0.0000j]],\n",
      "\n",
      "        [[-5.6105e-01+0.0000j,  3.6183e-08+0.8278j],\n",
      "         [-3.6183e-08+0.8278j, -5.6105e-01+0.0000j]],\n",
      "\n",
      "        [[-5.6105e-01+0.0000j,  3.6183e-08+0.8278j],\n",
      "         [-3.6183e-08+0.8278j, -5.6105e-01+0.0000j]]],\n",
      "       grad_fn=<ExpandBackward0>)\n"
     ]
    },
    {
     "data": {
      "text/plain": [
       "[{|02>: 105, |20>: 496, |11>: 423},\n",
       " {|00>: 1024},\n",
       " {|10>: 697, |01>: 327},\n",
       " {|20>: 495, |11>: 436, |02>: 93}]"
      ]
     },
     "execution_count": 24,
     "metadata": {},
     "output_type": "execute_result"
    }
   ],
   "source": [
    "# 构建batch的初态\n",
    "batch_state = torch.randint(0, 3, (4, 2))\n",
    "print('初态为: ',batch_state)\n",
    "\n",
    "cir = dq.QumodeCircuit(nmode=2, init_state=batch_state)\n",
    "cir.bs_theta([0, 1])\n",
    "\n",
    "re1 = cir()\n",
    "print('线路对应酉矩阵为: ', re1)\n",
    "\n",
    "# 测量并输出结果\n",
    "cir.measure()"
   ]
  },
  {
   "cell_type": "markdown",
   "metadata": {},
   "source": [
    "### 线路参数的batch输入"
   ]
  },
  {
   "cell_type": "code",
   "execution_count": 25,
   "metadata": {},
   "outputs": [
    {
     "name": "stdout",
     "output_type": "stream",
     "text": [
      "线路参数为:  tensor([[ 0.0323],\n",
      "        [ 1.0679],\n",
      "        [ 0.8412],\n",
      "        [ 0.5248],\n",
      "        [ 0.3026],\n",
      "        [-0.5640],\n",
      "        [-0.2673],\n",
      "        [-0.9447],\n",
      "        [ 0.8610],\n",
      "        [-0.8015]])\n",
      "线路对应酉矩阵为:  tensor([[[ 9.9948e-01+0.0000j,  1.4134e-09+0.0323j],\n",
      "         [-1.4134e-09+0.0323j,  9.9948e-01+0.0000j]],\n",
      "\n",
      "        [[ 4.8193e-01+0.0000j,  3.8300e-08+0.8762j],\n",
      "         [-3.8300e-08+0.8762j,  4.8193e-01+0.0000j]],\n",
      "\n",
      "        [[ 6.6660e-01+0.0000j,  3.2583e-08+0.7454j],\n",
      "         [-3.2583e-08+0.7454j,  6.6660e-01+0.0000j]],\n",
      "\n",
      "        [[ 8.6541e-01+0.0000j,  2.1902e-08+0.5011j],\n",
      "         [-2.1902e-08+0.5011j,  8.6541e-01+0.0000j]],\n",
      "\n",
      "        [[ 9.5457e-01+0.0000j,  1.3026e-08+0.2980j],\n",
      "         [-1.3026e-08+0.2980j,  9.5457e-01+0.0000j]],\n",
      "\n",
      "        [[ 8.4510e-01+0.0000j, -2.3368e-08-0.5346j],\n",
      "         [ 2.3368e-08-0.5346j,  8.4510e-01+0.0000j]],\n",
      "\n",
      "        [[ 9.6448e-01+0.0000j, -1.1546e-08-0.2641j],\n",
      "         [ 1.1546e-08-0.2641j,  9.6448e-01+0.0000j]],\n",
      "\n",
      "        [[ 5.8600e-01+0.0000j, -3.5420e-08-0.8103j],\n",
      "         [ 3.5420e-08-0.8103j,  5.8600e-01+0.0000j]],\n",
      "\n",
      "        [[ 6.5167e-01+0.0000j,  3.3155e-08+0.7585j],\n",
      "         [-3.3155e-08+0.7585j,  6.5167e-01+0.0000j]],\n",
      "\n",
      "        [[ 6.9562e-01+0.0000j, -3.1403e-08-0.7184j],\n",
      "         [ 3.1403e-08-0.7184j,  6.9562e-01+0.0000j]]])\n"
     ]
    },
    {
     "data": {
      "text/plain": [
       "[{|01>: 1021, |10>: 3},\n",
       " {|10>: 743, |01>: 281},\n",
       " {|01>: 469, |10>: 555},\n",
       " {|01>: 749, |10>: 275},\n",
       " {|01>: 918, |10>: 106},\n",
       " {|01>: 731, |10>: 293},\n",
       " {|01>: 951, |10>: 73},\n",
       " {|10>: 648, |01>: 376},\n",
       " {|10>: 589, |01>: 435},\n",
       " {|01>: 483, |10>: 541}]"
      ]
     },
     "execution_count": 25,
     "metadata": {},
     "output_type": "execute_result"
    }
   ],
   "source": [
    "# 构建batch的线路参数\n",
    "batch_size = 10\n",
    "npara = 1\n",
    "batch_para = torch.randn(batch_size,npara)\n",
    "print('线路参数为: ',batch_para)\n",
    "\n",
    "cir = dq.QumodeCircuit(nmode=2, init_state=[0,1])\n",
    "cir.bs_theta([0, 1], encode=True)\n",
    "\n",
    "re1 = cir(data = batch_para)\n",
    "print('线路对应酉矩阵为: ', re1)\n",
    "\n",
    "# 测量并输出结果\n",
    "cir.measure()"
   ]
  },
  {
   "cell_type": "markdown",
   "metadata": {},
   "source": [
    "注意： 当初态和线路参数都为batch输入时，线路会认为每组参数是一对一的，例如初态的第一组参数对应线路的第一组参数，因而batch数需要一致。"
   ]
  },
  {
   "cell_type": "code",
   "execution_count": 26,
   "metadata": {},
   "outputs": [
    {
     "name": "stdout",
     "output_type": "stream",
     "text": [
      "batch数为:  10\n",
      "初态shape为:  torch.Size([10, 2])\n",
      "线路参数shape为:  torch.Size([10, 1])\n",
      "线路对应酉矩阵为:  tensor([[[-2.6926e-03+0.0000j,  4.3711e-08+1.0000j],\n",
      "         [-4.3711e-08+1.0000j, -2.6926e-03+0.0000j]],\n",
      "\n",
      "        [[ 9.0478e-01+0.0000j,  1.8615e-08+0.4259j],\n",
      "         [-1.8615e-08+0.4259j,  9.0478e-01+0.0000j]],\n",
      "\n",
      "        [[ 5.1700e-01+0.0000j, -3.7416e-08-0.8560j],\n",
      "         [ 3.7416e-08-0.8560j,  5.1700e-01+0.0000j]],\n",
      "\n",
      "        [[ 9.4056e-01+0.0000j, -1.4846e-08-0.3396j],\n",
      "         [ 1.4846e-08-0.3396j,  9.4056e-01+0.0000j]],\n",
      "\n",
      "        [[ 3.7369e-01+0.0000j,  4.0545e-08+0.9276j],\n",
      "         [-4.0545e-08+0.9276j,  3.7369e-01+0.0000j]],\n",
      "\n",
      "        [[ 9.9559e-01+0.0000j,  4.0998e-09+0.0938j],\n",
      "         [-4.0998e-09+0.0938j,  9.9559e-01+0.0000j]],\n",
      "\n",
      "        [[ 5.9964e-01+0.0000j, -3.4981e-08-0.8003j],\n",
      "         [ 3.4981e-08-0.8003j,  5.9964e-01+0.0000j]],\n",
      "\n",
      "        [[ 9.9944e-01+0.0000j, -1.4684e-09-0.0336j],\n",
      "         [ 1.4684e-09-0.0336j,  9.9944e-01+0.0000j]],\n",
      "\n",
      "        [[ 3.2596e-01+0.0000j,  4.1324e-08+0.9454j],\n",
      "         [-4.1324e-08+0.9454j,  3.2596e-01+0.0000j]],\n",
      "\n",
      "        [[-2.5411e-01+0.0000j,  4.2277e-08+0.9672j],\n",
      "         [-4.2277e-08+0.9672j, -2.5411e-01+0.0000j]]])\n"
     ]
    },
    {
     "data": {
      "text/plain": [
       "[{|00>: 1024},\n",
       " {|00>: 1024},\n",
       " {|10>: 723, |01>: 301},\n",
       " {|01>: 887, |10>: 137},\n",
       " {|01>: 888, |10>: 136},\n",
       " {|11>: 989, |02>: 23, |20>: 12},\n",
       " {|00>: 1024},\n",
       " {|10>: 1022, |01>: 2},\n",
       " {|10>: 940, |01>: 84},\n",
       " {|10>: 953, |01>: 71}]"
      ]
     },
     "execution_count": 26,
     "metadata": {},
     "output_type": "execute_result"
    }
   ],
   "source": [
    "# 构建batch初态和线路参数\n",
    "batch_size = 10\n",
    "nmode = 2\n",
    "npara = 1\n",
    "batch_state = torch.randint(0, 2, (batch_size, nmode))\n",
    "batch_para = torch.randn(batch_size,npara)\n",
    "print('batch数为: ', batch_size)\n",
    "print('初态shape为: ',batch_state.shape)\n",
    "print('线路参数shape为: ',batch_para.shape)\n",
    "\n",
    "\n",
    "cir = dq.QumodeCircuit(nmode=nmode, init_state=batch_state)\n",
    "cir.bs_theta([0, 1], encode=True)\n",
    "\n",
    "re1 = cir(data = batch_para)\n",
    "print('线路对应酉矩阵为: ', re1)\n",
    "\n",
    "# 测量并输出结果\n",
    "cir.measure()"
   ]
  },
  {
   "cell_type": "markdown",
   "metadata": {},
   "source": [
    "## 支持简单的噪声模拟（Gaussian noise）\n",
    "\n",
    "噪声模拟使用 ``QumodeCircuit(noise=True)`` , 这里默认所有参数的噪声都是高斯分布，平均值 ``mu`` 为0, 标准差 ``sigma`` 为0.1。支持自定义整条线路的全局噪声，也可以指定某些光学器件的噪声。"
   ]
  },
  {
   "cell_type": "code",
   "execution_count": 27,
   "metadata": {},
   "outputs": [
    {
     "name": "stdout",
     "output_type": "stream",
     "text": [
      "采样结果为： {|101>: (1024, tensor(0.9999))}\n"
     ]
    }
   ],
   "source": [
    "cir_n = dq.QumodeCircuit(nmode=3, init_state=[1,0,1], noise=True)\n",
    "cir_n.ps(wires=0, encode=True, mu=0.2, sigma=0.2) # 支持自定义mu和sigma的值，默认为0，0.1\n",
    "cir_n.ps(1, encode=True, mu=0, sigma=0)\n",
    "cir_n.bs_theta([0,1], encode=True, mu=0, sigma=0.3)\n",
    "\n",
    "# 定义线路参数，并前向演化保存末态\n",
    "para = torch.randn(3)\n",
    "final_state_n = cir_n(para, is_prob=False)\n",
    "\n",
    "print('采样结果为：', cir_n.measure(with_prob=True))"
   ]
  },
  {
   "cell_type": "markdown",
   "metadata": {},
   "source": [
    "与无噪声的情况进行比较，计算fidelity："
   ]
  },
  {
   "cell_type": "code",
   "execution_count": 28,
   "metadata": {},
   "outputs": [
    {
     "name": "stdout",
     "output_type": "stream",
     "text": [
      "采样结果为： {|101>: (996, tensor(0.9727)), |011>: (28, tensor(0.0273))}\n",
      "加入噪声后的fidelity为:  tensor([0.9703])\n"
     ]
    }
   ],
   "source": [
    "# 设置无噪声线路\n",
    "cir = dq.QumodeCircuit(nmode=3, init_state=[1,0,1])\n",
    "cir.ps(0, encode=True)\n",
    "cir.ps(1, encode=True)\n",
    "cir.bs_theta([0,1], encode=True)\n",
    "\n",
    "final_state = cir(para, is_prob=False)\n",
    "\n",
    "print('采样结果为：', cir.measure(with_prob=True))\n",
    "\n",
    "# 计算fidelity\n",
    "f = 0\n",
    "for key in final_state_n.keys():\n",
    "    f += final_state_n[key].conj()*final_state[key]\n",
    "fidelity = torch.abs(f)**2\n",
    "print('加入噪声后的fidelity为: ', fidelity)"
   ]
  },
  {
   "cell_type": "markdown",
   "metadata": {},
   "source": [
    "## 支持GPU计算\n",
    "\n"
   ]
  },
  {
   "cell_type": "markdown",
   "metadata": {},
   "source": [
    "由于DeepQuantum基于PyTorch框架，可以方便的进行GPU节点上的量子线路模拟。\n",
    "\n",
    "首先检查环境是否支持cuda："
   ]
  },
  {
   "cell_type": "code",
   "execution_count": 29,
   "metadata": {},
   "outputs": [
    {
     "data": {
      "text/plain": [
       "True"
      ]
     },
     "execution_count": 29,
     "metadata": {},
     "output_type": "execute_result"
    }
   ],
   "source": [
    "torch.cuda.is_available()"
   ]
  },
  {
   "cell_type": "markdown",
   "metadata": {},
   "source": [
    "如果有NVIDIA的GPU但仍然返回 ``False`` ，常见的原因是未安装或未安装合适版本的 [CUDA](https://anaconda.org/nvidia/cuda) ，或安装的PyTorch为CPU-only版本。"
   ]
  },
  {
   "cell_type": "code",
   "execution_count": 30,
   "metadata": {},
   "outputs": [
    {
     "name": "stdout",
     "output_type": "stream",
     "text": [
      "tensor([[ 1.5735],\n",
      "        [ 0.4399],\n",
      "        [-1.0275],\n",
      "        [-0.3465],\n",
      "        [ 1.1878],\n",
      "        [ 0.0939],\n",
      "        [-0.9277],\n",
      "        [-0.0336],\n",
      "        [ 1.2388],\n",
      "        [ 1.8277]], device='cuda:0')\n",
      "线路对应酉矩阵为:  tensor([[[-2.6926e-03+0.0000j,  4.3711e-08+1.0000j],\n",
      "         [-4.3711e-08+1.0000j, -2.6926e-03+0.0000j]],\n",
      "\n",
      "        [[ 9.0478e-01+0.0000j,  1.8615e-08+0.4259j],\n",
      "         [-1.8615e-08+0.4259j,  9.0478e-01+0.0000j]],\n",
      "\n",
      "        [[ 5.1700e-01+0.0000j, -3.7416e-08-0.8560j],\n",
      "         [ 3.7416e-08-0.8560j,  5.1700e-01+0.0000j]],\n",
      "\n",
      "        [[ 9.4056e-01+0.0000j, -1.4846e-08-0.3396j],\n",
      "         [ 1.4846e-08-0.3396j,  9.4056e-01+0.0000j]],\n",
      "\n",
      "        [[ 3.7369e-01+0.0000j,  4.0545e-08+0.9276j],\n",
      "         [-4.0545e-08+0.9276j,  3.7369e-01+0.0000j]],\n",
      "\n",
      "        [[ 9.9559e-01+0.0000j,  4.0998e-09+0.0938j],\n",
      "         [-4.0998e-09+0.0938j,  9.9559e-01+0.0000j]],\n",
      "\n",
      "        [[ 5.9964e-01+0.0000j, -3.4981e-08-0.8003j],\n",
      "         [ 3.4981e-08-0.8003j,  5.9964e-01+0.0000j]],\n",
      "\n",
      "        [[ 9.9944e-01+0.0000j, -1.4684e-09-0.0336j],\n",
      "         [ 1.4684e-09-0.0336j,  9.9944e-01+0.0000j]],\n",
      "\n",
      "        [[ 3.2596e-01+0.0000j,  4.1324e-08+0.9454j],\n",
      "         [-4.1324e-08+0.9454j,  3.2596e-01+0.0000j]],\n",
      "\n",
      "        [[-2.5411e-01+0.0000j,  4.2277e-08+0.9672j],\n",
      "         [-4.2277e-08+0.9672j, -2.5411e-01+0.0000j]]], device='cuda:0')\n"
     ]
    },
    {
     "data": {
      "text/plain": [
       "[{|02>: 1024},\n",
       " {|20>: 686, |02>: 32, |11>: 306},\n",
       " {|11>: 407, |02>: 548, |20>: 69},\n",
       " {|11>: 197, |20>: 816, |02>: 11},\n",
       " {|20>: 28, |02>: 751, |11>: 245},\n",
       " {|20>: 1014, |11>: 10},\n",
       " {|02>: 412, |11>: 493, |20>: 119},\n",
       " {|20>: 1021, |11>: 3},\n",
       " {|02>: 831, |11>: 184, |20>: 9},\n",
       " {|02>: 881, |11>: 138, |20>: 5}]"
      ]
     },
     "execution_count": 30,
     "metadata": {},
     "output_type": "execute_result"
    }
   ],
   "source": [
    "device = torch.device('cpu')\n",
    "if torch.cuda.is_available():\n",
    "    device = torch.device('cuda:0')\n",
    "\n",
    "cir = dq.QumodeCircuit(nmode=nmode, init_state=[2,0])\n",
    "cir.bs_theta([0, 1], encode=True)\n",
    "\n",
    "cir.to(device)\n",
    "batch_para = batch_para.to(device)\n",
    "print(batch_para)\n",
    "\n",
    "re1 = cir(data = batch_para)\n",
    "print('线路对应酉矩阵为: ', re1)\n",
    "\n",
    "# 测量并输出结果\n",
    "cir.measure()"
   ]
  },
  {
   "cell_type": "markdown",
   "metadata": {},
   "source": [
    "## Clements 架构光量子线路"
   ]
  },
  {
   "cell_type": "markdown",
   "metadata": {},
   "source": [
    "内置了Clements模块可以模拟任意的酉矩阵，通过`dq.Clements`直接调用, \n",
    "`nmode` 表示总的波导数目，`init_state`设置初始输入，`cutoff` 表示对输出的结果做截断，`phi_first` 表示不同MZI的构造， `phi_first=True` 表示PS-BS-PS-BS 结构， `noise` 表示是否引入高斯噪声。\n",
    "下面是使用Clements 模块构建相同的CNOT光量子线路的例子。"
   ]
  },
  {
   "cell_type": "markdown",
   "metadata": {},
   "source": [
    "1. 构建6模Clements线路， 这里没有指定参数，所以生成的是随机参数。"
   ]
  },
  {
   "cell_type": "code",
   "execution_count": 31,
   "metadata": {},
   "outputs": [
    {
     "data": {
      "image/svg+xml": [
       "<svg baseProfile=\"full\" height=\"5.7272727272727275cm\" version=\"1.1\" width=\"20.1cm\" xmlns=\"http://www.w3.org/2000/svg\" xmlns:ev=\"http://www.w3.org/2001/xml-events\" xmlns:xlink=\"http://www.w3.org/1999/xlink\"><defs /><polyline fill=\"none\" points=\"40,30 60,30 90,60 130,60\" stroke=\"black\" stroke-width=\"2\" /><polyline fill=\"none\" points=\"40,60 60,60 90,30 130,30\" stroke=\"black\" stroke-width=\"2\" /><text font-size=\"9\" x=\"58\" y=\"25\">MZI-PT</text><text font-size=\"7\" x=\"85\" y=\"44\">θ =5.34</text><text font-size=\"7\" x=\"85\" y=\"50\">ϕ =3.948</text><polyline fill=\"none\" points=\"40,90 60,90 90,120 130,120\" stroke=\"black\" stroke-width=\"2\" /><polyline fill=\"none\" points=\"40,120 60,120 90,90 130,90\" stroke=\"black\" stroke-width=\"2\" /><text font-size=\"9\" x=\"58\" y=\"85\">MZI-PT</text><text font-size=\"7\" x=\"85\" y=\"104\">θ =5.015</text><text font-size=\"7\" x=\"85\" y=\"110\">ϕ =5.788</text><polyline fill=\"none\" points=\"40,150 60,150 90,180 130,180\" stroke=\"black\" stroke-width=\"2\" /><polyline fill=\"none\" points=\"40,180 60,180 90,150 130,150\" stroke=\"black\" stroke-width=\"2\" /><text font-size=\"9\" x=\"58\" y=\"145\">MZI-PT</text><text font-size=\"7\" x=\"85\" y=\"164\">θ =2.405</text><text font-size=\"7\" x=\"85\" y=\"170\">ϕ =3.79</text><polyline fill=\"none\" points=\"130,60 150,60 180,90 220,90\" stroke=\"black\" stroke-width=\"2\" /><polyline fill=\"none\" points=\"130,90 150,90 180,60 220,60\" stroke=\"black\" stroke-width=\"2\" /><text font-size=\"9\" x=\"148\" y=\"55\">MZI-PT</text><text font-size=\"7\" x=\"175\" y=\"74\">θ =4.851</text><text font-size=\"7\" x=\"175\" y=\"80\">ϕ =5.921</text><polyline fill=\"none\" points=\"130,120 150,120 180,150 220,150\" stroke=\"black\" stroke-width=\"2\" /><polyline fill=\"none\" points=\"130,150 150,150 180,120 220,120\" stroke=\"black\" stroke-width=\"2\" /><text font-size=\"9\" x=\"148\" y=\"115\">MZI-PT</text><text font-size=\"7\" x=\"175\" y=\"134\">θ =2.283</text><text font-size=\"7\" x=\"175\" y=\"140\">ϕ =6.253</text><polyline fill=\"none\" points=\"220,30 240,30 270,60 310,60\" stroke=\"black\" stroke-width=\"2\" /><polyline fill=\"none\" points=\"220,60 240,60 270,30 310,30\" stroke=\"black\" stroke-width=\"2\" /><text font-size=\"9\" x=\"238\" y=\"25\">MZI-PT</text><text font-size=\"7\" x=\"265\" y=\"44\">θ =1.54</text><text font-size=\"7\" x=\"265\" y=\"50\">ϕ =3.436</text><polyline fill=\"none\" points=\"220,90 240,90 270,120 310,120\" stroke=\"black\" stroke-width=\"2\" /><polyline fill=\"none\" points=\"220,120 240,120 270,90 310,90\" stroke=\"black\" stroke-width=\"2\" /><text font-size=\"9\" x=\"238\" y=\"85\">MZI-PT</text><text font-size=\"7\" x=\"265\" y=\"104\">θ =5.754</text><text font-size=\"7\" x=\"265\" y=\"110\">ϕ =4.725</text><polyline fill=\"none\" points=\"220,150 240,150 270,180 310,180\" stroke=\"black\" stroke-width=\"2\" /><polyline fill=\"none\" points=\"220,180 240,180 270,150 310,150\" stroke=\"black\" stroke-width=\"2\" /><text font-size=\"9\" x=\"238\" y=\"145\">MZI-PT</text><text font-size=\"7\" x=\"265\" y=\"164\">θ =3.977</text><text font-size=\"7\" x=\"265\" y=\"170\">ϕ =2.254</text><polyline fill=\"none\" points=\"310,60 330,60 360,90 400,90\" stroke=\"black\" stroke-width=\"2\" /><polyline fill=\"none\" points=\"310,90 330,90 360,60 400,60\" stroke=\"black\" stroke-width=\"2\" /><text font-size=\"9\" x=\"328\" y=\"55\">MZI-PT</text><text font-size=\"7\" x=\"355\" y=\"74\">θ =2.395</text><text font-size=\"7\" x=\"355\" y=\"80\">ϕ =1.416</text><polyline fill=\"none\" points=\"310,120 330,120 360,150 400,150\" stroke=\"black\" stroke-width=\"2\" /><polyline fill=\"none\" points=\"310,150 330,150 360,120 400,120\" stroke=\"black\" stroke-width=\"2\" /><text font-size=\"9\" x=\"328\" y=\"115\">MZI-PT</text><text font-size=\"7\" x=\"355\" y=\"134\">θ =0.935</text><text font-size=\"7\" x=\"355\" y=\"140\">ϕ =1.807</text><polyline fill=\"none\" points=\"400,30 420,30 450,60 490,60\" stroke=\"black\" stroke-width=\"2\" /><polyline fill=\"none\" points=\"400,60 420,60 450,30 490,30\" stroke=\"black\" stroke-width=\"2\" /><text font-size=\"9\" x=\"418\" y=\"25\">MZI-PT</text><text font-size=\"7\" x=\"445\" y=\"44\">θ =0.425</text><text font-size=\"7\" x=\"445\" y=\"50\">ϕ =0.938</text><polyline fill=\"none\" points=\"400,90 420,90 450,120 490,120\" stroke=\"black\" stroke-width=\"2\" /><polyline fill=\"none\" points=\"400,120 420,120 450,90 490,90\" stroke=\"black\" stroke-width=\"2\" /><text font-size=\"9\" x=\"418\" y=\"85\">MZI-PT</text><text font-size=\"7\" x=\"445\" y=\"104\">θ =1.251</text><text font-size=\"7\" x=\"445\" y=\"110\">ϕ =1.872</text><polyline fill=\"none\" points=\"400,150 420,150 450,180 490,180\" stroke=\"black\" stroke-width=\"2\" /><polyline fill=\"none\" points=\"400,180 420,180 450,150 490,150\" stroke=\"black\" stroke-width=\"2\" /><text font-size=\"9\" x=\"418\" y=\"145\">MZI-PT</text><text font-size=\"7\" x=\"445\" y=\"164\">θ =1.346</text><text font-size=\"7\" x=\"445\" y=\"170\">ϕ =5.091</text><polyline fill=\"none\" points=\"490,60 510,60 540,90 580,90\" stroke=\"black\" stroke-width=\"2\" /><polyline fill=\"none\" points=\"490,90 510,90 540,60 580,60\" stroke=\"black\" stroke-width=\"2\" /><text font-size=\"9\" x=\"508\" y=\"55\">MZI-PT</text><text font-size=\"7\" x=\"535\" y=\"74\">θ =5.467</text><text font-size=\"7\" x=\"535\" y=\"80\">ϕ =5.433</text><polyline fill=\"none\" points=\"490,120 510,120 540,150 580,150\" stroke=\"black\" stroke-width=\"2\" /><polyline fill=\"none\" points=\"490,150 510,150 540,120 580,120\" stroke=\"black\" stroke-width=\"2\" /><text font-size=\"9\" x=\"508\" y=\"115\">MZI-PT</text><text font-size=\"7\" x=\"535\" y=\"134\">θ =3.165</text><text font-size=\"7\" x=\"535\" y=\"140\">ϕ =2.534</text><polyline fill=\"none\" points=\"490,30 580,30\" stroke=\"black\" stroke-width=\"2\" /><rect fill=\"teal\" height=\"12\" rx=\"0\" ry=\"0\" stroke=\"black\" stroke-width=\"1.5\" width=\"6\" x=\"532.5\" y=\"25\" /><text font-size=\"9\" x=\"530\" y=\"20\">PS</text><text font-size=\"7\" x=\"545\" y=\"20\">θ =4.146</text><polyline fill=\"none\" points=\"580,60 670,60\" stroke=\"black\" stroke-width=\"2\" /><rect fill=\"teal\" height=\"12\" rx=\"0\" ry=\"0\" stroke=\"black\" stroke-width=\"1.5\" width=\"6\" x=\"622.5\" y=\"55\" /><text font-size=\"9\" x=\"620\" y=\"50\">PS</text><text font-size=\"7\" x=\"635\" y=\"50\">θ =4.289</text><polyline fill=\"none\" points=\"580,90 670,90\" stroke=\"black\" stroke-width=\"2\" /><rect fill=\"teal\" height=\"12\" rx=\"0\" ry=\"0\" stroke=\"black\" stroke-width=\"1.5\" width=\"6\" x=\"622.5\" y=\"85\" /><text font-size=\"9\" x=\"620\" y=\"80\">PS</text><text font-size=\"7\" x=\"635\" y=\"80\">θ =3.489</text><polyline fill=\"none\" points=\"580,120 670,120\" stroke=\"black\" stroke-width=\"2\" /><rect fill=\"teal\" height=\"12\" rx=\"0\" ry=\"0\" stroke=\"black\" stroke-width=\"1.5\" width=\"6\" x=\"622.5\" y=\"115\" /><text font-size=\"9\" x=\"620\" y=\"110\">PS</text><text font-size=\"7\" x=\"635\" y=\"110\">θ =2.673</text><polyline fill=\"none\" points=\"580,150 670,150\" stroke=\"black\" stroke-width=\"2\" /><rect fill=\"teal\" height=\"12\" rx=\"0\" ry=\"0\" stroke=\"black\" stroke-width=\"1.5\" width=\"6\" x=\"622.5\" y=\"145\" /><text font-size=\"9\" x=\"620\" y=\"140\">PS</text><text font-size=\"7\" x=\"635\" y=\"140\">θ =2.187</text><polyline fill=\"none\" points=\"490,180 580,180\" stroke=\"black\" stroke-width=\"2\" /><rect fill=\"teal\" height=\"12\" rx=\"0\" ry=\"0\" stroke=\"black\" stroke-width=\"1.5\" width=\"6\" x=\"532.5\" y=\"175\" /><text font-size=\"9\" x=\"530\" y=\"170\">PS</text><text font-size=\"7\" x=\"545\" y=\"170\">θ =2.872</text><polyline fill=\"none\" points=\"130,30 220,30\" stroke=\"black\" stroke-width=\"2\" /><polyline fill=\"none\" points=\"130,180 220,180\" stroke=\"black\" stroke-width=\"2\" /><polyline fill=\"none\" points=\"310,30 400,30\" stroke=\"black\" stroke-width=\"2\" /><polyline fill=\"none\" points=\"310,180 400,180\" stroke=\"black\" stroke-width=\"2\" /><polyline fill=\"none\" points=\"580,30 670,30\" stroke=\"black\" stroke-width=\"2\" /><polyline fill=\"none\" points=\"580,180 670,180\" stroke=\"black\" stroke-width=\"2\" /><text font-size=\"12\" x=\"25\" y=\"30\">0</text><text font-size=\"12\" x=\"25\" y=\"60\">1</text><text font-size=\"12\" x=\"25\" y=\"90\">2</text><text font-size=\"12\" x=\"25\" y=\"120\">3</text><text font-size=\"12\" x=\"25\" y=\"150\">4</text><text font-size=\"12\" x=\"25\" y=\"180\">5</text></svg>"
      ],
      "text/plain": [
       "<svgwrite.drawing.Drawing at 0x152c0f77f10>"
      ]
     },
     "execution_count": 31,
     "metadata": {},
     "output_type": "execute_result"
    }
   ],
   "source": [
    "clements = dq.Clements(nmode=6, init_state=[1,0,1,0,0,0], cutoff=3)\n",
    "clements.draw()"
   ]
  },
  {
   "cell_type": "markdown",
   "metadata": {},
   "source": [
    "2. 使用clements架构实现cnot门, 这里先将CNOT对应的光量子线路酉矩阵做分解映射成Clements参数， 然后再加载这些参数。"
   ]
  },
  {
   "cell_type": "code",
   "execution_count": 32,
   "metadata": {},
   "outputs": [
    {
     "data": {
      "image/svg+xml": [
       "<svg baseProfile=\"full\" height=\"5.7272727272727275cm\" version=\"1.1\" width=\"20.1cm\" xmlns=\"http://www.w3.org/2000/svg\" xmlns:ev=\"http://www.w3.org/2001/xml-events\" xmlns:xlink=\"http://www.w3.org/1999/xlink\"><defs /><polyline fill=\"none\" points=\"40,30 60,30 90,60 130,60\" stroke=\"black\" stroke-width=\"2\" /><polyline fill=\"none\" points=\"40,60 60,60 90,30 130,30\" stroke=\"black\" stroke-width=\"2\" /><text font-size=\"9\" x=\"58\" y=\"25\">MZI-PT</text><text font-size=\"7\" x=\"85\" y=\"44\">θ =3.142</text><text font-size=\"7\" x=\"85\" y=\"50\">ϕ =3.142</text><polyline fill=\"none\" points=\"40,90 60,90 90,120 130,120\" stroke=\"black\" stroke-width=\"2\" /><polyline fill=\"none\" points=\"40,120 60,120 90,90 130,90\" stroke=\"black\" stroke-width=\"2\" /><text font-size=\"9\" x=\"58\" y=\"85\">MZI-PT</text><text font-size=\"7\" x=\"85\" y=\"104\">θ =1.571</text><text font-size=\"7\" x=\"85\" y=\"110\">ϕ =3.142</text><polyline fill=\"none\" points=\"40,150 60,150 90,180 130,180\" stroke=\"black\" stroke-width=\"2\" /><polyline fill=\"none\" points=\"40,180 60,180 90,150 130,150\" stroke=\"black\" stroke-width=\"2\" /><text font-size=\"9\" x=\"58\" y=\"145\">MZI-PT</text><text font-size=\"7\" x=\"85\" y=\"164\">θ =2.506</text><text font-size=\"7\" x=\"85\" y=\"170\">ϕ =0.492</text><polyline fill=\"none\" points=\"130,60 150,60 180,90 220,90\" stroke=\"black\" stroke-width=\"2\" /><polyline fill=\"none\" points=\"130,90 150,90 180,60 220,60\" stroke=\"black\" stroke-width=\"2\" /><text font-size=\"9\" x=\"148\" y=\"55\">MZI-PT</text><text font-size=\"7\" x=\"175\" y=\"74\">θ =0.0</text><text font-size=\"7\" x=\"175\" y=\"80\">ϕ =6.079</text><polyline fill=\"none\" points=\"130,120 150,120 180,150 220,150\" stroke=\"black\" stroke-width=\"2\" /><polyline fill=\"none\" points=\"130,150 150,150 180,120 220,120\" stroke=\"black\" stroke-width=\"2\" /><text font-size=\"9\" x=\"148\" y=\"115\">MZI-PT</text><text font-size=\"7\" x=\"175\" y=\"134\">θ =1.183</text><text font-size=\"7\" x=\"175\" y=\"140\">ϕ =4.101</text><polyline fill=\"none\" points=\"220,30 240,30 270,60 310,60\" stroke=\"black\" stroke-width=\"2\" /><polyline fill=\"none\" points=\"220,60 240,60 270,30 310,30\" stroke=\"black\" stroke-width=\"2\" /><text font-size=\"9\" x=\"238\" y=\"25\">MZI-PT</text><text font-size=\"7\" x=\"265\" y=\"44\">θ =1.231</text><text font-size=\"7\" x=\"265\" y=\"50\">ϕ =0.785</text><polyline fill=\"none\" points=\"220,90 240,90 270,120 310,120\" stroke=\"black\" stroke-width=\"2\" /><polyline fill=\"none\" points=\"220,120 240,120 270,90 310,90\" stroke=\"black\" stroke-width=\"2\" /><text font-size=\"9\" x=\"238\" y=\"85\">MZI-PT</text><text font-size=\"7\" x=\"265\" y=\"104\">θ =0.363</text><text font-size=\"7\" x=\"265\" y=\"110\">ϕ =3.619</text><polyline fill=\"none\" points=\"220,150 240,150 270,180 310,180\" stroke=\"black\" stroke-width=\"2\" /><polyline fill=\"none\" points=\"220,180 240,180 270,150 310,150\" stroke=\"black\" stroke-width=\"2\" /><text font-size=\"9\" x=\"238\" y=\"145\">MZI-PT</text><text font-size=\"7\" x=\"265\" y=\"164\">θ =0.363</text><text font-size=\"7\" x=\"265\" y=\"170\">ϕ =4.121</text><polyline fill=\"none\" points=\"310,60 330,60 360,90 400,90\" stroke=\"black\" stroke-width=\"2\" /><polyline fill=\"none\" points=\"310,90 330,90 360,60 400,60\" stroke=\"black\" stroke-width=\"2\" /><text font-size=\"9\" x=\"328\" y=\"55\">MZI-PT</text><text font-size=\"7\" x=\"355\" y=\"74\">θ =1.52</text><text font-size=\"7\" x=\"355\" y=\"80\">ϕ =4.258</text><polyline fill=\"none\" points=\"310,120 330,120 360,150 400,150\" stroke=\"black\" stroke-width=\"2\" /><polyline fill=\"none\" points=\"310,150 330,150 360,120 400,120\" stroke=\"black\" stroke-width=\"2\" /><text font-size=\"9\" x=\"328\" y=\"115\">MZI-PT</text><text font-size=\"7\" x=\"355\" y=\"134\">θ =1.183</text><text font-size=\"7\" x=\"355\" y=\"140\">ϕ =0.979</text><polyline fill=\"none\" points=\"400,30 420,30 450,60 490,60\" stroke=\"black\" stroke-width=\"2\" /><polyline fill=\"none\" points=\"400,60 420,60 450,30 490,30\" stroke=\"black\" stroke-width=\"2\" /><text font-size=\"9\" x=\"418\" y=\"25\">MZI-PT</text><text font-size=\"7\" x=\"445\" y=\"44\">θ =3.142</text><text font-size=\"7\" x=\"445\" y=\"50\">ϕ =6.097</text><polyline fill=\"none\" points=\"400,90 420,90 450,120 490,120\" stroke=\"black\" stroke-width=\"2\" /><polyline fill=\"none\" points=\"400,120 420,120 450,90 490,90\" stroke=\"black\" stroke-width=\"2\" /><text font-size=\"9\" x=\"418\" y=\"85\">MZI-PT</text><text font-size=\"7\" x=\"445\" y=\"104\">θ =0.445</text><text font-size=\"7\" x=\"445\" y=\"110\">ϕ =3.953</text><polyline fill=\"none\" points=\"400,150 420,150 450,180 490,180\" stroke=\"black\" stroke-width=\"2\" /><polyline fill=\"none\" points=\"400,180 420,180 450,150 490,150\" stroke=\"black\" stroke-width=\"2\" /><text font-size=\"9\" x=\"418\" y=\"145\">MZI-PT</text><text font-size=\"7\" x=\"445\" y=\"164\">θ =0.0</text><text font-size=\"7\" x=\"445\" y=\"170\">ϕ =1.471</text><polyline fill=\"none\" points=\"490,60 510,60 540,90 580,90\" stroke=\"black\" stroke-width=\"2\" /><polyline fill=\"none\" points=\"490,90 510,90 540,60 580,60\" stroke=\"black\" stroke-width=\"2\" /><text font-size=\"9\" x=\"508\" y=\"55\">MZI-PT</text><text font-size=\"7\" x=\"535\" y=\"74\">θ =0.457</text><text font-size=\"7\" x=\"535\" y=\"80\">ϕ =2.605</text><polyline fill=\"none\" points=\"490,120 510,120 540,150 580,150\" stroke=\"black\" stroke-width=\"2\" /><polyline fill=\"none\" points=\"490,150 510,150 540,120 580,120\" stroke=\"black\" stroke-width=\"2\" /><text font-size=\"9\" x=\"508\" y=\"115\">MZI-PT</text><text font-size=\"7\" x=\"535\" y=\"134\">θ =3.142</text><text font-size=\"7\" x=\"535\" y=\"140\">ϕ =0.757</text><polyline fill=\"none\" points=\"490,30 580,30\" stroke=\"black\" stroke-width=\"2\" /><rect fill=\"teal\" height=\"12\" rx=\"0\" ry=\"0\" stroke=\"black\" stroke-width=\"1.5\" width=\"6\" x=\"532.5\" y=\"25\" /><text font-size=\"9\" x=\"530\" y=\"20\">PS</text><text font-size=\"7\" x=\"545\" y=\"20\">θ =0.356</text><polyline fill=\"none\" points=\"580,60 670,60\" stroke=\"black\" stroke-width=\"2\" /><rect fill=\"teal\" height=\"12\" rx=\"0\" ry=\"0\" stroke=\"black\" stroke-width=\"1.5\" width=\"6\" x=\"622.5\" y=\"55\" /><text font-size=\"9\" x=\"620\" y=\"50\">PS</text><text font-size=\"7\" x=\"635\" y=\"50\">θ =5.377</text><polyline fill=\"none\" points=\"580,90 670,90\" stroke=\"black\" stroke-width=\"2\" /><rect fill=\"teal\" height=\"12\" rx=\"0\" ry=\"0\" stroke=\"black\" stroke-width=\"1.5\" width=\"6\" x=\"622.5\" y=\"85\" /><text font-size=\"9\" x=\"620\" y=\"80\">PS</text><text font-size=\"7\" x=\"635\" y=\"80\">θ =4.885</text><polyline fill=\"none\" points=\"580,120 670,120\" stroke=\"black\" stroke-width=\"2\" /><rect fill=\"teal\" height=\"12\" rx=\"0\" ry=\"0\" stroke=\"black\" stroke-width=\"1.5\" width=\"6\" x=\"622.5\" y=\"115\" /><text font-size=\"9\" x=\"620\" y=\"110\">PS</text><text font-size=\"7\" x=\"635\" y=\"110\">θ =2.786</text><polyline fill=\"none\" points=\"580,150 670,150\" stroke=\"black\" stroke-width=\"2\" /><rect fill=\"teal\" height=\"12\" rx=\"0\" ry=\"0\" stroke=\"black\" stroke-width=\"1.5\" width=\"6\" x=\"622.5\" y=\"145\" /><text font-size=\"9\" x=\"620\" y=\"140\">PS</text><text font-size=\"7\" x=\"635\" y=\"140\">θ =5.928</text><polyline fill=\"none\" points=\"490,180 580,180\" stroke=\"black\" stroke-width=\"2\" /><rect fill=\"teal\" height=\"12\" rx=\"0\" ry=\"0\" stroke=\"black\" stroke-width=\"1.5\" width=\"6\" x=\"532.5\" y=\"175\" /><text font-size=\"9\" x=\"530\" y=\"170\">PS</text><text font-size=\"7\" x=\"545\" y=\"170\">θ =5.928</text><polyline fill=\"none\" points=\"130,30 220,30\" stroke=\"black\" stroke-width=\"2\" /><polyline fill=\"none\" points=\"130,180 220,180\" stroke=\"black\" stroke-width=\"2\" /><polyline fill=\"none\" points=\"310,30 400,30\" stroke=\"black\" stroke-width=\"2\" /><polyline fill=\"none\" points=\"310,180 400,180\" stroke=\"black\" stroke-width=\"2\" /><polyline fill=\"none\" points=\"580,30 670,30\" stroke=\"black\" stroke-width=\"2\" /><polyline fill=\"none\" points=\"580,180 670,180\" stroke=\"black\" stroke-width=\"2\" /><text font-size=\"12\" x=\"25\" y=\"30\">0</text><text font-size=\"12\" x=\"25\" y=\"60\">1</text><text font-size=\"12\" x=\"25\" y=\"90\">2</text><text font-size=\"12\" x=\"25\" y=\"120\">3</text><text font-size=\"12\" x=\"25\" y=\"150\">4</text><text font-size=\"12\" x=\"25\" y=\"180\">5</text></svg>"
      ],
      "text/plain": [
       "<svgwrite.drawing.Drawing at 0x152c0fe37c0>"
      ]
     },
     "execution_count": 32,
     "metadata": {},
     "output_type": "execute_result"
    }
   ],
   "source": [
    "# 使用clements架构实现cnot门\n",
    "u6x6 = np.array([[1, 0, 1, -1, 0, 0],\n",
    "                 [0, 1, 0 ,0,  0, np.sqrt(2)],\n",
    "                 [1,  0, 0, 1, 1, 0],\n",
    "                 [-1, 0, 1, 0, 1, 0],\n",
    "                 [0,  0, 1, 1, -1,0],\n",
    "                 [0, np.sqrt(2), 0,0,0,-1]])/np.sqrt(3)\n",
    "# 将酉矩阵分解成clements对应的参数\n",
    "UD = dq.UnitaryDecomposer(u6x6)\n",
    "mzi_info = UD.decomp()\n",
    "# 构造clements线路实现cnot门\n",
    "data = clements.dict2data(mzi_info[2]) # encoding the 6x6 data\n",
    "re = clements(data = data)\n",
    "#线路可视化\n",
    "clements.draw()"
   ]
  },
  {
   "cell_type": "markdown",
   "metadata": {},
   "source": [
    "3. 通过clements.get_unitary()来验证是否正确"
   ]
  },
  {
   "cell_type": "code",
   "execution_count": 33,
   "metadata": {},
   "outputs": [
    {
     "data": {
      "text/plain": [
       "tensor(0.0007, dtype=torch.float64)"
      ]
     },
     "execution_count": 33,
     "metadata": {},
     "output_type": "execute_result"
    }
   ],
   "source": [
    "abs(clements.get_unitary() - u6x6).sum()"
   ]
  },
  {
   "cell_type": "markdown",
   "metadata": {},
   "source": [
    "# 基于高斯后端构建光量子线路"
   ]
  },
  {
   "cell_type": "markdown",
   "metadata": {},
   "source": [
    "##  构建连续变量光量子线路"
   ]
  },
  {
   "cell_type": "markdown",
   "metadata": {},
   "source": [
    "基于高斯后端的光量子线路演化的量子态是高斯态， 高斯态的概念来源于连续变量光量子计算， 它对应的wigner函数为多元高斯分布，比如相干态。\n",
    "这里用正交分量X，P的协方差矩阵和平均值来刻画连续变量中的量子态，比如真空态对应的协方差矩阵为单位阵，对应的平均值都为0，\n",
    "通过测量得到的物理量是两个正交分量X，P的值，它们对应的分布满足边缘分布。\n"
   ]
  },
  {
   "cell_type": "markdown",
   "metadata": {},
   "source": [
    "这里构建2模线路，初始量子态为真空高斯态， 经过3种高斯门演化之后得到另一个高斯态。S 表示单模真空压缩门， D表示位移门， BS是可调分束器。 通过设置`backend='gaussian'`可以进行高斯后端的演化得到协方差矩阵和平均值"
   ]
  },
  {
   "cell_type": "code",
   "execution_count": 34,
   "metadata": {},
   "outputs": [
    {
     "data": {
      "image/svg+xml": [
       "<svg baseProfile=\"full\" height=\"1.9090909090909092cm\" version=\"1.1\" width=\"9.3cm\" xmlns=\"http://www.w3.org/2000/svg\" xmlns:ev=\"http://www.w3.org/2001/xml-events\" xmlns:xlink=\"http://www.w3.org/1999/xlink\"><defs /><polyline fill=\"none\" points=\"40,30 130,30\" stroke=\"black\" stroke-width=\"2\" /><rect fill=\"royalblue\" height=\"12\" rx=\"0\" ry=\"0\" stroke=\"black\" stroke-width=\"1.5\" width=\"10\" x=\"82.5\" y=\"25\" /><text font-size=\"9\" x=\"83\" y=\"20\">S</text><text font-size=\"7\" x=\"95\" y=\"18\">r =1.0</text><text font-size=\"7\" x=\"95\" y=\"24\">θ =0.0</text><polyline fill=\"none\" points=\"40,60 130,60\" stroke=\"black\" stroke-width=\"2\" /><rect fill=\"royalblue\" height=\"12\" rx=\"0\" ry=\"0\" stroke=\"black\" stroke-width=\"1.5\" width=\"10\" x=\"82.5\" y=\"55\" /><text font-size=\"9\" x=\"83\" y=\"50\">S</text><text font-size=\"7\" x=\"95\" y=\"48\">r =1.0</text><text font-size=\"7\" x=\"95\" y=\"54\">θ =0.0</text><polyline fill=\"none\" points=\"130,30 220,30\" stroke=\"black\" stroke-width=\"2\" /><rect fill=\"green\" height=\"12\" rx=\"0\" ry=\"0\" stroke=\"black\" stroke-width=\"1.5\" width=\"10\" x=\"172.5\" y=\"25\" /><text font-size=\"9\" x=\"173\" y=\"20\">D</text><text font-size=\"7\" x=\"185\" y=\"18\">r =1.0</text><text font-size=\"7\" x=\"185\" y=\"24\">θ =0.0</text><polyline fill=\"none\" points=\"130,60 220,60\" stroke=\"black\" stroke-width=\"2\" /><rect fill=\"green\" height=\"12\" rx=\"0\" ry=\"0\" stroke=\"black\" stroke-width=\"1.5\" width=\"10\" x=\"172.5\" y=\"55\" /><text font-size=\"9\" x=\"173\" y=\"50\">D</text><text font-size=\"7\" x=\"185\" y=\"48\">r =1.0</text><text font-size=\"7\" x=\"185\" y=\"54\">θ =0.0</text><polyline fill=\"none\" points=\"220,30 240,30 270,60 310,60\" stroke=\"black\" stroke-width=\"2\" /><polyline fill=\"none\" points=\"220,60 240,60 270,30 310,30\" stroke=\"black\" stroke-width=\"2\" /><text font-size=\"9\" x=\"250\" y=\"25\">BS</text><text font-size=\"7\" x=\"265\" y=\"44\">θ =0.785</text><text font-size=\"7\" x=\"265\" y=\"50\">ϕ =0.785</text><text font-size=\"12\" x=\"25\" y=\"30\">0</text><text font-size=\"12\" x=\"25\" y=\"60\">1</text></svg>"
      ],
      "text/plain": [
       "<svgwrite.drawing.Drawing at 0x152c0fe3340>"
      ]
     },
     "execution_count": 34,
     "metadata": {},
     "output_type": "execute_result"
    }
   ],
   "source": [
    "circ = dq.photonic.QumodeCircuit(nmode=2, init_state='vac', cutoff=3, backend='gaussian')\n",
    "circ.s(wires=[0], r=1)\n",
    "circ.s(wires=[1], r=1)\n",
    "circ.d(wires=[0], r=1)\n",
    "circ.d(wires=[1], r=1)\n",
    "circ.bs(wires=[0,1], inputs=[np.pi/4,np.pi/4])\n",
    "#线路可视化\n",
    "circ.draw()"
   ]
  },
  {
   "cell_type": "code",
   "execution_count": 35,
   "metadata": {},
   "outputs": [
    {
     "name": "stdout",
     "output_type": "stream",
     "text": [
      "[tensor([[[ 1.9488,  0.0000,  1.8134, -2.5646],\n",
      "         [ 0.0000,  1.9488, -2.5646, -1.8134],\n",
      "         [ 1.8134, -2.5646,  5.5756,  0.0000],\n",
      "         [-2.5646, -1.8134,  0.0000,  5.5756]]]), tensor([[[0.4142],\n",
      "         [2.4142],\n",
      "         [1.0000],\n",
      "         [1.0000]]])]\n"
     ]
    }
   ],
   "source": [
    "state = circ() # 线路演化后得到的高斯态用协方差矩阵和平均值刻画\n",
    "print(state)"
   ]
  },
  {
   "cell_type": "markdown",
   "metadata": {},
   "source": [
    "## homodyne 测量"
   ]
  },
  {
   "cell_type": "markdown",
   "metadata": {},
   "source": [
    "`circ.measure_homodyne` 对指定线路的正交分量进行测量，`shots`对应测量次数， `wires` 表示指定线路"
   ]
  },
  {
   "cell_type": "code",
   "execution_count": 36,
   "metadata": {},
   "outputs": [
    {
     "data": {
      "text/plain": [
       "torch.Size([1024, 4])"
      ]
     },
     "execution_count": 36,
     "metadata": {},
     "output_type": "execute_result"
    }
   ],
   "source": [
    "measure_re = circ.measure_homodyne(shots = 1024, wires=[0,1]) #对正交分量进行测量， 这里的每个模对应一组正交分量X，P。\n",
    "measure_re.shape"
   ]
  },
  {
   "cell_type": "markdown",
   "metadata": {},
   "source": [
    "同时还可以计算每个线路的平均光子数和光子数方差"
   ]
  },
  {
   "cell_type": "code",
   "execution_count": 37,
   "metadata": {},
   "outputs": [
    {
     "data": {
      "text/plain": [
       "(tensor([1.6740, 3.0882]), tensor([6.7859, 6.9773]))"
      ]
     },
     "execution_count": 37,
     "metadata": {},
     "output_type": "execute_result"
    }
   ],
   "source": [
    "photon_mean, photon_var = circ.photon_number_mean_var()\n",
    "photon_mean, photon_var"
   ]
  },
  {
   "cell_type": "markdown",
   "metadata": {},
   "source": [
    "## 高斯玻色采样"
   ]
  },
  {
   "cell_type": "markdown",
   "metadata": {},
   "source": [
    "基于压缩门和线性光学器件可以构建高斯玻色采样线路，参数 `adj_mat` 表示输入对应的邻接矩阵，`cutoff`表示每条线路探测到的最大光子数-1，`mean_photon_num` 表示每条线路对应的平均光子数之和， 默认设为mode数，即每条线路对应的平均光子数为1， `detector` 为\n",
    "`'pnrd'`表示单光子分辨探测器， 默认设为`'pnrd', `'threshold'` 表示阈值探测器， `noise` 表示是否加入高斯噪声。"
   ]
  },
  {
   "cell_type": "code",
   "execution_count": 38,
   "metadata": {},
   "outputs": [
    {
     "name": "stderr",
     "output_type": "stream",
     "text": [
      "chain 1: 100%|\u001b[32m█████████████████████████████\u001b[0m| 999/999 [00:00<00:00, 10148.25it/s]\u001b[0m\n",
      "chain 2: 100%|\u001b[32m█████████████████████████████\u001b[0m| 999/999 [00:00<00:00, 17416.70it/s]\u001b[0m\n",
      "chain 3: 100%|\u001b[32m█████████████████████████████\u001b[0m| 999/999 [00:00<00:00, 23568.41it/s]\u001b[0m\n",
      "chain 4: 100%|\u001b[32m█████████████████████████████\u001b[0m| 999/999 [00:00<00:00, 19892.37it/s]\u001b[0m\n",
      "chain 5: 100%|\u001b[32m█████████████████████████████\u001b[0m| 999/999 [00:00<00:00, 20173.86it/s]\u001b[0m\n"
     ]
    },
    {
     "data": {
      "image/svg+xml": [
       "<svg baseProfile=\"full\" height=\"5.7272727272727275cm\" version=\"1.1\" width=\"22.8cm\" xmlns=\"http://www.w3.org/2000/svg\" xmlns:ev=\"http://www.w3.org/2001/xml-events\" xmlns:xlink=\"http://www.w3.org/1999/xlink\"><defs /><polyline fill=\"none\" points=\"40,30 130,30\" stroke=\"black\" stroke-width=\"2\" /><rect fill=\"royalblue\" height=\"12\" rx=\"0\" ry=\"0\" stroke=\"black\" stroke-width=\"1.5\" width=\"10\" x=\"82.5\" y=\"25\" /><text font-size=\"9\" x=\"83\" y=\"20\">S</text><text font-size=\"7\" x=\"95\" y=\"18\">r =-0.107</text><text font-size=\"7\" x=\"95\" y=\"24\">θ =0.0</text><polyline fill=\"none\" points=\"40,60 130,60\" stroke=\"black\" stroke-width=\"2\" /><rect fill=\"royalblue\" height=\"12\" rx=\"0\" ry=\"0\" stroke=\"black\" stroke-width=\"1.5\" width=\"10\" x=\"82.5\" y=\"55\" /><text font-size=\"9\" x=\"83\" y=\"50\">S</text><text font-size=\"7\" x=\"95\" y=\"48\">r =-0.235</text><text font-size=\"7\" x=\"95\" y=\"54\">θ =0.0</text><polyline fill=\"none\" points=\"40,90 130,90\" stroke=\"black\" stroke-width=\"2\" /><rect fill=\"royalblue\" height=\"12\" rx=\"0\" ry=\"0\" stroke=\"black\" stroke-width=\"1.5\" width=\"10\" x=\"82.5\" y=\"85\" /><text font-size=\"9\" x=\"83\" y=\"80\">S</text><text font-size=\"7\" x=\"95\" y=\"78\">r =-0.455</text><text font-size=\"7\" x=\"95\" y=\"84\">θ =0.0</text><polyline fill=\"none\" points=\"40,120 130,120\" stroke=\"black\" stroke-width=\"2\" /><rect fill=\"royalblue\" height=\"12\" rx=\"0\" ry=\"0\" stroke=\"black\" stroke-width=\"1.5\" width=\"10\" x=\"82.5\" y=\"115\" /><text font-size=\"9\" x=\"83\" y=\"110\">S</text><text font-size=\"7\" x=\"95\" y=\"108\">r =-0.593</text><text font-size=\"7\" x=\"95\" y=\"114\">θ =0.0</text><polyline fill=\"none\" points=\"40,150 130,150\" stroke=\"black\" stroke-width=\"2\" /><rect fill=\"royalblue\" height=\"12\" rx=\"0\" ry=\"0\" stroke=\"black\" stroke-width=\"1.5\" width=\"10\" x=\"82.5\" y=\"145\" /><text font-size=\"9\" x=\"83\" y=\"140\">S</text><text font-size=\"7\" x=\"95\" y=\"138\">r =-0.818</text><text font-size=\"7\" x=\"95\" y=\"144\">θ =0.0</text><polyline fill=\"none\" points=\"40,180 130,180\" stroke=\"black\" stroke-width=\"2\" /><rect fill=\"royalblue\" height=\"12\" rx=\"0\" ry=\"0\" stroke=\"black\" stroke-width=\"1.5\" width=\"10\" x=\"82.5\" y=\"175\" /><text font-size=\"9\" x=\"83\" y=\"170\">S</text><text font-size=\"7\" x=\"95\" y=\"168\">r =-1.495</text><text font-size=\"7\" x=\"95\" y=\"174\">θ =0.0</text><polyline fill=\"none\" points=\"130,30 150,30 180,60 220,60\" stroke=\"black\" stroke-width=\"2\" /><polyline fill=\"none\" points=\"130,60 150,60 180,30 220,30\" stroke=\"black\" stroke-width=\"2\" /><text font-size=\"9\" x=\"148\" y=\"25\">MZI-PT</text><text font-size=\"7\" x=\"175\" y=\"44\">θ =1.846</text><text font-size=\"7\" x=\"175\" y=\"50\">ϕ =1.571</text><polyline fill=\"none\" points=\"130,90 150,90 180,120 220,120\" stroke=\"black\" stroke-width=\"2\" /><polyline fill=\"none\" points=\"130,120 150,120 180,90 220,90\" stroke=\"black\" stroke-width=\"2\" /><text font-size=\"9\" x=\"148\" y=\"85\">MZI-PT</text><text font-size=\"7\" x=\"175\" y=\"104\">θ =2.877</text><text font-size=\"7\" x=\"175\" y=\"110\">ϕ =4.712</text><polyline fill=\"none\" points=\"130,150 150,150 180,180 220,180\" stroke=\"black\" stroke-width=\"2\" /><polyline fill=\"none\" points=\"130,180 150,180 180,150 220,150\" stroke=\"black\" stroke-width=\"2\" /><text font-size=\"9\" x=\"148\" y=\"145\">MZI-PT</text><text font-size=\"7\" x=\"175\" y=\"164\">θ =2.111</text><text font-size=\"7\" x=\"175\" y=\"170\">ϕ =4.712</text><polyline fill=\"none\" points=\"220,60 240,60 270,90 310,90\" stroke=\"black\" stroke-width=\"2\" /><polyline fill=\"none\" points=\"220,90 240,90 270,60 310,60\" stroke=\"black\" stroke-width=\"2\" /><text font-size=\"9\" x=\"238\" y=\"55\">MZI-PT</text><text font-size=\"7\" x=\"265\" y=\"74\">θ =0.758</text><text font-size=\"7\" x=\"265\" y=\"80\">ϕ =0.515</text><polyline fill=\"none\" points=\"220,120 240,120 270,150 310,150\" stroke=\"black\" stroke-width=\"2\" /><polyline fill=\"none\" points=\"220,150 240,150 270,120 310,120\" stroke=\"black\" stroke-width=\"2\" /><text font-size=\"9\" x=\"238\" y=\"115\">MZI-PT</text><text font-size=\"7\" x=\"265\" y=\"134\">θ =1.077</text><text font-size=\"7\" x=\"265\" y=\"140\">ϕ =4.329</text><polyline fill=\"none\" points=\"310,30 330,30 360,60 400,60\" stroke=\"black\" stroke-width=\"2\" /><polyline fill=\"none\" points=\"310,60 330,60 360,30 400,30\" stroke=\"black\" stroke-width=\"2\" /><text font-size=\"9\" x=\"328\" y=\"25\">MZI-PT</text><text font-size=\"7\" x=\"355\" y=\"44\">θ =1.644</text><text font-size=\"7\" x=\"355\" y=\"50\">ϕ =5.607</text><polyline fill=\"none\" points=\"310,90 330,90 360,120 400,120\" stroke=\"black\" stroke-width=\"2\" /><polyline fill=\"none\" points=\"310,120 330,120 360,90 400,90\" stroke=\"black\" stroke-width=\"2\" /><text font-size=\"9\" x=\"328\" y=\"85\">MZI-PT</text><text font-size=\"7\" x=\"355\" y=\"104\">θ =1.335</text><text font-size=\"7\" x=\"355\" y=\"110\">ϕ =1.348</text><polyline fill=\"none\" points=\"310,150 330,150 360,180 400,180\" stroke=\"black\" stroke-width=\"2\" /><polyline fill=\"none\" points=\"310,180 330,180 360,150 400,150\" stroke=\"black\" stroke-width=\"2\" /><text font-size=\"9\" x=\"328\" y=\"145\">MZI-PT</text><text font-size=\"7\" x=\"355\" y=\"164\">θ =0.022</text><text font-size=\"7\" x=\"355\" y=\"170\">ϕ =4.174</text><polyline fill=\"none\" points=\"400,60 420,60 450,90 490,90\" stroke=\"black\" stroke-width=\"2\" /><polyline fill=\"none\" points=\"400,90 420,90 450,60 490,60\" stroke=\"black\" stroke-width=\"2\" /><text font-size=\"9\" x=\"418\" y=\"55\">MZI-PT</text><text font-size=\"7\" x=\"445\" y=\"74\">θ =0.874</text><text font-size=\"7\" x=\"445\" y=\"80\">ϕ =1.193</text><polyline fill=\"none\" points=\"400,120 420,120 450,150 490,150\" stroke=\"black\" stroke-width=\"2\" /><polyline fill=\"none\" points=\"400,150 420,150 450,120 490,120\" stroke=\"black\" stroke-width=\"2\" /><text font-size=\"9\" x=\"418\" y=\"115\">MZI-PT</text><text font-size=\"7\" x=\"445\" y=\"134\">θ =0.778</text><text font-size=\"7\" x=\"445\" y=\"140\">ϕ =0.376</text><polyline fill=\"none\" points=\"490,30 510,30 540,60 580,60\" stroke=\"black\" stroke-width=\"2\" /><polyline fill=\"none\" points=\"490,60 510,60 540,30 580,30\" stroke=\"black\" stroke-width=\"2\" /><text font-size=\"9\" x=\"508\" y=\"25\">MZI-PT</text><text font-size=\"7\" x=\"535\" y=\"44\">θ =0.365</text><text font-size=\"7\" x=\"535\" y=\"50\">ϕ =0.059</text><polyline fill=\"none\" points=\"490,90 510,90 540,120 580,120\" stroke=\"black\" stroke-width=\"2\" /><polyline fill=\"none\" points=\"490,120 510,120 540,90 580,90\" stroke=\"black\" stroke-width=\"2\" /><text font-size=\"9\" x=\"508\" y=\"85\">MZI-PT</text><text font-size=\"7\" x=\"535\" y=\"104\">θ =0.905</text><text font-size=\"7\" x=\"535\" y=\"110\">ϕ =0.328</text><polyline fill=\"none\" points=\"490,150 510,150 540,180 580,180\" stroke=\"black\" stroke-width=\"2\" /><polyline fill=\"none\" points=\"490,180 510,180 540,150 580,150\" stroke=\"black\" stroke-width=\"2\" /><text font-size=\"9\" x=\"508\" y=\"145\">MZI-PT</text><text font-size=\"7\" x=\"535\" y=\"164\">θ =0.603</text><text font-size=\"7\" x=\"535\" y=\"170\">ϕ =1.182</text><polyline fill=\"none\" points=\"580,60 600,60 630,90 670,90\" stroke=\"black\" stroke-width=\"2\" /><polyline fill=\"none\" points=\"580,90 600,90 630,60 670,60\" stroke=\"black\" stroke-width=\"2\" /><text font-size=\"9\" x=\"598\" y=\"55\">MZI-PT</text><text font-size=\"7\" x=\"625\" y=\"74\">θ =0.632</text><text font-size=\"7\" x=\"625\" y=\"80\">ϕ =3.74</text><polyline fill=\"none\" points=\"580,120 600,120 630,150 670,150\" stroke=\"black\" stroke-width=\"2\" /><polyline fill=\"none\" points=\"580,150 600,150 630,120 670,120\" stroke=\"black\" stroke-width=\"2\" /><text font-size=\"9\" x=\"598\" y=\"115\">MZI-PT</text><text font-size=\"7\" x=\"625\" y=\"134\">θ =0.843</text><text font-size=\"7\" x=\"625\" y=\"140\">ϕ =1.031</text><polyline fill=\"none\" points=\"580,30 670,30\" stroke=\"black\" stroke-width=\"2\" /><rect fill=\"teal\" height=\"12\" rx=\"0\" ry=\"0\" stroke=\"black\" stroke-width=\"1.5\" width=\"6\" x=\"622.5\" y=\"25\" /><text font-size=\"9\" x=\"620\" y=\"20\">PS</text><text font-size=\"7\" x=\"635\" y=\"20\">θ =4.973</text><polyline fill=\"none\" points=\"670,60 760,60\" stroke=\"black\" stroke-width=\"2\" /><rect fill=\"teal\" height=\"12\" rx=\"0\" ry=\"0\" stroke=\"black\" stroke-width=\"1.5\" width=\"6\" x=\"712.5\" y=\"55\" /><text font-size=\"9\" x=\"710\" y=\"50\">PS</text><text font-size=\"7\" x=\"725\" y=\"50\">θ =2.488</text><polyline fill=\"none\" points=\"670,90 760,90\" stroke=\"black\" stroke-width=\"2\" /><rect fill=\"teal\" height=\"12\" rx=\"0\" ry=\"0\" stroke=\"black\" stroke-width=\"1.5\" width=\"6\" x=\"712.5\" y=\"85\" /><text font-size=\"9\" x=\"710\" y=\"80\">PS</text><text font-size=\"7\" x=\"725\" y=\"80\">θ =5.63</text><polyline fill=\"none\" points=\"670,120 760,120\" stroke=\"black\" stroke-width=\"2\" /><rect fill=\"teal\" height=\"12\" rx=\"0\" ry=\"0\" stroke=\"black\" stroke-width=\"1.5\" width=\"6\" x=\"712.5\" y=\"115\" /><text font-size=\"9\" x=\"710\" y=\"110\">PS</text><text font-size=\"7\" x=\"725\" y=\"110\">θ =4.494</text><polyline fill=\"none\" points=\"670,150 760,150\" stroke=\"black\" stroke-width=\"2\" /><rect fill=\"teal\" height=\"12\" rx=\"0\" ry=\"0\" stroke=\"black\" stroke-width=\"1.5\" width=\"6\" x=\"712.5\" y=\"145\" /><text font-size=\"9\" x=\"710\" y=\"140\">PS</text><text font-size=\"7\" x=\"725\" y=\"140\">θ =4.494</text><polyline fill=\"none\" points=\"580,180 670,180\" stroke=\"black\" stroke-width=\"2\" /><rect fill=\"teal\" height=\"12\" rx=\"0\" ry=\"0\" stroke=\"black\" stroke-width=\"1.5\" width=\"6\" x=\"622.5\" y=\"175\" /><text font-size=\"9\" x=\"620\" y=\"170\">PS</text><text font-size=\"7\" x=\"635\" y=\"170\">θ =0.203</text><polyline fill=\"none\" points=\"220,30 310,30\" stroke=\"black\" stroke-width=\"2\" /><polyline fill=\"none\" points=\"220,180 310,180\" stroke=\"black\" stroke-width=\"2\" /><polyline fill=\"none\" points=\"400,30 490,30\" stroke=\"black\" stroke-width=\"2\" /><polyline fill=\"none\" points=\"400,180 490,180\" stroke=\"black\" stroke-width=\"2\" /><polyline fill=\"none\" points=\"670,30 760,30\" stroke=\"black\" stroke-width=\"2\" /><polyline fill=\"none\" points=\"670,180 760,180\" stroke=\"black\" stroke-width=\"2\" /><text font-size=\"12\" x=\"25\" y=\"30\">0</text><text font-size=\"12\" x=\"25\" y=\"60\">1</text><text font-size=\"12\" x=\"25\" y=\"90\">2</text><text font-size=\"12\" x=\"25\" y=\"120\">3</text><text font-size=\"12\" x=\"25\" y=\"150\">4</text><text font-size=\"12\" x=\"25\" y=\"180\">5</text></svg>"
      ],
      "text/plain": [
       "<svgwrite.drawing.Drawing at 0x152c100b3d0>"
      ]
     },
     "execution_count": 38,
     "metadata": {},
     "output_type": "execute_result"
    }
   ],
   "source": [
    "# 采用6个节点的图演示简单的高斯玻色采样\n",
    "a = np.array([[0., 1., 1., 0., 0., 0.],\n",
    "       [1., 0., 0., 1., 0., 1.],\n",
    "       [1., 0., 0., 0., 0., 0.],\n",
    "       [0., 1., 0., 0., 1., 1.],\n",
    "       [0., 0., 0., 1., 0., 0.],\n",
    "       [0., 1., 0., 1., 0., 0.]])\n",
    "gbs = dq.photonic.ansatz.GBS_Graph(adj_mat=torch.tensor(a), cutoff=2)\n",
    "state = gbs()\n",
    "sample = gbs.measure(shots=5000)\n",
    "gbs.draw()"
   ]
  },
  {
   "cell_type": "code",
   "execution_count": 39,
   "metadata": {},
   "outputs": [
    {
     "data": {
      "text/plain": [
       "{|011101>: 1,\n",
       " |000110>: 359,\n",
       " |000101>: 467,\n",
       " |110000>: 337,\n",
       " |000000>: 2311,\n",
       " |010001>: 267,\n",
       " |010100>: 411,\n",
       " |101000>: 393,\n",
       " |101110>: 52,\n",
       " |110101>: 57,\n",
       " |111100>: 63,\n",
       " |010111>: 61,\n",
       " |101101>: 88,\n",
       " |110110>: 63,\n",
       " |111001>: 63,\n",
       " |111111>: 3,\n",
       " |011011>: 1,\n",
       " |001111>: 1,\n",
       " |001010>: 2}"
      ]
     },
     "execution_count": 39,
     "metadata": {},
     "output_type": "execute_result"
    }
   ],
   "source": [
    "sample"
   ]
  },
  {
   "cell_type": "markdown",
   "metadata": {},
   "source": [
    "## 部分homodyne测量"
   ]
  },
  {
   "cell_type": "markdown",
   "metadata": {},
   "source": [
    "高斯后端还可以对几个mode做部分测量， 那么剩余的量子态会根据相应的测量结果塌缩, 通过`circ.homodyne` 实现，`wires`表示作用单条线路，`phi`对应测量角度。"
   ]
  },
  {
   "cell_type": "code",
   "execution_count": 40,
   "metadata": {},
   "outputs": [
    {
     "data": {
      "image/svg+xml": [
       "<svg baseProfile=\"full\" height=\"1.9090909090909092cm\" version=\"1.1\" width=\"12.0cm\" xmlns=\"http://www.w3.org/2000/svg\" xmlns:ev=\"http://www.w3.org/2001/xml-events\" xmlns:xlink=\"http://www.w3.org/1999/xlink\"><defs /><polyline fill=\"none\" points=\"40,30 130,30\" stroke=\"black\" stroke-width=\"2\" /><rect fill=\"royalblue\" height=\"12\" rx=\"0\" ry=\"0\" stroke=\"black\" stroke-width=\"1.5\" width=\"10\" x=\"82.5\" y=\"25\" /><text font-size=\"9\" x=\"83\" y=\"20\">S</text><text font-size=\"7\" x=\"95\" y=\"18\">r =1.0</text><text font-size=\"7\" x=\"95\" y=\"24\">θ =0.0</text><polyline fill=\"none\" points=\"40,60 130,60\" stroke=\"black\" stroke-width=\"2\" /><rect fill=\"royalblue\" height=\"12\" rx=\"0\" ry=\"0\" stroke=\"black\" stroke-width=\"1.5\" width=\"10\" x=\"82.5\" y=\"55\" /><text font-size=\"9\" x=\"83\" y=\"50\">S</text><text font-size=\"7\" x=\"95\" y=\"48\">r =1.0</text><text font-size=\"7\" x=\"95\" y=\"54\">θ =0.0</text><polyline fill=\"none\" points=\"130,30 220,30\" stroke=\"black\" stroke-width=\"2\" /><rect fill=\"green\" height=\"12\" rx=\"0\" ry=\"0\" stroke=\"black\" stroke-width=\"1.5\" width=\"10\" x=\"172.5\" y=\"25\" /><text font-size=\"9\" x=\"173\" y=\"20\">D</text><text font-size=\"7\" x=\"185\" y=\"18\">r =1.0</text><text font-size=\"7\" x=\"185\" y=\"24\">θ =0.0</text><polyline fill=\"none\" points=\"130,60 220,60\" stroke=\"black\" stroke-width=\"2\" /><rect fill=\"green\" height=\"12\" rx=\"0\" ry=\"0\" stroke=\"black\" stroke-width=\"1.5\" width=\"10\" x=\"172.5\" y=\"55\" /><text font-size=\"9\" x=\"173\" y=\"50\">D</text><text font-size=\"7\" x=\"185\" y=\"48\">r =1.0</text><text font-size=\"7\" x=\"185\" y=\"54\">θ =0.0</text><polyline fill=\"none\" points=\"220,30 240,30 270,60 310,60\" stroke=\"black\" stroke-width=\"2\" /><polyline fill=\"none\" points=\"220,60 240,60 270,30 310,30\" stroke=\"black\" stroke-width=\"2\" /><text font-size=\"9\" x=\"250\" y=\"25\">BS</text><text font-size=\"7\" x=\"265\" y=\"44\">θ =0.785</text><text font-size=\"7\" x=\"265\" y=\"50\">ϕ =0.785</text><polyline fill=\"none\" points=\"310,30 400,30\" stroke=\"black\" stroke-width=\"2\" /><rect fill=\"black\" height=\"14\" rx=\"0\" ry=\"0\" stroke=\"black\" stroke-width=\"1.5\" width=\"14\" x=\"352.5\" y=\"25\" /><text font-size=\"9\" x=\"355\" y=\"20\">M</text><path d=\"M 353.5 35.0 A 6 6 0 0 1 365.5 35.0\" fill=\"none\" stroke=\"white\" stroke-width=\"1.5\" /><path d=\"M 359.5 35.0 L 359.5 26.0\" fill=\"none\" stroke=\"white\" stroke-width=\"1.5\" transform=\"rotate(45 359.5 32.0)\" /><text font-size=\"7\" x=\"365\" y=\"20\">ϕ =0.0</text><polyline fill=\"none\" points=\"310,60 400,60\" stroke=\"black\" stroke-width=\"2\" /><text font-size=\"12\" x=\"25\" y=\"30\">0</text><text font-size=\"12\" x=\"25\" y=\"60\">1</text></svg>"
      ],
      "text/plain": [
       "<svgwrite.drawing.Drawing at 0x152e923e6e0>"
      ]
     },
     "execution_count": 40,
     "metadata": {},
     "output_type": "execute_result"
    }
   ],
   "source": [
    "circ = dq.photonic.QumodeCircuit(nmode=2, init_state='vac', cutoff=3, backend='gaussian')\n",
    "circ.s(wires=[0], r=1)\n",
    "circ.s(wires=[1], r=1)\n",
    "circ.d(wires=[0], r=1)\n",
    "circ.d(wires=[1], r=1)\n",
    "circ.bs(wires=[0,1], inputs=[np.pi/4,np.pi/4])\n",
    "circ.homodyne(wires = 0, phi=0)\n",
    "#线路可视化\n",
    "circ.draw()"
   ]
  },
  {
   "cell_type": "code",
   "execution_count": 41,
   "metadata": {},
   "outputs": [],
   "source": [
    "state = circ()\n",
    "sample = circ.measure_homodyne(shots=1) # 运行线路并进行一次采样\n",
    "state_measured = circ.state_measured # 得到采样后坍缩的量子态"
   ]
  },
  {
   "cell_type": "code",
   "execution_count": 42,
   "metadata": {},
   "outputs": [
    {
     "data": {
      "text/plain": [
       "(tensor(1.5715),\n",
       " [tensor([[[ 1.0000,  0.0000,  0.0000,  0.0000],\n",
       "           [ 0.0000,  1.9488,  0.0000, -1.8134],\n",
       "           [ 0.0000,  0.0000,  1.0000,  0.0000],\n",
       "           [ 0.0000, -1.8134,  0.0000,  2.2006]]]),\n",
       "  tensor([[[ 0.0000],\n",
       "           [ 2.4146],\n",
       "           [ 0.0000],\n",
       "           [-0.5233]]])])"
      ]
     },
     "execution_count": 42,
     "metadata": {},
     "output_type": "execute_result"
    }
   ],
   "source": [
    "sample, state_measured"
   ]
  },
  {
   "cell_type": "markdown",
   "metadata": {},
   "source": [
    "## 延时线圈组成的时分复用线路"
   ]
  },
  {
   "cell_type": "markdown",
   "metadata": {},
   "source": [
    "通过`cir.delay`加入可调延时线圈，参数`wires` 表示作用的波导，`ntau`表示延时线圈内延时的个数， `inputs` 表示延时线圈中可调参数， `convention` 对应两种，`bs`和`mzi`, 默认是`bs`, 对应延时线有一个可调BS和PS. `encode` 控制角度自由编码。"
   ]
  },
  {
   "cell_type": "code",
   "execution_count": 43,
   "metadata": {},
   "outputs": [
    {
     "data": {
      "image/svg+xml": [
       "<svg baseProfile=\"full\" height=\"1.9090909090909092cm\" version=\"1.1\" width=\"9.3cm\" xmlns=\"http://www.w3.org/2000/svg\" xmlns:ev=\"http://www.w3.org/2001/xml-events\" xmlns:xlink=\"http://www.w3.org/1999/xlink\"><defs /><polyline fill=\"none\" points=\"40,30 130,30\" stroke=\"black\" stroke-width=\"2\" /><rect fill=\"royalblue\" height=\"12\" rx=\"0\" ry=\"0\" stroke=\"black\" stroke-width=\"1.5\" width=\"10\" x=\"82.5\" y=\"25\" /><text font-size=\"9\" x=\"83\" y=\"20\">S</text><text font-size=\"7\" x=\"95\" y=\"18\">r =0.628</text><text font-size=\"7\" x=\"95\" y=\"24\">θ =3.157</text><polyline fill=\"none\" points=\"40,60 130,60\" stroke=\"black\" stroke-width=\"2\" /><rect fill=\"royalblue\" height=\"12\" rx=\"0\" ry=\"0\" stroke=\"black\" stroke-width=\"1.5\" width=\"10\" x=\"82.5\" y=\"55\" /><text font-size=\"9\" x=\"83\" y=\"50\">S</text><text font-size=\"7\" x=\"95\" y=\"48\">r =0.749</text><text font-size=\"7\" x=\"95\" y=\"54\">θ =0.248</text><polyline fill=\"none\" points=\"130,30 150,30 180,60 220,60\" stroke=\"black\" stroke-width=\"2\" /><polyline fill=\"none\" points=\"130,60 150,60 180,30 220,30\" stroke=\"black\" stroke-width=\"2\" /><text font-size=\"9\" x=\"160\" y=\"25\">BS</text><text font-size=\"7\" x=\"175\" y=\"44\">θ =3.0</text><text font-size=\"7\" x=\"175\" y=\"50\">ϕ =1.571</text><polyline fill=\"none\" points=\"220,30 310,30\" stroke=\"black\" stroke-width=\"2\" /><circle cx=\"266\" cy=\"21\" fill=\"white\" r=\"9\" stroke=\"black\" stroke-width=\"1.2\" /><text font-size=\"5\" x=\"260\" y=\"18\">N =1</text><text font-size=\"6\" x=\"278\" y=\"18\">θ =[3.]</text><text font-size=\"6\" x=\"278\" y=\"24\">ϕ =0.0</text><polyline fill=\"none\" points=\"220,60 310,60\" stroke=\"black\" stroke-width=\"2\" /><circle cx=\"266\" cy=\"51\" fill=\"white\" r=\"9\" stroke=\"black\" stroke-width=\"1.2\" /><text font-size=\"5\" x=\"260\" y=\"48\">N =1</text><text font-size=\"6\" x=\"278\" y=\"48\">θ =[3.]</text><text font-size=\"6\" x=\"278\" y=\"54\">ϕ =0.0</text><text font-size=\"12\" x=\"25\" y=\"30\">0</text><text font-size=\"12\" x=\"25\" y=\"60\">1</text></svg>"
      ],
      "text/plain": [
       "<svgwrite.drawing.Drawing at 0x152e923fac0>"
      ]
     },
     "execution_count": 43,
     "metadata": {},
     "output_type": "execute_result"
    }
   ],
   "source": [
    "r=5\n",
    "nmode = 2\n",
    "cir = dq.QumodeCircuitTDM(nmode=nmode, init_state='vac', cutoff=3)\n",
    "cir.s(0)\n",
    "cir.s(1)\n",
    "cir.bs_theta([0,1], [3])\n",
    "cir.delay(0, ntau = 1, inputs=[3,0], encode=True)\n",
    "cir.delay(1, ntau = 1, inputs=[3,0], encode=True)\n",
    "cir.draw()"
   ]
  },
  {
   "cell_type": "markdown",
   "metadata": {},
   "source": [
    "通过控制`encode=True`可以实现对不同时刻编码不同角度，从而制备不同的纠缠态，下面是EPR态的例子, 第一次测量设置延时线圈参数为\n",
    "$[\\pi/2, \\pi/2]$, 第二次测量设置为$[\\pi/4, 0]$， 然后周期性重复角度测量可以得到纠缠的EPR态。"
   ]
  },
  {
   "cell_type": "code",
   "execution_count": 44,
   "metadata": {},
   "outputs": [
    {
     "data": {
      "text/plain": [
       "tensor([ 3.5459e-01,  1.9252e+03,  1.9252e+03, -5.3627e+03, -5.3627e+03,\n",
       "         3.9202e+03,  3.9202e+03,  1.6300e+03,  1.6300e+03, -2.3322e+03,\n",
       "        -2.3322e+03, -5.9210e+03, -5.9210e+03])"
      ]
     },
     "execution_count": 44,
     "metadata": {},
     "output_type": "execute_result"
    }
   ],
   "source": [
    "r=9\n",
    "nmode = 1\n",
    "cir = dq.QumodeCircuitTDM(nmode=nmode, init_state='vac', cutoff=3)\n",
    "cir.s(0, r=r)\n",
    "cir.delay(0, ntau=1, inputs=[np.pi/2, np.pi/2], encode=True) # 参数编码\n",
    "cir.homodyne_x(0)\n",
    "# cir.draw()\n",
    "data1 = torch.tensor([[np.pi/2, np.pi/2],\n",
    "                      [np.pi/4, 0]]) # 周期性参数组合\n",
    "data2 = data1.unsqueeze(0)\n",
    "test = cir(data=data2, nstep=13)\n",
    "sample = cir.samples\n",
    "sample"
   ]
  },
  {
   "cell_type": "markdown",
   "metadata": {},
   "source": [
    "### 空间线路的转译"
   ]
  },
  {
   "cell_type": "markdown",
   "metadata": {},
   "source": [
    "通过`cir.draw(unroll=True)` 可以得到初次测量的等效的空间线路 "
   ]
  },
  {
   "cell_type": "code",
   "execution_count": 45,
   "metadata": {},
   "outputs": [
    {
     "data": {
      "image/svg+xml": [
       "<svg baseProfile=\"full\" height=\"1.9090909090909092cm\" version=\"1.1\" width=\"9.3cm\" xmlns=\"http://www.w3.org/2000/svg\" xmlns:ev=\"http://www.w3.org/2001/xml-events\" xmlns:xlink=\"http://www.w3.org/1999/xlink\"><defs /><polyline fill=\"none\" points=\"40,60 130,60\" stroke=\"black\" stroke-width=\"2\" /><rect fill=\"royalblue\" height=\"12\" rx=\"0\" ry=\"0\" stroke=\"black\" stroke-width=\"1.5\" width=\"10\" x=\"82.5\" y=\"55\" /><text font-size=\"9\" x=\"83\" y=\"50\">S</text><text font-size=\"7\" x=\"95\" y=\"48\">r =9.0</text><text font-size=\"7\" x=\"95\" y=\"54\">θ =0.0</text><polyline fill=\"none\" points=\"130,30 150,30 180,60 220,60\" stroke=\"black\" stroke-width=\"2\" /><polyline fill=\"none\" points=\"130,60 150,60 180,30 220,30\" stroke=\"black\" stroke-width=\"2\" /><text font-size=\"9\" x=\"160\" y=\"25\">BS</text><text font-size=\"7\" x=\"175\" y=\"44\">θ =1.571</text><text font-size=\"7\" x=\"175\" y=\"50\">ϕ =1.571</text><polyline fill=\"none\" points=\"220,30 310,30\" stroke=\"black\" stroke-width=\"2\" /><rect fill=\"teal\" height=\"12\" rx=\"0\" ry=\"0\" stroke=\"black\" stroke-width=\"1.5\" width=\"6\" x=\"262.5\" y=\"25\" /><text font-size=\"9\" x=\"260\" y=\"20\">PS</text><text font-size=\"7\" x=\"275\" y=\"20\">θ =1.571</text><polyline fill=\"none\" points=\"220,60 310,60\" stroke=\"black\" stroke-width=\"2\" /><rect fill=\"black\" height=\"14\" rx=\"0\" ry=\"0\" stroke=\"black\" stroke-width=\"1.5\" width=\"14\" x=\"262.5\" y=\"55\" /><text font-size=\"9\" x=\"265\" y=\"50\">M</text><path d=\"M 263.5 65.0 A 6 6 0 0 1 275.5 65.0\" fill=\"none\" stroke=\"white\" stroke-width=\"1.5\" /><path d=\"M 269.5 65.0 L 269.5 56.0\" fill=\"none\" stroke=\"white\" stroke-width=\"1.5\" transform=\"rotate(45 269.5 62.0)\" /><text font-size=\"7\" x=\"275\" y=\"50\">ϕ =0.0</text><polyline fill=\"none\" points=\"40,30 130,30\" stroke=\"black\" stroke-width=\"2\" /><text font-size=\"12\" x=\"25\" y=\"30\">0</text><text font-size=\"12\" x=\"25\" y=\"60\">1</text></svg>"
      ],
      "text/plain": [
       "<svgwrite.drawing.Drawing at 0x152e923f610>"
      ]
     },
     "execution_count": 45,
     "metadata": {},
     "output_type": "execute_result"
    }
   ],
   "source": [
    "cir.draw(unroll=True)"
   ]
  },
  {
   "cell_type": "markdown",
   "metadata": {},
   "source": [
    "若要进行n次测量实验， 得到对应的空间等效线路，可以通过`circ.global_circuit` , 设置`nstep`得到"
   ]
  },
  {
   "cell_type": "code",
   "execution_count": 46,
   "metadata": {},
   "outputs": [
    {
     "data": {
      "image/svg+xml": [
       "<svg baseProfile=\"full\" height=\"3.8181818181818183cm\" version=\"1.1\" width=\"25.5cm\" xmlns=\"http://www.w3.org/2000/svg\" xmlns:ev=\"http://www.w3.org/2001/xml-events\" xmlns:xlink=\"http://www.w3.org/1999/xlink\"><defs /><polyline fill=\"none\" points=\"40,60 130,60\" stroke=\"black\" stroke-width=\"2\" /><rect fill=\"royalblue\" height=\"12\" rx=\"0\" ry=\"0\" stroke=\"black\" stroke-width=\"1.5\" width=\"10\" x=\"82.5\" y=\"55\" /><text font-size=\"9\" x=\"83\" y=\"50\">S</text><text font-size=\"7\" x=\"95\" y=\"48\">r =9.0</text><text font-size=\"7\" x=\"95\" y=\"54\">θ =0.0</text><polyline fill=\"none\" points=\"130,30 150,30 180,60 220,60\" stroke=\"black\" stroke-width=\"2\" /><polyline fill=\"none\" points=\"130,60 150,60 180,30 220,30\" stroke=\"black\" stroke-width=\"2\" /><text font-size=\"9\" x=\"160\" y=\"25\">BS</text><text font-size=\"7\" x=\"175\" y=\"44\">θ =1.571</text><text font-size=\"7\" x=\"175\" y=\"50\">ϕ =1.571</text><polyline fill=\"none\" points=\"220,30 310,30\" stroke=\"black\" stroke-width=\"2\" /><rect fill=\"teal\" height=\"12\" rx=\"0\" ry=\"0\" stroke=\"black\" stroke-width=\"1.5\" width=\"6\" x=\"262.5\" y=\"25\" /><text font-size=\"9\" x=\"260\" y=\"20\">PS</text><text font-size=\"7\" x=\"275\" y=\"20\">θ =1.571</text><polyline fill=\"none\" points=\"220,60 310,60\" stroke=\"black\" stroke-width=\"2\" /><rect fill=\"black\" height=\"14\" rx=\"0\" ry=\"0\" stroke=\"black\" stroke-width=\"1.5\" width=\"14\" x=\"262.5\" y=\"55\" /><text font-size=\"9\" x=\"265\" y=\"50\">M</text><path d=\"M 263.5 65.0 A 6 6 0 0 1 275.5 65.0\" fill=\"none\" stroke=\"white\" stroke-width=\"1.5\" /><path d=\"M 269.5 65.0 L 269.5 56.0\" fill=\"none\" stroke=\"white\" stroke-width=\"1.5\" transform=\"rotate(45 269.5 62.0)\" /><text font-size=\"7\" x=\"275\" y=\"50\">ϕ =0.0</text><polyline fill=\"none\" points=\"40,30 130,30\" stroke=\"black\" stroke-width=\"2\" /><polyline fill=\"none\" points=\"40,90 130,90\" stroke=\"black\" stroke-width=\"2\" /><polyline fill=\"none\" points=\"40,120 130,120\" stroke=\"black\" stroke-width=\"2\" /><polyline fill=\"none\" points=\"130,90 220,90\" stroke=\"black\" stroke-width=\"2\" /><polyline fill=\"none\" points=\"130,120 220,120\" stroke=\"black\" stroke-width=\"2\" /><polyline fill=\"none\" points=\"220,90 310,90\" stroke=\"black\" stroke-width=\"2\" /><polyline fill=\"none\" points=\"220,120 310,120\" stroke=\"black\" stroke-width=\"2\" /><text font-size=\"12\" x=\"25\" y=\"30\">0</text><text font-size=\"12\" x=\"25\" y=\"60\">1</text><text font-size=\"12\" x=\"25\" y=\"90\">2</text><text font-size=\"12\" x=\"25\" y=\"120\">3</text><polyline fill=\"none\" points=\"310,15 310,145\" stroke=\"black\" stroke-dasharray=\"5,5\" stroke-width=\"2\" /><polyline fill=\"none\" points=\"310,90 400,90\" stroke=\"black\" stroke-width=\"2\" /><rect fill=\"royalblue\" height=\"12\" rx=\"0\" ry=\"0\" stroke=\"black\" stroke-width=\"1.5\" width=\"10\" x=\"352.5\" y=\"85\" /><text font-size=\"9\" x=\"353\" y=\"80\">S</text><text font-size=\"7\" x=\"365\" y=\"78\">r =9.0</text><text font-size=\"7\" x=\"365\" y=\"84\">θ =0.0</text><polyline fill=\"none\" points=\"400,30 420,30 450,90 490,90\" stroke=\"black\" stroke-width=\"2\" /><polyline fill=\"none\" points=\"400,90 420,90 450,30 490,30\" stroke=\"black\" stroke-width=\"2\" /><text font-size=\"9\" x=\"430\" y=\"25\">BS</text><text font-size=\"7\" x=\"445\" y=\"44\">θ =1.571</text><text font-size=\"7\" x=\"445\" y=\"50\">ϕ =1.571</text><polyline fill=\"none\" points=\"490,30 580,30\" stroke=\"black\" stroke-width=\"2\" /><rect fill=\"teal\" height=\"12\" rx=\"0\" ry=\"0\" stroke=\"black\" stroke-width=\"1.5\" width=\"6\" x=\"532.5\" y=\"25\" /><text font-size=\"9\" x=\"530\" y=\"20\">PS</text><text font-size=\"7\" x=\"545\" y=\"20\">θ =1.571</text><polyline fill=\"none\" points=\"490,90 580,90\" stroke=\"black\" stroke-width=\"2\" /><rect fill=\"black\" height=\"14\" rx=\"0\" ry=\"0\" stroke=\"black\" stroke-width=\"1.5\" width=\"14\" x=\"532.5\" y=\"85\" /><text font-size=\"9\" x=\"535\" y=\"80\">M</text><path d=\"M 533.5 95.0 A 6 6 0 0 1 545.5 95.0\" fill=\"none\" stroke=\"white\" stroke-width=\"1.5\" /><path d=\"M 539.5 95.0 L 539.5 86.0\" fill=\"none\" stroke=\"white\" stroke-width=\"1.5\" transform=\"rotate(45 539.5 92.0)\" /><text font-size=\"7\" x=\"545\" y=\"80\">ϕ =0.0</text><polyline fill=\"none\" points=\"310,30 400,30\" stroke=\"black\" stroke-width=\"2\" /><polyline fill=\"none\" points=\"310,60 400,60\" stroke=\"black\" stroke-width=\"2\" /><polyline fill=\"none\" points=\"310,120 400,120\" stroke=\"black\" stroke-width=\"2\" /><polyline fill=\"none\" points=\"400,60 490,60\" stroke=\"black\" stroke-width=\"2\" /><polyline fill=\"none\" points=\"400,120 490,120\" stroke=\"black\" stroke-width=\"2\" /><polyline fill=\"none\" points=\"490,60 580,60\" stroke=\"black\" stroke-width=\"2\" /><polyline fill=\"none\" points=\"490,120 580,120\" stroke=\"black\" stroke-width=\"2\" /><text font-size=\"12\" x=\"25\" y=\"30\">0</text><text font-size=\"12\" x=\"25\" y=\"60\">1</text><text font-size=\"12\" x=\"25\" y=\"90\">2</text><text font-size=\"12\" x=\"25\" y=\"120\">3</text><polyline fill=\"none\" points=\"580,15 580,145\" stroke=\"black\" stroke-dasharray=\"5,5\" stroke-width=\"2\" /><polyline fill=\"none\" points=\"580,120 670,120\" stroke=\"black\" stroke-width=\"2\" /><rect fill=\"royalblue\" height=\"12\" rx=\"0\" ry=\"0\" stroke=\"black\" stroke-width=\"1.5\" width=\"10\" x=\"622.5\" y=\"115\" /><text font-size=\"9\" x=\"623\" y=\"110\">S</text><text font-size=\"7\" x=\"635\" y=\"108\">r =9.0</text><text font-size=\"7\" x=\"635\" y=\"114\">θ =0.0</text><polyline fill=\"none\" points=\"670,30 690,30 720,120 760,120\" stroke=\"black\" stroke-width=\"2\" /><polyline fill=\"none\" points=\"670,120 690,120 720,30 760,30\" stroke=\"black\" stroke-width=\"2\" /><text font-size=\"9\" x=\"700\" y=\"25\">BS</text><text font-size=\"7\" x=\"715\" y=\"44\">θ =1.571</text><text font-size=\"7\" x=\"715\" y=\"50\">ϕ =1.571</text><polyline fill=\"none\" points=\"760,30 850,30\" stroke=\"black\" stroke-width=\"2\" /><rect fill=\"teal\" height=\"12\" rx=\"0\" ry=\"0\" stroke=\"black\" stroke-width=\"1.5\" width=\"6\" x=\"802.5\" y=\"25\" /><text font-size=\"9\" x=\"800\" y=\"20\">PS</text><text font-size=\"7\" x=\"815\" y=\"20\">θ =1.571</text><polyline fill=\"none\" points=\"760,120 850,120\" stroke=\"black\" stroke-width=\"2\" /><rect fill=\"black\" height=\"14\" rx=\"0\" ry=\"0\" stroke=\"black\" stroke-width=\"1.5\" width=\"14\" x=\"802.5\" y=\"115\" /><text font-size=\"9\" x=\"805\" y=\"110\">M</text><path d=\"M 803.5 125.0 A 6 6 0 0 1 815.5 125.0\" fill=\"none\" stroke=\"white\" stroke-width=\"1.5\" /><path d=\"M 809.5 125.0 L 809.5 116.0\" fill=\"none\" stroke=\"white\" stroke-width=\"1.5\" transform=\"rotate(45 809.5 122.0)\" /><text font-size=\"7\" x=\"815\" y=\"110\">ϕ =0.0</text><polyline fill=\"none\" points=\"580,30 670,30\" stroke=\"black\" stroke-width=\"2\" /><polyline fill=\"none\" points=\"580,60 670,60\" stroke=\"black\" stroke-width=\"2\" /><polyline fill=\"none\" points=\"580,90 670,90\" stroke=\"black\" stroke-width=\"2\" /><polyline fill=\"none\" points=\"670,60 760,60\" stroke=\"black\" stroke-width=\"2\" /><polyline fill=\"none\" points=\"670,90 760,90\" stroke=\"black\" stroke-width=\"2\" /><polyline fill=\"none\" points=\"760,60 850,60\" stroke=\"black\" stroke-width=\"2\" /><polyline fill=\"none\" points=\"760,90 850,90\" stroke=\"black\" stroke-width=\"2\" /><text font-size=\"12\" x=\"25\" y=\"30\">0</text><text font-size=\"12\" x=\"25\" y=\"60\">1</text><text font-size=\"12\" x=\"25\" y=\"90\">2</text><text font-size=\"12\" x=\"25\" y=\"120\">3</text><polyline fill=\"none\" points=\"850,15 850,145\" stroke=\"black\" stroke-dasharray=\"5,5\" stroke-width=\"2\" /></svg>"
      ],
      "text/plain": [
       "<svgwrite.drawing.Drawing at 0x152e923e980>"
      ]
     },
     "execution_count": 46,
     "metadata": {},
     "output_type": "execute_result"
    }
   ],
   "source": [
    "cir_global = cir.global_circuit(nstep=3)\n",
    "cir_global.draw(unroll=True) # draw global circuit"
   ]
  },
  {
   "cell_type": "markdown",
   "metadata": {},
   "source": [
    "当设置对应的`encode=True`, 就可以自由编码global 线路的角度"
   ]
  },
  {
   "cell_type": "code",
   "execution_count": 47,
   "metadata": {},
   "outputs": [],
   "source": [
    "data = torch.tensor([0]*cir_global.ndata)\n",
    "state = cir_global(data=data)"
   ]
  },
  {
   "cell_type": "code",
   "execution_count": 48,
   "metadata": {},
   "outputs": [
    {
     "data": {
      "image/svg+xml": [
       "<svg baseProfile=\"full\" height=\"3.8181818181818183cm\" version=\"1.1\" width=\"25.5cm\" xmlns=\"http://www.w3.org/2000/svg\" xmlns:ev=\"http://www.w3.org/2001/xml-events\" xmlns:xlink=\"http://www.w3.org/1999/xlink\"><defs /><polyline fill=\"none\" points=\"40,60 130,60\" stroke=\"black\" stroke-width=\"2\" /><rect fill=\"royalblue\" height=\"12\" rx=\"0\" ry=\"0\" stroke=\"black\" stroke-width=\"1.5\" width=\"10\" x=\"82.5\" y=\"55\" /><text font-size=\"9\" x=\"83\" y=\"50\">S</text><text font-size=\"7\" x=\"95\" y=\"48\">r =9.0</text><text font-size=\"7\" x=\"95\" y=\"54\">θ =0.0</text><polyline fill=\"none\" points=\"130,30 150,30 180,60 220,60\" stroke=\"black\" stroke-width=\"2\" /><polyline fill=\"none\" points=\"130,60 150,60 180,30 220,30\" stroke=\"black\" stroke-width=\"2\" /><text font-size=\"9\" x=\"160\" y=\"25\">BS</text><text font-size=\"7\" x=\"175\" y=\"44\">θ =0</text><text font-size=\"7\" x=\"175\" y=\"50\">ϕ =1.571</text><polyline fill=\"none\" points=\"220,30 310,30\" stroke=\"black\" stroke-width=\"2\" /><rect fill=\"teal\" height=\"12\" rx=\"0\" ry=\"0\" stroke=\"black\" stroke-width=\"1.5\" width=\"6\" x=\"262.5\" y=\"25\" /><text font-size=\"9\" x=\"260\" y=\"20\">PS</text><text font-size=\"7\" x=\"275\" y=\"20\">θ =0</text><polyline fill=\"none\" points=\"220,60 310,60\" stroke=\"black\" stroke-width=\"2\" /><rect fill=\"black\" height=\"14\" rx=\"0\" ry=\"0\" stroke=\"black\" stroke-width=\"1.5\" width=\"14\" x=\"262.5\" y=\"55\" /><text font-size=\"9\" x=\"265\" y=\"50\">M</text><path d=\"M 263.5 65.0 A 6 6 0 0 1 275.5 65.0\" fill=\"none\" stroke=\"white\" stroke-width=\"1.5\" /><path d=\"M 269.5 65.0 L 269.5 56.0\" fill=\"none\" stroke=\"white\" stroke-width=\"1.5\" transform=\"rotate(45 269.5 62.0)\" /><text font-size=\"7\" x=\"275\" y=\"50\">ϕ =0.0</text><polyline fill=\"none\" points=\"40,30 130,30\" stroke=\"black\" stroke-width=\"2\" /><polyline fill=\"none\" points=\"40,90 130,90\" stroke=\"black\" stroke-width=\"2\" /><polyline fill=\"none\" points=\"40,120 130,120\" stroke=\"black\" stroke-width=\"2\" /><polyline fill=\"none\" points=\"130,90 220,90\" stroke=\"black\" stroke-width=\"2\" /><polyline fill=\"none\" points=\"130,120 220,120\" stroke=\"black\" stroke-width=\"2\" /><polyline fill=\"none\" points=\"220,90 310,90\" stroke=\"black\" stroke-width=\"2\" /><polyline fill=\"none\" points=\"220,120 310,120\" stroke=\"black\" stroke-width=\"2\" /><text font-size=\"12\" x=\"25\" y=\"30\">0</text><text font-size=\"12\" x=\"25\" y=\"60\">1</text><text font-size=\"12\" x=\"25\" y=\"90\">2</text><text font-size=\"12\" x=\"25\" y=\"120\">3</text><polyline fill=\"none\" points=\"310,15 310,145\" stroke=\"black\" stroke-dasharray=\"5,5\" stroke-width=\"2\" /><polyline fill=\"none\" points=\"310,90 400,90\" stroke=\"black\" stroke-width=\"2\" /><rect fill=\"royalblue\" height=\"12\" rx=\"0\" ry=\"0\" stroke=\"black\" stroke-width=\"1.5\" width=\"10\" x=\"352.5\" y=\"85\" /><text font-size=\"9\" x=\"353\" y=\"80\">S</text><text font-size=\"7\" x=\"365\" y=\"78\">r =9.0</text><text font-size=\"7\" x=\"365\" y=\"84\">θ =0.0</text><polyline fill=\"none\" points=\"400,30 420,30 450,90 490,90\" stroke=\"black\" stroke-width=\"2\" /><polyline fill=\"none\" points=\"400,90 420,90 450,30 490,30\" stroke=\"black\" stroke-width=\"2\" /><text font-size=\"9\" x=\"430\" y=\"25\">BS</text><text font-size=\"7\" x=\"445\" y=\"44\">θ =0</text><text font-size=\"7\" x=\"445\" y=\"50\">ϕ =1.571</text><polyline fill=\"none\" points=\"490,30 580,30\" stroke=\"black\" stroke-width=\"2\" /><rect fill=\"teal\" height=\"12\" rx=\"0\" ry=\"0\" stroke=\"black\" stroke-width=\"1.5\" width=\"6\" x=\"532.5\" y=\"25\" /><text font-size=\"9\" x=\"530\" y=\"20\">PS</text><text font-size=\"7\" x=\"545\" y=\"20\">θ =0</text><polyline fill=\"none\" points=\"490,90 580,90\" stroke=\"black\" stroke-width=\"2\" /><rect fill=\"black\" height=\"14\" rx=\"0\" ry=\"0\" stroke=\"black\" stroke-width=\"1.5\" width=\"14\" x=\"532.5\" y=\"85\" /><text font-size=\"9\" x=\"535\" y=\"80\">M</text><path d=\"M 533.5 95.0 A 6 6 0 0 1 545.5 95.0\" fill=\"none\" stroke=\"white\" stroke-width=\"1.5\" /><path d=\"M 539.5 95.0 L 539.5 86.0\" fill=\"none\" stroke=\"white\" stroke-width=\"1.5\" transform=\"rotate(45 539.5 92.0)\" /><text font-size=\"7\" x=\"545\" y=\"80\">ϕ =0.0</text><polyline fill=\"none\" points=\"310,30 400,30\" stroke=\"black\" stroke-width=\"2\" /><polyline fill=\"none\" points=\"310,60 400,60\" stroke=\"black\" stroke-width=\"2\" /><polyline fill=\"none\" points=\"310,120 400,120\" stroke=\"black\" stroke-width=\"2\" /><polyline fill=\"none\" points=\"400,60 490,60\" stroke=\"black\" stroke-width=\"2\" /><polyline fill=\"none\" points=\"400,120 490,120\" stroke=\"black\" stroke-width=\"2\" /><polyline fill=\"none\" points=\"490,60 580,60\" stroke=\"black\" stroke-width=\"2\" /><polyline fill=\"none\" points=\"490,120 580,120\" stroke=\"black\" stroke-width=\"2\" /><text font-size=\"12\" x=\"25\" y=\"30\">0</text><text font-size=\"12\" x=\"25\" y=\"60\">1</text><text font-size=\"12\" x=\"25\" y=\"90\">2</text><text font-size=\"12\" x=\"25\" y=\"120\">3</text><polyline fill=\"none\" points=\"580,15 580,145\" stroke=\"black\" stroke-dasharray=\"5,5\" stroke-width=\"2\" /><polyline fill=\"none\" points=\"580,120 670,120\" stroke=\"black\" stroke-width=\"2\" /><rect fill=\"royalblue\" height=\"12\" rx=\"0\" ry=\"0\" stroke=\"black\" stroke-width=\"1.5\" width=\"10\" x=\"622.5\" y=\"115\" /><text font-size=\"9\" x=\"623\" y=\"110\">S</text><text font-size=\"7\" x=\"635\" y=\"108\">r =9.0</text><text font-size=\"7\" x=\"635\" y=\"114\">θ =0.0</text><polyline fill=\"none\" points=\"670,30 690,30 720,120 760,120\" stroke=\"black\" stroke-width=\"2\" /><polyline fill=\"none\" points=\"670,120 690,120 720,30 760,30\" stroke=\"black\" stroke-width=\"2\" /><text font-size=\"9\" x=\"700\" y=\"25\">BS</text><text font-size=\"7\" x=\"715\" y=\"44\">θ =0</text><text font-size=\"7\" x=\"715\" y=\"50\">ϕ =1.571</text><polyline fill=\"none\" points=\"760,30 850,30\" stroke=\"black\" stroke-width=\"2\" /><rect fill=\"teal\" height=\"12\" rx=\"0\" ry=\"0\" stroke=\"black\" stroke-width=\"1.5\" width=\"6\" x=\"802.5\" y=\"25\" /><text font-size=\"9\" x=\"800\" y=\"20\">PS</text><text font-size=\"7\" x=\"815\" y=\"20\">θ =0</text><polyline fill=\"none\" points=\"760,120 850,120\" stroke=\"black\" stroke-width=\"2\" /><rect fill=\"black\" height=\"14\" rx=\"0\" ry=\"0\" stroke=\"black\" stroke-width=\"1.5\" width=\"14\" x=\"802.5\" y=\"115\" /><text font-size=\"9\" x=\"805\" y=\"110\">M</text><path d=\"M 803.5 125.0 A 6 6 0 0 1 815.5 125.0\" fill=\"none\" stroke=\"white\" stroke-width=\"1.5\" /><path d=\"M 809.5 125.0 L 809.5 116.0\" fill=\"none\" stroke=\"white\" stroke-width=\"1.5\" transform=\"rotate(45 809.5 122.0)\" /><text font-size=\"7\" x=\"815\" y=\"110\">ϕ =0.0</text><polyline fill=\"none\" points=\"580,30 670,30\" stroke=\"black\" stroke-width=\"2\" /><polyline fill=\"none\" points=\"580,60 670,60\" stroke=\"black\" stroke-width=\"2\" /><polyline fill=\"none\" points=\"580,90 670,90\" stroke=\"black\" stroke-width=\"2\" /><polyline fill=\"none\" points=\"670,60 760,60\" stroke=\"black\" stroke-width=\"2\" /><polyline fill=\"none\" points=\"670,90 760,90\" stroke=\"black\" stroke-width=\"2\" /><polyline fill=\"none\" points=\"760,60 850,60\" stroke=\"black\" stroke-width=\"2\" /><polyline fill=\"none\" points=\"760,90 850,90\" stroke=\"black\" stroke-width=\"2\" /><text font-size=\"12\" x=\"25\" y=\"30\">0</text><text font-size=\"12\" x=\"25\" y=\"60\">1</text><text font-size=\"12\" x=\"25\" y=\"90\">2</text><text font-size=\"12\" x=\"25\" y=\"120\">3</text><polyline fill=\"none\" points=\"850,15 850,145\" stroke=\"black\" stroke-dasharray=\"5,5\" stroke-width=\"2\" /></svg>"
      ],
      "text/plain": [
       "<svgwrite.drawing.Drawing at 0x152e923f970>"
      ]
     },
     "execution_count": 48,
     "metadata": {},
     "output_type": "execute_result"
    }
   ],
   "source": [
    "cir_global.draw(unroll=True) # draw global circuit"
   ]
  }
 ],
 "metadata": {
  "kernelspec": {
   "display_name": "dq_cuda_240",
   "language": "python",
   "name": "python3"
  },
  "language_info": {
   "codemirror_mode": {
    "name": "ipython",
    "version": 3
   },
   "file_extension": ".py",
   "mimetype": "text/x-python",
   "name": "python",
   "nbconvert_exporter": "python",
   "pygments_lexer": "ipython3",
   "version": "3.10.14"
  }
 },
 "nbformat": 4,
 "nbformat_minor": 2
}
